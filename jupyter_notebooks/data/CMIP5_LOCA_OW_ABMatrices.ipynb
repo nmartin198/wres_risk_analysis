{
 "cells": [
  {
   "cell_type": "markdown",
   "metadata": {},
   "source": [
    "# CMIP5, LOCA: Calculate A and B for Non-Precipitation"
   ]
  },
  {
   "cell_type": "markdown",
   "metadata": {},
   "source": [
    "To use the AR, lag-1 approach for the non-precipitation parameters, two matrices are required to generate the solution for current values from lag-1 values and error terms."
   ]
  },
  {
   "cell_type": "code",
   "execution_count": 1,
   "metadata": {},
   "outputs": [],
   "source": [
    "%matplotlib inline"
   ]
  },
  {
   "cell_type": "code",
   "execution_count": 2,
   "metadata": {},
   "outputs": [],
   "source": [
    "import os\n",
    "from IPython.display import display, HTML\n",
    "import pandas as pd\n",
    "import numpy as np\n",
    "import matplotlib as mpl\n",
    "import matplotlib.pyplot as plt"
   ]
  },
  {
   "cell_type": "code",
   "execution_count": 3,
   "metadata": {},
   "outputs": [],
   "source": [
    "IN_DIR1 = r'\\\\augustine.space.swri.edu\\jdrive\\Groundwater\\R8937_Stochastic_CC_Recharge\\D' \\\n",
    "          r'ata\\JNotes\\Processed\\CMIP5\\OtherWeather_1981-2010'\n",
    "IN_DIR2 = r'\\\\augustine.space.swri.edu\\jdrive\\Groundwater\\R8937_Stochastic_CC_Recharge\\D' \\\n",
    "          r'ata\\JNotes\\Processed\\CMIP5\\OtherWeather_2011-2040'\n",
    "IN_DIR3 = r'\\\\augustine.space.swri.edu\\jdrive\\Groundwater\\R8937_Stochastic_CC_Recharge\\D' \\\n",
    "          r'ata\\JNotes\\Processed\\CMIP5\\OtherWeather_2041-2070'\n",
    "IN_DIR4 = r'\\\\augustine.space.swri.edu\\jdrive\\Groundwater\\R8937_Stochastic_CC_Recharge\\D' \\\n",
    "          r'ata\\JNotes\\Processed\\CMIP5\\OtherWeather_2071-2100'"
   ]
  },
  {
   "cell_type": "code",
   "execution_count": 4,
   "metadata": {},
   "outputs": [],
   "source": [
    "IN1_R0 = r'OWeath_LOCA_Z_M0_1981-2010.pickle'\n",
    "IN1_R1 = r'OWeath_LOCA_Z_M1_1981-2010.pickle'\n",
    "IN2_R0 = r'OWeath_LOCA_Z_M0_2011-2040.pickle'\n",
    "IN2_R1 = r'OWeath_LOCA_Z_M1_2011-2040.pickle'\n",
    "IN3_R0 = r'OWeath_LOCA_Z_M0_2041-2070.pickle'\n",
    "IN3_R1 = r'OWeath_LOCA_Z_M1_2041-2070.pickle'\n",
    "IN4_R0 = r'OWeath_LOCA_Z_M0_2071-2100.pickle'\n",
    "IN4_R1 = r'OWeath_LOCA_Z_M1_2071-2100.pickle'"
   ]
  },
  {
   "cell_type": "code",
   "execution_count": 5,
   "metadata": {},
   "outputs": [],
   "source": [
    "OUT_DIR = r'\\\\augustine.space.swri.edu\\jdrive\\Groundwater\\R8937_Stochastic_CC_Recharge\\Data\\JN' \\\n",
    "          r'otes\\Processed\\PRISM\\Other_Weather'"
   ]
  },
  {
   "cell_type": "code",
   "execution_count": 6,
   "metadata": {},
   "outputs": [],
   "source": [
    "InFiler = os.path.normpath( os.path.join( IN_DIR1, IN1_R0 ) )\n",
    "rho0DF1 = pd.read_pickle( InFiler )\n",
    "InFiler = os.path.normpath( os.path.join( IN_DIR1, IN1_R1 ) )\n",
    "rho1DF1 = pd.read_pickle( InFiler )\n",
    "InFiler = os.path.normpath( os.path.join( IN_DIR2, IN2_R0 ) )\n",
    "rho0DF2 = pd.read_pickle( InFiler )\n",
    "InFiler = os.path.normpath( os.path.join( IN_DIR2, IN2_R1 ) )\n",
    "rho1DF2 = pd.read_pickle( InFiler )\n",
    "InFiler = os.path.normpath( os.path.join( IN_DIR3, IN3_R0 ) )\n",
    "rho0DF3 = pd.read_pickle( InFiler )\n",
    "InFiler = os.path.normpath( os.path.join( IN_DIR3, IN3_R1 ) )\n",
    "rho1DF3 = pd.read_pickle( InFiler )\n",
    "InFiler = os.path.normpath( os.path.join( IN_DIR4, IN4_R0 ) )\n",
    "rho0DF4 = pd.read_pickle( InFiler )\n",
    "InFiler = os.path.normpath( os.path.join( IN_DIR4, IN4_R1 ) )\n",
    "rho1DF4 = pd.read_pickle( InFiler )"
   ]
  },
  {
   "cell_type": "markdown",
   "metadata": {},
   "source": [
    "Check the correlation coefficients should be 1.0 to 0.0"
   ]
  },
  {
   "cell_type": "code",
   "execution_count": 7,
   "metadata": {},
   "outputs": [
    {
     "data": {
      "text/html": [
       "<table border=\"1\" class=\"dataframe\">\n",
       "  <thead>\n",
       "    <tr style=\"text-align: right;\">\n",
       "      <th></th>\n",
       "      <th>rho_X1</th>\n",
       "      <th>rho_X2</th>\n",
       "    </tr>\n",
       "  </thead>\n",
       "  <tbody>\n",
       "    <tr>\n",
       "      <th>rho_1X</th>\n",
       "      <td>1.000000</td>\n",
       "      <td>0.581102</td>\n",
       "    </tr>\n",
       "    <tr>\n",
       "      <th>rho_2X</th>\n",
       "      <td>0.581102</td>\n",
       "      <td>1.000000</td>\n",
       "    </tr>\n",
       "  </tbody>\n",
       "</table>"
      ],
      "text/plain": [
       "<IPython.core.display.HTML object>"
      ]
     },
     "metadata": {},
     "output_type": "display_data"
    }
   ],
   "source": [
    "display( HTML( rho0DF1.to_html() ))"
   ]
  },
  {
   "cell_type": "code",
   "execution_count": 8,
   "metadata": {},
   "outputs": [
    {
     "data": {
      "text/html": [
       "<table border=\"1\" class=\"dataframe\">\n",
       "  <thead>\n",
       "    <tr style=\"text-align: right;\">\n",
       "      <th></th>\n",
       "      <th>rho_X1</th>\n",
       "      <th>rho_X2</th>\n",
       "    </tr>\n",
       "  </thead>\n",
       "  <tbody>\n",
       "    <tr>\n",
       "      <th>rho_1X</th>\n",
       "      <td>1.000000</td>\n",
       "      <td>0.599303</td>\n",
       "    </tr>\n",
       "    <tr>\n",
       "      <th>rho_2X</th>\n",
       "      <td>0.599303</td>\n",
       "      <td>1.000000</td>\n",
       "    </tr>\n",
       "  </tbody>\n",
       "</table>"
      ],
      "text/plain": [
       "<IPython.core.display.HTML object>"
      ]
     },
     "metadata": {},
     "output_type": "display_data"
    }
   ],
   "source": [
    "display( HTML( rho0DF2.to_html() ))"
   ]
  },
  {
   "cell_type": "code",
   "execution_count": 9,
   "metadata": {},
   "outputs": [
    {
     "data": {
      "text/html": [
       "<table border=\"1\" class=\"dataframe\">\n",
       "  <thead>\n",
       "    <tr style=\"text-align: right;\">\n",
       "      <th></th>\n",
       "      <th>rho_X1</th>\n",
       "      <th>rho_X2</th>\n",
       "    </tr>\n",
       "  </thead>\n",
       "  <tbody>\n",
       "    <tr>\n",
       "      <th>rho_1X</th>\n",
       "      <td>1.00000</td>\n",
       "      <td>0.61744</td>\n",
       "    </tr>\n",
       "    <tr>\n",
       "      <th>rho_2X</th>\n",
       "      <td>0.61744</td>\n",
       "      <td>1.00000</td>\n",
       "    </tr>\n",
       "  </tbody>\n",
       "</table>"
      ],
      "text/plain": [
       "<IPython.core.display.HTML object>"
      ]
     },
     "metadata": {},
     "output_type": "display_data"
    }
   ],
   "source": [
    "display( HTML( rho0DF3.to_html() ))"
   ]
  },
  {
   "cell_type": "code",
   "execution_count": 10,
   "metadata": {},
   "outputs": [
    {
     "data": {
      "text/html": [
       "<table border=\"1\" class=\"dataframe\">\n",
       "  <thead>\n",
       "    <tr style=\"text-align: right;\">\n",
       "      <th></th>\n",
       "      <th>rho_X1</th>\n",
       "      <th>rho_X2</th>\n",
       "    </tr>\n",
       "  </thead>\n",
       "  <tbody>\n",
       "    <tr>\n",
       "      <th>rho_1X</th>\n",
       "      <td>1.000000</td>\n",
       "      <td>0.654389</td>\n",
       "    </tr>\n",
       "    <tr>\n",
       "      <th>rho_2X</th>\n",
       "      <td>0.654389</td>\n",
       "      <td>1.000000</td>\n",
       "    </tr>\n",
       "  </tbody>\n",
       "</table>"
      ],
      "text/plain": [
       "<IPython.core.display.HTML object>"
      ]
     },
     "metadata": {},
     "output_type": "display_data"
    }
   ],
   "source": [
    "display( HTML( rho0DF4.to_html() ))"
   ]
  },
  {
   "cell_type": "markdown",
   "metadata": {},
   "source": [
    "Check the lag-1 cross correlation coefficients, expecting -1 to 1"
   ]
  },
  {
   "cell_type": "code",
   "execution_count": 11,
   "metadata": {},
   "outputs": [
    {
     "data": {
      "text/html": [
       "<table border=\"1\" class=\"dataframe\">\n",
       "  <thead>\n",
       "    <tr style=\"text-align: right;\">\n",
       "      <th></th>\n",
       "      <th>rho_X1_L1</th>\n",
       "      <th>rho_X2_L1</th>\n",
       "    </tr>\n",
       "  </thead>\n",
       "  <tbody>\n",
       "    <tr>\n",
       "      <th>rho_1X</th>\n",
       "      <td>0.699425</td>\n",
       "      <td>0.499703</td>\n",
       "    </tr>\n",
       "    <tr>\n",
       "      <th>rho_2X</th>\n",
       "      <td>0.451321</td>\n",
       "      <td>0.674935</td>\n",
       "    </tr>\n",
       "  </tbody>\n",
       "</table>"
      ],
      "text/plain": [
       "<IPython.core.display.HTML object>"
      ]
     },
     "metadata": {},
     "output_type": "display_data"
    }
   ],
   "source": [
    "display( HTML( rho1DF1.to_html() ))"
   ]
  },
  {
   "cell_type": "code",
   "execution_count": 12,
   "metadata": {},
   "outputs": [
    {
     "data": {
      "text/html": [
       "<table border=\"1\" class=\"dataframe\">\n",
       "  <thead>\n",
       "    <tr style=\"text-align: right;\">\n",
       "      <th></th>\n",
       "      <th>rho_X1_L1</th>\n",
       "      <th>rho_X2_L1</th>\n",
       "    </tr>\n",
       "  </thead>\n",
       "  <tbody>\n",
       "    <tr>\n",
       "      <th>rho_1X</th>\n",
       "      <td>0.711612</td>\n",
       "      <td>0.520978</td>\n",
       "    </tr>\n",
       "    <tr>\n",
       "      <th>rho_2X</th>\n",
       "      <td>0.470018</td>\n",
       "      <td>0.690077</td>\n",
       "    </tr>\n",
       "  </tbody>\n",
       "</table>"
      ],
      "text/plain": [
       "<IPython.core.display.HTML object>"
      ]
     },
     "metadata": {},
     "output_type": "display_data"
    }
   ],
   "source": [
    "display( HTML( rho1DF2.to_html() ))"
   ]
  },
  {
   "cell_type": "code",
   "execution_count": 13,
   "metadata": {},
   "outputs": [
    {
     "data": {
      "text/html": [
       "<table border=\"1\" class=\"dataframe\">\n",
       "  <thead>\n",
       "    <tr style=\"text-align: right;\">\n",
       "      <th></th>\n",
       "      <th>rho_X1_L1</th>\n",
       "      <th>rho_X2_L1</th>\n",
       "    </tr>\n",
       "  </thead>\n",
       "  <tbody>\n",
       "    <tr>\n",
       "      <th>rho_1X</th>\n",
       "      <td>0.719890</td>\n",
       "      <td>0.538818</td>\n",
       "    </tr>\n",
       "    <tr>\n",
       "      <th>rho_2X</th>\n",
       "      <td>0.489778</td>\n",
       "      <td>0.704314</td>\n",
       "    </tr>\n",
       "  </tbody>\n",
       "</table>"
      ],
      "text/plain": [
       "<IPython.core.display.HTML object>"
      ]
     },
     "metadata": {},
     "output_type": "display_data"
    }
   ],
   "source": [
    "display( HTML( rho1DF3.to_html() ))"
   ]
  },
  {
   "cell_type": "code",
   "execution_count": 14,
   "metadata": {},
   "outputs": [
    {
     "data": {
      "text/html": [
       "<table border=\"1\" class=\"dataframe\">\n",
       "  <thead>\n",
       "    <tr style=\"text-align: right;\">\n",
       "      <th></th>\n",
       "      <th>rho_X1_L1</th>\n",
       "      <th>rho_X2_L1</th>\n",
       "    </tr>\n",
       "  </thead>\n",
       "  <tbody>\n",
       "    <tr>\n",
       "      <th>rho_1X</th>\n",
       "      <td>0.742802</td>\n",
       "      <td>0.581699</td>\n",
       "    </tr>\n",
       "    <tr>\n",
       "      <th>rho_2X</th>\n",
       "      <td>0.535602</td>\n",
       "      <td>0.736431</td>\n",
       "    </tr>\n",
       "  </tbody>\n",
       "</table>"
      ],
      "text/plain": [
       "<IPython.core.display.HTML object>"
      ]
     },
     "metadata": {},
     "output_type": "display_data"
    }
   ],
   "source": [
    "display( HTML( rho1DF4.to_html() ))"
   ]
  },
  {
   "cell_type": "markdown",
   "metadata": {},
   "source": [
    "## Matrix Inversion Solutions"
   ]
  },
  {
   "cell_type": "markdown",
   "metadata": {},
   "source": [
    "\\begin{equation*}\n",
    "    M_{0} = \\begin{bmatrix}\n",
    "                1               & \\rho_{0}(1,2)    & \\rho_{0}(1,3) \\\\\n",
    "                \\rho_{0}(2,1)   &      1           & \\rho_{0}(2,3) \\\\\n",
    "                \\rho_{0}(3,1)   & \\rho_{0}(3,2)    & 1             \\\\\n",
    "            \\end{bmatrix}\n",
    "\\end{equation*}\n",
    "\n",
    "\\begin{equation*}\n",
    "    M_{1} = \\begin{bmatrix}\n",
    "                \\rho_{1}(1,1)   & \\rho_{1}(1,2)    & \\rho_{1}(1,3) \\\\\n",
    "                \\rho_{1}(2,1)   & \\rho_{1}(2,2)    & \\rho_{1}(2,3) \\\\\n",
    "                \\rho_{1}(3,1)   & \\rho_{1}(3,2)    & \\rho_{1}(3,3) \\\\\n",
    "            \\end{bmatrix}\n",
    "\\end{equation*}"
   ]
  },
  {
   "cell_type": "markdown",
   "metadata": {},
   "source": [
    "\\begin{equation*}\n",
    "    A M_{0} = M_{1}\n",
    "\\end{equation*}\n",
    "\n",
    "\\begin{equation*}\n",
    "    A = M_{0}^{-1} M_{1}\n",
    "\\end{equation*}"
   ]
  },
  {
   "cell_type": "markdown",
   "metadata": {},
   "source": [
    "\\begin{equation*}\n",
    "    B = M_{0} - A M_{1}^{T}\n",
    "\\end{equation*}"
   ]
  },
  {
   "cell_type": "markdown",
   "metadata": {},
   "source": [
    "### Data Period: 1981-2010"
   ]
  },
  {
   "cell_type": "code",
   "execution_count": 15,
   "metadata": {},
   "outputs": [],
   "source": [
    "M0_0 = rho0DF1.to_numpy()\n",
    "M1_0 = rho1DF1.to_numpy()"
   ]
  },
  {
   "cell_type": "code",
   "execution_count": 16,
   "metadata": {},
   "outputs": [],
   "source": [
    "A0 = np.matmul( M1_0, np.linalg.inv( M0_0 ) )"
   ]
  },
  {
   "cell_type": "code",
   "execution_count": 17,
   "metadata": {},
   "outputs": [
    {
     "data": {
      "text/plain": [
       "array([[0.61759594, 0.14081637],\n",
       "       [0.08925376, 0.62306957]])"
      ]
     },
     "execution_count": 17,
     "metadata": {},
     "output_type": "execute_result"
    }
   ],
   "source": [
    "A0"
   ]
  },
  {
   "cell_type": "code",
   "execution_count": 18,
   "metadata": {},
   "outputs": [],
   "source": [
    "B0 = np.linalg.cholesky( M0_0 - np.matmul( np.matmul( M1_0, np.linalg.inv( M0_0 ) ), M1_0.T ) )"
   ]
  },
  {
   "cell_type": "code",
   "execution_count": 19,
   "metadata": {},
   "outputs": [
    {
     "data": {
      "text/plain": [
       "array([[0.70545863, 0.        ],\n",
       "       [0.29388859, 0.67291597]])"
      ]
     },
     "execution_count": 19,
     "metadata": {},
     "output_type": "execute_result"
    }
   ],
   "source": [
    "B0"
   ]
  },
  {
   "cell_type": "markdown",
   "metadata": {},
   "source": [
    "### Project Period 1: 2011-2040"
   ]
  },
  {
   "cell_type": "code",
   "execution_count": 20,
   "metadata": {},
   "outputs": [],
   "source": [
    "M0_1 = rho0DF2.to_numpy()\n",
    "M1_1 = rho1DF2.to_numpy()"
   ]
  },
  {
   "cell_type": "code",
   "execution_count": 21,
   "metadata": {},
   "outputs": [],
   "source": [
    "A1 = np.matmul( M1_1, np.linalg.inv( M0_1 ) )"
   ]
  },
  {
   "cell_type": "code",
   "execution_count": 22,
   "metadata": {},
   "outputs": [
    {
     "data": {
      "text/plain": [
       "array([[0.6232303 , 0.1474739 ],\n",
       "       [0.08809282, 0.63728267]])"
      ]
     },
     "execution_count": 22,
     "metadata": {},
     "output_type": "execute_result"
    }
   ],
   "source": [
    "A1"
   ]
  },
  {
   "cell_type": "code",
   "execution_count": 23,
   "metadata": {},
   "outputs": [],
   "source": [
    "B1 = np.linalg.cholesky( M0_1 - np.matmul( np.matmul( M1_1, np.linalg.inv( M0_1 ) ), M1_1.T ) )"
   ]
  },
  {
   "cell_type": "code",
   "execution_count": 24,
   "metadata": {},
   "outputs": [
    {
     "data": {
      "text/plain": [
       "array([[0.69258303, 0.        ],\n",
       "       [0.29542339, 0.65692135]])"
      ]
     },
     "execution_count": 24,
     "metadata": {},
     "output_type": "execute_result"
    }
   ],
   "source": [
    "B1"
   ]
  },
  {
   "cell_type": "markdown",
   "metadata": {},
   "source": [
    "### Project Period 2: 2041-2070"
   ]
  },
  {
   "cell_type": "code",
   "execution_count": 25,
   "metadata": {},
   "outputs": [],
   "source": [
    "M0_2 = rho0DF3.to_numpy()\n",
    "M1_2 = rho1DF3.to_numpy()"
   ]
  },
  {
   "cell_type": "code",
   "execution_count": 26,
   "metadata": {},
   "outputs": [],
   "source": [
    "A2 = np.matmul( M1_2, np.linalg.inv( M0_2 ) )"
   ]
  },
  {
   "cell_type": "code",
   "execution_count": 27,
   "metadata": {},
   "outputs": [
    {
     "data": {
      "text/plain": [
       "array([[0.62576301, 0.15244654],\n",
       "       [0.0887346 , 0.64952574]])"
      ]
     },
     "execution_count": 27,
     "metadata": {},
     "output_type": "execute_result"
    }
   ],
   "source": [
    "A2"
   ]
  },
  {
   "cell_type": "code",
   "execution_count": 28,
   "metadata": {},
   "outputs": [],
   "source": [
    "B2 = np.linalg.cholesky( M0_2 - np.matmul( np.matmul( M1_2, np.linalg.inv( M0_2 ) ), M1_2.T ) )"
   ]
  },
  {
   "cell_type": "code",
   "execution_count": 29,
   "metadata": {},
   "outputs": [
    {
     "data": {
      "text/plain": [
       "array([[0.68365113, 0.        ],\n",
       "       [0.29779058, 0.64061725]])"
      ]
     },
     "execution_count": 29,
     "metadata": {},
     "output_type": "execute_result"
    }
   ],
   "source": [
    "B2"
   ]
  },
  {
   "cell_type": "markdown",
   "metadata": {},
   "source": [
    "### Project Period 3: 2041-2070"
   ]
  },
  {
   "cell_type": "code",
   "execution_count": 30,
   "metadata": {},
   "outputs": [],
   "source": [
    "M0_3 = rho0DF4.to_numpy()\n",
    "M1_3 = rho1DF4.to_numpy()"
   ]
  },
  {
   "cell_type": "code",
   "execution_count": 31,
   "metadata": {},
   "outputs": [],
   "source": [
    "A3 = np.matmul( M1_3, np.linalg.inv( M0_3 ) )"
   ]
  },
  {
   "cell_type": "code",
   "execution_count": 32,
   "metadata": {},
   "outputs": [
    {
     "data": {
      "text/plain": [
       "array([[0.6333683 , 0.16722986],\n",
       "       [0.09390023, 0.6749836 ]])"
      ]
     },
     "execution_count": 32,
     "metadata": {},
     "output_type": "execute_result"
    }
   ],
   "source": [
    "A3"
   ]
  },
  {
   "cell_type": "code",
   "execution_count": 33,
   "metadata": {},
   "outputs": [],
   "source": [
    "B3 = np.linalg.cholesky( M0_3 - np.matmul( np.matmul( M1_3, np.linalg.inv( M0_3 ) ), M1_3.T ) )"
   ]
  },
  {
   "cell_type": "code",
   "execution_count": 34,
   "metadata": {},
   "outputs": [
    {
     "data": {
      "text/plain": [
       "array([[0.65746134, 0.        ],\n",
       "       [0.29203635, 0.6060881 ]])"
      ]
     },
     "execution_count": 34,
     "metadata": {},
     "output_type": "execute_result"
    }
   ],
   "source": [
    "B3"
   ]
  },
  {
   "cell_type": "code",
   "execution_count": null,
   "metadata": {},
   "outputs": [],
   "source": []
  }
 ],
 "metadata": {
  "kernelspec": {
   "display_name": "Python 3 (ipykernel)",
   "language": "python",
   "name": "python3"
  },
  "language_info": {
   "codemirror_mode": {
    "name": "ipython",
    "version": 3
   },
   "file_extension": ".py",
   "mimetype": "text/x-python",
   "name": "python",
   "nbconvert_exporter": "python",
   "pygments_lexer": "ipython3",
   "version": "3.9.15"
  }
 },
 "nbformat": 4,
 "nbformat_minor": 4
}
