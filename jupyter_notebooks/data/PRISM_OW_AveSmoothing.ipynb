{
 "cells": [
  {
   "cell_type": "markdown",
   "metadata": {},
   "source": [
    "# PRISM: Fourier Series Smoothing"
   ]
  },
  {
   "cell_type": "markdown",
   "metadata": {},
   "source": [
    "The relatively continuous weather parameters need to undergo Fourier series smoothing."
   ]
  },
  {
   "cell_type": "code",
   "execution_count": 1,
   "metadata": {},
   "outputs": [],
   "source": [
    "%matplotlib inline"
   ]
  },
  {
   "cell_type": "code",
   "execution_count": 2,
   "metadata": {},
   "outputs": [],
   "source": [
    "import os\n",
    "from IPython.display import display, HTML\n",
    "import pandas as pd\n",
    "import numpy as np\n",
    "import matplotlib as mpl\n",
    "import matplotlib.pyplot as plt"
   ]
  },
  {
   "cell_type": "code",
   "execution_count": 3,
   "metadata": {},
   "outputs": [],
   "source": [
    "OUT_DIR = r'\\\\augustine.space.swri.edu\\jdrive\\Groundwater\\R8937_Stochastic_CC_Recharge\\Data\\JN' \\\n",
    "          r'otes\\Processed\\PRISM\\Other_Weather'"
   ]
  },
  {
   "cell_type": "code",
   "execution_count": 4,
   "metadata": {},
   "outputs": [],
   "source": [
    "IN_WET = r'\\\\augustine.space.swri.edu\\jdrive\\Groundwater\\R8937_Stochas' \\\n",
    "         r'tic_CC_Recharge\\Data\\JNotes\\Processed\\PRISM\\Other_Weather\\OWeathWetDF_Ave_1981-2010.pickle'\n",
    "IN_DRY = r'\\\\augustine.space.swri.edu\\jdrive\\Groundwater\\R8937_Stochastic_CC_Recharge\\D' \\\n",
    "         r'ata\\JNotes\\Processed\\PRISM\\Other_Weather\\OWeathDryDF_Ave_1981-2010.pickle'"
   ]
  },
  {
   "cell_type": "code",
   "execution_count": 5,
   "metadata": {},
   "outputs": [],
   "source": [
    "SM_NUM = 5    # start truncation; low pass of first 5 frequencies"
   ]
  },
  {
   "cell_type": "code",
   "execution_count": 6,
   "metadata": {},
   "outputs": [],
   "source": [
    "WetDF = pd.read_pickle( IN_WET )"
   ]
  },
  {
   "cell_type": "code",
   "execution_count": 7,
   "metadata": {},
   "outputs": [
    {
     "data": {
      "text/html": [
       "<table border=\"1\" class=\"dataframe\">\n",
       "  <thead>\n",
       "    <tr style=\"text-align: right;\">\n",
       "      <th></th>\n",
       "      <th>Wet Counts</th>\n",
       "      <th>Tmax_C</th>\n",
       "      <th>Tmean_C</th>\n",
       "      <th>Tmin_C</th>\n",
       "      <th>DewPtT_C</th>\n",
       "      <th>RelHum</th>\n",
       "    </tr>\n",
       "  </thead>\n",
       "  <tbody>\n",
       "    <tr>\n",
       "      <th>1</th>\n",
       "      <td>785</td>\n",
       "      <td>13.712601</td>\n",
       "      <td>8.445713</td>\n",
       "      <td>3.179865</td>\n",
       "      <td>4.530597</td>\n",
       "      <td>76.717133</td>\n",
       "    </tr>\n",
       "    <tr>\n",
       "      <th>2</th>\n",
       "      <td>1232</td>\n",
       "      <td>9.976487</td>\n",
       "      <td>5.294390</td>\n",
       "      <td>0.613130</td>\n",
       "      <td>0.380227</td>\n",
       "      <td>71.264763</td>\n",
       "    </tr>\n",
       "    <tr>\n",
       "      <th>3</th>\n",
       "      <td>1383</td>\n",
       "      <td>9.723934</td>\n",
       "      <td>6.327738</td>\n",
       "      <td>2.932181</td>\n",
       "      <td>1.498156</td>\n",
       "      <td>71.914009</td>\n",
       "    </tr>\n",
       "    <tr>\n",
       "      <th>4</th>\n",
       "      <td>1017</td>\n",
       "      <td>11.842480</td>\n",
       "      <td>9.620141</td>\n",
       "      <td>7.398853</td>\n",
       "      <td>7.358495</td>\n",
       "      <td>86.066818</td>\n",
       "    </tr>\n",
       "    <tr>\n",
       "      <th>5</th>\n",
       "      <td>606</td>\n",
       "      <td>14.576825</td>\n",
       "      <td>10.042038</td>\n",
       "      <td>5.508214</td>\n",
       "      <td>3.994192</td>\n",
       "      <td>67.780457</td>\n",
       "    </tr>\n",
       "  </tbody>\n",
       "</table>"
      ],
      "text/plain": [
       "<IPython.core.display.HTML object>"
      ]
     },
     "metadata": {},
     "output_type": "display_data"
    }
   ],
   "source": [
    "display( HTML( WetDF.head().to_html() ))"
   ]
  },
  {
   "cell_type": "code",
   "execution_count": 8,
   "metadata": {},
   "outputs": [
    {
     "data": {
      "text/html": [
       "<table border=\"1\" class=\"dataframe\">\n",
       "  <thead>\n",
       "    <tr style=\"text-align: right;\">\n",
       "      <th></th>\n",
       "      <th>Wet Counts</th>\n",
       "      <th>Tmax_C</th>\n",
       "      <th>Tmean_C</th>\n",
       "      <th>Tmin_C</th>\n",
       "      <th>DewPtT_C</th>\n",
       "      <th>RelHum</th>\n",
       "    </tr>\n",
       "  </thead>\n",
       "  <tbody>\n",
       "    <tr>\n",
       "      <th>count</th>\n",
       "      <td>366.000000</td>\n",
       "      <td>366.000000</td>\n",
       "      <td>366.000000</td>\n",
       "      <td>366.000000</td>\n",
       "      <td>366.000000</td>\n",
       "      <td>366.000000</td>\n",
       "    </tr>\n",
       "    <tr>\n",
       "      <th>mean</th>\n",
       "      <td>1191.000000</td>\n",
       "      <td>23.780521</td>\n",
       "      <td>18.310371</td>\n",
       "      <td>12.841178</td>\n",
       "      <td>12.341877</td>\n",
       "      <td>69.568794</td>\n",
       "    </tr>\n",
       "    <tr>\n",
       "      <th>std</th>\n",
       "      <td>466.172118</td>\n",
       "      <td>7.796989</td>\n",
       "      <td>7.207663</td>\n",
       "      <td>6.720217</td>\n",
       "      <td>6.098970</td>\n",
       "      <td>6.705070</td>\n",
       "    </tr>\n",
       "    <tr>\n",
       "      <th>min</th>\n",
       "      <td>116.000000</td>\n",
       "      <td>5.353183</td>\n",
       "      <td>1.345500</td>\n",
       "      <td>-2.662259</td>\n",
       "      <td>-6.157397</td>\n",
       "      <td>45.485897</td>\n",
       "    </tr>\n",
       "    <tr>\n",
       "      <th>25%</th>\n",
       "      <td>823.500000</td>\n",
       "      <td>17.299726</td>\n",
       "      <td>12.070835</td>\n",
       "      <td>7.052336</td>\n",
       "      <td>7.359571</td>\n",
       "      <td>65.110132</td>\n",
       "    </tr>\n",
       "    <tr>\n",
       "      <th>50%</th>\n",
       "      <td>1167.500000</td>\n",
       "      <td>24.684669</td>\n",
       "      <td>19.064235</td>\n",
       "      <td>13.817456</td>\n",
       "      <td>13.871386</td>\n",
       "      <td>68.930077</td>\n",
       "    </tr>\n",
       "    <tr>\n",
       "      <th>75%</th>\n",
       "      <td>1486.250000</td>\n",
       "      <td>30.968058</td>\n",
       "      <td>25.254879</td>\n",
       "      <td>19.585598</td>\n",
       "      <td>18.133408</td>\n",
       "      <td>74.383703</td>\n",
       "    </tr>\n",
       "    <tr>\n",
       "      <th>max</th>\n",
       "      <td>2477.000000</td>\n",
       "      <td>35.892395</td>\n",
       "      <td>29.002529</td>\n",
       "      <td>22.298576</td>\n",
       "      <td>19.930300</td>\n",
       "      <td>86.066818</td>\n",
       "    </tr>\n",
       "  </tbody>\n",
       "</table>"
      ],
      "text/plain": [
       "<IPython.core.display.HTML object>"
      ]
     },
     "metadata": {},
     "output_type": "display_data"
    }
   ],
   "source": [
    "display( HTML( WetDF.describe().to_html() ))"
   ]
  },
  {
   "cell_type": "code",
   "execution_count": 9,
   "metadata": {},
   "outputs": [
    {
     "data": {
      "text/plain": [
       "['Tmax_C', 'Tmean_C', 'Tmin_C', 'DewPtT_C', 'RelHum']"
      ]
     },
     "execution_count": 9,
     "metadata": {},
     "output_type": "execute_result"
    }
   ],
   "source": [
    "OutCols = list( WetDF.columns )\n",
    "OutCols.remove('Wet Counts')\n",
    "OutCols"
   ]
  },
  {
   "cell_type": "code",
   "execution_count": 10,
   "metadata": {},
   "outputs": [],
   "source": [
    "DryDF = pd.read_pickle( IN_DRY )"
   ]
  },
  {
   "cell_type": "code",
   "execution_count": 11,
   "metadata": {},
   "outputs": [
    {
     "data": {
      "text/html": [
       "<table border=\"1\" class=\"dataframe\">\n",
       "  <thead>\n",
       "    <tr style=\"text-align: right;\">\n",
       "      <th></th>\n",
       "      <th>Dry Counts</th>\n",
       "      <th>Tmax_C</th>\n",
       "      <th>Tmean_C</th>\n",
       "      <th>Tmin_C</th>\n",
       "      <th>DewPtT_C</th>\n",
       "      <th>RelHum</th>\n",
       "    </tr>\n",
       "  </thead>\n",
       "  <tbody>\n",
       "    <tr>\n",
       "      <th>1</th>\n",
       "      <td>5515</td>\n",
       "      <td>17.903906</td>\n",
       "      <td>9.645109</td>\n",
       "      <td>1.387330</td>\n",
       "      <td>-0.093056</td>\n",
       "      <td>52.334858</td>\n",
       "    </tr>\n",
       "    <tr>\n",
       "      <th>2</th>\n",
       "      <td>5068</td>\n",
       "      <td>16.247789</td>\n",
       "      <td>8.936866</td>\n",
       "      <td>1.626929</td>\n",
       "      <td>0.716911</td>\n",
       "      <td>58.484921</td>\n",
       "    </tr>\n",
       "    <tr>\n",
       "      <th>3</th>\n",
       "      <td>4917</td>\n",
       "      <td>16.465973</td>\n",
       "      <td>8.716794</td>\n",
       "      <td>0.968457</td>\n",
       "      <td>0.384967</td>\n",
       "      <td>58.167614</td>\n",
       "    </tr>\n",
       "    <tr>\n",
       "      <th>4</th>\n",
       "      <td>5283</td>\n",
       "      <td>16.773483</td>\n",
       "      <td>8.698633</td>\n",
       "      <td>0.624711</td>\n",
       "      <td>-1.041544</td>\n",
       "      <td>52.405388</td>\n",
       "    </tr>\n",
       "    <tr>\n",
       "      <th>5</th>\n",
       "      <td>5694</td>\n",
       "      <td>16.082010</td>\n",
       "      <td>8.515889</td>\n",
       "      <td>0.950740</td>\n",
       "      <td>-1.081723</td>\n",
       "      <td>52.928741</td>\n",
       "    </tr>\n",
       "  </tbody>\n",
       "</table>"
      ],
      "text/plain": [
       "<IPython.core.display.HTML object>"
      ]
     },
     "metadata": {},
     "output_type": "display_data"
    }
   ],
   "source": [
    "display( HTML( DryDF.head().to_html() ))"
   ]
  },
  {
   "cell_type": "code",
   "execution_count": 12,
   "metadata": {},
   "outputs": [
    {
     "data": {
      "text/html": [
       "<table border=\"1\" class=\"dataframe\">\n",
       "  <thead>\n",
       "    <tr style=\"text-align: right;\">\n",
       "      <th></th>\n",
       "      <th>Dry Counts</th>\n",
       "      <th>Tmax_C</th>\n",
       "      <th>Tmean_C</th>\n",
       "      <th>Tmin_C</th>\n",
       "      <th>DewPtT_C</th>\n",
       "      <th>RelHum</th>\n",
       "    </tr>\n",
       "  </thead>\n",
       "  <tbody>\n",
       "    <tr>\n",
       "      <th>count</th>\n",
       "      <td>366.000000</td>\n",
       "      <td>366.000000</td>\n",
       "      <td>366.000000</td>\n",
       "      <td>366.000000</td>\n",
       "      <td>366.000000</td>\n",
       "      <td>366.000000</td>\n",
       "    </tr>\n",
       "    <tr>\n",
       "      <th>mean</th>\n",
       "      <td>5095.803279</td>\n",
       "      <td>26.841141</td>\n",
       "      <td>19.454428</td>\n",
       "      <td>12.068671</td>\n",
       "      <td>9.198496</td>\n",
       "      <td>52.893932</td>\n",
       "    </tr>\n",
       "    <tr>\n",
       "      <th>std</th>\n",
       "      <td>507.342315</td>\n",
       "      <td>6.882986</td>\n",
       "      <td>7.504230</td>\n",
       "      <td>8.152940</td>\n",
       "      <td>7.092865</td>\n",
       "      <td>3.497991</td>\n",
       "    </tr>\n",
       "    <tr>\n",
       "      <th>min</th>\n",
       "      <td>1173.000000</td>\n",
       "      <td>13.034418</td>\n",
       "      <td>5.749109</td>\n",
       "      <td>-1.745239</td>\n",
       "      <td>-4.197724</td>\n",
       "      <td>41.403664</td>\n",
       "    </tr>\n",
       "    <tr>\n",
       "      <th>25%</th>\n",
       "      <td>4808.750000</td>\n",
       "      <td>20.752249</td>\n",
       "      <td>12.409417</td>\n",
       "      <td>4.417158</td>\n",
       "      <td>2.022405</td>\n",
       "      <td>50.491363</td>\n",
       "    </tr>\n",
       "    <tr>\n",
       "      <th>50%</th>\n",
       "      <td>5123.000000</td>\n",
       "      <td>27.654769</td>\n",
       "      <td>20.028086</td>\n",
       "      <td>12.311822</td>\n",
       "      <td>9.826087</td>\n",
       "      <td>53.060383</td>\n",
       "    </tr>\n",
       "    <tr>\n",
       "      <th>75%</th>\n",
       "      <td>5474.500000</td>\n",
       "      <td>33.644610</td>\n",
       "      <td>27.273471</td>\n",
       "      <td>20.593480</td>\n",
       "      <td>17.009058</td>\n",
       "      <td>55.223491</td>\n",
       "    </tr>\n",
       "    <tr>\n",
       "      <th>max</th>\n",
       "      <td>6184.000000</td>\n",
       "      <td>36.129406</td>\n",
       "      <td>29.285568</td>\n",
       "      <td>22.858006</td>\n",
       "      <td>18.607635</td>\n",
       "      <td>66.210846</td>\n",
       "    </tr>\n",
       "  </tbody>\n",
       "</table>"
      ],
      "text/plain": [
       "<IPython.core.display.HTML object>"
      ]
     },
     "metadata": {},
     "output_type": "display_data"
    }
   ],
   "source": [
    "display( HTML( DryDF.describe().to_html() ))"
   ]
  },
  {
   "cell_type": "markdown",
   "metadata": {},
   "source": [
    "## Fourier Smoothing of Temperature Parameters"
   ]
  },
  {
   "cell_type": "markdown",
   "metadata": {},
   "source": [
    "### Wet State"
   ]
  },
  {
   "cell_type": "code",
   "execution_count": 13,
   "metadata": {},
   "outputs": [],
   "source": [
    "AllDays = np.array( WetDF.index, dtype=np.float32 ) + 0.5"
   ]
  },
  {
   "cell_type": "code",
   "execution_count": 14,
   "metadata": {},
   "outputs": [],
   "source": [
    "Tmax = np.array( WetDF['Tmax_C'], dtype=np.float32 )"
   ]
  },
  {
   "cell_type": "code",
   "execution_count": 15,
   "metadata": {},
   "outputs": [
    {
     "data": {
      "image/png": "[encoded data removed]",
      "text/plain": [
       "<Figure size 720x432 with 1 Axes>"
      ]
     },
     "metadata": {
      "needs_background": "light"
     },
     "output_type": "display_data"
    }
   ],
   "source": [
    "Fig1 = plt.figure()\n",
    "Fig1.set_size_inches(10.0, 6.0)\n",
    "ax11 = Fig1.add_subplot(111)\n",
    "ax11.scatter( AllDays, Tmax, c='xkcd:slate', marker='o' )\n",
    "ax11.set_xlabel('Day of the Year', fontsize=14 )\n",
    "ax11.set_ylabel('Daily Maximum Temperature (deg C)', fontsize=14)\n",
    "ax11.set_title(\"Wet State\", fontsize=16)\n",
    "ax11.tick_params(axis='both', which='major', labelsize=13)\n",
    "ax11.yaxis.set_major_formatter( mpl.ticker.StrMethodFormatter( \"{x:,.1f}\" ) )\n",
    "ax11.xaxis.set_major_formatter( mpl.ticker.StrMethodFormatter( \"{x:,.0f}\" ) )"
   ]
  },
  {
   "cell_type": "markdown",
   "metadata": {},
   "source": [
    "Try the Fourier series transform"
   ]
  },
  {
   "cell_type": "code",
   "execution_count": 16,
   "metadata": {},
   "outputs": [],
   "source": [
    "rft = np.fft.rfft(Tmax)\n",
    "rft[SM_NUM:] = 0.0\n",
    "tmax_smooth = np.fft.irfft(rft)"
   ]
  },
  {
   "cell_type": "code",
   "execution_count": 17,
   "metadata": {},
   "outputs": [
    {
     "data": {
      "image/png": "[encoded data removed]",
      "text/plain": [
       "<Figure size 720x432 with 1 Axes>"
      ]
     },
     "metadata": {
      "needs_background": "light"
     },
     "output_type": "display_data"
    }
   ],
   "source": [
    "Fig1 = plt.figure()\n",
    "Fig1.set_size_inches(10.0, 6.0)\n",
    "ax11 = Fig1.add_subplot(111)\n",
    "ax11.scatter( AllDays, Tmax, c='xkcd:slate', marker='o', alpha=0.65, label=\"Day Average\")\n",
    "ax11.plot( AllDays, tmax_smooth, linestyle='-', color='xkcd:navy', linewidth=2.0, \n",
    "           label=\"Smoothed Day Average\")\n",
    "ax11.set_title('Wet State', fontsize=16 )\n",
    "ax11.set_xlabel('Day of the Year', fontsize=14 )\n",
    "ax11.set_ylabel('Daily Maximum Temperature (deg C)', fontsize=14)\n",
    "ax11.legend()\n",
    "ax11.tick_params(axis='both', which='major', labelsize=13)\n",
    "ax11.yaxis.set_major_formatter( mpl.ticker.StrMethodFormatter( \"{x:,.1f}\" ) )\n",
    "ax11.xaxis.set_major_formatter( mpl.ticker.StrMethodFormatter( \"{x:,.0f}\" ) )"
   ]
  },
  {
   "cell_type": "code",
   "execution_count": 18,
   "metadata": {},
   "outputs": [],
   "source": [
    "Tave = np.array( WetDF['Tmean_C'], dtype=np.float32 )"
   ]
  },
  {
   "cell_type": "code",
   "execution_count": 19,
   "metadata": {},
   "outputs": [
    {
     "data": {
      "image/png": "[encoded data removed]",
      "text/plain": [
       "<Figure size 720x432 with 1 Axes>"
      ]
     },
     "metadata": {
      "needs_background": "light"
     },
     "output_type": "display_data"
    }
   ],
   "source": [
    "Fig1 = plt.figure()\n",
    "Fig1.set_size_inches(10.0, 6.0)\n",
    "ax11 = Fig1.add_subplot(111)\n",
    "ax11.scatter( AllDays, Tave, c='xkcd:khaki', marker='o' )\n",
    "ax11.set_title('Wet State', fontsize=16 )\n",
    "ax11.set_xlabel('Day of the Year', fontsize=14 )\n",
    "ax11.set_ylabel('Daily Average Temperature (deg C)', fontsize=14)\n",
    "ax11.tick_params(axis='both', which='major', labelsize=13)\n",
    "ax11.yaxis.set_major_formatter( mpl.ticker.StrMethodFormatter( \"{x:,.1f}\" ) )\n",
    "ax11.xaxis.set_major_formatter( mpl.ticker.StrMethodFormatter( \"{x:,.0f}\" ) )"
   ]
  },
  {
   "cell_type": "code",
   "execution_count": 22,
   "metadata": {},
   "outputs": [
    {
     "data": {
      "text/plain": [
       "366"
      ]
     },
     "execution_count": 22,
     "metadata": {},
     "output_type": "execute_result"
    }
   ],
   "source": [
    "N = len( Tave )\n",
    "N"
   ]
  },
  {
   "cell_type": "code",
   "execution_count": 21,
   "metadata": {},
   "outputs": [
    {
     "data": {
      "text/plain": [
       "184"
      ]
     },
     "execution_count": 21,
     "metadata": {},
     "output_type": "execute_result"
    }
   ],
   "source": [
    "rft = np.fft.rfft(Tave)\n",
    "len(rft)"
   ]
  },
  {
   "cell_type": "code",
   "execution_count": 23,
   "metadata": {},
   "outputs": [
    {
     "data": {
      "text/plain": [
       "(0.00273224043715847,\n",
       " 0.00546448087431694,\n",
       " 0.00819672131147541,\n",
       " 0.01092896174863388,\n",
       " 0.01366120218579235)"
      ]
     },
     "execution_count": 23,
     "metadata": {},
     "output_type": "execute_result"
    }
   ],
   "source": [
    "# get our frequencies, f for our periods, j. Which means the sinusoid executes j complete \n",
    "# cycles within 366 days\n",
    "f1 = 1/N\n",
    "f2 = 2/N\n",
    "f3 = 3/N\n",
    "f4 = 4/N\n",
    "f5 = 5/N\n",
    "f1, f2, f3, f4, f5"
   ]
  },
  {
   "cell_type": "code",
   "execution_count": 24,
   "metadata": {},
   "outputs": [
    {
     "data": {
      "text/plain": [
       "(366.0, 183.0, 122.0, 91.5, 73.2)"
      ]
     },
     "execution_count": 24,
     "metadata": {},
     "output_type": "execute_result"
    }
   ],
   "source": [
    "1/f1, 1/f2, 1/f3, 1/f4, 1/f5"
   ]
  },
  {
   "cell_type": "code",
   "execution_count": 26,
   "metadata": {},
   "outputs": [
    {
     "data": {
      "text/plain": [
       "((6701.59562253952+0j),\n",
       " (-1734.9019284632927+421.3118537145698j),\n",
       " (-237.2452230278455-100.815437646704j),\n",
       " (-2.6220860248181044-44.33266372407836j),\n",
       " (4.241617666948467+54.201373955049455j))"
      ]
     },
     "execution_count": 26,
     "metadata": {},
     "output_type": "execute_result"
    }
   ],
   "source": [
    "rft[0], rft[1], rft[2], rft[3], rft[4]"
   ]
  },
  {
   "cell_type": "code",
   "execution_count": 27,
   "metadata": {},
   "outputs": [
    {
     "data": {
      "text/plain": [
       "18.310371"
      ]
     },
     "execution_count": 27,
     "metadata": {},
     "output_type": "execute_result"
    }
   ],
   "source": [
    "Tave.mean()"
   ]
  },
  {
   "cell_type": "code",
   "execution_count": 28,
   "metadata": {},
   "outputs": [],
   "source": [
    "rft[1:] = 0.0\n",
    "tst1 = np.fft.irfft(rft)"
   ]
  },
  {
   "cell_type": "code",
   "execution_count": 29,
   "metadata": {},
   "outputs": [
    {
     "data": {
      "text/plain": [
       "array([18.31037055, 18.31037055, 18.31037055, 18.31037055, 18.31037055,\n",
       "       18.31037055, 18.31037055, 18.31037055, 18.31037055, 18.31037055,\n",
       "       18.31037055, 18.31037055, 18.31037055, 18.31037055, 18.31037055,\n",
       "       18.31037055, 18.31037055, 18.31037055, 18.31037055, 18.31037055,\n",
       "       18.31037055, 18.31037055, 18.31037055, 18.31037055, 18.31037055,\n",
       "       18.31037055, 18.31037055, 18.31037055, 18.31037055, 18.31037055,\n",
       "       18.31037055, 18.31037055, 18.31037055, 18.31037055, 18.31037055,\n",
       "       18.31037055, 18.31037055, 18.31037055, 18.31037055, 18.31037055,\n",
       "       18.31037055, 18.31037055, 18.31037055, 18.31037055, 18.31037055,\n",
       "       18.31037055, 18.31037055, 18.31037055, 18.31037055, 18.31037055,\n",
       "       18.31037055, 18.31037055, 18.31037055, 18.31037055, 18.31037055,\n",
       "       18.31037055, 18.31037055, 18.31037055, 18.31037055, 18.31037055,\n",
       "       18.31037055, 18.31037055, 18.31037055, 18.31037055, 18.31037055,\n",
       "       18.31037055, 18.31037055, 18.31037055, 18.31037055, 18.31037055,\n",
       "       18.31037055, 18.31037055, 18.31037055, 18.31037055, 18.31037055,\n",
       "       18.31037055, 18.31037055, 18.31037055, 18.31037055, 18.31037055,\n",
       "       18.31037055, 18.31037055, 18.31037055, 18.31037055, 18.31037055,\n",
       "       18.31037055, 18.31037055, 18.31037055, 18.31037055, 18.31037055,\n",
       "       18.31037055, 18.31037055, 18.31037055, 18.31037055, 18.31037055,\n",
       "       18.31037055, 18.31037055, 18.31037055, 18.31037055, 18.31037055,\n",
       "       18.31037055, 18.31037055, 18.31037055, 18.31037055, 18.31037055,\n",
       "       18.31037055, 18.31037055, 18.31037055, 18.31037055, 18.31037055,\n",
       "       18.31037055, 18.31037055, 18.31037055, 18.31037055, 18.31037055,\n",
       "       18.31037055, 18.31037055, 18.31037055, 18.31037055, 18.31037055,\n",
       "       18.31037055, 18.31037055, 18.31037055, 18.31037055, 18.31037055,\n",
       "       18.31037055, 18.31037055, 18.31037055, 18.31037055, 18.31037055,\n",
       "       18.31037055, 18.31037055, 18.31037055, 18.31037055, 18.31037055,\n",
       "       18.31037055, 18.31037055, 18.31037055, 18.31037055, 18.31037055,\n",
       "       18.31037055, 18.31037055, 18.31037055, 18.31037055, 18.31037055,\n",
       "       18.31037055, 18.31037055, 18.31037055, 18.31037055, 18.31037055,\n",
       "       18.31037055, 18.31037055, 18.31037055, 18.31037055, 18.31037055,\n",
       "       18.31037055, 18.31037055, 18.31037055, 18.31037055, 18.31037055,\n",
       "       18.31037055, 18.31037055, 18.31037055, 18.31037055, 18.31037055,\n",
       "       18.31037055, 18.31037055, 18.31037055, 18.31037055, 18.31037055,\n",
       "       18.31037055, 18.31037055, 18.31037055, 18.31037055, 18.31037055,\n",
       "       18.31037055, 18.31037055, 18.31037055, 18.31037055, 18.31037055,\n",
       "       18.31037055, 18.31037055, 18.31037055, 18.31037055, 18.31037055,\n",
       "       18.31037055, 18.31037055, 18.31037055, 18.31037055, 18.31037055,\n",
       "       18.31037055, 18.31037055, 18.31037055, 18.31037055, 18.31037055,\n",
       "       18.31037055, 18.31037055, 18.31037055, 18.31037055, 18.31037055,\n",
       "       18.31037055, 18.31037055, 18.31037055, 18.31037055, 18.31037055,\n",
       "       18.31037055, 18.31037055, 18.31037055, 18.31037055, 18.31037055,\n",
       "       18.31037055, 18.31037055, 18.31037055, 18.31037055, 18.31037055,\n",
       "       18.31037055, 18.31037055, 18.31037055, 18.31037055, 18.31037055,\n",
       "       18.31037055, 18.31037055, 18.31037055, 18.31037055, 18.31037055,\n",
       "       18.31037055, 18.31037055, 18.31037055, 18.31037055, 18.31037055,\n",
       "       18.31037055, 18.31037055, 18.31037055, 18.31037055, 18.31037055,\n",
       "       18.31037055, 18.31037055, 18.31037055, 18.31037055, 18.31037055,\n",
       "       18.31037055, 18.31037055, 18.31037055, 18.31037055, 18.31037055,\n",
       "       18.31037055, 18.31037055, 18.31037055, 18.31037055, 18.31037055,\n",
       "       18.31037055, 18.31037055, 18.31037055, 18.31037055, 18.31037055,\n",
       "       18.31037055, 18.31037055, 18.31037055, 18.31037055, 18.31037055,\n",
       "       18.31037055, 18.31037055, 18.31037055, 18.31037055, 18.31037055,\n",
       "       18.31037055, 18.31037055, 18.31037055, 18.31037055, 18.31037055,\n",
       "       18.31037055, 18.31037055, 18.31037055, 18.31037055, 18.31037055,\n",
       "       18.31037055, 18.31037055, 18.31037055, 18.31037055, 18.31037055,\n",
       "       18.31037055, 18.31037055, 18.31037055, 18.31037055, 18.31037055,\n",
       "       18.31037055, 18.31037055, 18.31037055, 18.31037055, 18.31037055,\n",
       "       18.31037055, 18.31037055, 18.31037055, 18.31037055, 18.31037055,\n",
       "       18.31037055, 18.31037055, 18.31037055, 18.31037055, 18.31037055,\n",
       "       18.31037055, 18.31037055, 18.31037055, 18.31037055, 18.31037055,\n",
       "       18.31037055, 18.31037055, 18.31037055, 18.31037055, 18.31037055,\n",
       "       18.31037055, 18.31037055, 18.31037055, 18.31037055, 18.31037055,\n",
       "       18.31037055, 18.31037055, 18.31037055, 18.31037055, 18.31037055,\n",
       "       18.31037055, 18.31037055, 18.31037055, 18.31037055, 18.31037055,\n",
       "       18.31037055, 18.31037055, 18.31037055, 18.31037055, 18.31037055,\n",
       "       18.31037055, 18.31037055, 18.31037055, 18.31037055, 18.31037055,\n",
       "       18.31037055, 18.31037055, 18.31037055, 18.31037055, 18.31037055,\n",
       "       18.31037055, 18.31037055, 18.31037055, 18.31037055, 18.31037055,\n",
       "       18.31037055, 18.31037055, 18.31037055, 18.31037055, 18.31037055,\n",
       "       18.31037055, 18.31037055, 18.31037055, 18.31037055, 18.31037055,\n",
       "       18.31037055, 18.31037055, 18.31037055, 18.31037055, 18.31037055,\n",
       "       18.31037055, 18.31037055, 18.31037055, 18.31037055, 18.31037055,\n",
       "       18.31037055])"
      ]
     },
     "execution_count": 29,
     "metadata": {},
     "output_type": "execute_result"
    }
   ],
   "source": [
    "# returns the mean\n",
    "tst1"
   ]
  },
  {
   "cell_type": "code",
   "execution_count": null,
   "metadata": {},
   "outputs": [],
   "source": [
    "rft = np.fft.rfft(Tave)\n",
    "rft[SM_NUM:] = 0.0\n",
    "tave_smooth = np.fft.irfft(rft)"
   ]
  },
  {
   "cell_type": "code",
   "execution_count": null,
   "metadata": {},
   "outputs": [],
   "source": [
    "Fig1 = plt.figure()\n",
    "Fig1.set_size_inches(10.0, 6.0)\n",
    "ax11 = Fig1.add_subplot(111)\n",
    "ax11.scatter( AllDays, Tave, c='xkcd:khaki', marker='o', alpha=0.65, label=\"Day Average\")\n",
    "ax11.plot( AllDays, tave_smooth, linestyle='-', color='xkcd:dark brown', linewidth=2.0, \n",
    "           label=\"Smoothed Day Average\")\n",
    "ax11.set_title('Wet State', fontsize=16 )\n",
    "ax11.set_xlabel('Day of the Year', fontsize=14 )\n",
    "ax11.set_ylabel('Daily Average Temperature (deg C)', fontsize=14)\n",
    "ax11.legend()\n",
    "ax11.tick_params(axis='both', which='major', labelsize=13)\n",
    "ax11.yaxis.set_major_formatter( mpl.ticker.StrMethodFormatter( \"{x:,.1f}\" ) )\n",
    "ax11.xaxis.set_major_formatter( mpl.ticker.StrMethodFormatter( \"{x:,.0f}\" ) )"
   ]
  },
  {
   "cell_type": "code",
   "execution_count": null,
   "metadata": {},
   "outputs": [],
   "source": [
    "Tmin = np.array( WetDF['Tmin_C'], dtype=np.float32 )"
   ]
  },
  {
   "cell_type": "code",
   "execution_count": null,
   "metadata": {},
   "outputs": [],
   "source": [
    "Fig1 = plt.figure()\n",
    "Fig1.set_size_inches(10.0, 6.0)\n",
    "ax11 = Fig1.add_subplot(111)\n",
    "ax11.scatter( AllDays, Tmin, c='xkcd:grey green', marker='o' )\n",
    "ax11.set_title('Dry State', fontsize=16 )\n",
    "ax11.set_xlabel('Day of the Year', fontsize=14 )\n",
    "ax11.set_ylabel('Daily Minimum Temperature (deg C)', fontsize=14)\n",
    "ax11.tick_params(axis='both', which='major', labelsize=13)\n",
    "ax11.yaxis.set_major_formatter( mpl.ticker.StrMethodFormatter( \"{x:,.1f}\" ) )\n",
    "ax11.xaxis.set_major_formatter( mpl.ticker.StrMethodFormatter( \"{x:,.0f}\" ) )"
   ]
  },
  {
   "cell_type": "code",
   "execution_count": null,
   "metadata": {},
   "outputs": [],
   "source": [
    "rft = np.fft.rfft(Tmin)\n",
    "rft[SM_NUM:] = 0.0\n",
    "tmin_smooth = np.fft.irfft(rft)"
   ]
  },
  {
   "cell_type": "code",
   "execution_count": null,
   "metadata": {},
   "outputs": [],
   "source": [
    "Fig1 = plt.figure()\n",
    "Fig1.set_size_inches(10.0, 6.0)\n",
    "ax11 = Fig1.add_subplot(111)\n",
    "ax11.scatter( AllDays, Tmin, c='xkcd:grey green', marker='o', alpha=0.65, label=\"Day Average\")\n",
    "ax11.plot( AllDays, tmin_smooth, linestyle='-', color='xkcd:hunter green', linewidth=2.0, \n",
    "           label=\"Smoothed Day Average\")\n",
    "ax11.set_title('Wet State', fontsize=16 )\n",
    "ax11.set_xlabel('Day of the Year', fontsize=14 )\n",
    "ax11.set_ylabel('Daily Minimum Temperature (deg C)', fontsize=14)\n",
    "ax11.legend()\n",
    "ax11.tick_params(axis='both', which='major', labelsize=13)\n",
    "ax11.yaxis.set_major_formatter( mpl.ticker.StrMethodFormatter( \"{x:,.1f}\" ) )\n",
    "ax11.xaxis.set_major_formatter( mpl.ticker.StrMethodFormatter( \"{x:,.0f}\" ) )"
   ]
  },
  {
   "cell_type": "code",
   "execution_count": null,
   "metadata": {},
   "outputs": [],
   "source": [
    "Fig1 = plt.figure()\n",
    "Fig1.set_size_inches(10.0, 6.0)\n",
    "ax11 = Fig1.add_subplot(111)\n",
    "ax11.plot( AllDays, tmax_smooth, linestyle='-', color='xkcd:navy', linewidth=2.0, \n",
    "           label=\"Smoothed Maximum\")\n",
    "ax11.plot( AllDays, tave_smooth, linestyle='-', color='xkcd:dark brown', linewidth=2.0, \n",
    "           label=\"Smoothed Average\")\n",
    "ax11.plot( AllDays, tmin_smooth, linestyle='-', color='xkcd:hunter green', linewidth=2.0, \n",
    "           label=\"Smoothed Mininum\")\n",
    "ax11.set_title('Wet State', fontsize=16 )\n",
    "ax11.set_xlabel('Day of the Year', fontsize=14 )\n",
    "ax11.set_ylabel('Daily Temperature (deg C)', fontsize=14)\n",
    "ax11.legend()\n",
    "ax11.tick_params(axis='both', which='major', labelsize=13)\n",
    "ax11.yaxis.set_major_formatter( mpl.ticker.StrMethodFormatter( \"{x:,.1f}\" ) )\n",
    "ax11.xaxis.set_major_formatter( mpl.ticker.StrMethodFormatter( \"{x:,.0f}\" ) )"
   ]
  },
  {
   "cell_type": "code",
   "execution_count": null,
   "metadata": {},
   "outputs": [],
   "source": [
    "OutCols"
   ]
  },
  {
   "cell_type": "code",
   "execution_count": null,
   "metadata": {},
   "outputs": [],
   "source": [
    "DaysIndexer = np.array( WetDF.index, dtype=np.int32 )\n",
    "DataDict = { OutCols[0] : tmax_smooth,\n",
    "             OutCols[1] : tave_smooth,\n",
    "             OutCols[2] : tmin_smooth,\n",
    "           }\n",
    "OutWetDF = pd.DataFrame(index=DaysIndexer, data=DataDict )"
   ]
  },
  {
   "cell_type": "markdown",
   "metadata": {},
   "source": [
    "### Dry State"
   ]
  },
  {
   "cell_type": "code",
   "execution_count": null,
   "metadata": {},
   "outputs": [],
   "source": [
    "Tmax = np.array( DryDF['Tmax_C'], dtype=np.float32 )"
   ]
  },
  {
   "cell_type": "code",
   "execution_count": null,
   "metadata": {},
   "outputs": [],
   "source": [
    "Fig1 = plt.figure()\n",
    "Fig1.set_size_inches(10.0, 6.0)\n",
    "ax11 = Fig1.add_subplot(111)\n",
    "ax11.scatter( AllDays, Tmax, c='xkcd:cornflower', marker='o' )\n",
    "ax11.set_xlabel('Day of the Year', fontsize=14 )\n",
    "ax11.set_ylabel('Daily Maximum Temperature (deg C)', fontsize=14)\n",
    "ax11.set_title(\"Dry State\", fontsize=16)\n",
    "ax11.tick_params(axis='both', which='major', labelsize=13)\n",
    "ax11.yaxis.set_major_formatter( mpl.ticker.StrMethodFormatter( \"{x:,.1f}\" ) )\n",
    "ax11.xaxis.set_major_formatter( mpl.ticker.StrMethodFormatter( \"{x:,.0f}\" ) )"
   ]
  },
  {
   "cell_type": "code",
   "execution_count": null,
   "metadata": {},
   "outputs": [],
   "source": [
    "rft = np.fft.rfft(Tmax)\n",
    "rft[SM_NUM:] = 0.0\n",
    "tmax_smooth = np.fft.irfft(rft)"
   ]
  },
  {
   "cell_type": "code",
   "execution_count": null,
   "metadata": {},
   "outputs": [],
   "source": [
    "Fig1 = plt.figure()\n",
    "Fig1.set_size_inches(10.0, 6.0)\n",
    "ax11 = Fig1.add_subplot(111)\n",
    "ax11.scatter( AllDays, Tmax, c='xkcd:cornflower', marker='o', alpha=0.65, label=\"Day Average\")\n",
    "ax11.plot( AllDays, tmax_smooth, linestyle='-', color='xkcd:electric blue', linewidth=2.0, \n",
    "           label=\"Smoothed Day Average\")\n",
    "ax11.set_title('Dry State', fontsize=16 )\n",
    "ax11.set_xlabel('Day of the Year', fontsize=14 )\n",
    "ax11.set_ylabel('Daily Maximum Temperature (deg C)', fontsize=14)\n",
    "ax11.legend()\n",
    "ax11.tick_params(axis='both', which='major', labelsize=13)\n",
    "ax11.yaxis.set_major_formatter( mpl.ticker.StrMethodFormatter( \"{x:,.1f}\" ) )\n",
    "ax11.xaxis.set_major_formatter( mpl.ticker.StrMethodFormatter( \"{x:,.0f}\" ) )"
   ]
  },
  {
   "cell_type": "code",
   "execution_count": null,
   "metadata": {},
   "outputs": [],
   "source": [
    "Tave = np.array( DryDF['Tmean_C'], dtype=np.float32 )"
   ]
  },
  {
   "cell_type": "code",
   "execution_count": null,
   "metadata": {},
   "outputs": [],
   "source": [
    "Fig1 = plt.figure()\n",
    "Fig1.set_size_inches(10.0, 6.0)\n",
    "ax11 = Fig1.add_subplot(111)\n",
    "ax11.scatter( AllDays, Tave, c='xkcd:adobe', marker='o' )\n",
    "ax11.set_title('Dry State', fontsize=16 )\n",
    "ax11.set_xlabel('Day of the Year', fontsize=14 )\n",
    "ax11.set_ylabel('Daily Average Temperature (deg C)', fontsize=14)\n",
    "ax11.tick_params(axis='both', which='major', labelsize=13)\n",
    "ax11.yaxis.set_major_formatter( mpl.ticker.StrMethodFormatter( \"{x:,.1f}\" ) )\n",
    "ax11.xaxis.set_major_formatter( mpl.ticker.StrMethodFormatter( \"{x:,.0f}\" ) )"
   ]
  },
  {
   "cell_type": "code",
   "execution_count": null,
   "metadata": {},
   "outputs": [],
   "source": [
    "rft = np.fft.rfft(Tave)\n",
    "rft[SM_NUM:] = 0.0\n",
    "tave_smooth = np.fft.irfft(rft)"
   ]
  },
  {
   "cell_type": "code",
   "execution_count": null,
   "metadata": {},
   "outputs": [],
   "source": [
    "Fig1 = plt.figure()\n",
    "Fig1.set_size_inches(10.0, 6.0)\n",
    "ax11 = Fig1.add_subplot(111)\n",
    "ax11.scatter( AllDays, Tave, c='xkcd:adobe', marker='o', alpha=0.65, label=\"Day Average\")\n",
    "ax11.plot( AllDays, tave_smooth, linestyle='-', color='xkcd:faded red', linewidth=2.0, \n",
    "           label=\"Smoothed Day Average\")\n",
    "ax11.set_title('Dry State', fontsize=16 )\n",
    "ax11.set_xlabel('Day of the Year', fontsize=14 )\n",
    "ax11.set_ylabel('Daily Average Temperature (deg C)', fontsize=14)\n",
    "ax11.legend()\n",
    "ax11.tick_params(axis='both', which='major', labelsize=13)\n",
    "ax11.yaxis.set_major_formatter( mpl.ticker.StrMethodFormatter( \"{x:,.1f}\" ) )\n",
    "ax11.xaxis.set_major_formatter( mpl.ticker.StrMethodFormatter( \"{x:,.0f}\" ) )"
   ]
  },
  {
   "cell_type": "code",
   "execution_count": null,
   "metadata": {},
   "outputs": [],
   "source": [
    "Tmin = np.array( DryDF['Tmin_C'], dtype=np.float32 )"
   ]
  },
  {
   "cell_type": "code",
   "execution_count": null,
   "metadata": {},
   "outputs": [],
   "source": [
    "Fig1 = plt.figure()\n",
    "Fig1.set_size_inches(10.0, 6.0)\n",
    "ax11 = Fig1.add_subplot(111)\n",
    "ax11.scatter( AllDays, Tmin, c='xkcd:slime green', marker='o' )\n",
    "ax11.set_title('Dry State', fontsize=16 )\n",
    "ax11.set_xlabel('Day of the Year', fontsize=14 )\n",
    "ax11.set_ylabel('Daily Minimum Temperature (deg C)', fontsize=14)\n",
    "ax11.tick_params(axis='both', which='major', labelsize=13)\n",
    "ax11.yaxis.set_major_formatter( mpl.ticker.StrMethodFormatter( \"{x:,.1f}\" ) )\n",
    "ax11.xaxis.set_major_formatter( mpl.ticker.StrMethodFormatter( \"{x:,.0f}\" ) )"
   ]
  },
  {
   "cell_type": "code",
   "execution_count": null,
   "metadata": {},
   "outputs": [],
   "source": [
    "rft = np.fft.rfft(Tmin)\n",
    "rft[SM_NUM:] = 0.0\n",
    "tmin_smooth = np.fft.irfft(rft)"
   ]
  },
  {
   "cell_type": "code",
   "execution_count": null,
   "metadata": {},
   "outputs": [],
   "source": [
    "Fig1 = plt.figure()\n",
    "Fig1.set_size_inches(10.0, 6.0)\n",
    "ax11 = Fig1.add_subplot(111)\n",
    "ax11.scatter( AllDays, Tmin, c='xkcd:slime green', marker='o', alpha=0.65, label=\"Day Average\")\n",
    "ax11.plot( AllDays, tmin_smooth, linestyle='-', color='xkcd:frog green', linewidth=2.0, \n",
    "           label=\"Smoothed Day Average\")\n",
    "ax11.set_title('Dry State', fontsize=16 )\n",
    "ax11.set_xlabel('Day of the Year', fontsize=14 )\n",
    "ax11.set_ylabel('Daily Minimum Temperature (deg C)', fontsize=14)\n",
    "ax11.legend()\n",
    "ax11.tick_params(axis='both', which='major', labelsize=13)\n",
    "ax11.yaxis.set_major_formatter( mpl.ticker.StrMethodFormatter( \"{x:,.1f}\" ) )\n",
    "ax11.xaxis.set_major_formatter( mpl.ticker.StrMethodFormatter( \"{x:,.0f}\" ) )"
   ]
  },
  {
   "cell_type": "code",
   "execution_count": null,
   "metadata": {},
   "outputs": [],
   "source": [
    "Fig1 = plt.figure()\n",
    "Fig1.set_size_inches(10.0, 6.0)\n",
    "ax11 = Fig1.add_subplot(111)\n",
    "ax11.plot( AllDays, tmax_smooth, linestyle='-', color='xkcd:electric blue', linewidth=2.0, \n",
    "           label=\"Smoothed Maximum\")\n",
    "ax11.plot( AllDays, tave_smooth, linestyle='-', color='xkcd:faded red', linewidth=2.0, \n",
    "           label=\"Smoothed Average\")\n",
    "ax11.plot( AllDays, tmin_smooth, linestyle='-', color='xkcd:frog green', linewidth=2.0, \n",
    "           label=\"Smoothed Mininum\")\n",
    "ax11.set_title('Dry State', fontsize=16 )\n",
    "ax11.set_xlabel('Day of the Year', fontsize=14 )\n",
    "ax11.set_ylabel('Daily Temperature (deg C)', fontsize=14)\n",
    "ax11.legend()\n",
    "ax11.tick_params(axis='both', which='major', labelsize=13)\n",
    "ax11.yaxis.set_major_formatter( mpl.ticker.StrMethodFormatter( \"{x:,.1f}\" ) )\n",
    "ax11.xaxis.set_major_formatter( mpl.ticker.StrMethodFormatter( \"{x:,.0f}\" ) )"
   ]
  },
  {
   "cell_type": "code",
   "execution_count": null,
   "metadata": {},
   "outputs": [],
   "source": [
    "DataDict = { OutCols[0] : tmax_smooth,\n",
    "             OutCols[1] : tave_smooth,\n",
    "             OutCols[2] : tmin_smooth,\n",
    "           }\n",
    "OutDryDF = pd.DataFrame(index=DaysIndexer, data=DataDict )"
   ]
  },
  {
   "cell_type": "code",
   "execution_count": null,
   "metadata": {},
   "outputs": [],
   "source": [
    "Fig1 = plt.figure()\n",
    "Fig1.set_size_inches(10.0, 6.0)\n",
    "ax11 = Fig1.add_subplot(111)\n",
    "OutDryDF.plot( y=OutCols[0], color='xkcd:electric blue', linewidth=2.0, ax=ax11, \n",
    "               label='Dry Maximum' )\n",
    "OutWetDF.plot( y=OutCols[0], color='xkcd:navy', linewidth=2.0, ax=ax11, \n",
    "               label='Wet Maximum' )\n",
    "OutDryDF.plot( y=OutCols[1], color='xkcd:faded red', linewidth=2.0, ax=ax11, \n",
    "               label='Dry Average' )\n",
    "OutWetDF.plot( y=OutCols[1], color='xkcd:dark brown', linewidth=2.0, ax=ax11, \n",
    "               label='Wet Average' )\n",
    "OutDryDF.plot( y=OutCols[2], color='xkcd:frog green', linewidth=2.0, ax=ax11, \n",
    "               label='Dry Minimum' )\n",
    "OutWetDF.plot( y=OutCols[2], color='xkcd:hunter green', linewidth=2.0, ax=ax11, \n",
    "               label='Wet Minimum' )\n",
    "ax11.set_xlabel('Day of the Year', fontsize=14 )\n",
    "ax11.set_ylabel('Daily Temperature (deg C)', fontsize=14)\n",
    "ax11.legend()\n",
    "ax11.tick_params(axis='both', which='major', labelsize=13)\n",
    "ax11.yaxis.set_major_formatter( mpl.ticker.StrMethodFormatter( \"{x:,.1f}\" ) )\n",
    "ax11.xaxis.set_major_formatter( mpl.ticker.StrMethodFormatter( \"{x:,.0f}\" ) )"
   ]
  },
  {
   "cell_type": "markdown",
   "metadata": {},
   "source": [
    "## Fourier Smoothing of Dewpoint and Relative Humidity"
   ]
  },
  {
   "cell_type": "markdown",
   "metadata": {},
   "source": [
    "### Wet State"
   ]
  },
  {
   "cell_type": "code",
   "execution_count": null,
   "metadata": {},
   "outputs": [],
   "source": [
    "Dpoint = np.array( WetDF[OutCols[3]], dtype=np.float32 )\n",
    "Rhum = np.array( WetDF[OutCols[4]], dtype=np.float32 )"
   ]
  },
  {
   "cell_type": "code",
   "execution_count": null,
   "metadata": {},
   "outputs": [],
   "source": [
    "rft = np.fft.rfft(Dpoint)\n",
    "rft[SM_NUM:] = 0.0\n",
    "dpt_smooth = np.fft.irfft(rft)"
   ]
  },
  {
   "cell_type": "code",
   "execution_count": null,
   "metadata": {},
   "outputs": [],
   "source": [
    "rft = np.fft.rfft(Rhum)\n",
    "rft[SM_NUM:] = 0.0\n",
    "rh_smooth = np.fft.irfft(rft)"
   ]
  },
  {
   "cell_type": "code",
   "execution_count": null,
   "metadata": {},
   "outputs": [],
   "source": [
    "Fig1 = plt.figure()\n",
    "Fig1.set_size_inches(10.0, 6.0)\n",
    "ax11 = Fig1.add_subplot(111)\n",
    "ax11.scatter( AllDays, Dpoint, c='xkcd:purplish brown', marker='o', alpha=0.65, label=\"Day Average\")\n",
    "ax11.plot( AllDays, dpt_smooth, linestyle='-', color='xkcd:dark plum', linewidth=2.0, \n",
    "           label=\"Smoothed Day Average\")\n",
    "ax11.set_title('Wet State', fontsize=16 )\n",
    "ax11.set_xlabel('Day of the Year', fontsize=14 )\n",
    "ax11.set_ylabel('Daily Dew Point Temp (deg C)', fontsize=14)\n",
    "ax11.legend()\n",
    "ax11.tick_params(axis='both', which='major', labelsize=13)\n",
    "ax11.yaxis.set_major_formatter( mpl.ticker.StrMethodFormatter( \"{x:,.1f}\" ) )\n",
    "ax11.xaxis.set_major_formatter( mpl.ticker.StrMethodFormatter( \"{x:,.0f}\" ) )"
   ]
  },
  {
   "cell_type": "code",
   "execution_count": null,
   "metadata": {},
   "outputs": [],
   "source": [
    "Fig1 = plt.figure()\n",
    "Fig1.set_size_inches(10.0, 6.0)\n",
    "ax11 = Fig1.add_subplot(111)\n",
    "ax11.scatter( AllDays, Rhum, c='xkcd:faded orange', marker='o', alpha=0.65, label=\"Day Average\")\n",
    "ax11.plot( AllDays, rh_smooth, linestyle='-', color='xkcd:rust orange', linewidth=2.0, \n",
    "           label=\"Smoothed Day Average\")\n",
    "ax11.set_title('Wet State', fontsize=16 )\n",
    "ax11.set_xlabel('Day of the Year', fontsize=14 )\n",
    "ax11.set_ylabel('Daily Relative Humidity (%)', fontsize=14)\n",
    "ax11.legend()\n",
    "ax11.tick_params(axis='both', which='major', labelsize=13)\n",
    "ax11.yaxis.set_major_formatter( mpl.ticker.StrMethodFormatter( \"{x:,.1f}\" ) )\n",
    "ax11.xaxis.set_major_formatter( mpl.ticker.StrMethodFormatter( \"{x:,.0f}\" ) )"
   ]
  },
  {
   "cell_type": "code",
   "execution_count": null,
   "metadata": {},
   "outputs": [],
   "source": [
    "OutWetDF[OutCols[3]] = dpt_smooth\n",
    "OutWetDF[OutCols[4]] = rh_smooth"
   ]
  },
  {
   "cell_type": "markdown",
   "metadata": {},
   "source": [
    "### Dry State"
   ]
  },
  {
   "cell_type": "code",
   "execution_count": null,
   "metadata": {},
   "outputs": [],
   "source": [
    "Dpoint = np.array( DryDF[OutCols[3]], dtype=np.float32 )\n",
    "Rhum = np.array( DryDF[OutCols[4]], dtype=np.float32 )"
   ]
  },
  {
   "cell_type": "code",
   "execution_count": null,
   "metadata": {},
   "outputs": [],
   "source": [
    "rft = np.fft.rfft(Dpoint)\n",
    "rft[SM_NUM:] = 0.0\n",
    "dpt_smooth = np.fft.irfft(rft)"
   ]
  },
  {
   "cell_type": "code",
   "execution_count": null,
   "metadata": {},
   "outputs": [],
   "source": [
    "rft = np.fft.rfft(Rhum)\n",
    "rft[SM_NUM:] = 0.0\n",
    "rh_smooth = np.fft.irfft(rft)"
   ]
  },
  {
   "cell_type": "code",
   "execution_count": null,
   "metadata": {},
   "outputs": [],
   "source": [
    "Fig1 = plt.figure()\n",
    "Fig1.set_size_inches(10.0, 6.0)\n",
    "ax11 = Fig1.add_subplot(111)\n",
    "ax11.scatter( AllDays, Dpoint, c='xkcd:purplish brown', marker='o', alpha=0.65, label=\"Day Average\")\n",
    "ax11.plot( AllDays, dpt_smooth, linestyle='-', color='xkcd:dark plum', linewidth=2.0, \n",
    "           label=\"Smoothed Day Average\")\n",
    "ax11.set_title('Dry State', fontsize=16 )\n",
    "ax11.set_xlabel('Day of the Year', fontsize=14 )\n",
    "ax11.set_ylabel('Daily Dew Point Temp (deg C)', fontsize=14)\n",
    "ax11.legend()\n",
    "ax11.tick_params(axis='both', which='major', labelsize=13)\n",
    "ax11.yaxis.set_major_formatter( mpl.ticker.StrMethodFormatter( \"{x:,.1f}\" ) )\n",
    "ax11.xaxis.set_major_formatter( mpl.ticker.StrMethodFormatter( \"{x:,.0f}\" ) )"
   ]
  },
  {
   "cell_type": "code",
   "execution_count": null,
   "metadata": {},
   "outputs": [],
   "source": [
    "Fig1 = plt.figure()\n",
    "Fig1.set_size_inches(10.0, 6.0)\n",
    "ax11 = Fig1.add_subplot(111)\n",
    "ax11.scatter( AllDays, Rhum, c='xkcd:faded orange', marker='o', alpha=0.65, label=\"Day Average\")\n",
    "ax11.plot( AllDays, rh_smooth, linestyle='-', color='xkcd:rust orange', linewidth=2.0, \n",
    "           label=\"Smoothed Day Average\")\n",
    "ax11.set_title('Dry State', fontsize=16 )\n",
    "ax11.set_xlabel('Day of the Year', fontsize=14 )\n",
    "ax11.set_ylabel('Daily Relative Humidity (%)', fontsize=14)\n",
    "ax11.legend()\n",
    "ax11.tick_params(axis='both', which='major', labelsize=13)\n",
    "ax11.yaxis.set_major_formatter( mpl.ticker.StrMethodFormatter( \"{x:,.1f}\" ) )\n",
    "ax11.xaxis.set_major_formatter( mpl.ticker.StrMethodFormatter( \"{x:,.0f}\" ) )"
   ]
  },
  {
   "cell_type": "code",
   "execution_count": null,
   "metadata": {},
   "outputs": [],
   "source": [
    "OutDryDF[OutCols[3]] = dpt_smooth\n",
    "OutDryDF[OutCols[4]] = rh_smooth"
   ]
  },
  {
   "cell_type": "markdown",
   "metadata": {},
   "source": [
    "## Output Smoothed"
   ]
  },
  {
   "cell_type": "code",
   "execution_count": null,
   "metadata": {},
   "outputs": [],
   "source": [
    "display( HTML( OutWetDF.describe().to_html() ) )"
   ]
  },
  {
   "cell_type": "code",
   "execution_count": null,
   "metadata": {},
   "outputs": [],
   "source": [
    "display( HTML( OutDryDF.describe().to_html() ) )"
   ]
  },
  {
   "cell_type": "code",
   "execution_count": null,
   "metadata": {},
   "outputs": [],
   "source": [
    "OutXLSX = os.path.normpath( os.path.join( OUT_DIR, \"OWeath_Smooth_Ave_1981-2010.xlsx\" ))\n",
    "with pd.ExcelWriter(OutXLSX) as writer:\n",
    "    OutWetDF.to_excel( writer, sheet_name=\"Wet Days\", index=True, \n",
    "                       index_label=\"Days\", columns=OutCols )\n",
    "    OutDryDF.to_excel( writer, sheet_name=\"Dry Days\", index=True, \n",
    "                       index_label=\"Days\", columns=OutCols )"
   ]
  },
  {
   "cell_type": "code",
   "execution_count": null,
   "metadata": {},
   "outputs": [],
   "source": [
    "PickOut = os.path.normpath( os.path.join( OUT_DIR, \"OWeath_Wet_Smooth_Ave_1981-2010.pickle\" ))\n",
    "OutWetDF.to_pickle( PickOut )\n",
    "PickOut = os.path.normpath( os.path.join( OUT_DIR, \"OWeath_Dry_Smooth_Ave_1981-2010.pickle\" ))\n",
    "OutDryDF.to_pickle( PickOut )"
   ]
  }
 ],
 "metadata": {
  "kernelspec": {
   "display_name": "Python 3 (ipykernel)",
   "language": "python",
   "name": "python3"
  },
  "language_info": {
   "codemirror_mode": {
    "name": "ipython",
    "version": 3
   },
   "file_extension": ".py",
   "mimetype": "text/x-python",
   "name": "python",
   "nbconvert_exporter": "python",
   "pygments_lexer": "ipython3",
   "version": "3.9.15"
  }
 },
 "nbformat": 4,
 "nbformat_minor": 4
}
