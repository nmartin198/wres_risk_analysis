{
 "cells": [
  {
   "cell_type": "markdown",
   "metadata": {},
   "source": [
    "# Compare Cumulative Water Balance between Pathways"
   ]
  },
  {
   "cell_type": "markdown",
   "metadata": {},
   "source": [
    "Two pathways are used within the framework.\n",
    "\n",
    "1. H0: null hypothesis of historical weather statistics\n",
    "2. H1: alternative hypothesis of weather statistics extracted from down-scaled, global climate model results.\n",
    "\n",
    "There are four analysis periods\n",
    "\n",
    "1. Data Period: 1981-2010\n",
    "2. Projection Period 1: 2011-2040\n",
    "3. Projection Period 2: 2041-2070\n",
    "4. Projection Period 3: 2071-2100"
   ]
  },
  {
   "cell_type": "markdown",
   "metadata": {},
   "source": [
    "## Imports and Parameters"
   ]
  },
  {
   "cell_type": "code",
   "execution_count": 1,
   "metadata": {},
   "outputs": [],
   "source": [
    "%matplotlib inline"
   ]
  },
  {
   "cell_type": "code",
   "execution_count": 2,
   "metadata": {},
   "outputs": [],
   "source": [
    "import os\n",
    "from IPython.display import display, HTML\n",
    "import pandas as pd\n",
    "import numpy as np\n",
    "import matplotlib as mpl\n",
    "import matplotlib.pyplot as plt\n",
    "import datetime as dt\n",
    "from math import floor, ceil\n",
    "from copy import deepcopy"
   ]
  },
  {
   "cell_type": "code",
   "execution_count": 3,
   "metadata": {},
   "outputs": [],
   "source": [
    "from pandas.plotting import register_matplotlib_converters\n",
    "register_matplotlib_converters()"
   ]
  },
  {
   "cell_type": "code",
   "execution_count": 4,
   "metadata": {},
   "outputs": [],
   "source": [
    "# input directories and file roots\n",
    "IN_DIR = r'\\\\augustine.space.swri.edu\\jdrive\\Groundwater\\R8937_Stochastic_CC_Recharge\\NumModel\\HSPF\\Basin_10P_10K'\n",
    "OUT_DIR = r'\\\\augustine.space.swri.edu\\jdrive\\Groundwater\\R8937_Stochastic_CC_Recharge\\NumModel\\HSPF\\Basin_10P_10K\\Processed'\n",
    "OUT_ROOT = \"DCmHBas_WBTot_\"\n",
    "NUMREAL = 10000\n",
    "IN_ROOT0 = \"R%d_H0_WBTotals_DF.pickle\"\n",
    "IN_ROOT1 = \"R%d_H1_WBTotals_DF.pickle\""
   ]
  },
  {
   "cell_type": "code",
   "execution_count": 5,
   "metadata": {},
   "outputs": [],
   "source": [
    "# time periods\n",
    "TP_DICT = { 1 : [ dt.datetime(1981, 1, 1), dt.datetime(2010, 12, 31)],\n",
    "            2 : [ dt.datetime(2011, 1, 1), dt.datetime(2040, 12, 31)],\n",
    "            3 : [ dt.datetime(2041, 1, 1), dt.datetime(2070, 12, 31)],\n",
    "            4 : [ dt.datetime(2071, 1, 1), dt.datetime(2100, 12, 31)],}"
   ]
  },
  {
   "cell_type": "code",
   "execution_count": 6,
   "metadata": {},
   "outputs": [
    {
     "data": {
      "text/plain": [
       "101"
      ]
     },
     "execution_count": 6,
     "metadata": {},
     "output_type": "execute_result"
    }
   ],
   "source": [
    "OurQs = np.array( [ round( 0.01 * x, 2 ) for x in range(101) ], dtype=np.float32 )\n",
    "NumQs = len( OurQs )\n",
    "NumQs"
   ]
  },
  {
   "cell_type": "code",
   "execution_count": 7,
   "metadata": {},
   "outputs": [],
   "source": [
    "StatsHdsList = list()\n",
    "for iI in range(NumQs):\n",
    "    cQ = OurQs[iI]\n",
    "    Hdr = \"%d_ptile\" % round(cQ * 100.0)\n",
    "    StatsHdsList.append( Hdr )\n",
    "# end of for\n",
    "StatsHdsList.append( \"Average\" )\n",
    "StatsHdsList.append( \"Variance\" )\n",
    "StatsHdsList.append( \"Skew\" )\n",
    "StatsHdsList.append( \"Kurt\" )"
   ]
  },
  {
   "cell_type": "code",
   "execution_count": 8,
   "metadata": {},
   "outputs": [
    {
     "data": {
      "text/plain": [
       "105"
      ]
     },
     "execution_count": 8,
     "metadata": {},
     "output_type": "execute_result"
    }
   ],
   "source": [
    "NumHdrs = len( StatsHdsList )\n",
    "NumHdrs"
   ]
  },
  {
   "cell_type": "code",
   "execution_count": 9,
   "metadata": {},
   "outputs": [],
   "source": [
    "WB_In_Hdrs = [ \"Tot_Prec\", #0\n",
    "               \"Tot_PET\", #1\n",
    "               \"Tot_AET\", #2\n",
    "               \"Tot_RO\", #3\n",
    "               \"Tot_Re\", #4\n",
    "             ]"
   ]
  },
  {
   "cell_type": "markdown",
   "metadata": {},
   "source": [
    "## Collate DataFrames"
   ]
  },
  {
   "cell_type": "markdown",
   "metadata": {},
   "source": [
    "### H0"
   ]
  },
  {
   "cell_type": "markdown",
   "metadata": {},
   "source": [
    "Go through all realizations and create a DataFrame for each constituent and each period"
   ]
  },
  {
   "cell_type": "code",
   "execution_count": 10,
   "metadata": {},
   "outputs": [
    {
     "name": "stdout",
     "output_type": "stream",
     "text": [
      "Working on realization 200\n",
      "Working on realization 400\n",
      "Working on realization 600\n",
      "Working on realization 800\n",
      "Working on realization 1000\n",
      "Working on realization 1200\n",
      "Working on realization 1400\n",
      "Working on realization 1600\n",
      "Working on realization 1800\n",
      "Working on realization 2000\n",
      "Working on realization 2200\n",
      "Working on realization 2400\n",
      "Working on realization 2600\n",
      "Working on realization 2800\n",
      "Working on realization 3000\n",
      "Working on realization 3200\n",
      "Working on realization 3400\n",
      "Working on realization 3600\n",
      "Working on realization 3800\n",
      "Working on realization 4000\n",
      "Working on realization 4200\n",
      "Working on realization 4400\n",
      "Working on realization 4600\n",
      "Working on realization 4800\n",
      "Working on realization 5000\n",
      "Working on realization 5200\n",
      "Working on realization 5400\n",
      "Working on realization 5600\n",
      "Working on realization 5800\n",
      "Working on realization 6000\n",
      "Working on realization 6200\n",
      "Working on realization 6400\n",
      "Working on realization 6600\n",
      "Working on realization 6800\n",
      "Working on realization 7000\n",
      "Working on realization 7200\n",
      "Working on realization 7400\n",
      "Working on realization 7600\n",
      "Working on realization 7800\n",
      "Working on realization 8000\n",
      "Working on realization 8200\n",
      "Working on realization 8400\n",
      "Working on realization 8600\n",
      "Working on realization 8800\n",
      "Working on realization 9000\n",
      "Working on realization 9200\n",
      "Working on realization 9400\n",
      "Working on realization 9600\n",
      "Working on realization 9800\n",
      "Working on realization 10000\n"
     ]
    }
   ],
   "source": [
    "for rR in range( 1, NUMREAL + 1, 1 ):\n",
    "    if ((rR % 200) == 0):\n",
    "        print(\"Working on realization %d\" % rR)\n",
    "    # end if\n",
    "    InFile = IN_ROOT0 % rR\n",
    "    InFP = os.path.normpath( os.path.join( IN_DIR, InFile ) )\n",
    "    InDF = pd.read_pickle( InFP, compression='zip' )\n",
    "    InDF = InDF.resample( 'MS', closed='left', label='left' ).sum()\n",
    "    if rR <= 1:\n",
    "        # data period\n",
    "        H0Precip1 = InDF[[WB_In_Hdrs[0]]].loc[TP_DICT[1][0]:TP_DICT[1][1]].copy()\n",
    "        H0Precip1[\"R_%d\" % rR] = H0Precip1[WB_In_Hdrs[0]].cumsum( )\n",
    "        H0Precip1.drop( columns=[WB_In_Hdrs[0]], inplace=True)\n",
    "        H0PET1 = InDF[[WB_In_Hdrs[1]]].loc[TP_DICT[1][0]:TP_DICT[1][1]].copy()\n",
    "        H0PET1[\"R_%d\" % rR] = H0PET1[WB_In_Hdrs[1]].cumsum( )\n",
    "        H0PET1.drop( columns=[WB_In_Hdrs[1]], inplace=True)\n",
    "        H0AET1 = InDF[[WB_In_Hdrs[2]]].loc[TP_DICT[1][0]:TP_DICT[1][1]].copy()\n",
    "        H0AET1[\"R_%d\" % rR] = H0AET1[WB_In_Hdrs[2]].cumsum( )\n",
    "        H0AET1.drop( columns=[WB_In_Hdrs[2]], inplace=True)\n",
    "        H0RO1 = InDF[[WB_In_Hdrs[3]]].loc[TP_DICT[1][0]:TP_DICT[1][1]].copy()\n",
    "        H0RO1[\"R_%d\" % rR] = H0RO1[WB_In_Hdrs[3]].cumsum( )\n",
    "        H0RO1.drop( columns=[WB_In_Hdrs[3]], inplace=True)\n",
    "        H0RE1 = InDF[[WB_In_Hdrs[4]]].loc[TP_DICT[1][0]:TP_DICT[1][1]].copy()\n",
    "        H0RE1[\"R_%d\" % rR] = H0RE1[WB_In_Hdrs[4]].cumsum( )\n",
    "        H0RE1.drop( columns=[WB_In_Hdrs[4]], inplace=True)\n",
    "        # Projection 1\n",
    "        H0Precip2 = InDF[[WB_In_Hdrs[0]]].loc[TP_DICT[2][0]:TP_DICT[2][1]].copy()\n",
    "        H0Precip2[\"R_%d\" % rR] = H0Precip2[WB_In_Hdrs[0]].cumsum( )\n",
    "        H0Precip2.drop( columns=[WB_In_Hdrs[0]], inplace=True)\n",
    "        H0PET2 = InDF[[WB_In_Hdrs[1]]].loc[TP_DICT[2][0]:TP_DICT[2][1]].copy()\n",
    "        H0PET2[\"R_%d\" % rR] = H0PET2[WB_In_Hdrs[1]].cumsum( )\n",
    "        H0PET2.drop( columns=[WB_In_Hdrs[1]], inplace=True)\n",
    "        H0AET2 = InDF[[WB_In_Hdrs[2]]].loc[TP_DICT[2][0]:TP_DICT[2][1]].copy()\n",
    "        H0AET2[\"R_%d\" % rR] = H0AET2[WB_In_Hdrs[2]].cumsum( )\n",
    "        H0AET2.drop( columns=[WB_In_Hdrs[2]], inplace=True)\n",
    "        H0RO2 = InDF[[WB_In_Hdrs[3]]].loc[TP_DICT[2][0]:TP_DICT[2][1]].copy()\n",
    "        H0RO2[\"R_%d\" % rR] = H0RO2[WB_In_Hdrs[3]].cumsum( )\n",
    "        H0RO2.drop( columns=[WB_In_Hdrs[3]], inplace=True)\n",
    "        H0RE2 = InDF[[WB_In_Hdrs[4]]].loc[TP_DICT[2][0]:TP_DICT[2][1]].copy()\n",
    "        H0RE2[\"R_%d\" % rR] = H0RE2[WB_In_Hdrs[4]].cumsum( )\n",
    "        H0RE2.drop( columns=[WB_In_Hdrs[4]], inplace=True)\n",
    "        # Projection 2\n",
    "        H0Precip3 = InDF[[WB_In_Hdrs[0]]].loc[TP_DICT[3][0]:TP_DICT[3][1]].copy()\n",
    "        H0Precip3[\"R_%d\" % rR] = H0Precip3[WB_In_Hdrs[0]].cumsum( )\n",
    "        H0Precip3.drop( columns=[WB_In_Hdrs[0]], inplace=True)\n",
    "        H0PET3 = InDF[[WB_In_Hdrs[1]]].loc[TP_DICT[3][0]:TP_DICT[3][1]].copy()\n",
    "        H0PET3[\"R_%d\" % rR] = H0PET3[WB_In_Hdrs[1]].cumsum( )\n",
    "        H0PET3.drop( columns=[WB_In_Hdrs[1]], inplace=True)\n",
    "        H0AET3 = InDF[[WB_In_Hdrs[2]]].loc[TP_DICT[3][0]:TP_DICT[3][1]].copy()\n",
    "        H0AET3[\"R_%d\" % rR] = H0AET3[WB_In_Hdrs[2]].cumsum( )\n",
    "        H0AET3.drop( columns=[WB_In_Hdrs[2]], inplace=True)\n",
    "        H0RO3 = InDF[[WB_In_Hdrs[3]]].loc[TP_DICT[3][0]:TP_DICT[3][1]].copy()\n",
    "        H0RO3[\"R_%d\" % rR] = H0RO3[WB_In_Hdrs[3]].cumsum( )\n",
    "        H0RO3.drop( columns=[WB_In_Hdrs[3]], inplace=True)\n",
    "        H0RE3 = InDF[[WB_In_Hdrs[4]]].loc[TP_DICT[3][0]:TP_DICT[3][1]].copy()\n",
    "        H0RE3[\"R_%d\" % rR] = H0RE3[WB_In_Hdrs[4]].cumsum( )\n",
    "        H0RE3.drop( columns=[WB_In_Hdrs[4]], inplace=True)\n",
    "        # Projection 3\n",
    "        H0Precip4 = InDF[[WB_In_Hdrs[0]]].loc[TP_DICT[4][0]:TP_DICT[4][1]].copy()\n",
    "        H0Precip4[\"R_%d\" % rR] = H0Precip4[WB_In_Hdrs[0]].cumsum( )\n",
    "        H0Precip4.drop( columns=[WB_In_Hdrs[0]], inplace=True)\n",
    "        H0PET4 = InDF[[WB_In_Hdrs[1]]].loc[TP_DICT[4][0]:TP_DICT[4][1]].copy()\n",
    "        H0PET4[\"R_%d\" % rR] = H0PET4[WB_In_Hdrs[1]].cumsum( )\n",
    "        H0PET4.drop( columns=[WB_In_Hdrs[1]], inplace=True)\n",
    "        H0AET4 = InDF[[WB_In_Hdrs[2]]].loc[TP_DICT[4][0]:TP_DICT[4][1]].copy()\n",
    "        H0AET4[\"R_%d\" % rR] = H0AET4[WB_In_Hdrs[2]].cumsum( )\n",
    "        H0AET4.drop( columns=[WB_In_Hdrs[2]], inplace=True)\n",
    "        H0RO4 = InDF[[WB_In_Hdrs[3]]].loc[TP_DICT[4][0]:TP_DICT[4][1]].copy()\n",
    "        H0RO4[\"R_%d\" % rR] = H0RO4[WB_In_Hdrs[3]].cumsum( )\n",
    "        H0RO4.drop( columns=[WB_In_Hdrs[3]], inplace=True)\n",
    "        H0RE4 = InDF[[WB_In_Hdrs[4]]].loc[TP_DICT[4][0]:TP_DICT[4][1]].copy()\n",
    "        H0RE4[\"R_%d\" % rR] = H0RE4[WB_In_Hdrs[4]].cumsum( )\n",
    "        H0RE4.drop( columns=[WB_In_Hdrs[4]], inplace=True)\n",
    "    else:\n",
    "        # data period\n",
    "        tmpPre = InDF[[WB_In_Hdrs[0]]].loc[TP_DICT[1][0]:TP_DICT[1][1]].copy()\n",
    "        tmpPre[\"R_%d\" % rR] = tmpPre[WB_In_Hdrs[0]].cumsum( )\n",
    "        tmpPre.drop( columns=[WB_In_Hdrs[0]], inplace=True)\n",
    "        H0Precip1 = H0Precip1.merge( tmpPre, how='inner', left_index=True, right_index=True )\n",
    "        tmpH0PET = InDF[[WB_In_Hdrs[1]]].loc[TP_DICT[1][0]:TP_DICT[1][1]].copy()\n",
    "        tmpH0PET[\"R_%d\" % rR] = tmpH0PET[WB_In_Hdrs[1]].cumsum( )\n",
    "        tmpH0PET.drop( columns=[WB_In_Hdrs[1]], inplace=True)\n",
    "        H0PET1 = H0PET1.merge( tmpH0PET, how='inner', left_index=True, right_index=True )\n",
    "        tmpH0AET = InDF[[WB_In_Hdrs[2]]].loc[TP_DICT[1][0]:TP_DICT[1][1]].copy()\n",
    "        tmpH0AET[\"R_%d\" % rR] = tmpH0AET[WB_In_Hdrs[2]].cumsum( )\n",
    "        tmpH0AET.drop( columns=[WB_In_Hdrs[2]], inplace=True)\n",
    "        H0AET1 = H0AET1.merge( tmpH0AET, how='inner', left_index=True, right_index=True )\n",
    "        tmpRO = InDF[[WB_In_Hdrs[3]]].loc[TP_DICT[1][0]:TP_DICT[1][1]].copy()\n",
    "        tmpRO[\"R_%d\" % rR] = tmpRO[WB_In_Hdrs[3]].cumsum( )\n",
    "        tmpRO.drop( columns=[WB_In_Hdrs[3]], inplace=True)\n",
    "        H0RO1 = H0RO1.merge( tmpRO, how='inner', left_index=True, right_index=True )\n",
    "        tmpRE = InDF[[WB_In_Hdrs[4]]].loc[TP_DICT[1][0]:TP_DICT[1][1]].copy()\n",
    "        tmpRE[\"R_%d\" % rR] = tmpRE[WB_In_Hdrs[4]].cumsum( )\n",
    "        tmpRE.drop( columns=[WB_In_Hdrs[4]], inplace=True)\n",
    "        H0RE1 = H0RE1.merge( tmpRE, how='inner', left_index=True, right_index=True )\n",
    "        # Projection 1\n",
    "        tmpPre = InDF[[WB_In_Hdrs[0]]].loc[TP_DICT[2][0]:TP_DICT[2][1]].copy()\n",
    "        tmpPre[\"R_%d\" % rR] = tmpPre[WB_In_Hdrs[0]].cumsum( )\n",
    "        tmpPre.drop( columns=[WB_In_Hdrs[0]], inplace=True)\n",
    "        H0Precip2 = H0Precip2.merge( tmpPre, how='inner', left_index=True, right_index=True )\n",
    "        tmpH0PET = InDF[[WB_In_Hdrs[1]]].loc[TP_DICT[2][0]:TP_DICT[2][1]].copy()\n",
    "        tmpH0PET[\"R_%d\" % rR] = tmpH0PET[WB_In_Hdrs[1]].cumsum( )\n",
    "        tmpH0PET.drop( columns=[WB_In_Hdrs[1]], inplace=True)\n",
    "        H0PET2 = H0PET2.merge( tmpH0PET, how='inner', left_index=True, right_index=True )\n",
    "        tmpH0AET = InDF[[WB_In_Hdrs[2]]].loc[TP_DICT[2][0]:TP_DICT[2][1]].copy()\n",
    "        tmpH0AET[\"R_%d\" % rR] = tmpH0AET[WB_In_Hdrs[2]].cumsum( )\n",
    "        tmpH0AET.drop( columns=[WB_In_Hdrs[2]], inplace=True)\n",
    "        H0AET2 = H0AET2.merge( tmpH0AET, how='inner', left_index=True, right_index=True )\n",
    "        tmpRO = InDF[[WB_In_Hdrs[3]]].loc[TP_DICT[2][0]:TP_DICT[2][1]].copy()\n",
    "        tmpRO[\"R_%d\" % rR] = tmpRO[WB_In_Hdrs[3]].cumsum( )\n",
    "        tmpRO.drop( columns=[WB_In_Hdrs[3]], inplace=True)\n",
    "        H0RO2 = H0RO2.merge( tmpRO, how='inner', left_index=True, right_index=True )\n",
    "        tmpRE = InDF[[WB_In_Hdrs[4]]].loc[TP_DICT[2][0]:TP_DICT[2][1]].copy()\n",
    "        tmpRE[\"R_%d\" % rR] = tmpRE[WB_In_Hdrs[4]].cumsum( )\n",
    "        tmpRE.drop( columns=[WB_In_Hdrs[4]], inplace=True)\n",
    "        H0RE2 = H0RE2.merge( tmpRE, how='inner', left_index=True, right_index=True )\n",
    "        # Projection 2\n",
    "        tmpPre = InDF[[WB_In_Hdrs[0]]].loc[TP_DICT[3][0]:TP_DICT[3][1]].copy()\n",
    "        tmpPre[\"R_%d\" % rR] = tmpPre[WB_In_Hdrs[0]].cumsum( )\n",
    "        tmpPre.drop( columns=[WB_In_Hdrs[0]], inplace=True)\n",
    "        H0Precip3 = H0Precip3.merge( tmpPre, how='inner', left_index=True, right_index=True )\n",
    "        tmpH0PET = InDF[[WB_In_Hdrs[1]]].loc[TP_DICT[3][0]:TP_DICT[3][1]].copy()\n",
    "        tmpH0PET[\"R_%d\" % rR] = tmpH0PET[WB_In_Hdrs[1]].cumsum( )\n",
    "        tmpH0PET.drop( columns=[WB_In_Hdrs[1]], inplace=True)\n",
    "        H0PET3 = H0PET3.merge( tmpH0PET, how='inner', left_index=True, right_index=True )\n",
    "        tmpH0AET = InDF[[WB_In_Hdrs[2]]].loc[TP_DICT[3][0]:TP_DICT[3][1]].copy()\n",
    "        tmpH0AET[\"R_%d\" % rR] = tmpH0AET[WB_In_Hdrs[2]].cumsum( )\n",
    "        tmpH0AET.drop( columns=[WB_In_Hdrs[2]], inplace=True)\n",
    "        H0AET3 = H0AET3.merge( tmpH0AET, how='inner', left_index=True, right_index=True )\n",
    "        tmpRO = InDF[[WB_In_Hdrs[3]]].loc[TP_DICT[3][0]:TP_DICT[3][1]].copy()\n",
    "        tmpRO[\"R_%d\" % rR] = tmpRO[WB_In_Hdrs[3]].cumsum( )\n",
    "        tmpRO.drop( columns=[WB_In_Hdrs[3]], inplace=True)\n",
    "        H0RO3 = H0RO3.merge( tmpRO, how='inner', left_index=True, right_index=True )\n",
    "        tmpRE = InDF[[WB_In_Hdrs[4]]].loc[TP_DICT[3][0]:TP_DICT[3][1]].copy()\n",
    "        tmpRE[\"R_%d\" % rR] = tmpRE[WB_In_Hdrs[4]].cumsum( )\n",
    "        tmpRE.drop( columns=[WB_In_Hdrs[4]], inplace=True)\n",
    "        H0RE3 = H0RE3.merge( tmpRE, how='inner', left_index=True, right_index=True )\n",
    "        # Projection 3\n",
    "        tmpPre = InDF[[WB_In_Hdrs[0]]].loc[TP_DICT[4][0]:TP_DICT[4][1]].copy()\n",
    "        tmpPre[\"R_%d\" % rR] = tmpPre[WB_In_Hdrs[0]].cumsum( )\n",
    "        tmpPre.drop( columns=[WB_In_Hdrs[0]], inplace=True)\n",
    "        H0Precip4 = H0Precip4.merge( tmpPre, how='inner', left_index=True, right_index=True )\n",
    "        tmpH0PET = InDF[[WB_In_Hdrs[1]]].loc[TP_DICT[4][0]:TP_DICT[4][1]].copy()\n",
    "        tmpH0PET[\"R_%d\" % rR] = tmpH0PET[WB_In_Hdrs[1]].cumsum( )\n",
    "        tmpH0PET.drop( columns=[WB_In_Hdrs[1]], inplace=True)\n",
    "        H0PET4 = H0PET4.merge( tmpH0PET, how='inner', left_index=True, right_index=True )\n",
    "        tmpH0AET = InDF[[WB_In_Hdrs[2]]].loc[TP_DICT[4][0]:TP_DICT[4][1]].copy()\n",
    "        tmpH0AET[\"R_%d\" % rR] = tmpH0AET[WB_In_Hdrs[2]].cumsum( )\n",
    "        tmpH0AET.drop( columns=[WB_In_Hdrs[2]], inplace=True)\n",
    "        H0AET4 = H0AET4.merge( tmpH0AET, how='inner', left_index=True, right_index=True )\n",
    "        tmpRO = InDF[[WB_In_Hdrs[3]]].loc[TP_DICT[4][0]:TP_DICT[4][1]].copy()\n",
    "        tmpRO[\"R_%d\" % rR] = tmpRO[WB_In_Hdrs[3]].cumsum( )\n",
    "        tmpRO.drop( columns=[WB_In_Hdrs[3]], inplace=True)\n",
    "        H0RO4 = H0RO4.merge( tmpRO, how='inner', left_index=True, right_index=True )\n",
    "        tmpRE = InDF[[WB_In_Hdrs[4]]].loc[TP_DICT[4][0]:TP_DICT[4][1]].copy()\n",
    "        tmpRE[\"R_%d\" % rR] = tmpRE[WB_In_Hdrs[4]].cumsum( )\n",
    "        tmpRE.drop( columns=[WB_In_Hdrs[4]], inplace=True)\n",
    "        H0RE4 = H0RE4.merge( tmpRE, how='inner', left_index=True, right_index=True )\n",
    "    # end if\n",
    "# end for"
   ]
  },
  {
   "cell_type": "markdown",
   "metadata": {},
   "source": [
    "This loop takes a long time so output this files to pickles now"
   ]
  },
  {
   "cell_type": "code",
   "execution_count": 11,
   "metadata": {},
   "outputs": [],
   "source": [
    "OFNamer = \"Cum_H0_Precip1_%s.pickle\" % OUT_ROOT\n",
    "OFPath = os.path.normpath( os.path.join( OUT_DIR, OFNamer ) )\n",
    "#H0Precip1.to_pickle( OFPath, compression='zip' )\n",
    "H0Precip1 = pd.read_pickle( OFPath, compression='zip' )\n",
    "OFNamer = \"Cum_H0_PET1_%s.pickle\" % OUT_ROOT\n",
    "OFPath = os.path.normpath( os.path.join( OUT_DIR, OFNamer ) )\n",
    "#H0PET1.to_pickle( OFPath, compression='zip' )\n",
    "H0PET1 = pd.read_pickle( OFPath, compression='zip' )\n",
    "OFNamer = \"Cum_H0_AET1_%s.pickle\" % OUT_ROOT\n",
    "OFPath = os.path.normpath( os.path.join( OUT_DIR, OFNamer ) )\n",
    "#H0AET1.to_pickle( OFPath, compression='zip' )\n",
    "H0AET1 = pd.read_pickle( OFPath, compression='zip' )\n",
    "OFNamer = \"Cum_H0_RO1_%s.pickle\" % OUT_ROOT\n",
    "OFPath = os.path.normpath( os.path.join( OUT_DIR, OFNamer ) )\n",
    "#H0RO1.to_pickle( OFPath, compression='zip' )\n",
    "H0RO1 = pd.read_pickle( OFPath, compression='zip' )\n",
    "OFNamer = \"Cum_H0_RE1_%s.pickle\" % OUT_ROOT\n",
    "OFPath = os.path.normpath( os.path.join( OUT_DIR, OFNamer ) )\n",
    "#H0RE1.to_pickle( OFPath, compression='zip' )\n",
    "H0RE1 = pd.read_pickle( OFPath, compression='zip' )"
   ]
  },
  {
   "cell_type": "code",
   "execution_count": 12,
   "metadata": {},
   "outputs": [],
   "source": [
    "OFNamer = \"Cum_H0_Precip2_%s.pickle\" % OUT_ROOT\n",
    "OFPath = os.path.normpath( os.path.join( OUT_DIR, OFNamer ) )\n",
    "#H0Precip2.to_pickle( OFPath, compression='zip' )\n",
    "H0Precip2 = pd.read_pickle( OFPath, compression='zip' )\n",
    "OFNamer = \"Cum_H0_PET2_%s.pickle\" % OUT_ROOT\n",
    "OFPath = os.path.normpath( os.path.join( OUT_DIR, OFNamer ) )\n",
    "#H0PET2.to_pickle( OFPath, compression='zip' )\n",
    "H0PET2 = pd.read_pickle( OFPath, compression='zip' )\n",
    "OFNamer = \"Cum_H0_AET2_%s.pickle\" % OUT_ROOT\n",
    "OFPath = os.path.normpath( os.path.join( OUT_DIR, OFNamer ) )\n",
    "#H0AET2.to_pickle( OFPath, compression='zip' )\n",
    "H0AET2 = pd.read_pickle( OFPath, compression='zip' )\n",
    "OFNamer = \"Cum_H0_RO2_%s.pickle\" % OUT_ROOT\n",
    "OFPath = os.path.normpath( os.path.join( OUT_DIR, OFNamer ) )\n",
    "#H0RO2.to_pickle( OFPath, compression='zip' )\n",
    "H0RO2 = pd.read_pickle( OFPath, compression='zip' )\n",
    "OFNamer = \"Cum_H0_RE2_%s.pickle\" % OUT_ROOT\n",
    "OFPath = os.path.normpath( os.path.join( OUT_DIR, OFNamer ) )\n",
    "#H0RE2.to_pickle( OFPath, compression='zip' )\n",
    "H0RE2 = pd.read_pickle( OFPath, compression='zip' )"
   ]
  },
  {
   "cell_type": "code",
   "execution_count": 13,
   "metadata": {},
   "outputs": [],
   "source": [
    "OFNamer = \"Cum_H0_Precip3_%s.pickle\" % OUT_ROOT\n",
    "OFPath = os.path.normpath( os.path.join( OUT_DIR, OFNamer ) )\n",
    "#H0Precip3.to_pickle( OFPath, compression='zip' )\n",
    "H0Precip3 = pd.read_pickle( OFPath, compression='zip' )\n",
    "OFNamer = \"Cum_H0_PET3_%s.pickle\" % OUT_ROOT\n",
    "OFPath = os.path.normpath( os.path.join( OUT_DIR, OFNamer ) )\n",
    "#H0PET3.to_pickle( OFPath, compression='zip' )\n",
    "H0PET3 = pd.read_pickle( OFPath, compression='zip' )\n",
    "OFNamer = \"Cum_H0_AET3_%s.pickle\" % OUT_ROOT\n",
    "OFPath = os.path.normpath( os.path.join( OUT_DIR, OFNamer ) )\n",
    "#H0AET3.to_pickle( OFPath, compression='zip' )\n",
    "H0AET3 = pd.read_pickle( OFPath, compression='zip' )\n",
    "OFNamer = \"Cum_H0_RO3_%s.pickle\" % OUT_ROOT\n",
    "OFPath = os.path.normpath( os.path.join( OUT_DIR, OFNamer ) )\n",
    "#H0RO3.to_pickle( OFPath, compression='zip' )\n",
    "H0RO3 = pd.read_pickle( OFPath, compression='zip' )\n",
    "OFNamer = \"Cum_H0_RE3_%s.pickle\" % OUT_ROOT\n",
    "OFPath = os.path.normpath( os.path.join( OUT_DIR, OFNamer ) )\n",
    "#H0RE3.to_pickle( OFPath, compression='zip' )\n",
    "H0RE3 = pd.read_pickle( OFPath, compression='zip' )"
   ]
  },
  {
   "cell_type": "code",
   "execution_count": 14,
   "metadata": {},
   "outputs": [],
   "source": [
    "OFNamer = \"Cum_H0_Precip4_%s.pickle\" % OUT_ROOT\n",
    "OFPath = os.path.normpath( os.path.join( OUT_DIR, OFNamer ) )\n",
    "#H0Precip4.to_pickle( OFPath, compression='zip' )\n",
    "H0Precip4 = pd.read_pickle( OFPath, compression='zip' )\n",
    "OFNamer = \"Cum_H0_PET4_%s.pickle\" % OUT_ROOT\n",
    "OFPath = os.path.normpath( os.path.join( OUT_DIR, OFNamer ) )\n",
    "#H0PET4.to_pickle( OFPath, compression='zip' )\n",
    "H0PET4 = pd.read_pickle( OFPath, compression='zip' )\n",
    "OFNamer = \"Cum_H0_AET4_%s.pickle\" % OUT_ROOT\n",
    "OFPath = os.path.normpath( os.path.join( OUT_DIR, OFNamer ) )\n",
    "#H0AET4.to_pickle( OFPath, compression='zip' )\n",
    "H0AET4 = pd.read_pickle( OFPath, compression='zip' )\n",
    "OFNamer = \"Cum_H0_RO4_%s.pickle\" % OUT_ROOT\n",
    "OFPath = os.path.normpath( os.path.join( OUT_DIR, OFNamer ) )\n",
    "#H0RO4.to_pickle( OFPath, compression='zip' )\n",
    "H0RO4 = pd.read_pickle( OFPath, compression='zip' )\n",
    "OFNamer = \"Cum_H0_RE4_%s.pickle\" % OUT_ROOT\n",
    "OFPath = os.path.normpath( os.path.join( OUT_DIR, OFNamer ) )\n",
    "#H0RE4.to_pickle( OFPath, compression='zip' )\n",
    "H0RE4 = pd.read_pickle( OFPath, compression='zip' )"
   ]
  },
  {
   "cell_type": "markdown",
   "metadata": {},
   "source": [
    "### H1"
   ]
  },
  {
   "cell_type": "markdown",
   "metadata": {},
   "source": [
    "Go through all realizations and create a DataFrame for each constituent and each period"
   ]
  },
  {
   "cell_type": "code",
   "execution_count": 15,
   "metadata": {},
   "outputs": [
    {
     "name": "stdout",
     "output_type": "stream",
     "text": [
      "Working on realization 200\n",
      "Working on realization 400\n",
      "Working on realization 600\n",
      "Working on realization 800\n",
      "Working on realization 1000\n",
      "Working on realization 1200\n",
      "Working on realization 1400\n",
      "Working on realization 1600\n",
      "Working on realization 1800\n",
      "Working on realization 2000\n",
      "Working on realization 2200\n",
      "Working on realization 2400\n",
      "Working on realization 2600\n",
      "Working on realization 2800\n",
      "Working on realization 3000\n",
      "Working on realization 3200\n",
      "Working on realization 3400\n",
      "Working on realization 3600\n",
      "Working on realization 3800\n",
      "Working on realization 4000\n",
      "Working on realization 4200\n",
      "Working on realization 4400\n",
      "Working on realization 4600\n",
      "Working on realization 4800\n",
      "Working on realization 5000\n",
      "Working on realization 5200\n",
      "Working on realization 5400\n",
      "Working on realization 5600\n",
      "Working on realization 5800\n",
      "Working on realization 6000\n",
      "Working on realization 6200\n",
      "Working on realization 6400\n",
      "Working on realization 6600\n",
      "Working on realization 6800\n",
      "Working on realization 7000\n",
      "Working on realization 7200\n",
      "Working on realization 7400\n",
      "Working on realization 7600\n",
      "Working on realization 7800\n",
      "Working on realization 8000\n",
      "Working on realization 8200\n",
      "Working on realization 8400\n",
      "Working on realization 8600\n",
      "Working on realization 8800\n",
      "Working on realization 9000\n",
      "Working on realization 9200\n",
      "Working on realization 9400\n",
      "Working on realization 9600\n",
      "Working on realization 9800\n",
      "Working on realization 10000\n"
     ]
    }
   ],
   "source": [
    "for rR in range( 1, NUMREAL + 1, 1 ):\n",
    "    if ((rR % 200) == 0):\n",
    "        print(\"Working on realization %d\" % rR)\n",
    "    # end if\n",
    "    InFile = IN_ROOT1 % rR\n",
    "    InFP = os.path.normpath( os.path.join( IN_DIR, InFile ) )\n",
    "    InDF = pd.read_pickle( InFP, compression='zip' )\n",
    "    InDF = InDF.resample( 'MS', closed='left', label='left' ).sum()\n",
    "    if rR <= 1:\n",
    "        # data period\n",
    "        H1Precip1 = InDF[[WB_In_Hdrs[0]]].loc[TP_DICT[1][0]:TP_DICT[1][1]].copy()\n",
    "        H1Precip1[\"R_%d\" % rR] = H1Precip1[WB_In_Hdrs[0]].cumsum( )\n",
    "        H1Precip1.drop( columns=[WB_In_Hdrs[0]], inplace=True)\n",
    "        H1PET1 = InDF[[WB_In_Hdrs[1]]].loc[TP_DICT[1][0]:TP_DICT[1][1]].copy()\n",
    "        H1PET1[\"R_%d\" % rR] = H1PET1[WB_In_Hdrs[1]].cumsum( )\n",
    "        H1PET1.drop( columns=[WB_In_Hdrs[1]], inplace=True)\n",
    "        H1AET1 = InDF[[WB_In_Hdrs[2]]].loc[TP_DICT[1][0]:TP_DICT[1][1]].copy()\n",
    "        H1AET1[\"R_%d\" % rR] = H1AET1[WB_In_Hdrs[2]].cumsum( )\n",
    "        H1AET1.drop( columns=[WB_In_Hdrs[2]], inplace=True)\n",
    "        H1RO1 = InDF[[WB_In_Hdrs[3]]].loc[TP_DICT[1][0]:TP_DICT[1][1]].copy()\n",
    "        H1RO1[\"R_%d\" % rR] = H1RO1[WB_In_Hdrs[3]].cumsum( )\n",
    "        H1RO1.drop( columns=[WB_In_Hdrs[3]], inplace=True)\n",
    "        H1RE1 = InDF[[WB_In_Hdrs[4]]].loc[TP_DICT[1][0]:TP_DICT[1][1]].copy()\n",
    "        H1RE1[\"R_%d\" % rR] = H1RE1[WB_In_Hdrs[4]].cumsum( )\n",
    "        H1RE1.drop( columns=[WB_In_Hdrs[4]], inplace=True)\n",
    "        # Projection 1\n",
    "        H1Precip2 = InDF[[WB_In_Hdrs[0]]].loc[TP_DICT[2][0]:TP_DICT[2][1]].copy()\n",
    "        H1Precip2[\"R_%d\" % rR] = H1Precip2[WB_In_Hdrs[0]].cumsum( )\n",
    "        H1Precip2.drop( columns=[WB_In_Hdrs[0]], inplace=True)\n",
    "        H1PET2 = InDF[[WB_In_Hdrs[1]]].loc[TP_DICT[2][0]:TP_DICT[2][1]].copy()\n",
    "        H1PET2[\"R_%d\" % rR] = H1PET2[WB_In_Hdrs[1]].cumsum( )\n",
    "        H1PET2.drop( columns=[WB_In_Hdrs[1]], inplace=True)\n",
    "        H1AET2 = InDF[[WB_In_Hdrs[2]]].loc[TP_DICT[2][0]:TP_DICT[2][1]].copy()\n",
    "        H1AET2[\"R_%d\" % rR] = H1AET2[WB_In_Hdrs[2]].cumsum( )\n",
    "        H1AET2.drop( columns=[WB_In_Hdrs[2]], inplace=True)\n",
    "        H1RO2 = InDF[[WB_In_Hdrs[3]]].loc[TP_DICT[2][0]:TP_DICT[2][1]].copy()\n",
    "        H1RO2[\"R_%d\" % rR] = H1RO2[WB_In_Hdrs[3]].cumsum( )\n",
    "        H1RO2.drop( columns=[WB_In_Hdrs[3]], inplace=True)\n",
    "        H1RE2 = InDF[[WB_In_Hdrs[4]]].loc[TP_DICT[2][0]:TP_DICT[2][1]].copy()\n",
    "        H1RE2[\"R_%d\" % rR] = H1RE2[WB_In_Hdrs[4]].cumsum( )\n",
    "        H1RE2.drop( columns=[WB_In_Hdrs[4]], inplace=True)\n",
    "        # Projection 2\n",
    "        H1Precip3 = InDF[[WB_In_Hdrs[0]]].loc[TP_DICT[3][0]:TP_DICT[3][1]].copy()\n",
    "        H1Precip3[\"R_%d\" % rR] = H1Precip3[WB_In_Hdrs[0]].cumsum( )\n",
    "        H1Precip3.drop( columns=[WB_In_Hdrs[0]], inplace=True)\n",
    "        H1PET3 = InDF[[WB_In_Hdrs[1]]].loc[TP_DICT[3][0]:TP_DICT[3][1]].copy()\n",
    "        H1PET3[\"R_%d\" % rR] = H1PET3[WB_In_Hdrs[1]].cumsum( )\n",
    "        H1PET3.drop( columns=[WB_In_Hdrs[1]], inplace=True)\n",
    "        H1AET3 = InDF[[WB_In_Hdrs[2]]].loc[TP_DICT[3][0]:TP_DICT[3][1]].copy()\n",
    "        H1AET3[\"R_%d\" % rR] = H1AET3[WB_In_Hdrs[2]].cumsum( )\n",
    "        H1AET3.drop( columns=[WB_In_Hdrs[2]], inplace=True)\n",
    "        H1RO3 = InDF[[WB_In_Hdrs[3]]].loc[TP_DICT[3][0]:TP_DICT[3][1]].copy()\n",
    "        H1RO3[\"R_%d\" % rR] = H1RO3[WB_In_Hdrs[3]].cumsum( )\n",
    "        H1RO3.drop( columns=[WB_In_Hdrs[3]], inplace=True)\n",
    "        H1RE3 = InDF[[WB_In_Hdrs[4]]].loc[TP_DICT[3][0]:TP_DICT[3][1]].copy()\n",
    "        H1RE3[\"R_%d\" % rR] = H1RE3[WB_In_Hdrs[4]].cumsum( )\n",
    "        H1RE3.drop( columns=[WB_In_Hdrs[4]], inplace=True)\n",
    "        # Projection 3\n",
    "        H1Precip4 = InDF[[WB_In_Hdrs[0]]].loc[TP_DICT[4][0]:TP_DICT[4][1]].copy()\n",
    "        H1Precip4[\"R_%d\" % rR] = H1Precip4[WB_In_Hdrs[0]].cumsum( )\n",
    "        H1Precip4.drop( columns=[WB_In_Hdrs[0]], inplace=True)\n",
    "        H1PET4 = InDF[[WB_In_Hdrs[1]]].loc[TP_DICT[4][0]:TP_DICT[4][1]].copy()\n",
    "        H1PET4[\"R_%d\" % rR] = H1PET4[WB_In_Hdrs[1]].cumsum( )\n",
    "        H1PET4.drop( columns=[WB_In_Hdrs[1]], inplace=True)\n",
    "        H1AET4 = InDF[[WB_In_Hdrs[2]]].loc[TP_DICT[4][0]:TP_DICT[4][1]].copy()\n",
    "        H1AET4[\"R_%d\" % rR] = H1AET4[WB_In_Hdrs[2]].cumsum( )\n",
    "        H1AET4.drop( columns=[WB_In_Hdrs[2]], inplace=True)\n",
    "        H1RO4 = InDF[[WB_In_Hdrs[3]]].loc[TP_DICT[4][0]:TP_DICT[4][1]].copy()\n",
    "        H1RO4[\"R_%d\" % rR] = H1RO4[WB_In_Hdrs[3]].cumsum( )\n",
    "        H1RO4.drop( columns=[WB_In_Hdrs[3]], inplace=True)\n",
    "        H1RE4 = InDF[[WB_In_Hdrs[4]]].loc[TP_DICT[4][0]:TP_DICT[4][1]].copy()\n",
    "        H1RE4[\"R_%d\" % rR] = H1RE4[WB_In_Hdrs[4]].cumsum( )\n",
    "        H1RE4.drop( columns=[WB_In_Hdrs[4]], inplace=True)\n",
    "    else:\n",
    "        # data period\n",
    "        tmpPre = InDF[[WB_In_Hdrs[0]]].loc[TP_DICT[1][0]:TP_DICT[1][1]].copy()\n",
    "        tmpPre[\"R_%d\" % rR] = tmpPre[WB_In_Hdrs[0]].cumsum( )\n",
    "        tmpPre.drop( columns=[WB_In_Hdrs[0]], inplace=True)\n",
    "        H1Precip1 = H1Precip1.merge( tmpPre, how='inner', left_index=True, right_index=True )\n",
    "        tmpH1PET = InDF[[WB_In_Hdrs[1]]].loc[TP_DICT[1][0]:TP_DICT[1][1]].copy()\n",
    "        tmpH1PET[\"R_%d\" % rR] = tmpH1PET[WB_In_Hdrs[1]].cumsum( )\n",
    "        tmpH1PET.drop( columns=[WB_In_Hdrs[1]], inplace=True)\n",
    "        H1PET1 = H1PET1.merge( tmpH1PET, how='inner', left_index=True, right_index=True )\n",
    "        tmpH1AET = InDF[[WB_In_Hdrs[2]]].loc[TP_DICT[1][0]:TP_DICT[1][1]].copy()\n",
    "        tmpH1AET[\"R_%d\" % rR] = tmpH1AET[WB_In_Hdrs[2]].cumsum( )\n",
    "        tmpH1AET.drop( columns=[WB_In_Hdrs[2]], inplace=True)\n",
    "        H1AET1 = H1AET1.merge( tmpH1AET, how='inner', left_index=True, right_index=True )\n",
    "        tmpRO = InDF[[WB_In_Hdrs[3]]].loc[TP_DICT[1][0]:TP_DICT[1][1]].copy()\n",
    "        tmpRO[\"R_%d\" % rR] = tmpRO[WB_In_Hdrs[3]].cumsum( )\n",
    "        tmpRO.drop( columns=[WB_In_Hdrs[3]], inplace=True)\n",
    "        H1RO1 = H1RO1.merge( tmpRO, how='inner', left_index=True, right_index=True )\n",
    "        tmpRE = InDF[[WB_In_Hdrs[4]]].loc[TP_DICT[1][0]:TP_DICT[1][1]].copy()\n",
    "        tmpRE[\"R_%d\" % rR] = tmpRE[WB_In_Hdrs[4]].cumsum( )\n",
    "        tmpRE.drop( columns=[WB_In_Hdrs[4]], inplace=True)\n",
    "        H1RE1 = H1RE1.merge( tmpRE, how='inner', left_index=True, right_index=True )\n",
    "        # Projection 1\n",
    "        tmpPre = InDF[[WB_In_Hdrs[0]]].loc[TP_DICT[2][0]:TP_DICT[2][1]].copy()\n",
    "        tmpPre[\"R_%d\" % rR] = tmpPre[WB_In_Hdrs[0]].cumsum( )\n",
    "        tmpPre.drop( columns=[WB_In_Hdrs[0]], inplace=True)\n",
    "        H1Precip2 = H1Precip2.merge( tmpPre, how='inner', left_index=True, right_index=True )\n",
    "        tmpH1PET = InDF[[WB_In_Hdrs[1]]].loc[TP_DICT[2][0]:TP_DICT[2][1]].copy()\n",
    "        tmpH1PET[\"R_%d\" % rR] = tmpH1PET[WB_In_Hdrs[1]].cumsum( )\n",
    "        tmpH1PET.drop( columns=[WB_In_Hdrs[1]], inplace=True)\n",
    "        H1PET2 = H1PET2.merge( tmpH1PET, how='inner', left_index=True, right_index=True )\n",
    "        tmpH1AET = InDF[[WB_In_Hdrs[2]]].loc[TP_DICT[2][0]:TP_DICT[2][1]].copy()\n",
    "        tmpH1AET[\"R_%d\" % rR] = tmpH1AET[WB_In_Hdrs[2]].cumsum( )\n",
    "        tmpH1AET.drop( columns=[WB_In_Hdrs[2]], inplace=True)\n",
    "        H1AET2 = H1AET2.merge( tmpH1AET, how='inner', left_index=True, right_index=True )\n",
    "        tmpRO = InDF[[WB_In_Hdrs[3]]].loc[TP_DICT[2][0]:TP_DICT[2][1]].copy()\n",
    "        tmpRO[\"R_%d\" % rR] = tmpRO[WB_In_Hdrs[3]].cumsum( )\n",
    "        tmpRO.drop( columns=[WB_In_Hdrs[3]], inplace=True)\n",
    "        H1RO2 = H1RO2.merge( tmpRO, how='inner', left_index=True, right_index=True )\n",
    "        tmpRE = InDF[[WB_In_Hdrs[4]]].loc[TP_DICT[2][0]:TP_DICT[2][1]].copy()\n",
    "        tmpRE[\"R_%d\" % rR] = tmpRE[WB_In_Hdrs[4]].cumsum( )\n",
    "        tmpRE.drop( columns=[WB_In_Hdrs[4]], inplace=True)\n",
    "        H1RE2 = H1RE2.merge( tmpRE, how='inner', left_index=True, right_index=True )\n",
    "        # Projection 2\n",
    "        tmpPre = InDF[[WB_In_Hdrs[0]]].loc[TP_DICT[3][0]:TP_DICT[3][1]].copy()\n",
    "        tmpPre[\"R_%d\" % rR] = tmpPre[WB_In_Hdrs[0]].cumsum( )\n",
    "        tmpPre.drop( columns=[WB_In_Hdrs[0]], inplace=True)\n",
    "        H1Precip3 = H1Precip3.merge( tmpPre, how='inner', left_index=True, right_index=True )\n",
    "        tmpH1PET = InDF[[WB_In_Hdrs[1]]].loc[TP_DICT[3][0]:TP_DICT[3][1]].copy()\n",
    "        tmpH1PET[\"R_%d\" % rR] = tmpH1PET[WB_In_Hdrs[1]].cumsum( )\n",
    "        tmpH1PET.drop( columns=[WB_In_Hdrs[1]], inplace=True)\n",
    "        H1PET3 = H1PET3.merge( tmpH1PET, how='inner', left_index=True, right_index=True )\n",
    "        tmpH1AET = InDF[[WB_In_Hdrs[2]]].loc[TP_DICT[3][0]:TP_DICT[3][1]].copy()\n",
    "        tmpH1AET[\"R_%d\" % rR] = tmpH1AET[WB_In_Hdrs[2]].cumsum( )\n",
    "        tmpH1AET.drop( columns=[WB_In_Hdrs[2]], inplace=True)\n",
    "        H1AET3 = H1AET3.merge( tmpH1AET, how='inner', left_index=True, right_index=True )\n",
    "        tmpRO = InDF[[WB_In_Hdrs[3]]].loc[TP_DICT[3][0]:TP_DICT[3][1]].copy()\n",
    "        tmpRO[\"R_%d\" % rR] = tmpRO[WB_In_Hdrs[3]].cumsum( )\n",
    "        tmpRO.drop( columns=[WB_In_Hdrs[3]], inplace=True)\n",
    "        H1RO3 = H1RO3.merge( tmpRO, how='inner', left_index=True, right_index=True )\n",
    "        tmpRE = InDF[[WB_In_Hdrs[4]]].loc[TP_DICT[3][0]:TP_DICT[3][1]].copy()\n",
    "        tmpRE[\"R_%d\" % rR] = tmpRE[WB_In_Hdrs[4]].cumsum( )\n",
    "        tmpRE.drop( columns=[WB_In_Hdrs[4]], inplace=True)\n",
    "        H1RE3 = H1RE3.merge( tmpRE, how='inner', left_index=True, right_index=True )\n",
    "        # Projection 3\n",
    "        tmpPre = InDF[[WB_In_Hdrs[0]]].loc[TP_DICT[4][0]:TP_DICT[4][1]].copy()\n",
    "        tmpPre[\"R_%d\" % rR] = tmpPre[WB_In_Hdrs[0]].cumsum( )\n",
    "        tmpPre.drop( columns=[WB_In_Hdrs[0]], inplace=True)\n",
    "        H1Precip4 = H1Precip4.merge( tmpPre, how='inner', left_index=True, right_index=True )\n",
    "        tmpH1PET = InDF[[WB_In_Hdrs[1]]].loc[TP_DICT[4][0]:TP_DICT[4][1]].copy()\n",
    "        tmpH1PET[\"R_%d\" % rR] = tmpH1PET[WB_In_Hdrs[1]].cumsum( )\n",
    "        tmpH1PET.drop( columns=[WB_In_Hdrs[1]], inplace=True)\n",
    "        H1PET4 = H1PET4.merge( tmpH1PET, how='inner', left_index=True, right_index=True )\n",
    "        tmpH1AET = InDF[[WB_In_Hdrs[2]]].loc[TP_DICT[4][0]:TP_DICT[4][1]].copy()\n",
    "        tmpH1AET[\"R_%d\" % rR] = tmpH1AET[WB_In_Hdrs[2]].cumsum( )\n",
    "        tmpH1AET.drop( columns=[WB_In_Hdrs[2]], inplace=True)\n",
    "        H1AET4 = H1AET4.merge( tmpH1AET, how='inner', left_index=True, right_index=True )\n",
    "        tmpRO = InDF[[WB_In_Hdrs[3]]].loc[TP_DICT[4][0]:TP_DICT[4][1]].copy()\n",
    "        tmpRO[\"R_%d\" % rR] = tmpRO[WB_In_Hdrs[3]].cumsum( )\n",
    "        tmpRO.drop( columns=[WB_In_Hdrs[3]], inplace=True)\n",
    "        H1RO4 = H1RO4.merge( tmpRO, how='inner', left_index=True, right_index=True )\n",
    "        tmpRE = InDF[[WB_In_Hdrs[4]]].loc[TP_DICT[4][0]:TP_DICT[4][1]].copy()\n",
    "        tmpRE[\"R_%d\" % rR] = tmpRE[WB_In_Hdrs[4]].cumsum( )\n",
    "        tmpRE.drop( columns=[WB_In_Hdrs[4]], inplace=True)\n",
    "        H1RE4 = H1RE4.merge( tmpRE, how='inner', left_index=True, right_index=True )\n",
    "    # end if\n",
    "# end for"
   ]
  },
  {
   "cell_type": "markdown",
   "metadata": {},
   "source": [
    "This loop takes a long time so output this files to pickles now"
   ]
  },
  {
   "cell_type": "code",
   "execution_count": 16,
   "metadata": {},
   "outputs": [],
   "source": [
    "OFNamer = \"Cum_H1_Precip1_%s.pickle\" % OUT_ROOT\n",
    "OFPath = os.path.normpath( os.path.join( OUT_DIR, OFNamer ) )\n",
    "H1Precip1.to_pickle( OFPath, compression='zip' )\n",
    "#H1Precip1 = pd.read_pickle( OFPath, compression='zip' )\n",
    "OFNamer = \"Cum_H1_PET1_%s.pickle\" % OUT_ROOT\n",
    "OFPath = os.path.normpath( os.path.join( OUT_DIR, OFNamer ) )\n",
    "H1PET1.to_pickle( OFPath, compression='zip' )\n",
    "#H1PET1 = pd.read_pickle( OFPath, compression='zip' )\n",
    "OFNamer = \"Cum_H1_AET1_%s.pickle\" % OUT_ROOT\n",
    "OFPath = os.path.normpath( os.path.join( OUT_DIR, OFNamer ) )\n",
    "H1AET1.to_pickle( OFPath, compression='zip' )\n",
    "#H1AET1 = pd.read_pickle( OFPath, compression='zip' )\n",
    "OFNamer = \"Cum_H1_RO1_%s.pickle\" % OUT_ROOT\n",
    "OFPath = os.path.normpath( os.path.join( OUT_DIR, OFNamer ) )\n",
    "H1RO1.to_pickle( OFPath, compression='zip' )\n",
    "#H1RO1 = pd.read_pickle( OFPath, compression='zip' )\n",
    "OFNamer = \"Cum_H1_RE1_%s.pickle\" % OUT_ROOT\n",
    "OFPath = os.path.normpath( os.path.join( OUT_DIR, OFNamer ) )\n",
    "H1RE1.to_pickle( OFPath, compression='zip' )\n",
    "#H1RE1 = pd.read_pickle( OFPath, compression='zip' )"
   ]
  },
  {
   "cell_type": "code",
   "execution_count": 17,
   "metadata": {},
   "outputs": [],
   "source": [
    "OFNamer = \"Cum_H1_Precip2_%s.pickle\" % OUT_ROOT\n",
    "OFPath = os.path.normpath( os.path.join( OUT_DIR, OFNamer ) )\n",
    "H1Precip2.to_pickle( OFPath, compression='zip' )\n",
    "#H1Precip2 = pd.read_pickle( OFPath, compression='zip' )\n",
    "OFNamer = \"Cum_H1_PET2_%s.pickle\" % OUT_ROOT\n",
    "OFPath = os.path.normpath( os.path.join( OUT_DIR, OFNamer ) )\n",
    "H1PET2.to_pickle( OFPath, compression='zip' )\n",
    "#H1PET2 = pd.read_pickle( OFPath, compression='zip' )\n",
    "OFNamer = \"Cum_H1_AET2_%s.pickle\" % OUT_ROOT\n",
    "OFPath = os.path.normpath( os.path.join( OUT_DIR, OFNamer ) )\n",
    "H1AET2.to_pickle( OFPath, compression='zip' )\n",
    "#H1AET2 = pd.read_pickle( OFPath, compression='zip' )\n",
    "OFNamer = \"Cum_H1_RO2_%s.pickle\" % OUT_ROOT\n",
    "OFPath = os.path.normpath( os.path.join( OUT_DIR, OFNamer ) )\n",
    "H1RO2.to_pickle( OFPath, compression='zip' )\n",
    "#H1RO2 = pd.read_pickle( OFPath, compression='zip' )\n",
    "OFNamer = \"Cum_H1_RE2_%s.pickle\" % OUT_ROOT\n",
    "OFPath = os.path.normpath( os.path.join( OUT_DIR, OFNamer ) )\n",
    "H1RE2.to_pickle( OFPath, compression='zip' )\n",
    "#H1RE2 = pd.read_pickle( OFPath, compression='zip' )"
   ]
  },
  {
   "cell_type": "code",
   "execution_count": 18,
   "metadata": {},
   "outputs": [],
   "source": [
    "OFNamer = \"Cum_H1_Precip3_%s.pickle\" % OUT_ROOT\n",
    "OFPath = os.path.normpath( os.path.join( OUT_DIR, OFNamer ) )\n",
    "H1Precip3.to_pickle( OFPath, compression='zip' )\n",
    "#H1Precip3 = pd.read_pickle( OFPath, compression='zip' )\n",
    "OFNamer = \"Cum_H1_PET3_%s.pickle\" % OUT_ROOT\n",
    "OFPath = os.path.normpath( os.path.join( OUT_DIR, OFNamer ) )\n",
    "H1PET3.to_pickle( OFPath, compression='zip' )\n",
    "#H1PET3 = pd.read_pickle( OFPath, compression='zip' )\n",
    "OFNamer = \"Cum_H1_AET3_%s.pickle\" % OUT_ROOT\n",
    "OFPath = os.path.normpath( os.path.join( OUT_DIR, OFNamer ) )\n",
    "H1AET3.to_pickle( OFPath, compression='zip' )\n",
    "#H1AET3 = pd.read_pickle( OFPath, compression='zip' )\n",
    "OFNamer = \"Cum_H1_RO3_%s.pickle\" % OUT_ROOT\n",
    "OFPath = os.path.normpath( os.path.join( OUT_DIR, OFNamer ) )\n",
    "H1RO3.to_pickle( OFPath, compression='zip' )\n",
    "#H1RO3 = pd.read_pickle( OFPath, compression='zip' )\n",
    "OFNamer = \"Cum_H1_RE3_%s.pickle\" % OUT_ROOT\n",
    "OFPath = os.path.normpath( os.path.join( OUT_DIR, OFNamer ) )\n",
    "H1RE3.to_pickle( OFPath, compression='zip' )\n",
    "#H1RE3 = pd.read_pickle( OFPath, compression='zip' )"
   ]
  },
  {
   "cell_type": "code",
   "execution_count": 19,
   "metadata": {},
   "outputs": [],
   "source": [
    "OFNamer = \"Cum_H1_Precip4_%s.pickle\" % OUT_ROOT\n",
    "OFPath = os.path.normpath( os.path.join( OUT_DIR, OFNamer ) )\n",
    "H1Precip4.to_pickle( OFPath, compression='zip' )\n",
    "#H1Precip4 = pd.read_pickle( OFPath, compression='zip' )\n",
    "OFNamer = \"Cum_H1_PET4_%s.pickle\" % OUT_ROOT\n",
    "OFPath = os.path.normpath( os.path.join( OUT_DIR, OFNamer ) )\n",
    "H1PET4.to_pickle( OFPath, compression='zip' )\n",
    "#H1PET4 = pd.read_pickle( OFPath, compression='zip' )\n",
    "OFNamer = \"Cum_H1_AET4_%s.pickle\" % OUT_ROOT\n",
    "OFPath = os.path.normpath( os.path.join( OUT_DIR, OFNamer ) )\n",
    "H1AET4.to_pickle( OFPath, compression='zip' )\n",
    "#H1AET4 = pd.read_pickle( OFPath, compression='zip' )\n",
    "OFNamer = \"Cum_H1_RO4_%s.pickle\" % OUT_ROOT\n",
    "OFPath = os.path.normpath( os.path.join( OUT_DIR, OFNamer ) )\n",
    "H1RO4.to_pickle( OFPath, compression='zip' )\n",
    "#H1RO4 = pd.read_pickle( OFPath, compression='zip' )\n",
    "OFNamer = \"Cum_H1_RE4_%s.pickle\" % OUT_ROOT\n",
    "OFPath = os.path.normpath( os.path.join( OUT_DIR, OFNamer ) )\n",
    "H1RE4.to_pickle( OFPath, compression='zip' )\n",
    "#H1RE4 = pd.read_pickle( OFPath, compression='zip' )"
   ]
  },
  {
   "cell_type": "markdown",
   "metadata": {},
   "source": [
    "## Calculate Time History Stats"
   ]
  },
  {
   "cell_type": "markdown",
   "metadata": {},
   "source": [
    "Calculate the time history stats now for each DataFrame"
   ]
  },
  {
   "cell_type": "markdown",
   "metadata": {},
   "source": [
    "### H0"
   ]
  },
  {
   "cell_type": "code",
   "execution_count": 20,
   "metadata": {},
   "outputs": [],
   "source": [
    "DictH0Pre1 = dict()\n",
    "DictH0Pre2 = dict()\n",
    "DictH0Pre3 = dict()\n",
    "DictH0Pre4 = dict()\n",
    "DictH0PET1 = dict()\n",
    "DictH0PET2 = dict()\n",
    "DictH0PET3 = dict()\n",
    "DictH0PET4 = dict()\n",
    "DictH0AET1 = dict()\n",
    "DictH0AET2 = dict()\n",
    "DictH0AET3 = dict()\n",
    "DictH0AET4 = dict()\n",
    "DictH0RO1 = dict()\n",
    "DictH0RO2 = dict()\n",
    "DictH0RO3 = dict()\n",
    "DictH0RO4 = dict()\n",
    "DictH0RE1 = dict()\n",
    "DictH0RE2 = dict()\n",
    "DictH0RE3 = dict()\n",
    "DictH0RE4 = dict()\n",
    "hdrCnt = 0\n",
    "# start out by doing the percentiles\n",
    "for iI in range(NumQs):\n",
    "    curQ = OurQs[iI]\n",
    "    DictH0Pre1[StatsHdsList[hdrCnt]] = H0Precip1.quantile( q=curQ, axis=1 ).to_numpy()\n",
    "    DictH0Pre2[StatsHdsList[hdrCnt]] = H0Precip2.quantile( q=curQ, axis=1 ).to_numpy()\n",
    "    DictH0Pre3[StatsHdsList[hdrCnt]] = H0Precip3.quantile( q=curQ, axis=1 ).to_numpy()\n",
    "    DictH0Pre4[StatsHdsList[hdrCnt]] = H0Precip4.quantile( q=curQ, axis=1 ).to_numpy()\n",
    "    DictH0PET1[StatsHdsList[hdrCnt]] = H0PET1.quantile( q=curQ, axis=1 ).to_numpy()\n",
    "    DictH0PET2[StatsHdsList[hdrCnt]] = H0PET2.quantile( q=curQ, axis=1 ).to_numpy()\n",
    "    DictH0PET3[StatsHdsList[hdrCnt]] = H0PET3.quantile( q=curQ, axis=1 ).to_numpy()\n",
    "    DictH0PET4[StatsHdsList[hdrCnt]] = H0PET4.quantile( q=curQ, axis=1 ).to_numpy()\n",
    "    DictH0AET1[StatsHdsList[hdrCnt]] = H0AET1.quantile( q=curQ, axis=1 ).to_numpy()\n",
    "    DictH0AET2[StatsHdsList[hdrCnt]] = H0AET2.quantile( q=curQ, axis=1 ).to_numpy()\n",
    "    DictH0AET3[StatsHdsList[hdrCnt]] = H0AET3.quantile( q=curQ, axis=1 ).to_numpy()\n",
    "    DictH0AET4[StatsHdsList[hdrCnt]] = H0AET4.quantile( q=curQ, axis=1 ).to_numpy()\n",
    "    DictH0RO1[StatsHdsList[hdrCnt]] = H0RO1.quantile( q=curQ, axis=1 ).to_numpy()\n",
    "    DictH0RO2[StatsHdsList[hdrCnt]] = H0RO2.quantile( q=curQ, axis=1 ).to_numpy()\n",
    "    DictH0RO3[StatsHdsList[hdrCnt]] = H0RO3.quantile( q=curQ, axis=1 ).to_numpy()\n",
    "    DictH0RO4[StatsHdsList[hdrCnt]] = H0RO4.quantile( q=curQ, axis=1 ).to_numpy()\n",
    "    DictH0RE1[StatsHdsList[hdrCnt]] = H0RE1.quantile( q=curQ, axis=1 ).to_numpy()\n",
    "    DictH0RE2[StatsHdsList[hdrCnt]] = H0RE2.quantile( q=curQ, axis=1 ).to_numpy()\n",
    "    DictH0RE3[StatsHdsList[hdrCnt]] = H0RE3.quantile( q=curQ, axis=1 ).to_numpy()\n",
    "    DictH0RE4[StatsHdsList[hdrCnt]] = H0RE4.quantile( q=curQ, axis=1 ).to_numpy()\n",
    "    hdrCnt += 1\n",
    "# end for\n",
    "DictH0Pre1[StatsHdsList[hdrCnt]] = H0Precip1.mean( axis=1 ).to_numpy()\n",
    "DictH0Pre2[StatsHdsList[hdrCnt]] = H0Precip2.mean( axis=1 ).to_numpy()\n",
    "DictH0Pre3[StatsHdsList[hdrCnt]] = H0Precip3.mean( axis=1 ).to_numpy()\n",
    "DictH0Pre4[StatsHdsList[hdrCnt]] = H0Precip4.mean( axis=1 ).to_numpy()\n",
    "DictH0PET1[StatsHdsList[hdrCnt]] = H0PET1.mean( axis=1 ).to_numpy()\n",
    "DictH0PET2[StatsHdsList[hdrCnt]] = H0PET2.mean( axis=1 ).to_numpy()\n",
    "DictH0PET3[StatsHdsList[hdrCnt]] = H0PET3.mean( axis=1 ).to_numpy()\n",
    "DictH0PET4[StatsHdsList[hdrCnt]] = H0PET4.mean( axis=1 ).to_numpy()\n",
    "DictH0AET1[StatsHdsList[hdrCnt]] = H0AET1.mean( axis=1 ).to_numpy()\n",
    "DictH0AET2[StatsHdsList[hdrCnt]] = H0AET2.mean( axis=1 ).to_numpy()\n",
    "DictH0AET3[StatsHdsList[hdrCnt]] = H0AET3.mean( axis=1 ).to_numpy()\n",
    "DictH0AET4[StatsHdsList[hdrCnt]] = H0AET4.mean( axis=1 ).to_numpy()\n",
    "DictH0RO1[StatsHdsList[hdrCnt]] = H0RO1.mean( axis=1 ).to_numpy()\n",
    "DictH0RO2[StatsHdsList[hdrCnt]] = H0RO2.mean( axis=1 ).to_numpy()\n",
    "DictH0RO3[StatsHdsList[hdrCnt]] = H0RO3.mean( axis=1 ).to_numpy()\n",
    "DictH0RO4[StatsHdsList[hdrCnt]] = H0RO4.mean( axis=1 ).to_numpy()\n",
    "DictH0RE1[StatsHdsList[hdrCnt]] = H0RE1.mean( axis=1 ).to_numpy()\n",
    "DictH0RE2[StatsHdsList[hdrCnt]] = H0RE2.mean( axis=1 ).to_numpy()\n",
    "DictH0RE3[StatsHdsList[hdrCnt]] = H0RE3.mean( axis=1 ).to_numpy()\n",
    "DictH0RE4[StatsHdsList[hdrCnt]] = H0RE4.mean( axis=1 ).to_numpy()\n",
    "hdrCnt += 1"
   ]
  },
  {
   "cell_type": "code",
   "execution_count": 21,
   "metadata": {},
   "outputs": [],
   "source": [
    "DictH0Pre1[StatsHdsList[hdrCnt]] = H0Precip1.var( axis=1 ).to_numpy()\n",
    "DictH0Pre2[StatsHdsList[hdrCnt]] = H0Precip2.var( axis=1 ).to_numpy()\n",
    "DictH0Pre3[StatsHdsList[hdrCnt]] = H0Precip3.var( axis=1 ).to_numpy()\n",
    "DictH0Pre4[StatsHdsList[hdrCnt]] = H0Precip4.var( axis=1 ).to_numpy()\n",
    "DictH0PET1[StatsHdsList[hdrCnt]] = H0PET1.var( axis=1 ).to_numpy()\n",
    "DictH0PET2[StatsHdsList[hdrCnt]] = H0PET2.var( axis=1 ).to_numpy()\n",
    "DictH0PET3[StatsHdsList[hdrCnt]] = H0PET3.var( axis=1 ).to_numpy()\n",
    "DictH0PET4[StatsHdsList[hdrCnt]] = H0PET4.var( axis=1 ).to_numpy()\n",
    "DictH0AET1[StatsHdsList[hdrCnt]] = H0AET1.var( axis=1 ).to_numpy()\n",
    "DictH0AET2[StatsHdsList[hdrCnt]] = H0AET2.var( axis=1 ).to_numpy()\n",
    "DictH0AET3[StatsHdsList[hdrCnt]] = H0AET3.var( axis=1 ).to_numpy()\n",
    "DictH0AET4[StatsHdsList[hdrCnt]] = H0AET4.var( axis=1 ).to_numpy()\n",
    "DictH0RO1[StatsHdsList[hdrCnt]] = H0RO1.var( axis=1 ).to_numpy()\n",
    "DictH0RO2[StatsHdsList[hdrCnt]] = H0RO2.var( axis=1 ).to_numpy()\n",
    "DictH0RO3[StatsHdsList[hdrCnt]] = H0RO3.var( axis=1 ).to_numpy()\n",
    "DictH0RO4[StatsHdsList[hdrCnt]] = H0RO4.var( axis=1 ).to_numpy()\n",
    "DictH0RE1[StatsHdsList[hdrCnt]] = H0RE1.var( axis=1 ).to_numpy()\n",
    "DictH0RE2[StatsHdsList[hdrCnt]] = H0RE2.var( axis=1 ).to_numpy()\n",
    "DictH0RE3[StatsHdsList[hdrCnt]] = H0RE3.var( axis=1 ).to_numpy()\n",
    "DictH0RE4[StatsHdsList[hdrCnt]] = H0RE4.var( axis=1 ).to_numpy()\n",
    "hdrCnt += 1"
   ]
  },
  {
   "cell_type": "code",
   "execution_count": 22,
   "metadata": {},
   "outputs": [],
   "source": [
    "DictH0Pre1[StatsHdsList[hdrCnt]] = H0Precip1.skew( axis=1 ).to_numpy()\n",
    "DictH0Pre2[StatsHdsList[hdrCnt]] = H0Precip2.skew( axis=1 ).to_numpy()\n",
    "DictH0Pre3[StatsHdsList[hdrCnt]] = H0Precip3.skew( axis=1 ).to_numpy()\n",
    "DictH0Pre4[StatsHdsList[hdrCnt]] = H0Precip4.skew( axis=1 ).to_numpy()\n",
    "DictH0PET1[StatsHdsList[hdrCnt]] = H0PET1.skew( axis=1 ).to_numpy()\n",
    "DictH0PET2[StatsHdsList[hdrCnt]] = H0PET2.skew( axis=1 ).to_numpy()\n",
    "DictH0PET3[StatsHdsList[hdrCnt]] = H0PET3.skew( axis=1 ).to_numpy()\n",
    "DictH0PET4[StatsHdsList[hdrCnt]] = H0PET4.skew( axis=1 ).to_numpy()\n",
    "DictH0AET1[StatsHdsList[hdrCnt]] = H0AET1.skew( axis=1 ).to_numpy()\n",
    "DictH0AET2[StatsHdsList[hdrCnt]] = H0AET2.skew( axis=1 ).to_numpy()\n",
    "DictH0AET3[StatsHdsList[hdrCnt]] = H0AET3.skew( axis=1 ).to_numpy()\n",
    "DictH0AET4[StatsHdsList[hdrCnt]] = H0AET4.skew( axis=1 ).to_numpy()\n",
    "DictH0RO1[StatsHdsList[hdrCnt]] = H0RO1.skew( axis=1 ).to_numpy()\n",
    "DictH0RO2[StatsHdsList[hdrCnt]] = H0RO2.skew( axis=1 ).to_numpy()\n",
    "DictH0RO3[StatsHdsList[hdrCnt]] = H0RO3.skew( axis=1 ).to_numpy()\n",
    "DictH0RO4[StatsHdsList[hdrCnt]] = H0RO4.skew( axis=1 ).to_numpy()\n",
    "DictH0RE1[StatsHdsList[hdrCnt]] = H0RE1.skew( axis=1 ).to_numpy()\n",
    "DictH0RE2[StatsHdsList[hdrCnt]] = H0RE2.skew( axis=1 ).to_numpy()\n",
    "DictH0RE3[StatsHdsList[hdrCnt]] = H0RE3.skew( axis=1 ).to_numpy()\n",
    "DictH0RE4[StatsHdsList[hdrCnt]] = H0RE4.skew( axis=1 ).to_numpy()\n",
    "hdrCnt += 1"
   ]
  },
  {
   "cell_type": "code",
   "execution_count": 23,
   "metadata": {},
   "outputs": [],
   "source": [
    "DictH0Pre1[StatsHdsList[hdrCnt]] = H0Precip1.kurt( axis=1 ).to_numpy()\n",
    "DictH0Pre2[StatsHdsList[hdrCnt]] = H0Precip2.kurt( axis=1 ).to_numpy()\n",
    "DictH0Pre3[StatsHdsList[hdrCnt]] = H0Precip3.kurt( axis=1 ).to_numpy()\n",
    "DictH0Pre4[StatsHdsList[hdrCnt]] = H0Precip4.kurt( axis=1 ).to_numpy()\n",
    "DictH0PET1[StatsHdsList[hdrCnt]] = H0PET1.kurt( axis=1 ).to_numpy()\n",
    "DictH0PET2[StatsHdsList[hdrCnt]] = H0PET2.kurt( axis=1 ).to_numpy()\n",
    "DictH0PET3[StatsHdsList[hdrCnt]] = H0PET3.kurt( axis=1 ).to_numpy()\n",
    "DictH0PET4[StatsHdsList[hdrCnt]] = H0PET4.kurt( axis=1 ).to_numpy()\n",
    "DictH0AET1[StatsHdsList[hdrCnt]] = H0AET1.kurt( axis=1 ).to_numpy()\n",
    "DictH0AET2[StatsHdsList[hdrCnt]] = H0AET2.kurt( axis=1 ).to_numpy()\n",
    "DictH0AET3[StatsHdsList[hdrCnt]] = H0AET3.kurt( axis=1 ).to_numpy()\n",
    "DictH0AET4[StatsHdsList[hdrCnt]] = H0AET4.kurt( axis=1 ).to_numpy()\n",
    "DictH0RO1[StatsHdsList[hdrCnt]] = H0RO1.kurt( axis=1 ).to_numpy()\n",
    "DictH0RO2[StatsHdsList[hdrCnt]] = H0RO2.kurt( axis=1 ).to_numpy()\n",
    "DictH0RO3[StatsHdsList[hdrCnt]] = H0RO3.kurt( axis=1 ).to_numpy()\n",
    "DictH0RO4[StatsHdsList[hdrCnt]] = H0RO4.kurt( axis=1 ).to_numpy()\n",
    "DictH0RE1[StatsHdsList[hdrCnt]] = H0RE1.kurt( axis=1 ).to_numpy()\n",
    "DictH0RE2[StatsHdsList[hdrCnt]] = H0RE2.kurt( axis=1 ).to_numpy()\n",
    "DictH0RE3[StatsHdsList[hdrCnt]] = H0RE3.kurt( axis=1 ).to_numpy()\n",
    "DictH0RE4[StatsHdsList[hdrCnt]] = H0RE4.kurt( axis=1 ).to_numpy()"
   ]
  },
  {
   "cell_type": "markdown",
   "metadata": {},
   "source": [
    "Make our DataFrames from the Stats"
   ]
  },
  {
   "cell_type": "code",
   "execution_count": 24,
   "metadata": {},
   "outputs": [],
   "source": [
    "TimIndex1 = H0Precip1.index\n",
    "TimIndex2 = H0Precip2.index\n",
    "TimIndex3 = H0Precip3.index\n",
    "TimIndex4 = H0Precip4.index"
   ]
  },
  {
   "cell_type": "code",
   "execution_count": 25,
   "metadata": {},
   "outputs": [],
   "source": [
    "H0PreStats1 = pd.DataFrame(index=TimIndex1, data=DictH0Pre1 )\n",
    "H0PreStats2 = pd.DataFrame(index=TimIndex2, data=DictH0Pre2 )\n",
    "H0PreStats3 = pd.DataFrame(index=TimIndex3, data=DictH0Pre3 )\n",
    "H0PreStats4 = pd.DataFrame(index=TimIndex4, data=DictH0Pre4 )"
   ]
  },
  {
   "cell_type": "code",
   "execution_count": 26,
   "metadata": {},
   "outputs": [],
   "source": [
    "H0PETStats1 = pd.DataFrame(index=TimIndex1, data=DictH0PET1 )\n",
    "H0PETStats2 = pd.DataFrame(index=TimIndex2, data=DictH0PET2 )\n",
    "H0PETStats3 = pd.DataFrame(index=TimIndex3, data=DictH0PET3 )\n",
    "H0PETStats4 = pd.DataFrame(index=TimIndex4, data=DictH0PET4 )"
   ]
  },
  {
   "cell_type": "code",
   "execution_count": 27,
   "metadata": {},
   "outputs": [],
   "source": [
    "H0AETStats1 = pd.DataFrame(index=TimIndex1, data=DictH0AET1 )\n",
    "H0AETStats2 = pd.DataFrame(index=TimIndex2, data=DictH0AET2 )\n",
    "H0AETStats3 = pd.DataFrame(index=TimIndex3, data=DictH0AET3 )\n",
    "H0AETStats4 = pd.DataFrame(index=TimIndex4, data=DictH0AET4 )"
   ]
  },
  {
   "cell_type": "code",
   "execution_count": 28,
   "metadata": {},
   "outputs": [],
   "source": [
    "H0ROStats1 = pd.DataFrame(index=TimIndex1, data=DictH0RO1 )\n",
    "H0ROStats2 = pd.DataFrame(index=TimIndex2, data=DictH0RO2 )\n",
    "H0ROStats3 = pd.DataFrame(index=TimIndex3, data=DictH0RO3 )\n",
    "H0ROStats4 = pd.DataFrame(index=TimIndex4, data=DictH0RO4 )"
   ]
  },
  {
   "cell_type": "code",
   "execution_count": 29,
   "metadata": {},
   "outputs": [],
   "source": [
    "H0REStats1 = pd.DataFrame(index=TimIndex1, data=DictH0RE1 )\n",
    "H0REStats2 = pd.DataFrame(index=TimIndex2, data=DictH0RE2 )\n",
    "H0REStats3 = pd.DataFrame(index=TimIndex3, data=DictH0RE3 )\n",
    "H0REStats4 = pd.DataFrame(index=TimIndex4, data=DictH0RE4 )"
   ]
  },
  {
   "cell_type": "markdown",
   "metadata": {},
   "source": [
    "Output to a spreadsheet"
   ]
  },
  {
   "cell_type": "code",
   "execution_count": 30,
   "metadata": {},
   "outputs": [],
   "source": [
    "OutFileName = \"Cum_H0_%s_ProcessMonthly_Stats.xlsx\" % OUT_ROOT\n",
    "OutFP = os.path.normpath( os.path.join( OUT_DIR, OutFileName ) )\n",
    "with pd.ExcelWriter( OutFP ) as writer:\n",
    "    H0PreStats1.to_excel( writer, sheet_name=\"Precip_1\", index_label=\"Date\",\n",
    "                        columns=StatsHdsList, na_rep=str(np.nan) )\n",
    "    H0PreStats2.to_excel( writer, sheet_name=\"Precip_2\", index_label=\"Date\",\n",
    "                        columns=StatsHdsList, na_rep=str(np.nan) )\n",
    "    H0PreStats3.to_excel( writer, sheet_name=\"Precip_3\", index_label=\"Date\",\n",
    "                        columns=StatsHdsList, na_rep=str(np.nan) )\n",
    "    H0PreStats4.to_excel( writer, sheet_name=\"Precip_4\", index_label=\"Date\",\n",
    "                        columns=StatsHdsList, na_rep=str(np.nan) )\n",
    "    H0PETStats1.to_excel( writer, sheet_name=\"PET_1\", index_label=\"Date\",\n",
    "                        columns=StatsHdsList, na_rep=str(np.nan) )\n",
    "    H0PETStats2.to_excel( writer, sheet_name=\"PET_2\", index_label=\"Date\",\n",
    "                        columns=StatsHdsList, na_rep=str(np.nan) )\n",
    "    H0PETStats3.to_excel( writer, sheet_name=\"PET_3\", index_label=\"Date\",\n",
    "                        columns=StatsHdsList, na_rep=str(np.nan) )\n",
    "    H0PETStats4.to_excel( writer, sheet_name=\"PET_4\", index_label=\"Date\",\n",
    "                        columns=StatsHdsList, na_rep=str(np.nan) )\n",
    "    H0AETStats1.to_excel( writer, sheet_name=\"AET_1\", index_label=\"Date\",\n",
    "                        columns=StatsHdsList, na_rep=str(np.nan) )\n",
    "    H0AETStats2.to_excel( writer, sheet_name=\"AET_2\", index_label=\"Date\",\n",
    "                        columns=StatsHdsList, na_rep=str(np.nan) )\n",
    "    H0AETStats3.to_excel( writer, sheet_name=\"AET_3\", index_label=\"Date\",\n",
    "                        columns=StatsHdsList, na_rep=str(np.nan) )\n",
    "    H0AETStats4.to_excel( writer, sheet_name=\"AET_4\", index_label=\"Date\",\n",
    "                        columns=StatsHdsList, na_rep=str(np.nan) )\n",
    "    H0ROStats1.to_excel( writer, sheet_name=\"RO_1\", index_label=\"Date\",\n",
    "                        columns=StatsHdsList, na_rep=str(np.nan) )\n",
    "    H0ROStats2.to_excel( writer, sheet_name=\"RO_2\", index_label=\"Date\",\n",
    "                        columns=StatsHdsList, na_rep=str(np.nan) )\n",
    "    H0ROStats3.to_excel( writer, sheet_name=\"RO_3\", index_label=\"Date\",\n",
    "                        columns=StatsHdsList, na_rep=str(np.nan) )\n",
    "    H0ROStats4.to_excel( writer, sheet_name=\"RO_4\", index_label=\"Date\",\n",
    "                        columns=StatsHdsList, na_rep=str(np.nan) )\n",
    "    H0REStats1.to_excel( writer, sheet_name=\"RE_1\", index_label=\"Date\",\n",
    "                        columns=StatsHdsList, na_rep=str(np.nan) )\n",
    "    H0REStats2.to_excel( writer, sheet_name=\"RE_2\", index_label=\"Date\",\n",
    "                        columns=StatsHdsList, na_rep=str(np.nan) )\n",
    "    H0REStats3.to_excel( writer, sheet_name=\"RE_3\", index_label=\"Date\",\n",
    "                        columns=StatsHdsList, na_rep=str(np.nan) )\n",
    "    H0REStats4.to_excel( writer, sheet_name=\"RE_4\", index_label=\"Date\",\n",
    "                        columns=StatsHdsList, na_rep=str(np.nan) )\n",
    "# end with"
   ]
  },
  {
   "cell_type": "markdown",
   "metadata": {},
   "source": [
    "### H1"
   ]
  },
  {
   "cell_type": "code",
   "execution_count": 31,
   "metadata": {},
   "outputs": [],
   "source": [
    "DictH1Pre1 = dict()\n",
    "DictH1Pre2 = dict()\n",
    "DictH1Pre3 = dict()\n",
    "DictH1Pre4 = dict()\n",
    "DictH1PET1 = dict()\n",
    "DictH1PET2 = dict()\n",
    "DictH1PET3 = dict()\n",
    "DictH1PET4 = dict()\n",
    "DictH1AET1 = dict()\n",
    "DictH1AET2 = dict()\n",
    "DictH1AET3 = dict()\n",
    "DictH1AET4 = dict()\n",
    "DictH1RO1 = dict()\n",
    "DictH1RO2 = dict()\n",
    "DictH1RO3 = dict()\n",
    "DictH1RO4 = dict()\n",
    "DictH1RE1 = dict()\n",
    "DictH1RE2 = dict()\n",
    "DictH1RE3 = dict()\n",
    "DictH1RE4 = dict()\n",
    "hdrCnt = 0\n",
    "# start out by doing the percentiles\n",
    "for iI in range(NumQs):\n",
    "    curQ = OurQs[iI]\n",
    "    DictH1Pre1[StatsHdsList[hdrCnt]] = H1Precip1.quantile( q=curQ, axis=1 ).to_numpy()\n",
    "    DictH1Pre2[StatsHdsList[hdrCnt]] = H1Precip2.quantile( q=curQ, axis=1 ).to_numpy()\n",
    "    DictH1Pre3[StatsHdsList[hdrCnt]] = H1Precip3.quantile( q=curQ, axis=1 ).to_numpy()\n",
    "    DictH1Pre4[StatsHdsList[hdrCnt]] = H1Precip4.quantile( q=curQ, axis=1 ).to_numpy()\n",
    "    DictH1PET1[StatsHdsList[hdrCnt]] = H1PET1.quantile( q=curQ, axis=1 ).to_numpy()\n",
    "    DictH1PET2[StatsHdsList[hdrCnt]] = H1PET2.quantile( q=curQ, axis=1 ).to_numpy()\n",
    "    DictH1PET3[StatsHdsList[hdrCnt]] = H1PET3.quantile( q=curQ, axis=1 ).to_numpy()\n",
    "    DictH1PET4[StatsHdsList[hdrCnt]] = H1PET4.quantile( q=curQ, axis=1 ).to_numpy()\n",
    "    DictH1AET1[StatsHdsList[hdrCnt]] = H1AET1.quantile( q=curQ, axis=1 ).to_numpy()\n",
    "    DictH1AET2[StatsHdsList[hdrCnt]] = H1AET2.quantile( q=curQ, axis=1 ).to_numpy()\n",
    "    DictH1AET3[StatsHdsList[hdrCnt]] = H1AET3.quantile( q=curQ, axis=1 ).to_numpy()\n",
    "    DictH1AET4[StatsHdsList[hdrCnt]] = H1AET4.quantile( q=curQ, axis=1 ).to_numpy()\n",
    "    DictH1RO1[StatsHdsList[hdrCnt]] = H1RO1.quantile( q=curQ, axis=1 ).to_numpy()\n",
    "    DictH1RO2[StatsHdsList[hdrCnt]] = H1RO2.quantile( q=curQ, axis=1 ).to_numpy()\n",
    "    DictH1RO3[StatsHdsList[hdrCnt]] = H1RO3.quantile( q=curQ, axis=1 ).to_numpy()\n",
    "    DictH1RO4[StatsHdsList[hdrCnt]] = H1RO4.quantile( q=curQ, axis=1 ).to_numpy()\n",
    "    DictH1RE1[StatsHdsList[hdrCnt]] = H1RE1.quantile( q=curQ, axis=1 ).to_numpy()\n",
    "    DictH1RE2[StatsHdsList[hdrCnt]] = H1RE2.quantile( q=curQ, axis=1 ).to_numpy()\n",
    "    DictH1RE3[StatsHdsList[hdrCnt]] = H1RE3.quantile( q=curQ, axis=1 ).to_numpy()\n",
    "    DictH1RE4[StatsHdsList[hdrCnt]] = H1RE4.quantile( q=curQ, axis=1 ).to_numpy()\n",
    "    hdrCnt += 1\n",
    "# end for\n",
    "DictH1Pre1[StatsHdsList[hdrCnt]] = H1Precip1.mean( axis=1 ).to_numpy()\n",
    "DictH1Pre2[StatsHdsList[hdrCnt]] = H1Precip2.mean( axis=1 ).to_numpy()\n",
    "DictH1Pre3[StatsHdsList[hdrCnt]] = H1Precip3.mean( axis=1 ).to_numpy()\n",
    "DictH1Pre4[StatsHdsList[hdrCnt]] = H1Precip4.mean( axis=1 ).to_numpy()\n",
    "DictH1PET1[StatsHdsList[hdrCnt]] = H1PET1.mean( axis=1 ).to_numpy()\n",
    "DictH1PET2[StatsHdsList[hdrCnt]] = H1PET2.mean( axis=1 ).to_numpy()\n",
    "DictH1PET3[StatsHdsList[hdrCnt]] = H1PET3.mean( axis=1 ).to_numpy()\n",
    "DictH1PET4[StatsHdsList[hdrCnt]] = H1PET4.mean( axis=1 ).to_numpy()\n",
    "DictH1AET1[StatsHdsList[hdrCnt]] = H1AET1.mean( axis=1 ).to_numpy()\n",
    "DictH1AET2[StatsHdsList[hdrCnt]] = H1AET2.mean( axis=1 ).to_numpy()\n",
    "DictH1AET3[StatsHdsList[hdrCnt]] = H1AET3.mean( axis=1 ).to_numpy()\n",
    "DictH1AET4[StatsHdsList[hdrCnt]] = H1AET4.mean( axis=1 ).to_numpy()\n",
    "DictH1RO1[StatsHdsList[hdrCnt]] = H1RO1.mean( axis=1 ).to_numpy()\n",
    "DictH1RO2[StatsHdsList[hdrCnt]] = H1RO2.mean( axis=1 ).to_numpy()\n",
    "DictH1RO3[StatsHdsList[hdrCnt]] = H1RO3.mean( axis=1 ).to_numpy()\n",
    "DictH1RO4[StatsHdsList[hdrCnt]] = H1RO4.mean( axis=1 ).to_numpy()\n",
    "DictH1RE1[StatsHdsList[hdrCnt]] = H1RE1.mean( axis=1 ).to_numpy()\n",
    "DictH1RE2[StatsHdsList[hdrCnt]] = H1RE2.mean( axis=1 ).to_numpy()\n",
    "DictH1RE3[StatsHdsList[hdrCnt]] = H1RE3.mean( axis=1 ).to_numpy()\n",
    "DictH1RE4[StatsHdsList[hdrCnt]] = H1RE4.mean( axis=1 ).to_numpy()\n",
    "hdrCnt += 1"
   ]
  },
  {
   "cell_type": "code",
   "execution_count": 32,
   "metadata": {},
   "outputs": [],
   "source": [
    "DictH1Pre1[StatsHdsList[hdrCnt]] = H1Precip1.var( axis=1 ).to_numpy()\n",
    "DictH1Pre2[StatsHdsList[hdrCnt]] = H1Precip2.var( axis=1 ).to_numpy()\n",
    "DictH1Pre3[StatsHdsList[hdrCnt]] = H1Precip3.var( axis=1 ).to_numpy()\n",
    "DictH1Pre4[StatsHdsList[hdrCnt]] = H1Precip4.var( axis=1 ).to_numpy()\n",
    "DictH1PET1[StatsHdsList[hdrCnt]] = H1PET1.var( axis=1 ).to_numpy()\n",
    "DictH1PET2[StatsHdsList[hdrCnt]] = H1PET2.var( axis=1 ).to_numpy()\n",
    "DictH1PET3[StatsHdsList[hdrCnt]] = H1PET3.var( axis=1 ).to_numpy()\n",
    "DictH1PET4[StatsHdsList[hdrCnt]] = H1PET4.var( axis=1 ).to_numpy()\n",
    "DictH1AET1[StatsHdsList[hdrCnt]] = H1AET1.var( axis=1 ).to_numpy()\n",
    "DictH1AET2[StatsHdsList[hdrCnt]] = H1AET2.var( axis=1 ).to_numpy()\n",
    "DictH1AET3[StatsHdsList[hdrCnt]] = H1AET3.var( axis=1 ).to_numpy()\n",
    "DictH1AET4[StatsHdsList[hdrCnt]] = H1AET4.var( axis=1 ).to_numpy()\n",
    "DictH1RO1[StatsHdsList[hdrCnt]] = H1RO1.var( axis=1 ).to_numpy()\n",
    "DictH1RO2[StatsHdsList[hdrCnt]] = H1RO2.var( axis=1 ).to_numpy()\n",
    "DictH1RO3[StatsHdsList[hdrCnt]] = H1RO3.var( axis=1 ).to_numpy()\n",
    "DictH1RO4[StatsHdsList[hdrCnt]] = H1RO4.var( axis=1 ).to_numpy()\n",
    "DictH1RE1[StatsHdsList[hdrCnt]] = H1RE1.var( axis=1 ).to_numpy()\n",
    "DictH1RE2[StatsHdsList[hdrCnt]] = H1RE2.var( axis=1 ).to_numpy()\n",
    "DictH1RE3[StatsHdsList[hdrCnt]] = H1RE3.var( axis=1 ).to_numpy()\n",
    "DictH1RE4[StatsHdsList[hdrCnt]] = H1RE4.var( axis=1 ).to_numpy()\n",
    "hdrCnt += 1"
   ]
  },
  {
   "cell_type": "code",
   "execution_count": 33,
   "metadata": {},
   "outputs": [],
   "source": [
    "DictH1Pre1[StatsHdsList[hdrCnt]] = H1Precip1.skew( axis=1 ).to_numpy()\n",
    "DictH1Pre2[StatsHdsList[hdrCnt]] = H1Precip2.skew( axis=1 ).to_numpy()\n",
    "DictH1Pre3[StatsHdsList[hdrCnt]] = H1Precip3.skew( axis=1 ).to_numpy()\n",
    "DictH1Pre4[StatsHdsList[hdrCnt]] = H1Precip4.skew( axis=1 ).to_numpy()\n",
    "DictH1PET1[StatsHdsList[hdrCnt]] = H1PET1.skew( axis=1 ).to_numpy()\n",
    "DictH1PET2[StatsHdsList[hdrCnt]] = H1PET2.skew( axis=1 ).to_numpy()\n",
    "DictH1PET3[StatsHdsList[hdrCnt]] = H1PET3.skew( axis=1 ).to_numpy()\n",
    "DictH1PET4[StatsHdsList[hdrCnt]] = H1PET4.skew( axis=1 ).to_numpy()\n",
    "DictH1AET1[StatsHdsList[hdrCnt]] = H1AET1.skew( axis=1 ).to_numpy()\n",
    "DictH1AET2[StatsHdsList[hdrCnt]] = H1AET2.skew( axis=1 ).to_numpy()\n",
    "DictH1AET3[StatsHdsList[hdrCnt]] = H1AET3.skew( axis=1 ).to_numpy()\n",
    "DictH1AET4[StatsHdsList[hdrCnt]] = H1AET4.skew( axis=1 ).to_numpy()\n",
    "DictH1RO1[StatsHdsList[hdrCnt]] = H1RO1.skew( axis=1 ).to_numpy()\n",
    "DictH1RO2[StatsHdsList[hdrCnt]] = H1RO2.skew( axis=1 ).to_numpy()\n",
    "DictH1RO3[StatsHdsList[hdrCnt]] = H1RO3.skew( axis=1 ).to_numpy()\n",
    "DictH1RO4[StatsHdsList[hdrCnt]] = H1RO4.skew( axis=1 ).to_numpy()\n",
    "DictH1RE1[StatsHdsList[hdrCnt]] = H1RE1.skew( axis=1 ).to_numpy()\n",
    "DictH1RE2[StatsHdsList[hdrCnt]] = H1RE2.skew( axis=1 ).to_numpy()\n",
    "DictH1RE3[StatsHdsList[hdrCnt]] = H1RE3.skew( axis=1 ).to_numpy()\n",
    "DictH1RE4[StatsHdsList[hdrCnt]] = H1RE4.skew( axis=1 ).to_numpy()\n",
    "hdrCnt += 1"
   ]
  },
  {
   "cell_type": "code",
   "execution_count": 34,
   "metadata": {},
   "outputs": [],
   "source": [
    "DictH1Pre1[StatsHdsList[hdrCnt]] = H1Precip1.kurt( axis=1 ).to_numpy()\n",
    "DictH1Pre2[StatsHdsList[hdrCnt]] = H1Precip2.kurt( axis=1 ).to_numpy()\n",
    "DictH1Pre3[StatsHdsList[hdrCnt]] = H1Precip3.kurt( axis=1 ).to_numpy()\n",
    "DictH1Pre4[StatsHdsList[hdrCnt]] = H1Precip4.kurt( axis=1 ).to_numpy()\n",
    "DictH1PET1[StatsHdsList[hdrCnt]] = H1PET1.kurt( axis=1 ).to_numpy()\n",
    "DictH1PET2[StatsHdsList[hdrCnt]] = H1PET2.kurt( axis=1 ).to_numpy()\n",
    "DictH1PET3[StatsHdsList[hdrCnt]] = H1PET3.kurt( axis=1 ).to_numpy()\n",
    "DictH1PET4[StatsHdsList[hdrCnt]] = H1PET4.kurt( axis=1 ).to_numpy()\n",
    "DictH1AET1[StatsHdsList[hdrCnt]] = H1AET1.kurt( axis=1 ).to_numpy()\n",
    "DictH1AET2[StatsHdsList[hdrCnt]] = H1AET2.kurt( axis=1 ).to_numpy()\n",
    "DictH1AET3[StatsHdsList[hdrCnt]] = H1AET3.kurt( axis=1 ).to_numpy()\n",
    "DictH1AET4[StatsHdsList[hdrCnt]] = H1AET4.kurt( axis=1 ).to_numpy()\n",
    "DictH1RO1[StatsHdsList[hdrCnt]] = H1RO1.kurt( axis=1 ).to_numpy()\n",
    "DictH1RO2[StatsHdsList[hdrCnt]] = H1RO2.kurt( axis=1 ).to_numpy()\n",
    "DictH1RO3[StatsHdsList[hdrCnt]] = H1RO3.kurt( axis=1 ).to_numpy()\n",
    "DictH1RO4[StatsHdsList[hdrCnt]] = H1RO4.kurt( axis=1 ).to_numpy()\n",
    "DictH1RE1[StatsHdsList[hdrCnt]] = H1RE1.kurt( axis=1 ).to_numpy()\n",
    "DictH1RE2[StatsHdsList[hdrCnt]] = H1RE2.kurt( axis=1 ).to_numpy()\n",
    "DictH1RE3[StatsHdsList[hdrCnt]] = H1RE3.kurt( axis=1 ).to_numpy()\n",
    "DictH1RE4[StatsHdsList[hdrCnt]] = H1RE4.kurt( axis=1 ).to_numpy()"
   ]
  },
  {
   "cell_type": "markdown",
   "metadata": {},
   "source": [
    "Make our DataFrames from the Stats"
   ]
  },
  {
   "cell_type": "code",
   "execution_count": 35,
   "metadata": {},
   "outputs": [],
   "source": [
    "TimIndex1 = H1Precip1.index\n",
    "TimIndex2 = H1Precip2.index\n",
    "TimIndex3 = H1Precip3.index\n",
    "TimIndex4 = H1Precip4.index"
   ]
  },
  {
   "cell_type": "code",
   "execution_count": 36,
   "metadata": {},
   "outputs": [],
   "source": [
    "H1PreStats1 = pd.DataFrame(index=TimIndex1, data=DictH1Pre1 )\n",
    "H1PreStats2 = pd.DataFrame(index=TimIndex2, data=DictH1Pre2 )\n",
    "H1PreStats3 = pd.DataFrame(index=TimIndex3, data=DictH1Pre3 )\n",
    "H1PreStats4 = pd.DataFrame(index=TimIndex4, data=DictH1Pre4 )"
   ]
  },
  {
   "cell_type": "code",
   "execution_count": 37,
   "metadata": {},
   "outputs": [],
   "source": [
    "H1PETStats1 = pd.DataFrame(index=TimIndex1, data=DictH1PET1 )\n",
    "H1PETStats2 = pd.DataFrame(index=TimIndex2, data=DictH1PET2 )\n",
    "H1PETStats3 = pd.DataFrame(index=TimIndex3, data=DictH1PET3 )\n",
    "H1PETStats4 = pd.DataFrame(index=TimIndex4, data=DictH1PET4 )"
   ]
  },
  {
   "cell_type": "code",
   "execution_count": 38,
   "metadata": {},
   "outputs": [],
   "source": [
    "H1AETStats1 = pd.DataFrame(index=TimIndex1, data=DictH1AET1 )\n",
    "H1AETStats2 = pd.DataFrame(index=TimIndex2, data=DictH1AET2 )\n",
    "H1AETStats3 = pd.DataFrame(index=TimIndex3, data=DictH1AET3 )\n",
    "H1AETStats4 = pd.DataFrame(index=TimIndex4, data=DictH1AET4 )"
   ]
  },
  {
   "cell_type": "code",
   "execution_count": 39,
   "metadata": {},
   "outputs": [],
   "source": [
    "H1ROStats1 = pd.DataFrame(index=TimIndex1, data=DictH1RO1 )\n",
    "H1ROStats2 = pd.DataFrame(index=TimIndex2, data=DictH1RO2 )\n",
    "H1ROStats3 = pd.DataFrame(index=TimIndex3, data=DictH1RO3 )\n",
    "H1ROStats4 = pd.DataFrame(index=TimIndex4, data=DictH1RO4 )"
   ]
  },
  {
   "cell_type": "code",
   "execution_count": 40,
   "metadata": {},
   "outputs": [],
   "source": [
    "H1REStats1 = pd.DataFrame(index=TimIndex1, data=DictH1RE1 )\n",
    "H1REStats2 = pd.DataFrame(index=TimIndex2, data=DictH1RE2 )\n",
    "H1REStats3 = pd.DataFrame(index=TimIndex3, data=DictH1RE3 )\n",
    "H1REStats4 = pd.DataFrame(index=TimIndex4, data=DictH1RE4 )"
   ]
  },
  {
   "cell_type": "markdown",
   "metadata": {},
   "source": [
    "Output to a spreadsheet"
   ]
  },
  {
   "cell_type": "code",
   "execution_count": 41,
   "metadata": {},
   "outputs": [],
   "source": [
    "OutFileName = \"Cum_H1_%s_ProcessMonthly_Stats.xlsx\" % OUT_ROOT\n",
    "OutFP = os.path.normpath( os.path.join( OUT_DIR, OutFileName ) )\n",
    "with pd.ExcelWriter( OutFP ) as writer:\n",
    "    H1PreStats1.to_excel( writer, sheet_name=\"Precip_1\", index_label=\"Date\",\n",
    "                        columns=StatsHdsList, na_rep=str(np.nan) )\n",
    "    H1PreStats2.to_excel( writer, sheet_name=\"Precip_2\", index_label=\"Date\",\n",
    "                        columns=StatsHdsList, na_rep=str(np.nan) )\n",
    "    H1PreStats3.to_excel( writer, sheet_name=\"Precip_3\", index_label=\"Date\",\n",
    "                        columns=StatsHdsList, na_rep=str(np.nan) )\n",
    "    H1PreStats4.to_excel( writer, sheet_name=\"Precip_4\", index_label=\"Date\",\n",
    "                        columns=StatsHdsList, na_rep=str(np.nan) )\n",
    "    H1PETStats1.to_excel( writer, sheet_name=\"PET_1\", index_label=\"Date\",\n",
    "                        columns=StatsHdsList, na_rep=str(np.nan) )\n",
    "    H1PETStats2.to_excel( writer, sheet_name=\"PET_2\", index_label=\"Date\",\n",
    "                        columns=StatsHdsList, na_rep=str(np.nan) )\n",
    "    H1PETStats3.to_excel( writer, sheet_name=\"PET_3\", index_label=\"Date\",\n",
    "                        columns=StatsHdsList, na_rep=str(np.nan) )\n",
    "    H1PETStats4.to_excel( writer, sheet_name=\"PET_4\", index_label=\"Date\",\n",
    "                        columns=StatsHdsList, na_rep=str(np.nan) )\n",
    "    H1AETStats1.to_excel( writer, sheet_name=\"AET_1\", index_label=\"Date\",\n",
    "                        columns=StatsHdsList, na_rep=str(np.nan) )\n",
    "    H1AETStats2.to_excel( writer, sheet_name=\"AET_2\", index_label=\"Date\",\n",
    "                        columns=StatsHdsList, na_rep=str(np.nan) )\n",
    "    H1AETStats3.to_excel( writer, sheet_name=\"AET_3\", index_label=\"Date\",\n",
    "                        columns=StatsHdsList, na_rep=str(np.nan) )\n",
    "    H1AETStats4.to_excel( writer, sheet_name=\"AET_4\", index_label=\"Date\",\n",
    "                        columns=StatsHdsList, na_rep=str(np.nan) )\n",
    "    H1ROStats1.to_excel( writer, sheet_name=\"RO_1\", index_label=\"Date\",\n",
    "                        columns=StatsHdsList, na_rep=str(np.nan) )\n",
    "    H1ROStats2.to_excel( writer, sheet_name=\"RO_2\", index_label=\"Date\",\n",
    "                        columns=StatsHdsList, na_rep=str(np.nan) )\n",
    "    H1ROStats3.to_excel( writer, sheet_name=\"RO_3\", index_label=\"Date\",\n",
    "                        columns=StatsHdsList, na_rep=str(np.nan) )\n",
    "    H1ROStats4.to_excel( writer, sheet_name=\"RO_4\", index_label=\"Date\",\n",
    "                        columns=StatsHdsList, na_rep=str(np.nan) )\n",
    "    H1REStats1.to_excel( writer, sheet_name=\"RE_1\", index_label=\"Date\",\n",
    "                        columns=StatsHdsList, na_rep=str(np.nan) )\n",
    "    H1REStats2.to_excel( writer, sheet_name=\"RE_2\", index_label=\"Date\",\n",
    "                        columns=StatsHdsList, na_rep=str(np.nan) )\n",
    "    H1REStats3.to_excel( writer, sheet_name=\"RE_3\", index_label=\"Date\",\n",
    "                        columns=StatsHdsList, na_rep=str(np.nan) )\n",
    "    H1REStats4.to_excel( writer, sheet_name=\"RE_4\", index_label=\"Date\",\n",
    "                        columns=StatsHdsList, na_rep=str(np.nan) )\n",
    "# end with"
   ]
  },
  {
   "cell_type": "markdown",
   "metadata": {},
   "source": [
    "## Time History Plots"
   ]
  },
  {
   "cell_type": "markdown",
   "metadata": {},
   "source": [
    "### Precipitation"
   ]
  },
  {
   "cell_type": "code",
   "execution_count": 42,
   "metadata": {},
   "outputs": [
    {
     "data": {
      "text/plain": [
       "'0_ptile'"
      ]
     },
     "execution_count": 42,
     "metadata": {},
     "output_type": "execute_result"
    }
   ],
   "source": [
    "StatsHdsList[0]"
   ]
  },
  {
   "cell_type": "code",
   "execution_count": 43,
   "metadata": {},
   "outputs": [
    {
     "data": {
      "text/plain": [
       "0.0"
      ]
     },
     "execution_count": 43,
     "metadata": {},
     "output_type": "execute_result"
    }
   ],
   "source": [
    "MinPrecip = min( H0PreStats1[StatsHdsList[0]].min(), H0PreStats2[StatsHdsList[0]].min(), \n",
    "                 H0PreStats3[StatsHdsList[0]].min(), H0PreStats4[StatsHdsList[0]].min(),\n",
    "                 H1PreStats1[StatsHdsList[0]].min(), H1PreStats2[StatsHdsList[0]].min(), \n",
    "                 H1PreStats3[StatsHdsList[0]].min(), H1PreStats4[StatsHdsList[0]].min())\n",
    "MinPrecip"
   ]
  },
  {
   "cell_type": "code",
   "execution_count": 44,
   "metadata": {},
   "outputs": [],
   "source": [
    "MinPrecip = -10000.0"
   ]
  },
  {
   "cell_type": "code",
   "execution_count": 45,
   "metadata": {},
   "outputs": [
    {
     "data": {
      "text/plain": [
       "'100_ptile'"
      ]
     },
     "execution_count": 45,
     "metadata": {},
     "output_type": "execute_result"
    }
   ],
   "source": [
    "StatsHdsList[100]"
   ]
  },
  {
   "cell_type": "code",
   "execution_count": 46,
   "metadata": {},
   "outputs": [
    {
     "data": {
      "text/plain": [
       "8612386.129171282"
      ]
     },
     "execution_count": 46,
     "metadata": {},
     "output_type": "execute_result"
    }
   ],
   "source": [
    "MaxPrecip = max( H0PreStats1[StatsHdsList[100]].max(), H0PreStats2[StatsHdsList[100]].max(), \n",
    "                 H0PreStats3[StatsHdsList[100]].max(), H0PreStats4[StatsHdsList[100]].max(),\n",
    "                 H1PreStats1[StatsHdsList[100]].max(), H1PreStats2[StatsHdsList[100]].max(), \n",
    "                 H1PreStats3[StatsHdsList[100]].max(), H1PreStats4[StatsHdsList[100]].max() )\n",
    "MaxPrecip"
   ]
  },
  {
   "cell_type": "code",
   "execution_count": 47,
   "metadata": {},
   "outputs": [],
   "source": [
    "MaxPrecip = 9000000.0"
   ]
  },
  {
   "cell_type": "code",
   "execution_count": 48,
   "metadata": {},
   "outputs": [
    {
     "data": {
      "text/plain": [
       "'Average'"
      ]
     },
     "execution_count": 48,
     "metadata": {},
     "output_type": "execute_result"
    }
   ],
   "source": [
    "StatsHdsList[101]"
   ]
  },
  {
   "cell_type": "code",
   "execution_count": 49,
   "metadata": {},
   "outputs": [
    {
     "data": {
      "image/png": "[encoded data removed]",
      "text/plain": [
       "<Figure size 720x432 with 1 Axes>"
      ]
     },
     "metadata": {
      "needs_background": "light"
     },
     "output_type": "display_data"
    }
   ],
   "source": [
    "Fig1 = plt.figure()\n",
    "Fig1.set_size_inches(10.0, 6.0)\n",
    "ax11 = Fig1.add_subplot(111)\n",
    "ax11.plot( H0PreStats1.index, H0PreStats1[StatsHdsList[101]], linestyle='-',\n",
    "           linewidth=2, color='xkcd:black', label='H0 Mean' )\n",
    "ax11.plot( H1PreStats1.index, H1PreStats1[StatsHdsList[101]], linestyle='-',\n",
    "           linewidth=4, color='xkcd:royal blue', label='H1 Mean' )\n",
    "ax11.set_xlim( (TP_DICT[1][0], TP_DICT[1][1]))\n",
    "ax11.set_ylim( (MinPrecip, MaxPrecip) )\n",
    "ax11.grid(True, axis='y', which='both')\n",
    "#ax11.set_title(\"Probabilistic Discharge\", fontsize=16)\n",
    "#ax11.set_xlabel('Day of the Year', fontsize=14 )\n",
    "ax11.set_ylabel('Probabilistic Difference in Precipitation (af)', fontsize=14)\n",
    "ax11.grid( b=True )\n",
    "ax11.legend( loc='lower right' )\n",
    "ax11.tick_params(axis='both', which='major', labelsize=13)\n",
    "ax11.tick_params(axis='x', which='major', labelrotation=30.0)\n",
    "ax11.yaxis.set_major_formatter( mpl.ticker.StrMethodFormatter( \"{x:,.1f}\" ) )\n",
    "ax11.xaxis.set_major_formatter( mpl.dates.DateFormatter(\"%Y-%m-%d\") )"
   ]
  },
  {
   "cell_type": "markdown",
   "metadata": {},
   "source": [
    "We have cumulative in each analysis period. Want to to make this a continuous line across all data periods"
   ]
  },
  {
   "cell_type": "code",
   "execution_count": 50,
   "metadata": {},
   "outputs": [
    {
     "data": {
      "text/plain": [
       "(360, 360, 360, 360)"
      ]
     },
     "execution_count": 50,
     "metadata": {},
     "output_type": "execute_result"
    }
   ],
   "source": [
    "NumD1 = len( H0PreStats1 )\n",
    "NumP1 = len( H0PreStats2 )\n",
    "NumP2 = len( H0PreStats3 )\n",
    "NumP3 = len( H0PreStats4 )\n",
    "NumD1, NumP1, NumP2, NumP3"
   ]
  },
  {
   "cell_type": "code",
   "execution_count": 51,
   "metadata": {},
   "outputs": [
    {
     "data": {
      "text/plain": [
       "(Timestamp('2010-12-01 00:00:00', freq='MS'),\n",
       " Timestamp('2040-12-01 00:00:00', freq='MS'),\n",
       " Timestamp('2070-12-01 00:00:00', freq='MS'),\n",
       " Timestamp('2100-12-01 00:00:00', freq='MS'))"
      ]
     },
     "execution_count": 51,
     "metadata": {},
     "output_type": "execute_result"
    }
   ],
   "source": [
    "IndexD1 = H0PreStats1.index[NumD1-1]\n",
    "IndexP1 = H0PreStats2.index[NumP1-1]\n",
    "IndexP2 = H0PreStats3.index[NumP2-1]\n",
    "IndexP3 = H0PreStats4.index[NumP3-1]\n",
    "IndexD1, IndexP1, IndexP2, IndexP3"
   ]
  },
  {
   "cell_type": "code",
   "execution_count": 52,
   "metadata": {},
   "outputs": [
    {
     "data": {
      "text/plain": [
       "(6753746.586830943, 13696447.23851658, 20793812.40588051, 27973011.259203456)"
      ]
     },
     "execution_count": 52,
     "metadata": {},
     "output_type": "execute_result"
    }
   ],
   "source": [
    "H0PreD1AveTot = H0PreStats1.at[IndexD1, StatsHdsList[101]]\n",
    "H0PreP1AveTot = H0PreStats2.at[IndexP1, StatsHdsList[101]] + H0PreD1AveTot\n",
    "H0PreP2AveTot = H0PreStats3.at[IndexP2, StatsHdsList[101]] + H0PreP1AveTot\n",
    "H0PreP3AveTot = H0PreStats4.at[IndexP3, StatsHdsList[101]] + H0PreP2AveTot\n",
    "H0PreD1AveTot, H0PreP1AveTot, H0PreP2AveTot, H0PreP3AveTot "
   ]
  },
  {
   "cell_type": "code",
   "execution_count": 53,
   "metadata": {},
   "outputs": [
    {
     "data": {
      "text/plain": [
       "1440"
      ]
     },
     "execution_count": 53,
     "metadata": {},
     "output_type": "execute_result"
    }
   ],
   "source": [
    "H0PreAllAve = H0PreStats1[[StatsHdsList[101]]].to_numpy()\n",
    "H0PreAllAve = np.append( H0PreAllAve, \n",
    "                         H0PreStats2[[StatsHdsList[101]]].to_numpy() + H0PreD1AveTot )\n",
    "H0PreAllAve = np.append( H0PreAllAve, \n",
    "                         H0PreStats3[[StatsHdsList[101]]].to_numpy() + H0PreP1AveTot )\n",
    "H0PreAllAve = np.append( H0PreAllAve, \n",
    "                         H0PreStats4[[StatsHdsList[101]]].to_numpy() + H0PreP2AveTot )\n",
    "len( H0PreAllAve )"
   ]
  },
  {
   "cell_type": "code",
   "execution_count": 54,
   "metadata": {},
   "outputs": [
    {
     "data": {
      "text/plain": [
       "(6753746.586830943, 13717156.197936278, 20848945.529465567, 28069858.78644361)"
      ]
     },
     "execution_count": 54,
     "metadata": {},
     "output_type": "execute_result"
    }
   ],
   "source": [
    "H1PreD1AveTot = H1PreStats1.at[IndexD1, StatsHdsList[101]]\n",
    "H1PreP1AveTot = H1PreStats2.at[IndexP1, StatsHdsList[101]] + H1PreD1AveTot\n",
    "H1PreP2AveTot = H1PreStats3.at[IndexP2, StatsHdsList[101]] + H1PreP1AveTot\n",
    "H1PreP3AveTot = H1PreStats4.at[IndexP3, StatsHdsList[101]] + H1PreP2AveTot\n",
    "H1PreD1AveTot, H1PreP1AveTot, H1PreP2AveTot, H1PreP3AveTot "
   ]
  },
  {
   "cell_type": "code",
   "execution_count": 55,
   "metadata": {},
   "outputs": [
    {
     "data": {
      "text/plain": [
       "1440"
      ]
     },
     "execution_count": 55,
     "metadata": {},
     "output_type": "execute_result"
    }
   ],
   "source": [
    "H1PreAllAve = H1PreStats1[[StatsHdsList[101]]].to_numpy()\n",
    "H1PreAllAve = np.append( H1PreAllAve, \n",
    "                         H1PreStats2[[StatsHdsList[101]]].to_numpy() + H1PreD1AveTot )\n",
    "H1PreAllAve = np.append( H1PreAllAve, \n",
    "                         H1PreStats3[[StatsHdsList[101]]].to_numpy() + H1PreP1AveTot )\n",
    "H1PreAllAve = np.append( H1PreAllAve, \n",
    "                         H1PreStats4[[StatsHdsList[101]]].to_numpy() + H1PreP2AveTot )\n",
    "len( H1PreAllAve )"
   ]
  },
  {
   "cell_type": "markdown",
   "metadata": {},
   "source": [
    "Now need to do the 25th and 75th percentiles"
   ]
  },
  {
   "cell_type": "code",
   "execution_count": 56,
   "metadata": {},
   "outputs": [
    {
     "data": {
      "text/plain": [
       "(6558939.395865139, 13265528.52083841, 20123528.84538049, 27056496.122549277)"
      ]
     },
     "execution_count": 56,
     "metadata": {},
     "output_type": "execute_result"
    }
   ],
   "source": [
    "H0PreD1P25Tot = H0PreStats1.at[IndexD1, StatsHdsList[25]]\n",
    "H0PreP1P25Tot = H0PreStats2.at[IndexP1, StatsHdsList[25]] + H0PreD1P25Tot\n",
    "H0PreP2P25Tot = H0PreStats3.at[IndexP2, StatsHdsList[25]] + H0PreP1P25Tot\n",
    "H0PreP3P25Tot = H0PreStats4.at[IndexP3, StatsHdsList[25]] + H0PreP2P25Tot\n",
    "H0PreD1P25Tot, H0PreP1P25Tot, H0PreP2P25Tot, H0PreP3P25Tot "
   ]
  },
  {
   "cell_type": "code",
   "execution_count": 57,
   "metadata": {},
   "outputs": [
    {
     "data": {
      "text/plain": [
       "(6945559.75595952, 14117888.18610599, 21454443.990069125, 28875221.334139507)"
      ]
     },
     "execution_count": 57,
     "metadata": {},
     "output_type": "execute_result"
    }
   ],
   "source": [
    "H0PreD1P75Tot = H0PreStats1.at[IndexD1, StatsHdsList[75]]\n",
    "H0PreP1P75Tot = H0PreStats2.at[IndexP1, StatsHdsList[75]] + H0PreD1P75Tot\n",
    "H0PreP2P75Tot = H0PreStats3.at[IndexP2, StatsHdsList[75]] + H0PreP1P75Tot\n",
    "H0PreP3P75Tot = H0PreStats4.at[IndexP3, StatsHdsList[75]] + H0PreP2P75Tot\n",
    "H0PreD1P75Tot, H0PreP1P75Tot, H0PreP2P75Tot, H0PreP3P75Tot "
   ]
  },
  {
   "cell_type": "code",
   "execution_count": 58,
   "metadata": {},
   "outputs": [
    {
     "data": {
      "text/plain": [
       "1440"
      ]
     },
     "execution_count": 58,
     "metadata": {},
     "output_type": "execute_result"
    }
   ],
   "source": [
    "H0PreAllP25 = H0PreStats1[[StatsHdsList[25]]].to_numpy()\n",
    "H0PreAllP25 = np.append( H0PreAllP25, \n",
    "                         H0PreStats2[[StatsHdsList[25]]].to_numpy() + H0PreD1P25Tot )\n",
    "H0PreAllP25 = np.append( H0PreAllP25, \n",
    "                         H0PreStats3[[StatsHdsList[25]]].to_numpy() + H0PreP1P25Tot )\n",
    "H0PreAllP25 = np.append( H0PreAllP25, \n",
    "                         H0PreStats4[[StatsHdsList[25]]].to_numpy() + H0PreP2P25Tot )\n",
    "len( H0PreAllP25 )"
   ]
  },
  {
   "cell_type": "code",
   "execution_count": 59,
   "metadata": {},
   "outputs": [
    {
     "data": {
      "text/plain": [
       "1440"
      ]
     },
     "execution_count": 59,
     "metadata": {},
     "output_type": "execute_result"
    }
   ],
   "source": [
    "H0PreAllP75 = H0PreStats1[[StatsHdsList[75]]].to_numpy()\n",
    "H0PreAllP75 = np.append( H0PreAllP75, \n",
    "                         H0PreStats2[[StatsHdsList[75]]].to_numpy() + H0PreD1P75Tot )\n",
    "H0PreAllP75 = np.append( H0PreAllP75, \n",
    "                         H0PreStats3[[StatsHdsList[75]]].to_numpy() + H0PreP1P75Tot )\n",
    "H0PreAllP75 = np.append( H0PreAllP75, \n",
    "                         H0PreStats4[[StatsHdsList[75]]].to_numpy() + H0PreP2P75Tot )\n",
    "len( H0PreAllP75 )"
   ]
  },
  {
   "cell_type": "code",
   "execution_count": 60,
   "metadata": {},
   "outputs": [
    {
     "data": {
      "text/plain": [
       "(6558939.395865139, 13285052.19075949, 20176206.297518283, 27149971.0267058)"
      ]
     },
     "execution_count": 60,
     "metadata": {},
     "output_type": "execute_result"
    }
   ],
   "source": [
    "H1PreD1P25Tot = H1PreStats1.at[IndexD1, StatsHdsList[25]]\n",
    "H1PreP1P25Tot = H1PreStats2.at[IndexP1, StatsHdsList[25]] + H1PreD1P25Tot\n",
    "H1PreP2P25Tot = H1PreStats3.at[IndexP2, StatsHdsList[25]] + H1PreP1P25Tot\n",
    "H1PreP3P25Tot = H1PreStats4.at[IndexP3, StatsHdsList[25]] + H1PreP2P25Tot\n",
    "H1PreD1P25Tot, H1PreP1P25Tot, H1PreP2P25Tot, H1PreP3P25Tot "
   ]
  },
  {
   "cell_type": "code",
   "execution_count": 61,
   "metadata": {},
   "outputs": [
    {
     "data": {
      "text/plain": [
       "(6945559.75595952, 14139964.285901941, 21513150.172198236, 28977006.49418743)"
      ]
     },
     "execution_count": 61,
     "metadata": {},
     "output_type": "execute_result"
    }
   ],
   "source": [
    "H1PreD1P75Tot = H1PreStats1.at[IndexD1, StatsHdsList[75]]\n",
    "H1PreP1P75Tot = H1PreStats2.at[IndexP1, StatsHdsList[75]] + H1PreD1P75Tot\n",
    "H1PreP2P75Tot = H1PreStats3.at[IndexP2, StatsHdsList[75]] + H1PreP1P75Tot\n",
    "H1PreP3P75Tot = H1PreStats4.at[IndexP3, StatsHdsList[75]] + H1PreP2P75Tot\n",
    "H1PreD1P75Tot, H1PreP1P75Tot, H1PreP2P75Tot, H1PreP3P75Tot "
   ]
  },
  {
   "cell_type": "code",
   "execution_count": 62,
   "metadata": {},
   "outputs": [],
   "source": [
    "MinPrecip = 6000000.0"
   ]
  },
  {
   "cell_type": "code",
   "execution_count": 63,
   "metadata": {},
   "outputs": [],
   "source": [
    "MaxPrecip = 30000000.0"
   ]
  },
  {
   "cell_type": "code",
   "execution_count": 64,
   "metadata": {},
   "outputs": [
    {
     "data": {
      "text/plain": [
       "1440"
      ]
     },
     "execution_count": 64,
     "metadata": {},
     "output_type": "execute_result"
    }
   ],
   "source": [
    "H1PreAllP25 = H1PreStats1[[StatsHdsList[25]]].to_numpy()\n",
    "H1PreAllP25 = np.append( H1PreAllP25, \n",
    "                         H1PreStats2[[StatsHdsList[25]]].to_numpy() + H1PreD1P25Tot )\n",
    "H1PreAllP25 = np.append( H1PreAllP25, \n",
    "                         H1PreStats3[[StatsHdsList[25]]].to_numpy() + H1PreP1P25Tot )\n",
    "H1PreAllP25 = np.append( H1PreAllP25, \n",
    "                         H1PreStats4[[StatsHdsList[25]]].to_numpy() + H1PreP2P25Tot )\n",
    "len( H1PreAllP25 )"
   ]
  },
  {
   "cell_type": "code",
   "execution_count": 65,
   "metadata": {},
   "outputs": [
    {
     "data": {
      "text/plain": [
       "1440"
      ]
     },
     "execution_count": 65,
     "metadata": {},
     "output_type": "execute_result"
    }
   ],
   "source": [
    "H1PreAllP75 = H1PreStats1[[StatsHdsList[75]]].to_numpy()\n",
    "H1PreAllP75 = np.append( H1PreAllP75, \n",
    "                         H1PreStats2[[StatsHdsList[75]]].to_numpy() + H1PreD1P75Tot )\n",
    "H1PreAllP75 = np.append( H1PreAllP75, \n",
    "                         H1PreStats3[[StatsHdsList[75]]].to_numpy() + H1PreP1P75Tot )\n",
    "H1PreAllP75 = np.append( H1PreAllP75, \n",
    "                         H1PreStats4[[StatsHdsList[75]]].to_numpy() + H1PreP2P75Tot )\n",
    "len( H1PreAllP75 )"
   ]
  },
  {
   "cell_type": "code",
   "execution_count": 66,
   "metadata": {},
   "outputs": [],
   "source": [
    "H0FillValues = H0PreAllP25.tolist()\n",
    "tmpList1 = H0PreAllP75.tolist()\n",
    "tmpList2 = tmpList1[::-1]\n",
    "H0FillValues.extend( tmpList2 )"
   ]
  },
  {
   "cell_type": "code",
   "execution_count": 67,
   "metadata": {},
   "outputs": [],
   "source": [
    "H1FillValues = H1PreAllP25.tolist()\n",
    "tmpList1 = H1PreAllP75.tolist()\n",
    "tmpList2 = tmpList1[::-1]\n",
    "H1FillValues.extend( tmpList2 )"
   ]
  },
  {
   "cell_type": "code",
   "execution_count": 68,
   "metadata": {},
   "outputs": [],
   "source": [
    "FillIndex = list( H0PreStats1.index.to_pydatetime() )\n",
    "FillIndex.extend( list(H0PreStats2.index.to_pydatetime() ) )\n",
    "FillIndex.extend( list(H0PreStats3.index.to_pydatetime() ) )\n",
    "FillIndex.extend( list(H0PreStats4.index.to_pydatetime() ) )\n",
    "VPlotIndex = deepcopy( FillIndex )\n",
    "tmpList1 = list(H0PreStats4.index.to_pydatetime() )\n",
    "tmpList2 = tmpList1[::-1]\n",
    "FillIndex.extend( tmpList2 )\n",
    "tmpList1 = list(H0PreStats3.index.to_pydatetime() )\n",
    "tmpList2 = tmpList1[::-1]\n",
    "FillIndex.extend( tmpList2 )\n",
    "tmpList1 = list(H0PreStats2.index.to_pydatetime() )\n",
    "tmpList2 = tmpList1[::-1]\n",
    "FillIndex.extend( tmpList2 )\n",
    "tmpList1 = list(H0PreStats1.index.to_pydatetime() )\n",
    "tmpList2 = tmpList1[::-1]\n",
    "FillIndex.extend( tmpList2 )"
   ]
  },
  {
   "cell_type": "code",
   "execution_count": 69,
   "metadata": {},
   "outputs": [
    {
     "data": {
      "image/png": "[encoded data removed]",
      "text/plain": [
       "<Figure size 720x432 with 1 Axes>"
      ]
     },
     "metadata": {
      "needs_background": "light"
     },
     "output_type": "display_data"
    }
   ],
   "source": [
    "Fig1 = plt.figure()\n",
    "Fig1.set_size_inches(10.0, 6.0)\n",
    "ax11 = Fig1.add_subplot(111)\n",
    "ax11.plot( [TP_DICT[2][0], TP_DICT[2][0]], [MinPrecip, MaxPrecip], linestyle='-',\n",
    "           linewidth=2, color='xkcd:dark orange' )\n",
    "ax11.plot( [TP_DICT[3][0], TP_DICT[3][0]], [MinPrecip, MaxPrecip], linestyle='-',\n",
    "           linewidth=2, color='xkcd:dark orange' )\n",
    "ax11.plot( [TP_DICT[4][0], TP_DICT[4][0]], [MinPrecip, MaxPrecip], linestyle='-',\n",
    "           linewidth=2, color='xkcd:dark orange' )\n",
    "ax11.fill( FillIndex, H1FillValues, color=\"xkcd:light blue\", alpha=0.5, \n",
    "           label=\"H1 Interquartile Range\")\n",
    "ax11.fill( FillIndex, H0FillValues, color=\"xkcd:puce\", alpha=0.5, \n",
    "           label=\"H0 Interquartile Range\")\n",
    "ax11.plot( VPlotIndex, H1PreAllAve, linestyle='-',\n",
    "           linewidth=3, color='xkcd:royal blue', label='H1 Mean' )\n",
    "ax11.plot( VPlotIndex, H0PreAllAve, linestyle='-',\n",
    "           linewidth=2, color='xkcd:black', label='H0 Mean' )\n",
    "ax11.set_xlim( (dt.datetime(2010, 1, 1), TP_DICT[4][1]))\n",
    "ax11.set_ylim( (MinPrecip, MaxPrecip) )\n",
    "ax11.grid(True, axis='y', which='both')\n",
    "#ax11.set_title(\"Probabilistic Discharge\", fontsize=16)\n",
    "#ax11.set_xlabel('Day of the Year', fontsize=14 )\n",
    "ax11.set_ylabel('Cumulative Ensemble Average Precipitation (af)', fontsize=14)\n",
    "ax11.grid( b=True )\n",
    "ax11.legend( loc='lower right' )\n",
    "ax11.tick_params(axis='both', which='major', labelsize=13)\n",
    "ax11.tick_params(axis='x', which='major', labelrotation=30.0)\n",
    "ax11.yaxis.set_major_formatter( mpl.ticker.StrMethodFormatter( \"{x:,.1f}\" ) )\n",
    "ax11.xaxis.set_major_formatter( mpl.dates.DateFormatter(\"%Y-%m-%d\") )"
   ]
  },
  {
   "cell_type": "markdown",
   "metadata": {},
   "source": [
    "### PET"
   ]
  },
  {
   "cell_type": "code",
   "execution_count": 70,
   "metadata": {},
   "outputs": [
    {
     "data": {
      "text/plain": [
       "(14232565.710605837, 29351709.6763838, 44931922.09951824, 60960538.93737331)"
      ]
     },
     "execution_count": 70,
     "metadata": {},
     "output_type": "execute_result"
    }
   ],
   "source": [
    "H0PETD1AveTot = H0PETStats1.at[IndexD1, StatsHdsList[101]]\n",
    "H0PETP1AveTot = H0PETStats2.at[IndexP1, StatsHdsList[101]] + H0PETD1AveTot\n",
    "H0PETP2AveTot = H0PETStats3.at[IndexP2, StatsHdsList[101]] + H0PETP1AveTot\n",
    "H0PETP3AveTot = H0PETStats4.at[IndexP3, StatsHdsList[101]] + H0PETP2AveTot\n",
    "H0PETD1AveTot, H0PETP1AveTot, H0PETP2AveTot, H0PETP3AveTot "
   ]
  },
  {
   "cell_type": "code",
   "execution_count": 71,
   "metadata": {},
   "outputs": [
    {
     "data": {
      "text/plain": [
       "1440"
      ]
     },
     "execution_count": 71,
     "metadata": {},
     "output_type": "execute_result"
    }
   ],
   "source": [
    "H0PETAllAve = H0PETStats1[[StatsHdsList[101]]].to_numpy()\n",
    "H0PETAllAve = np.append( H0PETAllAve, \n",
    "                         H0PETStats2[[StatsHdsList[101]]].to_numpy() + H0PETD1AveTot )\n",
    "H0PETAllAve = np.append( H0PETAllAve, \n",
    "                         H0PETStats3[[StatsHdsList[101]]].to_numpy() + H0PETP1AveTot )\n",
    "H0PETAllAve = np.append( H0PETAllAve, \n",
    "                         H0PETStats4[[StatsHdsList[101]]].to_numpy() + H0PETP2AveTot )\n",
    "len( H0PETAllAve )"
   ]
  },
  {
   "cell_type": "code",
   "execution_count": 72,
   "metadata": {},
   "outputs": [
    {
     "data": {
      "text/plain": [
       "(14232565.710605837, 29351709.6763838, 44931922.09951824, 60960538.93737331)"
      ]
     },
     "execution_count": 72,
     "metadata": {},
     "output_type": "execute_result"
    }
   ],
   "source": [
    "H1PETD1AveTot = H1PETStats1.at[IndexD1, StatsHdsList[101]]\n",
    "H1PETP1AveTot = H1PETStats2.at[IndexP1, StatsHdsList[101]] + H1PETD1AveTot\n",
    "H1PETP2AveTot = H1PETStats3.at[IndexP2, StatsHdsList[101]] + H1PETP1AveTot\n",
    "H1PETP3AveTot = H1PETStats4.at[IndexP3, StatsHdsList[101]] + H1PETP2AveTot\n",
    "H1PETD1AveTot, H1PETP1AveTot, H1PETP2AveTot, H1PETP3AveTot "
   ]
  },
  {
   "cell_type": "code",
   "execution_count": 73,
   "metadata": {},
   "outputs": [
    {
     "data": {
      "text/plain": [
       "1440"
      ]
     },
     "execution_count": 73,
     "metadata": {},
     "output_type": "execute_result"
    }
   ],
   "source": [
    "H1PETAllAve = H1PETStats1[[StatsHdsList[101]]].to_numpy()\n",
    "H1PETAllAve = np.append( H1PETAllAve, \n",
    "                         H1PETStats2[[StatsHdsList[101]]].to_numpy() + H1PETD1AveTot )\n",
    "H1PETAllAve = np.append( H1PETAllAve, \n",
    "                         H1PETStats3[[StatsHdsList[101]]].to_numpy() + H1PETP1AveTot )\n",
    "H1PETAllAve = np.append( H1PETAllAve, \n",
    "                         H1PETStats4[[StatsHdsList[101]]].to_numpy() + H1PETP2AveTot )\n",
    "len( H1PETAllAve )"
   ]
  },
  {
   "cell_type": "code",
   "execution_count": 74,
   "metadata": {},
   "outputs": [
    {
     "data": {
      "text/plain": [
       "(14171251.713906799, 29224992.41381515, 44739360.82808825, 60698911.59123044)"
      ]
     },
     "execution_count": 74,
     "metadata": {},
     "output_type": "execute_result"
    }
   ],
   "source": [
    "H0PETD1P25Tot = H0PETStats1.at[IndexD1, StatsHdsList[25]]\n",
    "H0PETP1P25Tot = H0PETStats2.at[IndexP1, StatsHdsList[25]] + H0PETD1P25Tot\n",
    "H0PETP2P25Tot = H0PETStats3.at[IndexP2, StatsHdsList[25]] + H0PETP1P25Tot\n",
    "H0PETP3P25Tot = H0PETStats4.at[IndexP3, StatsHdsList[25]] + H0PETP2P25Tot\n",
    "H0PETD1P25Tot, H0PETP1P25Tot, H0PETP2P25Tot, H0PETP3P25Tot "
   ]
  },
  {
   "cell_type": "code",
   "execution_count": 75,
   "metadata": {},
   "outputs": [
    {
     "data": {
      "text/plain": [
       "(14294718.685028667, 29479718.577779535, 45124911.59567635, 61221709.66752142)"
      ]
     },
     "execution_count": 75,
     "metadata": {},
     "output_type": "execute_result"
    }
   ],
   "source": [
    "H0PETD1P75Tot = H0PETStats1.at[IndexD1, StatsHdsList[75]]\n",
    "H0PETP1P75Tot = H0PETStats2.at[IndexP1, StatsHdsList[75]] + H0PETD1P75Tot\n",
    "H0PETP2P75Tot = H0PETStats3.at[IndexP2, StatsHdsList[75]] + H0PETP1P75Tot\n",
    "H0PETP3P75Tot = H0PETStats4.at[IndexP3, StatsHdsList[75]] + H0PETP2P75Tot\n",
    "H0PETD1P75Tot, H0PETP1P75Tot, H0PETP2P75Tot, H0PETP3P75Tot "
   ]
  },
  {
   "cell_type": "code",
   "execution_count": 76,
   "metadata": {},
   "outputs": [
    {
     "data": {
      "text/plain": [
       "1440"
      ]
     },
     "execution_count": 76,
     "metadata": {},
     "output_type": "execute_result"
    }
   ],
   "source": [
    "H0PETAllP25 = H0PETStats1[[StatsHdsList[25]]].to_numpy()\n",
    "H0PETAllP25 = np.append( H0PETAllP25, \n",
    "                         H0PETStats2[[StatsHdsList[25]]].to_numpy() + H0PETD1P25Tot )\n",
    "H0PETAllP25 = np.append( H0PETAllP25, \n",
    "                         H0PETStats3[[StatsHdsList[25]]].to_numpy() + H0PETP1P25Tot )\n",
    "H0PETAllP25 = np.append( H0PETAllP25, \n",
    "                         H0PETStats4[[StatsHdsList[25]]].to_numpy() + H0PETP2P25Tot )\n",
    "len( H0PETAllP25 )"
   ]
  },
  {
   "cell_type": "code",
   "execution_count": 77,
   "metadata": {},
   "outputs": [
    {
     "data": {
      "text/plain": [
       "1440"
      ]
     },
     "execution_count": 77,
     "metadata": {},
     "output_type": "execute_result"
    }
   ],
   "source": [
    "H0PETAllP75 = H0PETStats1[[StatsHdsList[75]]].to_numpy()\n",
    "H0PETAllP75 = np.append( H0PETAllP75, \n",
    "                         H0PETStats2[[StatsHdsList[75]]].to_numpy() + H0PETD1P75Tot )\n",
    "H0PETAllP75 = np.append( H0PETAllP75, \n",
    "                         H0PETStats3[[StatsHdsList[75]]].to_numpy() + H0PETP1P75Tot )\n",
    "H0PETAllP75 = np.append( H0PETAllP75, \n",
    "                         H0PETStats4[[StatsHdsList[75]]].to_numpy() + H0PETP2P75Tot )\n",
    "len( H0PETAllP75 )"
   ]
  },
  {
   "cell_type": "code",
   "execution_count": 78,
   "metadata": {},
   "outputs": [
    {
     "data": {
      "text/plain": [
       "(14171251.713906799, 29224992.41381515, 44739360.82808825, 60698911.59123044)"
      ]
     },
     "execution_count": 78,
     "metadata": {},
     "output_type": "execute_result"
    }
   ],
   "source": [
    "H1PETD1P25Tot = H1PETStats1.at[IndexD1, StatsHdsList[25]]\n",
    "H1PETP1P25Tot = H1PETStats2.at[IndexP1, StatsHdsList[25]] + H1PETD1P25Tot\n",
    "H1PETP2P25Tot = H1PETStats3.at[IndexP2, StatsHdsList[25]] + H1PETP1P25Tot\n",
    "H1PETP3P25Tot = H1PETStats4.at[IndexP3, StatsHdsList[25]] + H1PETP2P25Tot\n",
    "H1PETD1P25Tot, H1PETP1P25Tot, H1PETP2P25Tot, H1PETP3P25Tot "
   ]
  },
  {
   "cell_type": "code",
   "execution_count": 79,
   "metadata": {},
   "outputs": [
    {
     "data": {
      "text/plain": [
       "(14294718.685028667, 29479718.577779535, 45124911.59567635, 61221709.66752142)"
      ]
     },
     "execution_count": 79,
     "metadata": {},
     "output_type": "execute_result"
    }
   ],
   "source": [
    "H1PETD1P75Tot = H1PETStats1.at[IndexD1, StatsHdsList[75]]\n",
    "H1PETP1P75Tot = H1PETStats2.at[IndexP1, StatsHdsList[75]] + H1PETD1P75Tot\n",
    "H1PETP2P75Tot = H1PETStats3.at[IndexP2, StatsHdsList[75]] + H1PETP1P75Tot\n",
    "H1PETP3P75Tot = H1PETStats4.at[IndexP3, StatsHdsList[75]] + H1PETP2P75Tot\n",
    "H1PETD1P75Tot, H1PETP1P75Tot, H1PETP2P75Tot, H1PETP3P75Tot "
   ]
  },
  {
   "cell_type": "code",
   "execution_count": 80,
   "metadata": {},
   "outputs": [],
   "source": [
    "MaxPET = 60000000.0"
   ]
  },
  {
   "cell_type": "code",
   "execution_count": 81,
   "metadata": {},
   "outputs": [],
   "source": [
    "MinPET = 13000000.0"
   ]
  },
  {
   "cell_type": "code",
   "execution_count": 82,
   "metadata": {},
   "outputs": [
    {
     "data": {
      "text/plain": [
       "1440"
      ]
     },
     "execution_count": 82,
     "metadata": {},
     "output_type": "execute_result"
    }
   ],
   "source": [
    "H1PETAllP25 = H1PETStats1[[StatsHdsList[25]]].to_numpy()\n",
    "H1PETAllP25 = np.append( H1PETAllP25, \n",
    "                         H1PETStats2[[StatsHdsList[25]]].to_numpy() + H1PETD1P25Tot )\n",
    "H1PETAllP25 = np.append( H1PETAllP25, \n",
    "                         H1PETStats3[[StatsHdsList[25]]].to_numpy() + H1PETP1P25Tot )\n",
    "H1PETAllP25 = np.append( H1PETAllP25, \n",
    "                         H1PETStats4[[StatsHdsList[25]]].to_numpy() + H1PETP2P25Tot )\n",
    "len( H1PETAllP25 )"
   ]
  },
  {
   "cell_type": "code",
   "execution_count": 83,
   "metadata": {},
   "outputs": [
    {
     "data": {
      "text/plain": [
       "1440"
      ]
     },
     "execution_count": 83,
     "metadata": {},
     "output_type": "execute_result"
    }
   ],
   "source": [
    "H1PETAllP75 = H1PETStats1[[StatsHdsList[75]]].to_numpy()\n",
    "H1PETAllP75 = np.append( H1PETAllP75, \n",
    "                         H1PETStats2[[StatsHdsList[75]]].to_numpy() + H1PETD1P75Tot )\n",
    "H1PETAllP75 = np.append( H1PETAllP75, \n",
    "                         H1PETStats3[[StatsHdsList[75]]].to_numpy() + H1PETP1P75Tot )\n",
    "H1PETAllP75 = np.append( H1PETAllP75, \n",
    "                         H1PETStats4[[StatsHdsList[75]]].to_numpy() + H1PETP2P75Tot )\n",
    "len( H1PETAllP75 )"
   ]
  },
  {
   "cell_type": "code",
   "execution_count": 84,
   "metadata": {},
   "outputs": [],
   "source": [
    "H0FPETValues = H0PETAllP25.tolist()\n",
    "tmpList1 = H0PETAllP75.tolist()\n",
    "tmpList2 = tmpList1[::-1]\n",
    "H0FPETValues.extend( tmpList2 )"
   ]
  },
  {
   "cell_type": "code",
   "execution_count": 85,
   "metadata": {},
   "outputs": [],
   "source": [
    "H1FPETValues = H1PETAllP25.tolist()\n",
    "tmpList1 = H1PETAllP75.tolist()\n",
    "tmpList2 = tmpList1[::-1]\n",
    "H1FPETValues.extend( tmpList2 )"
   ]
  },
  {
   "cell_type": "code",
   "execution_count": 86,
   "metadata": {},
   "outputs": [
    {
     "data": {
      "image/png": "[encoded data removed]",
      "text/plain": [
       "<Figure size 720x432 with 1 Axes>"
      ]
     },
     "metadata": {
      "needs_background": "light"
     },
     "output_type": "display_data"
    }
   ],
   "source": [
    "Fig1 = plt.figure()\n",
    "Fig1.set_size_inches(10.0, 6.0)\n",
    "ax11 = Fig1.add_subplot(111)\n",
    "ax11.plot( [TP_DICT[2][0], TP_DICT[2][0]], [MinPET, MaxPET], linestyle='-',\n",
    "           linewidth=1, color='xkcd:dark orange' )\n",
    "ax11.plot( [TP_DICT[3][0], TP_DICT[3][0]], [MinPET, MaxPET], linestyle='-',\n",
    "           linewidth=1, color='xkcd:dark orange' )\n",
    "ax11.plot( [TP_DICT[4][0], TP_DICT[4][0]], [MinPET, MaxPET], linestyle='-',\n",
    "           linewidth=1, color='xkcd:dark orange' )\n",
    "ax11.fill( FillIndex, H1FPETValues, color=\"xkcd:light blue\", alpha=0.5, \n",
    "           label=\"H1 Interquartile Range\")\n",
    "ax11.fill( FillIndex, H0FPETValues, color=\"xkcd:puce\", alpha=0.5, \n",
    "           label=\"H0 Interquartile Range\")\n",
    "ax11.plot( VPlotIndex, H1PETAllAve, linestyle='-',\n",
    "           linewidth=3, color='xkcd:royal blue', label='H1 Mean' )\n",
    "ax11.plot( VPlotIndex, H0PETAllAve, linestyle='-',\n",
    "           linewidth=2, color='xkcd:black', label='H0 Mean' )\n",
    "ax11.set_xlim( (dt.datetime(2010, 1, 1), TP_DICT[4][1]))\n",
    "ax11.set_ylim( (MinPET, MaxPET) )\n",
    "ax11.grid(True, axis='y', which='both')\n",
    "#ax11.set_title(\"Probabilistic Discharge\", fontsize=16)\n",
    "#ax11.set_xlabel('Day of the Year', fontsize=14 )\n",
    "ax11.set_ylabel('Cumulative Ensemble Average PET (af)', fontsize=14)\n",
    "ax11.grid( b=True )\n",
    "ax11.legend( loc='upper left' )\n",
    "ax11.tick_params(axis='both', which='major', labelsize=13)\n",
    "ax11.tick_params(axis='x', which='major', labelrotation=30.0)\n",
    "ax11.yaxis.set_major_formatter( mpl.ticker.StrMethodFormatter( \"{x:,.1f}\" ) )\n",
    "ax11.xaxis.set_major_formatter( mpl.dates.DateFormatter(\"%Y-%m-%d\") )"
   ]
  },
  {
   "cell_type": "markdown",
   "metadata": {},
   "source": [
    "### AET"
   ]
  },
  {
   "cell_type": "code",
   "execution_count": 87,
   "metadata": {},
   "outputs": [
    {
     "data": {
      "text/plain": [
       "(5439454.915366011, 10870052.45162933, 16404274.615122698, 21986984.00725473)"
      ]
     },
     "execution_count": 87,
     "metadata": {},
     "output_type": "execute_result"
    }
   ],
   "source": [
    "H0AETD1AveTot = H0AETStats1.at[IndexD1, StatsHdsList[101]]\n",
    "H0AETP1AveTot = H0AETStats2.at[IndexP1, StatsHdsList[101]] + H0AETD1AveTot\n",
    "H0AETP2AveTot = H0AETStats3.at[IndexP2, StatsHdsList[101]] + H0AETP1AveTot\n",
    "H0AETP3AveTot = H0AETStats4.at[IndexP3, StatsHdsList[101]] + H0AETP2AveTot\n",
    "H0AETD1AveTot, H0AETP1AveTot, H0AETP2AveTot, H0AETP3AveTot "
   ]
  },
  {
   "cell_type": "code",
   "execution_count": 88,
   "metadata": {},
   "outputs": [
    {
     "data": {
      "text/plain": [
       "1440"
      ]
     },
     "execution_count": 88,
     "metadata": {},
     "output_type": "execute_result"
    }
   ],
   "source": [
    "H0AETAllAve = H0AETStats1[[StatsHdsList[101]]].to_numpy()\n",
    "H0AETAllAve = np.append( H0AETAllAve, \n",
    "                         H0AETStats2[[StatsHdsList[101]]].to_numpy() + H0AETD1AveTot )\n",
    "H0AETAllAve = np.append( H0AETAllAve, \n",
    "                         H0AETStats3[[StatsHdsList[101]]].to_numpy() + H0AETP1AveTot )\n",
    "H0AETAllAve = np.append( H0AETAllAve, \n",
    "                         H0AETStats4[[StatsHdsList[101]]].to_numpy() + H0AETP2AveTot )\n",
    "len( H0AETAllAve )"
   ]
  },
  {
   "cell_type": "code",
   "execution_count": 89,
   "metadata": {},
   "outputs": [
    {
     "data": {
      "text/plain": [
       "(5439454.915366011, 10825969.880140524, 16254142.45951081, 21654853.792870197)"
      ]
     },
     "execution_count": 89,
     "metadata": {},
     "output_type": "execute_result"
    }
   ],
   "source": [
    "H1AETD1AveTot = H1AETStats1.at[IndexD1, StatsHdsList[101]]\n",
    "H1AETP1AveTot = H1AETStats2.at[IndexP1, StatsHdsList[101]] + H1AETD1AveTot\n",
    "H1AETP2AveTot = H1AETStats3.at[IndexP2, StatsHdsList[101]] + H1AETP1AveTot\n",
    "H1AETP3AveTot = H1AETStats4.at[IndexP3, StatsHdsList[101]] + H1AETP2AveTot\n",
    "H1AETD1AveTot, H1AETP1AveTot, H1AETP2AveTot, H1AETP3AveTot "
   ]
  },
  {
   "cell_type": "code",
   "execution_count": 90,
   "metadata": {},
   "outputs": [
    {
     "data": {
      "text/plain": [
       "1440"
      ]
     },
     "execution_count": 90,
     "metadata": {},
     "output_type": "execute_result"
    }
   ],
   "source": [
    "H1AETAllAve = H1AETStats1[[StatsHdsList[101]]].to_numpy()\n",
    "H1AETAllAve = np.append( H1AETAllAve, \n",
    "                         H1AETStats2[[StatsHdsList[101]]].to_numpy() + H1AETD1AveTot )\n",
    "H1AETAllAve = np.append( H1AETAllAve, \n",
    "                         H1AETStats3[[StatsHdsList[101]]].to_numpy() + H1AETP1AveTot )\n",
    "H1AETAllAve = np.append( H1AETAllAve, \n",
    "                         H1AETStats4[[StatsHdsList[101]]].to_numpy() + H1AETP2AveTot )\n",
    "len( H1AETAllAve )"
   ]
  },
  {
   "cell_type": "code",
   "execution_count": 91,
   "metadata": {},
   "outputs": [
    {
     "data": {
      "text/plain": [
       "(5333985.283566555, 10647081.092289586, 16060765.953327343, 21521056.916262053)"
      ]
     },
     "execution_count": 91,
     "metadata": {},
     "output_type": "execute_result"
    }
   ],
   "source": [
    "H0AETD1P25Tot = H0AETStats1.at[IndexD1, StatsHdsList[25]]\n",
    "H0AETP1P25Tot = H0AETStats2.at[IndexP1, StatsHdsList[25]] + H0AETD1P25Tot\n",
    "H0AETP2P25Tot = H0AETStats3.at[IndexP2, StatsHdsList[25]] + H0AETP1P25Tot\n",
    "H0AETP3P25Tot = H0AETStats4.at[IndexP3, StatsHdsList[25]] + H0AETP2P25Tot\n",
    "H0AETD1P25Tot, H0AETP1P25Tot, H0AETP2P25Tot, H0AETP3P25Tot "
   ]
  },
  {
   "cell_type": "code",
   "execution_count": 92,
   "metadata": {},
   "outputs": [
    {
     "data": {
      "text/plain": [
       "(5547033.296607832, 11097782.411683183, 16755356.24469613, 22462235.32355549)"
      ]
     },
     "execution_count": 92,
     "metadata": {},
     "output_type": "execute_result"
    }
   ],
   "source": [
    "H0AETD1P75Tot = H0AETStats1.at[IndexD1, StatsHdsList[75]]\n",
    "H0AETP1P75Tot = H0AETStats2.at[IndexP1, StatsHdsList[75]] + H0AETD1P75Tot\n",
    "H0AETP2P75Tot = H0AETStats3.at[IndexP2, StatsHdsList[75]] + H0AETP1P75Tot\n",
    "H0AETP3P75Tot = H0AETStats4.at[IndexP3, StatsHdsList[75]] + H0AETP2P75Tot\n",
    "H0AETD1P75Tot, H0AETP1P75Tot, H0AETP2P75Tot, H0AETP3P75Tot "
   ]
  },
  {
   "cell_type": "code",
   "execution_count": 93,
   "metadata": {},
   "outputs": [
    {
     "data": {
      "text/plain": [
       "1440"
      ]
     },
     "execution_count": 93,
     "metadata": {},
     "output_type": "execute_result"
    }
   ],
   "source": [
    "H0AETAllP25 = H0AETStats1[[StatsHdsList[25]]].to_numpy()\n",
    "H0AETAllP25 = np.append( H0AETAllP25, \n",
    "                         H0AETStats2[[StatsHdsList[25]]].to_numpy() + H0AETD1P25Tot )\n",
    "H0AETAllP25 = np.append( H0AETAllP25, \n",
    "                         H0AETStats3[[StatsHdsList[25]]].to_numpy() + H0AETP1P25Tot )\n",
    "H0AETAllP25 = np.append( H0AETAllP25, \n",
    "                         H0AETStats4[[StatsHdsList[25]]].to_numpy() + H0AETP2P25Tot )\n",
    "len( H0AETAllP25 )"
   ]
  },
  {
   "cell_type": "code",
   "execution_count": 94,
   "metadata": {},
   "outputs": [
    {
     "data": {
      "text/plain": [
       "1440"
      ]
     },
     "execution_count": 94,
     "metadata": {},
     "output_type": "execute_result"
    }
   ],
   "source": [
    "H0AETAllP75 = H0AETStats1[[StatsHdsList[75]]].to_numpy()\n",
    "H0AETAllP75 = np.append( H0AETAllP75, \n",
    "                         H0AETStats2[[StatsHdsList[75]]].to_numpy() + H0AETD1P75Tot )\n",
    "H0AETAllP75 = np.append( H0AETAllP75, \n",
    "                         H0AETStats3[[StatsHdsList[75]]].to_numpy() + H0AETP1P75Tot )\n",
    "H0AETAllP75 = np.append( H0AETAllP75, \n",
    "                         H0AETStats4[[StatsHdsList[75]]].to_numpy() + H0AETP2P75Tot )\n",
    "len( H0AETAllP75 )"
   ]
  },
  {
   "cell_type": "code",
   "execution_count": 95,
   "metadata": {},
   "outputs": [
    {
     "data": {
      "text/plain": [
       "(5333985.283566555, 10603824.511254238, 15914091.024878474, 21197389.108437844)"
      ]
     },
     "execution_count": 95,
     "metadata": {},
     "output_type": "execute_result"
    }
   ],
   "source": [
    "H1AETD1P25Tot = H1AETStats1.at[IndexD1, StatsHdsList[25]]\n",
    "H1AETP1P25Tot = H1AETStats2.at[IndexP1, StatsHdsList[25]] + H1AETD1P25Tot\n",
    "H1AETP2P25Tot = H1AETStats3.at[IndexP2, StatsHdsList[25]] + H1AETP1P25Tot\n",
    "H1AETP3P25Tot = H1AETStats4.at[IndexP3, StatsHdsList[25]] + H1AETP2P25Tot\n",
    "H1AETD1P25Tot, H1AETP1P25Tot, H1AETP2P25Tot, H1AETP3P25Tot "
   ]
  },
  {
   "cell_type": "code",
   "execution_count": 96,
   "metadata": {},
   "outputs": [
    {
     "data": {
      "text/plain": [
       "(5547033.296607832, 11052905.762449669, 16601685.890531443, 22121110.993221704)"
      ]
     },
     "execution_count": 96,
     "metadata": {},
     "output_type": "execute_result"
    }
   ],
   "source": [
    "H1AETD1P75Tot = H1AETStats1.at[IndexD1, StatsHdsList[75]]\n",
    "H1AETP1P75Tot = H1AETStats2.at[IndexP1, StatsHdsList[75]] + H1AETD1P75Tot\n",
    "H1AETP2P75Tot = H1AETStats3.at[IndexP2, StatsHdsList[75]] + H1AETP1P75Tot\n",
    "H1AETP3P75Tot = H1AETStats4.at[IndexP3, StatsHdsList[75]] + H1AETP2P75Tot\n",
    "H1AETD1P75Tot, H1AETP1P75Tot, H1AETP2P75Tot, H1AETP3P75Tot "
   ]
  },
  {
   "cell_type": "code",
   "execution_count": 97,
   "metadata": {},
   "outputs": [],
   "source": [
    "MaxAET = 25000000.0"
   ]
  },
  {
   "cell_type": "code",
   "execution_count": 98,
   "metadata": {},
   "outputs": [],
   "source": [
    "MinAET = 5000000.0"
   ]
  },
  {
   "cell_type": "code",
   "execution_count": 99,
   "metadata": {},
   "outputs": [
    {
     "data": {
      "text/plain": [
       "1440"
      ]
     },
     "execution_count": 99,
     "metadata": {},
     "output_type": "execute_result"
    }
   ],
   "source": [
    "H1AETAllP25 = H1AETStats1[[StatsHdsList[25]]].to_numpy()\n",
    "H1AETAllP25 = np.append( H1AETAllP25, \n",
    "                         H1AETStats2[[StatsHdsList[25]]].to_numpy() + H1AETD1P25Tot )\n",
    "H1AETAllP25 = np.append( H1AETAllP25, \n",
    "                         H1AETStats3[[StatsHdsList[25]]].to_numpy() + H1AETP1P25Tot )\n",
    "H1AETAllP25 = np.append( H1AETAllP25, \n",
    "                         H1AETStats4[[StatsHdsList[25]]].to_numpy() + H1AETP2P25Tot )\n",
    "len( H1AETAllP25 )"
   ]
  },
  {
   "cell_type": "code",
   "execution_count": 100,
   "metadata": {},
   "outputs": [
    {
     "data": {
      "text/plain": [
       "1440"
      ]
     },
     "execution_count": 100,
     "metadata": {},
     "output_type": "execute_result"
    }
   ],
   "source": [
    "H1AETAllP75 = H1AETStats1[[StatsHdsList[75]]].to_numpy()\n",
    "H1AETAllP75 = np.append( H1AETAllP75, \n",
    "                         H1AETStats2[[StatsHdsList[75]]].to_numpy() + H1AETD1P75Tot )\n",
    "H1AETAllP75 = np.append( H1AETAllP75, \n",
    "                         H1AETStats3[[StatsHdsList[75]]].to_numpy() + H1AETP1P75Tot )\n",
    "H1AETAllP75 = np.append( H1AETAllP75, \n",
    "                         H1AETStats4[[StatsHdsList[75]]].to_numpy() + H1AETP2P75Tot )\n",
    "len( H1AETAllP75 )"
   ]
  },
  {
   "cell_type": "code",
   "execution_count": 101,
   "metadata": {},
   "outputs": [],
   "source": [
    "H0FAETValues = H0AETAllP25.tolist()\n",
    "tmpList1 = H0AETAllP75.tolist()\n",
    "tmpList2 = tmpList1[::-1]\n",
    "H0FAETValues.extend( tmpList2 )"
   ]
  },
  {
   "cell_type": "code",
   "execution_count": 102,
   "metadata": {},
   "outputs": [],
   "source": [
    "H1FAETValues = H1AETAllP25.tolist()\n",
    "tmpList1 = H1AETAllP75.tolist()\n",
    "tmpList2 = tmpList1[::-1]\n",
    "H1FAETValues.extend( tmpList2 )"
   ]
  },
  {
   "cell_type": "code",
   "execution_count": 103,
   "metadata": {},
   "outputs": [
    {
     "data": {
      "image/png": "[encoded data removed]",
      "text/plain": [
       "<Figure size 720x432 with 1 Axes>"
      ]
     },
     "metadata": {
      "needs_background": "light"
     },
     "output_type": "display_data"
    }
   ],
   "source": [
    "Fig1 = plt.figure()\n",
    "Fig1.set_size_inches(10.0, 6.0)\n",
    "ax11 = Fig1.add_subplot(111)\n",
    "ax11.plot( [TP_DICT[2][0], TP_DICT[2][0]], [MinAET, MaxAET], linestyle='-',\n",
    "           linewidth=2, color='xkcd:dark orange' )\n",
    "ax11.plot( [TP_DICT[3][0], TP_DICT[3][0]], [MinAET, MaxAET], linestyle='-',\n",
    "           linewidth=2, color='xkcd:dark orange' )\n",
    "ax11.plot( [TP_DICT[4][0], TP_DICT[4][0]], [MinAET, MaxAET], linestyle='-',\n",
    "           linewidth=2, color='xkcd:dark orange' )\n",
    "ax11.fill( FillIndex, H1FAETValues, color=\"xkcd:butterscotch\", alpha=0.5, \n",
    "           label=\"H1 Interquartile Range\")\n",
    "ax11.fill( FillIndex, H0FAETValues, color=\"xkcd:puce\", alpha=0.5, \n",
    "           label=\"H0 Interquartile Range\")\n",
    "ax11.plot( VPlotIndex, H1AETAllAve, linestyle='-',\n",
    "           linewidth=3, color='xkcd:sunny yellow', label='H1 Mean' )\n",
    "ax11.plot( VPlotIndex, H0AETAllAve, linestyle='-',\n",
    "           linewidth=2, color='xkcd:black', label='H0 Mean' )\n",
    "ax11.set_xlim( (dt.datetime(2010, 1, 1), TP_DICT[4][1]))\n",
    "ax11.set_ylim( (MinAET, MaxAET) )\n",
    "ax11.grid(True, axis='y', which='both')\n",
    "#ax11.set_title(\"Probabilistic Discharge\", fontsize=16)\n",
    "#ax11.set_xlabel('Day of the Year', fontsize=14 )\n",
    "ax11.set_ylabel('Cumulative Ensemble Average AET (af)', fontsize=14)\n",
    "ax11.grid( b=True )\n",
    "ax11.legend( loc='lower right' )\n",
    "ax11.tick_params(axis='both', which='major', labelsize=13)\n",
    "ax11.tick_params(axis='x', which='major', labelrotation=30.0)\n",
    "ax11.yaxis.set_major_formatter( mpl.ticker.StrMethodFormatter( \"{x:,.1f}\" ) )\n",
    "ax11.xaxis.set_major_formatter( mpl.dates.DateFormatter(\"%Y-%m-%d\") )"
   ]
  },
  {
   "cell_type": "markdown",
   "metadata": {},
   "source": [
    "### Runoff (RO)"
   ]
  },
  {
   "cell_type": "code",
   "execution_count": 104,
   "metadata": {},
   "outputs": [
    {
     "data": {
      "text/plain": [
       "(75314.22066882152, 183581.28556368846, 300976.54915000324, 428049.333556303)"
      ]
     },
     "execution_count": 104,
     "metadata": {},
     "output_type": "execute_result"
    }
   ],
   "source": [
    "H0ROD1AveTot = H0ROStats1.at[IndexD1, StatsHdsList[101]]\n",
    "H0ROP1AveTot = H0ROStats2.at[IndexP1, StatsHdsList[101]] + H0ROD1AveTot\n",
    "H0ROP2AveTot = H0ROStats3.at[IndexP2, StatsHdsList[101]] + H0ROP1AveTot\n",
    "H0ROP3AveTot = H0ROStats4.at[IndexP3, StatsHdsList[101]] + H0ROP2AveTot\n",
    "H0ROD1AveTot, H0ROP1AveTot, H0ROP2AveTot, H0ROP3AveTot "
   ]
  },
  {
   "cell_type": "code",
   "execution_count": 105,
   "metadata": {},
   "outputs": [
    {
     "data": {
      "text/plain": [
       "1440"
      ]
     },
     "execution_count": 105,
     "metadata": {},
     "output_type": "execute_result"
    }
   ],
   "source": [
    "H0ROAllAve = H0ROStats1[[StatsHdsList[101]]].to_numpy()\n",
    "H0ROAllAve = np.append( H0ROAllAve, \n",
    "                         H0ROStats2[[StatsHdsList[101]]].to_numpy() + H0ROD1AveTot )\n",
    "H0ROAllAve = np.append( H0ROAllAve, \n",
    "                         H0ROStats3[[StatsHdsList[101]]].to_numpy() + H0ROP1AveTot )\n",
    "H0ROAllAve = np.append( H0ROAllAve, \n",
    "                         H0ROStats4[[StatsHdsList[101]]].to_numpy() + H0ROP2AveTot )\n",
    "len( H0ROAllAve )"
   ]
  },
  {
   "cell_type": "code",
   "execution_count": 106,
   "metadata": {},
   "outputs": [
    {
     "data": {
      "text/plain": [
       "(75314.22066882152, 228183.205288262, 487955.34377427044, 887950.4068390585)"
      ]
     },
     "execution_count": 106,
     "metadata": {},
     "output_type": "execute_result"
    }
   ],
   "source": [
    "H1ROD1AveTot = H1ROStats1.at[IndexD1, StatsHdsList[101]]\n",
    "H1ROP1AveTot = H1ROStats2.at[IndexP1, StatsHdsList[101]] + H1ROD1AveTot\n",
    "H1ROP2AveTot = H1ROStats3.at[IndexP2, StatsHdsList[101]] + H1ROP1AveTot\n",
    "H1ROP3AveTot = H1ROStats4.at[IndexP3, StatsHdsList[101]] + H1ROP2AveTot\n",
    "H1ROD1AveTot, H1ROP1AveTot, H1ROP2AveTot, H1ROP3AveTot "
   ]
  },
  {
   "cell_type": "code",
   "execution_count": 107,
   "metadata": {},
   "outputs": [
    {
     "data": {
      "text/plain": [
       "1440"
      ]
     },
     "execution_count": 107,
     "metadata": {},
     "output_type": "execute_result"
    }
   ],
   "source": [
    "H1ROAllAve = H1ROStats1[[StatsHdsList[101]]].to_numpy()\n",
    "H1ROAllAve = np.append( H1ROAllAve, \n",
    "                         H1ROStats2[[StatsHdsList[101]]].to_numpy() + H1ROD1AveTot )\n",
    "H1ROAllAve = np.append( H1ROAllAve, \n",
    "                         H1ROStats3[[StatsHdsList[101]]].to_numpy() + H1ROP1AveTot )\n",
    "H1ROAllAve = np.append( H1ROAllAve, \n",
    "                         H1ROStats4[[StatsHdsList[101]]].to_numpy() + H1ROP2AveTot )\n",
    "len( H1ROAllAve )"
   ]
  },
  {
   "cell_type": "code",
   "execution_count": 108,
   "metadata": {},
   "outputs": [
    {
     "data": {
      "text/plain": [
       "(55999.10894727707, 134701.12170362473, 222041.01260328293, 317070.7167048454)"
      ]
     },
     "execution_count": 108,
     "metadata": {},
     "output_type": "execute_result"
    }
   ],
   "source": [
    "H0ROD1P25Tot = H0ROStats1.at[IndexD1, StatsHdsList[25]]\n",
    "H0ROP1P25Tot = H0ROStats2.at[IndexP1, StatsHdsList[25]] + H0ROD1P25Tot\n",
    "H0ROP2P25Tot = H0ROStats3.at[IndexP2, StatsHdsList[25]] + H0ROP1P25Tot\n",
    "H0ROP3P25Tot = H0ROStats4.at[IndexP3, StatsHdsList[25]] + H0ROP2P25Tot\n",
    "H0ROD1P25Tot, H0ROP1P25Tot, H0ROP2P25Tot, H0ROP3P25Tot "
   ]
  },
  {
   "cell_type": "code",
   "execution_count": 109,
   "metadata": {},
   "outputs": [
    {
     "data": {
      "text/plain": [
       "(91157.39225959778, 223410.61813640594, 366112.45644903183, 520235.52040052414)"
      ]
     },
     "execution_count": 109,
     "metadata": {},
     "output_type": "execute_result"
    }
   ],
   "source": [
    "H0ROD1P75Tot = H0ROStats1.at[IndexD1, StatsHdsList[75]]\n",
    "H0ROP1P75Tot = H0ROStats2.at[IndexP1, StatsHdsList[75]] + H0ROD1P75Tot\n",
    "H0ROP2P75Tot = H0ROStats3.at[IndexP2, StatsHdsList[75]] + H0ROP1P75Tot\n",
    "H0ROP3P75Tot = H0ROStats4.at[IndexP3, StatsHdsList[75]] + H0ROP2P75Tot\n",
    "H0ROD1P75Tot, H0ROP1P75Tot, H0ROP2P75Tot, H0ROP3P75Tot "
   ]
  },
  {
   "cell_type": "code",
   "execution_count": 110,
   "metadata": {},
   "outputs": [
    {
     "data": {
      "text/plain": [
       "1440"
      ]
     },
     "execution_count": 110,
     "metadata": {},
     "output_type": "execute_result"
    }
   ],
   "source": [
    "H0ROAllP25 = H0ROStats1[[StatsHdsList[25]]].to_numpy()\n",
    "H0ROAllP25 = np.append( H0ROAllP25, \n",
    "                         H0ROStats2[[StatsHdsList[25]]].to_numpy() + H0ROD1P25Tot )\n",
    "H0ROAllP25 = np.append( H0ROAllP25, \n",
    "                         H0ROStats3[[StatsHdsList[25]]].to_numpy() + H0ROP1P25Tot )\n",
    "H0ROAllP25 = np.append( H0ROAllP25, \n",
    "                         H0ROStats4[[StatsHdsList[25]]].to_numpy() + H0ROP2P25Tot )\n",
    "len( H0ROAllP25 )"
   ]
  },
  {
   "cell_type": "code",
   "execution_count": 111,
   "metadata": {},
   "outputs": [
    {
     "data": {
      "text/plain": [
       "1440"
      ]
     },
     "execution_count": 111,
     "metadata": {},
     "output_type": "execute_result"
    }
   ],
   "source": [
    "H0ROAllP75 = H0ROStats1[[StatsHdsList[75]]].to_numpy()\n",
    "H0ROAllP75 = np.append( H0ROAllP75, \n",
    "                         H0ROStats2[[StatsHdsList[75]]].to_numpy() + H0ROD1P75Tot )\n",
    "H0ROAllP75 = np.append( H0ROAllP75, \n",
    "                         H0ROStats3[[StatsHdsList[75]]].to_numpy() + H0ROP1P75Tot )\n",
    "H0ROAllP75 = np.append( H0ROAllP75, \n",
    "                         H0ROStats4[[StatsHdsList[75]]].to_numpy() + H0ROP2P75Tot )\n",
    "len( H0ROAllP75 )"
   ]
  },
  {
   "cell_type": "code",
   "execution_count": 112,
   "metadata": {},
   "outputs": [
    {
     "data": {
      "text/plain": [
       "(55999.10894727707, 172929.02454805374, 388320.8761000633, 733293.1797356606)"
      ]
     },
     "execution_count": 112,
     "metadata": {},
     "output_type": "execute_result"
    }
   ],
   "source": [
    "H1ROD1P25Tot = H1ROStats1.at[IndexD1, StatsHdsList[25]]\n",
    "H1ROP1P25Tot = H1ROStats2.at[IndexP1, StatsHdsList[25]] + H1ROD1P25Tot\n",
    "H1ROP2P25Tot = H1ROStats3.at[IndexP2, StatsHdsList[25]] + H1ROP1P25Tot\n",
    "H1ROP3P25Tot = H1ROStats4.at[IndexP3, StatsHdsList[25]] + H1ROP2P25Tot\n",
    "H1ROD1P25Tot, H1ROP1P25Tot, H1ROP2P25Tot, H1ROP3P25Tot "
   ]
  },
  {
   "cell_type": "code",
   "execution_count": 113,
   "metadata": {},
   "outputs": [
    {
     "data": {
      "text/plain": [
       "(91157.39225959778, 274095.1293268204, 573575.133409977, 1023749.691971302)"
      ]
     },
     "execution_count": 113,
     "metadata": {},
     "output_type": "execute_result"
    }
   ],
   "source": [
    "H1ROD1P75Tot = H1ROStats1.at[IndexD1, StatsHdsList[75]]\n",
    "H1ROP1P75Tot = H1ROStats2.at[IndexP1, StatsHdsList[75]] + H1ROD1P75Tot\n",
    "H1ROP2P75Tot = H1ROStats3.at[IndexP2, StatsHdsList[75]] + H1ROP1P75Tot\n",
    "H1ROP3P75Tot = H1ROStats4.at[IndexP3, StatsHdsList[75]] + H1ROP2P75Tot\n",
    "H1ROD1P75Tot, H1ROP1P75Tot, H1ROP2P75Tot, H1ROP3P75Tot "
   ]
  },
  {
   "cell_type": "code",
   "execution_count": 114,
   "metadata": {},
   "outputs": [],
   "source": [
    "MaxRO = 500000.0"
   ]
  },
  {
   "cell_type": "code",
   "execution_count": 115,
   "metadata": {},
   "outputs": [],
   "source": [
    "MinRO = 60000.0"
   ]
  },
  {
   "cell_type": "code",
   "execution_count": 116,
   "metadata": {},
   "outputs": [
    {
     "data": {
      "text/plain": [
       "1440"
      ]
     },
     "execution_count": 116,
     "metadata": {},
     "output_type": "execute_result"
    }
   ],
   "source": [
    "H1ROAllP25 = H1ROStats1[[StatsHdsList[25]]].to_numpy()\n",
    "H1ROAllP25 = np.append( H1ROAllP25, \n",
    "                         H1ROStats2[[StatsHdsList[25]]].to_numpy() + H1ROD1P25Tot )\n",
    "H1ROAllP25 = np.append( H1ROAllP25, \n",
    "                         H1ROStats3[[StatsHdsList[25]]].to_numpy() + H1ROP1P25Tot )\n",
    "H1ROAllP25 = np.append( H1ROAllP25, \n",
    "                         H1ROStats4[[StatsHdsList[25]]].to_numpy() + H1ROP2P25Tot )\n",
    "len( H1ROAllP25 )"
   ]
  },
  {
   "cell_type": "code",
   "execution_count": 117,
   "metadata": {},
   "outputs": [
    {
     "data": {
      "text/plain": [
       "1440"
      ]
     },
     "execution_count": 117,
     "metadata": {},
     "output_type": "execute_result"
    }
   ],
   "source": [
    "H1ROAllP75 = H1ROStats1[[StatsHdsList[75]]].to_numpy()\n",
    "H1ROAllP75 = np.append( H1ROAllP75, \n",
    "                         H1ROStats2[[StatsHdsList[75]]].to_numpy() + H1ROD1P75Tot )\n",
    "H1ROAllP75 = np.append( H1ROAllP75, \n",
    "                         H1ROStats3[[StatsHdsList[75]]].to_numpy() + H1ROP1P75Tot )\n",
    "H1ROAllP75 = np.append( H1ROAllP75, \n",
    "                         H1ROStats4[[StatsHdsList[75]]].to_numpy() + H1ROP2P75Tot )\n",
    "len( H1ROAllP75 )"
   ]
  },
  {
   "cell_type": "code",
   "execution_count": 118,
   "metadata": {},
   "outputs": [],
   "source": [
    "H0FROValues = H0ROAllP25.tolist()\n",
    "tmpList1 = H0ROAllP75.tolist()\n",
    "tmpList2 = tmpList1[::-1]\n",
    "H0FROValues.extend( tmpList2 )"
   ]
  },
  {
   "cell_type": "code",
   "execution_count": 119,
   "metadata": {},
   "outputs": [],
   "source": [
    "H1FROValues = H1ROAllP25.tolist()\n",
    "tmpList1 = H1ROAllP75.tolist()\n",
    "tmpList2 = tmpList1[::-1]\n",
    "H1FROValues.extend( tmpList2 )"
   ]
  },
  {
   "cell_type": "code",
   "execution_count": 120,
   "metadata": {},
   "outputs": [
    {
     "data": {
      "image/png": "[encoded data removed]",
      "text/plain": [
       "<Figure size 720x432 with 1 Axes>"
      ]
     },
     "metadata": {
      "needs_background": "light"
     },
     "output_type": "display_data"
    }
   ],
   "source": [
    "Fig1 = plt.figure()\n",
    "Fig1.set_size_inches(10.0, 6.0)\n",
    "ax11 = Fig1.add_subplot(111)\n",
    "ax11.plot( [TP_DICT[2][0], TP_DICT[2][0]], [MinRO, MaxRO], linestyle='-',\n",
    "           linewidth=2, color='xkcd:dark orange' )\n",
    "ax11.plot( [TP_DICT[3][0], TP_DICT[3][0]], [MinRO, MaxRO], linestyle='-',\n",
    "           linewidth=2, color='xkcd:dark orange' )\n",
    "ax11.plot( [TP_DICT[4][0], TP_DICT[4][0]], [MinRO, MaxRO], linestyle='-',\n",
    "           linewidth=2, color='xkcd:dark orange' )\n",
    "ax11.fill( FillIndex, H1FROValues, color=\"xkcd:greyish purple\", alpha=0.5, \n",
    "           label=\"H1 Interquartile Range\")\n",
    "ax11.fill( FillIndex, H0FROValues, color=\"xkcd:puce\", alpha=0.5, \n",
    "           label=\"H0 Interquartile Range\")\n",
    "ax11.plot( VPlotIndex, H1ROAllAve, linestyle='-',\n",
    "           linewidth=3, color='xkcd:purple blue', label='H1 Mean' )\n",
    "ax11.plot( VPlotIndex, H0ROAllAve, linestyle='-',\n",
    "           linewidth=2, color='xkcd:black', label='H0 Mean' )\n",
    "ax11.set_xlim( (dt.datetime(2010, 1, 1), TP_DICT[4][1]))\n",
    "ax11.set_ylim( (MinRO, MaxRO) )\n",
    "ax11.grid(True, axis='y', which='both')\n",
    "#ax11.set_title(\"Probabilistic Discharge\", fontsize=16)\n",
    "#ax11.set_xlabel('Day of the Year', fontsize=14 )\n",
    "ax11.set_ylabel('Cumulative Ensemble Average Runoff (af)', fontsize=14)\n",
    "ax11.grid( b=True )\n",
    "ax11.legend( loc='upper left' )\n",
    "ax11.tick_params(axis='both', which='major', labelsize=13)\n",
    "ax11.tick_params(axis='x', which='major', labelrotation=30.0)\n",
    "ax11.yaxis.set_major_formatter( mpl.ticker.StrMethodFormatter( \"{x:,.1f}\" ) )\n",
    "ax11.xaxis.set_major_formatter( mpl.dates.DateFormatter(\"%Y-%m-%d\") )"
   ]
  },
  {
   "cell_type": "markdown",
   "metadata": {},
   "source": [
    "### Recharge (RE)"
   ]
  },
  {
   "cell_type": "code",
   "execution_count": 121,
   "metadata": {},
   "outputs": [
    {
     "data": {
      "text/plain": [
       "(1239093.5530981144, 2642050.260791858, 4087533.5945077473, 5557482.574506121)"
      ]
     },
     "execution_count": 121,
     "metadata": {},
     "output_type": "execute_result"
    }
   ],
   "source": [
    "H0RED1AveTot = H0REStats1.at[IndexD1, StatsHdsList[101]]\n",
    "H0REP1AveTot = H0REStats2.at[IndexP1, StatsHdsList[101]] + H0RED1AveTot\n",
    "H0REP2AveTot = H0REStats3.at[IndexP2, StatsHdsList[101]] + H0REP1AveTot\n",
    "H0REP3AveTot = H0REStats4.at[IndexP3, StatsHdsList[101]] + H0REP2AveTot\n",
    "H0RED1AveTot, H0REP1AveTot, H0REP2AveTot, H0REP3AveTot "
   ]
  },
  {
   "cell_type": "code",
   "execution_count": 122,
   "metadata": {},
   "outputs": [
    {
     "data": {
      "text/plain": [
       "1440"
      ]
     },
     "execution_count": 122,
     "metadata": {},
     "output_type": "execute_result"
    }
   ],
   "source": [
    "H0REAllAve = H0REStats1[[StatsHdsList[101]]].to_numpy()\n",
    "H0REAllAve = np.append( H0REAllAve, \n",
    "                         H0REStats2[[StatsHdsList[101]]].to_numpy() + H0RED1AveTot )\n",
    "H0REAllAve = np.append( H0REAllAve, \n",
    "                         H0REStats3[[StatsHdsList[101]]].to_numpy() + H0REP1AveTot )\n",
    "H0REAllAve = np.append( H0REAllAve, \n",
    "                         H0REStats4[[StatsHdsList[101]]].to_numpy() + H0REP2AveTot )\n",
    "len( H0REAllAve )"
   ]
  },
  {
   "cell_type": "code",
   "execution_count": 123,
   "metadata": {},
   "outputs": [
    {
     "data": {
      "text/plain": [
       "(1239093.5530981144, 2660629.6656986577, 4103187.920058121, 5523374.219430782)"
      ]
     },
     "execution_count": 123,
     "metadata": {},
     "output_type": "execute_result"
    }
   ],
   "source": [
    "H1RED1AveTot = H1REStats1.at[IndexD1, StatsHdsList[101]]\n",
    "H1REP1AveTot = H1REStats2.at[IndexP1, StatsHdsList[101]] + H1RED1AveTot\n",
    "H1REP2AveTot = H1REStats3.at[IndexP2, StatsHdsList[101]] + H1REP1AveTot\n",
    "H1REP3AveTot = H1REStats4.at[IndexP3, StatsHdsList[101]] + H1REP2AveTot\n",
    "H1RED1AveTot, H1REP1AveTot, H1REP2AveTot, H1REP3AveTot "
   ]
  },
  {
   "cell_type": "code",
   "execution_count": 124,
   "metadata": {},
   "outputs": [
    {
     "data": {
      "text/plain": [
       "1440"
      ]
     },
     "execution_count": 124,
     "metadata": {},
     "output_type": "execute_result"
    }
   ],
   "source": [
    "H1REAllAve = H1REStats1[[StatsHdsList[101]]].to_numpy()\n",
    "H1REAllAve = np.append( H1REAllAve, \n",
    "                         H1REStats2[[StatsHdsList[101]]].to_numpy() + H1RED1AveTot )\n",
    "H1REAllAve = np.append( H1REAllAve, \n",
    "                         H1REStats3[[StatsHdsList[101]]].to_numpy() + H1REP1AveTot )\n",
    "H1REAllAve = np.append( H1REAllAve, \n",
    "                         H1REStats4[[StatsHdsList[101]]].to_numpy() + H1REP2AveTot )\n",
    "len( H1REAllAve )"
   ]
  },
  {
   "cell_type": "code",
   "execution_count": 125,
   "metadata": {},
   "outputs": [
    {
     "data": {
      "text/plain": [
       "(1147739.352963484, 2433666.7366096433, 3762620.747106985, 5110360.256682439)"
      ]
     },
     "execution_count": 125,
     "metadata": {},
     "output_type": "execute_result"
    }
   ],
   "source": [
    "H0RED1P25Tot = H0REStats1.at[IndexD1, StatsHdsList[25]]\n",
    "H0REP1P25Tot = H0REStats2.at[IndexP1, StatsHdsList[25]] + H0RED1P25Tot\n",
    "H0REP2P25Tot = H0REStats3.at[IndexP2, StatsHdsList[25]] + H0REP1P25Tot\n",
    "H0REP3P25Tot = H0REStats4.at[IndexP3, StatsHdsList[25]] + H0REP2P25Tot\n",
    "H0RED1P25Tot, H0REP1P25Tot, H0REP2P25Tot, H0REP3P25Tot "
   ]
  },
  {
   "cell_type": "code",
   "execution_count": 126,
   "metadata": {},
   "outputs": [
    {
     "data": {
      "text/plain": [
       "(1326053.0647036727, 2838428.7590418495, 4395937.9052893855, 5981048.339857267)"
      ]
     },
     "execution_count": 126,
     "metadata": {},
     "output_type": "execute_result"
    }
   ],
   "source": [
    "H0RED1P75Tot = H0REStats1.at[IndexD1, StatsHdsList[75]]\n",
    "H0REP1P75Tot = H0REStats2.at[IndexP1, StatsHdsList[75]] + H0RED1P75Tot\n",
    "H0REP2P75Tot = H0REStats3.at[IndexP2, StatsHdsList[75]] + H0REP1P75Tot\n",
    "H0REP3P75Tot = H0REStats4.at[IndexP3, StatsHdsList[75]] + H0REP2P75Tot\n",
    "H0RED1P75Tot, H0REP1P75Tot, H0REP2P75Tot, H0REP3P75Tot "
   ]
  },
  {
   "cell_type": "code",
   "execution_count": 127,
   "metadata": {},
   "outputs": [
    {
     "data": {
      "text/plain": [
       "1440"
      ]
     },
     "execution_count": 127,
     "metadata": {},
     "output_type": "execute_result"
    }
   ],
   "source": [
    "H0REAllP25 = H0REStats1[[StatsHdsList[25]]].to_numpy()\n",
    "H0REAllP25 = np.append( H0REAllP25, \n",
    "                         H0REStats2[[StatsHdsList[25]]].to_numpy() + H0RED1P25Tot )\n",
    "H0REAllP25 = np.append( H0REAllP25, \n",
    "                         H0REStats3[[StatsHdsList[25]]].to_numpy() + H0REP1P25Tot )\n",
    "H0REAllP25 = np.append( H0REAllP25, \n",
    "                         H0REStats4[[StatsHdsList[25]]].to_numpy() + H0REP2P25Tot )\n",
    "len( H0REAllP25 )"
   ]
  },
  {
   "cell_type": "code",
   "execution_count": 128,
   "metadata": {},
   "outputs": [
    {
     "data": {
      "text/plain": [
       "1440"
      ]
     },
     "execution_count": 128,
     "metadata": {},
     "output_type": "execute_result"
    }
   ],
   "source": [
    "H0REAllP75 = H0REStats1[[StatsHdsList[75]]].to_numpy()\n",
    "H0REAllP75 = np.append( H0REAllP75, \n",
    "                         H0REStats2[[StatsHdsList[75]]].to_numpy() + H0RED1P75Tot )\n",
    "H0REAllP75 = np.append( H0REAllP75, \n",
    "                         H0REStats3[[StatsHdsList[75]]].to_numpy() + H0REP1P75Tot )\n",
    "H0REAllP75 = np.append( H0REAllP75, \n",
    "                         H0REStats4[[StatsHdsList[75]]].to_numpy() + H0REP2P75Tot )\n",
    "len( H0REAllP75 )"
   ]
  },
  {
   "cell_type": "code",
   "execution_count": 129,
   "metadata": {},
   "outputs": [
    {
     "data": {
      "text/plain": [
       "(1147739.352963484, 2457683.2152013397, 3795904.5425186893, 5114458.173859208)"
      ]
     },
     "execution_count": 129,
     "metadata": {},
     "output_type": "execute_result"
    }
   ],
   "source": [
    "H1RED1P25Tot = H1REStats1.at[IndexD1, StatsHdsList[25]]\n",
    "H1REP1P25Tot = H1REStats2.at[IndexP1, StatsHdsList[25]] + H1RED1P25Tot\n",
    "H1REP2P25Tot = H1REStats3.at[IndexP2, StatsHdsList[25]] + H1REP1P25Tot\n",
    "H1REP3P25Tot = H1REStats4.at[IndexP3, StatsHdsList[25]] + H1REP2P25Tot\n",
    "H1RED1P25Tot, H1REP1P25Tot, H1REP2P25Tot, H1REP3P25Tot "
   ]
  },
  {
   "cell_type": "code",
   "execution_count": 130,
   "metadata": {},
   "outputs": [
    {
     "data": {
      "text/plain": [
       "(1326053.0647036727, 2852108.214169226, 4395246.128167157, 5912179.761768267)"
      ]
     },
     "execution_count": 130,
     "metadata": {},
     "output_type": "execute_result"
    }
   ],
   "source": [
    "H1RED1P75Tot = H1REStats1.at[IndexD1, StatsHdsList[75]]\n",
    "H1REP1P75Tot = H1REStats2.at[IndexP1, StatsHdsList[75]] + H1RED1P75Tot\n",
    "H1REP2P75Tot = H1REStats3.at[IndexP2, StatsHdsList[75]] + H1REP1P75Tot\n",
    "H1REP3P75Tot = H1REStats4.at[IndexP3, StatsHdsList[75]] + H1REP2P75Tot\n",
    "H1RED1P75Tot, H1REP1P75Tot, H1REP2P75Tot, H1REP3P75Tot "
   ]
  },
  {
   "cell_type": "code",
   "execution_count": 131,
   "metadata": {},
   "outputs": [],
   "source": [
    "MaxRE = 6000000.0"
   ]
  },
  {
   "cell_type": "code",
   "execution_count": 132,
   "metadata": {},
   "outputs": [],
   "source": [
    "MinRE = 900000.0"
   ]
  },
  {
   "cell_type": "code",
   "execution_count": 133,
   "metadata": {},
   "outputs": [
    {
     "data": {
      "text/plain": [
       "1440"
      ]
     },
     "execution_count": 133,
     "metadata": {},
     "output_type": "execute_result"
    }
   ],
   "source": [
    "H1REAllP25 = H1REStats1[[StatsHdsList[25]]].to_numpy()\n",
    "H1REAllP25 = np.append( H1REAllP25, \n",
    "                         H1REStats2[[StatsHdsList[25]]].to_numpy() + H1RED1P25Tot )\n",
    "H1REAllP25 = np.append( H1REAllP25, \n",
    "                         H1REStats3[[StatsHdsList[25]]].to_numpy() + H1REP1P25Tot )\n",
    "H1REAllP25 = np.append( H1REAllP25, \n",
    "                         H1REStats4[[StatsHdsList[25]]].to_numpy() + H1REP2P25Tot )\n",
    "len( H1REAllP25 )"
   ]
  },
  {
   "cell_type": "code",
   "execution_count": 134,
   "metadata": {},
   "outputs": [
    {
     "data": {
      "text/plain": [
       "1440"
      ]
     },
     "execution_count": 134,
     "metadata": {},
     "output_type": "execute_result"
    }
   ],
   "source": [
    "H1REAllP75 = H1REStats1[[StatsHdsList[75]]].to_numpy()\n",
    "H1REAllP75 = np.append( H1REAllP75, \n",
    "                         H1REStats2[[StatsHdsList[75]]].to_numpy() + H1RED1P75Tot )\n",
    "H1REAllP75 = np.append( H1REAllP75, \n",
    "                         H1REStats3[[StatsHdsList[75]]].to_numpy() + H1REP1P75Tot )\n",
    "H1REAllP75 = np.append( H1REAllP75, \n",
    "                         H1REStats4[[StatsHdsList[75]]].to_numpy() + H1REP2P75Tot )\n",
    "len( H1REAllP75 )"
   ]
  },
  {
   "cell_type": "code",
   "execution_count": 135,
   "metadata": {},
   "outputs": [],
   "source": [
    "H0FREValues = H0REAllP25.tolist()\n",
    "tmpList1 = H0REAllP75.tolist()\n",
    "tmpList2 = tmpList1[::-1]\n",
    "H0FREValues.extend( tmpList2 )"
   ]
  },
  {
   "cell_type": "code",
   "execution_count": 136,
   "metadata": {},
   "outputs": [],
   "source": [
    "H1FREValues = H1REAllP25.tolist()\n",
    "tmpList1 = H1REAllP75.tolist()\n",
    "tmpList2 = tmpList1[::-1]\n",
    "H1FREValues.extend( tmpList2 )"
   ]
  },
  {
   "cell_type": "code",
   "execution_count": 137,
   "metadata": {},
   "outputs": [
    {
     "data": {
      "image/png": "[encoded data removed]",
      "text/plain": [
       "<Figure size 720x432 with 1 Axes>"
      ]
     },
     "metadata": {
      "needs_background": "light"
     },
     "output_type": "display_data"
    }
   ],
   "source": [
    "Fig1 = plt.figure()\n",
    "Fig1.set_size_inches(10.0, 6.0)\n",
    "ax11 = Fig1.add_subplot(111)\n",
    "ax11.plot( [TP_DICT[2][0], TP_DICT[2][0]], [MinRE, MaxRE], linestyle='-',\n",
    "           linewidth=2, color='xkcd:dark orange' )\n",
    "ax11.plot( [TP_DICT[3][0], TP_DICT[3][0]], [MinRE, MaxRE], linestyle='-',\n",
    "           linewidth=2, color='xkcd:dark orange' )\n",
    "ax11.plot( [TP_DICT[4][0], TP_DICT[4][0]], [MinRE, MaxRE], linestyle='-',\n",
    "           linewidth=2, color='xkcd:dark orange' )\n",
    "ax11.fill( FillIndex, H1FREValues, color=\"xkcd:moss\", alpha=0.5, \n",
    "           label=\"H1 Interquartile Range\")\n",
    "ax11.fill( FillIndex, H0FREValues, color=\"xkcd:puce\", alpha=0.5, \n",
    "           label=\"H0 Interquartile Range\")\n",
    "ax11.plot( VPlotIndex, H1REAllAve, linestyle='-',\n",
    "           linewidth=3, color='xkcd:grass green', label='H1 Mean' )\n",
    "ax11.plot( VPlotIndex, H0REAllAve, linestyle='-',\n",
    "           linewidth=2, color='xkcd:black', label='H0 Mean' )\n",
    "ax11.set_xlim( (dt.datetime(2010, 1, 1), TP_DICT[4][1]))\n",
    "ax11.set_ylim( (MinRE, MaxRE) )\n",
    "ax11.grid(True, axis='y', which='both')\n",
    "#ax11.set_title(\"Probabilistic Discharge\", fontsize=16)\n",
    "#ax11.set_xlabel('Day of the Year', fontsize=14 )\n",
    "ax11.set_ylabel('Cumulative Ensemble Average Recharge (af)', fontsize=14)\n",
    "ax11.grid( b=True )\n",
    "ax11.legend( loc='upper left' )\n",
    "ax11.tick_params(axis='both', which='major', labelsize=13)\n",
    "ax11.tick_params(axis='x', which='major', labelrotation=30.0)\n",
    "ax11.yaxis.set_major_formatter( mpl.ticker.StrMethodFormatter( \"{x:,.1f}\" ) )\n",
    "ax11.xaxis.set_major_formatter( mpl.dates.DateFormatter(\"%Y-%m-%d\") )"
   ]
  },
  {
   "cell_type": "markdown",
   "metadata": {},
   "source": [
    "## Pie Charts of Water Budget"
   ]
  },
  {
   "cell_type": "code",
   "execution_count": 138,
   "metadata": {},
   "outputs": [],
   "source": [
    "H0PreD1AveEnd = H0PreStats1.at[IndexD1, StatsHdsList[101]]\n",
    "H0PreP1AveEnd = H0PreStats2.at[IndexP1, StatsHdsList[101]]\n",
    "H0PreP2AveEnd = H0PreStats3.at[IndexP2, StatsHdsList[101]]\n",
    "H0PreP3AveEnd = H0PreStats4.at[IndexP3, StatsHdsList[101]]\n",
    "H1PreD1AveEnd = H1PreStats1.at[IndexD1, StatsHdsList[101]]\n",
    "H1PreP1AveEnd = H1PreStats2.at[IndexP1, StatsHdsList[101]]\n",
    "H1PreP2AveEnd = H1PreStats3.at[IndexP2, StatsHdsList[101]]\n",
    "H1PreP3AveEnd = H1PreStats4.at[IndexP3, StatsHdsList[101]]"
   ]
  },
  {
   "cell_type": "code",
   "execution_count": 139,
   "metadata": {},
   "outputs": [],
   "source": [
    "H0AETD1AveEnd = H0AETStats1.at[IndexD1, StatsHdsList[101]]\n",
    "H0AETP1AveEnd = H0AETStats2.at[IndexP1, StatsHdsList[101]]\n",
    "H0AETP2AveEnd = H0AETStats3.at[IndexP2, StatsHdsList[101]]\n",
    "H0AETP3AveEnd = H0AETStats4.at[IndexP3, StatsHdsList[101]]\n",
    "H1AETD1AveEnd = H1AETStats1.at[IndexD1, StatsHdsList[101]]\n",
    "H1AETP1AveEnd = H1AETStats2.at[IndexP1, StatsHdsList[101]]\n",
    "H1AETP2AveEnd = H1AETStats3.at[IndexP2, StatsHdsList[101]]\n",
    "H1AETP3AveEnd = H1AETStats4.at[IndexP3, StatsHdsList[101]]"
   ]
  },
  {
   "cell_type": "code",
   "execution_count": 140,
   "metadata": {},
   "outputs": [],
   "source": [
    "H0ROD1AveEnd = H0ROStats1.at[IndexD1, StatsHdsList[101]]\n",
    "H0ROP1AveEnd = H0ROStats2.at[IndexP1, StatsHdsList[101]]\n",
    "H0ROP2AveEnd = H0ROStats3.at[IndexP2, StatsHdsList[101]]\n",
    "H0ROP3AveEnd = H0ROStats4.at[IndexP3, StatsHdsList[101]]\n",
    "H1ROD1AveEnd = H1ROStats1.at[IndexD1, StatsHdsList[101]]\n",
    "H1ROP1AveEnd = H1ROStats2.at[IndexP1, StatsHdsList[101]]\n",
    "H1ROP2AveEnd = H1ROStats3.at[IndexP2, StatsHdsList[101]]\n",
    "H1ROP3AveEnd = H1ROStats4.at[IndexP3, StatsHdsList[101]]"
   ]
  },
  {
   "cell_type": "code",
   "execution_count": 141,
   "metadata": {},
   "outputs": [],
   "source": [
    "H0RED1AveEnd = H0REStats1.at[IndexD1, StatsHdsList[101]]\n",
    "H0REP1AveEnd = H0REStats2.at[IndexP1, StatsHdsList[101]]\n",
    "H0REP2AveEnd = H0REStats3.at[IndexP2, StatsHdsList[101]]\n",
    "H0REP3AveEnd = H0REStats4.at[IndexP3, StatsHdsList[101]]\n",
    "H1RED1AveEnd = H1REStats1.at[IndexD1, StatsHdsList[101]]\n",
    "H1REP1AveEnd = H1REStats2.at[IndexP1, StatsHdsList[101]]\n",
    "H1REP2AveEnd = H1REStats3.at[IndexP2, StatsHdsList[101]]\n",
    "H1REP3AveEnd = H1REStats4.at[IndexP3, StatsHdsList[101]]"
   ]
  },
  {
   "cell_type": "code",
   "execution_count": 142,
   "metadata": {},
   "outputs": [],
   "source": [
    "PieHdrs = [\"AET\", \"Runoff\", \"Recharge\" ]"
   ]
  },
  {
   "cell_type": "markdown",
   "metadata": {},
   "source": [
    "### H0"
   ]
  },
  {
   "cell_type": "markdown",
   "metadata": {},
   "source": [
    "#### Data Period: 1981-2010"
   ]
  },
  {
   "cell_type": "code",
   "execution_count": 143,
   "metadata": {},
   "outputs": [
    {
     "data": {
      "text/plain": [
       "(6753746.586830943, 5439454.915366011, 75314.22066882152, 1239093.5530981144)"
      ]
     },
     "execution_count": 143,
     "metadata": {},
     "output_type": "execute_result"
    }
   ],
   "source": [
    "H0PreD1AveEnd, H0AETD1AveEnd, H0ROD1AveEnd, H0RED1AveEnd"
   ]
  },
  {
   "cell_type": "code",
   "execution_count": 144,
   "metadata": {},
   "outputs": [
    {
     "data": {
      "text/plain": [
       "-116.10230200365186"
      ]
     },
     "execution_count": 144,
     "metadata": {},
     "output_type": "execute_result"
    }
   ],
   "source": [
    "H0DstoD1AveEnd = H0PreD1AveEnd - ( H0AETD1AveEnd + H0ROD1AveEnd + H0RED1AveEnd )\n",
    "H0DstoD1AveEnd"
   ]
  },
  {
   "cell_type": "markdown",
   "metadata": {},
   "source": [
    "If change in storage is negative, then reduce AET"
   ]
  },
  {
   "cell_type": "code",
   "execution_count": 145,
   "metadata": {},
   "outputs": [],
   "source": [
    "H0AETD1AveEnd =  H0AETD1AveEnd + H0DstoD1AveEnd"
   ]
  },
  {
   "cell_type": "code",
   "execution_count": 146,
   "metadata": {},
   "outputs": [
    {
     "data": {
      "text/plain": [
       "(6753746.586830943, 5439338.813064007, 75314.22066882152, 1239093.5530981144)"
      ]
     },
     "execution_count": 146,
     "metadata": {},
     "output_type": "execute_result"
    }
   ],
   "source": [
    "H0PreD1AveEnd, H0AETD1AveEnd, H0ROD1AveEnd, H0RED1AveEnd"
   ]
  },
  {
   "cell_type": "code",
   "execution_count": 147,
   "metadata": {},
   "outputs": [
    {
     "data": {
      "text/plain": [
       "([<matplotlib.patches.Wedge at 0x2c9cdb4e9c8>,\n",
       "  <matplotlib.patches.Wedge at 0x2c9d106bcc8>,\n",
       "  <matplotlib.patches.Wedge at 0x2c9d22ab048>],\n",
       " [Text(-0.6314281144407017, -0.9007211201553232, 'AET'),\n",
       "  Text(1.0203014517481384, 0.4110777877247096, 'Runoff'),\n",
       "  Text(0.5994916563289067, 0.9222850719772191, 'Recharge')],\n",
       " [Text(-0.34441533514947364, -0.49130242917563083, '80.5%'),\n",
       "  Text(0.5565280645898936, 0.2242242478498416, '1.1%'),\n",
       "  Text(0.32699544890667637, 0.5030645847148467, '18.3%')])"
      ]
     },
     "execution_count": 147,
     "metadata": {},
     "output_type": "execute_result"
    },
    {
     "data": {
      "image/png": "[encoded data removed]",
      "text/plain": [
       "<Figure size 432x288 with 1 Axes>"
      ]
     },
     "metadata": {},
     "output_type": "display_data"
    }
   ],
   "source": [
    "Fig1 = plt.figure()\n",
    "ax11 = Fig1.add_subplot(111)\n",
    "ax11.pie( [H0AETD1AveEnd, H0ROD1AveEnd, H0RED1AveEnd], labels=PieHdrs, autopct='%1.1f%%',\n",
    "          startangle=90, shadow=True )"
   ]
  },
  {
   "cell_type": "markdown",
   "metadata": {},
   "source": [
    "#### Projection Period 1: 2011-2040"
   ]
  },
  {
   "cell_type": "code",
   "execution_count": 148,
   "metadata": {},
   "outputs": [
    {
     "data": {
      "text/plain": [
       "(6942700.6516856365, 5430597.536263318, 108267.06489486694, 1402956.7076937438)"
      ]
     },
     "execution_count": 148,
     "metadata": {},
     "output_type": "execute_result"
    }
   ],
   "source": [
    "H0PreP1AveEnd, H0AETP1AveEnd, H0ROP1AveEnd, H0REP1AveEnd"
   ]
  },
  {
   "cell_type": "code",
   "execution_count": 149,
   "metadata": {},
   "outputs": [
    {
     "data": {
      "text/plain": [
       "879.3428337080404"
      ]
     },
     "execution_count": 149,
     "metadata": {},
     "output_type": "execute_result"
    }
   ],
   "source": [
    "H0DstoP1AveEnd = H0PreP1AveEnd - ( H0AETP1AveEnd + H0ROP1AveEnd + H0REP1AveEnd )\n",
    "H0DstoP1AveEnd"
   ]
  },
  {
   "cell_type": "code",
   "execution_count": 150,
   "metadata": {},
   "outputs": [],
   "source": [
    "H0AETP1AveEnd =  H0AETP1AveEnd + H0DstoP1AveEnd"
   ]
  },
  {
   "cell_type": "code",
   "execution_count": 151,
   "metadata": {},
   "outputs": [
    {
     "data": {
      "text/plain": [
       "(6942700.6516856365, 5431476.879097026, 108267.06489486694, 1402956.7076937438)"
      ]
     },
     "execution_count": 151,
     "metadata": {},
     "output_type": "execute_result"
    }
   ],
   "source": [
    "H0PreP1AveEnd, H0AETP1AveEnd, H0ROP1AveEnd, H0REP1AveEnd"
   ]
  },
  {
   "cell_type": "code",
   "execution_count": 152,
   "metadata": {},
   "outputs": [
    {
     "data": {
      "text/plain": [
       "([<matplotlib.patches.Wedge at 0x2c9ba9d4348>,\n",
       "  <matplotlib.patches.Wedge at 0x2c9b3c4a088>,\n",
       "  <matplotlib.patches.Wedge at 0x2c9c92bd308>],\n",
       " [Text(-0.694946020265659, -0.8526722869408401, 'AET'),\n",
       "  Text(1.0652241085544405, 0.2744040789682215, 'Runoff'),\n",
       "  Text(0.6523556022189484, 0.8856817533705622, 'Recharge')],\n",
       " [Text(-0.37906146559945036, -0.46509397469500363, '78.2%'),\n",
       "  Text(0.5810313319387856, 0.14967495216448445, '1.6%'),\n",
       "  Text(0.35583032848306273, 0.4830991382021248, '20.2%')])"
      ]
     },
     "execution_count": 152,
     "metadata": {},
     "output_type": "execute_result"
    },
    {
     "data": {
      "image/png": "[encoded data removed]",
      "text/plain": [
       "<Figure size 432x288 with 1 Axes>"
      ]
     },
     "metadata": {},
     "output_type": "display_data"
    }
   ],
   "source": [
    "Fig1 = plt.figure()\n",
    "ax11 = Fig1.add_subplot(111)\n",
    "ax11.pie( [H0AETP1AveEnd, H0ROP1AveEnd, H0REP1AveEnd], labels=PieHdrs, autopct='%1.1f%%',\n",
    "          startangle=90, shadow=True )"
   ]
  },
  {
   "cell_type": "markdown",
   "metadata": {},
   "source": [
    "#### Projection Period 2: 2041-2070"
   ]
  },
  {
   "cell_type": "code",
   "execution_count": 153,
   "metadata": {},
   "outputs": [
    {
     "data": {
      "text/plain": [
       "(7097365.167363929, 5534222.163493369, 117395.26358631477, 1445483.3337158891)"
      ]
     },
     "execution_count": 153,
     "metadata": {},
     "output_type": "execute_result"
    }
   ],
   "source": [
    "H0PreP2AveEnd, H0AETP2AveEnd, H0ROP2AveEnd, H0REP2AveEnd"
   ]
  },
  {
   "cell_type": "code",
   "execution_count": 154,
   "metadata": {},
   "outputs": [
    {
     "data": {
      "text/plain": [
       "264.4065683558583"
      ]
     },
     "execution_count": 154,
     "metadata": {},
     "output_type": "execute_result"
    }
   ],
   "source": [
    "H0DstoP2AveEnd = H0PreP2AveEnd - ( H0AETP2AveEnd + H0ROP2AveEnd + H0REP2AveEnd )\n",
    "H0DstoP2AveEnd"
   ]
  },
  {
   "cell_type": "code",
   "execution_count": 155,
   "metadata": {},
   "outputs": [],
   "source": [
    "H0AETP2AveEnd =  H0AETP2AveEnd + H0DstoP2AveEnd"
   ]
  },
  {
   "cell_type": "code",
   "execution_count": 156,
   "metadata": {},
   "outputs": [
    {
     "data": {
      "text/plain": [
       "(7097365.167363929, 5534486.570061725, 117395.26358631477, 1445483.3337158891)"
      ]
     },
     "execution_count": 156,
     "metadata": {},
     "output_type": "execute_result"
    }
   ],
   "source": [
    "H0PreP2AveEnd, H0AETP2AveEnd, H0ROP2AveEnd, H0REP2AveEnd"
   ]
  },
  {
   "cell_type": "code",
   "execution_count": 157,
   "metadata": {},
   "outputs": [
    {
     "data": {
      "text/plain": [
       "([<matplotlib.patches.Wedge at 0x2c9cff19288>,\n",
       "  <matplotlib.patches.Wedge at 0x2c9c93125c8>,\n",
       "  <matplotlib.patches.Wedge at 0x2c9cb877a88>],\n",
       " [Text(-0.7017133902168828, -0.8471117505915786, 'AET'),\n",
       "  Text(1.0686888075933327, 0.2605844057589416, 'Runoff'),\n",
       "  Text(0.6567666851589531, 0.8824157304045076, 'Recharge')],\n",
       " [Text(-0.38275275830011785, -0.46206095486813376, '78.0%'),\n",
       "  Text(0.5829211677781815, 0.14213694859578632, '1.7%'),\n",
       "  Text(0.3582363737230653, 0.48131767112973134, '20.4%')])"
      ]
     },
     "execution_count": 157,
     "metadata": {},
     "output_type": "execute_result"
    },
    {
     "data": {
      "image/png": "[encoded data removed]",
      "text/plain": [
       "<Figure size 432x288 with 1 Axes>"
      ]
     },
     "metadata": {},
     "output_type": "display_data"
    }
   ],
   "source": [
    "Fig1 = plt.figure()\n",
    "ax11 = Fig1.add_subplot(111)\n",
    "ax11.pie( [H0AETP2AveEnd, H0ROP2AveEnd, H0REP2AveEnd], labels=PieHdrs, autopct='%1.1f%%',\n",
    "          startangle=90, shadow=True )"
   ]
  },
  {
   "cell_type": "markdown",
   "metadata": {},
   "source": [
    "#### Projection Period 3: 2071-2099"
   ]
  },
  {
   "cell_type": "code",
   "execution_count": 158,
   "metadata": {},
   "outputs": [
    {
     "data": {
      "text/plain": [
       "(7179198.8533229465, 5582709.392132032, 127072.78440629978, 1469948.979998374)"
      ]
     },
     "execution_count": 158,
     "metadata": {},
     "output_type": "execute_result"
    }
   ],
   "source": [
    "H0PreP3AveEnd, H0AETP3AveEnd, H0ROP3AveEnd, H0REP3AveEnd"
   ]
  },
  {
   "cell_type": "code",
   "execution_count": 159,
   "metadata": {},
   "outputs": [
    {
     "data": {
      "text/plain": [
       "-532.3032137593254"
      ]
     },
     "execution_count": 159,
     "metadata": {},
     "output_type": "execute_result"
    }
   ],
   "source": [
    "H0DstoP3AveEnd = H0PreP3AveEnd - ( H0AETP3AveEnd + H0ROP3AveEnd + H0REP3AveEnd )\n",
    "H0DstoP3AveEnd"
   ]
  },
  {
   "cell_type": "code",
   "execution_count": 160,
   "metadata": {},
   "outputs": [],
   "source": [
    "H0AETP3AveEnd =  H0AETP3AveEnd + H0DstoP3AveEnd"
   ]
  },
  {
   "cell_type": "code",
   "execution_count": 161,
   "metadata": {},
   "outputs": [
    {
     "data": {
      "text/plain": [
       "(7179198.8533229465, 5582177.088918272, 127072.78440629978, 1469948.979998374)"
      ]
     },
     "execution_count": 161,
     "metadata": {},
     "output_type": "execute_result"
    }
   ],
   "source": [
    "H0PreP3AveEnd, H0AETP3AveEnd, H0ROP3AveEnd, H0REP3AveEnd"
   ]
  },
  {
   "cell_type": "code",
   "execution_count": 162,
   "metadata": {},
   "outputs": [
    {
     "data": {
      "text/plain": [
       "([<matplotlib.patches.Wedge at 0x2c9e2c8e508>,\n",
       "  <matplotlib.patches.Wedge at 0x2c9f7009488>,\n",
       "  <matplotlib.patches.Wedge at 0x2c9ebc17d48>],\n",
       " [Text(-0.7076725354779352, -0.8421398829946429, 'AET'),\n",
       "  Text(1.0713580403973173, 0.2493831375133856, 'Runoff'),\n",
       "  Text(0.6597743532232706, 0.8801691898884073, 'Recharge')],\n",
       " [Text(-0.38600320116978276, -0.45934902708798697, '77.8%'),\n",
       "  Text(0.5843771129439912, 0.13602716591639213, '1.8%'),\n",
       "  Text(0.3598769199399658, 0.48009228539367665, '20.5%')])"
      ]
     },
     "execution_count": 162,
     "metadata": {},
     "output_type": "execute_result"
    },
    {
     "data": {
      "image/png": "[encoded data removed]",
      "text/plain": [
       "<Figure size 432x288 with 1 Axes>"
      ]
     },
     "metadata": {},
     "output_type": "display_data"
    }
   ],
   "source": [
    "Fig1 = plt.figure()\n",
    "ax11 = Fig1.add_subplot(111)\n",
    "ax11.pie( [H0AETP3AveEnd, H0ROP3AveEnd, H0REP3AveEnd], labels=PieHdrs, autopct='%1.1f%%',\n",
    "          startangle=90, shadow=True )"
   ]
  },
  {
   "cell_type": "code",
   "execution_count": 163,
   "metadata": {},
   "outputs": [
    {
     "data": {
      "text/plain": [
       "([<matplotlib.patches.Wedge at 0x2c9a41dc248>,\n",
       "  <matplotlib.patches.Wedge at 0x2c9a41dc488>,\n",
       "  <matplotlib.patches.Wedge at 0x2c9a41dc4c8>],\n",
       " [Text(-0.3788568686644211, -0.540432672093194, ''),\n",
       "  Text(0.6121808710488831, 0.24664667263482581, ''),\n",
       "  Text(0.35969499379734404, 0.5533710431863315, '')])"
      ]
     },
     "execution_count": 163,
     "metadata": {},
     "output_type": "execute_result"
    },
    {
     "data": {
      "image/png": "[encoded data removed]",
      "text/plain": [
       "<Figure size 432x288 with 1 Axes>"
      ]
     },
     "metadata": {},
     "output_type": "display_data"
    }
   ],
   "source": [
    "cmap = plt.get_cmap(\"tab20c\")\n",
    "outer_colors = cmap(np.arange(3)*4)\n",
    "size = 0.3\n",
    "Fig1 = plt.figure()\n",
    "ax11 = Fig1.add_subplot(111)\n",
    "ax11.pie( [H0AETP3AveEnd, H0ROP3AveEnd, H0REP3AveEnd], radius=1.5, colors=outer_colors,\n",
    "          wedgeprops=dict(width=size, edgecolor='w' ), startangle=90)\n",
    "ax11.pie( [H0AETP2AveEnd, H0ROP2AveEnd, H0REP2AveEnd], radius=(1.5 - (1.0*size)), \n",
    "          colors=outer_colors, wedgeprops=dict(width=size, edgecolor='w' ), startangle=90 )\n",
    "ax11.pie( [H0AETP1AveEnd, H0ROP1AveEnd, H0REP1AveEnd], radius=(1.5 - (2.0*size)), \n",
    "          colors=outer_colors, wedgeprops=dict(width=size, edgecolor='w' ), startangle=90 )\n",
    "ax11.pie( [H0AETD1AveEnd, H0ROD1AveEnd, H0RED1AveEnd], radius=(1.5 - (3.0*size)), \n",
    "          colors=outer_colors, wedgeprops=dict(width=size, edgecolor='w' ), startangle=90 )"
   ]
  },
  {
   "cell_type": "markdown",
   "metadata": {},
   "source": [
    "### H1"
   ]
  },
  {
   "cell_type": "markdown",
   "metadata": {},
   "source": [
    "#### Data Period: 1981-2010"
   ]
  },
  {
   "cell_type": "code",
   "execution_count": 164,
   "metadata": {},
   "outputs": [
    {
     "data": {
      "text/plain": [
       "(6753746.586830943, 5439454.915366011, 75314.22066882152, 1239093.5530981144)"
      ]
     },
     "execution_count": 164,
     "metadata": {},
     "output_type": "execute_result"
    }
   ],
   "source": [
    "H1PreD1AveEnd, H1AETD1AveEnd, H1ROD1AveEnd, H1RED1AveEnd"
   ]
  },
  {
   "cell_type": "code",
   "execution_count": 165,
   "metadata": {},
   "outputs": [
    {
     "data": {
      "text/plain": [
       "-116.10230200365186"
      ]
     },
     "execution_count": 165,
     "metadata": {},
     "output_type": "execute_result"
    }
   ],
   "source": [
    "H1DstoD1AveEnd = H1PreD1AveEnd - ( H1AETD1AveEnd + H1ROD1AveEnd + H1RED1AveEnd )\n",
    "H1DstoD1AveEnd"
   ]
  },
  {
   "cell_type": "markdown",
   "metadata": {},
   "source": [
    "If change in storage is negative, then reduce AET"
   ]
  },
  {
   "cell_type": "code",
   "execution_count": 166,
   "metadata": {},
   "outputs": [],
   "source": [
    "H1AETD1AveEnd =  H1AETD1AveEnd + H1DstoD1AveEnd"
   ]
  },
  {
   "cell_type": "code",
   "execution_count": 167,
   "metadata": {},
   "outputs": [
    {
     "data": {
      "text/plain": [
       "(6753746.586830943, 5439338.813064007, 75314.22066882152, 1239093.5530981144)"
      ]
     },
     "execution_count": 167,
     "metadata": {},
     "output_type": "execute_result"
    }
   ],
   "source": [
    "H1PreD1AveEnd, H1AETD1AveEnd, H1ROD1AveEnd, H1RED1AveEnd"
   ]
  },
  {
   "cell_type": "code",
   "execution_count": 168,
   "metadata": {},
   "outputs": [
    {
     "data": {
      "text/plain": [
       "([<matplotlib.patches.Wedge at 0x2c9a421a1c8>,\n",
       "  <matplotlib.patches.Wedge at 0x2c9ebc27748>,\n",
       "  <matplotlib.patches.Wedge at 0x2c9fdc1c648>],\n",
       " [Text(-0.6314281144407017, -0.9007211201553232, 'AET'),\n",
       "  Text(1.0203014517481384, 0.4110777877247096, 'Runoff'),\n",
       "  Text(0.5994916563289067, 0.9222850719772191, 'Recharge')],\n",
       " [Text(-0.34441533514947364, -0.49130242917563083, '80.5%'),\n",
       "  Text(0.5565280645898936, 0.2242242478498416, '1.1%'),\n",
       "  Text(0.32699544890667637, 0.5030645847148467, '18.3%')])"
      ]
     },
     "execution_count": 168,
     "metadata": {},
     "output_type": "execute_result"
    },
    {
     "data": {
      "image/png": "[encoded data removed]",
      "text/plain": [
       "<Figure size 432x288 with 1 Axes>"
      ]
     },
     "metadata": {},
     "output_type": "display_data"
    }
   ],
   "source": [
    "Fig1 = plt.figure()\n",
    "ax11 = Fig1.add_subplot(111)\n",
    "ax11.pie( [H1AETD1AveEnd, H1ROD1AveEnd, H1RED1AveEnd], labels=PieHdrs, autopct='%1.1f%%',\n",
    "          startangle=90, shadow=True )"
   ]
  },
  {
   "cell_type": "markdown",
   "metadata": {},
   "source": [
    "#### Projection Period 1: 2011-2040"
   ]
  },
  {
   "cell_type": "code",
   "execution_count": 169,
   "metadata": {},
   "outputs": [
    {
     "data": {
      "text/plain": [
       "(6963409.611105334, 5386514.964774513, 152868.98461944045, 1421536.1126005433)"
      ]
     },
     "execution_count": 169,
     "metadata": {},
     "output_type": "execute_result"
    }
   ],
   "source": [
    "H1PreP1AveEnd, H1AETP1AveEnd, H1ROP1AveEnd, H1REP1AveEnd"
   ]
  },
  {
   "cell_type": "code",
   "execution_count": 170,
   "metadata": {},
   "outputs": [
    {
     "data": {
      "text/plain": [
       "2489.5491108372808"
      ]
     },
     "execution_count": 170,
     "metadata": {},
     "output_type": "execute_result"
    }
   ],
   "source": [
    "H1DstoP1AveEnd = H1PreP1AveEnd - ( H1AETP1AveEnd + H1ROP1AveEnd + H1REP1AveEnd )\n",
    "H1DstoP1AveEnd"
   ]
  },
  {
   "cell_type": "code",
   "execution_count": 171,
   "metadata": {},
   "outputs": [],
   "source": [
    "H1AETP1AveEnd =  H1AETP1AveEnd + H1DstoP1AveEnd"
   ]
  },
  {
   "cell_type": "code",
   "execution_count": 172,
   "metadata": {},
   "outputs": [
    {
     "data": {
      "text/plain": [
       "(6963409.611105334, 5389004.51388535, 152868.98461944045, 1421536.1126005433)"
      ]
     },
     "execution_count": 172,
     "metadata": {},
     "output_type": "execute_result"
    }
   ],
   "source": [
    "H1PreP1AveEnd, H1AETP1AveEnd, H1ROP1AveEnd, H1REP1AveEnd"
   ]
  },
  {
   "cell_type": "code",
   "execution_count": 173,
   "metadata": {},
   "outputs": [
    {
     "data": {
      "text/plain": [
       "([<matplotlib.patches.Wedge at 0x2c9a5210ac8>,\n",
       "  <matplotlib.patches.Wedge at 0x2c9cca47248>,\n",
       "  <matplotlib.patches.Wedge at 0x2c9f281c908>],\n",
       " [Text(-0.7172709289733942, -0.8339798645348965, 'AET'),\n",
       "  Text(1.0736894748920196, 0.2391462136562057, 'Runoff'),\n",
       "  Text(0.6580934327212129, 0.8814267035943548, 'Recharge')],\n",
       " [Text(-0.39123868853094224, -0.45489810792812524, '77.4%'),\n",
       "  Text(0.5856488044865561, 0.13044338926702126, '2.2%'),\n",
       "  Text(0.3589600542115707, 0.4807782019605571, '20.4%')])"
      ]
     },
     "execution_count": 173,
     "metadata": {},
     "output_type": "execute_result"
    },
    {
     "data": {
      "image/png": "[encoded data removed]",
      "text/plain": [
       "<Figure size 432x288 with 1 Axes>"
      ]
     },
     "metadata": {},
     "output_type": "display_data"
    }
   ],
   "source": [
    "Fig1 = plt.figure()\n",
    "ax11 = Fig1.add_subplot(111)\n",
    "ax11.pie( [H1AETP1AveEnd, H1ROP1AveEnd, H1REP1AveEnd], labels=PieHdrs, autopct='%1.1f%%',\n",
    "          startangle=90, shadow=True )"
   ]
  },
  {
   "cell_type": "markdown",
   "metadata": {},
   "source": [
    "#### Projection Period 2: 2041-2070"
   ]
  },
  {
   "cell_type": "code",
   "execution_count": 174,
   "metadata": {},
   "outputs": [
    {
     "data": {
      "text/plain": [
       "(7131789.3315292895, 5428172.579370285, 259772.13848600845, 1442558.254359463)"
      ]
     },
     "execution_count": 174,
     "metadata": {},
     "output_type": "execute_result"
    }
   ],
   "source": [
    "H1PreP2AveEnd, H1AETP2AveEnd, H1ROP2AveEnd, H1REP2AveEnd"
   ]
  },
  {
   "cell_type": "code",
   "execution_count": 175,
   "metadata": {},
   "outputs": [
    {
     "data": {
      "text/plain": [
       "1286.35931353271"
      ]
     },
     "execution_count": 175,
     "metadata": {},
     "output_type": "execute_result"
    }
   ],
   "source": [
    "H1DstoP2AveEnd = H1PreP2AveEnd - ( H1AETP2AveEnd + H1ROP2AveEnd + H1REP2AveEnd )\n",
    "H1DstoP2AveEnd"
   ]
  },
  {
   "cell_type": "code",
   "execution_count": 176,
   "metadata": {},
   "outputs": [],
   "source": [
    "H1AETP2AveEnd =  H1AETP2AveEnd + H1DstoP2AveEnd"
   ]
  },
  {
   "cell_type": "code",
   "execution_count": 177,
   "metadata": {},
   "outputs": [
    {
     "data": {
      "text/plain": [
       "(7131789.3315292895, 5429458.938683818, 259772.13848600845, 1442558.254359463)"
      ]
     },
     "execution_count": 177,
     "metadata": {},
     "output_type": "execute_result"
    }
   ],
   "source": [
    "H1PreP2AveEnd, H1AETP2AveEnd, H1ROP2AveEnd, H1REP2AveEnd"
   ]
  },
  {
   "cell_type": "code",
   "execution_count": 178,
   "metadata": {},
   "outputs": [
    {
     "data": {
      "text/plain": [
       "([<matplotlib.patches.Wedge at 0x2c9ba8fa948>,\n",
       "  <matplotlib.patches.Wedge at 0x2c9a52ce188>,\n",
       "  <matplotlib.patches.Wedge at 0x2c9a6511e48>],\n",
       " [Text(-0.749710804076712, -0.8049432962952423, 'AET'),\n",
       "  Text(1.0811375816784992, 0.2028337483811975, 'Runoff'),\n",
       "  Text(0.6528979343374338, 0.8852820383007395, 'Recharge')],\n",
       " [Text(-0.40893316586002465, -0.43905997979740485, '76.1%'),\n",
       "  Text(0.5897114081882722, 0.11063659002610772, '3.6%'),\n",
       "  Text(0.35612614600223663, 0.4828811118004033, '20.2%')])"
      ]
     },
     "execution_count": 178,
     "metadata": {},
     "output_type": "execute_result"
    },
    {
     "data": {
      "image/png": "[encoded data removed]",
      "text/plain": [
       "<Figure size 432x288 with 1 Axes>"
      ]
     },
     "metadata": {},
     "output_type": "display_data"
    }
   ],
   "source": [
    "Fig1 = plt.figure()\n",
    "ax11 = Fig1.add_subplot(111)\n",
    "ax11.pie( [H1AETP2AveEnd, H1ROP2AveEnd, H1REP2AveEnd], labels=PieHdrs, autopct='%1.1f%%',\n",
    "          startangle=90, shadow=True )"
   ]
  },
  {
   "cell_type": "markdown",
   "metadata": {},
   "source": [
    "#### Projection Period 3: 2071-2099"
   ]
  },
  {
   "cell_type": "code",
   "execution_count": 179,
   "metadata": {},
   "outputs": [
    {
     "data": {
      "text/plain": [
       "(7220913.256978042, 5400711.333359386, 399995.06306478806, 1420186.299372661)"
      ]
     },
     "execution_count": 179,
     "metadata": {},
     "output_type": "execute_result"
    }
   ],
   "source": [
    "H1PreP3AveEnd, H1AETP3AveEnd, H1ROP3AveEnd, H1REP3AveEnd"
   ]
  },
  {
   "cell_type": "code",
   "execution_count": 180,
   "metadata": {},
   "outputs": [
    {
     "data": {
      "text/plain": [
       "20.561181207187474"
      ]
     },
     "execution_count": 180,
     "metadata": {},
     "output_type": "execute_result"
    }
   ],
   "source": [
    "H1DstoP3AveEnd = H1PreP3AveEnd - ( H1AETP3AveEnd + H1ROP3AveEnd + H1REP3AveEnd )\n",
    "H1DstoP3AveEnd"
   ]
  },
  {
   "cell_type": "code",
   "execution_count": 181,
   "metadata": {},
   "outputs": [],
   "source": [
    "H1AETP3AveEnd =  H1AETP3AveEnd + H1DstoP3AveEnd"
   ]
  },
  {
   "cell_type": "code",
   "execution_count": 182,
   "metadata": {},
   "outputs": [
    {
     "data": {
      "text/plain": [
       "(7220913.256978042, 5400731.894540593, 399995.06306478806, 1420186.299372661)"
      ]
     },
     "execution_count": 182,
     "metadata": {},
     "output_type": "execute_result"
    }
   ],
   "source": [
    "H1PreP3AveEnd, H1AETP3AveEnd, H1ROP3AveEnd, H1REP3AveEnd"
   ]
  },
  {
   "cell_type": "code",
   "execution_count": 183,
   "metadata": {},
   "outputs": [
    {
     "data": {
      "text/plain": [
       "([<matplotlib.patches.Wedge at 0x2c9ebc00488>,\n",
       "  <matplotlib.patches.Wedge at 0x2c9de4161c8>,\n",
       "  <matplotlib.patches.Wedge at 0x2c9e9883f88>],\n",
       " [Text(-0.782861103532396, -0.772740896145687, 'AET'),\n",
       "  Text(1.085771717755551, 0.1763512884051613, 'Runoff'),\n",
       "  Text(0.6372378284631243, 0.8966202930871027, 'Recharge')],\n",
       " [Text(-0.42701514738130686, -0.42149503426128376, '74.8%'),\n",
       "  Text(0.592239118775755, 0.09619161185736069, '5.5%'),\n",
       "  Text(0.347584270070795, 0.4890656144111469, '19.7%')])"
      ]
     },
     "execution_count": 183,
     "metadata": {},
     "output_type": "execute_result"
    },
    {
     "data": {
      "image/png": "[encoded data removed]",
      "text/plain": [
       "<Figure size 432x288 with 1 Axes>"
      ]
     },
     "metadata": {},
     "output_type": "display_data"
    }
   ],
   "source": [
    "Fig1 = plt.figure()\n",
    "ax11 = Fig1.add_subplot(111)\n",
    "ax11.pie( [H1AETP3AveEnd, H1ROP3AveEnd, H1REP3AveEnd], labels=PieHdrs, autopct='%1.1f%%',\n",
    "          startangle=90, shadow=True )"
   ]
  },
  {
   "cell_type": "code",
   "execution_count": 184,
   "metadata": {},
   "outputs": [
    {
     "data": {
      "text/plain": [
       "([<matplotlib.patches.Wedge at 0x2c980014f48>,\n",
       "  <matplotlib.patches.Wedge at 0x2c9800143c8>,\n",
       "  <matplotlib.patches.Wedge at 0x2c9c1486348>],\n",
       " [Text(-0.3788568686644211, -0.540432672093194, ''),\n",
       "  Text(0.6121808710488831, 0.24664667263482581, ''),\n",
       "  Text(0.35969499379734404, 0.5533710431863315, '')])"
      ]
     },
     "execution_count": 184,
     "metadata": {},
     "output_type": "execute_result"
    },
    {
     "data": {
      "image/png": "[encoded data removed]",
      "text/plain": [
       "<Figure size 432x288 with 1 Axes>"
      ]
     },
     "metadata": {},
     "output_type": "display_data"
    }
   ],
   "source": [
    "cmap = plt.get_cmap(\"tab20c\")\n",
    "outer_colors = cmap(np.arange(3)*4)\n",
    "size = 0.3\n",
    "Fig1 = plt.figure()\n",
    "ax11 = Fig1.add_subplot(111)\n",
    "ax11.pie( [H1AETP3AveEnd, H1ROP3AveEnd, H1REP3AveEnd], radius=1.5, colors=outer_colors,\n",
    "          wedgeprops=dict(width=size, edgecolor='w' ), startangle=90 )\n",
    "ax11.pie( [H1AETP2AveEnd, H1ROP2AveEnd, H1REP2AveEnd], radius=(1.5 - (1.0*size)), \n",
    "          colors=outer_colors, wedgeprops=dict(width=size, edgecolor='w' ), startangle=90 )\n",
    "ax11.pie( [H1AETP1AveEnd, H1ROP1AveEnd, H1REP1AveEnd], radius=(1.5 - (2.0*size)), \n",
    "          colors=outer_colors, wedgeprops=dict(width=size, edgecolor='w' ), startangle=90 )\n",
    "ax11.pie( [H1AETD1AveEnd, H1ROD1AveEnd, H1RED1AveEnd], radius=(1.5 - (3.0*size)), \n",
    "          colors=outer_colors, wedgeprops=dict(width=size, edgecolor='w' ), startangle=90 )"
   ]
  },
  {
   "cell_type": "code",
   "execution_count": null,
   "metadata": {},
   "outputs": [],
   "source": []
  }
 ],
 "metadata": {
  "kernelspec": {
   "display_name": "Python 3",
   "language": "python",
   "name": "python3"
  },
  "language_info": {
   "codemirror_mode": {
    "name": "ipython",
    "version": 3
   },
   "file_extension": ".py",
   "mimetype": "text/x-python",
   "name": "python",
   "nbconvert_exporter": "python",
   "pygments_lexer": "ipython3",
   "version": "3.8.5"
  }
 },
 "nbformat": 4,
 "nbformat_minor": 2
}
