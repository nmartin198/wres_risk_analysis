{
 "cells": [
  {
   "cell_type": "markdown",
   "metadata": {},
   "source": [
    "# mHSP2 Basins: Compare HRU and Reach Results"
   ]
  },
  {
   "cell_type": "markdown",
   "metadata": {},
   "source": [
    "Compare $\\Delta$ water budget component results between the two scenarios.\n",
    "\n",
    "1. Historical Conditions\n",
    "2. Development Scenario\n"
   ]
  },
  {
   "cell_type": "markdown",
   "metadata": {},
   "source": [
    "## Parameters and Imports"
   ]
  },
  {
   "cell_type": "code",
   "execution_count": 1,
   "metadata": {},
   "outputs": [],
   "source": [
    "%matplotlib inline"
   ]
  },
  {
   "cell_type": "code",
   "execution_count": 2,
   "metadata": {},
   "outputs": [],
   "source": [
    "from IPython.display import display, HTML\n",
    "import numpy as np\n",
    "import pandas as pd\n",
    "import datetime as dt\n",
    "import matplotlib as mpl\n",
    "import matplotlib.pyplot as plt\n",
    "import os\n",
    "import pickle\n",
    "import seaborn as sns\n",
    "from scipy.signal import butter, lfilter, freqz, sosfilt\n",
    "from copy import deepcopy"
   ]
  },
  {
   "cell_type": "code",
   "execution_count": 3,
   "metadata": {},
   "outputs": [
    {
     "data": {
      "text/plain": [
       "['C:\\\\Windows\\\\Fonts\\\\MATURASC.TTF',\n",
       " 'C:\\\\Windows\\\\Fonts\\\\FRAHVIT.TTF',\n",
       " 'C:\\\\Windows\\\\Fonts\\\\georgia.ttf',\n",
       " 'C:\\\\Windows\\\\Fonts\\\\Nirmala.ttf',\n",
       " 'C:\\\\Windows\\\\Fonts\\\\ITCEDSCR.TTF',\n",
       " 'C:\\\\Windows\\\\Fonts\\\\VIVALDII.TTF',\n",
       " 'C:\\\\Windows\\\\Fonts\\\\corbelli.ttf',\n",
       " 'C:\\\\Windows\\\\Fonts\\\\LFAX.TTF',\n",
       " 'C:\\\\Windows\\\\Fonts\\\\LTYPE.TTF',\n",
       " 'C:\\\\Windows\\\\Fonts\\\\SourceSansPro-SemiBoldItalic.ttf',\n",
       " 'C:\\\\Windows\\\\Fonts\\\\REFSPCL.TTF',\n",
       " 'C:\\\\Windows\\\\Fonts\\\\NIAGENG.TTF',\n",
       " 'C:\\\\Windows\\\\Fonts\\\\CALIST.TTF',\n",
       " 'C:\\\\Windows\\\\Fonts\\\\ARIALNBI.TTF',\n",
       " 'C:\\\\Windows\\\\Fonts\\\\CENTURY.TTF',\n",
       " 'C:\\\\Windows\\\\Fonts\\\\PARCHM.TTF',\n",
       " 'C:\\\\Windows\\\\Fonts\\\\GIGI.TTF',\n",
       " 'C:\\\\Windows\\\\Fonts\\\\ariblk.ttf',\n",
       " 'C:\\\\Windows\\\\Fonts\\\\KUNSTLER.TTF',\n",
       " 'C:\\\\Windows\\\\Fonts\\\\ANTQUAI.TTF',\n",
       " 'C:\\\\Windows\\\\Fonts\\\\lucon.ttf',\n",
       " 'C:\\\\Windows\\\\Fonts\\\\TCM_____.TTF',\n",
       " 'C:\\\\Windows\\\\Fonts\\\\LSANSD.TTF',\n",
       " 'C:\\\\Windows\\\\Fonts\\\\GOTHIC.TTF',\n",
       " 'C:\\\\Windows\\\\Fonts\\\\cambriaz.ttf',\n",
       " 'C:\\\\Windows\\\\Fonts\\\\PAPYRUS.TTF',\n",
       " 'C:\\\\Windows\\\\Fonts\\\\HTOWERTI.TTF',\n",
       " 'C:\\\\Windows\\\\Fonts\\\\LCALLIG.TTF',\n",
       " 'C:\\\\Windows\\\\Fonts\\\\comici.ttf',\n",
       " 'C:\\\\Windows\\\\Fonts\\\\LBRITEDI.TTF',\n",
       " 'C:\\\\Windows\\\\Fonts\\\\CALIFR.TTF',\n",
       " 'C:\\\\Windows\\\\Fonts\\\\CALIFI.TTF',\n",
       " 'C:\\\\Windows\\\\Fonts\\\\constani.ttf',\n",
       " 'C:\\\\Windows\\\\Fonts\\\\trebucbi.ttf',\n",
       " 'C:\\\\Windows\\\\Fonts\\\\COPRGTL.TTF',\n",
       " 'C:\\\\Windows\\\\Fonts\\\\courbi.ttf',\n",
       " 'C:\\\\Windows\\\\Fonts\\\\BOD_CB.TTF',\n",
       " 'C:\\\\Windows\\\\Fonts\\\\timesi.ttf',\n",
       " 'C:\\\\Windows\\\\Fonts\\\\Candarab.ttf',\n",
       " 'C:\\\\Windows\\\\Fonts\\\\SNAP____.TTF',\n",
       " 'C:\\\\Windows\\\\Fonts\\\\msyi.ttf',\n",
       " 'C:\\\\Windows\\\\Fonts\\\\Candarali.ttf',\n",
       " 'C:\\\\Windows\\\\Fonts\\\\DUBAI-BOLD.TTF',\n",
       " 'C:\\\\Windows\\\\Fonts\\\\georgiaz.ttf',\n",
       " 'C:\\\\Windows\\\\Fonts\\\\PERI____.TTF',\n",
       " 'C:\\\\Windows\\\\Fonts\\\\SCHLBKBI.TTF',\n",
       " 'C:\\\\Windows\\\\Fonts\\\\FRADMCN.TTF',\n",
       " 'C:\\\\Windows\\\\Fonts\\\\SourceSansPro-ExtraLightItalic.ttf',\n",
       " 'C:\\\\Windows\\\\Fonts\\\\GIL_____.TTF',\n",
       " 'C:\\\\Windows\\\\Fonts\\\\GOUDOSB.TTF',\n",
       " 'C:\\\\Windows\\\\Fonts\\\\segoeuil.ttf',\n",
       " 'C:\\\\Windows\\\\Fonts\\\\LEELAWDB.TTF',\n",
       " 'C:\\\\Windows\\\\Fonts\\\\GILSANUB.TTF',\n",
       " 'C:\\\\Windows\\\\Fonts\\\\ONYX.TTF',\n",
       " 'C:\\\\Windows\\\\Fonts\\\\SCHLBKB.TTF',\n",
       " 'C:\\\\Windows\\\\Fonts\\\\msyh.ttc',\n",
       " 'C:\\\\Windows\\\\Fonts\\\\CALISTB.TTF',\n",
       " 'C:\\\\Windows\\\\Fonts\\\\VINERITC.TTF',\n",
       " 'C:\\\\Windows\\\\Fonts\\\\BOD_CR.TTF',\n",
       " 'C:\\\\Windows\\\\Fonts\\\\seguisym.ttf',\n",
       " 'C:\\\\Windows\\\\Fonts\\\\LFAXDI.TTF',\n",
       " 'C:\\\\Windows\\\\Fonts\\\\FRAMDCN.TTF',\n",
       " 'C:\\\\Windows\\\\Fonts\\\\mmrtext.ttf',\n",
       " 'C:\\\\Windows\\\\Fonts\\\\corbeli.ttf',\n",
       " 'C:\\\\Windows\\\\Fonts\\\\SCRIPTBL.TTF',\n",
       " 'C:\\\\Windows\\\\Fonts\\\\JUICE___.TTF',\n",
       " 'C:\\\\Windows\\\\Fonts\\\\CASTELAR.TTF',\n",
       " 'C:\\\\Windows\\\\Fonts\\\\MOD20.TTF',\n",
       " 'C:\\\\Windows\\\\Fonts\\\\cour.ttf',\n",
       " 'C:\\\\Windows\\\\Fonts\\\\LBRITED.TTF',\n",
       " 'C:\\\\Windows\\\\Fonts\\\\CENTAUR.TTF',\n",
       " 'C:\\\\Windows\\\\Fonts\\\\RAVIE.TTF',\n",
       " 'C:\\\\Windows\\\\Fonts\\\\segoeuib.ttf',\n",
       " 'C:\\\\Windows\\\\Fonts\\\\palab.ttf',\n",
       " 'C:\\\\Windows\\\\Fonts\\\\ntailub.ttf',\n",
       " 'C:\\\\Windows\\\\Fonts\\\\HARLOWSI.TTF',\n",
       " 'C:\\\\Windows\\\\Fonts\\\\palai.ttf',\n",
       " 'C:\\\\Windows\\\\Fonts\\\\segoesc.ttf',\n",
       " 'C:\\\\Windows\\\\Fonts\\\\VLADIMIR.TTF',\n",
       " 'C:\\\\Windows\\\\Fonts\\\\BRLNSR.TTF',\n",
       " 'C:\\\\Windows\\\\Fonts\\\\taile.ttf',\n",
       " 'C:\\\\Windows\\\\Fonts\\\\PERB____.TTF',\n",
       " 'C:\\\\Windows\\\\Fonts\\\\BOD_BLAI.TTF',\n",
       " 'C:\\\\Windows\\\\Fonts\\\\corbell.ttf',\n",
       " 'C:\\\\Windows\\\\Fonts\\\\ROCC____.TTF',\n",
       " 'C:\\\\Windows\\\\Fonts\\\\TCCM____.TTF',\n",
       " 'C:\\\\Windows\\\\Fonts\\\\CURLZ___.TTF',\n",
       " 'C:\\\\Windows\\\\Fonts\\\\FRABKIT.TTF',\n",
       " 'C:\\\\Windows\\\\Fonts\\\\PERTIBD.TTF',\n",
       " 'C:\\\\Windows\\\\Fonts\\\\ERASMD.TTF',\n",
       " 'C:\\\\Windows\\\\Fonts\\\\FORTE.TTF',\n",
       " 'C:\\\\Windows\\\\Fonts\\\\gadugib.ttf',\n",
       " 'C:\\\\Windows\\\\Fonts\\\\NirmalaB.ttf',\n",
       " 'C:\\\\Windows\\\\Fonts\\\\calibrili.ttf',\n",
       " 'C:\\\\Windows\\\\Fonts\\\\BOD_CI.TTF',\n",
       " 'C:\\\\Windows\\\\Fonts\\\\georgiai.ttf',\n",
       " 'C:\\\\Windows\\\\Fonts\\\\ROCKBI.TTF',\n",
       " 'C:\\\\Windows\\\\Fonts\\\\ELEPHNT.TTF',\n",
       " 'C:\\\\Windows\\\\Fonts\\\\YuGothB.ttc',\n",
       " 'C:\\\\Windows\\\\Fonts\\\\MISTRAL.TTF',\n",
       " 'C:\\\\Windows\\\\Fonts\\\\calibril.ttf',\n",
       " 'C:\\\\Windows\\\\Fonts\\\\ARLRDBD.TTF',\n",
       " 'C:\\\\Windows\\\\Fonts\\\\MSUIGHUB.TTF',\n",
       " 'C:\\\\Windows\\\\Fonts\\\\BSSYM7.TTF',\n",
       " 'C:\\\\Windows\\\\Fonts\\\\BOD_BI.TTF',\n",
       " 'C:\\\\Windows\\\\Fonts\\\\TCCEB.TTF',\n",
       " 'C:\\\\Windows\\\\Fonts\\\\GOTHICI.TTF',\n",
       " 'C:\\\\Windows\\\\Fonts\\\\ARIALNB.TTF',\n",
       " 'C:\\\\Windows\\\\Fonts\\\\courbd.ttf',\n",
       " 'C:\\\\Windows\\\\Fonts\\\\OLDENGL.TTF',\n",
       " 'C:\\\\Windows\\\\Fonts\\\\BRADHITC.TTF',\n",
       " 'C:\\\\Windows\\\\Fonts\\\\FTLTLT.TTF',\n",
       " 'C:\\\\Windows\\\\Fonts\\\\LTYPEB.TTF',\n",
       " 'C:\\\\Windows\\\\Fonts\\\\SitkaB.ttc',\n",
       " 'C:\\\\Windows\\\\Fonts\\\\LFAXI.TTF',\n",
       " 'C:\\\\Windows\\\\Fonts\\\\corbelb.ttf',\n",
       " 'C:\\\\Windows\\\\Fonts\\\\WINGDNG2.TTF',\n",
       " 'C:\\\\Windows\\\\Fonts\\\\FELIXTI.TTF',\n",
       " 'C:\\\\Windows\\\\Fonts\\\\constan.ttf',\n",
       " 'C:\\\\Windows\\\\Fonts\\\\GARA.TTF',\n",
       " 'C:\\\\Windows\\\\Fonts\\\\CALIFB.TTF',\n",
       " 'C:\\\\Windows\\\\Fonts\\\\Candarai.ttf',\n",
       " 'C:\\\\Windows\\\\Fonts\\\\BOOKOSI.TTF',\n",
       " 'C:\\\\Windows\\\\Fonts\\\\NIAGSOL.TTF',\n",
       " 'C:\\\\Windows\\\\Fonts\\\\FREESCPT.TTF',\n",
       " 'C:\\\\Windows\\\\Fonts\\\\INFROMAN.TTF',\n",
       " 'C:\\\\Windows\\\\Fonts\\\\timesbd.ttf',\n",
       " 'C:\\\\Windows\\\\Fonts\\\\FRSCRIPT.TTF',\n",
       " 'C:\\\\Windows\\\\Fonts\\\\BROADW.TTF',\n",
       " 'C:\\\\Windows\\\\Fonts\\\\ENGR.TTF',\n",
       " 'C:\\\\Windows\\\\Fonts\\\\calibrii.ttf',\n",
       " 'C:\\\\Windows\\\\Fonts\\\\LTYPEO.TTF',\n",
       " 'C:\\\\Windows\\\\Fonts\\\\LeelawUI.ttf',\n",
       " 'C:\\\\Windows\\\\Fonts\\\\CALISTBI.TTF',\n",
       " 'C:\\\\Windows\\\\Fonts\\\\PRISTINA.TTF',\n",
       " 'C:\\\\Windows\\\\Fonts\\\\segmdl2.ttf',\n",
       " 'C:\\\\Windows\\\\Fonts\\\\ebrimabd.ttf',\n",
       " 'C:\\\\Windows\\\\Fonts\\\\ELEPHNTI.TTF',\n",
       " 'C:\\\\Windows\\\\Fonts\\\\WINGDNG3.TTF',\n",
       " 'C:\\\\Windows\\\\Fonts\\\\Inkfree.ttf',\n",
       " 'C:\\\\Windows\\\\Fonts\\\\BELLI.TTF',\n",
       " 'C:\\\\Windows\\\\Fonts\\\\simsunb.ttf',\n",
       " 'C:\\\\Windows\\\\Fonts\\\\ARIALN.TTF',\n",
       " 'C:\\\\Windows\\\\Fonts\\\\SitkaI.ttc',\n",
       " 'C:\\\\Windows\\\\Fonts\\\\verdanai.ttf',\n",
       " 'C:\\\\Windows\\\\Fonts\\\\msjh.ttc',\n",
       " 'C:\\\\Windows\\\\Fonts\\\\palabi.ttf',\n",
       " 'C:\\\\Windows\\\\Fonts\\\\IMPRISHA.TTF',\n",
       " 'C:\\\\Windows\\\\Fonts\\\\verdanab.ttf',\n",
       " 'C:\\\\Windows\\\\Fonts\\\\times.ttf',\n",
       " 'C:\\\\Windows\\\\Fonts\\\\ntailu.ttf',\n",
       " 'C:\\\\Windows\\\\Fonts\\\\segoeuiz.ttf',\n",
       " 'C:\\\\Windows\\\\Fonts\\\\calibri.ttf',\n",
       " 'C:\\\\Windows\\\\Fonts\\\\LEELAWAD.TTF',\n",
       " 'C:\\\\Windows\\\\Fonts\\\\segoeui.ttf',\n",
       " 'C:\\\\Windows\\\\Fonts\\\\tahomabd.ttf',\n",
       " 'C:\\\\Windows\\\\Fonts\\\\ERASDEMI.TTF',\n",
       " 'C:\\\\Windows\\\\Fonts\\\\GOUDOS.TTF',\n",
       " 'C:\\\\Windows\\\\Fonts\\\\MAIAN.TTF',\n",
       " 'C:\\\\Windows\\\\Fonts\\\\YuGothR.ttc',\n",
       " 'C:\\\\Windows\\\\Fonts\\\\SourceSansPro-Light.ttf',\n",
       " 'C:\\\\Windows\\\\Fonts\\\\seguiemj.ttf',\n",
       " 'C:\\\\Windows\\\\Fonts\\\\GARABD.TTF',\n",
       " 'C:\\\\Windows\\\\Fonts\\\\AGENCYB.TTF',\n",
       " 'C:\\\\Windows\\\\Fonts\\\\SourceSansPro-Bold.ttf',\n",
       " 'C:\\\\Windows\\\\Fonts\\\\Candaral.ttf',\n",
       " 'C:\\\\Windows\\\\Fonts\\\\arialbd.ttf',\n",
       " 'C:\\\\Windows\\\\Fonts\\\\HARNGTON.TTF',\n",
       " 'C:\\\\Windows\\\\Fonts\\\\segoepr.ttf',\n",
       " 'C:\\\\Windows\\\\Fonts\\\\GOUDYSTO.TTF',\n",
       " 'C:\\\\Windows\\\\Fonts\\\\segoescb.ttf',\n",
       " 'C:\\\\Windows\\\\Fonts\\\\trebucbd.ttf',\n",
       " 'C:\\\\Windows\\\\Fonts\\\\LBRITE.TTF',\n",
       " 'C:\\\\Windows\\\\Fonts\\\\seguibl.ttf',\n",
       " 'C:\\\\Windows\\\\Fonts\\\\SourceSansPro-BoldItalic.ttf',\n",
       " 'C:\\\\Windows\\\\Fonts\\\\YuGothM.ttc',\n",
       " 'C:\\\\Windows\\\\Fonts\\\\CENSCBK.TTF',\n",
       " 'C:\\\\Windows\\\\Fonts\\\\TEMPSITC.TTF',\n",
       " 'C:\\\\Windows\\\\Fonts\\\\consolab.ttf',\n",
       " 'C:\\\\Windows\\\\Fonts\\\\malgun.ttf',\n",
       " 'C:\\\\Windows\\\\Fonts\\\\msyhbd.ttc',\n",
       " 'C:\\\\Windows\\\\Fonts\\\\verdana.ttf',\n",
       " 'C:\\\\Windows\\\\Fonts\\\\DUBAI-REGULAR.TTF',\n",
       " 'C:\\\\Windows\\\\Fonts\\\\LFAXD.TTF',\n",
       " 'C:\\\\Windows\\\\Fonts\\\\TCBI____.TTF',\n",
       " 'C:\\\\Windows\\\\Fonts\\\\BOOKOSBI.TTF',\n",
       " 'C:\\\\Windows\\\\Fonts\\\\HTOWERT.TTF',\n",
       " 'C:\\\\Windows\\\\Fonts\\\\segoeprb.ttf',\n",
       " 'C:\\\\Windows\\\\Fonts\\\\segoeuii.ttf',\n",
       " 'C:\\\\Windows\\\\Fonts\\\\BRLNSB.TTF',\n",
       " 'C:\\\\Windows\\\\Fonts\\\\COOPBL.TTF',\n",
       " 'C:\\\\Windows\\\\Fonts\\\\GILLUBCD.TTF',\n",
       " 'C:\\\\Windows\\\\Fonts\\\\LSANS.TTF',\n",
       " 'C:\\\\Windows\\\\Fonts\\\\LSANSI.TTF',\n",
       " 'C:\\\\Windows\\\\Fonts\\\\GILBI___.TTF',\n",
       " 'C:\\\\Windows\\\\Fonts\\\\ARIALNI.TTF',\n",
       " 'C:\\\\Windows\\\\Fonts\\\\AGENCYR.TTF',\n",
       " 'C:\\\\Windows\\\\Fonts\\\\SourceSansPro-SemiBold.ttf',\n",
       " 'C:\\\\Windows\\\\Fonts\\\\OUTLOOK.TTF',\n",
       " 'C:\\\\Windows\\\\Fonts\\\\calibriz.ttf',\n",
       " 'C:\\\\Windows\\\\Fonts\\\\SourceSansPro-Italic.ttf',\n",
       " 'C:\\\\Windows\\\\Fonts\\\\constanb.ttf',\n",
       " 'C:\\\\Windows\\\\Fonts\\\\seguisb.ttf',\n",
       " 'C:\\\\Windows\\\\Fonts\\\\symbol.ttf',\n",
       " 'C:\\\\Windows\\\\Fonts\\\\malgunsl.ttf',\n",
       " 'C:\\\\Windows\\\\Fonts\\\\MTCORSVA.TTF',\n",
       " 'C:\\\\Windows\\\\Fonts\\\\LATINWD.TTF',\n",
       " 'C:\\\\Windows\\\\Fonts\\\\GILI____.TTF',\n",
       " 'C:\\\\Windows\\\\Fonts\\\\POORICH.TTF',\n",
       " 'C:\\\\Windows\\\\Fonts\\\\BASKVILL.TTF',\n",
       " 'C:\\\\Windows\\\\Fonts\\\\seguili.ttf',\n",
       " 'C:\\\\Windows\\\\Fonts\\\\seguibli.ttf',\n",
       " 'C:\\\\Windows\\\\Fonts\\\\BOD_B.TTF',\n",
       " 'C:\\\\Windows\\\\Fonts\\\\GOUDOSI.TTF',\n",
       " 'C:\\\\Windows\\\\Fonts\\\\ROCK.TTF',\n",
       " 'C:\\\\Windows\\\\Fonts\\\\mmrtextb.ttf',\n",
       " 'C:\\\\Windows\\\\Fonts\\\\PLAYBILL.TTF',\n",
       " 'C:\\\\Windows\\\\Fonts\\\\Sitka.ttc',\n",
       " 'C:\\\\Windows\\\\Fonts\\\\FRAHV.TTF',\n",
       " 'C:\\\\Windows\\\\Fonts\\\\YuGothL.ttc',\n",
       " 'C:\\\\Windows\\\\Fonts\\\\SourceSansPro-Regular.ttf',\n",
       " 'C:\\\\Windows\\\\Fonts\\\\ANTQUAB.TTF',\n",
       " 'C:\\\\Windows\\\\Fonts\\\\l_10646.ttf',\n",
       " 'C:\\\\Windows\\\\Fonts\\\\calibrib.ttf',\n",
       " 'C:\\\\Windows\\\\Fonts\\\\verdanaz.ttf',\n",
       " 'C:\\\\Windows\\\\Fonts\\\\timesbi.ttf',\n",
       " 'C:\\\\Windows\\\\Fonts\\\\mingliub.ttc',\n",
       " 'C:\\\\Windows\\\\Fonts\\\\msjhbd.ttc',\n",
       " 'C:\\\\Windows\\\\Fonts\\\\arialbi.ttf',\n",
       " 'C:\\\\Windows\\\\Fonts\\\\PERTILI.TTF',\n",
       " 'C:\\\\Windows\\\\Fonts\\\\PER_____.TTF',\n",
       " 'C:\\\\Windows\\\\Fonts\\\\SourceSansPro-LightItalic.ttf',\n",
       " 'C:\\\\Windows\\\\Fonts\\\\SHOWG.TTF',\n",
       " 'C:\\\\Windows\\\\Fonts\\\\JOKERMAN.TTF',\n",
       " 'C:\\\\Windows\\\\Fonts\\\\ANTQUABI.TTF',\n",
       " 'C:\\\\Windows\\\\Fonts\\\\SCHLBKI.TTF',\n",
       " 'C:\\\\Windows\\\\Fonts\\\\COPRGTB.TTF',\n",
       " 'C:\\\\Windows\\\\Fonts\\\\LeelUIsl.ttf',\n",
       " 'C:\\\\Windows\\\\Fonts\\\\CALISTI.TTF',\n",
       " 'C:\\\\Windows\\\\Fonts\\\\LSANSDI.TTF',\n",
       " 'C:\\\\Windows\\\\Fonts\\\\ROCCB___.TTF',\n",
       " 'C:\\\\Windows\\\\Fonts\\\\DUBAI-LIGHT.TTF',\n",
       " 'C:\\\\Windows\\\\Fonts\\\\micross.ttf',\n",
       " 'C:\\\\Windows\\\\Fonts\\\\LBRITEI.TTF',\n",
       " 'C:\\\\Windows\\\\Fonts\\\\javatext.ttf',\n",
       " 'C:\\\\Windows\\\\Fonts\\\\GOTHICB.TTF',\n",
       " 'C:\\\\Windows\\\\Fonts\\\\taileb.ttf',\n",
       " 'C:\\\\Windows\\\\Fonts\\\\HATTEN.TTF',\n",
       " 'C:\\\\Windows\\\\Fonts\\\\seguisbi.ttf',\n",
       " 'C:\\\\Windows\\\\Fonts\\\\Candara.ttf',\n",
       " 'C:\\\\Windows\\\\Fonts\\\\BOD_R.TTF',\n",
       " 'C:\\\\Windows\\\\Fonts\\\\ROCKEB.TTF',\n",
       " 'C:\\\\Windows\\\\Fonts\\\\GOTHICBI.TTF',\n",
       " 'C:\\\\Windows\\\\Fonts\\\\COLONNA.TTF',\n",
       " 'C:\\\\Windows\\\\Fonts\\\\comic.ttf',\n",
       " 'C:\\\\Windows\\\\Fonts\\\\ITCKRIST.TTF',\n",
       " 'C:\\\\Windows\\\\Fonts\\\\msgothic.ttc',\n",
       " 'C:\\\\Windows\\\\Fonts\\\\BRLNSDB.TTF',\n",
       " 'C:\\\\Windows\\\\Fonts\\\\comicz.ttf',\n",
       " 'C:\\\\Windows\\\\Fonts\\\\MTEXTRA.TTF',\n",
       " 'C:\\\\Windows\\\\Fonts\\\\BELLB.TTF',\n",
       " 'C:\\\\Windows\\\\Fonts\\\\ariali.ttf',\n",
       " 'C:\\\\Windows\\\\Fonts\\\\ROCKB.TTF',\n",
       " 'C:\\\\Windows\\\\Fonts\\\\consola.ttf',\n",
       " 'C:\\\\Windows\\\\Fonts\\\\pala.ttf',\n",
       " 'C:\\\\Windows\\\\Fonts\\\\PERBI___.TTF',\n",
       " 'C:\\\\Windows\\\\Fonts\\\\BOD_PSTC.TTF',\n",
       " 'C:\\\\Windows\\\\Fonts\\\\consolaz.ttf',\n",
       " 'C:\\\\Windows\\\\Fonts\\\\BOOKOSB.TTF',\n",
       " 'C:\\\\Windows\\\\Fonts\\\\georgiab.ttf',\n",
       " 'C:\\\\Windows\\\\Fonts\\\\FRABK.TTF',\n",
       " 'C:\\\\Windows\\\\Fonts\\\\phagspa.ttf',\n",
       " 'C:\\\\Windows\\\\Fonts\\\\LTYPEBO.TTF',\n",
       " 'C:\\\\Windows\\\\Fonts\\\\arial.ttf',\n",
       " 'C:\\\\Windows\\\\Fonts\\\\STENCIL.TTF',\n",
       " 'C:\\\\Windows\\\\Fonts\\\\SitkaZ.ttc',\n",
       " 'C:\\\\Windows\\\\Fonts\\\\MSUIGHUR.TTF',\n",
       " 'C:\\\\Windows\\\\Fonts\\\\TCB_____.TTF',\n",
       " 'C:\\\\Windows\\\\Fonts\\\\constanz.ttf',\n",
       " 'C:\\\\Windows\\\\Fonts\\\\sylfaen.ttf',\n",
       " 'C:\\\\Windows\\\\Fonts\\\\cambriai.ttf',\n",
       " 'C:\\\\Windows\\\\Fonts\\\\framd.ttf',\n",
       " 'C:\\\\Windows\\\\Fonts\\\\cambria.ttc',\n",
       " 'C:\\\\Windows\\\\Fonts\\\\MAGNETOB.TTF',\n",
       " 'C:\\\\Windows\\\\Fonts\\\\gadugi.ttf',\n",
       " 'C:\\\\Windows\\\\Fonts\\\\BOOKOS.TTF',\n",
       " 'C:\\\\Windows\\\\Fonts\\\\trebucit.ttf',\n",
       " 'C:\\\\Windows\\\\Fonts\\\\SourceSansPro-ExtraLight.ttf',\n",
       " 'C:\\\\Windows\\\\Fonts\\\\holomdl2.ttf',\n",
       " 'C:\\\\Windows\\\\Fonts\\\\SourceSansPro-BlackItalic.ttf',\n",
       " 'C:\\\\Windows\\\\Fonts\\\\DUBAI-MEDIUM.TTF',\n",
       " 'C:\\\\Windows\\\\Fonts\\\\FRADMIT.TTF',\n",
       " 'C:\\\\Windows\\\\Fonts\\\\ERASLGHT.TTF',\n",
       " 'C:\\\\Windows\\\\Fonts\\\\trebuc.ttf',\n",
       " 'C:\\\\Windows\\\\Fonts\\\\BERNHC.TTF',\n",
       " 'C:\\\\Windows\\\\Fonts\\\\OCRAEXT.TTF',\n",
       " 'C:\\\\Windows\\\\Fonts\\\\ALGER.TTF',\n",
       " 'C:\\\\Windows\\\\Fonts\\\\msyhl.ttc',\n",
       " 'C:\\\\Windows\\\\Fonts\\\\RAGE.TTF',\n",
       " 'C:\\\\Windows\\\\Fonts\\\\SourceSansPro-Black.ttf',\n",
       " 'C:\\\\Windows\\\\Fonts\\\\FRADM.TTF',\n",
       " 'C:\\\\Windows\\\\Fonts\\\\GILC____.TTF',\n",
       " 'C:\\\\Windows\\\\Fonts\\\\ROCKI.TTF',\n",
       " 'C:\\\\Windows\\\\Fonts\\\\marlett.ttf',\n",
       " 'C:\\\\Windows\\\\Fonts\\\\comicbd.ttf',\n",
       " 'C:\\\\Windows\\\\Fonts\\\\consolai.ttf',\n",
       " 'C:\\\\Windows\\\\Fonts\\\\webdings.ttf',\n",
       " 'C:\\\\Windows\\\\Fonts\\\\BOD_I.TTF',\n",
       " 'C:\\\\Windows\\\\Fonts\\\\NirmalaS.ttf',\n",
       " 'C:\\\\Windows\\\\Fonts\\\\ebrima.ttf',\n",
       " 'C:\\\\Windows\\\\Fonts\\\\BRUSHSCI.TTF',\n",
       " 'C:\\\\Windows\\\\Fonts\\\\REFSAN.TTF',\n",
       " 'C:\\\\Windows\\\\Fonts\\\\GLECB.TTF',\n",
       " 'C:\\\\Windows\\\\Fonts\\\\seguisli.ttf',\n",
       " 'C:\\\\Windows\\\\Fonts\\\\himalaya.ttf',\n",
       " 'C:\\\\Windows\\\\Fonts\\\\corbel.ttf',\n",
       " 'C:\\\\Windows\\\\Fonts\\\\malgunbd.ttf',\n",
       " 'C:\\\\Windows\\\\Fonts\\\\TCCB____.TTF',\n",
       " 'C:\\\\Windows\\\\Fonts\\\\BELL.TTF',\n",
       " 'C:\\\\Windows\\\\Fonts\\\\wingding.ttf',\n",
       " 'C:\\\\Windows\\\\Fonts\\\\msjhl.ttc',\n",
       " 'C:\\\\Windows\\\\Fonts\\\\LHANDW.TTF',\n",
       " 'C:\\\\Windows\\\\Fonts\\\\TCMI____.TTF',\n",
       " 'C:\\\\Windows\\\\Fonts\\\\monbaiti.ttf',\n",
       " 'C:\\\\Windows\\\\Fonts\\\\GARAIT.TTF',\n",
       " 'C:\\\\Windows\\\\Fonts\\\\tahoma.ttf',\n",
       " 'C:\\\\Windows\\\\Fonts\\\\bahnschrift.ttf',\n",
       " 'C:\\\\Windows\\\\Fonts\\\\LeelaUIb.ttf',\n",
       " 'C:\\\\Windows\\\\Fonts\\\\ITCBLKAD.TTF',\n",
       " 'C:\\\\Windows\\\\Fonts\\\\simsun.ttc',\n",
       " 'C:\\\\Windows\\\\Fonts\\\\GILB____.TTF',\n",
       " 'C:\\\\Windows\\\\Fonts\\\\phagspab.ttf',\n",
       " 'C:\\\\Windows\\\\Fonts\\\\Candaraz.ttf',\n",
       " 'C:\\\\Windows\\\\Fonts\\\\corbelz.ttf',\n",
       " 'C:\\\\Windows\\\\Fonts\\\\Gabriola.ttf',\n",
       " 'C:\\\\Windows\\\\Fonts\\\\ERASBD.TTF',\n",
       " 'C:\\\\Windows\\\\Fonts\\\\segoeuisl.ttf',\n",
       " 'C:\\\\Windows\\\\Fonts\\\\BKANT.TTF',\n",
       " 'C:\\\\Windows\\\\Fonts\\\\CHILLER.TTF',\n",
       " 'C:\\\\Windows\\\\Fonts\\\\BOD_BLAR.TTF',\n",
       " 'C:\\\\Windows\\\\Fonts\\\\impact.ttf',\n",
       " 'C:\\\\Windows\\\\Fonts\\\\seguihis.ttf',\n",
       " 'C:\\\\Windows\\\\Fonts\\\\BRITANIC.TTF',\n",
       " 'C:\\\\Windows\\\\Fonts\\\\framdit.ttf',\n",
       " 'C:\\\\Windows\\\\Fonts\\\\BAUHS93.TTF',\n",
       " 'C:\\\\Windows\\\\Fonts\\\\PALSCRI.TTF',\n",
       " 'C:\\\\Windows\\\\Fonts\\\\mvboli.ttf',\n",
       " 'C:\\\\Windows\\\\Fonts\\\\cambriab.ttf',\n",
       " 'C:\\\\Windows\\\\Fonts\\\\couri.ttf',\n",
       " 'C:\\\\Windows\\\\Fonts\\\\BOD_CBI.TTF',\n",
       " 'C:\\\\Windows\\\\Fonts\\\\GLSNECB.TTF']"
      ]
     },
     "execution_count": 3,
     "metadata": {},
     "output_type": "execute_result"
    }
   ],
   "source": [
    "# to run if font not found\n",
    "import matplotlib.font_manager\n",
    "matplotlib.font_manager.findSystemFonts(fontpaths=None, fontext='ttf')"
   ]
  },
  {
   "cell_type": "code",
   "execution_count": 4,
   "metadata": {},
   "outputs": [],
   "source": [
    "# changes so Source Sans Pro used in plots and so fonts are not embedded as paths\n",
    "plt.rcParams['svg.fonttype'] = 'none'\n",
    "plt.rcParams['font.family'] = 'sans-serif'\n",
    "plt.rcParams['font.sans-serif'] = 'SourceSansPro-Regular'"
   ]
  },
  {
   "cell_type": "code",
   "execution_count": 5,
   "metadata": {},
   "outputs": [],
   "source": [
    "IN_DIR = r'C:\\Users\\nmart\\OneDrive\\CC_IRD\\Process_Results'\n",
    "BAS_SIM_ROOT = \"Del_%s_DCmHBas_HRUs_\"\n",
    "REG_SIM_ROOT = \"Del_%s_DCmH_HRUs_\"\n",
    "XLSX_ROOT = \"%s_ProcessMonthly_Stats.xlsx\""
   ]
  },
  {
   "cell_type": "code",
   "execution_count": 6,
   "metadata": {},
   "outputs": [],
   "source": [
    "OUT_DIR = r'C:\\Users\\nmart\\Documents\\CC_Plots'"
   ]
  },
  {
   "cell_type": "code",
   "execution_count": 7,
   "metadata": {},
   "outputs": [],
   "source": [
    "MultAFtoM3 = 1233.48\n",
    "ConvAFtoM3 = lambda af: af * MultAFtoM3"
   ]
  },
  {
   "cell_type": "code",
   "execution_count": 8,
   "metadata": {},
   "outputs": [
    {
     "data": {
      "text/plain": [
       "(12, 6.0, 0.25)"
      ]
     },
     "execution_count": 8,
     "metadata": {},
     "output_type": "execute_result"
    }
   ],
   "source": [
    "# Butterworth filter\n",
    "# functions from \n",
    "# https://stackoverflow.com/questions/25191620/creating-lowpass-filter-in-scipy-understanding-methods-and-units\n",
    "def butter_lowpass(cutoff, fs, order=5):\n",
    "    nyq = 0.5 * fs\n",
    "    normal_cutoff = cutoff / nyq\n",
    "    sos = butter(order, normal_cutoff, btype='lowpass', analog=False, output='sos' )\n",
    "    return sos\n",
    "\n",
    "def butter_lowpass_filter(data, cutoff, fs, order=5):\n",
    "    sos = butter_lowpass(cutoff, fs, order=order)\n",
    "    y = sosfilt(sos, data)\n",
    "    return y\n",
    "\n",
    "# definitions for Butterworth filtering\n",
    "FS = 12      # samples per year\n",
    "NYQ = 0.5 * FS\n",
    "CUTOFF = (1.0/4.0)   # cutoff rate in years\n",
    "FS, NYQ, CUTOFF"
   ]
  },
  {
   "cell_type": "code",
   "execution_count": 9,
   "metadata": {},
   "outputs": [],
   "source": [
    "# time periods\n",
    "TP_DICT = { 1 : [ dt.datetime(1981, 1, 1), dt.datetime(2010, 12, 31)],\n",
    "            2 : [ dt.datetime(2011, 1, 1), dt.datetime(2040, 12, 31)],\n",
    "            3 : [ dt.datetime(2041, 1, 1), dt.datetime(2070, 12, 31)],\n",
    "            4 : [ dt.datetime(2071, 1, 1), dt.datetime(2100, 12, 31)],}"
   ]
  },
  {
   "cell_type": "code",
   "execution_count": 10,
   "metadata": {},
   "outputs": [
    {
     "data": {
      "text/plain": [
       "101"
      ]
     },
     "execution_count": 10,
     "metadata": {},
     "output_type": "execute_result"
    }
   ],
   "source": [
    "OurQs = np.array( [ round( 0.01 * x, 2 ) for x in range(101) ], dtype=np.float32 )\n",
    "NumQs = len( OurQs )\n",
    "NumQs"
   ]
  },
  {
   "cell_type": "code",
   "execution_count": 11,
   "metadata": {},
   "outputs": [],
   "source": [
    "StatsHdsList = list()\n",
    "for iI in range(NumQs):\n",
    "    cQ = OurQs[iI]\n",
    "    Hdr = \"%d_ptile\" % round(cQ * 100.0)\n",
    "    StatsHdsList.append( Hdr )\n",
    "# end of for\n",
    "StatsHdsList.append( \"Average\" )\n",
    "StatsHdsList.append( \"Variance\" )\n",
    "StatsHdsList.append( \"Skew\" )\n",
    "StatsHdsList.append( \"Kurt\" )"
   ]
  },
  {
   "cell_type": "code",
   "execution_count": 12,
   "metadata": {},
   "outputs": [
    {
     "data": {
      "text/plain": [
       "105"
      ]
     },
     "execution_count": 12,
     "metadata": {},
     "output_type": "execute_result"
    }
   ],
   "source": [
    "NumHdrs = len( StatsHdsList )\n",
    "NumHdrs"
   ]
  },
  {
   "cell_type": "code",
   "execution_count": 13,
   "metadata": {},
   "outputs": [],
   "source": [
    "RdHds = deepcopy( StatsHdsList )\n",
    "RdHds.insert( 0, \"Date\" )"
   ]
  },
  {
   "cell_type": "markdown",
   "metadata": {},
   "source": [
    "## Load Results"
   ]
  },
  {
   "cell_type": "markdown",
   "metadata": {},
   "source": [
    "### HRU 1"
   ]
  },
  {
   "cell_type": "code",
   "execution_count": 14,
   "metadata": {},
   "outputs": [],
   "source": [
    "InFiler = os.path.normpath( os.path.join( IN_DIR, XLSX_ROOT % ( REG_SIM_ROOT % \"HR1\" ) ) )\n",
    "CCHR1_1_AET = pd.read_excel( InFiler, sheet_name=\"AET_1\", header=0, names=RdHds, index_col=0, parse_dates=True )\n",
    "CCHR1_2_AET = pd.read_excel( InFiler, sheet_name=\"AET_2\", header=0, names=RdHds, index_col=0, parse_dates=True )\n",
    "CCHR1_3_AET = pd.read_excel( InFiler, sheet_name=\"AET_3\", header=0, names=RdHds, index_col=0, parse_dates=True )\n",
    "CCHR1_4_AET = pd.read_excel( InFiler, sheet_name=\"AET_4\", header=0, names=RdHds, index_col=0, parse_dates=True )\n",
    "CCHR1_1_RO = pd.read_excel( InFiler, sheet_name=\"RO_1\", header=0, names=RdHds, index_col=0, parse_dates=True )\n",
    "CCHR1_2_RO = pd.read_excel( InFiler, sheet_name=\"RO_2\", header=0, names=RdHds, index_col=0, parse_dates=True )\n",
    "CCHR1_3_RO = pd.read_excel( InFiler, sheet_name=\"RO_3\", header=0, names=RdHds, index_col=0, parse_dates=True )\n",
    "CCHR1_4_RO = pd.read_excel( InFiler, sheet_name=\"RO_4\", header=0, names=RdHds, index_col=0, parse_dates=True )\n",
    "CCHR1_1_RE = pd.read_excel( InFiler, sheet_name=\"RE_1\", header=0, names=RdHds, index_col=0, parse_dates=True )\n",
    "CCHR1_2_RE = pd.read_excel( InFiler, sheet_name=\"RE_2\", header=0, names=RdHds, index_col=0, parse_dates=True )\n",
    "CCHR1_3_RE = pd.read_excel( InFiler, sheet_name=\"RE_3\", header=0, names=RdHds, index_col=0, parse_dates=True )\n",
    "CCHR1_4_RE = pd.read_excel( InFiler, sheet_name=\"RE_4\", header=0, names=RdHds, index_col=0, parse_dates=True )"
   ]
  },
  {
   "cell_type": "code",
   "execution_count": 15,
   "metadata": {},
   "outputs": [],
   "source": [
    "CCHR1_1_AET = CCHR1_1_AET * MultAFtoM3\n",
    "CCHR1_2_AET = CCHR1_2_AET * MultAFtoM3\n",
    "CCHR1_3_AET = CCHR1_3_AET * MultAFtoM3\n",
    "CCHR1_4_AET = CCHR1_4_AET * MultAFtoM3\n",
    "CCHR1_1_RO = CCHR1_1_RO * MultAFtoM3\n",
    "CCHR1_2_RO = CCHR1_2_RO * MultAFtoM3\n",
    "CCHR1_3_RO = CCHR1_3_RO * MultAFtoM3\n",
    "CCHR1_4_RO = CCHR1_4_RO * MultAFtoM3\n",
    "CCHR1_1_RE = CCHR1_1_RE * MultAFtoM3\n",
    "CCHR1_2_RE = CCHR1_2_RE * MultAFtoM3\n",
    "CCHR1_3_RE = CCHR1_3_RE * MultAFtoM3\n",
    "CCHR1_4_RE = CCHR1_4_RE * MultAFtoM3"
   ]
  },
  {
   "cell_type": "code",
   "execution_count": 16,
   "metadata": {},
   "outputs": [],
   "source": [
    "InFiler = os.path.normpath( os.path.join( IN_DIR, XLSX_ROOT % ( BAS_SIM_ROOT % \"HR1\" ) ) )\n",
    "BAHR1_1_AET = pd.read_excel( InFiler, sheet_name=\"AET_1\", header=0, names=RdHds, index_col=0, parse_dates=True )\n",
    "BAHR1_2_AET = pd.read_excel( InFiler, sheet_name=\"AET_2\", header=0, names=RdHds, index_col=0, parse_dates=True )\n",
    "BAHR1_3_AET = pd.read_excel( InFiler, sheet_name=\"AET_3\", header=0, names=RdHds, index_col=0, parse_dates=True )\n",
    "BAHR1_4_AET = pd.read_excel( InFiler, sheet_name=\"AET_4\", header=0, names=RdHds, index_col=0, parse_dates=True )\n",
    "BAHR1_1_RO = pd.read_excel( InFiler, sheet_name=\"RO_1\", header=0, names=RdHds, index_col=0, parse_dates=True )\n",
    "BAHR1_2_RO = pd.read_excel( InFiler, sheet_name=\"RO_2\", header=0, names=RdHds, index_col=0, parse_dates=True )\n",
    "BAHR1_3_RO = pd.read_excel( InFiler, sheet_name=\"RO_3\", header=0, names=RdHds, index_col=0, parse_dates=True )\n",
    "BAHR1_4_RO = pd.read_excel( InFiler, sheet_name=\"RO_4\", header=0, names=RdHds, index_col=0, parse_dates=True )\n",
    "BAHR1_1_RE = pd.read_excel( InFiler, sheet_name=\"RE_1\", header=0, names=RdHds, index_col=0, parse_dates=True )\n",
    "BAHR1_2_RE = pd.read_excel( InFiler, sheet_name=\"RE_2\", header=0, names=RdHds, index_col=0, parse_dates=True )\n",
    "BAHR1_3_RE = pd.read_excel( InFiler, sheet_name=\"RE_3\", header=0, names=RdHds, index_col=0, parse_dates=True )\n",
    "BAHR1_4_RE = pd.read_excel( InFiler, sheet_name=\"RE_4\", header=0, names=RdHds, index_col=0, parse_dates=True )"
   ]
  },
  {
   "cell_type": "code",
   "execution_count": 17,
   "metadata": {},
   "outputs": [],
   "source": [
    "BAHR1_1_AET = BAHR1_1_AET * MultAFtoM3\n",
    "BAHR1_2_AET = BAHR1_2_AET * MultAFtoM3\n",
    "BAHR1_3_AET = BAHR1_3_AET * MultAFtoM3\n",
    "BAHR1_4_AET = BAHR1_4_AET * MultAFtoM3\n",
    "BAHR1_1_RO = BAHR1_1_RO * MultAFtoM3\n",
    "BAHR1_2_RO = BAHR1_2_RO * MultAFtoM3\n",
    "BAHR1_3_RO = BAHR1_3_RO * MultAFtoM3\n",
    "BAHR1_4_RO = BAHR1_4_RO * MultAFtoM3\n",
    "BAHR1_1_RE = BAHR1_1_RE * MultAFtoM3\n",
    "BAHR1_2_RE = BAHR1_2_RE * MultAFtoM3\n",
    "BAHR1_3_RE = BAHR1_3_RE * MultAFtoM3\n",
    "BAHR1_4_RE = BAHR1_4_RE * MultAFtoM3"
   ]
  },
  {
   "cell_type": "markdown",
   "metadata": {},
   "source": [
    "Make continuous time series"
   ]
  },
  {
   "cell_type": "code",
   "execution_count": 18,
   "metadata": {},
   "outputs": [],
   "source": [
    "CCHR1_AET_DF = pd.concat( [CCHR1_1_AET, CCHR1_2_AET, CCHR1_3_AET, CCHR1_4_AET ])\n",
    "CCHR1_RO_DF = pd.concat( [CCHR1_1_RO, CCHR1_2_RO, CCHR1_3_RO, CCHR1_4_RO ])\n",
    "CCHR1_RE_DF = pd.concat( [CCHR1_1_RE, CCHR1_2_RE, CCHR1_3_RE, CCHR1_4_RE ])"
   ]
  },
  {
   "cell_type": "code",
   "execution_count": 19,
   "metadata": {},
   "outputs": [],
   "source": [
    "BAHR1_AET_DF = pd.concat( [BAHR1_1_AET, BAHR1_2_AET, BAHR1_3_AET, BAHR1_4_AET ])\n",
    "BAHR1_RO_DF = pd.concat( [BAHR1_1_RO, BAHR1_2_RO, BAHR1_3_RO, BAHR1_4_RO ])\n",
    "BAHR1_RE_DF = pd.concat( [BAHR1_1_RE, BAHR1_2_RE, BAHR1_3_RE, BAHR1_4_RE ])"
   ]
  },
  {
   "cell_type": "markdown",
   "metadata": {},
   "source": [
    "Make DateTime lists for filling"
   ]
  },
  {
   "cell_type": "code",
   "execution_count": 20,
   "metadata": {},
   "outputs": [],
   "source": [
    "ForTimeList = list( CCHR1_AET_DF.index.to_pydatetime() )\n",
    "BackDTList = deepcopy( ForTimeList )\n",
    "BackDTList = BackDTList[::-1]\n",
    "DTTimeList = deepcopy( ForTimeList )\n",
    "DTTimeList.extend( BackDTList )"
   ]
  },
  {
   "cell_type": "markdown",
   "metadata": {},
   "source": [
    "Butterworth filtering"
   ]
  },
  {
   "cell_type": "code",
   "execution_count": 21,
   "metadata": {},
   "outputs": [],
   "source": [
    "wAr = CCHR1_AET_DF[StatsHdsList[95]].to_numpy()\n",
    "CC_BFHR1_AET_95 = butter_lowpass_filter(wAr, CUTOFF, FS )\n",
    "wAr = CCHR1_AET_DF[StatsHdsList[5]].to_numpy()\n",
    "CC_BFHR1_AET_05 = butter_lowpass_filter(wAr, CUTOFF, FS )\n",
    "wAr = CCHR1_AET_DF[StatsHdsList[75]].to_numpy()\n",
    "CC_BFHR1_AET_75 = butter_lowpass_filter(wAr, CUTOFF, FS )\n",
    "wAr = CCHR1_AET_DF[StatsHdsList[25]].to_numpy()\n",
    "CC_BFHR1_AET_25 = butter_lowpass_filter(wAr, CUTOFF, FS )\n",
    "wAr = CCHR1_AET_DF[StatsHdsList[50]].to_numpy()\n",
    "CC_BFHR1_AET_Med = butter_lowpass_filter(wAr, CUTOFF, FS )\n",
    "wAr = CCHR1_AET_DF[StatsHdsList[101]].to_numpy()\n",
    "CC_BFHR1_AET_Ave = butter_lowpass_filter(wAr, CUTOFF, FS )"
   ]
  },
  {
   "cell_type": "code",
   "execution_count": 22,
   "metadata": {},
   "outputs": [],
   "source": [
    "wAr = CCHR1_RO_DF[StatsHdsList[95]].to_numpy()\n",
    "CC_BFHR1_RO_95 = butter_lowpass_filter(wAr, CUTOFF, FS )\n",
    "wAr = CCHR1_RO_DF[StatsHdsList[5]].to_numpy()\n",
    "CC_BFHR1_RO_05 = butter_lowpass_filter(wAr, CUTOFF, FS )\n",
    "wAr = CCHR1_RO_DF[StatsHdsList[75]].to_numpy()\n",
    "CC_BFHR1_RO_75 = butter_lowpass_filter(wAr, CUTOFF, FS )\n",
    "wAr = CCHR1_RO_DF[StatsHdsList[25]].to_numpy()\n",
    "CC_BFHR1_RO_25 = butter_lowpass_filter(wAr, CUTOFF, FS )\n",
    "wAr = CCHR1_RO_DF[StatsHdsList[50]].to_numpy()\n",
    "CC_BFHR1_RO_Med = butter_lowpass_filter(wAr, CUTOFF, FS )\n",
    "wAr = CCHR1_RO_DF[StatsHdsList[101]].to_numpy()\n",
    "CC_BFHR1_RO_Ave = butter_lowpass_filter(wAr, CUTOFF, FS )"
   ]
  },
  {
   "cell_type": "code",
   "execution_count": 23,
   "metadata": {},
   "outputs": [],
   "source": [
    "wAr = CCHR1_RE_DF[StatsHdsList[95]].to_numpy()\n",
    "CC_BFHR1_RE_95 = butter_lowpass_filter(wAr, CUTOFF, FS )\n",
    "wAr = CCHR1_RE_DF[StatsHdsList[5]].to_numpy()\n",
    "CC_BFHR1_RE_05 = butter_lowpass_filter(wAr, CUTOFF, FS )\n",
    "wAr = CCHR1_RE_DF[StatsHdsList[75]].to_numpy()\n",
    "CC_BFHR1_RE_75 = butter_lowpass_filter(wAr, CUTOFF, FS )\n",
    "wAr = CCHR1_RE_DF[StatsHdsList[25]].to_numpy()\n",
    "CC_BFHR1_RE_25 = butter_lowpass_filter(wAr, CUTOFF, FS )\n",
    "wAr = CCHR1_RE_DF[StatsHdsList[50]].to_numpy()\n",
    "CC_BFHR1_RE_Med = butter_lowpass_filter(wAr, CUTOFF, FS )\n",
    "wAr = CCHR1_RE_DF[StatsHdsList[101]].to_numpy()\n",
    "CC_BFHR1_RE_Ave = butter_lowpass_filter(wAr, CUTOFF, FS )"
   ]
  },
  {
   "cell_type": "code",
   "execution_count": 24,
   "metadata": {},
   "outputs": [],
   "source": [
    "wAr = BAHR1_AET_DF[StatsHdsList[95]].to_numpy()\n",
    "BA_BFHR1_AET_95 = butter_lowpass_filter(wAr, CUTOFF, FS )\n",
    "wAr = BAHR1_AET_DF[StatsHdsList[5]].to_numpy()\n",
    "BA_BFHR1_AET_05 = butter_lowpass_filter(wAr, CUTOFF, FS )\n",
    "wAr = BAHR1_AET_DF[StatsHdsList[75]].to_numpy()\n",
    "BA_BFHR1_AET_75 = butter_lowpass_filter(wAr, CUTOFF, FS )\n",
    "wAr = BAHR1_AET_DF[StatsHdsList[25]].to_numpy()\n",
    "BA_BFHR1_AET_25 = butter_lowpass_filter(wAr, CUTOFF, FS )\n",
    "wAr = BAHR1_AET_DF[StatsHdsList[50]].to_numpy()\n",
    "BA_BFHR1_AET_Med = butter_lowpass_filter(wAr, CUTOFF, FS )\n",
    "wAr = BAHR1_AET_DF[StatsHdsList[101]].to_numpy()\n",
    "BA_BFHR1_AET_Ave = butter_lowpass_filter(wAr, CUTOFF, FS )"
   ]
  },
  {
   "cell_type": "code",
   "execution_count": 25,
   "metadata": {},
   "outputs": [],
   "source": [
    "wAr = BAHR1_RO_DF[StatsHdsList[95]].to_numpy()\n",
    "BA_BFHR1_RO_95 = butter_lowpass_filter(wAr, CUTOFF, FS )\n",
    "wAr = BAHR1_RO_DF[StatsHdsList[5]].to_numpy()\n",
    "BA_BFHR1_RO_05 = butter_lowpass_filter(wAr, CUTOFF, FS )\n",
    "wAr = BAHR1_RO_DF[StatsHdsList[75]].to_numpy()\n",
    "BA_BFHR1_RO_75 = butter_lowpass_filter(wAr, CUTOFF, FS )\n",
    "wAr = BAHR1_RO_DF[StatsHdsList[25]].to_numpy()\n",
    "BA_BFHR1_RO_25 = butter_lowpass_filter(wAr, CUTOFF, FS )\n",
    "wAr = BAHR1_RO_DF[StatsHdsList[50]].to_numpy()\n",
    "BA_BFHR1_RO_Med = butter_lowpass_filter(wAr, CUTOFF, FS )\n",
    "wAr = BAHR1_RO_DF[StatsHdsList[101]].to_numpy()\n",
    "BA_BFHR1_RO_Ave = butter_lowpass_filter(wAr, CUTOFF, FS )"
   ]
  },
  {
   "cell_type": "code",
   "execution_count": 26,
   "metadata": {},
   "outputs": [],
   "source": [
    "wAr = BAHR1_RE_DF[StatsHdsList[95]].to_numpy()\n",
    "BA_BFHR1_RE_95 = butter_lowpass_filter(wAr, CUTOFF, FS )\n",
    "wAr = BAHR1_RE_DF[StatsHdsList[5]].to_numpy()\n",
    "BA_BFHR1_RE_05 = butter_lowpass_filter(wAr, CUTOFF, FS )\n",
    "wAr = BAHR1_RE_DF[StatsHdsList[75]].to_numpy()\n",
    "BA_BFHR1_RE_75 = butter_lowpass_filter(wAr, CUTOFF, FS )\n",
    "wAr = BAHR1_RE_DF[StatsHdsList[25]].to_numpy()\n",
    "BA_BFHR1_RE_25 = butter_lowpass_filter(wAr, CUTOFF, FS )\n",
    "wAr = BAHR1_RE_DF[StatsHdsList[50]].to_numpy()\n",
    "BA_BFHR1_RE_Med = butter_lowpass_filter(wAr, CUTOFF, FS )\n",
    "wAr = BAHR1_RE_DF[StatsHdsList[101]].to_numpy()\n",
    "BA_BFHR1_RE_Ave = butter_lowpass_filter(wAr, CUTOFF, FS )"
   ]
  },
  {
   "cell_type": "markdown",
   "metadata": {},
   "source": [
    "Make the polygons for fills"
   ]
  },
  {
   "cell_type": "code",
   "execution_count": 27,
   "metadata": {},
   "outputs": [],
   "source": [
    "CC_FlHR1_AET_90 = list( CC_BFHR1_AET_05 )\n",
    "BackDTList = list( CC_BFHR1_AET_95 )\n",
    "CC_BkFlHR1_AET_90 = BackDTList[::-1]\n",
    "CC_FlHR1_AET_90.extend( CC_BkFlHR1_AET_90 )\n",
    "CC_FlHR1_AET_IQR = list( CC_BFHR1_AET_25 )\n",
    "BackDTList = list( CC_BFHR1_AET_75 )\n",
    "CC_BkFlHR1_AET_IQR = BackDTList[::-1]\n",
    "CC_FlHR1_AET_IQR.extend( CC_BkFlHR1_AET_IQR )"
   ]
  },
  {
   "cell_type": "code",
   "execution_count": 28,
   "metadata": {},
   "outputs": [],
   "source": [
    "CC_FlHR1_RO_90 = list( CC_BFHR1_RO_05 )\n",
    "BackDTList = list( CC_BFHR1_RO_95 )\n",
    "CC_BkFlHR1_RO_90 = BackDTList[::-1]\n",
    "CC_FlHR1_RO_90.extend( CC_BkFlHR1_RO_90 )\n",
    "CC_FlHR1_RO_IQR = list( CC_BFHR1_RO_25 )\n",
    "BackDTList = list( CC_BFHR1_RO_75 )\n",
    "CC_BkFlHR1_RO_IQR = BackDTList[::-1]\n",
    "CC_FlHR1_RO_IQR.extend( CC_BkFlHR1_RO_IQR )"
   ]
  },
  {
   "cell_type": "code",
   "execution_count": 29,
   "metadata": {},
   "outputs": [],
   "source": [
    "CC_FlHR1_RE_90 = list( CC_BFHR1_RE_05 )\n",
    "BackDTList = list( CC_BFHR1_RE_95 )\n",
    "CC_BkFlHR1_RE_90 = BackDTList[::-1]\n",
    "CC_FlHR1_RE_90.extend( CC_BkFlHR1_RE_90 )\n",
    "CC_FlHR1_RE_IQR = list( CC_BFHR1_RE_25 )\n",
    "BackDTList = list( CC_BFHR1_RE_75 )\n",
    "CC_BkFlHR1_RE_IQR = BackDTList[::-1]\n",
    "CC_FlHR1_RE_IQR.extend( CC_BkFlHR1_RE_IQR )"
   ]
  },
  {
   "cell_type": "code",
   "execution_count": 30,
   "metadata": {},
   "outputs": [],
   "source": [
    "BA_FlHR1_AET_90 = list( BA_BFHR1_AET_05 )\n",
    "BackDTList = list( BA_BFHR1_AET_95 )\n",
    "BA_BkFlHR1_AET_90 = BackDTList[::-1]\n",
    "BA_FlHR1_AET_90.extend( BA_BkFlHR1_AET_90 )\n",
    "BA_FlHR1_AET_IQR = list( BA_BFHR1_AET_25 )\n",
    "BackDTList = list( BA_BFHR1_AET_75 )\n",
    "BA_BkFlHR1_AET_IQR = BackDTList[::-1]\n",
    "BA_FlHR1_AET_IQR.extend( BA_BkFlHR1_AET_IQR )"
   ]
  },
  {
   "cell_type": "code",
   "execution_count": 31,
   "metadata": {},
   "outputs": [],
   "source": [
    "BA_FlHR1_RO_90 = list( BA_BFHR1_RO_05 )\n",
    "BackDTList = list( BA_BFHR1_RO_95 )\n",
    "BA_BkFlHR1_RO_90 = BackDTList[::-1]\n",
    "BA_FlHR1_RO_90.extend( BA_BkFlHR1_RO_90 )\n",
    "BA_FlHR1_RO_IQR = list( BA_BFHR1_RO_25 )\n",
    "BackDTList = list( BA_BFHR1_RO_75 )\n",
    "BA_BkFlHR1_RO_IQR = BackDTList[::-1]\n",
    "BA_FlHR1_RO_IQR.extend( BA_BkFlHR1_RO_IQR )"
   ]
  },
  {
   "cell_type": "code",
   "execution_count": 32,
   "metadata": {},
   "outputs": [],
   "source": [
    "BA_FlHR1_RE_90 = list( BA_BFHR1_RE_05 )\n",
    "BackDTList = list( BA_BFHR1_RE_95 )\n",
    "BA_BkFlHR1_RE_90 = BackDTList[::-1]\n",
    "BA_FlHR1_RE_90.extend( BA_BkFlHR1_RE_90 )\n",
    "BA_FlHR1_RE_IQR = list( BA_BFHR1_RE_25 )\n",
    "BackDTList = list( BA_BFHR1_RE_75 )\n",
    "BA_BkFlHR1_RE_IQR = BackDTList[::-1]\n",
    "BA_FlHR1_RE_IQR.extend( BA_BkFlHR1_RE_IQR )"
   ]
  },
  {
   "cell_type": "markdown",
   "metadata": {},
   "source": [
    "#### Plots"
   ]
  },
  {
   "cell_type": "code",
   "execution_count": 33,
   "metadata": {},
   "outputs": [
    {
     "data": {
      "text/plain": [
       "(679888.7529721282, -1183866.855053598)"
      ]
     },
     "execution_count": 33,
     "metadata": {},
     "output_type": "execute_result"
    }
   ],
   "source": [
    "MaxAET = max( CC_BFHR1_AET_95.max(), BA_BFHR1_AET_95.max() )\n",
    "MinAET = min( CC_BFHR1_AET_05.min(), BA_BFHR1_AET_05.min() )\n",
    "MaxAET, MinAET"
   ]
  },
  {
   "cell_type": "code",
   "execution_count": 34,
   "metadata": {},
   "outputs": [],
   "source": [
    "MaxAET = 5000000\n",
    "MinAET = -3000000"
   ]
  },
  {
   "cell_type": "code",
   "execution_count": 35,
   "metadata": {},
   "outputs": [],
   "source": [
    "aetTicks = [ -2000000, -1000000, 0.0, 1000000, 2000000, 3000000, 4000000 ]"
   ]
  },
  {
   "cell_type": "code",
   "execution_count": 36,
   "metadata": {},
   "outputs": [
    {
     "data": {
      "text/plain": [
       "'C:\\\\Users\\\\nmart\\\\Documents\\\\CC_Plots\\\\Results_CompHR1_AETDelta.svg'"
      ]
     },
     "execution_count": 36,
     "metadata": {},
     "output_type": "execute_result"
    }
   ],
   "source": [
    "OutSVG = os.path.normpath( os.path.join( OUT_DIR, \"Results_CompHR1_AETDelta.svg\" ) )\n",
    "OutSVG"
   ]
  },
  {
   "cell_type": "code",
   "execution_count": 37,
   "metadata": {},
   "outputs": [
    {
     "data": {
      "text/plain": [
       "'C:\\\\Users\\\\nmart\\\\Documents\\\\CC_Plots\\\\Results_CompHR1_AETDelta.png'"
      ]
     },
     "execution_count": 37,
     "metadata": {},
     "output_type": "execute_result"
    }
   ],
   "source": [
    "OutPNG = os.path.normpath( os.path.join( OUT_DIR, \"Results_CompHR1_AETDelta.png\" ) )\n",
    "OutPNG"
   ]
  },
  {
   "cell_type": "code",
   "execution_count": 38,
   "metadata": {},
   "outputs": [
    {
     "name": "stderr",
     "output_type": "stream",
     "text": [
      "findfont: Font family ['sans-serif'] not found. Falling back to DejaVu Sans.\n",
      "findfont: Font family ['sans-serif'] not found. Falling back to DejaVu Sans.\n",
      "findfont: Font family ['sans-serif'] not found. Falling back to DejaVu Sans.\n",
      "findfont: Font family ['sans-serif'] not found. Falling back to DejaVu Sans.\n"
     ]
    },
    {
     "data": {
      "image/png": "[encoded data removed]",
      "text/plain": [
       "<Figure size 576x234 with 1 Axes>"
      ]
     },
     "metadata": {
      "needs_background": "light"
     },
     "output_type": "display_data"
    }
   ],
   "source": [
    "Fig1 = plt.figure()\n",
    "Fig1.set_size_inches(8.0, 3.25)\n",
    "ax11 = Fig1.add_subplot(111)\n",
    "ax11.plot( [TP_DICT[2][0], TP_DICT[2][0]], [MinAET, MaxAET], linestyle='-', zorder=3,\n",
    "           linewidth=2, color='xkcd:dark orange', label=\"Climate Normals Boundary\")\n",
    "ax11.plot( [TP_DICT[3][0], TP_DICT[3][0]], [MinAET, MaxAET], linestyle='-',\n",
    "           linewidth=2, color='xkcd:dark orange', zorder=3 )\n",
    "ax11.plot( [TP_DICT[4][0], TP_DICT[4][0]], [MinAET, MaxAET], linestyle='-',\n",
    "           linewidth=2, color='xkcd:dark orange', zorder=3 )\n",
    "cc90 = ax11.fill( DTTimeList, CC_FlHR1_AET_90, color='xkcd:sand', alpha=1.0, \n",
    "                  label=\"CC: 5–95th percentile range\", zorder=2)\n",
    "cc50 = ax11.fill( DTTimeList, CC_FlHR1_AET_IQR, color='xkcd:puce', alpha=1.0, \n",
    "                  label=\"CC: 25–75th percentile range\", zorder=2)\n",
    "ax11.plot( ForTimeList, CC_BFHR1_AET_Med, linestyle='-', zorder=4,\n",
    "           linewidth=2, color='xkcd:goldenrod', label='CC: Median' )\n",
    "ax11.plot( ForTimeList, CC_BFHR1_AET_Ave, linestyle=':', zorder=4,\n",
    "           linewidth=3, color='xkcd:terracotta', label='CC: Mean' )\n",
    "ba90 = ax11.fill( DTTimeList, BA_FlHR1_AET_90, color='xkcd:pastel blue', alpha=0.55, \n",
    "                  label=\"LULCCC: 5–95th percentile range\", zorder=2 )\n",
    "ba50 = ax11.fill( DTTimeList, BA_FlHR1_AET_IQR, color='xkcd:denim blue', alpha=0.55, \n",
    "                  label=\"LULCCC: 25–75th percentile range\", zorder=2 )\n",
    "ax11.plot( ForTimeList, BA_BFHR1_AET_Med, linestyle='-', zorder=4,\n",
    "           linewidth=2, color='xkcd:bright blue', label='LULCCC: Median' )\n",
    "ax11.plot( ForTimeList, BA_BFHR1_AET_Ave, linestyle=':', zorder=4,\n",
    "           linewidth=3, color='xkcd:cyan', label='LULCCC: Mean' )\n",
    "ax11.set_xticks( [ dt.datetime(2010, 1, 1), dt.datetime(2040, 1, 1), dt.datetime(2070, 1, 1),\n",
    "                  dt.datetime(2100, 1, 1) ] )\n",
    "ax11.set_xlim( (dt.datetime(2010, 1, 1), dt.datetime(2100, 1, 1)))\n",
    "ax11.set_yticks( aetTicks )\n",
    "ax11.set_ylim( (MinAET, MaxAET) )\n",
    "ax11.grid(True, axis='y', which='both')\n",
    "ax11.set_ylabel('Monthly AET $\\Delta$ ($m^{3}$)', fontsize=12 )\n",
    "ax11.legend( loc='upper center', fontsize=10, framealpha=1.0, ncol=2 )\n",
    "ax11.tick_params(axis='both', which='major', labelsize=11 )\n",
    "ax11.yaxis.set_major_formatter( mpl.ticker.StrMethodFormatter( \"{x:,.0E}\" ) )\n",
    "ax11.xaxis.set_major_formatter( mpl.dates.DateFormatter(\"%Y–%m–%d\") )\n",
    "Fig1.savefig( OutSVG )\n",
    "Fig1.savefig( OutPNG )"
   ]
  },
  {
   "cell_type": "code",
   "execution_count": 39,
   "metadata": {},
   "outputs": [
    {
     "data": {
      "text/plain": [
       "(4045613.90395436, -11182.04819858649)"
      ]
     },
     "execution_count": 39,
     "metadata": {},
     "output_type": "execute_result"
    }
   ],
   "source": [
    "MaxRO = max( CC_BFHR1_RO_95.max(), BA_BFHR1_RO_95.max() )\n",
    "MinRO = min( CC_BFHR1_RO_05.min(), BA_BFHR1_RO_05.min() )\n",
    "MaxRO, MinRO"
   ]
  },
  {
   "cell_type": "code",
   "execution_count": 40,
   "metadata": {},
   "outputs": [],
   "source": [
    "MaxRO = 5000000\n",
    "MinRO = -3000000"
   ]
  },
  {
   "cell_type": "code",
   "execution_count": 41,
   "metadata": {},
   "outputs": [],
   "source": [
    "roTicks = [ -2000000, -1000000, 0.0, 1000000, 2000000, 3000000, 4000000 ]"
   ]
  },
  {
   "cell_type": "code",
   "execution_count": 42,
   "metadata": {},
   "outputs": [
    {
     "data": {
      "text/plain": [
       "'C:\\\\Users\\\\nmart\\\\Documents\\\\CC_Plots\\\\Results_CompHR1_RODelta.svg'"
      ]
     },
     "execution_count": 42,
     "metadata": {},
     "output_type": "execute_result"
    }
   ],
   "source": [
    "OutSVG = os.path.normpath( os.path.join( OUT_DIR, \"Results_CompHR1_RODelta.svg\" ) )\n",
    "OutSVG"
   ]
  },
  {
   "cell_type": "code",
   "execution_count": 43,
   "metadata": {},
   "outputs": [
    {
     "data": {
      "text/plain": [
       "'C:\\\\Users\\\\nmart\\\\Documents\\\\CC_Plots\\\\Results_CompHR1_RODelta.png'"
      ]
     },
     "execution_count": 43,
     "metadata": {},
     "output_type": "execute_result"
    }
   ],
   "source": [
    "OutPNG = os.path.normpath( os.path.join( OUT_DIR, \"Results_CompHR1_RODelta.png\" ) )\n",
    "OutPNG"
   ]
  },
  {
   "cell_type": "code",
   "execution_count": 44,
   "metadata": {},
   "outputs": [
    {
     "data": {
      "image/png": "[encoded data removed]",
      "text/plain": [
       "<Figure size 576x234 with 1 Axes>"
      ]
     },
     "metadata": {
      "needs_background": "light"
     },
     "output_type": "display_data"
    }
   ],
   "source": [
    "Fig1 = plt.figure()\n",
    "Fig1.set_size_inches(8.0, 3.25)\n",
    "ax11 = Fig1.add_subplot(111)\n",
    "ax11.plot( [TP_DICT[2][0], TP_DICT[2][0]], [MinRO, MaxRO], linestyle='-', zorder=3,\n",
    "           linewidth=2, color='xkcd:dark orange', label=\"Climate Normals Boundary\")\n",
    "ax11.plot( [TP_DICT[3][0], TP_DICT[3][0]], [MinRO, MaxRO], linestyle='-',\n",
    "           linewidth=2, color='xkcd:dark orange', zorder=3 )\n",
    "ax11.plot( [TP_DICT[4][0], TP_DICT[4][0]], [MinRO, MaxRO], linestyle='-',\n",
    "           linewidth=2, color='xkcd:dark orange', zorder=3 )\n",
    "cc90 = ax11.fill( DTTimeList, CC_FlHR1_RO_90, color='xkcd:sand', alpha=1.0, \n",
    "                  label=\"CC: 5–95th percentile range\", zorder=2)\n",
    "cc50 = ax11.fill( DTTimeList, CC_FlHR1_RO_IQR, color='xkcd:puce', alpha=1.0, \n",
    "                  label=\"CC: 25–75th percentile range\", zorder=2)\n",
    "ax11.plot( ForTimeList, CC_BFHR1_RO_Med, linestyle='-', zorder=4,\n",
    "           linewidth=2, color='xkcd:goldenrod', label='CC: Median' )\n",
    "ax11.plot( ForTimeList, CC_BFHR1_RO_Ave, linestyle=':', zorder=4,\n",
    "           linewidth=3, color='xkcd:terracotta', label='CC: Mean' )\n",
    "ba90 = ax11.fill( DTTimeList, BA_FlHR1_RO_90, color='xkcd:pastel blue', alpha=0.55, \n",
    "                  label=\"LULCCC: 5–95th percentile range\", zorder=2 )\n",
    "ba50 = ax11.fill( DTTimeList, BA_FlHR1_RO_IQR, color='xkcd:denim blue', alpha=0.55, \n",
    "                  label=\"LULCCC: 25–75th percentile range\", zorder=2 )\n",
    "ax11.plot( ForTimeList, BA_BFHR1_RO_Med, linestyle='-', zorder=4,\n",
    "           linewidth=2, color='xkcd:bright blue', label='LULCCC: Median' )\n",
    "ax11.plot( ForTimeList, BA_BFHR1_RO_Ave, linestyle=':', zorder=4,\n",
    "           linewidth=3, color='xkcd:cyan', label='LULCCC: Mean' )\n",
    "ax11.set_xticks( [ dt.datetime(2010, 1, 1), dt.datetime(2040, 1, 1), dt.datetime(2070, 1, 1),\n",
    "                  dt.datetime(2100, 1, 1) ] )\n",
    "ax11.set_xlim( (dt.datetime(2010, 1, 1), dt.datetime(2100, 1, 1)))\n",
    "ax11.set_yticks( roTicks )\n",
    "ax11.set_ylim( (MinRO, MaxRO) )\n",
    "ax11.grid(True, axis='y', which='both')\n",
    "ax11.set_ylabel('Monthly Runoff $\\Delta$ ($m^{3}$)', fontsize=12 )\n",
    "#ax11.legend( loc='upper center', fontsize=10, framealpha=1.0, ncol=3 )\n",
    "ax11.tick_params(axis='both', which='major', labelsize=11 )\n",
    "ax11.yaxis.set_major_formatter( mpl.ticker.StrMethodFormatter( \"{x:,.0E}\" ) )\n",
    "ax11.xaxis.set_major_formatter( mpl.dates.DateFormatter(\"%Y–%m–%d\") )\n",
    "Fig1.savefig( OutSVG )\n",
    "Fig1.savefig( OutPNG )"
   ]
  },
  {
   "cell_type": "code",
   "execution_count": 45,
   "metadata": {},
   "outputs": [
    {
     "data": {
      "text/plain": [
       "(2183189.609162512, -2495233.964369164)"
      ]
     },
     "execution_count": 45,
     "metadata": {},
     "output_type": "execute_result"
    }
   ],
   "source": [
    "MaxRE = max( CC_BFHR1_RE_95.max(), BA_BFHR1_RE_95.max() )\n",
    "MinRE = min( CC_BFHR1_RE_05.min(), BA_BFHR1_RE_05.min() )\n",
    "MaxRE, MinRE"
   ]
  },
  {
   "cell_type": "code",
   "execution_count": 46,
   "metadata": {},
   "outputs": [],
   "source": [
    "MaxRE = 5000000\n",
    "MinRE = -3000000"
   ]
  },
  {
   "cell_type": "code",
   "execution_count": 47,
   "metadata": {},
   "outputs": [],
   "source": [
    "reTicks = [ -2000000, -1000000, 0.0, 1000000, 2000000, 3000000, 4000000 ]"
   ]
  },
  {
   "cell_type": "code",
   "execution_count": 48,
   "metadata": {},
   "outputs": [
    {
     "data": {
      "text/plain": [
       "'C:\\\\Users\\\\nmart\\\\Documents\\\\CC_Plots\\\\Results_CompHR1_REDelta.svg'"
      ]
     },
     "execution_count": 48,
     "metadata": {},
     "output_type": "execute_result"
    }
   ],
   "source": [
    "OutSVG = os.path.normpath( os.path.join( OUT_DIR, \"Results_CompHR1_REDelta.svg\" ) )\n",
    "OutSVG"
   ]
  },
  {
   "cell_type": "code",
   "execution_count": 49,
   "metadata": {},
   "outputs": [
    {
     "data": {
      "text/plain": [
       "'C:\\\\Users\\\\nmart\\\\Documents\\\\CC_Plots\\\\Results_CompHR1_REDelta.png'"
      ]
     },
     "execution_count": 49,
     "metadata": {},
     "output_type": "execute_result"
    }
   ],
   "source": [
    "OutPNG = os.path.normpath( os.path.join( OUT_DIR, \"Results_CompHR1_REDelta.png\" ) )\n",
    "OutPNG"
   ]
  },
  {
   "cell_type": "code",
   "execution_count": 50,
   "metadata": {},
   "outputs": [
    {
     "data": {
      "image/png": "[encoded data removed]",
      "text/plain": [
       "<Figure size 576x234 with 1 Axes>"
      ]
     },
     "metadata": {
      "needs_background": "light"
     },
     "output_type": "display_data"
    }
   ],
   "source": [
    "Fig1 = plt.figure()\n",
    "Fig1.set_size_inches(8.0, 3.25)\n",
    "ax11 = Fig1.add_subplot(111)\n",
    "ax11.plot( [TP_DICT[2][0], TP_DICT[2][0]], [MinRE, MaxRE], linestyle='-', zorder=3,\n",
    "           linewidth=2, color='xkcd:dark orange', label=\"Climate Normals Boundary\")\n",
    "ax11.plot( [TP_DICT[3][0], TP_DICT[3][0]], [MinRE, MaxRE], linestyle='-',\n",
    "           linewidth=2, color='xkcd:dark orange', zorder=3 )\n",
    "ax11.plot( [TP_DICT[4][0], TP_DICT[4][0]], [MinRE, MaxRE], linestyle='-',\n",
    "           linewidth=2, color='xkcd:dark orange', zorder=3 )\n",
    "cc90 = ax11.fill( DTTimeList, CC_FlHR1_RE_90, color='xkcd:sand', alpha=1.0, \n",
    "                  label=\"CC: 5–95th percentile range\", zorder=2)\n",
    "cc50 = ax11.fill( DTTimeList, CC_FlHR1_RE_IQR, color='xkcd:puce', alpha=1.0, \n",
    "                  label=\"CC: 25–75th percentile range\", zorder=2)\n",
    "ax11.plot( ForTimeList, CC_BFHR1_RE_Med, linestyle='-', zorder=4,\n",
    "           linewidth=2, color='xkcd:goldenrod', label='CC: Median' )\n",
    "ax11.plot( ForTimeList, CC_BFHR1_RE_Ave, linestyle=':', zorder=4,\n",
    "           linewidth=3, color='xkcd:terracotta', label='CC: Mean' )\n",
    "ba90 = ax11.fill( DTTimeList, BA_FlHR1_RE_90, color='xkcd:pastel blue', alpha=0.55, \n",
    "                  label=\"LULCCC: 5–95th percentile range\", zorder=2 )\n",
    "ba50 = ax11.fill( DTTimeList, BA_FlHR1_RE_IQR, color='xkcd:denim blue', alpha=0.55, \n",
    "                  label=\"LULCCC: 25–75th percentile range\", zorder=2 )\n",
    "ax11.plot( ForTimeList, BA_BFHR1_RE_Med, linestyle='-', zorder=4,\n",
    "           linewidth=2, color='xkcd:bright blue', label='LULCCC: Median' )\n",
    "ax11.plot( ForTimeList, BA_BFHR1_RE_Ave, linestyle=':', zorder=4,\n",
    "           linewidth=3, color='xkcd:cyan', label='LULCCC: Mean' )\n",
    "ax11.set_xticks( [ dt.datetime(2010, 1, 1), dt.datetime(2040, 1, 1), dt.datetime(2070, 1, 1),\n",
    "                  dt.datetime(2100, 1, 1) ] )\n",
    "ax11.set_xlim( (dt.datetime(2010, 1, 1), dt.datetime(2100, 1, 1)))\n",
    "ax11.set_yticks( reTicks )\n",
    "ax11.set_ylim( (MinRE, MaxRE) )\n",
    "ax11.grid(True, axis='y', which='both')\n",
    "ax11.set_ylabel('Monthly Recharge $\\Delta$ ($m^{3}$)', fontsize=12 )\n",
    "#ax11.legend( loc='upper center', fontsize=10, framealpha=1.0, ncol=3 )\n",
    "ax11.tick_params(axis='both', which='major', labelsize=11 )\n",
    "ax11.yaxis.set_major_formatter( mpl.ticker.StrMethodFormatter( \"{x:,.0E}\" ) )\n",
    "ax11.xaxis.set_major_formatter( mpl.dates.DateFormatter(\"%Y–%m–%d\") )\n",
    "Fig1.savefig( OutSVG )\n",
    "Fig1.savefig( OutPNG )"
   ]
  },
  {
   "cell_type": "markdown",
   "metadata": {},
   "source": [
    "### HRU 2"
   ]
  },
  {
   "cell_type": "code",
   "execution_count": 51,
   "metadata": {},
   "outputs": [],
   "source": [
    "InFiler = os.path.normpath( os.path.join( IN_DIR, XLSX_ROOT % ( REG_SIM_ROOT % \"HR2\" ) ) )\n",
    "CCHR2_1_AET = pd.read_excel( InFiler, sheet_name=\"AET_1\", header=0, names=RdHds, index_col=0, parse_dates=True )\n",
    "CCHR2_2_AET = pd.read_excel( InFiler, sheet_name=\"AET_2\", header=0, names=RdHds, index_col=0, parse_dates=True )\n",
    "CCHR2_3_AET = pd.read_excel( InFiler, sheet_name=\"AET_3\", header=0, names=RdHds, index_col=0, parse_dates=True )\n",
    "CCHR2_4_AET = pd.read_excel( InFiler, sheet_name=\"AET_4\", header=0, names=RdHds, index_col=0, parse_dates=True )\n",
    "CCHR2_1_RO = pd.read_excel( InFiler, sheet_name=\"RO_1\", header=0, names=RdHds, index_col=0, parse_dates=True )\n",
    "CCHR2_2_RO = pd.read_excel( InFiler, sheet_name=\"RO_2\", header=0, names=RdHds, index_col=0, parse_dates=True )\n",
    "CCHR2_3_RO = pd.read_excel( InFiler, sheet_name=\"RO_3\", header=0, names=RdHds, index_col=0, parse_dates=True )\n",
    "CCHR2_4_RO = pd.read_excel( InFiler, sheet_name=\"RO_4\", header=0, names=RdHds, index_col=0, parse_dates=True )\n",
    "CCHR2_1_RE = pd.read_excel( InFiler, sheet_name=\"RE_1\", header=0, names=RdHds, index_col=0, parse_dates=True )\n",
    "CCHR2_2_RE = pd.read_excel( InFiler, sheet_name=\"RE_2\", header=0, names=RdHds, index_col=0, parse_dates=True )\n",
    "CCHR2_3_RE = pd.read_excel( InFiler, sheet_name=\"RE_3\", header=0, names=RdHds, index_col=0, parse_dates=True )\n",
    "CCHR2_4_RE = pd.read_excel( InFiler, sheet_name=\"RE_4\", header=0, names=RdHds, index_col=0, parse_dates=True )"
   ]
  },
  {
   "cell_type": "code",
   "execution_count": 52,
   "metadata": {},
   "outputs": [],
   "source": [
    "CCHR2_1_AET = CCHR2_1_AET * MultAFtoM3\n",
    "CCHR2_2_AET = CCHR2_2_AET * MultAFtoM3\n",
    "CCHR2_3_AET = CCHR2_3_AET * MultAFtoM3\n",
    "CCHR2_4_AET = CCHR2_4_AET * MultAFtoM3\n",
    "CCHR2_1_RO = CCHR2_1_RO * MultAFtoM3\n",
    "CCHR2_2_RO = CCHR2_2_RO * MultAFtoM3\n",
    "CCHR2_3_RO = CCHR2_3_RO * MultAFtoM3\n",
    "CCHR2_4_RO = CCHR2_4_RO * MultAFtoM3\n",
    "CCHR2_1_RE = CCHR2_1_RE * MultAFtoM3\n",
    "CCHR2_2_RE = CCHR2_2_RE * MultAFtoM3\n",
    "CCHR2_3_RE = CCHR2_3_RE * MultAFtoM3\n",
    "CCHR2_4_RE = CCHR2_4_RE * MultAFtoM3"
   ]
  },
  {
   "cell_type": "code",
   "execution_count": 53,
   "metadata": {},
   "outputs": [],
   "source": [
    "InFiler = os.path.normpath( os.path.join( IN_DIR, XLSX_ROOT % ( BAS_SIM_ROOT % \"HR2\" ) ) )\n",
    "BAHR2_1_AET = pd.read_excel( InFiler, sheet_name=\"AET_1\", header=0, names=RdHds, index_col=0, parse_dates=True )\n",
    "BAHR2_2_AET = pd.read_excel( InFiler, sheet_name=\"AET_2\", header=0, names=RdHds, index_col=0, parse_dates=True )\n",
    "BAHR2_3_AET = pd.read_excel( InFiler, sheet_name=\"AET_3\", header=0, names=RdHds, index_col=0, parse_dates=True )\n",
    "BAHR2_4_AET = pd.read_excel( InFiler, sheet_name=\"AET_4\", header=0, names=RdHds, index_col=0, parse_dates=True )\n",
    "BAHR2_1_RO = pd.read_excel( InFiler, sheet_name=\"RO_1\", header=0, names=RdHds, index_col=0, parse_dates=True )\n",
    "BAHR2_2_RO = pd.read_excel( InFiler, sheet_name=\"RO_2\", header=0, names=RdHds, index_col=0, parse_dates=True )\n",
    "BAHR2_3_RO = pd.read_excel( InFiler, sheet_name=\"RO_3\", header=0, names=RdHds, index_col=0, parse_dates=True )\n",
    "BAHR2_4_RO = pd.read_excel( InFiler, sheet_name=\"RO_4\", header=0, names=RdHds, index_col=0, parse_dates=True )\n",
    "BAHR2_1_RE = pd.read_excel( InFiler, sheet_name=\"RE_1\", header=0, names=RdHds, index_col=0, parse_dates=True )\n",
    "BAHR2_2_RE = pd.read_excel( InFiler, sheet_name=\"RE_2\", header=0, names=RdHds, index_col=0, parse_dates=True )\n",
    "BAHR2_3_RE = pd.read_excel( InFiler, sheet_name=\"RE_3\", header=0, names=RdHds, index_col=0, parse_dates=True )\n",
    "BAHR2_4_RE = pd.read_excel( InFiler, sheet_name=\"RE_4\", header=0, names=RdHds, index_col=0, parse_dates=True )"
   ]
  },
  {
   "cell_type": "code",
   "execution_count": 54,
   "metadata": {},
   "outputs": [],
   "source": [
    "BAHR2_1_AET = BAHR2_1_AET * MultAFtoM3\n",
    "BAHR2_2_AET = BAHR2_2_AET * MultAFtoM3\n",
    "BAHR2_3_AET = BAHR2_3_AET * MultAFtoM3\n",
    "BAHR2_4_AET = BAHR2_4_AET * MultAFtoM3\n",
    "BAHR2_1_RO = BAHR2_1_RO * MultAFtoM3\n",
    "BAHR2_2_RO = BAHR2_2_RO * MultAFtoM3\n",
    "BAHR2_3_RO = BAHR2_3_RO * MultAFtoM3\n",
    "BAHR2_4_RO = BAHR2_4_RO * MultAFtoM3\n",
    "BAHR2_1_RE = BAHR2_1_RE * MultAFtoM3\n",
    "BAHR2_2_RE = BAHR2_2_RE * MultAFtoM3\n",
    "BAHR2_3_RE = BAHR2_3_RE * MultAFtoM3\n",
    "BAHR2_4_RE = BAHR2_4_RE * MultAFtoM3"
   ]
  },
  {
   "cell_type": "markdown",
   "metadata": {},
   "source": [
    "Make continuous time series"
   ]
  },
  {
   "cell_type": "code",
   "execution_count": 55,
   "metadata": {},
   "outputs": [],
   "source": [
    "CCHR2_AET_DF = pd.concat( [CCHR2_1_AET, CCHR2_2_AET, CCHR2_3_AET, CCHR2_4_AET ])\n",
    "CCHR2_RO_DF = pd.concat( [CCHR2_1_RO, CCHR2_2_RO, CCHR2_3_RO, CCHR2_4_RO ])\n",
    "CCHR2_RE_DF = pd.concat( [CCHR2_1_RE, CCHR2_2_RE, CCHR2_3_RE, CCHR2_4_RE ])"
   ]
  },
  {
   "cell_type": "code",
   "execution_count": 56,
   "metadata": {},
   "outputs": [],
   "source": [
    "BAHR2_AET_DF = pd.concat( [BAHR2_1_AET, BAHR2_2_AET, BAHR2_3_AET, BAHR2_4_AET ])\n",
    "BAHR2_RO_DF = pd.concat( [BAHR2_1_RO, BAHR2_2_RO, BAHR2_3_RO, BAHR2_4_RO ])\n",
    "BAHR2_RE_DF = pd.concat( [BAHR2_1_RE, BAHR2_2_RE, BAHR2_3_RE, BAHR2_4_RE ])"
   ]
  },
  {
   "cell_type": "markdown",
   "metadata": {},
   "source": [
    "Butterworth filtering"
   ]
  },
  {
   "cell_type": "code",
   "execution_count": 57,
   "metadata": {},
   "outputs": [],
   "source": [
    "wAr = CCHR2_AET_DF[StatsHdsList[95]].to_numpy()\n",
    "CC_BFHR2_AET_95 = butter_lowpass_filter(wAr, CUTOFF, FS )\n",
    "wAr = CCHR2_AET_DF[StatsHdsList[5]].to_numpy()\n",
    "CC_BFHR2_AET_05 = butter_lowpass_filter(wAr, CUTOFF, FS )\n",
    "wAr = CCHR2_AET_DF[StatsHdsList[75]].to_numpy()\n",
    "CC_BFHR2_AET_75 = butter_lowpass_filter(wAr, CUTOFF, FS )\n",
    "wAr = CCHR2_AET_DF[StatsHdsList[25]].to_numpy()\n",
    "CC_BFHR2_AET_25 = butter_lowpass_filter(wAr, CUTOFF, FS )\n",
    "wAr = CCHR2_AET_DF[StatsHdsList[50]].to_numpy()\n",
    "CC_BFHR2_AET_Med = butter_lowpass_filter(wAr, CUTOFF, FS )\n",
    "wAr = CCHR2_AET_DF[StatsHdsList[101]].to_numpy()\n",
    "CC_BFHR2_AET_Ave = butter_lowpass_filter(wAr, CUTOFF, FS )"
   ]
  },
  {
   "cell_type": "code",
   "execution_count": 58,
   "metadata": {},
   "outputs": [],
   "source": [
    "wAr = CCHR2_RO_DF[StatsHdsList[95]].to_numpy()\n",
    "CC_BFHR2_RO_95 = butter_lowpass_filter(wAr, CUTOFF, FS )\n",
    "wAr = CCHR2_RO_DF[StatsHdsList[5]].to_numpy()\n",
    "CC_BFHR2_RO_05 = butter_lowpass_filter(wAr, CUTOFF, FS )\n",
    "wAr = CCHR2_RO_DF[StatsHdsList[75]].to_numpy()\n",
    "CC_BFHR2_RO_75 = butter_lowpass_filter(wAr, CUTOFF, FS )\n",
    "wAr = CCHR2_RO_DF[StatsHdsList[25]].to_numpy()\n",
    "CC_BFHR2_RO_25 = butter_lowpass_filter(wAr, CUTOFF, FS )\n",
    "wAr = CCHR2_RO_DF[StatsHdsList[50]].to_numpy()\n",
    "CC_BFHR2_RO_Med = butter_lowpass_filter(wAr, CUTOFF, FS )\n",
    "wAr = CCHR2_RO_DF[StatsHdsList[101]].to_numpy()\n",
    "CC_BFHR2_RO_Ave = butter_lowpass_filter(wAr, CUTOFF, FS )"
   ]
  },
  {
   "cell_type": "code",
   "execution_count": 59,
   "metadata": {},
   "outputs": [],
   "source": [
    "wAr = CCHR2_RE_DF[StatsHdsList[95]].to_numpy()\n",
    "CC_BFHR2_RE_95 = butter_lowpass_filter(wAr, CUTOFF, FS )\n",
    "wAr = CCHR2_RE_DF[StatsHdsList[5]].to_numpy()\n",
    "CC_BFHR2_RE_05 = butter_lowpass_filter(wAr, CUTOFF, FS )\n",
    "wAr = CCHR2_RE_DF[StatsHdsList[75]].to_numpy()\n",
    "CC_BFHR2_RE_75 = butter_lowpass_filter(wAr, CUTOFF, FS )\n",
    "wAr = CCHR2_RE_DF[StatsHdsList[25]].to_numpy()\n",
    "CC_BFHR2_RE_25 = butter_lowpass_filter(wAr, CUTOFF, FS )\n",
    "wAr = CCHR2_RE_DF[StatsHdsList[50]].to_numpy()\n",
    "CC_BFHR2_RE_Med = butter_lowpass_filter(wAr, CUTOFF, FS )\n",
    "wAr = CCHR2_RE_DF[StatsHdsList[101]].to_numpy()\n",
    "CC_BFHR2_RE_Ave = butter_lowpass_filter(wAr, CUTOFF, FS )"
   ]
  },
  {
   "cell_type": "code",
   "execution_count": 60,
   "metadata": {},
   "outputs": [],
   "source": [
    "wAr = BAHR2_AET_DF[StatsHdsList[95]].to_numpy()\n",
    "BA_BFHR2_AET_95 = butter_lowpass_filter(wAr, CUTOFF, FS )\n",
    "wAr = BAHR2_AET_DF[StatsHdsList[5]].to_numpy()\n",
    "BA_BFHR2_AET_05 = butter_lowpass_filter(wAr, CUTOFF, FS )\n",
    "wAr = BAHR2_AET_DF[StatsHdsList[75]].to_numpy()\n",
    "BA_BFHR2_AET_75 = butter_lowpass_filter(wAr, CUTOFF, FS )\n",
    "wAr = BAHR2_AET_DF[StatsHdsList[25]].to_numpy()\n",
    "BA_BFHR2_AET_25 = butter_lowpass_filter(wAr, CUTOFF, FS )\n",
    "wAr = BAHR2_AET_DF[StatsHdsList[50]].to_numpy()\n",
    "BA_BFHR2_AET_Med = butter_lowpass_filter(wAr, CUTOFF, FS )\n",
    "wAr = BAHR2_AET_DF[StatsHdsList[101]].to_numpy()\n",
    "BA_BFHR2_AET_Ave = butter_lowpass_filter(wAr, CUTOFF, FS )"
   ]
  },
  {
   "cell_type": "code",
   "execution_count": 61,
   "metadata": {},
   "outputs": [],
   "source": [
    "wAr = BAHR2_RO_DF[StatsHdsList[95]].to_numpy()\n",
    "BA_BFHR2_RO_95 = butter_lowpass_filter(wAr, CUTOFF, FS )\n",
    "wAr = BAHR2_RO_DF[StatsHdsList[5]].to_numpy()\n",
    "BA_BFHR2_RO_05 = butter_lowpass_filter(wAr, CUTOFF, FS )\n",
    "wAr = BAHR2_RO_DF[StatsHdsList[75]].to_numpy()\n",
    "BA_BFHR2_RO_75 = butter_lowpass_filter(wAr, CUTOFF, FS )\n",
    "wAr = BAHR2_RO_DF[StatsHdsList[25]].to_numpy()\n",
    "BA_BFHR2_RO_25 = butter_lowpass_filter(wAr, CUTOFF, FS )\n",
    "wAr = BAHR2_RO_DF[StatsHdsList[50]].to_numpy()\n",
    "BA_BFHR2_RO_Med = butter_lowpass_filter(wAr, CUTOFF, FS )\n",
    "wAr = BAHR2_RO_DF[StatsHdsList[101]].to_numpy()\n",
    "BA_BFHR2_RO_Ave = butter_lowpass_filter(wAr, CUTOFF, FS )"
   ]
  },
  {
   "cell_type": "code",
   "execution_count": 62,
   "metadata": {},
   "outputs": [],
   "source": [
    "wAr = BAHR2_RE_DF[StatsHdsList[95]].to_numpy()\n",
    "BA_BFHR2_RE_95 = butter_lowpass_filter(wAr, CUTOFF, FS )\n",
    "wAr = BAHR2_RE_DF[StatsHdsList[5]].to_numpy()\n",
    "BA_BFHR2_RE_05 = butter_lowpass_filter(wAr, CUTOFF, FS )\n",
    "wAr = BAHR2_RE_DF[StatsHdsList[75]].to_numpy()\n",
    "BA_BFHR2_RE_75 = butter_lowpass_filter(wAr, CUTOFF, FS )\n",
    "wAr = BAHR2_RE_DF[StatsHdsList[25]].to_numpy()\n",
    "BA_BFHR2_RE_25 = butter_lowpass_filter(wAr, CUTOFF, FS )\n",
    "wAr = BAHR2_RE_DF[StatsHdsList[50]].to_numpy()\n",
    "BA_BFHR2_RE_Med = butter_lowpass_filter(wAr, CUTOFF, FS )\n",
    "wAr = BAHR2_RE_DF[StatsHdsList[101]].to_numpy()\n",
    "BA_BFHR2_RE_Ave = butter_lowpass_filter(wAr, CUTOFF, FS )"
   ]
  },
  {
   "cell_type": "markdown",
   "metadata": {},
   "source": [
    "Make the polygons for fills"
   ]
  },
  {
   "cell_type": "code",
   "execution_count": 63,
   "metadata": {},
   "outputs": [],
   "source": [
    "CC_FlHR2_AET_90 = list( CC_BFHR2_AET_05 )\n",
    "BackDTList = list( CC_BFHR2_AET_95 )\n",
    "CC_BkFlHR2_AET_90 = BackDTList[::-1]\n",
    "CC_FlHR2_AET_90.extend( CC_BkFlHR2_AET_90 )\n",
    "CC_FlHR2_AET_IQR = list( CC_BFHR2_AET_25 )\n",
    "BackDTList = list( CC_BFHR2_AET_75 )\n",
    "CC_BkFlHR2_AET_IQR = BackDTList[::-1]\n",
    "CC_FlHR2_AET_IQR.extend( CC_BkFlHR2_AET_IQR )"
   ]
  },
  {
   "cell_type": "code",
   "execution_count": 64,
   "metadata": {},
   "outputs": [],
   "source": [
    "CC_FlHR2_RO_90 = list( CC_BFHR2_RO_05 )\n",
    "BackDTList = list( CC_BFHR2_RO_95 )\n",
    "CC_BkFlHR2_RO_90 = BackDTList[::-1]\n",
    "CC_FlHR2_RO_90.extend( CC_BkFlHR2_RO_90 )\n",
    "CC_FlHR2_RO_IQR = list( CC_BFHR2_RO_25 )\n",
    "BackDTList = list( CC_BFHR2_RO_75 )\n",
    "CC_BkFlHR2_RO_IQR = BackDTList[::-1]\n",
    "CC_FlHR2_RO_IQR.extend( CC_BkFlHR2_RO_IQR )"
   ]
  },
  {
   "cell_type": "code",
   "execution_count": 65,
   "metadata": {},
   "outputs": [],
   "source": [
    "CC_FlHR2_RE_90 = list( CC_BFHR2_RE_05 )\n",
    "BackDTList = list( CC_BFHR2_RE_95 )\n",
    "CC_BkFlHR2_RE_90 = BackDTList[::-1]\n",
    "CC_FlHR2_RE_90.extend( CC_BkFlHR2_RE_90 )\n",
    "CC_FlHR2_RE_IQR = list( CC_BFHR2_RE_25 )\n",
    "BackDTList = list( CC_BFHR2_RE_75 )\n",
    "CC_BkFlHR2_RE_IQR = BackDTList[::-1]\n",
    "CC_FlHR2_RE_IQR.extend( CC_BkFlHR2_RE_IQR )"
   ]
  },
  {
   "cell_type": "code",
   "execution_count": 66,
   "metadata": {},
   "outputs": [],
   "source": [
    "BA_FlHR2_AET_90 = list( BA_BFHR2_AET_05 )\n",
    "BackDTList = list( BA_BFHR2_AET_95 )\n",
    "BA_BkFlHR2_AET_90 = BackDTList[::-1]\n",
    "BA_FlHR2_AET_90.extend( BA_BkFlHR2_AET_90 )\n",
    "BA_FlHR2_AET_IQR = list( BA_BFHR2_AET_25 )\n",
    "BackDTList = list( BA_BFHR2_AET_75 )\n",
    "BA_BkFlHR2_AET_IQR = BackDTList[::-1]\n",
    "BA_FlHR2_AET_IQR.extend( BA_BkFlHR2_AET_IQR )"
   ]
  },
  {
   "cell_type": "code",
   "execution_count": 67,
   "metadata": {},
   "outputs": [],
   "source": [
    "BA_FlHR2_RO_90 = list( BA_BFHR2_RO_05 )\n",
    "BackDTList = list( BA_BFHR2_RO_95 )\n",
    "BA_BkFlHR2_RO_90 = BackDTList[::-1]\n",
    "BA_FlHR2_RO_90.extend( BA_BkFlHR2_RO_90 )\n",
    "BA_FlHR2_RO_IQR = list( BA_BFHR2_RO_25 )\n",
    "BackDTList = list( BA_BFHR2_RO_75 )\n",
    "BA_BkFlHR2_RO_IQR = BackDTList[::-1]\n",
    "BA_FlHR2_RO_IQR.extend( BA_BkFlHR2_RO_IQR )"
   ]
  },
  {
   "cell_type": "code",
   "execution_count": 68,
   "metadata": {},
   "outputs": [],
   "source": [
    "BA_FlHR2_RE_90 = list( BA_BFHR2_RE_05 )\n",
    "BackDTList = list( BA_BFHR2_RE_95 )\n",
    "BA_BkFlHR2_RE_90 = BackDTList[::-1]\n",
    "BA_FlHR2_RE_90.extend( BA_BkFlHR2_RE_90 )\n",
    "BA_FlHR2_RE_IQR = list( BA_BFHR2_RE_25 )\n",
    "BackDTList = list( BA_BFHR2_RE_75 )\n",
    "BA_BkFlHR2_RE_IQR = BackDTList[::-1]\n",
    "BA_FlHR2_RE_IQR.extend( BA_BkFlHR2_RE_IQR )"
   ]
  },
  {
   "cell_type": "markdown",
   "metadata": {},
   "source": [
    "#### Plots"
   ]
  },
  {
   "cell_type": "code",
   "execution_count": 94,
   "metadata": {},
   "outputs": [
    {
     "data": {
      "text/plain": [
       "(286240.09192057204, -501498.6229623591)"
      ]
     },
     "execution_count": 94,
     "metadata": {},
     "output_type": "execute_result"
    }
   ],
   "source": [
    "MaxAET = max( CC_BFHR2_AET_95.max(), BA_BFHR2_AET_95.max() )\n",
    "MinAET = min( CC_BFHR2_AET_05.min(), BA_BFHR2_AET_05.min() )\n",
    "MaxAET, MinAET"
   ]
  },
  {
   "cell_type": "code",
   "execution_count": 95,
   "metadata": {},
   "outputs": [],
   "source": [
    "MaxAET = 2000000.0\n",
    "MinAET = -1500000.0"
   ]
  },
  {
   "cell_type": "code",
   "execution_count": 96,
   "metadata": {},
   "outputs": [],
   "source": [
    "aetTicks = [ -1000000.0, -500000.0, 0.0, 500000.0, 1000000.0, 1500000.0 ]"
   ]
  },
  {
   "cell_type": "code",
   "execution_count": 97,
   "metadata": {},
   "outputs": [
    {
     "data": {
      "text/plain": [
       "'C:\\\\Users\\\\nmart\\\\Documents\\\\CC_Plots\\\\Results_CompHR2_AETDelta.svg'"
      ]
     },
     "execution_count": 97,
     "metadata": {},
     "output_type": "execute_result"
    }
   ],
   "source": [
    "OutSVG = os.path.normpath( os.path.join( OUT_DIR, \"Results_CompHR2_AETDelta.svg\" ) )\n",
    "OutSVG"
   ]
  },
  {
   "cell_type": "code",
   "execution_count": 98,
   "metadata": {},
   "outputs": [
    {
     "data": {
      "text/plain": [
       "'C:\\\\Users\\\\nmart\\\\Documents\\\\CC_Plots\\\\Results_CompHR2_AETDelta.png'"
      ]
     },
     "execution_count": 98,
     "metadata": {},
     "output_type": "execute_result"
    }
   ],
   "source": [
    "OutPNG = os.path.normpath( os.path.join( OUT_DIR, \"Results_CompHR2_AETDelta.png\" ) )\n",
    "OutPNG"
   ]
  },
  {
   "cell_type": "code",
   "execution_count": 99,
   "metadata": {},
   "outputs": [
    {
     "data": {
      "image/png": "[encoded data removed]",
      "text/plain": [
       "<Figure size 576x234 with 1 Axes>"
      ]
     },
     "metadata": {
      "needs_background": "light"
     },
     "output_type": "display_data"
    }
   ],
   "source": [
    "Fig1 = plt.figure()\n",
    "Fig1.set_size_inches(8.0, 3.25)\n",
    "ax11 = Fig1.add_subplot(111)\n",
    "ax11.plot( [TP_DICT[2][0], TP_DICT[2][0]], [MinAET, MaxAET], linestyle='-', zorder=3,\n",
    "           linewidth=2, color='xkcd:dark orange', label=\"Climate Normals Boundary\")\n",
    "ax11.plot( [TP_DICT[3][0], TP_DICT[3][0]], [MinAET, MaxAET], linestyle='-',\n",
    "           linewidth=2, color='xkcd:dark orange', zorder=3 )\n",
    "ax11.plot( [TP_DICT[4][0], TP_DICT[4][0]], [MinAET, MaxAET], linestyle='-',\n",
    "           linewidth=2, color='xkcd:dark orange', zorder=3 )\n",
    "cc90 = ax11.fill( DTTimeList, CC_FlHR2_AET_90, color='xkcd:sand', alpha=1.0, \n",
    "                  label=\"CC: 5–95th percentile range\", zorder=2)\n",
    "cc50 = ax11.fill( DTTimeList, CC_FlHR2_AET_IQR, color='xkcd:puce', alpha=1.0, \n",
    "                  label=\"CC: 25–75th percentile range\", zorder=2)\n",
    "ax11.plot( ForTimeList, CC_BFHR2_AET_Med, linestyle='-', zorder=4,\n",
    "           linewidth=2, color='xkcd:goldenrod', label='CC: Median' )\n",
    "ax11.plot( ForTimeList, CC_BFHR2_AET_Ave, linestyle=':', zorder=4,\n",
    "           linewidth=3, color='xkcd:terracotta', label='CC: Mean' )\n",
    "ba90 = ax11.fill( DTTimeList, BA_FlHR2_AET_90, color='xkcd:pastel blue', alpha=0.55, \n",
    "                  label=\"LULCCC: 5–95th percentile range\", zorder=2 )\n",
    "ba50 = ax11.fill( DTTimeList, BA_FlHR2_AET_IQR, color='xkcd:denim blue', alpha=0.55, \n",
    "                  label=\"LULCCC: 25–75th percentile range\", zorder=2 )\n",
    "ax11.plot( ForTimeList, BA_BFHR2_AET_Med, linestyle='-', zorder=4,\n",
    "           linewidth=2, color='xkcd:bright blue', label='LULCCC: Median' )\n",
    "ax11.plot( ForTimeList, BA_BFHR2_AET_Ave, linestyle=':', zorder=4,\n",
    "           linewidth=3, color='xkcd:cyan', label='LULCCC: Mean' )\n",
    "ax11.set_xticks( [ dt.datetime(2010, 1, 1), dt.datetime(2040, 1, 1), dt.datetime(2070, 1, 1),\n",
    "                  dt.datetime(2100, 1, 1) ] )\n",
    "ax11.set_xlim( (dt.datetime(2010, 1, 1), dt.datetime(2100, 1, 1)))\n",
    "ax11.set_yticks( aetTicks )\n",
    "ax11.set_ylim( (MinAET, MaxAET) )\n",
    "ax11.grid(True, axis='y', which='both')\n",
    "ax11.set_ylabel('Monthly AET $\\Delta$ ($m^{3}$)', fontsize=12 )\n",
    "ax11.legend( loc='upper center', fontsize=10, framealpha=1.0, ncol=2 )\n",
    "ax11.tick_params(axis='both', which='major', labelsize=11 )\n",
    "ax11.yaxis.set_major_formatter( mpl.ticker.StrMethodFormatter( \"{x:,.1E}\" ) )\n",
    "ax11.xaxis.set_major_formatter( mpl.dates.DateFormatter(\"%Y–%m–%d\") )\n",
    "Fig1.savefig( OutSVG )\n",
    "Fig1.savefig( OutPNG )"
   ]
  },
  {
   "cell_type": "code",
   "execution_count": 100,
   "metadata": {},
   "outputs": [
    {
     "data": {
      "text/plain": [
       "(1747841.7501347733, -6722.316644993665)"
      ]
     },
     "execution_count": 100,
     "metadata": {},
     "output_type": "execute_result"
    }
   ],
   "source": [
    "MaxRO = max( CC_BFHR2_RO_95.max(), BA_BFHR2_RO_95.max() )\n",
    "MinRO = min( CC_BFHR2_RO_05.min(), BA_BFHR2_RO_05.min() )\n",
    "MaxRO, MinRO"
   ]
  },
  {
   "cell_type": "code",
   "execution_count": 101,
   "metadata": {},
   "outputs": [],
   "source": [
    "MaxRO = 2000000.0\n",
    "MinRO = -1500000.0"
   ]
  },
  {
   "cell_type": "code",
   "execution_count": 102,
   "metadata": {},
   "outputs": [],
   "source": [
    "roTicks = [ -1000000.0, -500000.0, 0.0, 500000.0, 1000000.0, 1500000.0 ]"
   ]
  },
  {
   "cell_type": "code",
   "execution_count": 103,
   "metadata": {},
   "outputs": [
    {
     "data": {
      "text/plain": [
       "'C:\\\\Users\\\\nmart\\\\Documents\\\\CC_Plots\\\\Results_CompHR2_RODelta.svg'"
      ]
     },
     "execution_count": 103,
     "metadata": {},
     "output_type": "execute_result"
    }
   ],
   "source": [
    "OutSVG = os.path.normpath( os.path.join( OUT_DIR, \"Results_CompHR2_RODelta.svg\" ) )\n",
    "OutSVG"
   ]
  },
  {
   "cell_type": "code",
   "execution_count": 104,
   "metadata": {},
   "outputs": [
    {
     "data": {
      "text/plain": [
       "'C:\\\\Users\\\\nmart\\\\Documents\\\\CC_Plots\\\\Results_CompHR2_RODelta.png'"
      ]
     },
     "execution_count": 104,
     "metadata": {},
     "output_type": "execute_result"
    }
   ],
   "source": [
    "OutPNG = os.path.normpath( os.path.join( OUT_DIR, \"Results_CompHR2_RODelta.png\" ) )\n",
    "OutPNG"
   ]
  },
  {
   "cell_type": "code",
   "execution_count": 105,
   "metadata": {},
   "outputs": [
    {
     "data": {
      "image/png": "[encoded data removed]",
      "text/plain": [
       "<Figure size 576x234 with 1 Axes>"
      ]
     },
     "metadata": {
      "needs_background": "light"
     },
     "output_type": "display_data"
    }
   ],
   "source": [
    "Fig1 = plt.figure()\n",
    "Fig1.set_size_inches(8.0, 3.25)\n",
    "ax11 = Fig1.add_subplot(111)\n",
    "ax11.plot( [TP_DICT[2][0], TP_DICT[2][0]], [MinRO, MaxRO], linestyle='-', zorder=3,\n",
    "           linewidth=2, color='xkcd:dark orange', label=\"Climate Normals Boundary\")\n",
    "ax11.plot( [TP_DICT[3][0], TP_DICT[3][0]], [MinRO, MaxRO], linestyle='-',\n",
    "           linewidth=2, color='xkcd:dark orange', zorder=3 )\n",
    "ax11.plot( [TP_DICT[4][0], TP_DICT[4][0]], [MinRO, MaxRO], linestyle='-',\n",
    "           linewidth=2, color='xkcd:dark orange', zorder=3 )\n",
    "cc90 = ax11.fill( DTTimeList, CC_FlHR2_RO_90, color='xkcd:sand', alpha=1.0, \n",
    "                  label=\"CC: 5–95th percentile range\", zorder=2)\n",
    "cc50 = ax11.fill( DTTimeList, CC_FlHR2_RO_IQR, color='xkcd:puce', alpha=1.0, \n",
    "                  label=\"CC: 25–75th percentile range\", zorder=2)\n",
    "ax11.plot( ForTimeList, CC_BFHR2_RO_Med, linestyle='-', zorder=4,\n",
    "           linewidth=2, color='xkcd:goldenrod', label='CC: Median' )\n",
    "ax11.plot( ForTimeList, CC_BFHR2_RO_Ave, linestyle=':', zorder=4,\n",
    "           linewidth=3, color='xkcd:terracotta', label='CC: Mean' )\n",
    "ba90 = ax11.fill( DTTimeList, BA_FlHR2_RO_90, color='xkcd:pastel blue', alpha=0.55, \n",
    "                  label=\"LULCCC: 5–95th percentile range\", zorder=2 )\n",
    "ba50 = ax11.fill( DTTimeList, BA_FlHR2_RO_IQR, color='xkcd:denim blue', alpha=0.55, \n",
    "                  label=\"LULCCC: 25–75th percentile range\", zorder=2 )\n",
    "ax11.plot( ForTimeList, BA_BFHR2_RO_Med, linestyle='-', zorder=4,\n",
    "           linewidth=2, color='xkcd:bright blue', label='LULCCC: Median' )\n",
    "ax11.plot( ForTimeList, BA_BFHR2_RO_Ave, linestyle=':', zorder=4,\n",
    "           linewidth=3, color='xkcd:cyan', label='LULCCC: Mean' )\n",
    "ax11.set_xticks( [ dt.datetime(2010, 1, 1), dt.datetime(2040, 1, 1), dt.datetime(2070, 1, 1),\n",
    "                  dt.datetime(2100, 1, 1) ] )\n",
    "ax11.set_xlim( (dt.datetime(2010, 1, 1), dt.datetime(2100, 1, 1)))\n",
    "ax11.set_yticks( roTicks )\n",
    "ax11.set_ylim( (MinRO, MaxRO) )\n",
    "ax11.grid(True, axis='y', which='both')\n",
    "ax11.set_ylabel('Monthly Runoff $\\Delta$ ($m^{3}$)', fontsize=12 )\n",
    "#ax11.legend( loc='upper center', fontsize=10, framealpha=1.0, ncol=3 )\n",
    "ax11.tick_params(axis='both', which='major', labelsize=11 )\n",
    "ax11.yaxis.set_major_formatter( mpl.ticker.StrMethodFormatter( \"{x:,.1E}\" ) )\n",
    "ax11.xaxis.set_major_formatter( mpl.dates.DateFormatter(\"%Y–%m–%d\") )\n",
    "Fig1.savefig( OutSVG )\n",
    "Fig1.savefig( OutPNG )"
   ]
  },
  {
   "cell_type": "code",
   "execution_count": 106,
   "metadata": {},
   "outputs": [
    {
     "data": {
      "text/plain": [
       "(890362.6950821339, -1063141.583337032)"
      ]
     },
     "execution_count": 106,
     "metadata": {},
     "output_type": "execute_result"
    }
   ],
   "source": [
    "MaxRE = max( CC_BFHR2_RE_95.max(), BA_BFHR2_RE_95.max() )\n",
    "MinRE = min( CC_BFHR2_RE_05.min(), BA_BFHR2_RE_05.min() )\n",
    "MaxRE, MinRE"
   ]
  },
  {
   "cell_type": "code",
   "execution_count": 107,
   "metadata": {},
   "outputs": [],
   "source": [
    "MaxRE = 2000000.0\n",
    "MinRE = -1500000.0"
   ]
  },
  {
   "cell_type": "code",
   "execution_count": 108,
   "metadata": {},
   "outputs": [],
   "source": [
    "reTicks = [ -1000000.0, -500000.0, 0.0, 500000.0, 1000000.0, 1500000.0 ]"
   ]
  },
  {
   "cell_type": "code",
   "execution_count": 109,
   "metadata": {},
   "outputs": [
    {
     "data": {
      "text/plain": [
       "'C:\\\\Users\\\\nmart\\\\Documents\\\\CC_Plots\\\\Results_CompHR2_REDelta.svg'"
      ]
     },
     "execution_count": 109,
     "metadata": {},
     "output_type": "execute_result"
    }
   ],
   "source": [
    "OutSVG = os.path.normpath( os.path.join( OUT_DIR, \"Results_CompHR2_REDelta.svg\" ) )\n",
    "OutSVG"
   ]
  },
  {
   "cell_type": "code",
   "execution_count": 110,
   "metadata": {},
   "outputs": [
    {
     "data": {
      "text/plain": [
       "'C:\\\\Users\\\\nmart\\\\Documents\\\\CC_Plots\\\\Results_CompHR2_REDelta.png'"
      ]
     },
     "execution_count": 110,
     "metadata": {},
     "output_type": "execute_result"
    }
   ],
   "source": [
    "OutPNG = os.path.normpath( os.path.join( OUT_DIR, \"Results_CompHR2_REDelta.png\" ) )\n",
    "OutPNG"
   ]
  },
  {
   "cell_type": "code",
   "execution_count": 111,
   "metadata": {},
   "outputs": [
    {
     "data": {
      "image/png": "[encoded data removed]",
      "text/plain": [
       "<Figure size 576x234 with 1 Axes>"
      ]
     },
     "metadata": {
      "needs_background": "light"
     },
     "output_type": "display_data"
    }
   ],
   "source": [
    "Fig1 = plt.figure()\n",
    "Fig1.set_size_inches(8.0, 3.25)\n",
    "ax11 = Fig1.add_subplot(111)\n",
    "ax11.plot( [TP_DICT[2][0], TP_DICT[2][0]], [MinRE, MaxRE], linestyle='-', zorder=3,\n",
    "           linewidth=2, color='xkcd:dark orange', label=\"Climate Normals Boundary\")\n",
    "ax11.plot( [TP_DICT[3][0], TP_DICT[3][0]], [MinRE, MaxRE], linestyle='-',\n",
    "           linewidth=2, color='xkcd:dark orange', zorder=3 )\n",
    "ax11.plot( [TP_DICT[4][0], TP_DICT[4][0]], [MinRE, MaxRE], linestyle='-',\n",
    "           linewidth=2, color='xkcd:dark orange', zorder=3 )\n",
    "cc90 = ax11.fill( DTTimeList, CC_FlHR2_RE_90, color='xkcd:sand', alpha=1.0, \n",
    "                  label=\"CC: 5–95th percentile range\", zorder=2)\n",
    "cc50 = ax11.fill( DTTimeList, CC_FlHR2_RE_IQR, color='xkcd:puce', alpha=1.0, \n",
    "                  label=\"CC: 25–75th percentile range\", zorder=2)\n",
    "ax11.plot( ForTimeList, CC_BFHR2_RE_Med, linestyle='-', zorder=4,\n",
    "           linewidth=2, color='xkcd:goldenrod', label='CC: Median' )\n",
    "ax11.plot( ForTimeList, CC_BFHR2_RE_Ave, linestyle=':', zorder=4,\n",
    "           linewidth=3, color='xkcd:terracotta', label='CC: Mean' )\n",
    "ba90 = ax11.fill( DTTimeList, BA_FlHR2_RE_90, color='xkcd:pastel blue', alpha=0.55, \n",
    "                  label=\"LULCCC: 5–95th percentile range\", zorder=2 )\n",
    "ba50 = ax11.fill( DTTimeList, BA_FlHR2_RE_IQR, color='xkcd:denim blue', alpha=0.55, \n",
    "                  label=\"LULCCC: 25–75th percentile range\", zorder=2 )\n",
    "ax11.plot( ForTimeList, BA_BFHR2_RE_Med, linestyle='-', zorder=4,\n",
    "           linewidth=2, color='xkcd:bright blue', label='LULCCC: Median' )\n",
    "ax11.plot( ForTimeList, BA_BFHR2_RE_Ave, linestyle=':', zorder=4,\n",
    "           linewidth=3, color='xkcd:cyan', label='LULCCC: Mean' )\n",
    "ax11.set_xticks( [ dt.datetime(2010, 1, 1), dt.datetime(2040, 1, 1), dt.datetime(2070, 1, 1),\n",
    "                  dt.datetime(2100, 1, 1) ] )\n",
    "ax11.set_xlim( (dt.datetime(2010, 1, 1), dt.datetime(2100, 1, 1)))\n",
    "ax11.set_yticks( reTicks )\n",
    "ax11.set_ylim( (MinRE, MaxRE) )\n",
    "ax11.grid(True, axis='y', which='both')\n",
    "ax11.set_ylabel('Monthly Recharge $\\Delta$ ($m^{3}$)', fontsize=12 )\n",
    "#ax11.legend( loc='upper center', fontsize=10, framealpha=1.0, ncol=3 )\n",
    "ax11.tick_params(axis='both', which='major', labelsize=11 )\n",
    "ax11.yaxis.set_major_formatter( mpl.ticker.StrMethodFormatter( \"{x:,.1E}\" ) )\n",
    "ax11.xaxis.set_major_formatter( mpl.dates.DateFormatter(\"%Y–%m–%d\") )\n",
    "Fig1.savefig( OutSVG )\n",
    "Fig1.savefig( OutPNG )"
   ]
  },
  {
   "cell_type": "markdown",
   "metadata": {},
   "source": [
    "### Reach 1"
   ]
  },
  {
   "cell_type": "code",
   "execution_count": 112,
   "metadata": {},
   "outputs": [],
   "source": [
    "InFiler = os.path.normpath( os.path.join( IN_DIR, XLSX_ROOT % ( REG_SIM_ROOT % \"RR1\" ) ) )\n",
    "CCRR1_1_AET = pd.read_excel( InFiler, sheet_name=\"AET_1\", header=0, names=RdHds, index_col=0, parse_dates=True )\n",
    "CCRR1_2_AET = pd.read_excel( InFiler, sheet_name=\"AET_2\", header=0, names=RdHds, index_col=0, parse_dates=True )\n",
    "CCRR1_3_AET = pd.read_excel( InFiler, sheet_name=\"AET_3\", header=0, names=RdHds, index_col=0, parse_dates=True )\n",
    "CCRR1_4_AET = pd.read_excel( InFiler, sheet_name=\"AET_4\", header=0, names=RdHds, index_col=0, parse_dates=True )\n",
    "CCRR1_1_RO = pd.read_excel( InFiler, sheet_name=\"RO_1\", header=0, names=RdHds, index_col=0, parse_dates=True )\n",
    "CCRR1_2_RO = pd.read_excel( InFiler, sheet_name=\"RO_2\", header=0, names=RdHds, index_col=0, parse_dates=True )\n",
    "CCRR1_3_RO = pd.read_excel( InFiler, sheet_name=\"RO_3\", header=0, names=RdHds, index_col=0, parse_dates=True )\n",
    "CCRR1_4_RO = pd.read_excel( InFiler, sheet_name=\"RO_4\", header=0, names=RdHds, index_col=0, parse_dates=True )\n",
    "CCRR1_1_RE = pd.read_excel( InFiler, sheet_name=\"RE_1\", header=0, names=RdHds, index_col=0, parse_dates=True )\n",
    "CCRR1_2_RE = pd.read_excel( InFiler, sheet_name=\"RE_2\", header=0, names=RdHds, index_col=0, parse_dates=True )\n",
    "CCRR1_3_RE = pd.read_excel( InFiler, sheet_name=\"RE_3\", header=0, names=RdHds, index_col=0, parse_dates=True )\n",
    "CCRR1_4_RE = pd.read_excel( InFiler, sheet_name=\"RE_4\", header=0, names=RdHds, index_col=0, parse_dates=True )"
   ]
  },
  {
   "cell_type": "code",
   "execution_count": 113,
   "metadata": {},
   "outputs": [],
   "source": [
    "CCRR1_1_AET = CCRR1_1_AET * MultAFtoM3\n",
    "CCRR1_2_AET = CCRR1_2_AET * MultAFtoM3\n",
    "CCRR1_3_AET = CCRR1_3_AET * MultAFtoM3\n",
    "CCRR1_4_AET = CCRR1_4_AET * MultAFtoM3\n",
    "CCRR1_1_RO = CCRR1_1_RO * MultAFtoM3\n",
    "CCRR1_2_RO = CCRR1_2_RO * MultAFtoM3\n",
    "CCRR1_3_RO = CCRR1_3_RO * MultAFtoM3\n",
    "CCRR1_4_RO = CCRR1_4_RO * MultAFtoM3\n",
    "CCRR1_1_RE = CCRR1_1_RE * MultAFtoM3\n",
    "CCRR1_2_RE = CCRR1_2_RE * MultAFtoM3\n",
    "CCRR1_3_RE = CCRR1_3_RE * MultAFtoM3\n",
    "CCRR1_4_RE = CCRR1_4_RE * MultAFtoM3"
   ]
  },
  {
   "cell_type": "code",
   "execution_count": 114,
   "metadata": {},
   "outputs": [],
   "source": [
    "InFiler = os.path.normpath( os.path.join( IN_DIR, XLSX_ROOT % ( BAS_SIM_ROOT % \"RR1\" ) ) )\n",
    "BARR1_1_AET = pd.read_excel( InFiler, sheet_name=\"AET_1\", header=0, names=RdHds, index_col=0, parse_dates=True )\n",
    "BARR1_2_AET = pd.read_excel( InFiler, sheet_name=\"AET_2\", header=0, names=RdHds, index_col=0, parse_dates=True )\n",
    "BARR1_3_AET = pd.read_excel( InFiler, sheet_name=\"AET_3\", header=0, names=RdHds, index_col=0, parse_dates=True )\n",
    "BARR1_4_AET = pd.read_excel( InFiler, sheet_name=\"AET_4\", header=0, names=RdHds, index_col=0, parse_dates=True )\n",
    "BARR1_1_RO = pd.read_excel( InFiler, sheet_name=\"RO_1\", header=0, names=RdHds, index_col=0, parse_dates=True )\n",
    "BARR1_2_RO = pd.read_excel( InFiler, sheet_name=\"RO_2\", header=0, names=RdHds, index_col=0, parse_dates=True )\n",
    "BARR1_3_RO = pd.read_excel( InFiler, sheet_name=\"RO_3\", header=0, names=RdHds, index_col=0, parse_dates=True )\n",
    "BARR1_4_RO = pd.read_excel( InFiler, sheet_name=\"RO_4\", header=0, names=RdHds, index_col=0, parse_dates=True )\n",
    "BARR1_1_RE = pd.read_excel( InFiler, sheet_name=\"RE_1\", header=0, names=RdHds, index_col=0, parse_dates=True )\n",
    "BARR1_2_RE = pd.read_excel( InFiler, sheet_name=\"RE_2\", header=0, names=RdHds, index_col=0, parse_dates=True )\n",
    "BARR1_3_RE = pd.read_excel( InFiler, sheet_name=\"RE_3\", header=0, names=RdHds, index_col=0, parse_dates=True )\n",
    "BARR1_4_RE = pd.read_excel( InFiler, sheet_name=\"RE_4\", header=0, names=RdHds, index_col=0, parse_dates=True )"
   ]
  },
  {
   "cell_type": "code",
   "execution_count": 115,
   "metadata": {},
   "outputs": [],
   "source": [
    "BARR1_1_AET = BARR1_1_AET * MultAFtoM3\n",
    "BARR1_2_AET = BARR1_2_AET * MultAFtoM3\n",
    "BARR1_3_AET = BARR1_3_AET * MultAFtoM3\n",
    "BARR1_4_AET = BARR1_4_AET * MultAFtoM3\n",
    "BARR1_1_RO = BARR1_1_RO * MultAFtoM3\n",
    "BARR1_2_RO = BARR1_2_RO * MultAFtoM3\n",
    "BARR1_3_RO = BARR1_3_RO * MultAFtoM3\n",
    "BARR1_4_RO = BARR1_4_RO * MultAFtoM3\n",
    "BARR1_1_RE = BARR1_1_RE * MultAFtoM3\n",
    "BARR1_2_RE = BARR1_2_RE * MultAFtoM3\n",
    "BARR1_3_RE = BARR1_3_RE * MultAFtoM3\n",
    "BARR1_4_RE = BARR1_4_RE * MultAFtoM3"
   ]
  },
  {
   "cell_type": "markdown",
   "metadata": {},
   "source": [
    "Make continuous time series"
   ]
  },
  {
   "cell_type": "code",
   "execution_count": 116,
   "metadata": {},
   "outputs": [],
   "source": [
    "CCRR1_AET_DF = pd.concat( [CCRR1_1_AET, CCRR1_2_AET, CCRR1_3_AET, CCRR1_4_AET ])\n",
    "CCRR1_RO_DF = pd.concat( [CCRR1_1_RO, CCRR1_2_RO, CCRR1_3_RO, CCRR1_4_RO ])\n",
    "CCRR1_RE_DF = pd.concat( [CCRR1_1_RE, CCRR1_2_RE, CCRR1_3_RE, CCRR1_4_RE ])"
   ]
  },
  {
   "cell_type": "code",
   "execution_count": 117,
   "metadata": {},
   "outputs": [],
   "source": [
    "BARR1_AET_DF = pd.concat( [BARR1_1_AET, BARR1_2_AET, BARR1_3_AET, BARR1_4_AET ])\n",
    "BARR1_RO_DF = pd.concat( [BARR1_1_RO, BARR1_2_RO, BARR1_3_RO, BARR1_4_RO ])\n",
    "BARR1_RE_DF = pd.concat( [BARR1_1_RE, BARR1_2_RE, BARR1_3_RE, BARR1_4_RE ])"
   ]
  },
  {
   "cell_type": "markdown",
   "metadata": {},
   "source": [
    "Butterworth filtering"
   ]
  },
  {
   "cell_type": "code",
   "execution_count": 118,
   "metadata": {},
   "outputs": [],
   "source": [
    "wAr = CCRR1_AET_DF[StatsHdsList[95]].to_numpy()\n",
    "CC_BFRR1_AET_95 = butter_lowpass_filter(wAr, CUTOFF, FS )\n",
    "wAr = CCRR1_AET_DF[StatsHdsList[5]].to_numpy()\n",
    "CC_BFRR1_AET_05 = butter_lowpass_filter(wAr, CUTOFF, FS )\n",
    "wAr = CCRR1_AET_DF[StatsHdsList[75]].to_numpy()\n",
    "CC_BFRR1_AET_75 = butter_lowpass_filter(wAr, CUTOFF, FS )\n",
    "wAr = CCRR1_AET_DF[StatsHdsList[25]].to_numpy()\n",
    "CC_BFRR1_AET_25 = butter_lowpass_filter(wAr, CUTOFF, FS )\n",
    "wAr = CCRR1_AET_DF[StatsHdsList[50]].to_numpy()\n",
    "CC_BFRR1_AET_Med = butter_lowpass_filter(wAr, CUTOFF, FS )\n",
    "wAr = CCRR1_AET_DF[StatsHdsList[101]].to_numpy()\n",
    "CC_BFRR1_AET_Ave = butter_lowpass_filter(wAr, CUTOFF, FS )"
   ]
  },
  {
   "cell_type": "code",
   "execution_count": 119,
   "metadata": {},
   "outputs": [],
   "source": [
    "wAr = CCRR1_RO_DF[StatsHdsList[95]].to_numpy()\n",
    "CC_BFRR1_RO_95 = butter_lowpass_filter(wAr, CUTOFF, FS )\n",
    "wAr = CCRR1_RO_DF[StatsHdsList[5]].to_numpy()\n",
    "CC_BFRR1_RO_05 = butter_lowpass_filter(wAr, CUTOFF, FS )\n",
    "wAr = CCRR1_RO_DF[StatsHdsList[75]].to_numpy()\n",
    "CC_BFRR1_RO_75 = butter_lowpass_filter(wAr, CUTOFF, FS )\n",
    "wAr = CCRR1_RO_DF[StatsHdsList[25]].to_numpy()\n",
    "CC_BFRR1_RO_25 = butter_lowpass_filter(wAr, CUTOFF, FS )\n",
    "wAr = CCRR1_RO_DF[StatsHdsList[50]].to_numpy()\n",
    "CC_BFRR1_RO_Med = butter_lowpass_filter(wAr, CUTOFF, FS )\n",
    "wAr = CCRR1_RO_DF[StatsHdsList[101]].to_numpy()\n",
    "CC_BFRR1_RO_Ave = butter_lowpass_filter(wAr, CUTOFF, FS )"
   ]
  },
  {
   "cell_type": "code",
   "execution_count": 120,
   "metadata": {},
   "outputs": [],
   "source": [
    "wAr = CCRR1_RE_DF[StatsHdsList[95]].to_numpy()\n",
    "CC_BFRR1_RE_95 = butter_lowpass_filter(wAr, CUTOFF, FS )\n",
    "wAr = CCRR1_RE_DF[StatsHdsList[5]].to_numpy()\n",
    "CC_BFRR1_RE_05 = butter_lowpass_filter(wAr, CUTOFF, FS )\n",
    "wAr = CCRR1_RE_DF[StatsHdsList[75]].to_numpy()\n",
    "CC_BFRR1_RE_75 = butter_lowpass_filter(wAr, CUTOFF, FS )\n",
    "wAr = CCRR1_RE_DF[StatsHdsList[25]].to_numpy()\n",
    "CC_BFRR1_RE_25 = butter_lowpass_filter(wAr, CUTOFF, FS )\n",
    "wAr = CCRR1_RE_DF[StatsHdsList[50]].to_numpy()\n",
    "CC_BFRR1_RE_Med = butter_lowpass_filter(wAr, CUTOFF, FS )\n",
    "wAr = CCRR1_RE_DF[StatsHdsList[101]].to_numpy()\n",
    "CC_BFRR1_RE_Ave = butter_lowpass_filter(wAr, CUTOFF, FS )"
   ]
  },
  {
   "cell_type": "code",
   "execution_count": 121,
   "metadata": {},
   "outputs": [],
   "source": [
    "wAr = BARR1_AET_DF[StatsHdsList[95]].to_numpy()\n",
    "BA_BFRR1_AET_95 = butter_lowpass_filter(wAr, CUTOFF, FS )\n",
    "wAr = BARR1_AET_DF[StatsHdsList[5]].to_numpy()\n",
    "BA_BFRR1_AET_05 = butter_lowpass_filter(wAr, CUTOFF, FS )\n",
    "wAr = BARR1_AET_DF[StatsHdsList[75]].to_numpy()\n",
    "BA_BFRR1_AET_75 = butter_lowpass_filter(wAr, CUTOFF, FS )\n",
    "wAr = BARR1_AET_DF[StatsHdsList[25]].to_numpy()\n",
    "BA_BFRR1_AET_25 = butter_lowpass_filter(wAr, CUTOFF, FS )\n",
    "wAr = BARR1_AET_DF[StatsHdsList[50]].to_numpy()\n",
    "BA_BFRR1_AET_Med = butter_lowpass_filter(wAr, CUTOFF, FS )\n",
    "wAr = BARR1_AET_DF[StatsHdsList[101]].to_numpy()\n",
    "BA_BFRR1_AET_Ave = butter_lowpass_filter(wAr, CUTOFF, FS )"
   ]
  },
  {
   "cell_type": "code",
   "execution_count": 122,
   "metadata": {},
   "outputs": [],
   "source": [
    "wAr = BARR1_RO_DF[StatsHdsList[95]].to_numpy()\n",
    "BA_BFRR1_RO_95 = butter_lowpass_filter(wAr, CUTOFF, FS )\n",
    "wAr = BARR1_RO_DF[StatsHdsList[5]].to_numpy()\n",
    "BA_BFRR1_RO_05 = butter_lowpass_filter(wAr, CUTOFF, FS )\n",
    "wAr = BARR1_RO_DF[StatsHdsList[75]].to_numpy()\n",
    "BA_BFRR1_RO_75 = butter_lowpass_filter(wAr, CUTOFF, FS )\n",
    "wAr = BARR1_RO_DF[StatsHdsList[25]].to_numpy()\n",
    "BA_BFRR1_RO_25 = butter_lowpass_filter(wAr, CUTOFF, FS )\n",
    "wAr = BARR1_RO_DF[StatsHdsList[50]].to_numpy()\n",
    "BA_BFRR1_RO_Med = butter_lowpass_filter(wAr, CUTOFF, FS )\n",
    "wAr = BARR1_RO_DF[StatsHdsList[101]].to_numpy()\n",
    "BA_BFRR1_RO_Ave = butter_lowpass_filter(wAr, CUTOFF, FS )"
   ]
  },
  {
   "cell_type": "code",
   "execution_count": 123,
   "metadata": {},
   "outputs": [],
   "source": [
    "wAr = BARR1_RE_DF[StatsHdsList[95]].to_numpy()\n",
    "BA_BFRR1_RE_95 = butter_lowpass_filter(wAr, CUTOFF, FS )\n",
    "wAr = BARR1_RE_DF[StatsHdsList[5]].to_numpy()\n",
    "BA_BFRR1_RE_05 = butter_lowpass_filter(wAr, CUTOFF, FS )\n",
    "wAr = BARR1_RE_DF[StatsHdsList[75]].to_numpy()\n",
    "BA_BFRR1_RE_75 = butter_lowpass_filter(wAr, CUTOFF, FS )\n",
    "wAr = BARR1_RE_DF[StatsHdsList[25]].to_numpy()\n",
    "BA_BFRR1_RE_25 = butter_lowpass_filter(wAr, CUTOFF, FS )\n",
    "wAr = BARR1_RE_DF[StatsHdsList[50]].to_numpy()\n",
    "BA_BFRR1_RE_Med = butter_lowpass_filter(wAr, CUTOFF, FS )\n",
    "wAr = BARR1_RE_DF[StatsHdsList[101]].to_numpy()\n",
    "BA_BFRR1_RE_Ave = butter_lowpass_filter(wAr, CUTOFF, FS )"
   ]
  },
  {
   "cell_type": "markdown",
   "metadata": {},
   "source": [
    "Make the polygons for fills"
   ]
  },
  {
   "cell_type": "code",
   "execution_count": 124,
   "metadata": {},
   "outputs": [],
   "source": [
    "CC_FlRR1_AET_90 = list( CC_BFRR1_AET_05 )\n",
    "BackDTList = list( CC_BFRR1_AET_95 )\n",
    "CC_BkFlRR1_AET_90 = BackDTList[::-1]\n",
    "CC_FlRR1_AET_90.extend( CC_BkFlRR1_AET_90 )\n",
    "CC_FlRR1_AET_IQR = list( CC_BFRR1_AET_25 )\n",
    "BackDTList = list( CC_BFRR1_AET_75 )\n",
    "CC_BkFlRR1_AET_IQR = BackDTList[::-1]\n",
    "CC_FlRR1_AET_IQR.extend( CC_BkFlRR1_AET_IQR )"
   ]
  },
  {
   "cell_type": "code",
   "execution_count": 125,
   "metadata": {},
   "outputs": [],
   "source": [
    "CC_FlRR1_RO_90 = list( CC_BFRR1_RO_05 )\n",
    "BackDTList = list( CC_BFRR1_RO_95 )\n",
    "CC_BkFlRR1_RO_90 = BackDTList[::-1]\n",
    "CC_FlRR1_RO_90.extend( CC_BkFlRR1_RO_90 )\n",
    "CC_FlRR1_RO_IQR = list( CC_BFRR1_RO_25 )\n",
    "BackDTList = list( CC_BFRR1_RO_75 )\n",
    "CC_BkFlRR1_RO_IQR = BackDTList[::-1]\n",
    "CC_FlRR1_RO_IQR.extend( CC_BkFlRR1_RO_IQR )"
   ]
  },
  {
   "cell_type": "code",
   "execution_count": 126,
   "metadata": {},
   "outputs": [],
   "source": [
    "CC_FlRR1_RE_90 = list( CC_BFRR1_RE_05 )\n",
    "BackDTList = list( CC_BFRR1_RE_95 )\n",
    "CC_BkFlRR1_RE_90 = BackDTList[::-1]\n",
    "CC_FlRR1_RE_90.extend( CC_BkFlRR1_RE_90 )\n",
    "CC_FlRR1_RE_IQR = list( CC_BFRR1_RE_25 )\n",
    "BackDTList = list( CC_BFRR1_RE_75 )\n",
    "CC_BkFlRR1_RE_IQR = BackDTList[::-1]\n",
    "CC_FlRR1_RE_IQR.extend( CC_BkFlRR1_RE_IQR )"
   ]
  },
  {
   "cell_type": "code",
   "execution_count": 127,
   "metadata": {},
   "outputs": [],
   "source": [
    "BA_FlRR1_AET_90 = list( BA_BFRR1_AET_05 )\n",
    "BackDTList = list( BA_BFRR1_AET_95 )\n",
    "BA_BkFlRR1_AET_90 = BackDTList[::-1]\n",
    "BA_FlRR1_AET_90.extend( BA_BkFlRR1_AET_90 )\n",
    "BA_FlRR1_AET_IQR = list( BA_BFRR1_AET_25 )\n",
    "BackDTList = list( BA_BFRR1_AET_75 )\n",
    "BA_BkFlRR1_AET_IQR = BackDTList[::-1]\n",
    "BA_FlRR1_AET_IQR.extend( BA_BkFlRR1_AET_IQR )"
   ]
  },
  {
   "cell_type": "code",
   "execution_count": 128,
   "metadata": {},
   "outputs": [],
   "source": [
    "BA_FlRR1_RO_90 = list( BA_BFRR1_RO_05 )\n",
    "BackDTList = list( BA_BFRR1_RO_95 )\n",
    "BA_BkFlRR1_RO_90 = BackDTList[::-1]\n",
    "BA_FlRR1_RO_90.extend( BA_BkFlRR1_RO_90 )\n",
    "BA_FlRR1_RO_IQR = list( BA_BFRR1_RO_25 )\n",
    "BackDTList = list( BA_BFRR1_RO_75 )\n",
    "BA_BkFlRR1_RO_IQR = BackDTList[::-1]\n",
    "BA_FlRR1_RO_IQR.extend( BA_BkFlRR1_RO_IQR )"
   ]
  },
  {
   "cell_type": "code",
   "execution_count": 129,
   "metadata": {},
   "outputs": [],
   "source": [
    "BA_FlRR1_RE_90 = list( BA_BFRR1_RE_05 )\n",
    "BackDTList = list( BA_BFRR1_RE_95 )\n",
    "BA_BkFlRR1_RE_90 = BackDTList[::-1]\n",
    "BA_FlRR1_RE_90.extend( BA_BkFlRR1_RE_90 )\n",
    "BA_FlRR1_RE_IQR = list( BA_BFRR1_RE_25 )\n",
    "BackDTList = list( BA_BFRR1_RE_75 )\n",
    "BA_BkFlRR1_RE_IQR = BackDTList[::-1]\n",
    "BA_FlRR1_RE_IQR.extend( BA_BkFlRR1_RE_IQR )"
   ]
  },
  {
   "cell_type": "markdown",
   "metadata": {},
   "source": [
    "#### Plots"
   ]
  },
  {
   "cell_type": "code",
   "execution_count": 161,
   "metadata": {},
   "outputs": [
    {
     "data": {
      "text/plain": [
       "(220516.34667239457, -1126.832553909557)"
      ]
     },
     "execution_count": 161,
     "metadata": {},
     "output_type": "execute_result"
    }
   ],
   "source": [
    "MaxAET = max( CC_BFRR1_AET_95.max(), BA_BFRR1_AET_95.max() )\n",
    "MinAET = min( CC_BFRR1_AET_05.min(), BA_BFRR1_AET_05.min() )\n",
    "MaxAET, MinAET"
   ]
  },
  {
   "cell_type": "code",
   "execution_count": 162,
   "metadata": {},
   "outputs": [],
   "source": [
    "MaxAET = 8000000.0\n",
    "MinAET = -4000000.0"
   ]
  },
  {
   "cell_type": "code",
   "execution_count": 163,
   "metadata": {},
   "outputs": [],
   "source": [
    "aetTicks = [ -2000000.0, 0.0, 2000000.0, 4000000.0, 6000000.0 ]"
   ]
  },
  {
   "cell_type": "code",
   "execution_count": 164,
   "metadata": {},
   "outputs": [
    {
     "data": {
      "text/plain": [
       "'C:\\\\Users\\\\nmart\\\\Documents\\\\CC_Plots\\\\Results_CompRR1_AETDelta.svg'"
      ]
     },
     "execution_count": 164,
     "metadata": {},
     "output_type": "execute_result"
    }
   ],
   "source": [
    "OutSVG = os.path.normpath( os.path.join( OUT_DIR, \"Results_CompRR1_AETDelta.svg\" ) )\n",
    "OutSVG"
   ]
  },
  {
   "cell_type": "code",
   "execution_count": 165,
   "metadata": {},
   "outputs": [
    {
     "data": {
      "text/plain": [
       "'C:\\\\Users\\\\nmart\\\\Documents\\\\CC_Plots\\\\Results_CompRR1_AETDelta.png'"
      ]
     },
     "execution_count": 165,
     "metadata": {},
     "output_type": "execute_result"
    }
   ],
   "source": [
    "OutPNG = os.path.normpath( os.path.join( OUT_DIR, \"Results_CompRR1_AETDelta.png\" ) )\n",
    "OutPNG"
   ]
  },
  {
   "cell_type": "code",
   "execution_count": 166,
   "metadata": {},
   "outputs": [
    {
     "data": {
      "image/png": "[encoded data removed]",
      "text/plain": [
       "<Figure size 576x234 with 1 Axes>"
      ]
     },
     "metadata": {
      "needs_background": "light"
     },
     "output_type": "display_data"
    }
   ],
   "source": [
    "Fig1 = plt.figure()\n",
    "Fig1.set_size_inches(8.0, 3.25)\n",
    "ax11 = Fig1.add_subplot(111)\n",
    "ax11.plot( [TP_DICT[2][0], TP_DICT[2][0]], [MinAET, MaxAET], linestyle='-', zorder=3,\n",
    "           linewidth=2, color='xkcd:dark orange', label=\"Climate Normals Boundary\")\n",
    "ax11.plot( [TP_DICT[3][0], TP_DICT[3][0]], [MinAET, MaxAET], linestyle='-',\n",
    "           linewidth=2, color='xkcd:dark orange', zorder=3 )\n",
    "ax11.plot( [TP_DICT[4][0], TP_DICT[4][0]], [MinAET, MaxAET], linestyle='-',\n",
    "           linewidth=2, color='xkcd:dark orange', zorder=3 )\n",
    "cc90 = ax11.fill( DTTimeList, CC_FlRR1_AET_90, color='xkcd:sand', alpha=1.0, \n",
    "                  label=\"CC: 5–95th percentile range\", zorder=2)\n",
    "cc50 = ax11.fill( DTTimeList, CC_FlRR1_AET_IQR, color='xkcd:puce', alpha=1.0, \n",
    "                  label=\"CC: 25–75th percentile range\", zorder=2)\n",
    "ax11.plot( ForTimeList, CC_BFRR1_AET_Med, linestyle='-', zorder=4,\n",
    "           linewidth=2, color='xkcd:goldenrod', label='CC: Median' )\n",
    "ax11.plot( ForTimeList, CC_BFRR1_AET_Ave, linestyle=':', zorder=4,\n",
    "           linewidth=3, color='xkcd:terracotta', label='CC: Mean' )\n",
    "ba90 = ax11.fill( DTTimeList, BA_FlRR1_AET_90, color='xkcd:pastel blue', alpha=0.55, \n",
    "                  label=\"LULCCC: 5–95th percentile range\", zorder=2 )\n",
    "ba50 = ax11.fill( DTTimeList, BA_FlRR1_AET_IQR, color='xkcd:denim blue', alpha=0.55, \n",
    "                  label=\"LULCCC: 25–75th percentile range\", zorder=2 )\n",
    "ax11.plot( ForTimeList, BA_BFRR1_AET_Med, linestyle='-', zorder=4,\n",
    "           linewidth=2, color='xkcd:bright blue', label='LULCCC: Median' )\n",
    "ax11.plot( ForTimeList, BA_BFRR1_AET_Ave, linestyle=':', zorder=4,\n",
    "           linewidth=3, color='xkcd:cyan', label='LULCCC: Mean' )\n",
    "ax11.set_xticks( [ dt.datetime(2010, 1, 1), dt.datetime(2040, 1, 1), dt.datetime(2070, 1, 1),\n",
    "                  dt.datetime(2100, 1, 1) ] )\n",
    "ax11.set_xlim( (dt.datetime(2010, 1, 1), dt.datetime(2100, 1, 1)))\n",
    "ax11.set_yticks( aetTicks )\n",
    "ax11.set_ylim( (MinAET, MaxAET) )\n",
    "ax11.grid(True, axis='y', which='both')\n",
    "ax11.set_ylabel('Monthly Evaporation $\\Delta$ ($m^{3}$)', fontsize=12 )\n",
    "ax11.legend( loc='upper center', fontsize=10, framealpha=1.0, ncol=2 )\n",
    "ax11.tick_params(axis='both', which='major', labelsize=11 )\n",
    "ax11.yaxis.set_major_formatter( mpl.ticker.StrMethodFormatter( \"{x:,.0E}\" ) )\n",
    "ax11.xaxis.set_major_formatter( mpl.dates.DateFormatter(\"%Y–%m–%d\") )\n",
    "Fig1.savefig( OutSVG )\n",
    "Fig1.savefig( OutPNG )"
   ]
  },
  {
   "cell_type": "code",
   "execution_count": 167,
   "metadata": {},
   "outputs": [
    {
     "data": {
      "text/plain": [
       "(5455174.160052206, -4317.675783325433)"
      ]
     },
     "execution_count": 167,
     "metadata": {},
     "output_type": "execute_result"
    }
   ],
   "source": [
    "MaxRO = max( CC_BFRR1_RO_95.max(), BA_BFRR1_RO_95.max() )\n",
    "MinRO = min( CC_BFRR1_RO_05.min(), BA_BFRR1_RO_05.min() )\n",
    "MaxRO, MinRO"
   ]
  },
  {
   "cell_type": "code",
   "execution_count": 168,
   "metadata": {},
   "outputs": [],
   "source": [
    "MaxRO = 8000000.0\n",
    "MinRO = -4000000.0"
   ]
  },
  {
   "cell_type": "code",
   "execution_count": 169,
   "metadata": {},
   "outputs": [],
   "source": [
    "roTicks = [ -2000000.0, 0.0, 2000000.0, 4000000.0, 6000000.0 ]"
   ]
  },
  {
   "cell_type": "code",
   "execution_count": 170,
   "metadata": {},
   "outputs": [
    {
     "data": {
      "text/plain": [
       "'C:\\\\Users\\\\nmart\\\\Documents\\\\CC_Plots\\\\Results_CompRR1_RODelta.svg'"
      ]
     },
     "execution_count": 170,
     "metadata": {},
     "output_type": "execute_result"
    }
   ],
   "source": [
    "OutSVG = os.path.normpath( os.path.join( OUT_DIR, \"Results_CompRR1_RODelta.svg\" ) )\n",
    "OutSVG"
   ]
  },
  {
   "cell_type": "code",
   "execution_count": 171,
   "metadata": {},
   "outputs": [
    {
     "data": {
      "text/plain": [
       "'C:\\\\Users\\\\nmart\\\\Documents\\\\CC_Plots\\\\Results_CompRR1_RODelta.png'"
      ]
     },
     "execution_count": 171,
     "metadata": {},
     "output_type": "execute_result"
    }
   ],
   "source": [
    "OutPNG = os.path.normpath( os.path.join( OUT_DIR, \"Results_CompRR1_RODelta.png\" ) )\n",
    "OutPNG"
   ]
  },
  {
   "cell_type": "code",
   "execution_count": 172,
   "metadata": {},
   "outputs": [
    {
     "data": {
      "image/png": "[encoded data removed]",
      "text/plain": [
       "<Figure size 576x234 with 1 Axes>"
      ]
     },
     "metadata": {
      "needs_background": "light"
     },
     "output_type": "display_data"
    }
   ],
   "source": [
    "Fig1 = plt.figure()\n",
    "Fig1.set_size_inches(8.0, 3.25)\n",
    "ax11 = Fig1.add_subplot(111)\n",
    "ax11.plot( [TP_DICT[2][0], TP_DICT[2][0]], [MinRO, MaxRO], linestyle='-', zorder=3,\n",
    "           linewidth=2, color='xkcd:dark orange', label=\"Climate Normals Boundary\")\n",
    "ax11.plot( [TP_DICT[3][0], TP_DICT[3][0]], [MinRO, MaxRO], linestyle='-',\n",
    "           linewidth=2, color='xkcd:dark orange', zorder=3 )\n",
    "ax11.plot( [TP_DICT[4][0], TP_DICT[4][0]], [MinRO, MaxRO], linestyle='-',\n",
    "           linewidth=2, color='xkcd:dark orange', zorder=3 )\n",
    "cc90 = ax11.fill( DTTimeList, CC_FlRR1_RO_90, color='xkcd:sand', alpha=1.0, \n",
    "                  label=\"CC: 5–95th percentile range\", zorder=2)\n",
    "cc50 = ax11.fill( DTTimeList, CC_FlRR1_RO_IQR, color='xkcd:puce', alpha=1.0, \n",
    "                  label=\"CC: 25–75th percentile range\", zorder=2)\n",
    "ax11.plot( ForTimeList, CC_BFRR1_RO_Med, linestyle='-', zorder=4,\n",
    "           linewidth=2, color='xkcd:goldenrod', label='CC: Median' )\n",
    "ax11.plot( ForTimeList, CC_BFRR1_RO_Ave, linestyle=':', zorder=4,\n",
    "           linewidth=3, color='xkcd:terracotta', label='CC: Mean' )\n",
    "ba90 = ax11.fill( DTTimeList, BA_FlRR1_RO_90, color='xkcd:pastel blue', alpha=0.55, \n",
    "                  label=\"LULCCC: 5–95th percentile range\", zorder=2 )\n",
    "ba50 = ax11.fill( DTTimeList, BA_FlRR1_RO_IQR, color='xkcd:denim blue', alpha=0.55, \n",
    "                  label=\"LULCCC: 25–75th percentile range\", zorder=2 )\n",
    "ax11.plot( ForTimeList, BA_BFRR1_RO_Med, linestyle='-', zorder=4,\n",
    "           linewidth=2, color='xkcd:bright blue', label='LULCCC: Median' )\n",
    "ax11.plot( ForTimeList, BA_BFRR1_RO_Ave, linestyle=':', zorder=4,\n",
    "           linewidth=3, color='xkcd:cyan', label='LULCCC: Mean' )\n",
    "ax11.set_xticks( [ dt.datetime(2010, 1, 1), dt.datetime(2040, 1, 1), dt.datetime(2070, 1, 1),\n",
    "                  dt.datetime(2100, 1, 1) ] )\n",
    "ax11.set_xlim( (dt.datetime(2010, 1, 1), dt.datetime(2100, 1, 1)))\n",
    "ax11.set_yticks( roTicks )\n",
    "ax11.set_ylim( (MinRO, MaxRO) )\n",
    "ax11.grid(True, axis='y', which='both')\n",
    "ax11.set_ylabel('Monthly Discharge $\\Delta$ ($m^{3}$)', fontsize=12 )\n",
    "#ax11.legend( loc='upper center', fontsize=10, framealpha=1.0, ncol=3 )\n",
    "ax11.tick_params(axis='both', which='major', labelsize=11 )\n",
    "ax11.yaxis.set_major_formatter( mpl.ticker.StrMethodFormatter( \"{x:,.0E}\" ) )\n",
    "ax11.xaxis.set_major_formatter( mpl.dates.DateFormatter(\"%Y–%m–%d\") )\n",
    "Fig1.savefig( OutSVG )\n",
    "Fig1.savefig( OutPNG )"
   ]
  },
  {
   "cell_type": "code",
   "execution_count": 173,
   "metadata": {},
   "outputs": [
    {
     "data": {
      "text/plain": [
       "(265997.4380468031, -4317.35133897221)"
      ]
     },
     "execution_count": 173,
     "metadata": {},
     "output_type": "execute_result"
    }
   ],
   "source": [
    "MaxRE = max( CC_BFRR1_RE_95.max(), BA_BFRR1_RE_95.max() )\n",
    "MinRE = min( CC_BFRR1_RE_05.min(), BA_BFRR1_RE_05.min() )\n",
    "MaxRE, MinRE"
   ]
  },
  {
   "cell_type": "code",
   "execution_count": 174,
   "metadata": {},
   "outputs": [],
   "source": [
    "MaxRE = 8000000.0\n",
    "MinRE = -4000000.0"
   ]
  },
  {
   "cell_type": "code",
   "execution_count": 175,
   "metadata": {},
   "outputs": [],
   "source": [
    "reTicks = [ -2000000.0, 0.0, 2000000.0, 4000000.0, 6000000.0 ]"
   ]
  },
  {
   "cell_type": "code",
   "execution_count": 176,
   "metadata": {},
   "outputs": [
    {
     "data": {
      "text/plain": [
       "'C:\\\\Users\\\\nmart\\\\Documents\\\\CC_Plots\\\\Results_CompRR1_REDelta.svg'"
      ]
     },
     "execution_count": 176,
     "metadata": {},
     "output_type": "execute_result"
    }
   ],
   "source": [
    "OutSVG = os.path.normpath( os.path.join( OUT_DIR, \"Results_CompRR1_REDelta.svg\" ) )\n",
    "OutSVG"
   ]
  },
  {
   "cell_type": "code",
   "execution_count": 177,
   "metadata": {},
   "outputs": [
    {
     "data": {
      "text/plain": [
       "'C:\\\\Users\\\\nmart\\\\Documents\\\\CC_Plots\\\\Results_CompRR1_REDelta.png'"
      ]
     },
     "execution_count": 177,
     "metadata": {},
     "output_type": "execute_result"
    }
   ],
   "source": [
    "OutPNG = os.path.normpath( os.path.join( OUT_DIR, \"Results_CompRR1_REDelta.png\" ) )\n",
    "OutPNG"
   ]
  },
  {
   "cell_type": "code",
   "execution_count": 178,
   "metadata": {},
   "outputs": [
    {
     "data": {
      "image/png": "[encoded data removed]",
      "text/plain": [
       "<Figure size 576x234 with 1 Axes>"
      ]
     },
     "metadata": {
      "needs_background": "light"
     },
     "output_type": "display_data"
    }
   ],
   "source": [
    "Fig1 = plt.figure()\n",
    "Fig1.set_size_inches(8.0, 3.25)\n",
    "ax11 = Fig1.add_subplot(111)\n",
    "ax11.plot( [TP_DICT[2][0], TP_DICT[2][0]], [MinRE, MaxRE], linestyle='-', zorder=3,\n",
    "           linewidth=2, color='xkcd:dark orange', label=\"Climate Normals Boundary\")\n",
    "ax11.plot( [TP_DICT[3][0], TP_DICT[3][0]], [MinRE, MaxRE], linestyle='-',\n",
    "           linewidth=2, color='xkcd:dark orange', zorder=3 )\n",
    "ax11.plot( [TP_DICT[4][0], TP_DICT[4][0]], [MinRE, MaxRE], linestyle='-',\n",
    "           linewidth=2, color='xkcd:dark orange', zorder=3 )\n",
    "cc90 = ax11.fill( DTTimeList, CC_FlRR1_RE_90, color='xkcd:sand', alpha=1.0, \n",
    "                  label=\"CC: 5–95th percentile range\", zorder=2)\n",
    "cc50 = ax11.fill( DTTimeList, CC_FlRR1_RE_IQR, color='xkcd:puce', alpha=1.0, \n",
    "                  label=\"CC: 25–75th percentile range\", zorder=2)\n",
    "ax11.plot( ForTimeList, CC_BFRR1_RE_Med, linestyle='-', zorder=4,\n",
    "           linewidth=2, color='xkcd:goldenrod', label='CC: Median' )\n",
    "ax11.plot( ForTimeList, CC_BFRR1_RE_Ave, linestyle=':', zorder=4,\n",
    "           linewidth=3, color='xkcd:terracotta', label='CC: Mean' )\n",
    "ba90 = ax11.fill( DTTimeList, BA_FlRR1_RE_90, color='xkcd:pastel blue', alpha=0.55, \n",
    "                  label=\"LULCCC: 5–95th percentile range\", zorder=2 )\n",
    "ba50 = ax11.fill( DTTimeList, BA_FlRR1_RE_IQR, color='xkcd:denim blue', alpha=0.55, \n",
    "                  label=\"LULCCC: 25–75th percentile range\", zorder=2 )\n",
    "ax11.plot( ForTimeList, BA_BFRR1_RE_Med, linestyle='-', zorder=4,\n",
    "           linewidth=2, color='xkcd:bright blue', label='LULCCC: Median' )\n",
    "ax11.plot( ForTimeList, BA_BFRR1_RE_Ave, linestyle=':', zorder=4,\n",
    "           linewidth=3, color='xkcd:cyan', label='LULCCC: Mean' )\n",
    "ax11.set_xticks( [ dt.datetime(2010, 1, 1), dt.datetime(2040, 1, 1), dt.datetime(2070, 1, 1),\n",
    "                  dt.datetime(2100, 1, 1) ] )\n",
    "ax11.set_xlim( (dt.datetime(2010, 1, 1), dt.datetime(2100, 1, 1)))\n",
    "ax11.set_yticks( reTicks )\n",
    "ax11.set_ylim( (MinRE, MaxRE) )\n",
    "ax11.grid(True, axis='y', which='both')\n",
    "ax11.set_ylabel('Monthly Seepage $\\Delta$ ($m^{3}$)', fontsize=12 )\n",
    "#ax11.legend( loc='upper center', fontsize=10, framealpha=1.0, ncol=3 )\n",
    "ax11.tick_params(axis='both', which='major', labelsize=11 )\n",
    "ax11.yaxis.set_major_formatter( mpl.ticker.StrMethodFormatter( \"{x:,.0E}\" ) )\n",
    "ax11.xaxis.set_major_formatter( mpl.dates.DateFormatter(\"%Y–%m–%d\") )\n",
    "Fig1.savefig( OutSVG )\n",
    "Fig1.savefig( OutPNG )"
   ]
  },
  {
   "cell_type": "markdown",
   "metadata": {},
   "source": [
    "### Reach 5"
   ]
  },
  {
   "cell_type": "code",
   "execution_count": 179,
   "metadata": {},
   "outputs": [],
   "source": [
    "InFiler = os.path.normpath( os.path.join( IN_DIR, XLSX_ROOT % ( REG_SIM_ROOT % \"RR5\" ) ) )\n",
    "CCRR5_1_AET = pd.read_excel( InFiler, sheet_name=\"AET_1\", header=0, names=RdHds, index_col=0, parse_dates=True )\n",
    "CCRR5_2_AET = pd.read_excel( InFiler, sheet_name=\"AET_2\", header=0, names=RdHds, index_col=0, parse_dates=True )\n",
    "CCRR5_3_AET = pd.read_excel( InFiler, sheet_name=\"AET_3\", header=0, names=RdHds, index_col=0, parse_dates=True )\n",
    "CCRR5_4_AET = pd.read_excel( InFiler, sheet_name=\"AET_4\", header=0, names=RdHds, index_col=0, parse_dates=True )\n",
    "CCRR5_1_RO = pd.read_excel( InFiler, sheet_name=\"RO_1\", header=0, names=RdHds, index_col=0, parse_dates=True )\n",
    "CCRR5_2_RO = pd.read_excel( InFiler, sheet_name=\"RO_2\", header=0, names=RdHds, index_col=0, parse_dates=True )\n",
    "CCRR5_3_RO = pd.read_excel( InFiler, sheet_name=\"RO_3\", header=0, names=RdHds, index_col=0, parse_dates=True )\n",
    "CCRR5_4_RO = pd.read_excel( InFiler, sheet_name=\"RO_4\", header=0, names=RdHds, index_col=0, parse_dates=True )"
   ]
  },
  {
   "cell_type": "code",
   "execution_count": 180,
   "metadata": {},
   "outputs": [],
   "source": [
    "CCRR5_1_AET = CCRR5_1_AET * MultAFtoM3\n",
    "CCRR5_2_AET = CCRR5_2_AET * MultAFtoM3\n",
    "CCRR5_3_AET = CCRR5_3_AET * MultAFtoM3\n",
    "CCRR5_4_AET = CCRR5_4_AET * MultAFtoM3\n",
    "CCRR5_1_RO = CCRR5_1_RO * MultAFtoM3\n",
    "CCRR5_2_RO = CCRR5_2_RO * MultAFtoM3\n",
    "CCRR5_3_RO = CCRR5_3_RO * MultAFtoM3\n",
    "CCRR5_4_RO = CCRR5_4_RO * MultAFtoM3"
   ]
  },
  {
   "cell_type": "code",
   "execution_count": 183,
   "metadata": {},
   "outputs": [],
   "source": [
    "InFiler = os.path.normpath( os.path.join( IN_DIR, XLSX_ROOT % ( BAS_SIM_ROOT % \"RR5\" ) ) )\n",
    "BARR5_1_AET = pd.read_excel( InFiler, sheet_name=\"AET_1\", header=0, names=RdHds, index_col=0, parse_dates=True )\n",
    "BARR5_2_AET = pd.read_excel( InFiler, sheet_name=\"AET_2\", header=0, names=RdHds, index_col=0, parse_dates=True )\n",
    "BARR5_3_AET = pd.read_excel( InFiler, sheet_name=\"AET_3\", header=0, names=RdHds, index_col=0, parse_dates=True )\n",
    "BARR5_4_AET = pd.read_excel( InFiler, sheet_name=\"AET_4\", header=0, names=RdHds, index_col=0, parse_dates=True )\n",
    "BARR5_1_RO = pd.read_excel( InFiler, sheet_name=\"RO_1\", header=0, names=RdHds, index_col=0, parse_dates=True )\n",
    "BARR5_2_RO = pd.read_excel( InFiler, sheet_name=\"RO_2\", header=0, names=RdHds, index_col=0, parse_dates=True )\n",
    "BARR5_3_RO = pd.read_excel( InFiler, sheet_name=\"RO_3\", header=0, names=RdHds, index_col=0, parse_dates=True )\n",
    "BARR5_4_RO = pd.read_excel( InFiler, sheet_name=\"RO_4\", header=0, names=RdHds, index_col=0, parse_dates=True )"
   ]
  },
  {
   "cell_type": "code",
   "execution_count": 184,
   "metadata": {},
   "outputs": [],
   "source": [
    "BARR5_1_AET = BARR5_1_AET * MultAFtoM3\n",
    "BARR5_2_AET = BARR5_2_AET * MultAFtoM3\n",
    "BARR5_3_AET = BARR5_3_AET * MultAFtoM3\n",
    "BARR5_4_AET = BARR5_4_AET * MultAFtoM3\n",
    "BARR5_1_RO = BARR5_1_RO * MultAFtoM3\n",
    "BARR5_2_RO = BARR5_2_RO * MultAFtoM3\n",
    "BARR5_3_RO = BARR5_3_RO * MultAFtoM3\n",
    "BARR5_4_RO = BARR5_4_RO * MultAFtoM3"
   ]
  },
  {
   "cell_type": "markdown",
   "metadata": {},
   "source": [
    "Make continuous time series"
   ]
  },
  {
   "cell_type": "code",
   "execution_count": 185,
   "metadata": {},
   "outputs": [],
   "source": [
    "CCRR5_AET_DF = pd.concat( [CCRR5_1_AET, CCRR5_2_AET, CCRR5_3_AET, CCRR5_4_AET ])\n",
    "CCRR5_RO_DF = pd.concat( [CCRR5_1_RO, CCRR5_2_RO, CCRR5_3_RO, CCRR5_4_RO ])"
   ]
  },
  {
   "cell_type": "code",
   "execution_count": 186,
   "metadata": {},
   "outputs": [],
   "source": [
    "BARR5_AET_DF = pd.concat( [BARR5_1_AET, BARR5_2_AET, BARR5_3_AET, BARR5_4_AET ])\n",
    "BARR5_RO_DF = pd.concat( [BARR5_1_RO, BARR5_2_RO, BARR5_3_RO, BARR5_4_RO ])"
   ]
  },
  {
   "cell_type": "markdown",
   "metadata": {},
   "source": [
    "Butterworth filtering"
   ]
  },
  {
   "cell_type": "code",
   "execution_count": 187,
   "metadata": {},
   "outputs": [],
   "source": [
    "wAr = CCRR5_AET_DF[StatsHdsList[95]].to_numpy()\n",
    "CC_BFRR5_AET_95 = butter_lowpass_filter(wAr, CUTOFF, FS )\n",
    "wAr = CCRR5_AET_DF[StatsHdsList[5]].to_numpy()\n",
    "CC_BFRR5_AET_05 = butter_lowpass_filter(wAr, CUTOFF, FS )\n",
    "wAr = CCRR5_AET_DF[StatsHdsList[75]].to_numpy()\n",
    "CC_BFRR5_AET_75 = butter_lowpass_filter(wAr, CUTOFF, FS )\n",
    "wAr = CCRR5_AET_DF[StatsHdsList[25]].to_numpy()\n",
    "CC_BFRR5_AET_25 = butter_lowpass_filter(wAr, CUTOFF, FS )\n",
    "wAr = CCRR5_AET_DF[StatsHdsList[50]].to_numpy()\n",
    "CC_BFRR5_AET_Med = butter_lowpass_filter(wAr, CUTOFF, FS )\n",
    "wAr = CCRR5_AET_DF[StatsHdsList[101]].to_numpy()\n",
    "CC_BFRR5_AET_Ave = butter_lowpass_filter(wAr, CUTOFF, FS )"
   ]
  },
  {
   "cell_type": "code",
   "execution_count": 188,
   "metadata": {},
   "outputs": [],
   "source": [
    "wAr = CCRR5_RO_DF[StatsHdsList[95]].to_numpy()\n",
    "CC_BFRR5_RO_95 = butter_lowpass_filter(wAr, CUTOFF, FS )\n",
    "wAr = CCRR5_RO_DF[StatsHdsList[5]].to_numpy()\n",
    "CC_BFRR5_RO_05 = butter_lowpass_filter(wAr, CUTOFF, FS )\n",
    "wAr = CCRR5_RO_DF[StatsHdsList[75]].to_numpy()\n",
    "CC_BFRR5_RO_75 = butter_lowpass_filter(wAr, CUTOFF, FS )\n",
    "wAr = CCRR5_RO_DF[StatsHdsList[25]].to_numpy()\n",
    "CC_BFRR5_RO_25 = butter_lowpass_filter(wAr, CUTOFF, FS )\n",
    "wAr = CCRR5_RO_DF[StatsHdsList[50]].to_numpy()\n",
    "CC_BFRR5_RO_Med = butter_lowpass_filter(wAr, CUTOFF, FS )\n",
    "wAr = CCRR5_RO_DF[StatsHdsList[101]].to_numpy()\n",
    "CC_BFRR5_RO_Ave = butter_lowpass_filter(wAr, CUTOFF, FS )"
   ]
  },
  {
   "cell_type": "code",
   "execution_count": 189,
   "metadata": {},
   "outputs": [],
   "source": [
    "wAr = BARR5_AET_DF[StatsHdsList[95]].to_numpy()\n",
    "BA_BFRR5_AET_95 = butter_lowpass_filter(wAr, CUTOFF, FS )\n",
    "wAr = BARR5_AET_DF[StatsHdsList[5]].to_numpy()\n",
    "BA_BFRR5_AET_05 = butter_lowpass_filter(wAr, CUTOFF, FS )\n",
    "wAr = BARR5_AET_DF[StatsHdsList[75]].to_numpy()\n",
    "BA_BFRR5_AET_75 = butter_lowpass_filter(wAr, CUTOFF, FS )\n",
    "wAr = BARR5_AET_DF[StatsHdsList[25]].to_numpy()\n",
    "BA_BFRR5_AET_25 = butter_lowpass_filter(wAr, CUTOFF, FS )\n",
    "wAr = BARR5_AET_DF[StatsHdsList[50]].to_numpy()\n",
    "BA_BFRR5_AET_Med = butter_lowpass_filter(wAr, CUTOFF, FS )\n",
    "wAr = BARR5_AET_DF[StatsHdsList[101]].to_numpy()\n",
    "BA_BFRR5_AET_Ave = butter_lowpass_filter(wAr, CUTOFF, FS )"
   ]
  },
  {
   "cell_type": "code",
   "execution_count": 190,
   "metadata": {},
   "outputs": [],
   "source": [
    "wAr = BARR5_RO_DF[StatsHdsList[95]].to_numpy()\n",
    "BA_BFRR5_RO_95 = butter_lowpass_filter(wAr, CUTOFF, FS )\n",
    "wAr = BARR5_RO_DF[StatsHdsList[5]].to_numpy()\n",
    "BA_BFRR5_RO_05 = butter_lowpass_filter(wAr, CUTOFF, FS )\n",
    "wAr = BARR5_RO_DF[StatsHdsList[75]].to_numpy()\n",
    "BA_BFRR5_RO_75 = butter_lowpass_filter(wAr, CUTOFF, FS )\n",
    "wAr = BARR5_RO_DF[StatsHdsList[25]].to_numpy()\n",
    "BA_BFRR5_RO_25 = butter_lowpass_filter(wAr, CUTOFF, FS )\n",
    "wAr = BARR5_RO_DF[StatsHdsList[50]].to_numpy()\n",
    "BA_BFRR5_RO_Med = butter_lowpass_filter(wAr, CUTOFF, FS )\n",
    "wAr = BARR5_RO_DF[StatsHdsList[101]].to_numpy()\n",
    "BA_BFRR5_RO_Ave = butter_lowpass_filter(wAr, CUTOFF, FS )"
   ]
  },
  {
   "cell_type": "markdown",
   "metadata": {},
   "source": [
    "Make the polygons for fills"
   ]
  },
  {
   "cell_type": "code",
   "execution_count": 191,
   "metadata": {},
   "outputs": [],
   "source": [
    "CC_FlRR5_AET_90 = list( CC_BFRR5_AET_05 )\n",
    "BackDTList = list( CC_BFRR5_AET_95 )\n",
    "CC_BkFlRR5_AET_90 = BackDTList[::-1]\n",
    "CC_FlRR5_AET_90.extend( CC_BkFlRR5_AET_90 )\n",
    "CC_FlRR5_AET_IQR = list( CC_BFRR5_AET_25 )\n",
    "BackDTList = list( CC_BFRR5_AET_75 )\n",
    "CC_BkFlRR5_AET_IQR = BackDTList[::-1]\n",
    "CC_FlRR5_AET_IQR.extend( CC_BkFlRR5_AET_IQR )"
   ]
  },
  {
   "cell_type": "code",
   "execution_count": 192,
   "metadata": {},
   "outputs": [],
   "source": [
    "CC_FlRR5_RO_90 = list( CC_BFRR5_RO_05 )\n",
    "BackDTList = list( CC_BFRR5_RO_95 )\n",
    "CC_BkFlRR5_RO_90 = BackDTList[::-1]\n",
    "CC_FlRR5_RO_90.extend( CC_BkFlRR5_RO_90 )\n",
    "CC_FlRR5_RO_IQR = list( CC_BFRR5_RO_25 )\n",
    "BackDTList = list( CC_BFRR5_RO_75 )\n",
    "CC_BkFlRR5_RO_IQR = BackDTList[::-1]\n",
    "CC_FlRR5_RO_IQR.extend( CC_BkFlRR5_RO_IQR )"
   ]
  },
  {
   "cell_type": "code",
   "execution_count": 193,
   "metadata": {},
   "outputs": [],
   "source": [
    "BA_FlRR5_AET_90 = list( BA_BFRR5_AET_05 )\n",
    "BackDTList = list( BA_BFRR5_AET_95 )\n",
    "BA_BkFlRR5_AET_90 = BackDTList[::-1]\n",
    "BA_FlRR5_AET_90.extend( BA_BkFlRR5_AET_90 )\n",
    "BA_FlRR5_AET_IQR = list( BA_BFRR5_AET_25 )\n",
    "BackDTList = list( BA_BFRR5_AET_75 )\n",
    "BA_BkFlRR5_AET_IQR = BackDTList[::-1]\n",
    "BA_FlRR5_AET_IQR.extend( BA_BkFlRR5_AET_IQR )"
   ]
  },
  {
   "cell_type": "code",
   "execution_count": 194,
   "metadata": {},
   "outputs": [],
   "source": [
    "BA_FlRR5_RO_90 = list( BA_BFRR5_RO_05 )\n",
    "BackDTList = list( BA_BFRR5_RO_95 )\n",
    "BA_BkFlRR5_RO_90 = BackDTList[::-1]\n",
    "BA_FlRR5_RO_90.extend( BA_BkFlRR5_RO_90 )\n",
    "BA_FlRR5_RO_IQR = list( BA_BFRR5_RO_25 )\n",
    "BackDTList = list( BA_BFRR5_RO_75 )\n",
    "BA_BkFlRR5_RO_IQR = BackDTList[::-1]\n",
    "BA_FlRR5_RO_IQR.extend( BA_BkFlRR5_RO_IQR )"
   ]
  },
  {
   "cell_type": "markdown",
   "metadata": {},
   "source": [
    "#### Plots"
   ]
  },
  {
   "cell_type": "code",
   "execution_count": 207,
   "metadata": {},
   "outputs": [
    {
     "data": {
      "text/plain": [
       "(2222.4891435368513, 0.0)"
      ]
     },
     "execution_count": 207,
     "metadata": {},
     "output_type": "execute_result"
    }
   ],
   "source": [
    "MaxAET = max( CC_BFRR5_AET_95.max(), BA_BFRR5_AET_95.max() )\n",
    "MinAET = min( CC_BFRR5_AET_05.min(), BA_BFRR5_AET_05.min() )\n",
    "MaxAET, MinAET"
   ]
  },
  {
   "cell_type": "code",
   "execution_count": 208,
   "metadata": {},
   "outputs": [],
   "source": [
    "MaxAET = 5000.0\n",
    "MinAET = -500.0"
   ]
  },
  {
   "cell_type": "code",
   "execution_count": 209,
   "metadata": {},
   "outputs": [],
   "source": [
    "aetTicks = [ 0.0, 1000.0, 2000.0, 3000.0, 4000.0 ]"
   ]
  },
  {
   "cell_type": "code",
   "execution_count": 210,
   "metadata": {},
   "outputs": [
    {
     "data": {
      "text/plain": [
       "'C:\\\\Users\\\\nmart\\\\Documents\\\\CC_Plots\\\\Results_CompRR5Zoom_AETDelta.svg'"
      ]
     },
     "execution_count": 210,
     "metadata": {},
     "output_type": "execute_result"
    }
   ],
   "source": [
    "OutSVG = os.path.normpath( os.path.join( OUT_DIR, \"Results_CompRR5Zoom_AETDelta.svg\" ) )\n",
    "OutSVG"
   ]
  },
  {
   "cell_type": "code",
   "execution_count": 211,
   "metadata": {},
   "outputs": [
    {
     "data": {
      "text/plain": [
       "'C:\\\\Users\\\\nmart\\\\Documents\\\\CC_Plots\\\\Results_CompRR5Zoom_AETDelta.png'"
      ]
     },
     "execution_count": 211,
     "metadata": {},
     "output_type": "execute_result"
    }
   ],
   "source": [
    "OutPNG = os.path.normpath( os.path.join( OUT_DIR, \"Results_CompRR5Zoom_AETDelta.png\" ) )\n",
    "OutPNG"
   ]
  },
  {
   "cell_type": "code",
   "execution_count": 212,
   "metadata": {},
   "outputs": [
    {
     "data": {
      "image/png": "[encoded data removed]",
      "text/plain": [
       "<Figure size 576x234 with 1 Axes>"
      ]
     },
     "metadata": {
      "needs_background": "light"
     },
     "output_type": "display_data"
    }
   ],
   "source": [
    "Fig1 = plt.figure()\n",
    "Fig1.set_size_inches(8.0, 3.25)\n",
    "ax11 = Fig1.add_subplot(111)\n",
    "ax11.plot( [TP_DICT[2][0], TP_DICT[2][0]], [MinAET, MaxAET], linestyle='-', zorder=3,\n",
    "           linewidth=2, color='xkcd:dark orange', label=\"Climate Normals Boundary\")\n",
    "ax11.plot( [TP_DICT[3][0], TP_DICT[3][0]], [MinAET, MaxAET], linestyle='-',\n",
    "           linewidth=2, color='xkcd:dark orange', zorder=3 )\n",
    "ax11.plot( [TP_DICT[4][0], TP_DICT[4][0]], [MinAET, MaxAET], linestyle='-',\n",
    "           linewidth=2, color='xkcd:dark orange', zorder=3 )\n",
    "cc90 = ax11.fill( DTTimeList, CC_FlRR5_AET_90, color='xkcd:sand', alpha=1.0, \n",
    "                  label=\"CC: 5–95th percentile range\", zorder=2)\n",
    "cc50 = ax11.fill( DTTimeList, CC_FlRR5_AET_IQR, color='xkcd:puce', alpha=1.0, \n",
    "                  label=\"CC: 25–75th percentile range\", zorder=2)\n",
    "ax11.plot( ForTimeList, CC_BFRR5_AET_Med, linestyle='-', zorder=4,\n",
    "           linewidth=2, color='xkcd:goldenrod', label='CC: Median' )\n",
    "ax11.plot( ForTimeList, CC_BFRR5_AET_Ave, linestyle=':', zorder=4,\n",
    "           linewidth=3, color='xkcd:terracotta', label='CC: Mean' )\n",
    "ba90 = ax11.fill( DTTimeList, BA_FlRR5_AET_90, color='xkcd:pastel blue', alpha=0.55, \n",
    "                  label=\"LULCCC: 5–95th percentile range\", zorder=2 )\n",
    "ba50 = ax11.fill( DTTimeList, BA_FlRR5_AET_IQR, color='xkcd:denim blue', alpha=0.55, \n",
    "                  label=\"LULCCC: 25–75th percentile range\", zorder=2 )\n",
    "ax11.plot( ForTimeList, BA_BFRR5_AET_Med, linestyle='-', zorder=4,\n",
    "           linewidth=2, color='xkcd:bright blue', label='LULCCC: Median' )\n",
    "ax11.plot( ForTimeList, BA_BFRR5_AET_Ave, linestyle=':', zorder=4,\n",
    "           linewidth=3, color='xkcd:cyan', label='LULCCC: Mean' )\n",
    "ax11.set_xticks( [ dt.datetime(2010, 1, 1), dt.datetime(2040, 1, 1), dt.datetime(2070, 1, 1),\n",
    "                  dt.datetime(2100, 1, 1) ] )\n",
    "ax11.set_xlim( (dt.datetime(2010, 1, 1), dt.datetime(2100, 1, 1)))\n",
    "ax11.set_yticks( aetTicks )\n",
    "ax11.set_ylim( (MinAET, MaxAET) )\n",
    "ax11.grid(True, axis='y', which='both')\n",
    "ax11.set_ylabel('Monthly Evaporation $\\Delta$ ($m^{3}$)', fontsize=12 )\n",
    "ax11.legend( loc='upper center', fontsize=10, framealpha=1.0, ncol=2 )\n",
    "ax11.tick_params(axis='both', which='major', labelsize=11 )\n",
    "ax11.yaxis.set_major_formatter( mpl.ticker.StrMethodFormatter( \"{x:,.0E}\" ) )\n",
    "ax11.xaxis.set_major_formatter( mpl.dates.DateFormatter(\"%Y–%m–%d\") )\n",
    "Fig1.savefig( OutSVG )\n",
    "Fig1.savefig( OutPNG )"
   ]
  },
  {
   "cell_type": "code",
   "execution_count": 213,
   "metadata": {},
   "outputs": [],
   "source": [
    "MaxAET = 8000000.0\n",
    "MinAET = -4000000.0"
   ]
  },
  {
   "cell_type": "code",
   "execution_count": 214,
   "metadata": {},
   "outputs": [],
   "source": [
    "aetTicks = [ -2000000.0, 0.0, 2000000.0, 4000000.0, 6000000.0 ]"
   ]
  },
  {
   "cell_type": "code",
   "execution_count": 215,
   "metadata": {},
   "outputs": [
    {
     "data": {
      "text/plain": [
       "'C:\\\\Users\\\\nmart\\\\Documents\\\\CC_Plots\\\\Results_CompRR5_AETDelta.svg'"
      ]
     },
     "execution_count": 215,
     "metadata": {},
     "output_type": "execute_result"
    }
   ],
   "source": [
    "OutSVG = os.path.normpath( os.path.join( OUT_DIR, \"Results_CompRR5_AETDelta.svg\" ) )\n",
    "OutSVG"
   ]
  },
  {
   "cell_type": "code",
   "execution_count": 216,
   "metadata": {},
   "outputs": [
    {
     "data": {
      "text/plain": [
       "'C:\\\\Users\\\\nmart\\\\Documents\\\\CC_Plots\\\\Results_CompRR5_AETDelta.png'"
      ]
     },
     "execution_count": 216,
     "metadata": {},
     "output_type": "execute_result"
    }
   ],
   "source": [
    "OutPNG = os.path.normpath( os.path.join( OUT_DIR, \"Results_CompRR5_AETDelta.png\" ) )\n",
    "OutPNG"
   ]
  },
  {
   "cell_type": "code",
   "execution_count": 217,
   "metadata": {},
   "outputs": [
    {
     "data": {
      "image/png": "[encoded data removed]",
      "text/plain": [
       "<Figure size 576x234 with 1 Axes>"
      ]
     },
     "metadata": {
      "needs_background": "light"
     },
     "output_type": "display_data"
    }
   ],
   "source": [
    "Fig1 = plt.figure()\n",
    "Fig1.set_size_inches(8.0, 3.25)\n",
    "ax11 = Fig1.add_subplot(111)\n",
    "ax11.plot( [TP_DICT[2][0], TP_DICT[2][0]], [MinAET, MaxAET], linestyle='-', zorder=3,\n",
    "           linewidth=2, color='xkcd:dark orange', label=\"Climate Normals Boundary\")\n",
    "ax11.plot( [TP_DICT[3][0], TP_DICT[3][0]], [MinAET, MaxAET], linestyle='-',\n",
    "           linewidth=2, color='xkcd:dark orange', zorder=3 )\n",
    "ax11.plot( [TP_DICT[4][0], TP_DICT[4][0]], [MinAET, MaxAET], linestyle='-',\n",
    "           linewidth=2, color='xkcd:dark orange', zorder=3 )\n",
    "cc90 = ax11.fill( DTTimeList, CC_FlRR5_AET_90, color='xkcd:sand', alpha=1.0, \n",
    "                  label=\"CC: 5–95th percentile range\", zorder=2)\n",
    "cc50 = ax11.fill( DTTimeList, CC_FlRR5_AET_IQR, color='xkcd:puce', alpha=1.0, \n",
    "                  label=\"CC: 25–75th percentile range\", zorder=2)\n",
    "ax11.plot( ForTimeList, CC_BFRR5_AET_Med, linestyle='-', zorder=4,\n",
    "           linewidth=2, color='xkcd:goldenrod', label='CC: Median' )\n",
    "ax11.plot( ForTimeList, CC_BFRR5_AET_Ave, linestyle=':', zorder=4,\n",
    "           linewidth=3, color='xkcd:terracotta', label='CC: Mean' )\n",
    "ba90 = ax11.fill( DTTimeList, BA_FlRR5_AET_90, color='xkcd:pastel blue', alpha=0.55, \n",
    "                  label=\"LULCCC: 5–95th percentile range\", zorder=2 )\n",
    "ba50 = ax11.fill( DTTimeList, BA_FlRR5_AET_IQR, color='xkcd:denim blue', alpha=0.55, \n",
    "                  label=\"LULCCC: 25–75th percentile range\", zorder=2 )\n",
    "ax11.plot( ForTimeList, BA_BFRR5_AET_Med, linestyle='-', zorder=4,\n",
    "           linewidth=2, color='xkcd:bright blue', label='LULCCC: Median' )\n",
    "ax11.plot( ForTimeList, BA_BFRR5_AET_Ave, linestyle=':', zorder=4,\n",
    "           linewidth=3, color='xkcd:cyan', label='LULCCC: Mean' )\n",
    "ax11.set_xticks( [ dt.datetime(2010, 1, 1), dt.datetime(2040, 1, 1), dt.datetime(2070, 1, 1),\n",
    "                  dt.datetime(2100, 1, 1) ] )\n",
    "ax11.set_xlim( (dt.datetime(2010, 1, 1), dt.datetime(2100, 1, 1)))\n",
    "ax11.set_yticks( aetTicks )\n",
    "ax11.set_ylim( (MinAET, MaxAET) )\n",
    "ax11.grid(True, axis='y', which='both')\n",
    "ax11.set_ylabel('Monthly Evaporation $\\Delta$ ($m^{3}$)', fontsize=12 )\n",
    "ax11.legend( loc='upper center', fontsize=10, framealpha=1.0, ncol=2 )\n",
    "ax11.tick_params(axis='both', which='major', labelsize=11 )\n",
    "ax11.yaxis.set_major_formatter( mpl.ticker.StrMethodFormatter( \"{x:,.0E}\" ) )\n",
    "ax11.xaxis.set_major_formatter( mpl.dates.DateFormatter(\"%Y–%m–%d\") )\n",
    "Fig1.savefig( OutSVG )\n",
    "Fig1.savefig( OutPNG )"
   ]
  },
  {
   "cell_type": "code",
   "execution_count": 218,
   "metadata": {},
   "outputs": [
    {
     "data": {
      "text/plain": [
       "(5277275.712502449, -130760.59958390634)"
      ]
     },
     "execution_count": 218,
     "metadata": {},
     "output_type": "execute_result"
    }
   ],
   "source": [
    "MaxRO = max( CC_BFRR5_RO_95.max(), BA_BFRR5_RO_95.max() )\n",
    "MinRO = min( CC_BFRR5_RO_05.min(), BA_BFRR5_RO_05.min() )\n",
    "MaxRO, MinRO"
   ]
  },
  {
   "cell_type": "code",
   "execution_count": 219,
   "metadata": {},
   "outputs": [],
   "source": [
    "MaxRO = 8000000.0\n",
    "MinRO = -4000000.0"
   ]
  },
  {
   "cell_type": "code",
   "execution_count": 220,
   "metadata": {},
   "outputs": [],
   "source": [
    "roTicks = [ -2000000.0, 0.0, 2000000.0, 4000000.0, 6000000.0 ]"
   ]
  },
  {
   "cell_type": "code",
   "execution_count": 221,
   "metadata": {},
   "outputs": [
    {
     "data": {
      "text/plain": [
       "'C:\\\\Users\\\\nmart\\\\Documents\\\\CC_Plots\\\\Results_CompRR5_RODelta.svg'"
      ]
     },
     "execution_count": 221,
     "metadata": {},
     "output_type": "execute_result"
    }
   ],
   "source": [
    "OutSVG = os.path.normpath( os.path.join( OUT_DIR, \"Results_CompRR5_RODelta.svg\" ) )\n",
    "OutSVG"
   ]
  },
  {
   "cell_type": "code",
   "execution_count": 222,
   "metadata": {},
   "outputs": [
    {
     "data": {
      "text/plain": [
       "'C:\\\\Users\\\\nmart\\\\Documents\\\\CC_Plots\\\\Results_CompRR5_RODelta.png'"
      ]
     },
     "execution_count": 222,
     "metadata": {},
     "output_type": "execute_result"
    }
   ],
   "source": [
    "OutPNG = os.path.normpath( os.path.join( OUT_DIR, \"Results_CompRR5_RODelta.png\" ) )\n",
    "OutPNG"
   ]
  },
  {
   "cell_type": "code",
   "execution_count": 223,
   "metadata": {},
   "outputs": [
    {
     "data": {
      "image/png": "[encoded data removed]",
      "text/plain": [
       "<Figure size 576x234 with 1 Axes>"
      ]
     },
     "metadata": {
      "needs_background": "light"
     },
     "output_type": "display_data"
    }
   ],
   "source": [
    "Fig1 = plt.figure()\n",
    "Fig1.set_size_inches(8.0, 3.25)\n",
    "ax11 = Fig1.add_subplot(111)\n",
    "ax11.plot( [TP_DICT[2][0], TP_DICT[2][0]], [MinRO, MaxRO], linestyle='-', zorder=3,\n",
    "           linewidth=2, color='xkcd:dark orange', label=\"Climate Normals Boundary\")\n",
    "ax11.plot( [TP_DICT[3][0], TP_DICT[3][0]], [MinRO, MaxRO], linestyle='-',\n",
    "           linewidth=2, color='xkcd:dark orange', zorder=3 )\n",
    "ax11.plot( [TP_DICT[4][0], TP_DICT[4][0]], [MinRO, MaxRO], linestyle='-',\n",
    "           linewidth=2, color='xkcd:dark orange', zorder=3 )\n",
    "cc90 = ax11.fill( DTTimeList, CC_FlRR5_RO_90, color='xkcd:sand', alpha=1.0, \n",
    "                  label=\"CC: 5–95th percentile range\", zorder=2)\n",
    "cc50 = ax11.fill( DTTimeList, CC_FlRR5_RO_IQR, color='xkcd:puce', alpha=1.0, \n",
    "                  label=\"CC: 25–75th percentile range\", zorder=2)\n",
    "ax11.plot( ForTimeList, CC_BFRR5_RO_Med, linestyle='-', zorder=4,\n",
    "           linewidth=2, color='xkcd:goldenrod', label='CC: Median' )\n",
    "ax11.plot( ForTimeList, CC_BFRR5_RO_Ave, linestyle=':', zorder=4,\n",
    "           linewidth=3, color='xkcd:terracotta', label='CC: Mean' )\n",
    "ba90 = ax11.fill( DTTimeList, BA_FlRR5_RO_90, color='xkcd:pastel blue', alpha=0.55, \n",
    "                  label=\"LULCCC: 5–95th percentile range\", zorder=2 )\n",
    "ba50 = ax11.fill( DTTimeList, BA_FlRR5_RO_IQR, color='xkcd:denim blue', alpha=0.55, \n",
    "                  label=\"LULCCC: 25–75th percentile range\", zorder=2 )\n",
    "ax11.plot( ForTimeList, BA_BFRR5_RO_Med, linestyle='-', zorder=4,\n",
    "           linewidth=2, color='xkcd:bright blue', label='LULCCC: Median' )\n",
    "ax11.plot( ForTimeList, BA_BFRR5_RO_Ave, linestyle=':', zorder=4,\n",
    "           linewidth=3, color='xkcd:cyan', label='LULCCC: Mean' )\n",
    "ax11.set_xticks( [ dt.datetime(2010, 1, 1), dt.datetime(2040, 1, 1), dt.datetime(2070, 1, 1),\n",
    "                  dt.datetime(2100, 1, 1) ] )\n",
    "ax11.set_xlim( (dt.datetime(2010, 1, 1), dt.datetime(2100, 1, 1)))\n",
    "ax11.set_yticks( roTicks )\n",
    "ax11.set_ylim( (MinRO, MaxRO) )\n",
    "ax11.grid(True, axis='y', which='both')\n",
    "ax11.set_ylabel('Monthly Discharge $\\Delta$ ($m^{3}$)', fontsize=12 )\n",
    "#ax11.legend( loc='upper center', fontsize=10, framealpha=1.0, ncol=3 )\n",
    "ax11.tick_params(axis='both', which='major', labelsize=11 )\n",
    "ax11.yaxis.set_major_formatter( mpl.ticker.StrMethodFormatter( \"{x:,.0E}\" ) )\n",
    "ax11.xaxis.set_major_formatter( mpl.dates.DateFormatter(\"%Y–%m–%d\") )\n",
    "Fig1.savefig( OutSVG )\n",
    "Fig1.savefig( OutPNG )"
   ]
  },
  {
   "cell_type": "code",
   "execution_count": null,
   "metadata": {},
   "outputs": [],
   "source": []
  }
 ],
 "metadata": {
  "kernelspec": {
   "display_name": "Python 3",
   "language": "python",
   "name": "python3"
  },
  "language_info": {
   "codemirror_mode": {
    "name": "ipython",
    "version": 3
   },
   "file_extension": ".py",
   "mimetype": "text/x-python",
   "name": "python",
   "nbconvert_exporter": "python",
   "pygments_lexer": "ipython3",
   "version": "3.8.5"
  }
 },
 "nbformat": 4,
 "nbformat_minor": 4
}
