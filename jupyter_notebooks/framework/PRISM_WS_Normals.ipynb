{
 "cells": [
  {
   "cell_type": "markdown",
   "metadata": {},
   "source": [
    "# PRISM Normals: 1981-2010"
   ]
  },
  {
   "cell_type": "markdown",
   "metadata": {},
   "source": [
    "Process the PRISM normals for area-weighted watershed values"
   ]
  },
  {
   "cell_type": "markdown",
   "metadata": {},
   "source": [
    "## Parameters and Imports"
   ]
  },
  {
   "cell_type": "code",
   "execution_count": 1,
   "metadata": {},
   "outputs": [],
   "source": [
    "%matplotlib inline"
   ]
  },
  {
   "cell_type": "code",
   "execution_count": 2,
   "metadata": {},
   "outputs": [],
   "source": [
    "from IPython.display import display, HTML\n",
    "import numpy as np\n",
    "import pandas as pd\n",
    "import datetime as dt\n",
    "import matplotlib as mpl\n",
    "import matplotlib.pyplot as plt\n",
    "import os\n",
    "import pickle"
   ]
  },
  {
   "cell_type": "code",
   "execution_count": 3,
   "metadata": {},
   "outputs": [],
   "source": [
    "IN_DIR = r'C:\\Users\\nmartin\\Documents\\CC_IRD\\Process_Events'\n",
    "PRE_XLSX = \"PRISM_AnnMaxSummary.xlsx\"\n",
    "TMAX_XLSX = \"PRISM_TMax_AnnSummary.xlsx\"\n",
    "TMIN_XLSX = \"PRISM_TMin_AnnSummary.xlsx\"\n",
    "IN_SHT = \"Pandas_Out\""
   ]
  },
  {
   "cell_type": "code",
   "execution_count": 4,
   "metadata": {},
   "outputs": [],
   "source": [
    "OUT_DIR = r'C:\\Users\\nmartin\\Documents\\CC_IRD\\Events'"
   ]
  },
  {
   "cell_type": "markdown",
   "metadata": {},
   "source": [
    "## Load the Worksheets"
   ]
  },
  {
   "cell_type": "markdown",
   "metadata": {},
   "source": [
    "### Precip"
   ]
  },
  {
   "cell_type": "code",
   "execution_count": 5,
   "metadata": {},
   "outputs": [],
   "source": [
    "InFile = os.path.normpath( os.path.join( IN_DIR, PRE_XLSX ) )\n",
    "PreDF = pd.read_excel( InFile, sheet_name=IN_SHT, header=0, index_col=0, parse_dates=True )"
   ]
  },
  {
   "cell_type": "code",
   "execution_count": 7,
   "metadata": {},
   "outputs": [
    {
     "data": {
      "text/html": [
       "<table border=\"1\" class=\"dataframe\">\n",
       "  <thead>\n",
       "    <tr style=\"text-align: right;\">\n",
       "      <th></th>\n",
       "      <th>Year</th>\n",
       "      <th>Month</th>\n",
       "      <th>Day of Year</th>\n",
       "      <th>WS_Val_mm</th>\n",
       "      <th>Daily_Max</th>\n",
       "    </tr>\n",
       "    <tr>\n",
       "      <th>Date</th>\n",
       "      <th></th>\n",
       "      <th></th>\n",
       "      <th></th>\n",
       "      <th></th>\n",
       "      <th></th>\n",
       "    </tr>\n",
       "  </thead>\n",
       "  <tbody>\n",
       "    <tr>\n",
       "      <th>1981-01-01</th>\n",
       "      <td>1981</td>\n",
       "      <td>1</td>\n",
       "      <td>1</td>\n",
       "      <td>0.0</td>\n",
       "      <td>0.0</td>\n",
       "    </tr>\n",
       "    <tr>\n",
       "      <th>1981-01-02</th>\n",
       "      <td>1981</td>\n",
       "      <td>1</td>\n",
       "      <td>2</td>\n",
       "      <td>0.0</td>\n",
       "      <td>0.0</td>\n",
       "    </tr>\n",
       "    <tr>\n",
       "      <th>1981-01-03</th>\n",
       "      <td>1981</td>\n",
       "      <td>1</td>\n",
       "      <td>3</td>\n",
       "      <td>0.0</td>\n",
       "      <td>0.0</td>\n",
       "    </tr>\n",
       "    <tr>\n",
       "      <th>1981-01-04</th>\n",
       "      <td>1981</td>\n",
       "      <td>1</td>\n",
       "      <td>4</td>\n",
       "      <td>0.0</td>\n",
       "      <td>0.0</td>\n",
       "    </tr>\n",
       "    <tr>\n",
       "      <th>1981-01-05</th>\n",
       "      <td>1981</td>\n",
       "      <td>1</td>\n",
       "      <td>5</td>\n",
       "      <td>0.0</td>\n",
       "      <td>0.0</td>\n",
       "    </tr>\n",
       "  </tbody>\n",
       "</table>"
      ],
      "text/plain": [
       "<IPython.core.display.HTML object>"
      ]
     },
     "metadata": {},
     "output_type": "display_data"
    }
   ],
   "source": [
    "display( HTML( PreDF.head().to_html() ) )"
   ]
  },
  {
   "cell_type": "code",
   "execution_count": 8,
   "metadata": {},
   "outputs": [],
   "source": [
    "PreDF.drop( columns=[\"Year\", \"Month\", \"Day of Year\", \"Daily_Max\"], inplace=True )"
   ]
  },
  {
   "cell_type": "code",
   "execution_count": 9,
   "metadata": {},
   "outputs": [],
   "source": [
    "PreDF.columns = [ \"Pre_WS_mm\" ]"
   ]
  },
  {
   "cell_type": "code",
   "execution_count": 10,
   "metadata": {},
   "outputs": [],
   "source": [
    "MonPreDF = PreDF.resample( 'MS', closed='left', label='left' ).sum() "
   ]
  },
  {
   "cell_type": "code",
   "execution_count": 11,
   "metadata": {},
   "outputs": [
    {
     "data": {
      "text/html": [
       "<table border=\"1\" class=\"dataframe\">\n",
       "  <thead>\n",
       "    <tr style=\"text-align: right;\">\n",
       "      <th></th>\n",
       "      <th>Pre_WS_mm</th>\n",
       "    </tr>\n",
       "    <tr>\n",
       "      <th>Date</th>\n",
       "      <th></th>\n",
       "    </tr>\n",
       "  </thead>\n",
       "  <tbody>\n",
       "    <tr>\n",
       "      <th>1981-01-01</th>\n",
       "      <td>18.677666</td>\n",
       "    </tr>\n",
       "    <tr>\n",
       "      <th>1981-02-01</th>\n",
       "      <td>7.856942</td>\n",
       "    </tr>\n",
       "    <tr>\n",
       "      <th>1981-03-01</th>\n",
       "      <td>57.550767</td>\n",
       "    </tr>\n",
       "    <tr>\n",
       "      <th>1981-04-01</th>\n",
       "      <td>121.607205</td>\n",
       "    </tr>\n",
       "    <tr>\n",
       "      <th>1981-05-01</th>\n",
       "      <td>63.311645</td>\n",
       "    </tr>\n",
       "  </tbody>\n",
       "</table>"
      ],
      "text/plain": [
       "<IPython.core.display.HTML object>"
      ]
     },
     "metadata": {},
     "output_type": "display_data"
    }
   ],
   "source": [
    "display( HTML( MonPreDF.head().to_html() ) )"
   ]
  },
  {
   "cell_type": "code",
   "execution_count": 12,
   "metadata": {},
   "outputs": [],
   "source": [
    "MonPreDF[\"Month\"] = MonPreDF.index.month\n",
    "MonPreDF[\"Year\"] = MonPreDF.index.year"
   ]
  },
  {
   "cell_type": "code",
   "execution_count": 13,
   "metadata": {},
   "outputs": [],
   "source": [
    "PVPre = pd.pivot_table( MonPreDF, values='Pre_WS_mm', index='Year', \n",
    "                        columns='Month', aggfunc=np.mean )"
   ]
  },
  {
   "cell_type": "code",
   "execution_count": 14,
   "metadata": {},
   "outputs": [
    {
     "data": {
      "text/html": [
       "<table border=\"1\" class=\"dataframe\">\n",
       "  <thead>\n",
       "    <tr style=\"text-align: right;\">\n",
       "      <th>Month</th>\n",
       "      <th>1</th>\n",
       "      <th>2</th>\n",
       "      <th>3</th>\n",
       "      <th>4</th>\n",
       "      <th>5</th>\n",
       "      <th>6</th>\n",
       "      <th>7</th>\n",
       "      <th>8</th>\n",
       "      <th>9</th>\n",
       "      <th>10</th>\n",
       "      <th>11</th>\n",
       "      <th>12</th>\n",
       "    </tr>\n",
       "    <tr>\n",
       "      <th>Year</th>\n",
       "      <th></th>\n",
       "      <th></th>\n",
       "      <th></th>\n",
       "      <th></th>\n",
       "      <th></th>\n",
       "      <th></th>\n",
       "      <th></th>\n",
       "      <th></th>\n",
       "      <th></th>\n",
       "      <th></th>\n",
       "      <th></th>\n",
       "      <th></th>\n",
       "    </tr>\n",
       "  </thead>\n",
       "  <tbody>\n",
       "    <tr>\n",
       "      <th>1981</th>\n",
       "      <td>18.677666</td>\n",
       "      <td>7.856942</td>\n",
       "      <td>57.550767</td>\n",
       "      <td>121.607205</td>\n",
       "      <td>63.311645</td>\n",
       "      <td>130.743354</td>\n",
       "      <td>7.319062</td>\n",
       "      <td>71.792409</td>\n",
       "      <td>26.402244</td>\n",
       "      <td>175.553436</td>\n",
       "      <td>0.854542</td>\n",
       "      <td>0.000000</td>\n",
       "    </tr>\n",
       "    <tr>\n",
       "      <th>1982</th>\n",
       "      <td>9.888207</td>\n",
       "      <td>62.943941</td>\n",
       "      <td>3.466829</td>\n",
       "      <td>15.173483</td>\n",
       "      <td>86.773904</td>\n",
       "      <td>71.764534</td>\n",
       "      <td>27.310729</td>\n",
       "      <td>9.670523</td>\n",
       "      <td>14.632982</td>\n",
       "      <td>5.905209</td>\n",
       "      <td>38.726731</td>\n",
       "      <td>30.808937</td>\n",
       "    </tr>\n",
       "    <tr>\n",
       "      <th>1983</th>\n",
       "      <td>31.688014</td>\n",
       "      <td>36.082224</td>\n",
       "      <td>19.186569</td>\n",
       "      <td>4.444815</td>\n",
       "      <td>42.794025</td>\n",
       "      <td>81.831799</td>\n",
       "      <td>2.572314</td>\n",
       "      <td>34.662584</td>\n",
       "      <td>29.437302</td>\n",
       "      <td>108.806304</td>\n",
       "      <td>36.289381</td>\n",
       "      <td>0.001219</td>\n",
       "    </tr>\n",
       "    <tr>\n",
       "      <th>1984</th>\n",
       "      <td>36.788953</td>\n",
       "      <td>7.769229</td>\n",
       "      <td>6.403553</td>\n",
       "      <td>3.943316</td>\n",
       "      <td>21.590164</td>\n",
       "      <td>29.533680</td>\n",
       "      <td>37.904000</td>\n",
       "      <td>4.178947</td>\n",
       "      <td>51.321917</td>\n",
       "      <td>65.511511</td>\n",
       "      <td>50.659982</td>\n",
       "      <td>90.040861</td>\n",
       "    </tr>\n",
       "    <tr>\n",
       "      <th>1985</th>\n",
       "      <td>39.146484</td>\n",
       "      <td>18.132801</td>\n",
       "      <td>34.604161</td>\n",
       "      <td>20.303424</td>\n",
       "      <td>44.800808</td>\n",
       "      <td>92.159175</td>\n",
       "      <td>34.805316</td>\n",
       "      <td>0.974751</td>\n",
       "      <td>61.477166</td>\n",
       "      <td>30.494937</td>\n",
       "      <td>20.637603</td>\n",
       "      <td>0.002950</td>\n",
       "    </tr>\n",
       "    <tr>\n",
       "      <th>1986</th>\n",
       "      <td>11.711490</td>\n",
       "      <td>13.568747</td>\n",
       "      <td>9.177470</td>\n",
       "      <td>15.509503</td>\n",
       "      <td>115.275174</td>\n",
       "      <td>60.136867</td>\n",
       "      <td>10.558247</td>\n",
       "      <td>71.358788</td>\n",
       "      <td>58.291350</td>\n",
       "      <td>188.837827</td>\n",
       "      <td>28.160343</td>\n",
       "      <td>67.657407</td>\n",
       "    </tr>\n",
       "    <tr>\n",
       "      <th>1987</th>\n",
       "      <td>5.446547</td>\n",
       "      <td>54.744065</td>\n",
       "      <td>27.454344</td>\n",
       "      <td>47.515776</td>\n",
       "      <td>83.290965</td>\n",
       "      <td>127.744592</td>\n",
       "      <td>36.827283</td>\n",
       "      <td>63.821627</td>\n",
       "      <td>37.747158</td>\n",
       "      <td>5.060127</td>\n",
       "      <td>21.079790</td>\n",
       "      <td>19.184727</td>\n",
       "    </tr>\n",
       "    <tr>\n",
       "      <th>1988</th>\n",
       "      <td>0.966812</td>\n",
       "      <td>3.369943</td>\n",
       "      <td>3.262538</td>\n",
       "      <td>8.359243</td>\n",
       "      <td>73.187251</td>\n",
       "      <td>52.075313</td>\n",
       "      <td>91.277925</td>\n",
       "      <td>26.895798</td>\n",
       "      <td>115.523345</td>\n",
       "      <td>5.427286</td>\n",
       "      <td>0.741700</td>\n",
       "      <td>9.954907</td>\n",
       "    </tr>\n",
       "    <tr>\n",
       "      <th>1989</th>\n",
       "      <td>32.245070</td>\n",
       "      <td>67.997027</td>\n",
       "      <td>33.310284</td>\n",
       "      <td>7.134909</td>\n",
       "      <td>47.649759</td>\n",
       "      <td>25.688501</td>\n",
       "      <td>0.567298</td>\n",
       "      <td>3.355332</td>\n",
       "      <td>35.926999</td>\n",
       "      <td>63.047320</td>\n",
       "      <td>19.234125</td>\n",
       "      <td>8.238520</td>\n",
       "    </tr>\n",
       "    <tr>\n",
       "      <th>1990</th>\n",
       "      <td>14.252684</td>\n",
       "      <td>37.115604</td>\n",
       "      <td>43.231292</td>\n",
       "      <td>61.208507</td>\n",
       "      <td>77.764337</td>\n",
       "      <td>0.256208</td>\n",
       "      <td>211.667838</td>\n",
       "      <td>44.704437</td>\n",
       "      <td>159.374367</td>\n",
       "      <td>49.019201</td>\n",
       "      <td>24.218732</td>\n",
       "      <td>0.164947</td>\n",
       "    </tr>\n",
       "    <tr>\n",
       "      <th>1991</th>\n",
       "      <td>41.619715</td>\n",
       "      <td>13.615882</td>\n",
       "      <td>2.172183</td>\n",
       "      <td>34.351487</td>\n",
       "      <td>27.329271</td>\n",
       "      <td>62.254043</td>\n",
       "      <td>34.850896</td>\n",
       "      <td>40.046672</td>\n",
       "      <td>179.395113</td>\n",
       "      <td>5.725856</td>\n",
       "      <td>23.480734</td>\n",
       "      <td>82.246913</td>\n",
       "    </tr>\n",
       "    <tr>\n",
       "      <th>1992</th>\n",
       "      <td>48.222474</td>\n",
       "      <td>85.257161</td>\n",
       "      <td>33.538261</td>\n",
       "      <td>24.508363</td>\n",
       "      <td>136.429926</td>\n",
       "      <td>56.591017</td>\n",
       "      <td>64.576915</td>\n",
       "      <td>38.733558</td>\n",
       "      <td>5.730976</td>\n",
       "      <td>3.411166</td>\n",
       "      <td>20.200986</td>\n",
       "      <td>18.182971</td>\n",
       "    </tr>\n",
       "    <tr>\n",
       "      <th>1993</th>\n",
       "      <td>23.963416</td>\n",
       "      <td>17.129860</td>\n",
       "      <td>22.805757</td>\n",
       "      <td>38.297240</td>\n",
       "      <td>49.241477</td>\n",
       "      <td>54.080812</td>\n",
       "      <td>54.865626</td>\n",
       "      <td>48.558933</td>\n",
       "      <td>72.379757</td>\n",
       "      <td>3.797959</td>\n",
       "      <td>0.054250</td>\n",
       "      <td>19.523184</td>\n",
       "    </tr>\n",
       "    <tr>\n",
       "      <th>1994</th>\n",
       "      <td>36.999480</td>\n",
       "      <td>12.982894</td>\n",
       "      <td>34.038304</td>\n",
       "      <td>25.778405</td>\n",
       "      <td>49.902963</td>\n",
       "      <td>18.161482</td>\n",
       "      <td>51.029990</td>\n",
       "      <td>13.737033</td>\n",
       "      <td>43.594616</td>\n",
       "      <td>54.778128</td>\n",
       "      <td>47.698887</td>\n",
       "      <td>55.709382</td>\n",
       "    </tr>\n",
       "    <tr>\n",
       "      <th>1995</th>\n",
       "      <td>1.954942</td>\n",
       "      <td>15.883998</td>\n",
       "      <td>24.513119</td>\n",
       "      <td>42.065819</td>\n",
       "      <td>120.454719</td>\n",
       "      <td>14.060942</td>\n",
       "      <td>27.843737</td>\n",
       "      <td>10.394688</td>\n",
       "      <td>68.226319</td>\n",
       "      <td>17.582834</td>\n",
       "      <td>68.343798</td>\n",
       "      <td>4.158517</td>\n",
       "    </tr>\n",
       "    <tr>\n",
       "      <th>1996</th>\n",
       "      <td>0.000000</td>\n",
       "      <td>8.196157</td>\n",
       "      <td>2.930750</td>\n",
       "      <td>14.988746</td>\n",
       "      <td>38.595822</td>\n",
       "      <td>14.959971</td>\n",
       "      <td>4.302491</td>\n",
       "      <td>84.893723</td>\n",
       "      <td>102.967209</td>\n",
       "      <td>48.383367</td>\n",
       "      <td>42.854220</td>\n",
       "      <td>5.111450</td>\n",
       "    </tr>\n",
       "    <tr>\n",
       "      <th>1997</th>\n",
       "      <td>12.319436</td>\n",
       "      <td>87.918608</td>\n",
       "      <td>56.775533</td>\n",
       "      <td>59.304335</td>\n",
       "      <td>66.769229</td>\n",
       "      <td>145.709819</td>\n",
       "      <td>5.106754</td>\n",
       "      <td>13.001789</td>\n",
       "      <td>24.999757</td>\n",
       "      <td>32.573759</td>\n",
       "      <td>17.010429</td>\n",
       "      <td>20.925379</td>\n",
       "    </tr>\n",
       "    <tr>\n",
       "      <th>1998</th>\n",
       "      <td>26.906883</td>\n",
       "      <td>26.707788</td>\n",
       "      <td>56.606815</td>\n",
       "      <td>1.082273</td>\n",
       "      <td>11.356880</td>\n",
       "      <td>39.617791</td>\n",
       "      <td>3.122232</td>\n",
       "      <td>286.079180</td>\n",
       "      <td>27.601515</td>\n",
       "      <td>42.053287</td>\n",
       "      <td>55.360106</td>\n",
       "      <td>11.714265</td>\n",
       "    </tr>\n",
       "    <tr>\n",
       "      <th>1999</th>\n",
       "      <td>2.960770</td>\n",
       "      <td>0.791375</td>\n",
       "      <td>91.924038</td>\n",
       "      <td>47.296162</td>\n",
       "      <td>19.618088</td>\n",
       "      <td>114.640366</td>\n",
       "      <td>37.527101</td>\n",
       "      <td>3.753817</td>\n",
       "      <td>2.578322</td>\n",
       "      <td>13.896856</td>\n",
       "      <td>0.000000</td>\n",
       "      <td>2.160053</td>\n",
       "    </tr>\n",
       "    <tr>\n",
       "      <th>2000</th>\n",
       "      <td>4.200662</td>\n",
       "      <td>22.441050</td>\n",
       "      <td>17.103699</td>\n",
       "      <td>18.915737</td>\n",
       "      <td>33.652557</td>\n",
       "      <td>155.635207</td>\n",
       "      <td>7.315745</td>\n",
       "      <td>0.007556</td>\n",
       "      <td>52.213908</td>\n",
       "      <td>184.108938</td>\n",
       "      <td>91.241438</td>\n",
       "      <td>18.093551</td>\n",
       "    </tr>\n",
       "    <tr>\n",
       "      <th>2001</th>\n",
       "      <td>45.041779</td>\n",
       "      <td>26.213156</td>\n",
       "      <td>37.270600</td>\n",
       "      <td>7.810194</td>\n",
       "      <td>50.623855</td>\n",
       "      <td>10.702239</td>\n",
       "      <td>19.918423</td>\n",
       "      <td>29.942787</td>\n",
       "      <td>16.966861</td>\n",
       "      <td>12.460005</td>\n",
       "      <td>101.068750</td>\n",
       "      <td>6.046367</td>\n",
       "    </tr>\n",
       "    <tr>\n",
       "      <th>2002</th>\n",
       "      <td>1.530049</td>\n",
       "      <td>7.864190</td>\n",
       "      <td>58.406916</td>\n",
       "      <td>33.483147</td>\n",
       "      <td>23.530797</td>\n",
       "      <td>49.482412</td>\n",
       "      <td>153.026005</td>\n",
       "      <td>53.672472</td>\n",
       "      <td>62.062012</td>\n",
       "      <td>224.143276</td>\n",
       "      <td>7.434174</td>\n",
       "      <td>18.195963</td>\n",
       "    </tr>\n",
       "    <tr>\n",
       "      <th>2003</th>\n",
       "      <td>2.499627</td>\n",
       "      <td>29.449240</td>\n",
       "      <td>19.236491</td>\n",
       "      <td>16.328502</td>\n",
       "      <td>30.275474</td>\n",
       "      <td>95.600232</td>\n",
       "      <td>98.884145</td>\n",
       "      <td>123.214714</td>\n",
       "      <td>112.164798</td>\n",
       "      <td>161.717878</td>\n",
       "      <td>17.210298</td>\n",
       "      <td>0.000018</td>\n",
       "    </tr>\n",
       "    <tr>\n",
       "      <th>2004</th>\n",
       "      <td>49.849873</td>\n",
       "      <td>28.244309</td>\n",
       "      <td>140.590137</td>\n",
       "      <td>146.672400</td>\n",
       "      <td>46.090757</td>\n",
       "      <td>108.368930</td>\n",
       "      <td>36.191780</td>\n",
       "      <td>98.472486</td>\n",
       "      <td>196.246997</td>\n",
       "      <td>155.600503</td>\n",
       "      <td>133.097694</td>\n",
       "      <td>15.210028</td>\n",
       "    </tr>\n",
       "    <tr>\n",
       "      <th>2005</th>\n",
       "      <td>22.555891</td>\n",
       "      <td>74.175226</td>\n",
       "      <td>44.532105</td>\n",
       "      <td>6.354361</td>\n",
       "      <td>132.618613</td>\n",
       "      <td>19.248464</td>\n",
       "      <td>67.861419</td>\n",
       "      <td>94.808425</td>\n",
       "      <td>19.758730</td>\n",
       "      <td>122.749027</td>\n",
       "      <td>1.204568</td>\n",
       "      <td>4.062633</td>\n",
       "    </tr>\n",
       "    <tr>\n",
       "      <th>2006</th>\n",
       "      <td>10.708100</td>\n",
       "      <td>4.033472</td>\n",
       "      <td>22.526177</td>\n",
       "      <td>34.584014</td>\n",
       "      <td>22.778924</td>\n",
       "      <td>42.037203</td>\n",
       "      <td>23.154461</td>\n",
       "      <td>51.903024</td>\n",
       "      <td>47.275485</td>\n",
       "      <td>69.875751</td>\n",
       "      <td>0.137440</td>\n",
       "      <td>19.092308</td>\n",
       "    </tr>\n",
       "    <tr>\n",
       "      <th>2007</th>\n",
       "      <td>66.740080</td>\n",
       "      <td>5.740186</td>\n",
       "      <td>126.155843</td>\n",
       "      <td>75.299352</td>\n",
       "      <td>187.480704</td>\n",
       "      <td>197.880177</td>\n",
       "      <td>79.105362</td>\n",
       "      <td>95.555192</td>\n",
       "      <td>54.756287</td>\n",
       "      <td>35.108123</td>\n",
       "      <td>33.478994</td>\n",
       "      <td>5.930780</td>\n",
       "    </tr>\n",
       "    <tr>\n",
       "      <th>2008</th>\n",
       "      <td>2.214647</td>\n",
       "      <td>0.487687</td>\n",
       "      <td>61.449378</td>\n",
       "      <td>11.187012</td>\n",
       "      <td>19.710218</td>\n",
       "      <td>44.342625</td>\n",
       "      <td>33.702059</td>\n",
       "      <td>162.659435</td>\n",
       "      <td>51.714207</td>\n",
       "      <td>8.735771</td>\n",
       "      <td>0.003674</td>\n",
       "      <td>3.922404</td>\n",
       "    </tr>\n",
       "    <tr>\n",
       "      <th>2009</th>\n",
       "      <td>0.450589</td>\n",
       "      <td>1.143805</td>\n",
       "      <td>42.661584</td>\n",
       "      <td>46.136625</td>\n",
       "      <td>38.563352</td>\n",
       "      <td>46.646674</td>\n",
       "      <td>42.019485</td>\n",
       "      <td>26.477405</td>\n",
       "      <td>44.014104</td>\n",
       "      <td>59.345553</td>\n",
       "      <td>30.928005</td>\n",
       "      <td>33.349575</td>\n",
       "    </tr>\n",
       "    <tr>\n",
       "      <th>2010</th>\n",
       "      <td>52.507605</td>\n",
       "      <td>47.721364</td>\n",
       "      <td>29.594517</td>\n",
       "      <td>114.794163</td>\n",
       "      <td>92.066830</td>\n",
       "      <td>31.325725</td>\n",
       "      <td>114.946058</td>\n",
       "      <td>29.298370</td>\n",
       "      <td>41.861580</td>\n",
       "      <td>0.731484</td>\n",
       "      <td>0.447992</td>\n",
       "      <td>2.361017</td>\n",
       "    </tr>\n",
       "  </tbody>\n",
       "</table>"
      ],
      "text/plain": [
       "<IPython.core.display.HTML object>"
      ]
     },
     "metadata": {},
     "output_type": "display_data"
    }
   ],
   "source": [
    "display( HTML( PVPre.to_html() ) )"
   ]
  },
  {
   "cell_type": "code",
   "execution_count": 15,
   "metadata": {},
   "outputs": [],
   "source": [
    "PreDesc = PVPre.describe()"
   ]
  },
  {
   "cell_type": "code",
   "execution_count": 16,
   "metadata": {},
   "outputs": [
    {
     "data": {
      "text/html": [
       "<div>\n",
       "<style scoped>\n",
       "    .dataframe tbody tr th:only-of-type {\n",
       "        vertical-align: middle;\n",
       "    }\n",
       "\n",
       "    .dataframe tbody tr th {\n",
       "        vertical-align: top;\n",
       "    }\n",
       "\n",
       "    .dataframe thead th {\n",
       "        text-align: right;\n",
       "    }\n",
       "</style>\n",
       "<table border=\"1\" class=\"dataframe\">\n",
       "  <thead>\n",
       "    <tr style=\"text-align: right;\">\n",
       "      <th>Month</th>\n",
       "      <th>1</th>\n",
       "      <th>2</th>\n",
       "      <th>3</th>\n",
       "      <th>4</th>\n",
       "      <th>5</th>\n",
       "      <th>6</th>\n",
       "      <th>7</th>\n",
       "      <th>8</th>\n",
       "      <th>9</th>\n",
       "      <th>10</th>\n",
       "      <th>11</th>\n",
       "      <th>12</th>\n",
       "    </tr>\n",
       "  </thead>\n",
       "  <tbody>\n",
       "    <tr>\n",
       "      <th>count</th>\n",
       "      <td>30.000000</td>\n",
       "      <td>30.000000</td>\n",
       "      <td>30.000000</td>\n",
       "      <td>30.000000</td>\n",
       "      <td>30.000000</td>\n",
       "      <td>30.000000</td>\n",
       "      <td>30.000000</td>\n",
       "      <td>30.000000</td>\n",
       "      <td>30.000000</td>\n",
       "      <td>30.000000</td>\n",
       "      <td>30.000000</td>\n",
       "      <td>30.000000</td>\n",
       "    </tr>\n",
       "    <tr>\n",
       "      <th>mean</th>\n",
       "      <td>21.801931</td>\n",
       "      <td>27.519264</td>\n",
       "      <td>38.749334</td>\n",
       "      <td>36.814617</td>\n",
       "      <td>61.784283</td>\n",
       "      <td>66.442672</td>\n",
       "      <td>47.338690</td>\n",
       "      <td>54.554215</td>\n",
       "      <td>60.554779</td>\n",
       "      <td>65.148089</td>\n",
       "      <td>31.061979</td>\n",
       "      <td>19.068374</td>\n",
       "    </tr>\n",
       "    <tr>\n",
       "      <th>std</th>\n",
       "      <td>19.259155</td>\n",
       "      <td>26.007884</td>\n",
       "      <td>33.277504</td>\n",
       "      <td>36.431583</td>\n",
       "      <td>42.086562</td>\n",
       "      <td>49.115569</td>\n",
       "      <td>47.898505</td>\n",
       "      <td>59.177738</td>\n",
       "      <td>48.776989</td>\n",
       "      <td>67.171443</td>\n",
       "      <td>32.610681</td>\n",
       "      <td>24.168809</td>\n",
       "    </tr>\n",
       "    <tr>\n",
       "      <th>min</th>\n",
       "      <td>0.000000</td>\n",
       "      <td>0.487687</td>\n",
       "      <td>2.172183</td>\n",
       "      <td>1.082273</td>\n",
       "      <td>11.356880</td>\n",
       "      <td>0.256208</td>\n",
       "      <td>0.567298</td>\n",
       "      <td>0.007556</td>\n",
       "      <td>2.578322</td>\n",
       "      <td>0.731484</td>\n",
       "      <td>0.000000</td>\n",
       "      <td>0.000000</td>\n",
       "    </tr>\n",
       "    <tr>\n",
       "      <th>25%</th>\n",
       "      <td>3.270743</td>\n",
       "      <td>7.858754</td>\n",
       "      <td>19.199050</td>\n",
       "      <td>12.137445</td>\n",
       "      <td>31.119745</td>\n",
       "      <td>29.981691</td>\n",
       "      <td>12.898291</td>\n",
       "      <td>13.185600</td>\n",
       "      <td>28.060461</td>\n",
       "      <td>9.666829</td>\n",
       "      <td>2.761970</td>\n",
       "      <td>3.957461</td>\n",
       "    </tr>\n",
       "    <tr>\n",
       "      <th>50%</th>\n",
       "      <td>16.465175</td>\n",
       "      <td>17.631331</td>\n",
       "      <td>33.424272</td>\n",
       "      <td>25.143384</td>\n",
       "      <td>48.445618</td>\n",
       "      <td>53.078062</td>\n",
       "      <td>35.521338</td>\n",
       "      <td>39.390115</td>\n",
       "      <td>49.298701</td>\n",
       "      <td>45.218327</td>\n",
       "      <td>22.280262</td>\n",
       "      <td>10.834586</td>\n",
       "    </tr>\n",
       "    <tr>\n",
       "      <th>75%</th>\n",
       "      <td>36.946848</td>\n",
       "      <td>36.857259</td>\n",
       "      <td>53.588137</td>\n",
       "      <td>47.006278</td>\n",
       "      <td>81.909308</td>\n",
       "      <td>94.739968</td>\n",
       "      <td>62.149093</td>\n",
       "      <td>71.684004</td>\n",
       "      <td>66.685242</td>\n",
       "      <td>99.073665</td>\n",
       "      <td>41.822348</td>\n",
       "      <td>19.438570</td>\n",
       "    </tr>\n",
       "    <tr>\n",
       "      <th>max</th>\n",
       "      <td>66.740080</td>\n",
       "      <td>87.918608</td>\n",
       "      <td>140.590137</td>\n",
       "      <td>146.672400</td>\n",
       "      <td>187.480704</td>\n",
       "      <td>197.880177</td>\n",
       "      <td>211.667838</td>\n",
       "      <td>286.079180</td>\n",
       "      <td>196.246997</td>\n",
       "      <td>224.143276</td>\n",
       "      <td>133.097694</td>\n",
       "      <td>90.040861</td>\n",
       "    </tr>\n",
       "  </tbody>\n",
       "</table>\n",
       "</div>"
      ],
      "text/plain": [
       "Month         1          2           3           4           5           6   \\\n",
       "count  30.000000  30.000000   30.000000   30.000000   30.000000   30.000000   \n",
       "mean   21.801931  27.519264   38.749334   36.814617   61.784283   66.442672   \n",
       "std    19.259155  26.007884   33.277504   36.431583   42.086562   49.115569   \n",
       "min     0.000000   0.487687    2.172183    1.082273   11.356880    0.256208   \n",
       "25%     3.270743   7.858754   19.199050   12.137445   31.119745   29.981691   \n",
       "50%    16.465175  17.631331   33.424272   25.143384   48.445618   53.078062   \n",
       "75%    36.946848  36.857259   53.588137   47.006278   81.909308   94.739968   \n",
       "max    66.740080  87.918608  140.590137  146.672400  187.480704  197.880177   \n",
       "\n",
       "Month          7           8           9           10          11         12  \n",
       "count   30.000000   30.000000   30.000000   30.000000   30.000000  30.000000  \n",
       "mean    47.338690   54.554215   60.554779   65.148089   31.061979  19.068374  \n",
       "std     47.898505   59.177738   48.776989   67.171443   32.610681  24.168809  \n",
       "min      0.567298    0.007556    2.578322    0.731484    0.000000   0.000000  \n",
       "25%     12.898291   13.185600   28.060461    9.666829    2.761970   3.957461  \n",
       "50%     35.521338   39.390115   49.298701   45.218327   22.280262  10.834586  \n",
       "75%     62.149093   71.684004   66.685242   99.073665   41.822348  19.438570  \n",
       "max    211.667838  286.079180  196.246997  224.143276  133.097694  90.040861  "
      ]
     },
     "execution_count": 16,
     "metadata": {},
     "output_type": "execute_result"
    }
   ],
   "source": [
    "PreDesc"
   ]
  },
  {
   "cell_type": "code",
   "execution_count": 17,
   "metadata": {},
   "outputs": [
    {
     "data": {
      "text/plain": [
       "21.801931446464383"
      ]
     },
     "execution_count": 17,
     "metadata": {},
     "output_type": "execute_result"
    }
   ],
   "source": [
    "PreDesc.at[\"mean\", 1]"
   ]
  },
  {
   "cell_type": "code",
   "execution_count": 18,
   "metadata": {},
   "outputs": [],
   "source": [
    "# output to a pickle for later\n",
    "OutFP = os.path.normpath( os.path.join( OUT_DIR, \"PRISM_WS_MonPrecip_PT.pickle\") )\n",
    "with open( OutFP, 'wb' ) as OP:\n",
    "    pickle.dump( PVPre, OP, protocol=pickle.HIGHEST_PROTOCOL )\n",
    "# end with"
   ]
  },
  {
   "cell_type": "code",
   "execution_count": 19,
   "metadata": {},
   "outputs": [],
   "source": [
    "# output to a pickle for later\n",
    "OutFP = os.path.normpath( os.path.join( OUT_DIR, \"PRISM_WS_MonPrecip_Desc.pickle\") )\n",
    "with open( OutFP, 'wb' ) as OP:\n",
    "    pickle.dump( PreDesc, OP, protocol=pickle.HIGHEST_PROTOCOL )\n",
    "# end with"
   ]
  },
  {
   "cell_type": "code",
   "execution_count": 20,
   "metadata": {},
   "outputs": [
    {
     "data": {
      "text/plain": [
       "numpy.ndarray"
      ]
     },
     "execution_count": 20,
     "metadata": {},
     "output_type": "execute_result"
    }
   ],
   "source": [
    "PreMonAve = PreDesc.loc[\"mean\"].to_numpy()\n",
    "PreMonStd = PreDesc.loc[\"std\"].to_numpy()\n",
    "type(PreMonAve)"
   ]
  },
  {
   "cell_type": "code",
   "execution_count": 21,
   "metadata": {},
   "outputs": [
    {
     "data": {
      "text/plain": [
       "array([21.80193145, 27.51926443, 38.74933378, 36.81461716, 61.78428305,\n",
       "       66.44267167, 47.33868988, 54.55421518, 60.55477942, 65.14808925,\n",
       "       31.06197874, 19.06837446])"
      ]
     },
     "execution_count": 21,
     "metadata": {},
     "output_type": "execute_result"
    }
   ],
   "source": [
    "PreMonAve"
   ]
  },
  {
   "cell_type": "code",
   "execution_count": 22,
   "metadata": {},
   "outputs": [
    {
     "data": {
      "text/plain": [
       "530.8382284512818"
      ]
     },
     "execution_count": 22,
     "metadata": {},
     "output_type": "execute_result"
    }
   ],
   "source": [
    "AnnAvePre = PreMonAve.sum()\n",
    "AnnAvePre"
   ]
  },
  {
   "cell_type": "markdown",
   "metadata": {},
   "source": [
    "### TMax"
   ]
  },
  {
   "cell_type": "code",
   "execution_count": 23,
   "metadata": {},
   "outputs": [],
   "source": [
    "InFile = os.path.normpath( os.path.join( IN_DIR, TMAX_XLSX ) )\n",
    "TMaxDF = pd.read_excel( InFile, sheet_name=IN_SHT, header=0, index_col=0, parse_dates=True )"
   ]
  },
  {
   "cell_type": "code",
   "execution_count": 24,
   "metadata": {},
   "outputs": [],
   "source": [
    "TMaxDF.drop( columns=[\"Year\", \"Month\", \"Day of Year\"], inplace=True )"
   ]
  },
  {
   "cell_type": "code",
   "execution_count": 25,
   "metadata": {},
   "outputs": [],
   "source": [
    "TMaxDF.columns = [ \"Tmax_WS_C\" ]"
   ]
  },
  {
   "cell_type": "code",
   "execution_count": 26,
   "metadata": {},
   "outputs": [],
   "source": [
    "MonTMaxDF = TMaxDF.resample( 'MS', closed='left', label='left' ).mean() "
   ]
  },
  {
   "cell_type": "code",
   "execution_count": 27,
   "metadata": {},
   "outputs": [],
   "source": [
    "MonTMaxDF[\"Month\"] = MonTMaxDF.index.month\n",
    "MonTMaxDF[\"Year\"] = MonTMaxDF.index.year"
   ]
  },
  {
   "cell_type": "code",
   "execution_count": 28,
   "metadata": {},
   "outputs": [],
   "source": [
    "PVTMax = pd.pivot_table( MonTMaxDF, values='Tmax_WS_C', index='Year', \n",
    "                         columns='Month', aggfunc=np.mean )"
   ]
  },
  {
   "cell_type": "code",
   "execution_count": 29,
   "metadata": {},
   "outputs": [],
   "source": [
    "TMaxDesc = PVTMax.describe()"
   ]
  },
  {
   "cell_type": "code",
   "execution_count": 30,
   "metadata": {},
   "outputs": [],
   "source": [
    "# output to a pickle for later\n",
    "OutFP = os.path.normpath( os.path.join( OUT_DIR, \"PRISM_WS_MonTMax_PT.pickle\") )\n",
    "with open( OutFP, 'wb' ) as OP:\n",
    "    pickle.dump( PVTMax, OP, protocol=pickle.HIGHEST_PROTOCOL )\n",
    "# end with"
   ]
  },
  {
   "cell_type": "code",
   "execution_count": 31,
   "metadata": {},
   "outputs": [],
   "source": [
    "# output to a pickle for later\n",
    "OutFP = os.path.normpath( os.path.join( OUT_DIR, \"PRISM_WS_MonTMax_Desc.pickle\") )\n",
    "with open( OutFP, 'wb' ) as OP:\n",
    "    pickle.dump( TMaxDesc, OP, protocol=pickle.HIGHEST_PROTOCOL )\n",
    "# end with"
   ]
  },
  {
   "cell_type": "code",
   "execution_count": 32,
   "metadata": {},
   "outputs": [],
   "source": [
    "TMaxMonAve = TMaxDesc.loc[\"mean\"].to_numpy()"
   ]
  },
  {
   "cell_type": "code",
   "execution_count": 33,
   "metadata": {},
   "outputs": [
    {
     "data": {
      "text/plain": [
       "array([16.17969655, 18.68538442, 22.86717385, 27.290896  , 30.98668933,\n",
       "       33.74829027, 34.91710923, 35.21628636, 31.8851898 , 26.77812592,\n",
       "       21.02442938, 16.38213996])"
      ]
     },
     "execution_count": 33,
     "metadata": {},
     "output_type": "execute_result"
    }
   ],
   "source": [
    "TMaxMonAve"
   ]
  },
  {
   "cell_type": "markdown",
   "metadata": {},
   "source": [
    "### TMin"
   ]
  },
  {
   "cell_type": "code",
   "execution_count": 34,
   "metadata": {},
   "outputs": [],
   "source": [
    "InFile = os.path.normpath( os.path.join( IN_DIR, TMIN_XLSX ) )\n",
    "TMinDF = pd.read_excel( InFile, sheet_name=IN_SHT, header=0, index_col=0, parse_dates=True )"
   ]
  },
  {
   "cell_type": "code",
   "execution_count": 35,
   "metadata": {},
   "outputs": [],
   "source": [
    "TMinDF.drop( columns=[\"Year\", \"Month\", \"Day of Year\"], inplace=True )"
   ]
  },
  {
   "cell_type": "code",
   "execution_count": 36,
   "metadata": {},
   "outputs": [],
   "source": [
    "TMinDF.columns = [ \"TMin_WS_C\" ]"
   ]
  },
  {
   "cell_type": "code",
   "execution_count": 37,
   "metadata": {},
   "outputs": [],
   "source": [
    "MonTMinDF = TMinDF.resample( 'MS', closed='left', label='left' ).mean() "
   ]
  },
  {
   "cell_type": "code",
   "execution_count": 38,
   "metadata": {},
   "outputs": [],
   "source": [
    "MonTMinDF[\"Month\"] = MonTMinDF.index.month\n",
    "MonTMinDF[\"Year\"] = MonTMinDF.index.year"
   ]
  },
  {
   "cell_type": "code",
   "execution_count": 39,
   "metadata": {},
   "outputs": [],
   "source": [
    "PVTMin = pd.pivot_table( MonTMinDF, values='TMin_WS_C', index='Year', \n",
    "                         columns='Month', aggfunc=np.mean )"
   ]
  },
  {
   "cell_type": "code",
   "execution_count": 40,
   "metadata": {},
   "outputs": [],
   "source": [
    "TMinDesc = PVTMin.describe()"
   ]
  },
  {
   "cell_type": "code",
   "execution_count": 41,
   "metadata": {},
   "outputs": [],
   "source": [
    "# output to a pickle for later\n",
    "OutFP = os.path.normpath( os.path.join( OUT_DIR, \"PRISM_WS_MonTMin_PT.pickle\") )\n",
    "with open( OutFP, 'wb' ) as OP:\n",
    "    pickle.dump( PVTMin, OP, protocol=pickle.HIGHEST_PROTOCOL )\n",
    "# end with"
   ]
  },
  {
   "cell_type": "code",
   "execution_count": 42,
   "metadata": {},
   "outputs": [],
   "source": [
    "# output to a pickle for later\n",
    "OutFP = os.path.normpath( os.path.join( OUT_DIR, \"PRISM_WS_MonTMin_Desc.pickle\") )\n",
    "with open( OutFP, 'wb' ) as OP:\n",
    "    pickle.dump( TMinDesc, OP, protocol=pickle.HIGHEST_PROTOCOL )\n",
    "# end with"
   ]
  },
  {
   "cell_type": "code",
   "execution_count": 43,
   "metadata": {},
   "outputs": [],
   "source": [
    "TMinMonAve = TMinDesc.loc[\"mean\"].to_numpy()"
   ]
  },
  {
   "cell_type": "code",
   "execution_count": 44,
   "metadata": {},
   "outputs": [
    {
     "data": {
      "text/plain": [
       "array([ 0.65386177,  2.95516437,  7.2935852 , 11.97256245, 17.45692814,\n",
       "       21.01613048, 22.29067888, 21.91320977, 18.36598193, 12.91604736,\n",
       "        6.35425407,  1.02257406])"
      ]
     },
     "execution_count": 44,
     "metadata": {},
     "output_type": "execute_result"
    }
   ],
   "source": [
    "TMinMonAve"
   ]
  },
  {
   "cell_type": "markdown",
   "metadata": {},
   "source": [
    "## Plots"
   ]
  },
  {
   "cell_type": "code",
   "execution_count": 90,
   "metadata": {},
   "outputs": [],
   "source": [
    "DR_AveETo = [ 62.738, 76.454, 120.904, 152.654, 177.292, 188.214, 192.278, 188.214, \n",
    "              146.558, 110.49, 73.914, 59.944 ]"
   ]
  },
  {
   "cell_type": "code",
   "execution_count": 91,
   "metadata": {},
   "outputs": [],
   "source": [
    "bWidth = 0.30"
   ]
  },
  {
   "cell_type": "code",
   "execution_count": 92,
   "metadata": {},
   "outputs": [],
   "source": [
    "monTicks = [x for x in range(1, 13, 1)]\n",
    "monTLabels = [ \"Jan\", \"Feb\", \"Mar\", \"Apr\", \"May\", \"Jun\", \"Jul\", \"Aug\", \"Sep\", \"Oct\", \"Nov\", \"Dec\"]"
   ]
  },
  {
   "cell_type": "code",
   "execution_count": 93,
   "metadata": {},
   "outputs": [],
   "source": [
    "pmonTicks = [ ( x - ((0.5 * bWidth) + 0.05) ) for x in monTicks ]\n",
    "emonTicks = [ ( x + ((0.5 * bWidth) + 0.05) ) for x in monTicks ]"
   ]
  },
  {
   "cell_type": "code",
   "execution_count": 94,
   "metadata": {},
   "outputs": [],
   "source": [
    "preTicks = [ 0.0 + (x *25.0) for x in range(9) ]\n",
    "tmpTicks = [ 0.0 + (x *5.0) for x in range(9) ]"
   ]
  },
  {
   "cell_type": "code",
   "execution_count": 95,
   "metadata": {},
   "outputs": [
    {
     "data": {
      "text/plain": [
       "'C:\\\\Users\\\\nmartin\\\\Documents\\\\CC_IRD\\\\Events\\\\Plots\\\\PRISM_Normals_1981-2010.svg'"
      ]
     },
     "execution_count": 95,
     "metadata": {},
     "output_type": "execute_result"
    }
   ],
   "source": [
    "OutSVG = os.path.normpath( os.path.join( OUT_DIR, \"Plots\", \"PRISM_Normals_1981-2010.svg\") )\n",
    "OutSVG"
   ]
  },
  {
   "cell_type": "code",
   "execution_count": 96,
   "metadata": {},
   "outputs": [
    {
     "data": {
      "text/plain": [
       "'C:\\\\Users\\\\nmartin\\\\Documents\\\\CC_IRD\\\\Events\\\\Plots\\\\PRISM_Normals_1981-2010.png'"
      ]
     },
     "execution_count": 96,
     "metadata": {},
     "output_type": "execute_result"
    }
   ],
   "source": [
    "OutPNG = os.path.normpath( os.path.join( OUT_DIR, \"Plots\", \"PRISM_Normals_1981-2010.png\") )\n",
    "OutPNG"
   ]
  },
  {
   "cell_type": "code",
   "execution_count": 100,
   "metadata": {},
   "outputs": [
    {
     "data": {
      "image/png": "[encoded data removed]",
      "text/plain": [
       "<Figure size 864x504 with 2 Axes>"
      ]
     },
     "metadata": {
      "needs_background": "light"
     },
     "output_type": "display_data"
    }
   ],
   "source": [
    "Fig1 = plt.figure()\n",
    "Fig1.set_size_inches(12.0, 7.0)\n",
    "ax11 = Fig1.add_subplot(111)\n",
    "preRects = ax11.bar( pmonTicks, PreMonAve, bWidth, yerr=PreMonStd, \n",
    "                     color='xkcd:ocean blue', edgecolor='xkcd:ocean blue',\n",
    "                     label=\"Precipitation Depth\" )\n",
    "etoRects = ax11.bar( emonTicks, DR_AveETo, bWidth, \n",
    "                     color='xkcd:pale orange', edgecolor='xkcd:pale orange',\n",
    "                     label=\"Reference Crop Evapotranspiration (ETo)\" )\n",
    "ax11.set_xticks( monTicks )\n",
    "ax11.set_yticks( preTicks )\n",
    "ax11.set_xticklabels( monTLabels, minor=False, rotation=0 )\n",
    "#ax11.set_xlabel('Month', fontsize=14 )\n",
    "ax11.set_ylabel('Monthly Average Depth ($mm$)', fontsize=14)\n",
    "ax11.set_ylim( (-10.0, 200.0))\n",
    "ax11.tick_params(axis='both', which='major', labelsize=13)\n",
    "ax11.yaxis.set_major_formatter( mpl.ticker.StrMethodFormatter( \"{x:,.1f}\" ) )\n",
    "# second plot\n",
    "ax21 = ax11.twinx()\n",
    "maxT, = ax21.plot( monTicks, TMaxMonAve, color='xkcd:dark orange',\n",
    "                   label=\"Daily Maximum Temperature\")\n",
    "minT, = ax21.plot( monTicks, TMinMonAve, color='xkcd:steel',\n",
    "                   label=\"Daily Minimum Temperature\")\n",
    "ax21.set_yticks( tmpTicks )\n",
    "ax21.set_ylabel('Monthly Average Temperature ($ ^{\\circ} C$)', fontsize=14)\n",
    "ax21.set_ylim( (-2.5, 40.0) )\n",
    "ax21.tick_params(axis='y', which='major', labelsize=13)\n",
    "ax11.legend( (preRects, etoRects, maxT, minT, ), \n",
    "             (\"Precipitation\", \"Reference Crop Evapotranspiration (ETo)\", \n",
    "              \"Daily Maximum Temperature\", \"Daily Minimum Temperature\" ),\n",
    "             loc='upper left' )\n",
    "ax11.grid(b=True, which='major', axis='y' )\n",
    "ax21.yaxis.set_major_formatter( mpl.ticker.StrMethodFormatter( \"{x:,.1f}\" ) )\n",
    "#ax11.xaxis.set_major_formatter( mpl.ticker.StrMethodFormatter( \"{x:,.0f}\" ) )\n",
    "Fig1.savefig( OutSVG )\n",
    "Fig1.savefig( OutPNG )"
   ]
  },
  {
   "cell_type": "code",
   "execution_count": null,
   "metadata": {},
   "outputs": [],
   "source": [
    "type(preRects)"
   ]
  },
  {
   "cell_type": "code",
   "execution_count": null,
   "metadata": {},
   "outputs": [],
   "source": []
  }
 ],
 "metadata": {
  "kernelspec": {
   "display_name": "Python 3",
   "language": "python",
   "name": "python3"
  },
  "language_info": {
   "codemirror_mode": {
    "name": "ipython",
    "version": 3
   },
   "file_extension": ".py",
   "mimetype": "text/x-python",
   "name": "python",
   "nbconvert_exporter": "python",
   "pygments_lexer": "ipython3",
   "version": "3.8.5"
  }
 },
 "nbformat": 4,
 "nbformat_minor": 4
}
