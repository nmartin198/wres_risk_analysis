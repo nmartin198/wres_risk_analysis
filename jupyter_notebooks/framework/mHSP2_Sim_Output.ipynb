{
 "cells": [
  {
   "cell_type": "markdown",
   "metadata": {},
   "source": [
    "# mHSP2: Process Single Simulation Output"
   ]
  },
  {
   "cell_type": "markdown",
   "metadata": {},
   "source": [
    "Testing and development for processing mHSP2 output. This focuses on extracting our water balance components for the 12 HRUs and the five reaches and aggregating these to watershed-wide water balance quantities."
   ]
  },
  {
   "cell_type": "markdown",
   "metadata": {},
   "source": [
    "Predefine our targets for analysis and quantities because know how the watershed is configured and what\n",
    "are our water budget components.\n",
    "\n",
    "* PERLND\n",
    "    - IGWI, losses to inactive groundwater, represents deep infiltration or recharge, in $in/day$\n",
    "    - Actual evapotranspiration is calculated as the total from a number of parameters. Check\n",
    "      that TAET is matching the sum of the other five and then use TAET\n",
    "        * AGWET, AET from active groundwater, $in/day$\n",
    "        * BASET, AET from baseflow, $in/day$\n",
    "        * CEPE, AET from interception storage, $in/day$\n",
    "        * LZET, AET from lower soil zone, $in/day$\n",
    "        * UZET, AET from upper soil zone, $in/day$\n",
    "        * TAET, total PERLND AET, $in/day$\n",
    "    - PERO, total outflow from pervious land, in $in/day$ composed of\n",
    "        * SURO, surface storage outflow, $in/day$\n",
    "        * IFWO, interflow outflow, $in/day$\n",
    "        * AGWO, active groundwater outflow, $in/day$\n",
    "* IMPLND is the simpliest structure because no infiltration\n",
    "    - IMPEV, total simulated evaporation, in $in/day$\n",
    "    - SURO, surface storage outflow, in $in/day$\n",
    "* RCHRES\n",
    "    - OVOL, volume of outflow to downstream, $af/day$\n",
    "        - R005, OVOL1 is the volume of outflow from the domain, in $af/day$\n",
    "            * This is total stream flow generted for the entire watershed\n",
    "            * Needs to have the lateral inflow representing spring discharge removed to give\n",
    "              runoff\n",
    "        - R001, R002, R003, R004, use OVOL2 which is the outflow to groundwater from exit\n",
    "          2, in $af/day$ \n",
    "    - VOLEV, volume of evaporation from stream segments, $af/day$"
   ]
  },
  {
   "cell_type": "markdown",
   "metadata": {},
   "source": [
    "## Parameters and Imports"
   ]
  },
  {
   "cell_type": "code",
   "execution_count": 1,
   "metadata": {},
   "outputs": [],
   "source": [
    "%matplotlib inline"
   ]
  },
  {
   "cell_type": "code",
   "execution_count": 2,
   "metadata": {},
   "outputs": [],
   "source": [
    "import h5py\n",
    "import pandas as pd\n",
    "import numpy as np\n",
    "import datetime as dt\n",
    "import os\n",
    "import matplotlib as mpl\n",
    "import matplotlib.pyplot as plt\n",
    "from IPython.display import display, HTML\n",
    "from copy import deepcopy"
   ]
  },
  {
   "cell_type": "code",
   "execution_count": 3,
   "metadata": {},
   "outputs": [],
   "source": [
    "from pandas.plotting import register_matplotlib_converters\n",
    "register_matplotlib_converters()"
   ]
  },
  {
   "cell_type": "code",
   "execution_count": 4,
   "metadata": {},
   "outputs": [],
   "source": [
    "InHDF5 = r'C:\\Working\\Test_Models\\modSA_mHSP2\\DC_CalibmHSP2.h5'"
   ]
  },
  {
   "cell_type": "code",
   "execution_count": 5,
   "metadata": {},
   "outputs": [],
   "source": [
    "OUT_DIR = r'C:\\Working\\Test_Models\\modSA_mHSP2\\Outputs'"
   ]
  },
  {
   "cell_type": "code",
   "execution_count": 6,
   "metadata": {},
   "outputs": [],
   "source": [
    "Start_DT = dt.datetime( 2013, 1, 1 )\n",
    "End_DT = dt.datetime( 2018, 9, 1 )"
   ]
  },
  {
   "cell_type": "code",
   "execution_count": 7,
   "metadata": {},
   "outputs": [],
   "source": [
    "PLND = \"PERLND\"\n",
    "IMLND = \"IMPLND\"\n",
    "RRES = \"RCHRES\""
   ]
  },
  {
   "cell_type": "code",
   "execution_count": 8,
   "metadata": {},
   "outputs": [],
   "source": [
    "PTargs = [ \"P001\", \"P002\", \"P003\", \"P004\", \"P005\", \"P006\", \"P007\", \n",
    "           \"P008\", \"P009\", \"P010\", \"P011\", \"P012\" ]"
   ]
  },
  {
   "cell_type": "code",
   "execution_count": 9,
   "metadata": {},
   "outputs": [],
   "source": [
    "ITargs = [ \"I001\", \"I002\", \"I003\", \"I004\", \"I005\", \"I006\", \"I007\", \n",
    "           \"I008\", \"I009\", \"I010\", \"I011\", \"I012\" ]"
   ]
  },
  {
   "cell_type": "code",
   "execution_count": 10,
   "metadata": {},
   "outputs": [],
   "source": [
    "RTarg = [ \"R001\", \"R002\", \"R003\", \"R004\" ]\n",
    "ROut = \"R005\""
   ]
  },
  {
   "cell_type": "code",
   "execution_count": 11,
   "metadata": {},
   "outputs": [],
   "source": [
    "HRU_Areas = { \"HRU_1\" : 25337.50,\n",
    "              \"HRU_2\" : 10709.74,\n",
    "              \"HRU_3\" : 8167.01,\n",
    "              \"HRU_4\" : 7699.20,\n",
    "              \"HRU_5\" : 14445.14,\n",
    "              \"HRU_6\" : 5395.53,\n",
    "              \"HRU_7\" : 18151.25,\n",
    "              \"HRU_8\" : 5316.70,\n",
    "              \"HRU_9\" : 8346.94,\n",
    "              \"HRU_10\" : 2497.28,\n",
    "              \"HRU_11\" : 3579.89,\n",
    "              \"HRU_12\" : 4264.43,\n",
    "            }\n",
    "WS_Area = 113910.61"
   ]
  },
  {
   "cell_type": "code",
   "execution_count": 12,
   "metadata": {},
   "outputs": [],
   "source": [
    "PL_Areas = { \"P001\" : 25100.45,\n",
    "             \"P002\" : 10588.09,\n",
    "             \"P003\" : 8078.48,\n",
    "             \"P004\" : 7651.15,\n",
    "             \"P005\" : 14436.69,\n",
    "             \"P006\" : 5364.62,\n",
    "             \"P007\" : 18151.25,\n",
    "             \"P008\" : 5269.78, \n",
    "             \"P009\" : 8247.99,\n",
    "             \"P010\" : 2462.13,\n",
    "             \"P011\" : 3559.67,\n",
    "             \"P012\" : 4242.42,\n",
    "           }\n",
    "PERV_Area = 113152.72"
   ]
  },
  {
   "cell_type": "code",
   "execution_count": 13,
   "metadata": {},
   "outputs": [],
   "source": [
    "IL_Areas = { \"I001\" : 237.05,\n",
    "             \"I002\" : 121.65,\n",
    "             \"I003\" : 88.53,\n",
    "             \"I004\" : 48.05,\n",
    "             \"I005\" : 8.45,\n",
    "             \"I006\" : 30.92,\n",
    "             \"I007\" : 0.00,\n",
    "             \"I008\" : 46.92,\n",
    "             \"I009\" : 98.95,\n",
    "             \"I010\" : 35.15,\n",
    "             \"I011\" : 20.22,\n",
    "             \"I012\" : 22.01,\n",
    "}\n",
    "IMP_Area = 757.89"
   ]
  },
  {
   "cell_type": "markdown",
   "metadata": {},
   "source": [
    "For this particular case, also want to create an external time series dictionary."
   ]
  },
  {
   "cell_type": "code",
   "execution_count": 14,
   "metadata": {},
   "outputs": [],
   "source": [
    "TS_DICT = { \"R001\" : [ [ \"PREC\", \"TS102\" ], [ \"POTEV\", \"TS103\"] ],\n",
    "            \"R002\" : [ [ \"PREC\", \"TS104\" ], [ \"POTEV\", \"TS105\"] ],  \n",
    "            \"R003\" : [ [ \"PREC\", \"TS106\" ], [ \"POTEV\", \"TS107\"] ],  \n",
    "            \"R004\" : [ [ \"PREC\", \"TS108\" ], [ \"POTEV\", \"TS109\"] ],  \n",
    "            \"R005\" : [ [ \"PREC\", \"TS110\" ], [ \"POTEV\", \"TS111\"], [\"IVOL\", \"TS136\"]],  \n",
    "            \"P001\" : [ [ \"PREC\", \"TS112\" ], [ \"PETINP\", \"TS113\"] ],  \n",
    "            \"P002\" : [ [ \"PREC\", \"TS114\" ], [ \"PETINP\", \"TS115\"] ],  \n",
    "            \"P003\" : [ [ \"PREC\", \"TS116\" ], [ \"PETINP\", \"TS117\"] ],  \n",
    "            \"P004\" : [ [ \"PREC\", \"TS118\" ], [ \"PETINP\", \"TS119\"] ],  \n",
    "            \"P005\" : [ [ \"PREC\", \"TS120\" ], [ \"PETINP\", \"TS121\"] ],  \n",
    "            \"P006\" : [ [ \"PREC\", \"TS122\" ], [ \"PETINP\", \"TS123\"] ],  \n",
    "            \"P007\" : [ [ \"PREC\", \"TS124\" ], [ \"PETINP\", \"TS125\"] ],  \n",
    "            \"P008\" : [ [ \"PREC\", \"TS126\" ], [ \"PETINP\", \"TS127\"] ],  \n",
    "            \"P009\" : [ [ \"PREC\", \"TS128\" ], [ \"PETINP\", \"TS129\"] ],  \n",
    "            \"P010\" : [ [ \"PREC\", \"TS130\" ], [ \"PETINP\", \"TS131\"] ],  \n",
    "            \"P011\" : [ [ \"PREC\", \"TS132\" ], [ \"PETINP\", \"TS133\"] ],  \n",
    "            \"P012\" : [ [ \"PREC\", \"TS134\" ], [ \"PETINP\", \"TS135\"] ],  \n",
    "            \"I001\" : [ [ \"PREC\", \"TS112\" ], [ \"PETINP\", \"TS113\"] ],  \n",
    "            \"I002\" : [ [ \"PREC\", \"TS114\" ], [ \"PETINP\", \"TS115\"] ],  \n",
    "            \"I003\" : [ [ \"PREC\", \"TS116\" ], [ \"PETINP\", \"TS117\"] ],  \n",
    "            \"I004\" : [ [ \"PREC\", \"TS118\" ], [ \"PETINP\", \"TS119\"] ],  \n",
    "            \"I005\" : [ [ \"PREC\", \"TS120\" ], [ \"PETINP\", \"TS121\"] ],  \n",
    "            \"I006\" : [ [ \"PREC\", \"TS122\" ], [ \"PETINP\", \"TS123\"] ],  \n",
    "            \"I007\" : [ [ \"PREC\", \"TS124\" ], [ \"PETINP\", \"TS125\"] ],  \n",
    "            \"I008\" : [ [ \"PREC\", \"TS126\" ], [ \"PETINP\", \"TS127\"] ],  \n",
    "            \"I009\" : [ [ \"PREC\", \"TS128\" ], [ \"PETINP\", \"TS129\"] ],  \n",
    "            \"I010\" : [ [ \"PREC\", \"TS130\" ], [ \"PETINP\", \"TS131\"] ],  \n",
    "            \"I011\" : [ [ \"PREC\", \"TS132\" ], [ \"PETINP\", \"TS133\"] ],  \n",
    "            \"I012\" : [ [ \"PREC\", \"TS134\" ], [ \"PETINP\", \"TS135\"] ],  \n",
    "          }"
   ]
  },
  {
   "cell_type": "markdown",
   "metadata": {},
   "source": [
    "## Read and Process Results"
   ]
  },
  {
   "cell_type": "markdown",
   "metadata": {},
   "source": [
    "Read in the results for each HRU and stream segment - at least the results that are needed for our calculations."
   ]
  },
  {
   "cell_type": "markdown",
   "metadata": {},
   "source": [
    "### HRUs"
   ]
  },
  {
   "cell_type": "markdown",
   "metadata": {},
   "source": [
    "HRUs include PERLND and IMPLND."
   ]
  },
  {
   "cell_type": "code",
   "execution_count": 15,
   "metadata": {},
   "outputs": [
    {
     "data": {
      "text/plain": [
       "12"
      ]
     },
     "execution_count": 15,
     "metadata": {},
     "output_type": "execute_result"
    }
   ],
   "source": [
    "NumHRU = len( PTargs )\n",
    "NumHRU"
   ]
  },
  {
   "cell_type": "code",
   "execution_count": 16,
   "metadata": {},
   "outputs": [],
   "source": [
    "HRU_Dict = dict()"
   ]
  },
  {
   "cell_type": "code",
   "execution_count": 17,
   "metadata": {},
   "outputs": [],
   "source": [
    "pCols = [ \"Prec_in\", \"Prec_af\", \"IGWI\", \"TAET\", \"PERO\", \"IMPEV\", \"ISURO\", \"TOT_Re_af\", \n",
    "          \"TOT_RO_af\", \"TOT_AET_af\" ]"
   ]
  },
  {
   "cell_type": "code",
   "execution_count": 18,
   "metadata": {},
   "outputs": [],
   "source": [
    "for iI in range(NumHRU):\n",
    "    cHRU = \"HRU_%d\" % ( iI + 1 )\n",
    "    tArea = HRU_Areas[cHRU]\n",
    "    cPTarg = PTargs[iI]\n",
    "    cITarg = ITargs[iI]\n",
    "    pArea = PL_Areas[cPTarg]\n",
    "    iArea = IL_Areas[cITarg]\n",
    "    InPreTSId = TS_DICT[cPTarg][0][1]\n",
    "    cKey = \"/TIMESERIES/%s/\" % InPreTSId\n",
    "    PrecSeries = pd.read_hdf( InHDF5, cKey )\n",
    "    DataDict = { \"Prec_in\" : np.array( PrecSeries.values, dtype=np.float32 ), }\n",
    "    PrecDF = pd.DataFrame( index=PrecSeries.index, data=DataDict )\n",
    "    HRUDF = PrecDF.loc[Start_DT:End_DT].copy()\n",
    "    HRUDF[\"Prec_af\"] = ( HRUDF[\"Prec_in\"] / 12.0 ) * tArea\n",
    "    cKey = \"/RESULTS/PERLND_%s/PWATER/\" % cPTarg\n",
    "    pervDF = pd.read_hdf( InHDF5, cKey )\n",
    "    HRUDF[\"IGWI\"] = ( pervDF[\"IGWI\"] / 12.0 ) * pArea\n",
    "    HRUDF[\"TAET\"] = ( pervDF[\"TAET\"] / 12.0 ) * pArea\n",
    "    HRUDF[\"PERO\"] = ( pervDF[\"PERO\"] / 12.0 ) * pArea\n",
    "    cKey = \"/RESULTS/IMPLND_%s/IWATER/\" % cITarg\n",
    "    impDF = pd.read_hdf( InHDF5, cKey )\n",
    "    HRUDF[\"IMPEV\"] = ( impDF[\"IMPEV\"] / 12.0 ) * iArea\n",
    "    HRUDF[\"ISURO\"] = ( impDF[\"SURO\"] / 12.0 ) * iArea\n",
    "    # now do some calcs\n",
    "    HRUDF[\"TOT_Re_af\"] = HRUDF[\"IGWI\"]\n",
    "    HRUDF[\"TOT_RO_af\"] = HRUDF[\"PERO\"] + HRUDF[\"ISURO\"]\n",
    "    HRUDF[\"TOT_AET_af\"] = HRUDF[\"TAET\"] + HRUDF[\"IMPEV\"]\n",
    "    # add to our dictionary\n",
    "    HRU_Dict[cHRU] = HRUDF\n",
    "# end for"
   ]
  },
  {
   "cell_type": "markdown",
   "metadata": {},
   "source": [
    "Now output to a spreadsheet for checking"
   ]
  },
  {
   "cell_type": "code",
   "execution_count": 19,
   "metadata": {},
   "outputs": [],
   "source": [
    "OutFP = os.path.normpath( os.path.join( OUT_DIR, \"HRU_Summary.xlsx\" ) )\n",
    "with pd.ExcelWriter( OutFP ) as writer:\n",
    "    outKeys = list( HRU_Dict.keys() )\n",
    "    for iI in outKeys:\n",
    "        HRU_Dict[iI].to_excel( writer, sheet_name=iI, columns=pCols, index_label=\"Date\", na_rep=str(np.nan) )\n",
    "    # end for\n",
    "# end with"
   ]
  },
  {
   "cell_type": "code",
   "execution_count": 20,
   "metadata": {},
   "outputs": [
    {
     "data": {
      "text/plain": [
       "2070"
      ]
     },
     "execution_count": 20,
     "metadata": {},
     "output_type": "execute_result"
    }
   ],
   "source": [
    "NumRows = len( HRU_Dict[\"HRU_1\"] )\n",
    "NumRows"
   ]
  },
  {
   "cell_type": "code",
   "execution_count": 21,
   "metadata": {},
   "outputs": [],
   "source": [
    "AAPrecip_in = np.zeros( NumRows, dtype=np.float64 )\n",
    "AAPrecip_af = np.zeros( NumRows, dtype=np.float64 )\n",
    "TotAET = np.zeros( NumRows, dtype=np.float64 )\n",
    "TotRO = np.zeros( NumRows, dtype=np.float64 )\n",
    "TotRe = np.zeros( NumRows, dtype=np.float64 )"
   ]
  },
  {
   "cell_type": "markdown",
   "metadata": {},
   "source": [
    "Go through and start our main counters"
   ]
  },
  {
   "cell_type": "code",
   "execution_count": 22,
   "metadata": {},
   "outputs": [],
   "source": [
    "AETDDict = dict()\n",
    "ReDDict = dict()\n",
    "RODDict = dict()"
   ]
  },
  {
   "cell_type": "code",
   "execution_count": 23,
   "metadata": {},
   "outputs": [],
   "source": [
    "for iI in range(NumHRU):\n",
    "    cHRU = \"HRU_%d\" % ( iI + 1 )\n",
    "    tArea = HRU_Areas[cHRU]\n",
    "    AAPrecip_in += ( HRU_Dict[cHRU][\"Prec_in\"] * ( tArea / WS_Area ) )\n",
    "    AAPrecip_af += HRU_Dict[cHRU][\"Prec_af\"]\n",
    "    TotAET += HRU_Dict[cHRU][\"TOT_AET_af\"]\n",
    "    TotRe += HRU_Dict[cHRU][\"TOT_Re_af\"]\n",
    "    AETDDict[cHRU] = HRU_Dict[cHRU][\"TOT_AET_af\"].to_numpy()\n",
    "    ReDDict[cHRU] = HRU_Dict[cHRU][\"TOT_Re_af\"].to_numpy()\n",
    "    RODDict[cHRU] = HRU_Dict[cHRU][\"TOT_RO_af\"].to_numpy()\n",
    "# end for"
   ]
  },
  {
   "cell_type": "markdown",
   "metadata": {},
   "source": [
    "### RCHRES"
   ]
  },
  {
   "cell_type": "code",
   "execution_count": 24,
   "metadata": {},
   "outputs": [
    {
     "data": {
      "text/plain": [
       "4"
      ]
     },
     "execution_count": 24,
     "metadata": {},
     "output_type": "execute_result"
    }
   ],
   "source": [
    "NumRR = len( RTarg )\n",
    "NumRR"
   ]
  },
  {
   "cell_type": "code",
   "execution_count": 25,
   "metadata": {},
   "outputs": [],
   "source": [
    "RR_Dict = dict()"
   ]
  },
  {
   "cell_type": "code",
   "execution_count": 26,
   "metadata": {},
   "outputs": [],
   "source": [
    "rCols = [\"OVOL1\", \"OVOL2\", \"PRSUPY\", \"VOLEV\", ]\n",
    "rOutCols = [\"OVOL1\", \"Spring_af\", \"Net_RO\", \"PRSUPY\", \"VOLEV\", ]"
   ]
  },
  {
   "cell_type": "code",
   "execution_count": 27,
   "metadata": {},
   "outputs": [],
   "source": [
    "for tKey in RTarg:\n",
    "    cKey = \"/RESULTS/RCHRES_%s/HYDR/\" % tKey\n",
    "    trrDF = pd.read_hdf( InHDF5, cKey )\n",
    "    rrDF = trrDF[[\"OVOL1\", \"OVOL2\", \"PRSUPY\", \"VOLEV\"]].copy()\n",
    "    AETDDict[tKey] = rrDF[\"VOLEV\"].to_numpy()\n",
    "    ReDDict[tKey] = rrDF[\"OVOL2\"].to_numpy()\n",
    "    RODDict[tKey] = rrDF[\"OVOL1\"].to_numpy()\n",
    "    AAPrecip_af += rrDF[\"PRSUPY\"].to_numpy()\n",
    "    TotAET += rrDF[\"VOLEV\"].to_numpy()\n",
    "    TotRe += rrDF[\"OVOL2\"].to_numpy()\n",
    "    RR_Dict[tKey] = rrDF\n",
    "# end for"
   ]
  },
  {
   "cell_type": "markdown",
   "metadata": {},
   "source": [
    "Now do the outlet RCHRES which is special"
   ]
  },
  {
   "cell_type": "code",
   "execution_count": 28,
   "metadata": {},
   "outputs": [],
   "source": [
    "InRRITSId = TS_DICT[ROut][2][1]\n",
    "cKey = \"/TIMESERIES/%s/\" % InRRITSId\n",
    "SpringSeries = pd.read_hdf( InHDF5, cKey )\n",
    "DataDict = { \"Spring_af\" : np.array( SpringSeries.values, dtype=np.float32 ), }\n",
    "SpringDF = pd.DataFrame( index=SpringSeries.index, data=DataDict )\n",
    "OutDF = SpringDF.loc[Start_DT:End_DT].copy()"
   ]
  },
  {
   "cell_type": "code",
   "execution_count": 29,
   "metadata": {},
   "outputs": [],
   "source": [
    "cKey = \"/RESULTS/RCHRES_%s/HYDR/\" % ROut\n",
    "trrDF = pd.read_hdf( InHDF5, cKey )\n",
    "rrDF = trrDF[[\"OVOL1\", \"PRSUPY\", \"VOLEV\"]].copy()\n",
    "rrDF[\"Spring_af\"] = OutDF[\"Spring_af\"]\n",
    "rrDF[\"Net_RO\"] = rrDF[\"OVOL1\"] - rrDF[\"Spring_af\"]\n",
    "AETDDict[ROut] = rrDF[\"VOLEV\"].to_numpy()\n",
    "RODDict[ROut] = rrDF[\"OVOL1\"].to_numpy()\n",
    "AAPrecip_af += rrDF[\"PRSUPY\"].to_numpy()\n",
    "TotAET += rrDF[\"VOLEV\"].to_numpy()\n",
    "TotRO += rrDF[\"Net_RO\"]\n",
    "RR_Dict[ROut] = rrDF"
   ]
  },
  {
   "cell_type": "code",
   "execution_count": 30,
   "metadata": {},
   "outputs": [],
   "source": [
    "OutFP = os.path.normpath( os.path.join( OUT_DIR, \"RR_Summary.xlsx\" ) )\n",
    "with pd.ExcelWriter( OutFP ) as writer:\n",
    "    for tKey in RTarg:\n",
    "        RR_Dict[tKey].to_excel( writer, sheet_name=tKey, columns=rCols, index_label=\"Date\", \n",
    "                                na_rep=str(np.nan) )\n",
    "    # end for\n",
    "    RR_Dict[ROut].to_excel( writer, sheet_name=ROut, columns=rOutCols, index_label=\"Date\",\n",
    "                            na_rep=str(np.nan) )\n",
    "# end with"
   ]
  },
  {
   "cell_type": "markdown",
   "metadata": {},
   "source": [
    "Collate the summary water budgets"
   ]
  },
  {
   "cell_type": "code",
   "execution_count": 31,
   "metadata": {},
   "outputs": [],
   "source": [
    "AetDF = pd.DataFrame(index=OutDF.index, data=AETDDict )\n",
    "RoDF = pd.DataFrame(index=OutDF.index, data=RODDict )\n",
    "ReDF = pd.DataFrame(index=OutDF.index, data=ReDDict )"
   ]
  },
  {
   "cell_type": "code",
   "execution_count": 32,
   "metadata": {},
   "outputs": [],
   "source": [
    "DataDict = { \"Tot_Prec\" : AAPrecip_af,\n",
    "             \"Tot_AET\" : TotAET,\n",
    "             \"Tot_Re\" : TotRe,\n",
    "             \"Tot_RO\" : TotRO, }\n",
    "WBDF = pd.DataFrame(index=OutDF.index, data=DataDict )"
   ]
  },
  {
   "cell_type": "code",
   "execution_count": 33,
   "metadata": {},
   "outputs": [],
   "source": [
    "OutFP = os.path.normpath( os.path.join( OUT_DIR, \"WB_Summary.xlsx\" ) )\n",
    "with pd.ExcelWriter( OutFP ) as writer:\n",
    "    WBDF.to_excel( writer, sheet_name=\"Summary\", index_label=\"Date\", na_rep=str(np.nan))\n",
    "    AetDF.to_excel( writer, sheet_name=\"AET\", index_label=\"Date\", na_rep=str(np.nan))\n",
    "    RoDF.to_excel( writer, sheet_name=\"RO\", index_label=\"Date\", na_rep=str(np.nan))\n",
    "    ReDF.to_excel( writer, sheet_name=\"Re\", index_label=\"Date\", na_rep=str(np.nan))\n",
    "# end with"
   ]
  },
  {
   "cell_type": "markdown",
   "metadata": {},
   "source": [
    "Add Tot_PET to WBDF for end of realization output. But then these time series of totals are what are compared between the pathways."
   ]
  },
  {
   "cell_type": "markdown",
   "metadata": {},
   "source": [
    "Compare our totals"
   ]
  },
  {
   "cell_type": "code",
   "execution_count": 34,
   "metadata": {},
   "outputs": [],
   "source": [
    "Tot_Prec = WBDF[\"Tot_Prec\"].sum()\n",
    "Tot_AET = WBDF[\"Tot_AET\"].sum()\n",
    "Tot_Re = WBDF[\"Tot_Re\"].sum()\n",
    "Tot_RO = WBDF[\"Tot_RO\"].sum()"
   ]
  },
  {
   "cell_type": "code",
   "execution_count": 35,
   "metadata": {},
   "outputs": [
    {
     "data": {
      "text/plain": [
       "(1254795.4176752483, 1270014.658990414, -15219.241315165767)"
      ]
     },
     "execution_count": 35,
     "metadata": {},
     "output_type": "execute_result"
    }
   ],
   "source": [
    "CompTot = Tot_AET + Tot_Re + Tot_RO\n",
    "Dsmoist = Tot_Prec - CompTot\n",
    "Adj_AET = Tot_AET + Dsmoist\n",
    "Tot_Prec, CompTot, Tot_Prec - CompTot"
   ]
  },
  {
   "cell_type": "code",
   "execution_count": 36,
   "metadata": {},
   "outputs": [
    {
     "data": {
      "text/plain": [
       "0.0"
      ]
     },
     "execution_count": 36,
     "metadata": {},
     "output_type": "execute_result"
    }
   ],
   "source": [
    "Tot_Prec - ( Adj_AET + Tot_Re + Tot_RO )"
   ]
  },
  {
   "cell_type": "code",
   "execution_count": 37,
   "metadata": {},
   "outputs": [
    {
     "data": {
      "text/plain": [
       "(-1.1018660688102737,\n",
       " 1.1061910476408578,\n",
       " -1.1070232314571415,\n",
       " 1.1057801562803755)"
      ]
     },
     "execution_count": 37,
     "metadata": {},
     "output_type": "execute_result"
    },
    {
     "data": {
      "image/png": "[encoded data removed]",
      "text/plain": [
       "<Figure size 504x504 with 1 Axes>"
      ]
     },
     "metadata": {},
     "output_type": "display_data"
    }
   ],
   "source": [
    "Fig1 = plt.figure()\n",
    "Fig1.set_size_inches(7.0, 7.0)\n",
    "ax11 = Fig1.add_subplot(111)\n",
    "labels = [\"AET\", \"Re\", \"RO\"]\n",
    "sizes = [Adj_AET, Tot_Re, Tot_RO]\n",
    "colors = [\"xkcd:green\", \"xkcd:burnt orange\", \"xkcd:ocean blue\"]\n",
    "explode = ( 0, 0.0, 0.1)\n",
    "ax11.pie( sizes, explode=explode, labels=labels, colors=colors, \n",
    "          autopct='%1.1f%%', shadow=True, startangle=140 )\n",
    "ax11.axis('equal')"
   ]
  },
  {
   "cell_type": "markdown",
   "metadata": {},
   "source": [
    "## Plot RO"
   ]
  },
  {
   "cell_type": "code",
   "execution_count": 38,
   "metadata": {},
   "outputs": [],
   "source": [
    "GAUGE_XLSX = r'C:\\Working\\Test_Models\\modSA_mHSP2\\DolanProcessed_Hr-Processed.xlsx'\n",
    "GAUGE_SHT = \"Daily\"\n",
    "GAUGE_HDR = \"Discharge_cfs\"\n",
    "DCGauge = pd.read_excel( GAUGE_XLSX, sheet_name=GAUGE_SHT, header=0, index_col=0, parse_dates=True )"
   ]
  },
  {
   "cell_type": "code",
   "execution_count": 39,
   "metadata": {},
   "outputs": [],
   "source": [
    "ConvCFStoAFD = lambda CFS: CFS * ( 1.0 / 43560.0 ) * ( ( 24.0 * 60.0 * 60.0 ) )"
   ]
  },
  {
   "cell_type": "code",
   "execution_count": 40,
   "metadata": {},
   "outputs": [],
   "source": [
    "DCGauge = DCGauge[[GAUGE_HDR]].loc[Start_DT:End_DT].copy()"
   ]
  },
  {
   "cell_type": "code",
   "execution_count": 41,
   "metadata": {},
   "outputs": [],
   "source": [
    "DCGauge[\"Discharge_af\"] = DCGauge.apply( lambda row: ConvCFStoAFD( row[GAUGE_HDR] ), axis=1 )"
   ]
  },
  {
   "cell_type": "code",
   "execution_count": 42,
   "metadata": {},
   "outputs": [
    {
     "data": {
      "text/html": [
       "<table border=\"1\" class=\"dataframe\">\n",
       "  <thead>\n",
       "    <tr style=\"text-align: right;\">\n",
       "      <th></th>\n",
       "      <th>HRU_1</th>\n",
       "      <th>HRU_2</th>\n",
       "      <th>HRU_3</th>\n",
       "      <th>HRU_4</th>\n",
       "      <th>HRU_5</th>\n",
       "      <th>HRU_6</th>\n",
       "      <th>HRU_7</th>\n",
       "      <th>HRU_8</th>\n",
       "      <th>HRU_9</th>\n",
       "      <th>HRU_10</th>\n",
       "      <th>HRU_11</th>\n",
       "      <th>HRU_12</th>\n",
       "      <th>R001</th>\n",
       "      <th>R002</th>\n",
       "      <th>R003</th>\n",
       "      <th>R004</th>\n",
       "      <th>R005</th>\n",
       "    </tr>\n",
       "  </thead>\n",
       "  <tbody>\n",
       "    <tr>\n",
       "      <th>count</th>\n",
       "      <td>2070.000000</td>\n",
       "      <td>2070.000000</td>\n",
       "      <td>2070.000000</td>\n",
       "      <td>2070.000000</td>\n",
       "      <td>2070.000000</td>\n",
       "      <td>2070.000000</td>\n",
       "      <td>2070.000000</td>\n",
       "      <td>2070.000000</td>\n",
       "      <td>2070.000000</td>\n",
       "      <td>2070.000000</td>\n",
       "      <td>2070.000000</td>\n",
       "      <td>2070.000000</td>\n",
       "      <td>2070.000000</td>\n",
       "      <td>2070.000000</td>\n",
       "      <td>2070.000000</td>\n",
       "      <td>2070.000000</td>\n",
       "      <td>2070.000000</td>\n",
       "    </tr>\n",
       "    <tr>\n",
       "      <th>mean</th>\n",
       "      <td>0.987131</td>\n",
       "      <td>0.511056</td>\n",
       "      <td>0.359701</td>\n",
       "      <td>2.216243</td>\n",
       "      <td>2.381332</td>\n",
       "      <td>1.380121</td>\n",
       "      <td>0.399130</td>\n",
       "      <td>0.295453</td>\n",
       "      <td>2.647879</td>\n",
       "      <td>0.861283</td>\n",
       "      <td>0.839033</td>\n",
       "      <td>0.947099</td>\n",
       "      <td>0.773477</td>\n",
       "      <td>3.060998</td>\n",
       "      <td>3.174857</td>\n",
       "      <td>3.046427</td>\n",
       "      <td>27.776344</td>\n",
       "    </tr>\n",
       "    <tr>\n",
       "      <th>std</th>\n",
       "      <td>2.927343</td>\n",
       "      <td>1.732042</td>\n",
       "      <td>1.360627</td>\n",
       "      <td>22.254665</td>\n",
       "      <td>21.946421</td>\n",
       "      <td>14.103422</td>\n",
       "      <td>5.294065</td>\n",
       "      <td>2.239650</td>\n",
       "      <td>21.220089</td>\n",
       "      <td>8.038447</td>\n",
       "      <td>8.391629</td>\n",
       "      <td>9.136118</td>\n",
       "      <td>0.454525</td>\n",
       "      <td>3.847888</td>\n",
       "      <td>5.858648</td>\n",
       "      <td>6.421374</td>\n",
       "      <td>7.329438</td>\n",
       "    </tr>\n",
       "    <tr>\n",
       "      <th>min</th>\n",
       "      <td>0.002636</td>\n",
       "      <td>0.000735</td>\n",
       "      <td>0.000000</td>\n",
       "      <td>0.000211</td>\n",
       "      <td>0.000077</td>\n",
       "      <td>0.000085</td>\n",
       "      <td>0.000000</td>\n",
       "      <td>0.000078</td>\n",
       "      <td>0.000246</td>\n",
       "      <td>0.000000</td>\n",
       "      <td>0.000027</td>\n",
       "      <td>0.000037</td>\n",
       "      <td>0.113708</td>\n",
       "      <td>0.111180</td>\n",
       "      <td>0.250086</td>\n",
       "      <td>0.085233</td>\n",
       "      <td>2.066755</td>\n",
       "    </tr>\n",
       "    <tr>\n",
       "      <th>25%</th>\n",
       "      <td>0.049242</td>\n",
       "      <td>0.010888</td>\n",
       "      <td>0.004607</td>\n",
       "      <td>0.021609</td>\n",
       "      <td>0.019511</td>\n",
       "      <td>0.013043</td>\n",
       "      <td>0.000000</td>\n",
       "      <td>0.002207</td>\n",
       "      <td>0.033837</td>\n",
       "      <td>0.003626</td>\n",
       "      <td>0.008153</td>\n",
       "      <td>0.011694</td>\n",
       "      <td>0.427318</td>\n",
       "      <td>1.161699</td>\n",
       "      <td>0.977933</td>\n",
       "      <td>0.968954</td>\n",
       "      <td>25.174642</td>\n",
       "    </tr>\n",
       "    <tr>\n",
       "      <th>50%</th>\n",
       "      <td>0.159943</td>\n",
       "      <td>0.043635</td>\n",
       "      <td>0.022040</td>\n",
       "      <td>0.120986</td>\n",
       "      <td>0.128460</td>\n",
       "      <td>0.070518</td>\n",
       "      <td>0.000000</td>\n",
       "      <td>0.009330</td>\n",
       "      <td>0.158741</td>\n",
       "      <td>0.028575</td>\n",
       "      <td>0.053306</td>\n",
       "      <td>0.074167</td>\n",
       "      <td>0.719298</td>\n",
       "      <td>2.111840</td>\n",
       "      <td>1.811101</td>\n",
       "      <td>1.647581</td>\n",
       "      <td>26.628134</td>\n",
       "    </tr>\n",
       "    <tr>\n",
       "      <th>75%</th>\n",
       "      <td>0.636079</td>\n",
       "      <td>0.214050</td>\n",
       "      <td>0.115574</td>\n",
       "      <td>0.747571</td>\n",
       "      <td>0.916430</td>\n",
       "      <td>0.535931</td>\n",
       "      <td>0.002824</td>\n",
       "      <td>0.056962</td>\n",
       "      <td>0.942735</td>\n",
       "      <td>0.242494</td>\n",
       "      <td>0.359745</td>\n",
       "      <td>0.480226</td>\n",
       "      <td>0.993777</td>\n",
       "      <td>3.687922</td>\n",
       "      <td>3.686865</td>\n",
       "      <td>3.563899</td>\n",
       "      <td>28.085107</td>\n",
       "    </tr>\n",
       "    <tr>\n",
       "      <th>max</th>\n",
       "      <td>68.258163</td>\n",
       "      <td>28.876303</td>\n",
       "      <td>23.912462</td>\n",
       "      <td>670.762878</td>\n",
       "      <td>606.466614</td>\n",
       "      <td>423.130371</td>\n",
       "      <td>232.188965</td>\n",
       "      <td>65.948074</td>\n",
       "      <td>608.832520</td>\n",
       "      <td>203.106323</td>\n",
       "      <td>264.152863</td>\n",
       "      <td>322.077942</td>\n",
       "      <td>2.641761</td>\n",
       "      <td>41.118649</td>\n",
       "      <td>67.704224</td>\n",
       "      <td>81.193848</td>\n",
       "      <td>107.755783</td>\n",
       "    </tr>\n",
       "  </tbody>\n",
       "</table>"
      ],
      "text/plain": [
       "<IPython.core.display.HTML object>"
      ]
     },
     "metadata": {},
     "output_type": "display_data"
    }
   ],
   "source": [
    "display( HTML( RoDF.describe().to_html() ) )"
   ]
  },
  {
   "cell_type": "code",
   "execution_count": 43,
   "metadata": {},
   "outputs": [],
   "source": [
    "R005df = RR_Dict[ROut]"
   ]
  },
  {
   "cell_type": "code",
   "execution_count": 44,
   "metadata": {},
   "outputs": [
    {
     "data": {
      "text/plain": [
       "2070"
      ]
     },
     "execution_count": 44,
     "metadata": {},
     "output_type": "execute_result"
    }
   ],
   "source": [
    "lenBF = len( R005df )\n",
    "lenBF"
   ]
  },
  {
   "cell_type": "code",
   "execution_count": 45,
   "metadata": {},
   "outputs": [
    {
     "data": {
      "text/plain": [
       "list"
      ]
     },
     "execution_count": 45,
     "metadata": {},
     "output_type": "execute_result"
    }
   ],
   "source": [
    "DTTimeList = list( R005df.index.to_pydatetime() )\n",
    "type(DTTimeList)"
   ]
  },
  {
   "cell_type": "code",
   "execution_count": 46,
   "metadata": {},
   "outputs": [
    {
     "data": {
      "text/plain": [
       "[datetime.datetime(2018, 9, 1, 0, 0),\n",
       " datetime.datetime(2018, 8, 31, 0, 0),\n",
       " datetime.datetime(2018, 8, 30, 0, 0),\n",
       " datetime.datetime(2018, 8, 29, 0, 0),\n",
       " datetime.datetime(2018, 8, 28, 0, 0)]"
      ]
     },
     "execution_count": 46,
     "metadata": {},
     "output_type": "execute_result"
    }
   ],
   "source": [
    "BackDTList = deepcopy( DTTimeList )\n",
    "BackDTList = BackDTList[::-1]\n",
    "BackDTList[:5]"
   ]
  },
  {
   "cell_type": "code",
   "execution_count": 47,
   "metadata": {},
   "outputs": [
    {
     "data": {
      "text/plain": [
       "[24.049719, 23.999933, 23.951307, 23.903896, 23.857756]"
      ]
     },
     "execution_count": 47,
     "metadata": {},
     "output_type": "execute_result"
    }
   ],
   "source": [
    "ZeroVals = [ 0.0 for x in range( lenBF ) ]\n",
    "DSVals = list( R005df[\"Spring_af\"].to_numpy() )\n",
    "DSVals = DSVals[::-1]\n",
    "DSVals[:5]"
   ]
  },
  {
   "cell_type": "code",
   "execution_count": 48,
   "metadata": {},
   "outputs": [],
   "source": [
    "ValsList = deepcopy( ZeroVals )\n",
    "ValsList.extend( DSVals )\n",
    "DTTimeList.extend( BackDTList )"
   ]
  },
  {
   "cell_type": "code",
   "execution_count": 49,
   "metadata": {},
   "outputs": [],
   "source": [
    "disTicks = [ 5.0, 10.0, 50.0, 100.0, 500.0, 1000.0, 2000.0 ]"
   ]
  },
  {
   "cell_type": "code",
   "execution_count": 50,
   "metadata": {},
   "outputs": [],
   "source": [
    "CStart_DT = Start_DT\n",
    "CEnd_DT = End_DT"
   ]
  },
  {
   "cell_type": "code",
   "execution_count": 51,
   "metadata": {
    "scrolled": true
   },
   "outputs": [
    {
     "data": {
      "image/png": "[encoded data removed]",
      "text/plain": [
       "<Figure size 720x504 with 1 Axes>"
      ]
     },
     "metadata": {
      "needs_background": "light"
     },
     "output_type": "display_data"
    }
   ],
   "source": [
    "Fig1 = plt.figure()\n",
    "Fig1.set_size_inches(10.0, 7.0)\n",
    "ax11 = Fig1.add_subplot(111)\n",
    "sfF = ax11.fill( DTTimeList, ValsList, color='xkcd:pale orange', alpha=0.5, \n",
    "                 label=\"HSPF Reach #5 Specified External Inflow Timeseries (Dolan Springs Discharge)\")\n",
    "#Rc5, = ax11.plot( RoDF.index, RoDF['R004'], color='xkcd:burnt orange', linewidth=1,\n",
    "#                  label=\"R004 Outflow\" )\n",
    "mx1, = ax11.plot( RoDF.index, RoDF['HRU_1'], color='xkcd:forest green', linewidth=1,\n",
    "                  label=\"HRU_1 RO\" )\n",
    "mx2, = ax11.plot( RoDF.index, RoDF['HRU_2'], color='xkcd:purple', linewidth=1,\n",
    "                  label=\"HRU_2 RO\" )\n",
    "mx3, = ax11.plot( RoDF.index, RoDF['HRU_3'], color='xkcd:yellow green', linewidth=1,\n",
    "                  label=\"HRU_3 RO\" )\n",
    "mx7, = ax11.plot( RoDF.index, RoDF['HRU_7'], color='xkcd:light magenta', linewidth=1,\n",
    "                  label=\"HRU_7 RO\" )\n",
    "Rc5, = ax11.plot( RoDF.index, RoDF[ROut], color='xkcd:ocean blue', linewidth=2,\n",
    "                  label=\"R005 Outflow\" )\n",
    "Dcg, = ax11.plot( DCGauge.index, DCGauge[\"Discharge_af\"], color='xkcd:grey', linewidth=2,\n",
    "                  label=\"Gauge\", alpha=0.6 )\n",
    "ax11.legend(loc='upper left')\n",
    "ax11.set_yscale('log')\n",
    "ax11.grid(b=True, which=\"both\", axis='y')\n",
    "ax11.set_ylim( ( 5.0, 2000.0))\n",
    "ax11.set_xlim( (CStart_DT, CEnd_DT))\n",
    "ax11.set_yticks( disTicks )\n",
    "ax11.set_ylabel('Discharge (afd)', fontsize=12)\n",
    "ax11.tick_params(axis='both', which='major', labelsize=11)\n",
    "ax11.tick_params(axis='x', which='major', labelrotation=30.0)\n",
    "ax11.xaxis.set_major_formatter( mpl.dates.DateFormatter(\"%m/%d/%Y\") )\n",
    "ax11.yaxis.set_major_formatter( mpl.ticker.StrMethodFormatter( \"{x:,.1f}\" ) )"
   ]
  },
  {
   "cell_type": "code",
   "execution_count": 52,
   "metadata": {},
   "outputs": [],
   "source": [
    "from IPython.display import display, HTML, Image"
   ]
  },
  {
   "cell_type": "code",
   "execution_count": 53,
   "metadata": {
    "scrolled": true
   },
   "outputs": [
    {
     "data": {
      "image/png": "[encoded data removed]",
      "text/plain": [
       "<IPython.core.display.Image object>"
      ]
     },
     "execution_count": 53,
     "metadata": {
      "image/png": {
       "width": 700
      }
     },
     "output_type": "execute_result"
    }
   ],
   "source": [
    "Image(filename=r'C:\\Working\\Test_Models\\wg_mHSP2_Test\\original_calib.PNG', width=700)"
   ]
  },
  {
   "cell_type": "code",
   "execution_count": null,
   "metadata": {},
   "outputs": [],
   "source": []
  }
 ],
 "metadata": {
  "kernelspec": {
   "display_name": "Python 3",
   "language": "python",
   "name": "python3"
  },
  "language_info": {
   "codemirror_mode": {
    "name": "ipython",
    "version": 3
   },
   "file_extension": ".py",
   "mimetype": "text/x-python",
   "name": "python",
   "nbconvert_exporter": "python",
   "pygments_lexer": "ipython3",
   "version": "3.7.5"
  }
 },
 "nbformat": 4,
 "nbformat_minor": 4
}
