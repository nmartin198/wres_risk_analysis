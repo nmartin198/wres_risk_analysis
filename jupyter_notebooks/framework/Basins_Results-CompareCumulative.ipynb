{
 "cells": [
  {
   "cell_type": "markdown",
   "metadata": {},
   "source": [
    "# mHSP2 Basins: Compare Cumulative Results"
   ]
  },
  {
   "cell_type": "markdown",
   "metadata": {},
   "source": [
    "Compare cumulative water availability results between the two scenarios.\n",
    "\n",
    "1. Historical Conditions\n",
    "2. Development Scenario\n"
   ]
  },
  {
   "cell_type": "markdown",
   "metadata": {},
   "source": [
    "## Imports and Parameters"
   ]
  },
  {
   "cell_type": "code",
   "execution_count": 1,
   "metadata": {},
   "outputs": [],
   "source": [
    "%matplotlib inline"
   ]
  },
  {
   "cell_type": "code",
   "execution_count": 2,
   "metadata": {},
   "outputs": [],
   "source": [
    "from IPython.display import display, HTML\n",
    "import numpy as np\n",
    "import pandas as pd\n",
    "import datetime as dt\n",
    "import matplotlib as mpl\n",
    "import matplotlib.pyplot as plt\n",
    "import os\n",
    "import pickle\n",
    "import seaborn as sns\n",
    "from copy import deepcopy"
   ]
  },
  {
   "cell_type": "code",
   "execution_count": 3,
   "metadata": {},
   "outputs": [],
   "source": [
    "# to run if font not found\n",
    "#import matplotlib.font_manager\n",
    "#matplotlib.font_manager.findSystemFonts(fontpaths=None, fontext='ttf')"
   ]
  },
  {
   "cell_type": "code",
   "execution_count": 4,
   "metadata": {},
   "outputs": [],
   "source": [
    "# changes so Source Sans Pro used in plots and so fonts are not embedded as paths\n",
    "plt.rcParams['svg.fonttype'] = 'none'\n",
    "plt.rcParams['font.family'] = 'sans-serif'\n",
    "plt.rcParams['font.sans-serif'] = 'SourceSansPro-Regular'"
   ]
  },
  {
   "cell_type": "code",
   "execution_count": 5,
   "metadata": {},
   "outputs": [],
   "source": [
    "IN_DIR = r'C:\\Users\\nmart\\OneDrive\\CC_IRD\\Process_Results'\n",
    "SIM1_ROOT = \"DCmH_WBTot_\"\n",
    "SIM2_ROOT = \"DCmHBas_WBTot_\"\n",
    "XLH0_ROOT = \"Cum_H0_%s_ProcessMonthly_Stats.xlsx\"\n",
    "XLH1_ROOT = \"Cum_H1_%s_ProcessMonthly_Stats.xlsx\""
   ]
  },
  {
   "cell_type": "code",
   "execution_count": 6,
   "metadata": {},
   "outputs": [],
   "source": [
    "OUT_DIR = r'C:\\Users\\nmart\\Documents\\CC_Plots'"
   ]
  },
  {
   "cell_type": "code",
   "execution_count": 7,
   "metadata": {},
   "outputs": [],
   "source": [
    "MultAFtoM3 = 1233.48"
   ]
  },
  {
   "cell_type": "code",
   "execution_count": 8,
   "metadata": {},
   "outputs": [],
   "source": [
    "ConvAFtoM3 = lambda af: af * MultAFtoM3"
   ]
  },
  {
   "cell_type": "code",
   "execution_count": 9,
   "metadata": {},
   "outputs": [],
   "source": [
    "# time periods\n",
    "TP_DICT = { 1 : [ dt.datetime(1981, 1, 1), dt.datetime(2010, 12, 31)],\n",
    "            2 : [ dt.datetime(2011, 1, 1), dt.datetime(2040, 12, 31)],\n",
    "            3 : [ dt.datetime(2041, 1, 1), dt.datetime(2070, 12, 31)],\n",
    "            4 : [ dt.datetime(2071, 1, 1), dt.datetime(2100, 12, 31)],}"
   ]
  },
  {
   "cell_type": "code",
   "execution_count": 10,
   "metadata": {},
   "outputs": [
    {
     "data": {
      "text/plain": [
       "101"
      ]
     },
     "execution_count": 10,
     "metadata": {},
     "output_type": "execute_result"
    }
   ],
   "source": [
    "OurQs = np.array( [ round( 0.01 * x, 2 ) for x in range(101) ], dtype=np.float32 )\n",
    "NumQs = len( OurQs )\n",
    "NumQs"
   ]
  },
  {
   "cell_type": "code",
   "execution_count": 11,
   "metadata": {},
   "outputs": [],
   "source": [
    "StatsHdsList = list()\n",
    "for iI in range(NumQs):\n",
    "    cQ = OurQs[iI]\n",
    "    Hdr = \"%d_ptile\" % round(cQ * 100.0)\n",
    "    StatsHdsList.append( Hdr )\n",
    "# end of for\n",
    "StatsHdsList.append( \"Average\" )\n",
    "StatsHdsList.append( \"Variance\" )\n",
    "StatsHdsList.append( \"Skew\" )\n",
    "StatsHdsList.append( \"Kurt\" )"
   ]
  },
  {
   "cell_type": "code",
   "execution_count": 12,
   "metadata": {},
   "outputs": [
    {
     "data": {
      "text/plain": [
       "105"
      ]
     },
     "execution_count": 12,
     "metadata": {},
     "output_type": "execute_result"
    }
   ],
   "source": [
    "NumHdrs = len( StatsHdsList )\n",
    "NumHdrs"
   ]
  },
  {
   "cell_type": "code",
   "execution_count": 13,
   "metadata": {},
   "outputs": [],
   "source": [
    "RdHds = deepcopy( StatsHdsList )\n",
    "RdHds.insert( 0, \"Date\" )"
   ]
  },
  {
   "cell_type": "markdown",
   "metadata": {},
   "source": [
    "## Load from Spreadsheets"
   ]
  },
  {
   "cell_type": "markdown",
   "metadata": {},
   "source": [
    "### Runoff"
   ]
  },
  {
   "cell_type": "markdown",
   "metadata": {},
   "source": [
    "Climate change only scenario"
   ]
  },
  {
   "cell_type": "code",
   "execution_count": 14,
   "metadata": {},
   "outputs": [],
   "source": [
    "InFile1 = os.path.normpath( os.path.join( IN_DIR, XLH1_ROOT % SIM1_ROOT ) )\n",
    "CCROStats1 = pd.read_excel( InFile1, sheet_name=\"RO_1\", header=0, names=RdHds, index_col=0,\n",
    "                             parse_dates=True )\n",
    "CCROStats1 = CCROStats1 * MultAFtoM3"
   ]
  },
  {
   "cell_type": "code",
   "execution_count": 15,
   "metadata": {},
   "outputs": [
    {
     "data": {
      "text/plain": [
       "(269544803.6320104, -74860.9864425659)"
      ]
     },
     "execution_count": 15,
     "metadata": {},
     "output_type": "execute_result"
    }
   ],
   "source": [
    "CCMaxRO1 = CCROStats1[StatsHdsList[100]].max()\n",
    "CCMinRO1 = CCROStats1[StatsHdsList[0]].min()\n",
    "CCMaxRO1, CCMinRO1"
   ]
  },
  {
   "cell_type": "code",
   "execution_count": 16,
   "metadata": {},
   "outputs": [],
   "source": [
    "CCROStats2 = pd.read_excel( InFile1, sheet_name=\"RO_2\", header=0, names=RdHds, index_col=0,\n",
    "                             parse_dates=True )\n",
    "CCROStats2 = CCROStats2 * MultAFtoM3"
   ]
  },
  {
   "cell_type": "code",
   "execution_count": 17,
   "metadata": {},
   "outputs": [
    {
     "data": {
      "text/plain": [
       "(421257144.0617109, -138043.4378485107)"
      ]
     },
     "execution_count": 17,
     "metadata": {},
     "output_type": "execute_result"
    }
   ],
   "source": [
    "CCMaxRO2 = CCROStats2[StatsHdsList[100]].max()\n",
    "CCMinRO2 = CCROStats2[StatsHdsList[0]].min()\n",
    "CCMaxRO2, CCMinRO2"
   ]
  },
  {
   "cell_type": "code",
   "execution_count": 18,
   "metadata": {},
   "outputs": [],
   "source": [
    "CCROStats3 = pd.read_excel( InFile1, sheet_name=\"RO_3\", header=0, names=RdHds, index_col=0,\n",
    "                             parse_dates=True )\n",
    "CCROStats3 = CCROStats3 * MultAFtoM3"
   ]
  },
  {
   "cell_type": "code",
   "execution_count": 19,
   "metadata": {},
   "outputs": [
    {
     "data": {
      "text/plain": [
       "(396092867.58980286, -144149.9929316711)"
      ]
     },
     "execution_count": 19,
     "metadata": {},
     "output_type": "execute_result"
    }
   ],
   "source": [
    "CCMaxRO3 = CCROStats3[StatsHdsList[100]].max()\n",
    "CCMinRO3 = CCROStats3[StatsHdsList[0]].min()\n",
    "CCMaxRO3, CCMinRO3"
   ]
  },
  {
   "cell_type": "code",
   "execution_count": 20,
   "metadata": {},
   "outputs": [],
   "source": [
    "CCROStats4 = pd.read_excel( InFile1, sheet_name=\"RO_4\", header=0, names=RdHds, index_col=0,\n",
    "                             parse_dates=True )\n",
    "CCROStats4 = CCROStats4 * MultAFtoM3"
   ]
  },
  {
   "cell_type": "code",
   "execution_count": 21,
   "metadata": {},
   "outputs": [
    {
     "data": {
      "text/plain": [
       "(450271272.9272284, -161520.98847976688)"
      ]
     },
     "execution_count": 21,
     "metadata": {},
     "output_type": "execute_result"
    }
   ],
   "source": [
    "CCMaxRO4 = CCROStats4[StatsHdsList[100]].max()\n",
    "CCMinRO4 = CCROStats4[StatsHdsList[0]].min()\n",
    "CCMaxRO4, CCMinRO4"
   ]
  },
  {
   "cell_type": "code",
   "execution_count": 22,
   "metadata": {},
   "outputs": [
    {
     "data": {
      "text/plain": [
       "(450271272.9272284, -161520.98847976688)"
      ]
     },
     "execution_count": 22,
     "metadata": {},
     "output_type": "execute_result"
    }
   ],
   "source": [
    "CCMaxRO = max( CCMaxRO1, CCMaxRO2, CCMaxRO3, CCMaxRO4 )\n",
    "CCMinRO = min( CCMinRO1, CCMinRO2, CCMinRO3, CCMinRO4 )\n",
    "CCMaxRO, CCMinRO"
   ]
  },
  {
   "cell_type": "markdown",
   "metadata": {},
   "source": [
    "Combine into one time series"
   ]
  },
  {
   "cell_type": "code",
   "execution_count": 23,
   "metadata": {},
   "outputs": [
    {
     "data": {
      "text/plain": [
       "(360, 360, 360, 360)"
      ]
     },
     "execution_count": 23,
     "metadata": {},
     "output_type": "execute_result"
    }
   ],
   "source": [
    "NumD1 = len( CCROStats1 )\n",
    "NumP1 = len( CCROStats2 )\n",
    "NumP2 = len( CCROStats3 )\n",
    "NumP3 = len( CCROStats4 )\n",
    "NumD1, NumP1, NumP2, NumP3"
   ]
  },
  {
   "cell_type": "code",
   "execution_count": 24,
   "metadata": {},
   "outputs": [
    {
     "data": {
      "text/plain": [
       "(Timestamp('2010-12-01 00:00:00'),\n",
       " Timestamp('2040-12-01 00:00:00'),\n",
       " Timestamp('2070-12-01 00:00:00'),\n",
       " Timestamp('2100-12-01 00:00:00'))"
      ]
     },
     "execution_count": 24,
     "metadata": {},
     "output_type": "execute_result"
    }
   ],
   "source": [
    "IndexD1 = CCROStats1.index[NumD1-1]\n",
    "IndexP1 = CCROStats2.index[NumP1-1]\n",
    "IndexP2 = CCROStats3.index[NumP2-1]\n",
    "IndexP3 = CCROStats4.index[NumP3-1]\n",
    "IndexD1, IndexP1, IndexP2, IndexP3"
   ]
  },
  {
   "cell_type": "markdown",
   "metadata": {},
   "source": [
    "Mean"
   ]
  },
  {
   "cell_type": "code",
   "execution_count": 25,
   "metadata": {},
   "outputs": [
    {
     "data": {
      "text/plain": [
       "(92898584.91057797, 226443844.1170984, 371248553.845546, 527990291.95502865)"
      ]
     },
     "execution_count": 25,
     "metadata": {},
     "output_type": "execute_result"
    }
   ],
   "source": [
    "CCROD1AveTot = CCROStats1.at[IndexD1, StatsHdsList[101]]\n",
    "CCROP1AveTot = CCROStats2.at[IndexP1, StatsHdsList[101]] + CCROD1AveTot\n",
    "CCROP2AveTot = CCROStats3.at[IndexP2, StatsHdsList[101]] + CCROP1AveTot\n",
    "CCROP3AveTot = CCROStats4.at[IndexP3, StatsHdsList[101]] + CCROP2AveTot\n",
    "CCROD1AveTot, CCROP1AveTot, CCROP2AveTot, CCROP3AveTot "
   ]
  },
  {
   "cell_type": "code",
   "execution_count": 26,
   "metadata": {},
   "outputs": [
    {
     "data": {
      "text/plain": [
       "1440"
      ]
     },
     "execution_count": 26,
     "metadata": {},
     "output_type": "execute_result"
    }
   ],
   "source": [
    "CCROAllAve = CCROStats1[[StatsHdsList[101]]].to_numpy()\n",
    "CCROAllAve = np.append( CCROAllAve, \n",
    "                         CCROStats2[[StatsHdsList[101]]].to_numpy() + CCROD1AveTot )\n",
    "CCROAllAve = np.append( CCROAllAve, \n",
    "                         CCROStats3[[StatsHdsList[101]]].to_numpy() + CCROP1AveTot )\n",
    "CCROAllAve = np.append( CCROAllAve, \n",
    "                        CCROStats4[[StatsHdsList[101]]].to_numpy() + CCROP2AveTot )\n",
    "len( CCROAllAve )"
   ]
  },
  {
   "cell_type": "markdown",
   "metadata": {},
   "source": [
    "Median"
   ]
  },
  {
   "cell_type": "code",
   "execution_count": 27,
   "metadata": {},
   "outputs": [
    {
     "data": {
      "text/plain": [
       "(88981100.5098372, 216747237.27694494, 355532398.0508628, 506359539.0828929)"
      ]
     },
     "execution_count": 27,
     "metadata": {},
     "output_type": "execute_result"
    }
   ],
   "source": [
    "CCROD1MedTot = CCROStats1.at[IndexD1, StatsHdsList[50]]\n",
    "CCROP1MedTot = CCROStats2.at[IndexP1, StatsHdsList[50]] + CCROD1MedTot\n",
    "CCROP2MedTot = CCROStats3.at[IndexP2, StatsHdsList[50]] + CCROP1MedTot\n",
    "CCROP3MedTot = CCROStats4.at[IndexP3, StatsHdsList[50]] + CCROP2MedTot\n",
    "CCROD1MedTot, CCROP1MedTot, CCROP2MedTot, CCROP3MedTot "
   ]
  },
  {
   "cell_type": "code",
   "execution_count": 28,
   "metadata": {},
   "outputs": [
    {
     "data": {
      "text/plain": [
       "1440"
      ]
     },
     "execution_count": 28,
     "metadata": {},
     "output_type": "execute_result"
    }
   ],
   "source": [
    "CCROAllMed = CCROStats1[[StatsHdsList[50]]].to_numpy()\n",
    "CCROAllMed = np.append( CCROAllMed, \n",
    "                         CCROStats2[[StatsHdsList[50]]].to_numpy() + CCROD1MedTot )\n",
    "CCROAllMed = np.append( CCROAllMed, \n",
    "                         CCROStats3[[StatsHdsList[50]]].to_numpy() + CCROP1MedTot )\n",
    "CCROAllMed = np.append( CCROAllMed, \n",
    "                        CCROStats4[[StatsHdsList[50]]].to_numpy() + CCROP2MedTot )\n",
    "len( CCROAllMed )"
   ]
  },
  {
   "cell_type": "markdown",
   "metadata": {},
   "source": [
    "25th percentile"
   ]
  },
  {
   "cell_type": "code",
   "execution_count": 29,
   "metadata": {},
   "outputs": [
    {
     "data": {
      "text/plain": [
       "(69073780.90428732, 166151139.59898704, 273883148.22589743, 391100387.6410928)"
      ]
     },
     "execution_count": 29,
     "metadata": {},
     "output_type": "execute_result"
    }
   ],
   "source": [
    "CCROD1_25Tot = CCROStats1.at[IndexD1, StatsHdsList[25]]\n",
    "CCROP1_25Tot = CCROStats2.at[IndexP1, StatsHdsList[25]] + CCROD1_25Tot\n",
    "CCROP2_25Tot = CCROStats3.at[IndexP2, StatsHdsList[25]] + CCROP1_25Tot\n",
    "CCROP3_25Tot = CCROStats4.at[IndexP3, StatsHdsList[25]] + CCROP2_25Tot\n",
    "CCROD1_25Tot, CCROP1_25Tot, CCROP2_25Tot, CCROP3_25Tot "
   ]
  },
  {
   "cell_type": "code",
   "execution_count": 30,
   "metadata": {},
   "outputs": [
    {
     "data": {
      "text/plain": [
       "1440"
      ]
     },
     "execution_count": 30,
     "metadata": {},
     "output_type": "execute_result"
    }
   ],
   "source": [
    "CCROAll_25 = CCROStats1[[StatsHdsList[25]]].to_numpy()\n",
    "CCROAll_25 = np.append( CCROAll_25, \n",
    "                         CCROStats2[[StatsHdsList[25]]].to_numpy() + CCROD1_25Tot )\n",
    "CCROAll_25 = np.append( CCROAll_25, \n",
    "                         CCROStats3[[StatsHdsList[25]]].to_numpy() + CCROP1_25Tot )\n",
    "CCROAll_25 = np.append( CCROAll_25, \n",
    "                        CCROStats4[[StatsHdsList[25]]].to_numpy() + CCROP2_25Tot )\n",
    "len( CCROAll_25 )"
   ]
  },
  {
   "cell_type": "markdown",
   "metadata": {},
   "source": [
    "75th percentile"
   ]
  },
  {
   "cell_type": "code",
   "execution_count": 31,
   "metadata": {},
   "outputs": [
    {
     "data": {
      "text/plain": [
       "(112440820.20436867, 275572529.258894, 451592392.7807518, 641700109.7036386)"
      ]
     },
     "execution_count": 31,
     "metadata": {},
     "output_type": "execute_result"
    }
   ],
   "source": [
    "CCROD1_75Tot = CCROStats1.at[IndexD1, StatsHdsList[75]]\n",
    "CCROP1_75Tot = CCROStats2.at[IndexP1, StatsHdsList[75]] + CCROD1_75Tot\n",
    "CCROP2_75Tot = CCROStats3.at[IndexP2, StatsHdsList[75]] + CCROP1_75Tot\n",
    "CCROP3_75Tot = CCROStats4.at[IndexP3, StatsHdsList[75]] + CCROP2_75Tot\n",
    "CCROD1_75Tot, CCROP1_75Tot, CCROP2_75Tot, CCROP3_75Tot "
   ]
  },
  {
   "cell_type": "code",
   "execution_count": 32,
   "metadata": {},
   "outputs": [
    {
     "data": {
      "text/plain": [
       "1440"
      ]
     },
     "execution_count": 32,
     "metadata": {},
     "output_type": "execute_result"
    }
   ],
   "source": [
    "CCROAll_75 = CCROStats1[[StatsHdsList[75]]].to_numpy()\n",
    "CCROAll_75 = np.append( CCROAll_75, \n",
    "                         CCROStats2[[StatsHdsList[75]]].to_numpy() + CCROD1_75Tot )\n",
    "CCROAll_75 = np.append( CCROAll_75, \n",
    "                         CCROStats3[[StatsHdsList[75]]].to_numpy() + CCROP1_75Tot )\n",
    "CCROAll_75 = np.append( CCROAll_75, \n",
    "                        CCROStats4[[StatsHdsList[75]]].to_numpy() + CCROP2_75Tot )\n",
    "len( CCROAll_75 )"
   ]
  },
  {
   "cell_type": "markdown",
   "metadata": {},
   "source": [
    "5th percentile"
   ]
  },
  {
   "cell_type": "code",
   "execution_count": 33,
   "metadata": {},
   "outputs": [
    {
     "data": {
      "text/plain": [
       "(45577139.76960605, 108372589.62346193, 178804528.06313258, 255663692.9763816)"
      ]
     },
     "execution_count": 33,
     "metadata": {},
     "output_type": "execute_result"
    }
   ],
   "source": [
    "CCROD1_05Tot = CCROStats1.at[IndexD1, StatsHdsList[5]]\n",
    "CCROP1_05Tot = CCROStats2.at[IndexP1, StatsHdsList[5]] + CCROD1_05Tot\n",
    "CCROP2_05Tot = CCROStats3.at[IndexP2, StatsHdsList[5]] + CCROP1_05Tot\n",
    "CCROP3_05Tot = CCROStats4.at[IndexP3, StatsHdsList[5]] + CCROP2_05Tot\n",
    "CCROD1_05Tot, CCROP1_05Tot, CCROP2_05Tot, CCROP3_05Tot "
   ]
  },
  {
   "cell_type": "code",
   "execution_count": 34,
   "metadata": {},
   "outputs": [
    {
     "data": {
      "text/plain": [
       "1440"
      ]
     },
     "execution_count": 34,
     "metadata": {},
     "output_type": "execute_result"
    }
   ],
   "source": [
    "CCROAll_05 = CCROStats1[[StatsHdsList[5]]].to_numpy()\n",
    "CCROAll_05 = np.append( CCROAll_05, \n",
    "                         CCROStats2[[StatsHdsList[5]]].to_numpy() + CCROD1_05Tot )\n",
    "CCROAll_05 = np.append( CCROAll_05, \n",
    "                         CCROStats3[[StatsHdsList[5]]].to_numpy() + CCROP1_05Tot )\n",
    "CCROAll_05 = np.append( CCROAll_05, \n",
    "                        CCROStats4[[StatsHdsList[5]]].to_numpy() + CCROP2_05Tot )\n",
    "len( CCROAll_05 )"
   ]
  },
  {
   "cell_type": "markdown",
   "metadata": {},
   "source": [
    "95th percentile"
   ]
  },
  {
   "cell_type": "code",
   "execution_count": 35,
   "metadata": {},
   "outputs": [
    {
     "data": {
      "text/plain": [
       "(152903638.78714526, 378044311.47311753, 618033075.0217937, 873310617.1947776)"
      ]
     },
     "execution_count": 35,
     "metadata": {},
     "output_type": "execute_result"
    }
   ],
   "source": [
    "CCROD1_95Tot = CCROStats1.at[IndexD1, StatsHdsList[95]]\n",
    "CCROP1_95Tot = CCROStats2.at[IndexP1, StatsHdsList[95]] + CCROD1_95Tot\n",
    "CCROP2_95Tot = CCROStats3.at[IndexP2, StatsHdsList[95]] + CCROP1_95Tot\n",
    "CCROP3_95Tot = CCROStats4.at[IndexP3, StatsHdsList[95]] + CCROP2_95Tot\n",
    "CCROD1_95Tot, CCROP1_95Tot, CCROP2_95Tot, CCROP3_95Tot "
   ]
  },
  {
   "cell_type": "code",
   "execution_count": 36,
   "metadata": {},
   "outputs": [
    {
     "data": {
      "text/plain": [
       "1440"
      ]
     },
     "execution_count": 36,
     "metadata": {},
     "output_type": "execute_result"
    }
   ],
   "source": [
    "CCROAll_95 = CCROStats1[[StatsHdsList[95]]].to_numpy()\n",
    "CCROAll_95 = np.append( CCROAll_95, \n",
    "                         CCROStats2[[StatsHdsList[95]]].to_numpy() + CCROD1_95Tot )\n",
    "CCROAll_95 = np.append( CCROAll_95, \n",
    "                         CCROStats3[[StatsHdsList[95]]].to_numpy() + CCROP1_95Tot )\n",
    "CCROAll_95 = np.append( CCROAll_95, \n",
    "                        CCROStats4[[StatsHdsList[95]]].to_numpy() + CCROP2_95Tot )\n",
    "len( CCROAll_95 )"
   ]
  },
  {
   "cell_type": "markdown",
   "metadata": {},
   "source": [
    "Basin change and climate change"
   ]
  },
  {
   "cell_type": "code",
   "execution_count": 37,
   "metadata": {},
   "outputs": [],
   "source": [
    "InFile1 = os.path.normpath( os.path.join( IN_DIR, XLH1_ROOT % SIM2_ROOT ) )\n",
    "BAROStats1 = pd.read_excel( InFile1, sheet_name=\"RO_1\", header=0, names=RdHds, index_col=0,\n",
    "                             parse_dates=True )\n",
    "BAROStats1 = BAROStats1 * MultAFtoM3"
   ]
  },
  {
   "cell_type": "code",
   "execution_count": 38,
   "metadata": {},
   "outputs": [
    {
     "data": {
      "text/plain": [
       "(269544803.6320104, -74860.9864425659)"
      ]
     },
     "execution_count": 38,
     "metadata": {},
     "output_type": "execute_result"
    }
   ],
   "source": [
    "BAMaxRO1 = BAROStats1[StatsHdsList[100]].max()\n",
    "BAMinRO1 = BAROStats1[StatsHdsList[0]].min()\n",
    "BAMaxRO1, BAMinRO1"
   ]
  },
  {
   "cell_type": "code",
   "execution_count": 39,
   "metadata": {},
   "outputs": [],
   "source": [
    "BAROStats2 = pd.read_excel( InFile1, sheet_name=\"RO_2\", header=0, names=RdHds, index_col=0,\n",
    "                             parse_dates=True )\n",
    "BAROStats2 = BAROStats2 * MultAFtoM3"
   ]
  },
  {
   "cell_type": "code",
   "execution_count": 40,
   "metadata": {},
   "outputs": [
    {
     "data": {
      "text/plain": [
       "(511511873.624688, -95387.48332145691)"
      ]
     },
     "execution_count": 40,
     "metadata": {},
     "output_type": "execute_result"
    }
   ],
   "source": [
    "BAMaxRO2 = BAROStats2[StatsHdsList[100]].max()\n",
    "BAMinRO2 = BAROStats2[StatsHdsList[0]].min()\n",
    "BAMaxRO2, BAMinRO2"
   ]
  },
  {
   "cell_type": "code",
   "execution_count": 41,
   "metadata": {},
   "outputs": [],
   "source": [
    "BAROStats3 = pd.read_excel( InFile1, sheet_name=\"RO_3\", header=0, names=RdHds, index_col=0,\n",
    "                             parse_dates=True )\n",
    "BAROStats3 = BAROStats3 * MultAFtoM3"
   ]
  },
  {
   "cell_type": "code",
   "execution_count": 42,
   "metadata": {},
   "outputs": [
    {
     "data": {
      "text/plain": [
       "(657782282.6009294, -37486.3387007904)"
      ]
     },
     "execution_count": 42,
     "metadata": {},
     "output_type": "execute_result"
    }
   ],
   "source": [
    "BAMaxRO3 = BAROStats3[StatsHdsList[100]].max()\n",
    "BAMinRO3 = BAROStats3[StatsHdsList[0]].min()\n",
    "BAMaxRO3, BAMinRO3"
   ]
  },
  {
   "cell_type": "code",
   "execution_count": 43,
   "metadata": {},
   "outputs": [],
   "source": [
    "BAROStats4 = pd.read_excel( InFile1, sheet_name=\"RO_4\", header=0, names=RdHds, index_col=0,\n",
    "                             parse_dates=True )\n",
    "BAROStats4 = BAROStats4 * MultAFtoM3"
   ]
  },
  {
   "cell_type": "code",
   "execution_count": 44,
   "metadata": {},
   "outputs": [
    {
     "data": {
      "text/plain": [
       "(922120068.2467369, 2038.234133834839)"
      ]
     },
     "execution_count": 44,
     "metadata": {},
     "output_type": "execute_result"
    }
   ],
   "source": [
    "BAMaxRO4 = BAROStats4[StatsHdsList[100]].max()\n",
    "BAMinRO4 = BAROStats4[StatsHdsList[0]].min()\n",
    "BAMaxRO4, BAMinRO4"
   ]
  },
  {
   "cell_type": "code",
   "execution_count": 45,
   "metadata": {},
   "outputs": [
    {
     "data": {
      "text/plain": [
       "(922120068.2467369, -95387.48332145691)"
      ]
     },
     "execution_count": 45,
     "metadata": {},
     "output_type": "execute_result"
    }
   ],
   "source": [
    "BAMaxRO = max( BAMaxRO1, BAMaxRO2, BAMaxRO3, BAMaxRO4 )\n",
    "BAMinRO = min( BAMinRO1, BAMinRO2, BAMinRO3, BAMinRO4 )\n",
    "BAMaxRO, BAMinRO"
   ]
  },
  {
   "cell_type": "markdown",
   "metadata": {},
   "source": [
    "Combine into one time series"
   ]
  },
  {
   "cell_type": "markdown",
   "metadata": {},
   "source": [
    "Mean"
   ]
  },
  {
   "cell_type": "code",
   "execution_count": 46,
   "metadata": {},
   "outputs": [
    {
     "data": {
      "text/plain": [
       "(92898584.91057797, 281459420.05896544, 601883157.4386872, 1095269067.827842)"
      ]
     },
     "execution_count": 46,
     "metadata": {},
     "output_type": "execute_result"
    }
   ],
   "source": [
    "BAROD1AveTot = BAROStats1.at[IndexD1, StatsHdsList[101]]\n",
    "BAROP1AveTot = BAROStats2.at[IndexP1, StatsHdsList[101]] + BAROD1AveTot\n",
    "BAROP2AveTot = BAROStats3.at[IndexP2, StatsHdsList[101]] + BAROP1AveTot\n",
    "BAROP3AveTot = BAROStats4.at[IndexP3, StatsHdsList[101]] + BAROP2AveTot\n",
    "BAROD1AveTot, BAROP1AveTot, BAROP2AveTot, BAROP3AveTot "
   ]
  },
  {
   "cell_type": "code",
   "execution_count": 47,
   "metadata": {},
   "outputs": [
    {
     "data": {
      "text/plain": [
       "1440"
      ]
     },
     "execution_count": 47,
     "metadata": {},
     "output_type": "execute_result"
    }
   ],
   "source": [
    "BAROAllAve = BAROStats1[[StatsHdsList[101]]].to_numpy()\n",
    "BAROAllAve = np.append( BAROAllAve, \n",
    "                         BAROStats2[[StatsHdsList[101]]].to_numpy() + BAROD1AveTot )\n",
    "BAROAllAve = np.append( BAROAllAve, \n",
    "                         BAROStats3[[StatsHdsList[101]]].to_numpy() + BAROP1AveTot )\n",
    "BAROAllAve = np.append( BAROAllAve, \n",
    "                        BAROStats4[[StatsHdsList[101]]].to_numpy() + BAROP2AveTot )\n",
    "len( BAROAllAve )"
   ]
  },
  {
   "cell_type": "markdown",
   "metadata": {},
   "source": [
    "Median"
   ]
  },
  {
   "cell_type": "code",
   "execution_count": 48,
   "metadata": {},
   "outputs": [
    {
     "data": {
      "text/plain": [
       "(88981100.5098372, 271348255.33560604, 585535930.9875293, 1073012276.6768527)"
      ]
     },
     "execution_count": 48,
     "metadata": {},
     "output_type": "execute_result"
    }
   ],
   "source": [
    "BAROD1MedTot = BAROStats1.at[IndexD1, StatsHdsList[50]]\n",
    "BAROP1MedTot = BAROStats2.at[IndexP1, StatsHdsList[50]] + BAROD1MedTot\n",
    "BAROP2MedTot = BAROStats3.at[IndexP2, StatsHdsList[50]] + BAROP1MedTot\n",
    "BAROP3MedTot = BAROStats4.at[IndexP3, StatsHdsList[50]] + BAROP2MedTot\n",
    "BAROD1MedTot, BAROP1MedTot, BAROP2MedTot, BAROP3MedTot "
   ]
  },
  {
   "cell_type": "code",
   "execution_count": 49,
   "metadata": {},
   "outputs": [
    {
     "data": {
      "text/plain": [
       "1440"
      ]
     },
     "execution_count": 49,
     "metadata": {},
     "output_type": "execute_result"
    }
   ],
   "source": [
    "BAROAllMed = BAROStats1[[StatsHdsList[50]]].to_numpy()\n",
    "BAROAllMed = np.append( BAROAllMed, \n",
    "                         BAROStats2[[StatsHdsList[50]]].to_numpy() + BAROD1MedTot )\n",
    "BAROAllMed = np.append( BAROAllMed, \n",
    "                         BAROStats3[[StatsHdsList[50]]].to_numpy() + BAROP1MedTot )\n",
    "BAROAllMed = np.append( BAROAllMed, \n",
    "                        BAROStats4[[StatsHdsList[50]]].to_numpy() + BAROP2MedTot )\n",
    "len( BAROAllMed )"
   ]
  },
  {
   "cell_type": "markdown",
   "metadata": {},
   "source": [
    "25th percentile"
   ]
  },
  {
   "cell_type": "code",
   "execution_count": 50,
   "metadata": {},
   "outputs": [
    {
     "data": {
      "text/plain": [
       "(69073780.90428732, 213304493.19953334, 478986034.25190616, 904502471.3403426)"
      ]
     },
     "execution_count": 50,
     "metadata": {},
     "output_type": "execute_result"
    }
   ],
   "source": [
    "BAROD1_25Tot = BAROStats1.at[IndexD1, StatsHdsList[25]]\n",
    "BAROP1_25Tot = BAROStats2.at[IndexP1, StatsHdsList[25]] + BAROD1_25Tot\n",
    "BAROP2_25Tot = BAROStats3.at[IndexP2, StatsHdsList[25]] + BAROP1_25Tot\n",
    "BAROP3_25Tot = BAROStats4.at[IndexP3, StatsHdsList[25]] + BAROP2_25Tot\n",
    "BAROD1_25Tot, BAROP1_25Tot, BAROP2_25Tot, BAROP3_25Tot "
   ]
  },
  {
   "cell_type": "code",
   "execution_count": 51,
   "metadata": {},
   "outputs": [
    {
     "data": {
      "text/plain": [
       "1440"
      ]
     },
     "execution_count": 51,
     "metadata": {},
     "output_type": "execute_result"
    }
   ],
   "source": [
    "BAROAll_25 = BAROStats1[[StatsHdsList[25]]].to_numpy()\n",
    "BAROAll_25 = np.append( BAROAll_25, \n",
    "                         BAROStats2[[StatsHdsList[25]]].to_numpy() + BAROD1_25Tot )\n",
    "BAROAll_25 = np.append( BAROAll_25, \n",
    "                         BAROStats3[[StatsHdsList[25]]].to_numpy() + BAROP1_25Tot )\n",
    "BAROAll_25 = np.append( BAROAll_25, \n",
    "                        BAROStats4[[StatsHdsList[25]]].to_numpy() + BAROP2_25Tot )\n",
    "len( BAROAll_25 )"
   ]
  },
  {
   "cell_type": "markdown",
   "metadata": {},
   "source": [
    "75th percentile"
   ]
  },
  {
   "cell_type": "code",
   "execution_count": 52,
   "metadata": {},
   "outputs": [
    {
     "data": {
      "text/plain": [
       "(112440820.20436867, 338090860.1220464, 707493455.5585384, 1262774770.0527616)"
      ]
     },
     "execution_count": 52,
     "metadata": {},
     "output_type": "execute_result"
    }
   ],
   "source": [
    "BAROD1_75Tot = BAROStats1.at[IndexD1, StatsHdsList[75]]\n",
    "BAROP1_75Tot = BAROStats2.at[IndexP1, StatsHdsList[75]] + BAROD1_75Tot\n",
    "BAROP2_75Tot = BAROStats3.at[IndexP2, StatsHdsList[75]] + BAROP1_75Tot\n",
    "BAROP3_75Tot = BAROStats4.at[IndexP3, StatsHdsList[75]] + BAROP2_75Tot\n",
    "BAROD1_75Tot, BAROP1_75Tot, BAROP2_75Tot, BAROP3_75Tot "
   ]
  },
  {
   "cell_type": "code",
   "execution_count": 53,
   "metadata": {},
   "outputs": [
    {
     "data": {
      "text/plain": [
       "1440"
      ]
     },
     "execution_count": 53,
     "metadata": {},
     "output_type": "execute_result"
    }
   ],
   "source": [
    "BAROAll_75 = BAROStats1[[StatsHdsList[75]]].to_numpy()\n",
    "BAROAll_75 = np.append( BAROAll_75, \n",
    "                         BAROStats2[[StatsHdsList[75]]].to_numpy() + BAROD1_75Tot )\n",
    "BAROAll_75 = np.append( BAROAll_75, \n",
    "                         BAROStats3[[StatsHdsList[75]]].to_numpy() + BAROP1_75Tot )\n",
    "BAROAll_75 = np.append( BAROAll_75, \n",
    "                        BAROStats4[[StatsHdsList[75]]].to_numpy() + BAROP2_75Tot )\n",
    "len( BAROAll_75 )"
   ]
  },
  {
   "cell_type": "markdown",
   "metadata": {},
   "source": [
    "5th percentile"
   ]
  },
  {
   "cell_type": "code",
   "execution_count": 54,
   "metadata": {},
   "outputs": [
    {
     "data": {
      "text/plain": [
       "(45577139.76960605, 144540165.59956962, 347360023.6169905, 695210616.6570514)"
      ]
     },
     "execution_count": 54,
     "metadata": {},
     "output_type": "execute_result"
    }
   ],
   "source": [
    "BAROD1_05Tot = BAROStats1.at[IndexD1, StatsHdsList[5]]\n",
    "BAROP1_05Tot = BAROStats2.at[IndexP1, StatsHdsList[5]] + BAROD1_05Tot\n",
    "BAROP2_05Tot = BAROStats3.at[IndexP2, StatsHdsList[5]] + BAROP1_05Tot\n",
    "BAROP3_05Tot = BAROStats4.at[IndexP3, StatsHdsList[5]] + BAROP2_05Tot\n",
    "BAROD1_05Tot, BAROP1_05Tot, BAROP2_05Tot, BAROP3_05Tot "
   ]
  },
  {
   "cell_type": "code",
   "execution_count": 55,
   "metadata": {},
   "outputs": [
    {
     "data": {
      "text/plain": [
       "1440"
      ]
     },
     "execution_count": 55,
     "metadata": {},
     "output_type": "execute_result"
    }
   ],
   "source": [
    "BAROAll_05 = BAROStats1[[StatsHdsList[5]]].to_numpy()\n",
    "BAROAll_05 = np.append( BAROAll_05, \n",
    "                         BAROStats2[[StatsHdsList[5]]].to_numpy() + BAROD1_05Tot )\n",
    "BAROAll_05 = np.append( BAROAll_05, \n",
    "                         BAROStats3[[StatsHdsList[5]]].to_numpy() + BAROP1_05Tot )\n",
    "BAROAll_05 = np.append( BAROAll_05, \n",
    "                        BAROStats4[[StatsHdsList[5]]].to_numpy() + BAROP2_05Tot )\n",
    "len( BAROAll_05 )"
   ]
  },
  {
   "cell_type": "markdown",
   "metadata": {},
   "source": [
    "95th percentile"
   ]
  },
  {
   "cell_type": "code",
   "execution_count": 56,
   "metadata": {},
   "outputs": [
    {
     "data": {
      "text/plain": [
       "(152903638.78714526, 453362690.77588385, 913234158.433955, 1574371848.7008853)"
      ]
     },
     "execution_count": 56,
     "metadata": {},
     "output_type": "execute_result"
    }
   ],
   "source": [
    "BAROD1_95Tot = BAROStats1.at[IndexD1, StatsHdsList[95]]\n",
    "BAROP1_95Tot = BAROStats2.at[IndexP1, StatsHdsList[95]] + BAROD1_95Tot\n",
    "BAROP2_95Tot = BAROStats3.at[IndexP2, StatsHdsList[95]] + BAROP1_95Tot\n",
    "BAROP3_95Tot = BAROStats4.at[IndexP3, StatsHdsList[95]] + BAROP2_95Tot\n",
    "BAROD1_95Tot, BAROP1_95Tot, BAROP2_95Tot, BAROP3_95Tot "
   ]
  },
  {
   "cell_type": "code",
   "execution_count": 57,
   "metadata": {},
   "outputs": [
    {
     "data": {
      "text/plain": [
       "1440"
      ]
     },
     "execution_count": 57,
     "metadata": {},
     "output_type": "execute_result"
    }
   ],
   "source": [
    "BAROAll_95 = BAROStats1[[StatsHdsList[95]]].to_numpy()\n",
    "BAROAll_95 = np.append( BAROAll_95, \n",
    "                         BAROStats2[[StatsHdsList[95]]].to_numpy() + BAROD1_95Tot )\n",
    "BAROAll_95 = np.append( BAROAll_95, \n",
    "                         BAROStats3[[StatsHdsList[95]]].to_numpy() + BAROP1_95Tot )\n",
    "BAROAll_95 = np.append( BAROAll_95, \n",
    "                        BAROStats4[[StatsHdsList[95]]].to_numpy() + BAROP2_95Tot )\n",
    "len( BAROAll_95 )"
   ]
  },
  {
   "cell_type": "markdown",
   "metadata": {},
   "source": [
    "### Recharge"
   ]
  },
  {
   "cell_type": "markdown",
   "metadata": {},
   "source": [
    "Climate change only scenario"
   ]
  },
  {
   "cell_type": "code",
   "execution_count": 58,
   "metadata": {},
   "outputs": [],
   "source": [
    "InFile1 = os.path.normpath( os.path.join( IN_DIR, XLH1_ROOT % SIM1_ROOT ) )\n",
    "CCREStats1 = pd.read_excel( InFile1, sheet_name=\"RE_1\", header=0, names=RdHds, index_col=0,\n",
    "                             parse_dates=True )\n",
    "CCREStats1 = CCREStats1 * MultAFtoM3"
   ]
  },
  {
   "cell_type": "code",
   "execution_count": 59,
   "metadata": {},
   "outputs": [
    {
     "data": {
      "text/plain": [
       "(2188244400.1441965, 26246.265175992656)"
      ]
     },
     "execution_count": 59,
     "metadata": {},
     "output_type": "execute_result"
    }
   ],
   "source": [
    "CCMaxRE1 = CCREStats1[StatsHdsList[100]].max()\n",
    "CCMinRE1 = CCREStats1[StatsHdsList[0]].min()\n",
    "CCMaxRE1, CCMinRE1"
   ]
  },
  {
   "cell_type": "code",
   "execution_count": 60,
   "metadata": {},
   "outputs": [],
   "source": [
    "CCREStats2 = pd.read_excel( InFile1, sheet_name=\"RE_2\", header=0, names=RdHds, index_col=0,\n",
    "                             parse_dates=True )\n",
    "CCREStats2 = CCREStats2 * MultAFtoM3"
   ]
  },
  {
   "cell_type": "code",
   "execution_count": 61,
   "metadata": {},
   "outputs": [
    {
     "data": {
      "text/plain": [
       "(2569825452.892242, 16000.60597513497)"
      ]
     },
     "execution_count": 61,
     "metadata": {},
     "output_type": "execute_result"
    }
   ],
   "source": [
    "CCMaxRE2 = CCREStats2[StatsHdsList[100]].max()\n",
    "CCMinRE2 = CCREStats2[StatsHdsList[0]].min()\n",
    "CCMaxRE2, CCMinRE2"
   ]
  },
  {
   "cell_type": "code",
   "execution_count": 62,
   "metadata": {},
   "outputs": [],
   "source": [
    "CCREStats3 = pd.read_excel( InFile1, sheet_name=\"RE_3\", header=0, names=RdHds, index_col=0,\n",
    "                             parse_dates=True )\n",
    "CCREStats3 = CCREStats3 * MultAFtoM3"
   ]
  },
  {
   "cell_type": "code",
   "execution_count": 63,
   "metadata": {},
   "outputs": [
    {
     "data": {
      "text/plain": [
       "(2668330981.6237035, 8804.822749802024)"
      ]
     },
     "execution_count": 63,
     "metadata": {},
     "output_type": "execute_result"
    }
   ],
   "source": [
    "CCMaxRE3 = CCREStats3[StatsHdsList[100]].max()\n",
    "CCMinRE3 = CCREStats3[StatsHdsList[0]].min()\n",
    "CCMaxRE3, CCMinRE3"
   ]
  },
  {
   "cell_type": "code",
   "execution_count": 64,
   "metadata": {},
   "outputs": [],
   "source": [
    "CCREStats4 = pd.read_excel( InFile1, sheet_name=\"RE_4\", header=0, names=RdHds, index_col=0,\n",
    "                             parse_dates=True )\n",
    "CCREStats4 = CCREStats4 * MultAFtoM3"
   ]
  },
  {
   "cell_type": "code",
   "execution_count": 65,
   "metadata": {},
   "outputs": [
    {
     "data": {
      "text/plain": [
       "(2650569845.390138, 5848.667067044377)"
      ]
     },
     "execution_count": 65,
     "metadata": {},
     "output_type": "execute_result"
    }
   ],
   "source": [
    "CCMaxRE4 = CCREStats4[StatsHdsList[100]].max()\n",
    "CCMinRE4 = CCREStats4[StatsHdsList[0]].min()\n",
    "CCMaxRE4, CCMinRE4"
   ]
  },
  {
   "cell_type": "code",
   "execution_count": 66,
   "metadata": {},
   "outputs": [
    {
     "data": {
      "text/plain": [
       "(2668330981.6237035, 5848.667067044377)"
      ]
     },
     "execution_count": 66,
     "metadata": {},
     "output_type": "execute_result"
    }
   ],
   "source": [
    "CCMaxRE = max( CCMaxRE1, CCMaxRE2, CCMaxRE3, CCMaxRE4 )\n",
    "CCMinRE = min( CCMinRE1, CCMinRE2, CCMinRE3, CCMinRE4 )\n",
    "CCMaxRE, CCMinRE"
   ]
  },
  {
   "cell_type": "markdown",
   "metadata": {},
   "source": [
    "Combine into one time series"
   ]
  },
  {
   "cell_type": "markdown",
   "metadata": {},
   "source": [
    "Mean"
   ]
  },
  {
   "cell_type": "code",
   "execution_count": 67,
   "metadata": {},
   "outputs": [
    {
     "data": {
      "text/plain": [
       "(1528397000.0521052, 3258915908.8016434, 5041890555.89952, 6855043086.24184)"
      ]
     },
     "execution_count": 67,
     "metadata": {},
     "output_type": "execute_result"
    }
   ],
   "source": [
    "CCRED1AveTot = CCREStats1.at[IndexD1, StatsHdsList[101]]\n",
    "CCREP1AveTot = CCREStats2.at[IndexP1, StatsHdsList[101]] + CCRED1AveTot\n",
    "CCREP2AveTot = CCREStats3.at[IndexP2, StatsHdsList[101]] + CCREP1AveTot\n",
    "CCREP3AveTot = CCREStats4.at[IndexP3, StatsHdsList[101]] + CCREP2AveTot\n",
    "CCRED1AveTot, CCREP1AveTot, CCREP2AveTot, CCREP3AveTot "
   ]
  },
  {
   "cell_type": "code",
   "execution_count": 68,
   "metadata": {},
   "outputs": [
    {
     "data": {
      "text/plain": [
       "1440"
      ]
     },
     "execution_count": 68,
     "metadata": {},
     "output_type": "execute_result"
    }
   ],
   "source": [
    "CCREAllAve = CCREStats1[[StatsHdsList[101]]].to_numpy()\n",
    "CCREAllAve = np.append( CCREAllAve, \n",
    "                         CCREStats2[[StatsHdsList[101]]].to_numpy() + CCRED1AveTot )\n",
    "CCREAllAve = np.append( CCREAllAve, \n",
    "                         CCREStats3[[StatsHdsList[101]]].to_numpy() + CCREP1AveTot )\n",
    "CCREAllAve = np.append( CCREAllAve, \n",
    "                        CCREStats4[[StatsHdsList[101]]].to_numpy() + CCREP2AveTot )\n",
    "len( CCREAllAve )"
   ]
  },
  {
   "cell_type": "markdown",
   "metadata": {},
   "source": [
    "Median"
   ]
  },
  {
   "cell_type": "code",
   "execution_count": 69,
   "metadata": {},
   "outputs": [
    {
     "data": {
      "text/plain": [
       "(1523339378.9228032, 3245243300.150854, 5023941670.956094, 6831380782.0771885)"
      ]
     },
     "execution_count": 69,
     "metadata": {},
     "output_type": "execute_result"
    }
   ],
   "source": [
    "CCRED1MedTot = CCREStats1.at[IndexD1, StatsHdsList[50]]\n",
    "CCREP1MedTot = CCREStats2.at[IndexP1, StatsHdsList[50]] + CCRED1MedTot\n",
    "CCREP2MedTot = CCREStats3.at[IndexP2, StatsHdsList[50]] + CCREP1MedTot\n",
    "CCREP3MedTot = CCREStats4.at[IndexP3, StatsHdsList[50]] + CCREP2MedTot\n",
    "CCRED1MedTot, CCREP1MedTot, CCREP2MedTot, CCREP3MedTot "
   ]
  },
  {
   "cell_type": "code",
   "execution_count": 70,
   "metadata": {},
   "outputs": [
    {
     "data": {
      "text/plain": [
       "1440"
      ]
     },
     "execution_count": 70,
     "metadata": {},
     "output_type": "execute_result"
    }
   ],
   "source": [
    "CCREAllMed = CCREStats1[[StatsHdsList[50]]].to_numpy()\n",
    "CCREAllMed = np.append( CCREAllMed, \n",
    "                         CCREStats2[[StatsHdsList[50]]].to_numpy() + CCRED1MedTot )\n",
    "CCREAllMed = np.append( CCREAllMed, \n",
    "                         CCREStats3[[StatsHdsList[50]]].to_numpy() + CCREP1MedTot )\n",
    "CCREAllMed = np.append( CCREAllMed, \n",
    "                        CCREStats4[[StatsHdsList[50]]].to_numpy() + CCREP2MedTot )\n",
    "len( CCREAllMed )"
   ]
  },
  {
   "cell_type": "markdown",
   "metadata": {},
   "source": [
    "25th percentile"
   ]
  },
  {
   "cell_type": "code",
   "execution_count": 71,
   "metadata": {},
   "outputs": [
    {
     "data": {
      "text/plain": [
       "(1415713429.146991, 3001879017.3207884, 4641117081.560384, 6303526684.013209)"
      ]
     },
     "execution_count": 71,
     "metadata": {},
     "output_type": "execute_result"
    }
   ],
   "source": [
    "CCRED1_25Tot = CCREStats1.at[IndexD1, StatsHdsList[25]]\n",
    "CCREP1_25Tot = CCREStats2.at[IndexP1, StatsHdsList[25]] + CCRED1_25Tot\n",
    "CCREP2_25Tot = CCREStats3.at[IndexP2, StatsHdsList[25]] + CCREP1_25Tot\n",
    "CCREP3_25Tot = CCREStats4.at[IndexP3, StatsHdsList[25]] + CCREP2_25Tot\n",
    "CCRED1_25Tot, CCREP1_25Tot, CCREP2_25Tot, CCREP3_25Tot "
   ]
  },
  {
   "cell_type": "code",
   "execution_count": 72,
   "metadata": {},
   "outputs": [
    {
     "data": {
      "text/plain": [
       "1440"
      ]
     },
     "execution_count": 72,
     "metadata": {},
     "output_type": "execute_result"
    }
   ],
   "source": [
    "CCREAll_25 = CCREStats1[[StatsHdsList[25]]].to_numpy()\n",
    "CCREAll_25 = np.append( CCREAll_25, \n",
    "                         CCREStats2[[StatsHdsList[25]]].to_numpy() + CCRED1_25Tot )\n",
    "CCREAll_25 = np.append( CCREAll_25, \n",
    "                         CCREStats3[[StatsHdsList[25]]].to_numpy() + CCREP1_25Tot )\n",
    "CCREAll_25 = np.append( CCREAll_25, \n",
    "                        CCREStats4[[StatsHdsList[25]]].to_numpy() + CCREP2_25Tot )\n",
    "len( CCREAll_25 )"
   ]
  },
  {
   "cell_type": "markdown",
   "metadata": {},
   "source": [
    "75th percentile"
   ]
  },
  {
   "cell_type": "code",
   "execution_count": 73,
   "metadata": {},
   "outputs": [
    {
     "data": {
      "text/plain": [
       "(1635659810.0766609, 3501144841.9525137, 5422301076.155542, 7377502945.442777)"
      ]
     },
     "execution_count": 73,
     "metadata": {},
     "output_type": "execute_result"
    }
   ],
   "source": [
    "CCRED1_75Tot = CCREStats1.at[IndexD1, StatsHdsList[75]]\n",
    "CCREP1_75Tot = CCREStats2.at[IndexP1, StatsHdsList[75]] + CCRED1_75Tot\n",
    "CCREP2_75Tot = CCREStats3.at[IndexP2, StatsHdsList[75]] + CCREP1_75Tot\n",
    "CCREP3_75Tot = CCREStats4.at[IndexP3, StatsHdsList[75]] + CCREP2_75Tot\n",
    "CCRED1_75Tot, CCREP1_75Tot, CCREP2_75Tot, CCREP3_75Tot "
   ]
  },
  {
   "cell_type": "code",
   "execution_count": 74,
   "metadata": {},
   "outputs": [
    {
     "data": {
      "text/plain": [
       "1440"
      ]
     },
     "execution_count": 74,
     "metadata": {},
     "output_type": "execute_result"
    }
   ],
   "source": [
    "CCREAll_75 = CCREStats1[[StatsHdsList[75]]].to_numpy()\n",
    "CCREAll_75 = np.append( CCREAll_75, \n",
    "                         CCREStats2[[StatsHdsList[75]]].to_numpy() + CCRED1_75Tot )\n",
    "CCREAll_75 = np.append( CCREAll_75, \n",
    "                         CCREStats3[[StatsHdsList[75]]].to_numpy() + CCREP1_75Tot )\n",
    "CCREAll_75 = np.append( CCREAll_75, \n",
    "                        CCREStats4[[StatsHdsList[75]]].to_numpy() + CCREP2_75Tot )\n",
    "len( CCREAll_75 )"
   ]
  },
  {
   "cell_type": "markdown",
   "metadata": {},
   "source": [
    "5th percentile"
   ]
  },
  {
   "cell_type": "code",
   "execution_count": 75,
   "metadata": {},
   "outputs": [
    {
     "data": {
      "text/plain": [
       "(1266217408.3974273, 2665657728.706725, 4107493418.4343014, 5577970239.437261)"
      ]
     },
     "execution_count": 75,
     "metadata": {},
     "output_type": "execute_result"
    }
   ],
   "source": [
    "CCRED1_05Tot = CCREStats1.at[IndexD1, StatsHdsList[5]]\n",
    "CCREP1_05Tot = CCREStats2.at[IndexP1, StatsHdsList[5]] + CCRED1_05Tot\n",
    "CCREP2_05Tot = CCREStats3.at[IndexP2, StatsHdsList[5]] + CCREP1_05Tot\n",
    "CCREP3_05Tot = CCREStats4.at[IndexP3, StatsHdsList[5]] + CCREP2_05Tot\n",
    "CCRED1_05Tot, CCREP1_05Tot, CCREP2_05Tot, CCREP3_05Tot "
   ]
  },
  {
   "cell_type": "code",
   "execution_count": 76,
   "metadata": {},
   "outputs": [
    {
     "data": {
      "text/plain": [
       "1440"
      ]
     },
     "execution_count": 76,
     "metadata": {},
     "output_type": "execute_result"
    }
   ],
   "source": [
    "CCREAll_05 = CCREStats1[[StatsHdsList[5]]].to_numpy()\n",
    "CCREAll_05 = np.append( CCREAll_05, \n",
    "                         CCREStats2[[StatsHdsList[5]]].to_numpy() + CCRED1_05Tot )\n",
    "CCREAll_05 = np.append( CCREAll_05, \n",
    "                         CCREStats3[[StatsHdsList[5]]].to_numpy() + CCREP1_05Tot )\n",
    "CCREAll_05 = np.append( CCREAll_05, \n",
    "                        CCREStats4[[StatsHdsList[5]]].to_numpy() + CCREP2_05Tot )\n",
    "len( CCREAll_05 )"
   ]
  },
  {
   "cell_type": "markdown",
   "metadata": {},
   "source": [
    "95th percentile"
   ]
  },
  {
   "cell_type": "code",
   "execution_count": 77,
   "metadata": {},
   "outputs": [
    {
     "data": {
      "text/plain": [
       "(1809666864.4927077, 3895469743.6886663, 6037501851.229574, 8218055814.154311)"
      ]
     },
     "execution_count": 77,
     "metadata": {},
     "output_type": "execute_result"
    }
   ],
   "source": [
    "CCRED1_95Tot = CCREStats1.at[IndexD1, StatsHdsList[95]]\n",
    "CCREP1_95Tot = CCREStats2.at[IndexP1, StatsHdsList[95]] + CCRED1_95Tot\n",
    "CCREP2_95Tot = CCREStats3.at[IndexP2, StatsHdsList[95]] + CCREP1_95Tot\n",
    "CCREP3_95Tot = CCREStats4.at[IndexP3, StatsHdsList[95]] + CCREP2_95Tot\n",
    "CCRED1_95Tot, CCREP1_95Tot, CCREP2_95Tot, CCREP3_95Tot "
   ]
  },
  {
   "cell_type": "code",
   "execution_count": 78,
   "metadata": {},
   "outputs": [
    {
     "data": {
      "text/plain": [
       "1440"
      ]
     },
     "execution_count": 78,
     "metadata": {},
     "output_type": "execute_result"
    }
   ],
   "source": [
    "CCREAll_95 = CCREStats1[[StatsHdsList[95]]].to_numpy()\n",
    "CCREAll_95 = np.append( CCREAll_95, \n",
    "                         CCREStats2[[StatsHdsList[95]]].to_numpy() + CCRED1_95Tot )\n",
    "CCREAll_95 = np.append( CCREAll_95, \n",
    "                         CCREStats3[[StatsHdsList[95]]].to_numpy() + CCREP1_95Tot )\n",
    "CCREAll_95 = np.append( CCREAll_95, \n",
    "                        CCREStats4[[StatsHdsList[95]]].to_numpy() + CCREP2_95Tot )\n",
    "len( CCREAll_95 )"
   ]
  },
  {
   "cell_type": "markdown",
   "metadata": {},
   "source": [
    "Basin change and climate change"
   ]
  },
  {
   "cell_type": "code",
   "execution_count": 79,
   "metadata": {},
   "outputs": [],
   "source": [
    "InFile1 = os.path.normpath( os.path.join( IN_DIR, XLH1_ROOT % SIM2_ROOT ) )\n",
    "BAREStats1 = pd.read_excel( InFile1, sheet_name=\"RE_1\", header=0, names=RdHds, index_col=0,\n",
    "                             parse_dates=True )\n",
    "BAREStats1 = BAREStats1 * MultAFtoM3"
   ]
  },
  {
   "cell_type": "code",
   "execution_count": 80,
   "metadata": {},
   "outputs": [
    {
     "data": {
      "text/plain": [
       "(2188244563.518059, 26246.26517599373)"
      ]
     },
     "execution_count": 80,
     "metadata": {},
     "output_type": "execute_result"
    }
   ],
   "source": [
    "BAMaxRE1 = BAREStats1[StatsHdsList[100]].max()\n",
    "BAMinRE1 = BAREStats1[StatsHdsList[0]].min()\n",
    "BAMaxRE1, BAMinRE1"
   ]
  },
  {
   "cell_type": "code",
   "execution_count": 81,
   "metadata": {},
   "outputs": [],
   "source": [
    "BAREStats2 = pd.read_excel( InFile1, sheet_name=\"RE_2\", header=0, names=RdHds, index_col=0,\n",
    "                             parse_dates=True )\n",
    "BAREStats2 = BAREStats2 * MultAFtoM3"
   ]
  },
  {
   "cell_type": "code",
   "execution_count": 82,
   "metadata": {},
   "outputs": [
    {
     "data": {
      "text/plain": [
       "(2557344175.434997, 16407.305064816173)"
      ]
     },
     "execution_count": 82,
     "metadata": {},
     "output_type": "execute_result"
    }
   ],
   "source": [
    "BAMaxRE2 = BAREStats2[StatsHdsList[100]].max()\n",
    "BAMinRE2 = BAREStats2[StatsHdsList[0]].min()\n",
    "BAMaxRE2, BAMinRE2"
   ]
  },
  {
   "cell_type": "code",
   "execution_count": 83,
   "metadata": {},
   "outputs": [],
   "source": [
    "BAREStats3 = pd.read_excel( InFile1, sheet_name=\"RE_3\", header=0, names=RdHds, index_col=0,\n",
    "                             parse_dates=True )\n",
    "BAREStats3 = BAREStats3 * MultAFtoM3"
   ]
  },
  {
   "cell_type": "code",
   "execution_count": 84,
   "metadata": {},
   "outputs": [
    {
     "data": {
      "text/plain": [
       "(2562891928.1223288, 54900.621622825005)"
      ]
     },
     "execution_count": 84,
     "metadata": {},
     "output_type": "execute_result"
    }
   ],
   "source": [
    "BAMaxRE3 = BAREStats3[StatsHdsList[100]].max()\n",
    "BAMinRE3 = BAREStats3[StatsHdsList[0]].min()\n",
    "BAMaxRE3, BAMinRE3"
   ]
  },
  {
   "cell_type": "code",
   "execution_count": 85,
   "metadata": {},
   "outputs": [],
   "source": [
    "BAREStats4 = pd.read_excel( InFile1, sheet_name=\"RE_4\", header=0, names=RdHds, index_col=0,\n",
    "                             parse_dates=True )\n",
    "BAREStats4 = BAREStats4 * MultAFtoM3"
   ]
  },
  {
   "cell_type": "code",
   "execution_count": 86,
   "metadata": {},
   "outputs": [
    {
     "data": {
      "text/plain": [
       "(2480194566.474789, 70803.87959878206)"
      ]
     },
     "execution_count": 86,
     "metadata": {},
     "output_type": "execute_result"
    }
   ],
   "source": [
    "BAMaxRE4 = BAREStats4[StatsHdsList[100]].max()\n",
    "BAMinRE4 = BAREStats4[StatsHdsList[0]].min()\n",
    "BAMaxRE4, BAMinRE4"
   ]
  },
  {
   "cell_type": "code",
   "execution_count": 87,
   "metadata": {},
   "outputs": [
    {
     "data": {
      "text/plain": [
       "(2562891928.1223288, 16407.305064816173)"
      ]
     },
     "execution_count": 87,
     "metadata": {},
     "output_type": "execute_result"
    }
   ],
   "source": [
    "BAMaxRE = max( BAMaxRE1, BAMaxRE2, BAMaxRE3, BAMaxRE4 )\n",
    "BAMinRE = min( BAMinRE1, BAMinRE2, BAMinRE3, BAMinRE4 )\n",
    "BAMaxRE, BAMinRE"
   ]
  },
  {
   "cell_type": "markdown",
   "metadata": {},
   "source": [
    "Combine into one time series"
   ]
  },
  {
   "cell_type": "markdown",
   "metadata": {},
   "source": [
    "Mean"
   ]
  },
  {
   "cell_type": "code",
   "execution_count": 88,
   "metadata": {},
   "outputs": [
    {
     "data": {
      "text/plain": [
       "(1528397115.8754616, 3281833480.0459795, 5061200235.63329, 6812971632.18348)"
      ]
     },
     "execution_count": 88,
     "metadata": {},
     "output_type": "execute_result"
    }
   ],
   "source": [
    "BARED1AveTot = BAREStats1.at[IndexD1, StatsHdsList[101]]\n",
    "BAREP1AveTot = BAREStats2.at[IndexP1, StatsHdsList[101]] + BARED1AveTot\n",
    "BAREP2AveTot = BAREStats3.at[IndexP2, StatsHdsList[101]] + BAREP1AveTot\n",
    "BAREP3AveTot = BAREStats4.at[IndexP3, StatsHdsList[101]] + BAREP2AveTot\n",
    "BARED1AveTot, BAREP1AveTot, BAREP2AveTot, BAREP3AveTot "
   ]
  },
  {
   "cell_type": "code",
   "execution_count": 89,
   "metadata": {},
   "outputs": [
    {
     "data": {
      "text/plain": [
       "1440"
      ]
     },
     "execution_count": 89,
     "metadata": {},
     "output_type": "execute_result"
    }
   ],
   "source": [
    "BAREAllAve = BAREStats1[[StatsHdsList[101]]].to_numpy()\n",
    "BAREAllAve = np.append( BAREAllAve, \n",
    "                         BAREStats2[[StatsHdsList[101]]].to_numpy() + BARED1AveTot )\n",
    "BAREAllAve = np.append( BAREAllAve, \n",
    "                         BAREStats3[[StatsHdsList[101]]].to_numpy() + BAREP1AveTot )\n",
    "BAREAllAve = np.append( BAREAllAve, \n",
    "                        BAREStats4[[StatsHdsList[101]]].to_numpy() + BAREP2AveTot )\n",
    "len( BAREAllAve )"
   ]
  },
  {
   "cell_type": "markdown",
   "metadata": {},
   "source": [
    "Median"
   ]
  },
  {
   "cell_type": "code",
   "execution_count": 90,
   "metadata": {},
   "outputs": [
    {
     "data": {
      "text/plain": [
       "(1523339494.0616457, 3268884120.609581, 5044494132.522225, 6791743759.008865)"
      ]
     },
     "execution_count": 90,
     "metadata": {},
     "output_type": "execute_result"
    }
   ],
   "source": [
    "BARED1MedTot = BAREStats1.at[IndexD1, StatsHdsList[50]]\n",
    "BAREP1MedTot = BAREStats2.at[IndexP1, StatsHdsList[50]] + BARED1MedTot\n",
    "BAREP2MedTot = BAREStats3.at[IndexP2, StatsHdsList[50]] + BAREP1MedTot\n",
    "BAREP3MedTot = BAREStats4.at[IndexP3, StatsHdsList[50]] + BAREP2MedTot\n",
    "BARED1MedTot, BAREP1MedTot, BAREP2MedTot, BAREP3MedTot "
   ]
  },
  {
   "cell_type": "code",
   "execution_count": 91,
   "metadata": {},
   "outputs": [
    {
     "data": {
      "text/plain": [
       "1440"
      ]
     },
     "execution_count": 91,
     "metadata": {},
     "output_type": "execute_result"
    }
   ],
   "source": [
    "BAREAllMed = BAREStats1[[StatsHdsList[50]]].to_numpy()\n",
    "BAREAllMed = np.append( BAREAllMed, \n",
    "                         BAREStats2[[StatsHdsList[50]]].to_numpy() + BARED1MedTot )\n",
    "BAREAllMed = np.append( BAREAllMed, \n",
    "                         BAREStats3[[StatsHdsList[50]]].to_numpy() + BAREP1MedTot )\n",
    "BAREAllMed = np.append( BAREAllMed, \n",
    "                        BAREStats4[[StatsHdsList[50]]].to_numpy() + BAREP2MedTot )\n",
    "len( BAREAllMed )"
   ]
  },
  {
   "cell_type": "markdown",
   "metadata": {},
   "source": [
    "25th percentile"
   ]
  },
  {
   "cell_type": "code",
   "execution_count": 92,
   "metadata": {},
   "outputs": [
    {
     "data": {
      "text/plain": [
       "(1415713537.093398, 3031503092.2865486, 4682172335.105953, 6308581868.291857)"
      ]
     },
     "execution_count": 92,
     "metadata": {},
     "output_type": "execute_result"
    }
   ],
   "source": [
    "BARED1_25Tot = BAREStats1.at[IndexD1, StatsHdsList[25]]\n",
    "BAREP1_25Tot = BAREStats2.at[IndexP1, StatsHdsList[25]] + BARED1_25Tot\n",
    "BAREP2_25Tot = BAREStats3.at[IndexP2, StatsHdsList[25]] + BAREP1_25Tot\n",
    "BAREP3_25Tot = BAREStats4.at[IndexP3, StatsHdsList[25]] + BAREP2_25Tot\n",
    "BARED1_25Tot, BAREP1_25Tot, BAREP2_25Tot, BAREP3_25Tot "
   ]
  },
  {
   "cell_type": "code",
   "execution_count": 93,
   "metadata": {},
   "outputs": [
    {
     "data": {
      "text/plain": [
       "1440"
      ]
     },
     "execution_count": 93,
     "metadata": {},
     "output_type": "execute_result"
    }
   ],
   "source": [
    "BAREAll_25 = BAREStats1[[StatsHdsList[25]]].to_numpy()\n",
    "BAREAll_25 = np.append( BAREAll_25, \n",
    "                         BAREStats2[[StatsHdsList[25]]].to_numpy() + BARED1_25Tot )\n",
    "BAREAll_25 = np.append( BAREAll_25, \n",
    "                         BAREStats3[[StatsHdsList[25]]].to_numpy() + BAREP1_25Tot )\n",
    "BAREAll_25 = np.append( BAREAll_25, \n",
    "                        BAREStats4[[StatsHdsList[25]]].to_numpy() + BAREP2_25Tot )\n",
    "len( BAREAll_25 )"
   ]
  },
  {
   "cell_type": "markdown",
   "metadata": {},
   "source": [
    "75th percentile"
   ]
  },
  {
   "cell_type": "code",
   "execution_count": 94,
   "metadata": {},
   "outputs": [
    {
     "data": {
      "text/plain": [
       "(1635659934.2506864, 3518018440.013457, 5421448194.171625, 7292555492.545921)"
      ]
     },
     "execution_count": 94,
     "metadata": {},
     "output_type": "execute_result"
    }
   ],
   "source": [
    "BARED1_75Tot = BAREStats1.at[IndexD1, StatsHdsList[75]]\n",
    "BAREP1_75Tot = BAREStats2.at[IndexP1, StatsHdsList[75]] + BARED1_75Tot\n",
    "BAREP2_75Tot = BAREStats3.at[IndexP2, StatsHdsList[75]] + BAREP1_75Tot\n",
    "BAREP3_75Tot = BAREStats4.at[IndexP3, StatsHdsList[75]] + BAREP2_75Tot\n",
    "BARED1_75Tot, BAREP1_75Tot, BAREP2_75Tot, BAREP3_75Tot "
   ]
  },
  {
   "cell_type": "code",
   "execution_count": 95,
   "metadata": {},
   "outputs": [
    {
     "data": {
      "text/plain": [
       "1440"
      ]
     },
     "execution_count": 95,
     "metadata": {},
     "output_type": "execute_result"
    }
   ],
   "source": [
    "BAREAll_75 = BAREStats1[[StatsHdsList[75]]].to_numpy()\n",
    "BAREAll_75 = np.append( BAREAll_75, \n",
    "                         BAREStats2[[StatsHdsList[75]]].to_numpy() + BARED1_75Tot )\n",
    "BAREAll_75 = np.append( BAREAll_75, \n",
    "                         BAREStats3[[StatsHdsList[75]]].to_numpy() + BAREP1_75Tot )\n",
    "BAREAll_75 = np.append( BAREAll_75, \n",
    "                        BAREStats4[[StatsHdsList[75]]].to_numpy() + BAREP2_75Tot )\n",
    "len( BAREAll_75 )"
   ]
  },
  {
   "cell_type": "markdown",
   "metadata": {},
   "source": [
    "5th percentile"
   ]
  },
  {
   "cell_type": "code",
   "execution_count": 96,
   "metadata": {},
   "outputs": [
    {
     "data": {
      "text/plain": [
       "(1266217505.845172, 2703400145.132143, 4179479444.311076, 5647631407.53402)"
      ]
     },
     "execution_count": 96,
     "metadata": {},
     "output_type": "execute_result"
    }
   ],
   "source": [
    "BARED1_05Tot = BAREStats1.at[IndexD1, StatsHdsList[5]]\n",
    "BAREP1_05Tot = BAREStats2.at[IndexP1, StatsHdsList[5]] + BARED1_05Tot\n",
    "BAREP2_05Tot = BAREStats3.at[IndexP2, StatsHdsList[5]] + BAREP1_05Tot\n",
    "BAREP3_05Tot = BAREStats4.at[IndexP3, StatsHdsList[5]] + BAREP2_05Tot\n",
    "BARED1_05Tot, BAREP1_05Tot, BAREP2_05Tot, BAREP3_05Tot "
   ]
  },
  {
   "cell_type": "code",
   "execution_count": 97,
   "metadata": {},
   "outputs": [
    {
     "data": {
      "text/plain": [
       "1440"
      ]
     },
     "execution_count": 97,
     "metadata": {},
     "output_type": "execute_result"
    }
   ],
   "source": [
    "BAREAll_05 = BAREStats1[[StatsHdsList[5]]].to_numpy()\n",
    "BAREAll_05 = np.append( BAREAll_05, \n",
    "                         BAREStats2[[StatsHdsList[5]]].to_numpy() + BARED1_05Tot )\n",
    "BAREAll_05 = np.append( BAREAll_05, \n",
    "                         BAREStats3[[StatsHdsList[5]]].to_numpy() + BAREP1_05Tot )\n",
    "BAREAll_05 = np.append( BAREAll_05, \n",
    "                        BAREStats4[[StatsHdsList[5]]].to_numpy() + BAREP2_05Tot )\n",
    "len( BAREAll_05 )"
   ]
  },
  {
   "cell_type": "markdown",
   "metadata": {},
   "source": [
    "95th percentile"
   ]
  },
  {
   "cell_type": "code",
   "execution_count": 98,
   "metadata": {},
   "outputs": [
    {
     "data": {
      "text/plain": [
       "(1809666999.3727243, 3901165123.6884537, 5999655750.176416, 8060891774.802835)"
      ]
     },
     "execution_count": 98,
     "metadata": {},
     "output_type": "execute_result"
    }
   ],
   "source": [
    "BARED1_95Tot = BAREStats1.at[IndexD1, StatsHdsList[95]]\n",
    "BAREP1_95Tot = BAREStats2.at[IndexP1, StatsHdsList[95]] + BARED1_95Tot\n",
    "BAREP2_95Tot = BAREStats3.at[IndexP2, StatsHdsList[95]] + BAREP1_95Tot\n",
    "BAREP3_95Tot = BAREStats4.at[IndexP3, StatsHdsList[95]] + BAREP2_95Tot\n",
    "BARED1_95Tot, BAREP1_95Tot, BAREP2_95Tot, BAREP3_95Tot "
   ]
  },
  {
   "cell_type": "code",
   "execution_count": 99,
   "metadata": {},
   "outputs": [
    {
     "data": {
      "text/plain": [
       "1440"
      ]
     },
     "execution_count": 99,
     "metadata": {},
     "output_type": "execute_result"
    }
   ],
   "source": [
    "BAREAll_95 = BAREStats1[[StatsHdsList[95]]].to_numpy()\n",
    "BAREAll_95 = np.append( BAREAll_95, \n",
    "                         BAREStats2[[StatsHdsList[95]]].to_numpy() + BARED1_95Tot )\n",
    "BAREAll_95 = np.append( BAREAll_95, \n",
    "                         BAREStats3[[StatsHdsList[95]]].to_numpy() + BAREP1_95Tot )\n",
    "BAREAll_95 = np.append( BAREAll_95, \n",
    "                        BAREStats4[[StatsHdsList[95]]].to_numpy() + BAREP2_95Tot )\n",
    "len( BAREAll_95 )"
   ]
  },
  {
   "cell_type": "markdown",
   "metadata": {},
   "source": [
    "## Water Availability"
   ]
  },
  {
   "cell_type": "markdown",
   "metadata": {},
   "source": [
    "Calculated quantity.\n",
    "\n",
    "\\begin{equation*}\n",
    "   WA = RO + RE\n",
    "\\end{equation*}"
   ]
  },
  {
   "cell_type": "code",
   "execution_count": 100,
   "metadata": {},
   "outputs": [],
   "source": [
    "CCWatAvail_Ave = CCROAllAve + CCREAllAve\n",
    "CCWatAvail_Med = CCROAllMed + CCREAllMed\n",
    "CCWatAvail_95 = CCROAll_95 + CCREAll_95\n",
    "CCWatAvail_75 = CCROAll_75 + CCREAll_75\n",
    "CCWatAvail_25 = CCROAll_25 + CCREAll_25\n",
    "CCWatAvail_05 = CCROAll_05 + CCREAll_05"
   ]
  },
  {
   "cell_type": "code",
   "execution_count": 101,
   "metadata": {},
   "outputs": [
    {
     "data": {
      "text/plain": [
       "(9091366431.349089, 76957.8764228089)"
      ]
     },
     "execution_count": 101,
     "metadata": {},
     "output_type": "execute_result"
    }
   ],
   "source": [
    "CCMaxWA = CCWatAvail_95.max()\n",
    "CCMinWA = CCWatAvail_05.min()\n",
    "CCMaxWA, CCMinWA"
   ]
  },
  {
   "cell_type": "code",
   "execution_count": 102,
   "metadata": {},
   "outputs": [],
   "source": [
    "BAWatAvail_Ave = BAROAllAve + BAREAllAve\n",
    "BAWatAvail_Med = BAROAllMed + BAREAllMed\n",
    "BAWatAvail_95 = BAROAll_95 + BAREAll_95\n",
    "BAWatAvail_75 = BAROAll_75 + BAREAll_75\n",
    "BAWatAvail_25 = BAROAll_25 + BAREAll_25\n",
    "BAWatAvail_05 = BAROAll_05 + BAREAll_05"
   ]
  },
  {
   "cell_type": "code",
   "execution_count": 103,
   "metadata": {},
   "outputs": [
    {
     "data": {
      "text/plain": [
       "(9635263623.503721, 76957.8764680535)"
      ]
     },
     "execution_count": 103,
     "metadata": {},
     "output_type": "execute_result"
    }
   ],
   "source": [
    "BAMaxWA = BAWatAvail_95.max()\n",
    "BAMinWA = BAWatAvail_05.min()\n",
    "BAMaxWA, BAMinWA"
   ]
  },
  {
   "cell_type": "markdown",
   "metadata": {},
   "source": [
    "## Plots"
   ]
  },
  {
   "cell_type": "markdown",
   "metadata": {},
   "source": [
    "Make the fills first"
   ]
  },
  {
   "cell_type": "code",
   "execution_count": 104,
   "metadata": {},
   "outputs": [],
   "source": [
    "IndD1 = list( CCROStats1.index.to_pydatetime() )\n",
    "IndP1 = list( CCROStats2.index.to_pydatetime() )\n",
    "IndP2 = list( CCROStats3.index.to_pydatetime() )\n",
    "IndP3 = list( CCROStats4.index.to_pydatetime() )"
   ]
  },
  {
   "cell_type": "code",
   "execution_count": 105,
   "metadata": {},
   "outputs": [],
   "source": [
    "ForTimeList = deepcopy( IndD1 )\n",
    "ForTimeList.extend( IndP1 )\n",
    "ForTimeList.extend( IndP2 )\n",
    "ForTimeList.extend( IndP3 )"
   ]
  },
  {
   "cell_type": "code",
   "execution_count": 106,
   "metadata": {},
   "outputs": [],
   "source": [
    "BackDTList = ForTimeList[::-1]\n",
    "DTTimeList = deepcopy( ForTimeList )\n",
    "DTTimeList.extend( BackDTList )"
   ]
  },
  {
   "cell_type": "code",
   "execution_count": 107,
   "metadata": {},
   "outputs": [],
   "source": [
    "CCWA_5 = list( CCWatAvail_05 )\n",
    "BackDTList = list( CCWatAvail_95 )\n",
    "CCBackWA_95 = BackDTList[::-1]\n",
    "CCWAVals90 = deepcopy( CCWA_5 )\n",
    "CCWAVals90.extend( CCBackWA_95 )"
   ]
  },
  {
   "cell_type": "code",
   "execution_count": 108,
   "metadata": {},
   "outputs": [],
   "source": [
    "CCWA_25 = list( CCWatAvail_25 )\n",
    "BackDTList = list( CCWatAvail_75 )\n",
    "CCBackWA_75 = BackDTList[::-1]\n",
    "CCWAValsIQR = deepcopy( CCWA_25 )\n",
    "CCWAValsIQR.extend( CCBackWA_75 )"
   ]
  },
  {
   "cell_type": "code",
   "execution_count": 109,
   "metadata": {},
   "outputs": [],
   "source": [
    "BAWA_5 = list( BAWatAvail_05 )\n",
    "BackDTList = list( BAWatAvail_95 )\n",
    "BABackWA_95 = BackDTList[::-1]\n",
    "BAWAVals90 = deepcopy( BAWA_5 )\n",
    "BAWAVals90.extend( BABackWA_95 )"
   ]
  },
  {
   "cell_type": "code",
   "execution_count": 110,
   "metadata": {},
   "outputs": [],
   "source": [
    "BAWA_25 = list( BAWatAvail_25 )\n",
    "BackDTList = list( BAWatAvail_75 )\n",
    "BABackWA_75 = BackDTList[::-1]\n",
    "BAWAValsIQR = deepcopy( BAWA_25 )\n",
    "BAWAValsIQR.extend( BABackWA_75 )"
   ]
  },
  {
   "cell_type": "code",
   "execution_count": 111,
   "metadata": {},
   "outputs": [
    {
     "data": {
      "text/plain": [
       "(9635263623.503721, 76957.8764228089)"
      ]
     },
     "execution_count": 111,
     "metadata": {},
     "output_type": "execute_result"
    }
   ],
   "source": [
    "MaxWA = max( CCMaxWA, BAMaxWA )\n",
    "MinWA = min( CCMinWA, BAMinWA )\n",
    "MaxWA, MinWA"
   ]
  },
  {
   "cell_type": "code",
   "execution_count": 112,
   "metadata": {},
   "outputs": [],
   "source": [
    "MaxWA = 12200000000.0\n",
    "MinWA = 1000000000.0"
   ]
  },
  {
   "cell_type": "code",
   "execution_count": 113,
   "metadata": {},
   "outputs": [],
   "source": [
    "waTicks = [ 2000000000.0, 4000000000.0, 6000000000.0, 8000000000.0, 10000000000.0 ]"
   ]
  },
  {
   "cell_type": "code",
   "execution_count": 114,
   "metadata": {},
   "outputs": [
    {
     "data": {
      "text/plain": [
       "'C:\\\\Users\\\\nmart\\\\Documents\\\\CC_Plots\\\\Results_CumWAmHSPFComp.svg'"
      ]
     },
     "execution_count": 114,
     "metadata": {},
     "output_type": "execute_result"
    }
   ],
   "source": [
    "OutSVG = os.path.normpath( os.path.join( OUT_DIR, \"Results_CumWAmHSPFComp.svg\" ) )\n",
    "OutSVG"
   ]
  },
  {
   "cell_type": "code",
   "execution_count": 115,
   "metadata": {},
   "outputs": [
    {
     "data": {
      "text/plain": [
       "'C:\\\\Users\\\\nmart\\\\Documents\\\\CC_Plots\\\\Results_CumWAmHSPFComp.png'"
      ]
     },
     "execution_count": 115,
     "metadata": {},
     "output_type": "execute_result"
    }
   ],
   "source": [
    "OutPNG = os.path.normpath( os.path.join( OUT_DIR, \"Results_CumWAmHSPFComp.png\" ) )\n",
    "OutPNG"
   ]
  },
  {
   "cell_type": "code",
   "execution_count": 116,
   "metadata": {},
   "outputs": [
    {
     "name": "stderr",
     "output_type": "stream",
     "text": [
      "findfont: Font family ['sans-serif'] not found. Falling back to DejaVu Sans.\n",
      "findfont: Font family ['sans-serif'] not found. Falling back to DejaVu Sans.\n",
      "findfont: Font family ['sans-serif'] not found. Falling back to DejaVu Sans.\n",
      "findfont: Font family ['sans-serif'] not found. Falling back to DejaVu Sans.\n"
     ]
    },
    {
     "data": {
      "image/png": "[encoded data removed]",
      "text/plain": [
       "<Figure size 576x324 with 1 Axes>"
      ]
     },
     "metadata": {
      "needs_background": "light"
     },
     "output_type": "display_data"
    }
   ],
   "source": [
    "Fig1 = plt.figure()\n",
    "Fig1.set_size_inches(8.0, 4.5)\n",
    "ax11 = Fig1.add_subplot(111)\n",
    "ax11.plot( [TP_DICT[2][0], TP_DICT[2][0]], [MinWA, MaxWA], linestyle='-', zorder=3,\n",
    "           linewidth=2, color='xkcd:dark orange', label=\"Climate Normals Boundary\")\n",
    "ax11.plot( [TP_DICT[3][0], TP_DICT[3][0]], [MinWA, MaxWA], linestyle='-',\n",
    "           linewidth=2, color='xkcd:dark orange', zorder=3 )\n",
    "ax11.plot( [TP_DICT[4][0], TP_DICT[4][0]], [MinWA, MaxWA], linestyle='-',\n",
    "           linewidth=2, color='xkcd:dark orange', zorder=3 )\n",
    "cc90 = ax11.fill( DTTimeList, CCWAVals90, color='xkcd:sand', alpha=1.0, \n",
    "                  label=\"CC: 5–95th %tile range\", zorder=2)\n",
    "cc50 = ax11.fill( DTTimeList, CCWAValsIQR, color='xkcd:puce', alpha=1.0, \n",
    "                  label=\"CC: 25–75th %tile range\", zorder=2)\n",
    "ax11.plot( ForTimeList, CCWatAvail_Med, linestyle='-', zorder=4,\n",
    "           linewidth=2, color='xkcd:goldenrod', label='CC: Median' )\n",
    "ax11.plot( ForTimeList, CCWatAvail_Ave, linestyle=':', zorder=4,\n",
    "           linewidth=3, color='xkcd:terracotta', label='CC: Mean' )\n",
    "ba90 = ax11.fill( DTTimeList, BAWAVals90, color='xkcd:pastel blue', alpha=0.55, \n",
    "                  label=\"LULCCC: 5–95th %tile range\", zorder=2 )\n",
    "ba50 = ax11.fill( DTTimeList, BAWAValsIQR, color='xkcd:denim blue', alpha=0.55, \n",
    "                  label=\"LULCCC: 25–75th %tile range\", zorder=2 )\n",
    "ax11.plot( ForTimeList, BAWatAvail_Med, linestyle='-', zorder=4,\n",
    "           linewidth=2, color='xkcd:bright blue', label='LULCCC: Median' )\n",
    "ax11.plot( ForTimeList, BAWatAvail_Ave, linestyle=':', zorder=4,\n",
    "           linewidth=3, color='xkcd:cyan', label='LULCCC: Mean' )\n",
    "ax11.set_xticks( [ dt.datetime(2010, 1, 1), dt.datetime(2040, 1, 1), dt.datetime(2070, 1, 1),\n",
    "                  dt.datetime(2100, 1, 1) ] )\n",
    "ax11.set_xlim( (dt.datetime(2010, 1, 1), dt.datetime(2100, 1, 1)))\n",
    "#ax11.set_yscale('log')\n",
    "ax11.set_yticks( waTicks )\n",
    "ax11.set_ylim( (MinWA, MaxWA) )\n",
    "ax11.grid(True, axis='y', which='both')\n",
    "ax11.set_ylabel('Cumulative Water Availability ($m^{3}$)', fontsize=12 )\n",
    "ax11.legend( loc='upper left', fontsize=10, framealpha=1.0, ncol=2 )\n",
    "ax11.tick_params(axis='both', which='major', labelsize=11 )\n",
    "ax11.tick_params(axis='x', which='major' )\n",
    "ax11.yaxis.set_major_formatter( mpl.ticker.StrMethodFormatter( \"{x:,.0E}\" ) )\n",
    "ax11.xaxis.set_major_formatter( mpl.dates.DateFormatter(\"%Y–%m–%d\") )\n",
    "Fig1.savefig( OutSVG )\n",
    "Fig1.savefig( OutPNG )"
   ]
  }
 ],
 "metadata": {
  "kernelspec": {
   "display_name": "Python 3",
   "language": "python",
   "name": "python3"
  },
  "language_info": {
   "codemirror_mode": {
    "name": "ipython",
    "version": 3
   },
   "file_extension": ".py",
   "mimetype": "text/x-python",
   "name": "python",
   "nbconvert_exporter": "python",
   "pygments_lexer": "ipython3",
   "version": "3.8.5"
  }
 },
 "nbformat": 4,
 "nbformat_minor": 4
}
