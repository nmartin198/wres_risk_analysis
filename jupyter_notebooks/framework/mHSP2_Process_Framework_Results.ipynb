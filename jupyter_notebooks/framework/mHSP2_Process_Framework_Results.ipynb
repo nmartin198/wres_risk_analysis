{
 "cells": [
  {
   "cell_type": "markdown",
   "metadata": {},
   "source": [
    "# mHSP2 Framework: Process Results"
   ]
  },
  {
   "cell_type": "markdown",
   "metadata": {},
   "source": [
    "This is preliminary process and exploration of the mHSP2 framework results"
   ]
  },
  {
   "cell_type": "markdown",
   "metadata": {},
   "source": [
    "## Parameters and Imports"
   ]
  },
  {
   "cell_type": "code",
   "execution_count": 1,
   "metadata": {},
   "outputs": [],
   "source": [
    "%matplotlib inline"
   ]
  },
  {
   "cell_type": "code",
   "execution_count": 2,
   "metadata": {},
   "outputs": [],
   "source": [
    "import h5py\n",
    "import pandas as pd\n",
    "import numpy as np\n",
    "import datetime as dt\n",
    "import os\n",
    "import matplotlib as mpl\n",
    "import matplotlib.pyplot as plt\n",
    "from IPython.display import display, HTML\n",
    "from copy import deepcopy"
   ]
  },
  {
   "cell_type": "code",
   "execution_count": 3,
   "metadata": {},
   "outputs": [],
   "source": [
    "IN_DIR = r'C:\\Working\\Test_Models\\WG_mHSP2'\n",
    "OUT_DIR = r'C:\\Working\\Test_Models\\WG_mHSP2\\Processed'"
   ]
  },
  {
   "cell_type": "code",
   "execution_count": 4,
   "metadata": {},
   "outputs": [],
   "source": [
    "InFile = os.path.normpath( os.path.join( IN_DIR, \"R1_H0_WBTotals_DF.pickle\"))\n",
    "R1H0Wb = pd.read_pickle( InFile, compression='zip' )"
   ]
  },
  {
   "cell_type": "code",
   "execution_count": 5,
   "metadata": {},
   "outputs": [],
   "source": [
    "InFile = os.path.normpath( os.path.join( IN_DIR, \"R1_H1_WBTotals_DF.pickle\"))\n",
    "R1H1Wb = pd.read_pickle( InFile, compression='zip' )"
   ]
  },
  {
   "cell_type": "code",
   "execution_count": 6,
   "metadata": {},
   "outputs": [],
   "source": [
    "InFile = os.path.normpath( os.path.join( IN_DIR, \"R2_H0_WBTotals_DF.pickle\"))\n",
    "R2H0Wb = pd.read_pickle( InFile, compression='zip' )"
   ]
  },
  {
   "cell_type": "code",
   "execution_count": 7,
   "metadata": {},
   "outputs": [],
   "source": [
    "InFile = os.path.normpath( os.path.join( IN_DIR, \"R2_H1_WBTotals_DF.pickle\"))\n",
    "R2H1Wb = pd.read_pickle( InFile, compression='zip' )"
   ]
  },
  {
   "cell_type": "code",
   "execution_count": 8,
   "metadata": {},
   "outputs": [],
   "source": [
    "InFile = os.path.normpath( os.path.join( IN_DIR, \"R1_WBDeltas_DF.pickle\"))\n",
    "R1Delta = pd.read_pickle( InFile, compression='zip' )"
   ]
  },
  {
   "cell_type": "code",
   "execution_count": 9,
   "metadata": {},
   "outputs": [],
   "source": [
    "InFile = os.path.normpath( os.path.join( IN_DIR, \"R2_WBDeltas_DF.pickle\"))\n",
    "R2Delta = pd.read_pickle( InFile, compression='zip' )"
   ]
  },
  {
   "cell_type": "markdown",
   "metadata": {},
   "source": [
    "### Realization 1, H0"
   ]
  },
  {
   "cell_type": "code",
   "execution_count": 12,
   "metadata": {},
   "outputs": [
    {
     "data": {
      "text/html": [
       "<table border=\"1\" class=\"dataframe\">\n",
       "  <thead>\n",
       "    <tr style=\"text-align: right;\">\n",
       "      <th></th>\n",
       "      <th>Tot_Prec</th>\n",
       "      <th>Tot_PET</th>\n",
       "      <th>Tot_AET</th>\n",
       "      <th>Tot_Re</th>\n",
       "      <th>Tot_RO</th>\n",
       "    </tr>\n",
       "    <tr>\n",
       "      <th>Datetime</th>\n",
       "      <th></th>\n",
       "      <th></th>\n",
       "      <th></th>\n",
       "      <th></th>\n",
       "      <th></th>\n",
       "    </tr>\n",
       "  </thead>\n",
       "  <tbody>\n",
       "    <tr>\n",
       "      <th>1980-01-01</th>\n",
       "      <td>0.000000</td>\n",
       "      <td>712.649105</td>\n",
       "      <td>707.975910</td>\n",
       "      <td>440.891780</td>\n",
       "      <td>-22.147770</td>\n",
       "    </tr>\n",
       "    <tr>\n",
       "      <th>1980-01-02</th>\n",
       "      <td>0.000000</td>\n",
       "      <td>835.093720</td>\n",
       "      <td>655.621598</td>\n",
       "      <td>1.226568</td>\n",
       "      <td>-20.244701</td>\n",
       "    </tr>\n",
       "    <tr>\n",
       "      <th>1980-01-03</th>\n",
       "      <td>0.000000</td>\n",
       "      <td>800.589353</td>\n",
       "      <td>531.118498</td>\n",
       "      <td>1.773559</td>\n",
       "      <td>-18.487289</td>\n",
       "    </tr>\n",
       "    <tr>\n",
       "      <th>1980-01-04</th>\n",
       "      <td>0.000000</td>\n",
       "      <td>864.661911</td>\n",
       "      <td>549.973361</td>\n",
       "      <td>2.286818</td>\n",
       "      <td>-16.865286</td>\n",
       "    </tr>\n",
       "    <tr>\n",
       "      <th>1980-01-05</th>\n",
       "      <td>327.813514</td>\n",
       "      <td>216.934240</td>\n",
       "      <td>217.082562</td>\n",
       "      <td>2.771773</td>\n",
       "      <td>-15.359061</td>\n",
       "    </tr>\n",
       "  </tbody>\n",
       "</table>"
      ],
      "text/plain": [
       "<IPython.core.display.HTML object>"
      ]
     },
     "metadata": {},
     "output_type": "display_data"
    }
   ],
   "source": [
    "display( HTML( R1H0Wb.head().to_html() ))"
   ]
  },
  {
   "cell_type": "code",
   "execution_count": 13,
   "metadata": {},
   "outputs": [
    {
     "data": {
      "text/html": [
       "<table border=\"1\" class=\"dataframe\">\n",
       "  <thead>\n",
       "    <tr style=\"text-align: right;\">\n",
       "      <th></th>\n",
       "      <th>Tot_Prec</th>\n",
       "      <th>Tot_PET</th>\n",
       "      <th>Tot_AET</th>\n",
       "      <th>Tot_Re</th>\n",
       "      <th>Tot_RO</th>\n",
       "    </tr>\n",
       "  </thead>\n",
       "  <tbody>\n",
       "    <tr>\n",
       "      <th>count</th>\n",
       "      <td>44195.000000</td>\n",
       "      <td>44195.000000</td>\n",
       "      <td>44195.000000</td>\n",
       "      <td>44195.000000</td>\n",
       "      <td>44195.000000</td>\n",
       "    </tr>\n",
       "    <tr>\n",
       "      <th>mean</th>\n",
       "      <td>622.353058</td>\n",
       "      <td>1301.386645</td>\n",
       "      <td>504.531580</td>\n",
       "      <td>112.546254</td>\n",
       "      <td>5.655063</td>\n",
       "    </tr>\n",
       "    <tr>\n",
       "      <th>std</th>\n",
       "      <td>2444.376069</td>\n",
       "      <td>666.386024</td>\n",
       "      <td>414.232602</td>\n",
       "      <td>607.516255</td>\n",
       "      <td>125.525818</td>\n",
       "    </tr>\n",
       "    <tr>\n",
       "      <th>min</th>\n",
       "      <td>0.000000</td>\n",
       "      <td>52.529080</td>\n",
       "      <td>0.173023</td>\n",
       "      <td>0.430939</td>\n",
       "      <td>-22.147770</td>\n",
       "    </tr>\n",
       "    <tr>\n",
       "      <th>25%</th>\n",
       "      <td>0.000000</td>\n",
       "      <td>665.213600</td>\n",
       "      <td>207.054819</td>\n",
       "      <td>2.680277</td>\n",
       "      <td>0.314622</td>\n",
       "    </tr>\n",
       "    <tr>\n",
       "      <th>50%</th>\n",
       "      <td>0.000000</td>\n",
       "      <td>1303.684825</td>\n",
       "      <td>399.899340</td>\n",
       "      <td>5.808215</td>\n",
       "      <td>1.103416</td>\n",
       "    </tr>\n",
       "    <tr>\n",
       "      <th>75%</th>\n",
       "      <td>0.000000</td>\n",
       "      <td>1931.309743</td>\n",
       "      <td>648.215096</td>\n",
       "      <td>16.846048</td>\n",
       "      <td>2.867160</td>\n",
       "    </tr>\n",
       "    <tr>\n",
       "      <th>max</th>\n",
       "      <td>75064.453355</td>\n",
       "      <td>2833.543221</td>\n",
       "      <td>2390.730720</td>\n",
       "      <td>26396.106087</td>\n",
       "      <td>19764.494141</td>\n",
       "    </tr>\n",
       "  </tbody>\n",
       "</table>"
      ],
      "text/plain": [
       "<IPython.core.display.HTML object>"
      ]
     },
     "metadata": {},
     "output_type": "display_data"
    }
   ],
   "source": [
    "display( HTML( R1H0Wb.describe().to_html() ))"
   ]
  },
  {
   "cell_type": "code",
   "execution_count": 14,
   "metadata": {},
   "outputs": [],
   "source": [
    "Tot_Prec = R1H0Wb[\"Tot_Prec\"].sum()\n",
    "Tot_AET = R1H0Wb[\"Tot_AET\"].sum()\n",
    "Tot_Re = R1H0Wb[\"Tot_Re\"].sum()\n",
    "Tot_RO = R1H0Wb[\"Tot_RO\"].sum()\n",
    "Tot_PET = R1H0Wb[\"Tot_PET\"].sum()"
   ]
  },
  {
   "cell_type": "code",
   "execution_count": 15,
   "metadata": {},
   "outputs": [
    {
     "data": {
      "text/plain": [
       "(27504893.409287475, 27521680.4147429, -16787.005455423146)"
      ]
     },
     "execution_count": 15,
     "metadata": {},
     "output_type": "execute_result"
    }
   ],
   "source": [
    "CompTot = Tot_AET + Tot_Re + Tot_RO\n",
    "Dsmoist = Tot_Prec - CompTot\n",
    "Adj_AET = Tot_AET + Dsmoist\n",
    "Tot_Prec, CompTot, Tot_Prec - CompTot"
   ]
  },
  {
   "cell_type": "code",
   "execution_count": 16,
   "metadata": {},
   "outputs": [
    {
     "data": {
      "text/plain": [
       "0.0"
      ]
     },
     "execution_count": 16,
     "metadata": {},
     "output_type": "execute_result"
    }
   ],
   "source": [
    "Tot_Prec - ( Adj_AET + Tot_Re + Tot_RO )"
   ]
  },
  {
   "cell_type": "code",
   "execution_count": 17,
   "metadata": {},
   "outputs": [
    {
     "data": {
      "text/plain": [
       "(27504893.409287475, 57514782.75961304)"
      ]
     },
     "execution_count": 17,
     "metadata": {},
     "output_type": "execute_result"
    }
   ],
   "source": [
    "Tot_Prec, Tot_PET"
   ]
  },
  {
   "cell_type": "code",
   "execution_count": 18,
   "metadata": {},
   "outputs": [
    {
     "data": {
      "text/plain": [
       "(-1.1049973870776058,\n",
       " 1.1024635352498677,\n",
       " -1.1045787184408056,\n",
       " 1.117225154896603)"
      ]
     },
     "execution_count": 18,
     "metadata": {},
     "output_type": "execute_result"
    },
    {
     "data": {
      "image/png": "[encoded data removed]",
      "text/plain": [
       "<Figure size 504x504 with 1 Axes>"
      ]
     },
     "metadata": {},
     "output_type": "display_data"
    }
   ],
   "source": [
    "Fig1 = plt.figure()\n",
    "Fig1.set_size_inches(7.0, 7.0)\n",
    "ax11 = Fig1.add_subplot(111)\n",
    "labels = [\"AET\", \"Re\", \"RO\"]\n",
    "sizes = [Adj_AET, Tot_Re, Tot_RO]\n",
    "colors = [\"xkcd:green\", \"xkcd:burnt orange\", \"xkcd:ocean blue\"]\n",
    "explode = ( 0, 0.0, 0.1)\n",
    "ax11.pie( sizes, explode=explode, labels=labels, colors=colors, \n",
    "          autopct='%1.1f%%', shadow=True, startangle=140 )\n",
    "ax11.axis('equal')"
   ]
  },
  {
   "cell_type": "markdown",
   "metadata": {},
   "source": [
    "### Realization 1, H1"
   ]
  },
  {
   "cell_type": "code",
   "execution_count": 19,
   "metadata": {},
   "outputs": [
    {
     "data": {
      "text/html": [
       "<table border=\"1\" class=\"dataframe\">\n",
       "  <thead>\n",
       "    <tr style=\"text-align: right;\">\n",
       "      <th></th>\n",
       "      <th>Tot_Prec</th>\n",
       "      <th>Tot_PET</th>\n",
       "      <th>Tot_AET</th>\n",
       "      <th>Tot_Re</th>\n",
       "      <th>Tot_RO</th>\n",
       "    </tr>\n",
       "  </thead>\n",
       "  <tbody>\n",
       "    <tr>\n",
       "      <th>count</th>\n",
       "      <td>44195.000000</td>\n",
       "      <td>44195.000000</td>\n",
       "      <td>44195.000000</td>\n",
       "      <td>44195.000000</td>\n",
       "      <td>44195.000000</td>\n",
       "    </tr>\n",
       "    <tr>\n",
       "      <th>mean</th>\n",
       "      <td>636.798211</td>\n",
       "      <td>1301.386645</td>\n",
       "      <td>508.187494</td>\n",
       "      <td>122.260205</td>\n",
       "      <td>6.727425</td>\n",
       "    </tr>\n",
       "    <tr>\n",
       "      <th>std</th>\n",
       "      <td>2871.833114</td>\n",
       "      <td>666.386024</td>\n",
       "      <td>434.676620</td>\n",
       "      <td>769.234882</td>\n",
       "      <td>160.204941</td>\n",
       "    </tr>\n",
       "    <tr>\n",
       "      <th>min</th>\n",
       "      <td>0.000000</td>\n",
       "      <td>52.529080</td>\n",
       "      <td>0.173023</td>\n",
       "      <td>0.430939</td>\n",
       "      <td>-22.147770</td>\n",
       "    </tr>\n",
       "    <tr>\n",
       "      <th>25%</th>\n",
       "      <td>0.000000</td>\n",
       "      <td>665.213600</td>\n",
       "      <td>197.118910</td>\n",
       "      <td>2.547547</td>\n",
       "      <td>0.221684</td>\n",
       "    </tr>\n",
       "    <tr>\n",
       "      <th>50%</th>\n",
       "      <td>0.000000</td>\n",
       "      <td>1303.684825</td>\n",
       "      <td>397.555840</td>\n",
       "      <td>5.842039</td>\n",
       "      <td>0.985931</td>\n",
       "    </tr>\n",
       "    <tr>\n",
       "      <th>75%</th>\n",
       "      <td>0.000000</td>\n",
       "      <td>1931.309743</td>\n",
       "      <td>649.870019</td>\n",
       "      <td>16.417001</td>\n",
       "      <td>2.710076</td>\n",
       "    </tr>\n",
       "    <tr>\n",
       "      <th>max</th>\n",
       "      <td>92765.310614</td>\n",
       "      <td>2833.543221</td>\n",
       "      <td>2581.653546</td>\n",
       "      <td>38057.528240</td>\n",
       "      <td>25610.347656</td>\n",
       "    </tr>\n",
       "  </tbody>\n",
       "</table>"
      ],
      "text/plain": [
       "<IPython.core.display.HTML object>"
      ]
     },
     "metadata": {},
     "output_type": "display_data"
    }
   ],
   "source": [
    "display( HTML( R1H1Wb.describe().to_html() ))"
   ]
  },
  {
   "cell_type": "code",
   "execution_count": 20,
   "metadata": {},
   "outputs": [],
   "source": [
    "Tot_Prec = R1H1Wb[\"Tot_Prec\"].sum()\n",
    "Tot_AET = R1H1Wb[\"Tot_AET\"].sum()\n",
    "Tot_Re = R1H1Wb[\"Tot_Re\"].sum()\n",
    "Tot_RO = R1H1Wb[\"Tot_RO\"].sum()\n",
    "Tot_PET = R1H1Wb[\"Tot_PET\"].sum()"
   ]
  },
  {
   "cell_type": "code",
   "execution_count": 21,
   "metadata": {},
   "outputs": [
    {
     "data": {
      "text/plain": [
       "(28143296.922713246, 28159954.60963758, -16657.686924334615)"
      ]
     },
     "execution_count": 21,
     "metadata": {},
     "output_type": "execute_result"
    }
   ],
   "source": [
    "CompTot = Tot_AET + Tot_Re + Tot_RO\n",
    "Dsmoist = Tot_Prec - CompTot\n",
    "Adj_AET = Tot_AET + Dsmoist\n",
    "Tot_Prec, CompTot, Tot_Prec - CompTot"
   ]
  },
  {
   "cell_type": "code",
   "execution_count": 22,
   "metadata": {},
   "outputs": [
    {
     "data": {
      "text/plain": [
       "-3.725290298461914e-09"
      ]
     },
     "execution_count": 22,
     "metadata": {},
     "output_type": "execute_result"
    }
   ],
   "source": [
    "Tot_Prec - ( Adj_AET + Tot_Re + Tot_RO )"
   ]
  },
  {
   "cell_type": "code",
   "execution_count": 23,
   "metadata": {},
   "outputs": [
    {
     "data": {
      "text/plain": [
       "(28143296.922713246, 57514782.75961304)"
      ]
     },
     "execution_count": 23,
     "metadata": {},
     "output_type": "execute_result"
    }
   ],
   "source": [
    "Tot_Prec, Tot_PET"
   ]
  },
  {
   "cell_type": "code",
   "execution_count": 24,
   "metadata": {},
   "outputs": [
    {
     "data": {
      "text/plain": [
       "(-1.1054344526640678,\n",
       " 1.1057107753378221,\n",
       " -1.106347836888256,\n",
       " 1.121573720933741)"
      ]
     },
     "execution_count": 24,
     "metadata": {},
     "output_type": "execute_result"
    },
    {
     "data": {
      "image/png": "[encoded data removed]",
      "text/plain": [
       "<Figure size 504x504 with 1 Axes>"
      ]
     },
     "metadata": {},
     "output_type": "display_data"
    }
   ],
   "source": [
    "Fig1 = plt.figure()\n",
    "Fig1.set_size_inches(7.0, 7.0)\n",
    "ax11 = Fig1.add_subplot(111)\n",
    "labels = [\"AET\", \"Re\", \"RO\"]\n",
    "sizes = [Adj_AET, Tot_Re, Tot_RO]\n",
    "colors = [\"xkcd:green\", \"xkcd:burnt orange\", \"xkcd:ocean blue\"]\n",
    "explode = ( 0, 0.0, 0.1)\n",
    "ax11.pie( sizes, explode=explode, labels=labels, colors=colors, \n",
    "          autopct='%1.1f%%', shadow=True, startangle=140 )\n",
    "ax11.axis('equal')"
   ]
  },
  {
   "cell_type": "markdown",
   "metadata": {},
   "source": [
    "### Realization 1, Delta"
   ]
  },
  {
   "cell_type": "code",
   "execution_count": 25,
   "metadata": {},
   "outputs": [
    {
     "data": {
      "text/html": [
       "<table border=\"1\" class=\"dataframe\">\n",
       "  <thead>\n",
       "    <tr style=\"text-align: right;\">\n",
       "      <th></th>\n",
       "      <th>Del_Prec</th>\n",
       "      <th>Del_PET</th>\n",
       "      <th>Del_AET</th>\n",
       "      <th>Del_Re</th>\n",
       "      <th>Del_RO</th>\n",
       "    </tr>\n",
       "  </thead>\n",
       "  <tbody>\n",
       "    <tr>\n",
       "      <th>count</th>\n",
       "      <td>44195.000000</td>\n",
       "      <td>44195.0</td>\n",
       "      <td>44195.000000</td>\n",
       "      <td>44195.000000</td>\n",
       "      <td>44195.000000</td>\n",
       "    </tr>\n",
       "    <tr>\n",
       "      <th>mean</th>\n",
       "      <td>14.445152</td>\n",
       "      <td>0.0</td>\n",
       "      <td>3.655914</td>\n",
       "      <td>9.713951</td>\n",
       "      <td>1.072362</td>\n",
       "    </tr>\n",
       "    <tr>\n",
       "      <th>std</th>\n",
       "      <td>667.921651</td>\n",
       "      <td>0.0</td>\n",
       "      <td>80.970985</td>\n",
       "      <td>261.352295</td>\n",
       "      <td>61.006850</td>\n",
       "    </tr>\n",
       "    <tr>\n",
       "      <th>min</th>\n",
       "      <td>-1678.176535</td>\n",
       "      <td>0.0</td>\n",
       "      <td>-814.372466</td>\n",
       "      <td>-3090.411010</td>\n",
       "      <td>-719.638107</td>\n",
       "    </tr>\n",
       "    <tr>\n",
       "      <th>25%</th>\n",
       "      <td>0.000000</td>\n",
       "      <td>0.0</td>\n",
       "      <td>-12.009759</td>\n",
       "      <td>-0.526773</td>\n",
       "      <td>-0.242373</td>\n",
       "    </tr>\n",
       "    <tr>\n",
       "      <th>50%</th>\n",
       "      <td>0.000000</td>\n",
       "      <td>0.0</td>\n",
       "      <td>0.000000</td>\n",
       "      <td>0.000000</td>\n",
       "      <td>-0.018349</td>\n",
       "    </tr>\n",
       "    <tr>\n",
       "      <th>75%</th>\n",
       "      <td>0.000000</td>\n",
       "      <td>0.0</td>\n",
       "      <td>28.159705</td>\n",
       "      <td>0.377815</td>\n",
       "      <td>0.000000</td>\n",
       "    </tr>\n",
       "    <tr>\n",
       "      <th>max</th>\n",
       "      <td>17700.857258</td>\n",
       "      <td>0.0</td>\n",
       "      <td>626.082823</td>\n",
       "      <td>15372.239143</td>\n",
       "      <td>6448.302368</td>\n",
       "    </tr>\n",
       "  </tbody>\n",
       "</table>"
      ],
      "text/plain": [
       "<IPython.core.display.HTML object>"
      ]
     },
     "metadata": {},
     "output_type": "display_data"
    }
   ],
   "source": [
    "display( HTML( R1Delta.describe().to_html() ))"
   ]
  },
  {
   "cell_type": "markdown",
   "metadata": {},
   "source": [
    "### Realization 2, H0"
   ]
  },
  {
   "cell_type": "code",
   "execution_count": 26,
   "metadata": {},
   "outputs": [
    {
     "data": {
      "text/html": [
       "<table border=\"1\" class=\"dataframe\">\n",
       "  <thead>\n",
       "    <tr style=\"text-align: right;\">\n",
       "      <th></th>\n",
       "      <th>Tot_Prec</th>\n",
       "      <th>Tot_PET</th>\n",
       "      <th>Tot_AET</th>\n",
       "      <th>Tot_Re</th>\n",
       "      <th>Tot_RO</th>\n",
       "    </tr>\n",
       "  </thead>\n",
       "  <tbody>\n",
       "    <tr>\n",
       "      <th>count</th>\n",
       "      <td>44195.000000</td>\n",
       "      <td>44195.000000</td>\n",
       "      <td>44195.000000</td>\n",
       "      <td>44195.000000</td>\n",
       "      <td>44195.000000</td>\n",
       "    </tr>\n",
       "    <tr>\n",
       "      <th>mean</th>\n",
       "      <td>643.087666</td>\n",
       "      <td>1299.716541</td>\n",
       "      <td>509.871912</td>\n",
       "      <td>124.545052</td>\n",
       "      <td>8.776176</td>\n",
       "    </tr>\n",
       "    <tr>\n",
       "      <th>std</th>\n",
       "      <td>2561.543242</td>\n",
       "      <td>667.700538</td>\n",
       "      <td>410.380088</td>\n",
       "      <td>652.772894</td>\n",
       "      <td>127.386597</td>\n",
       "    </tr>\n",
       "    <tr>\n",
       "      <th>min</th>\n",
       "      <td>0.000000</td>\n",
       "      <td>53.300822</td>\n",
       "      <td>0.184706</td>\n",
       "      <td>0.387589</td>\n",
       "      <td>-22.147774</td>\n",
       "    </tr>\n",
       "    <tr>\n",
       "      <th>25%</th>\n",
       "      <td>0.000000</td>\n",
       "      <td>660.830988</td>\n",
       "      <td>219.400347</td>\n",
       "      <td>3.282665</td>\n",
       "      <td>0.453749</td>\n",
       "    </tr>\n",
       "    <tr>\n",
       "      <th>50%</th>\n",
       "      <td>0.000000</td>\n",
       "      <td>1296.521096</td>\n",
       "      <td>408.584790</td>\n",
       "      <td>7.447841</td>\n",
       "      <td>1.462114</td>\n",
       "    </tr>\n",
       "    <tr>\n",
       "      <th>75%</th>\n",
       "      <td>0.000000</td>\n",
       "      <td>1934.048991</td>\n",
       "      <td>653.205507</td>\n",
       "      <td>21.317627</td>\n",
       "      <td>3.817456</td>\n",
       "    </tr>\n",
       "    <tr>\n",
       "      <th>max</th>\n",
       "      <td>80900.326773</td>\n",
       "      <td>2847.406725</td>\n",
       "      <td>2426.767290</td>\n",
       "      <td>24258.473075</td>\n",
       "      <td>12803.340820</td>\n",
       "    </tr>\n",
       "  </tbody>\n",
       "</table>"
      ],
      "text/plain": [
       "<IPython.core.display.HTML object>"
      ]
     },
     "metadata": {},
     "output_type": "display_data"
    }
   ],
   "source": [
    "display( HTML( R2H0Wb.describe().to_html() ))"
   ]
  },
  {
   "cell_type": "code",
   "execution_count": 27,
   "metadata": {},
   "outputs": [],
   "source": [
    "Tot_Prec = R2H0Wb[\"Tot_Prec\"].sum()\n",
    "Tot_AET = R2H0Wb[\"Tot_AET\"].sum()\n",
    "Tot_Re = R2H0Wb[\"Tot_Re\"].sum()\n",
    "Tot_RO = R2H0Wb[\"Tot_RO\"].sum()\n",
    "Tot_PET = R2H0Wb[\"Tot_PET\"].sum()"
   ]
  },
  {
   "cell_type": "code",
   "execution_count": 28,
   "metadata": {},
   "outputs": [
    {
     "data": {
      "text/plain": [
       "(28421259.420215994, 28425920.813258067, -4661.393042072654)"
      ]
     },
     "execution_count": 28,
     "metadata": {},
     "output_type": "execute_result"
    }
   ],
   "source": [
    "CompTot = Tot_AET + Tot_Re + Tot_RO\n",
    "Dsmoist = Tot_Prec - CompTot\n",
    "Adj_AET = Tot_AET + Dsmoist\n",
    "Tot_Prec, CompTot, Tot_Prec - CompTot"
   ]
  },
  {
   "cell_type": "code",
   "execution_count": 29,
   "metadata": {},
   "outputs": [
    {
     "data": {
      "text/plain": [
       "0.0"
      ]
     },
     "execution_count": 29,
     "metadata": {},
     "output_type": "execute_result"
    }
   ],
   "source": [
    "Tot_Prec - ( Adj_AET + Tot_Re + Tot_RO )"
   ]
  },
  {
   "cell_type": "code",
   "execution_count": 30,
   "metadata": {},
   "outputs": [
    {
     "data": {
      "text/plain": [
       "(28421259.420215994, 57440972.54969633)"
      ]
     },
     "execution_count": 30,
     "metadata": {},
     "output_type": "execute_result"
    }
   ],
   "source": [
    "Tot_Prec, Tot_PET"
   ]
  },
  {
   "cell_type": "code",
   "execution_count": 31,
   "metadata": {},
   "outputs": [
    {
     "data": {
      "text/plain": [
       "(-1.1055145143680256,\n",
       " 1.105909532491695,\n",
       " -1.1065810217254595,\n",
       " 1.1216802303247924)"
      ]
     },
     "execution_count": 31,
     "metadata": {},
     "output_type": "execute_result"
    },
    {
     "data": {
      "image/png": "[encoded data removed]",
      "text/plain": [
       "<Figure size 504x504 with 1 Axes>"
      ]
     },
     "metadata": {},
     "output_type": "display_data"
    }
   ],
   "source": [
    "Fig1 = plt.figure()\n",
    "Fig1.set_size_inches(7.0, 7.0)\n",
    "ax11 = Fig1.add_subplot(111)\n",
    "labels = [\"AET\", \"Re\", \"RO\"]\n",
    "sizes = [Adj_AET, Tot_Re, Tot_RO]\n",
    "colors = [\"xkcd:green\", \"xkcd:burnt orange\", \"xkcd:ocean blue\"]\n",
    "explode = ( 0, 0.0, 0.1)\n",
    "ax11.pie( sizes, explode=explode, labels=labels, colors=colors, \n",
    "          autopct='%1.1f%%', shadow=True, startangle=140 )\n",
    "ax11.axis('equal')"
   ]
  },
  {
   "cell_type": "markdown",
   "metadata": {},
   "source": [
    "### Realization 2, H1"
   ]
  },
  {
   "cell_type": "code",
   "execution_count": 32,
   "metadata": {},
   "outputs": [
    {
     "data": {
      "text/html": [
       "<table border=\"1\" class=\"dataframe\">\n",
       "  <thead>\n",
       "    <tr style=\"text-align: right;\">\n",
       "      <th></th>\n",
       "      <th>Tot_Prec</th>\n",
       "      <th>Tot_PET</th>\n",
       "      <th>Tot_AET</th>\n",
       "      <th>Tot_Re</th>\n",
       "      <th>Tot_RO</th>\n",
       "    </tr>\n",
       "  </thead>\n",
       "  <tbody>\n",
       "    <tr>\n",
       "      <th>count</th>\n",
       "      <td>44195.000000</td>\n",
       "      <td>44195.000000</td>\n",
       "      <td>44195.000000</td>\n",
       "      <td>44195.000000</td>\n",
       "      <td>44195.000000</td>\n",
       "    </tr>\n",
       "    <tr>\n",
       "      <th>mean</th>\n",
       "      <td>662.706647</td>\n",
       "      <td>1299.716541</td>\n",
       "      <td>513.607754</td>\n",
       "      <td>137.127134</td>\n",
       "      <td>12.107702</td>\n",
       "    </tr>\n",
       "    <tr>\n",
       "      <th>std</th>\n",
       "      <td>3057.542650</td>\n",
       "      <td>667.700538</td>\n",
       "      <td>428.639158</td>\n",
       "      <td>852.358892</td>\n",
       "      <td>222.679004</td>\n",
       "    </tr>\n",
       "    <tr>\n",
       "      <th>min</th>\n",
       "      <td>0.000000</td>\n",
       "      <td>53.300822</td>\n",
       "      <td>0.184706</td>\n",
       "      <td>0.390590</td>\n",
       "      <td>-22.147774</td>\n",
       "    </tr>\n",
       "    <tr>\n",
       "      <th>25%</th>\n",
       "      <td>0.000000</td>\n",
       "      <td>660.830988</td>\n",
       "      <td>211.922602</td>\n",
       "      <td>3.156825</td>\n",
       "      <td>0.345104</td>\n",
       "    </tr>\n",
       "    <tr>\n",
       "      <th>50%</th>\n",
       "      <td>0.000000</td>\n",
       "      <td>1296.521096</td>\n",
       "      <td>408.664552</td>\n",
       "      <td>7.497166</td>\n",
       "      <td>1.348595</td>\n",
       "    </tr>\n",
       "    <tr>\n",
       "      <th>75%</th>\n",
       "      <td>0.000000</td>\n",
       "      <td>1934.048991</td>\n",
       "      <td>652.992831</td>\n",
       "      <td>21.641052</td>\n",
       "      <td>3.824335</td>\n",
       "    </tr>\n",
       "    <tr>\n",
       "      <th>max</th>\n",
       "      <td>98563.850541</td>\n",
       "      <td>2847.406725</td>\n",
       "      <td>2631.566455</td>\n",
       "      <td>30041.339142</td>\n",
       "      <td>22606.013672</td>\n",
       "    </tr>\n",
       "  </tbody>\n",
       "</table>"
      ],
      "text/plain": [
       "<IPython.core.display.HTML object>"
      ]
     },
     "metadata": {},
     "output_type": "display_data"
    }
   ],
   "source": [
    "display( HTML( R2H1Wb.describe().to_html() ))"
   ]
  },
  {
   "cell_type": "code",
   "execution_count": 33,
   "metadata": {},
   "outputs": [],
   "source": [
    "Tot_Prec = R2H1Wb[\"Tot_Prec\"].sum()\n",
    "Tot_AET = R2H1Wb[\"Tot_AET\"].sum()\n",
    "Tot_Re = R2H1Wb[\"Tot_Re\"].sum()\n",
    "Tot_RO = R2H1Wb[\"Tot_RO\"].sum()\n",
    "Tot_PET = R2H1Wb[\"Tot_PET\"].sum()"
   ]
  },
  {
   "cell_type": "code",
   "execution_count": 34,
   "metadata": {},
   "outputs": [
    {
     "data": {
      "text/plain": [
       "(29288320.26795473, 29294328.206965506, -6007.939010776579)"
      ]
     },
     "execution_count": 34,
     "metadata": {},
     "output_type": "execute_result"
    }
   ],
   "source": [
    "CompTot = Tot_AET + Tot_Re + Tot_RO\n",
    "Dsmoist = Tot_Prec - CompTot\n",
    "Adj_AET = Tot_AET + Dsmoist\n",
    "Tot_Prec, CompTot, Tot_Prec - CompTot"
   ]
  },
  {
   "cell_type": "code",
   "execution_count": 35,
   "metadata": {},
   "outputs": [
    {
     "data": {
      "text/plain": [
       "0.0"
      ]
     },
     "execution_count": 35,
     "metadata": {},
     "output_type": "execute_result"
    }
   ],
   "source": [
    "Tot_Prec - ( Adj_AET + Tot_Re + Tot_RO )"
   ]
  },
  {
   "cell_type": "code",
   "execution_count": 36,
   "metadata": {},
   "outputs": [
    {
     "data": {
      "text/plain": [
       "(29288320.26795473, 57440972.54969633)"
      ]
     },
     "execution_count": 36,
     "metadata": {},
     "output_type": "execute_result"
    }
   ],
   "source": [
    "Tot_Prec, Tot_PET"
   ]
  },
  {
   "cell_type": "code",
   "execution_count": 37,
   "metadata": {},
   "outputs": [
    {
     "data": {
      "text/plain": [
       "(-1.1055876226232764,\n",
       " 1.1055507353715046,\n",
       " -1.10553954694945,\n",
       " 1.1188206082320054)"
      ]
     },
     "execution_count": 37,
     "metadata": {},
     "output_type": "execute_result"
    },
    {
     "data": {
      "image/png": "[encoded data removed]",
      "text/plain": [
       "<Figure size 504x504 with 1 Axes>"
      ]
     },
     "metadata": {},
     "output_type": "display_data"
    }
   ],
   "source": [
    "Fig1 = plt.figure()\n",
    "Fig1.set_size_inches(7.0, 7.0)\n",
    "ax11 = Fig1.add_subplot(111)\n",
    "labels = [\"AET\", \"Re\", \"RO\"]\n",
    "sizes = [Adj_AET, Tot_Re, Tot_RO]\n",
    "colors = [\"xkcd:green\", \"xkcd:burnt orange\", \"xkcd:ocean blue\"]\n",
    "explode = ( 0, 0.0, 0.1)\n",
    "ax11.pie( sizes, explode=explode, labels=labels, colors=colors, \n",
    "          autopct='%1.1f%%', shadow=True, startangle=140 )\n",
    "ax11.axis('equal')"
   ]
  },
  {
   "cell_type": "markdown",
   "metadata": {},
   "source": [
    "### Realization 2, Delta"
   ]
  },
  {
   "cell_type": "code",
   "execution_count": 38,
   "metadata": {},
   "outputs": [
    {
     "data": {
      "text/html": [
       "<table border=\"1\" class=\"dataframe\">\n",
       "  <thead>\n",
       "    <tr style=\"text-align: right;\">\n",
       "      <th></th>\n",
       "      <th>Del_Prec</th>\n",
       "      <th>Del_PET</th>\n",
       "      <th>Del_AET</th>\n",
       "      <th>Del_Re</th>\n",
       "      <th>Del_RO</th>\n",
       "    </tr>\n",
       "  </thead>\n",
       "  <tbody>\n",
       "    <tr>\n",
       "      <th>count</th>\n",
       "      <td>44195.000000</td>\n",
       "      <td>44195.0</td>\n",
       "      <td>44195.000000</td>\n",
       "      <td>44195.000000</td>\n",
       "      <td>44195.000000</td>\n",
       "    </tr>\n",
       "    <tr>\n",
       "      <th>mean</th>\n",
       "      <td>19.618981</td>\n",
       "      <td>0.0</td>\n",
       "      <td>3.735842</td>\n",
       "      <td>12.582081</td>\n",
       "      <td>3.331526</td>\n",
       "    </tr>\n",
       "    <tr>\n",
       "      <th>std</th>\n",
       "      <td>728.538217</td>\n",
       "      <td>0.0</td>\n",
       "      <td>81.699204</td>\n",
       "      <td>307.023763</td>\n",
       "      <td>134.990289</td>\n",
       "    </tr>\n",
       "    <tr>\n",
       "      <th>min</th>\n",
       "      <td>-1674.617918</td>\n",
       "      <td>0.0</td>\n",
       "      <td>-1261.978150</td>\n",
       "      <td>-3691.318185</td>\n",
       "      <td>-5510.968262</td>\n",
       "    </tr>\n",
       "    <tr>\n",
       "      <th>25%</th>\n",
       "      <td>0.000000</td>\n",
       "      <td>0.0</td>\n",
       "      <td>-12.621768</td>\n",
       "      <td>-0.454560</td>\n",
       "      <td>-0.227975</td>\n",
       "    </tr>\n",
       "    <tr>\n",
       "      <th>50%</th>\n",
       "      <td>0.000000</td>\n",
       "      <td>0.0</td>\n",
       "      <td>0.000000</td>\n",
       "      <td>0.000000</td>\n",
       "      <td>0.000000</td>\n",
       "    </tr>\n",
       "    <tr>\n",
       "      <th>75%</th>\n",
       "      <td>0.000000</td>\n",
       "      <td>0.0</td>\n",
       "      <td>29.077770</td>\n",
       "      <td>0.739023</td>\n",
       "      <td>0.058753</td>\n",
       "    </tr>\n",
       "    <tr>\n",
       "      <th>max</th>\n",
       "      <td>17663.523767</td>\n",
       "      <td>0.0</td>\n",
       "      <td>639.614160</td>\n",
       "      <td>13344.305300</td>\n",
       "      <td>15649.109436</td>\n",
       "    </tr>\n",
       "  </tbody>\n",
       "</table>"
      ],
      "text/plain": [
       "<IPython.core.display.HTML object>"
      ]
     },
     "metadata": {},
     "output_type": "display_data"
    }
   ],
   "source": [
    "display( HTML( R2Delta.describe().to_html() ))"
   ]
  },
  {
   "cell_type": "code",
   "execution_count": null,
   "metadata": {},
   "outputs": [],
   "source": []
  }
 ],
 "metadata": {
  "kernelspec": {
   "display_name": "Python 3",
   "language": "python",
   "name": "python3"
  },
  "language_info": {
   "codemirror_mode": {
    "name": "ipython",
    "version": 3
   },
   "file_extension": ".py",
   "mimetype": "text/x-python",
   "name": "python",
   "nbconvert_exporter": "python",
   "pygments_lexer": "ipython3",
   "version": "3.7.7"
  }
 },
 "nbformat": 4,
 "nbformat_minor": 4
}
