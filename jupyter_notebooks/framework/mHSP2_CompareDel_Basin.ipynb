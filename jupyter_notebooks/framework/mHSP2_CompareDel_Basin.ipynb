{
 "cells": [
  {
   "cell_type": "markdown",
   "metadata": {},
   "source": [
    "# Compare Basin $\\Delta$"
   ]
  },
  {
   "cell_type": "markdown",
   "metadata": {},
   "source": [
    "Compare the deltas among the impacted flow paths with basin changes versus those without. \n",
    "\n",
    "HRU #1 and #2 are impacted. These runoff to Reach #1 which is routed to Reach #2 - Reach #3 - Reach #4 - Reach #5."
   ]
  },
  {
   "cell_type": "markdown",
   "metadata": {},
   "source": [
    "# Parameters and Imports"
   ]
  },
  {
   "cell_type": "code",
   "execution_count": 1,
   "metadata": {},
   "outputs": [],
   "source": [
    "%matplotlib inline"
   ]
  },
  {
   "cell_type": "code",
   "execution_count": 2,
   "metadata": {},
   "outputs": [],
   "source": [
    "from IPython.display import display, HTML\n",
    "import numpy as np\n",
    "import pandas as pd\n",
    "import datetime as dt\n",
    "import matplotlib as mpl\n",
    "import matplotlib.pyplot as plt\n",
    "import os\n",
    "import pickle\n",
    "import seaborn as sns\n",
    "from copy import deepcopy"
   ]
  },
  {
   "cell_type": "code",
   "execution_count": 3,
   "metadata": {},
   "outputs": [],
   "source": [
    "IN_DIR = r'C:\\Users\\nmart\\OneDrive\\CC_IRD\\Process_Results'\n",
    "#IN_DIR = r'\\\\augustine.space.swri.edu\\jdrive\\Groundwater\\R8937_Stochastic_CC_Recharge\\NumModel\\HSPF\\Bas' \\\n",
    "#          r'in_10P_10K\\Processed'\n",
    "BAS_SIM_ROOT = \"Del_%s_DCmHBas_HRUs_\"\n",
    "REG_SIM_ROOT = \"Del_%s_DCmH_HRUs_\"\n",
    "XLSX_ROOT = \"%s_ProcessMonthly_Stats.xlsx\""
   ]
  },
  {
   "cell_type": "code",
   "execution_count": 4,
   "metadata": {},
   "outputs": [],
   "source": [
    "HRUs = [ \"HR1\", \"HR2\" ]\n",
    "RRs = [ \"RR1\", \"RR2\", \"RR3\", \"RR4\", \"RR5\" ]"
   ]
  },
  {
   "cell_type": "code",
   "execution_count": 5,
   "metadata": {},
   "outputs": [],
   "source": [
    "OUT_DIR = IN_DIR\n",
    "#OUT_DIR = r'\\\\augustine.space.swri.edu\\jdrive\\Groundwater\\R8937_Stochastic_CC_Recharge\\NumModel\\HSPF\\Bas' \\\n",
    "#          r'in_10P_10K\\Processed\\Outputs'"
   ]
  },
  {
   "cell_type": "code",
   "execution_count": 6,
   "metadata": {},
   "outputs": [],
   "source": [
    "SM_NUM = 16"
   ]
  },
  {
   "cell_type": "code",
   "execution_count": 7,
   "metadata": {},
   "outputs": [],
   "source": [
    "# time periods\n",
    "TP_DICT = { 1 : [ dt.datetime(1981, 1, 1), dt.datetime(2010, 12, 31)],\n",
    "            2 : [ dt.datetime(2011, 1, 1), dt.datetime(2040, 12, 31)],\n",
    "            3 : [ dt.datetime(2041, 1, 1), dt.datetime(2070, 12, 31)],\n",
    "            4 : [ dt.datetime(2071, 1, 1), dt.datetime(2100, 12, 31)],}"
   ]
  },
  {
   "cell_type": "code",
   "execution_count": 8,
   "metadata": {},
   "outputs": [
    {
     "data": {
      "text/plain": [
       "101"
      ]
     },
     "execution_count": 8,
     "metadata": {},
     "output_type": "execute_result"
    }
   ],
   "source": [
    "OurQs = np.array( [ round( 0.01 * x, 2 ) for x in range(101) ], dtype=np.float32 )\n",
    "NumQs = len( OurQs )\n",
    "NumQs"
   ]
  },
  {
   "cell_type": "code",
   "execution_count": 9,
   "metadata": {},
   "outputs": [],
   "source": [
    "StatsHdsList = list()\n",
    "for iI in range(NumQs):\n",
    "    cQ = OurQs[iI]\n",
    "    Hdr = \"%d_ptile\" % round(cQ * 100.0)\n",
    "    StatsHdsList.append( Hdr )\n",
    "# end of for\n",
    "StatsHdsList.append( \"Average\" )\n",
    "StatsHdsList.append( \"Variance\" )\n",
    "StatsHdsList.append( \"Skew\" )\n",
    "StatsHdsList.append( \"Kurt\" )"
   ]
  },
  {
   "cell_type": "code",
   "execution_count": 10,
   "metadata": {},
   "outputs": [
    {
     "data": {
      "text/plain": [
       "105"
      ]
     },
     "execution_count": 10,
     "metadata": {},
     "output_type": "execute_result"
    }
   ],
   "source": [
    "NumHdrs = len( StatsHdsList )\n",
    "NumHdrs"
   ]
  },
  {
   "cell_type": "code",
   "execution_count": 11,
   "metadata": {},
   "outputs": [],
   "source": [
    "RdHds = deepcopy( StatsHdsList )\n",
    "RdHds.insert( 0, \"Date\" )"
   ]
  },
  {
   "cell_type": "markdown",
   "metadata": {},
   "source": [
    "## Load Results"
   ]
  },
  {
   "cell_type": "markdown",
   "metadata": {},
   "source": [
    "Start with HRU 1"
   ]
  },
  {
   "cell_type": "code",
   "execution_count": 12,
   "metadata": {},
   "outputs": [],
   "source": [
    "InFiler = os.path.normpath( os.path.join( IN_DIR, XLSX_ROOT % ( BAS_SIM_ROOT % HRUs[0] ) ) )\n",
    "HR1_2_AET = pd.read_excel( InFiler, sheet_name=\"AET_2\", header=0, names=RdHds, index_col=0, parse_dates=True )\n",
    "HR1_3_AET = pd.read_excel( InFiler, sheet_name=\"AET_3\", header=0, names=RdHds, index_col=0, parse_dates=True )\n",
    "HR1_4_AET = pd.read_excel( InFiler, sheet_name=\"AET_4\", header=0, names=RdHds, index_col=0, parse_dates=True )\n",
    "HR1_2_RO = pd.read_excel( InFiler, sheet_name=\"RO_2\", header=0, names=RdHds, index_col=0, parse_dates=True )\n",
    "HR1_3_RO = pd.read_excel( InFiler, sheet_name=\"RO_3\", header=0, names=RdHds, index_col=0, parse_dates=True )\n",
    "HR1_4_RO = pd.read_excel( InFiler, sheet_name=\"RO_4\", header=0, names=RdHds, index_col=0, parse_dates=True )\n",
    "HR1_2_RE = pd.read_excel( InFiler, sheet_name=\"RE_2\", header=0, names=RdHds, index_col=0, parse_dates=True )\n",
    "HR1_3_RE = pd.read_excel( InFiler, sheet_name=\"RE_3\", header=0, names=RdHds, index_col=0, parse_dates=True )\n",
    "HR1_4_RE = pd.read_excel( InFiler, sheet_name=\"RE_4\", header=0, names=RdHds, index_col=0, parse_dates=True )"
   ]
  },
  {
   "cell_type": "markdown",
   "metadata": {},
   "source": [
    "HRU 2"
   ]
  },
  {
   "cell_type": "code",
   "execution_count": 13,
   "metadata": {},
   "outputs": [],
   "source": [
    "InFiler = os.path.normpath( os.path.join( IN_DIR, XLSX_ROOT % ( BAS_SIM_ROOT % HRUs[1] ) ) )\n",
    "HR2_2_AET = pd.read_excel( InFiler, sheet_name=\"AET_2\", header=0, names=RdHds, index_col=0, parse_dates=True )\n",
    "HR2_3_AET = pd.read_excel( InFiler, sheet_name=\"AET_3\", header=0, names=RdHds, index_col=0, parse_dates=True )\n",
    "HR2_4_AET = pd.read_excel( InFiler, sheet_name=\"AET_4\", header=0, names=RdHds, index_col=0, parse_dates=True )\n",
    "HR2_2_RO = pd.read_excel( InFiler, sheet_name=\"RO_2\", header=0, names=RdHds, index_col=0, parse_dates=True )\n",
    "HR2_3_RO = pd.read_excel( InFiler, sheet_name=\"RO_3\", header=0, names=RdHds, index_col=0, parse_dates=True )\n",
    "HR2_4_RO = pd.read_excel( InFiler, sheet_name=\"RO_4\", header=0, names=RdHds, index_col=0, parse_dates=True )\n",
    "HR2_2_RE = pd.read_excel( InFiler, sheet_name=\"RE_2\", header=0, names=RdHds, index_col=0, parse_dates=True )\n",
    "HR2_3_RE = pd.read_excel( InFiler, sheet_name=\"RE_3\", header=0, names=RdHds, index_col=0, parse_dates=True )\n",
    "HR2_4_RE = pd.read_excel( InFiler, sheet_name=\"RE_4\", header=0, names=RdHds, index_col=0, parse_dates=True )"
   ]
  },
  {
   "cell_type": "markdown",
   "metadata": {},
   "source": [
    "RR 1"
   ]
  },
  {
   "cell_type": "code",
   "execution_count": 14,
   "metadata": {},
   "outputs": [],
   "source": [
    "InFiler = os.path.normpath( os.path.join( IN_DIR, XLSX_ROOT % ( BAS_SIM_ROOT % RRs[0] ) ) )\n",
    "RR1_2_AET = pd.read_excel( InFiler, sheet_name=\"AET_2\", header=0, names=RdHds, index_col=0, parse_dates=True )\n",
    "RR1_3_AET = pd.read_excel( InFiler, sheet_name=\"AET_3\", header=0, names=RdHds, index_col=0, parse_dates=True )\n",
    "RR1_4_AET = pd.read_excel( InFiler, sheet_name=\"AET_4\", header=0, names=RdHds, index_col=0, parse_dates=True )\n",
    "RR1_2_RO = pd.read_excel( InFiler, sheet_name=\"RO_2\", header=0, names=RdHds, index_col=0, parse_dates=True )\n",
    "RR1_3_RO = pd.read_excel( InFiler, sheet_name=\"RO_3\", header=0, names=RdHds, index_col=0, parse_dates=True )\n",
    "RR1_4_RO = pd.read_excel( InFiler, sheet_name=\"RO_4\", header=0, names=RdHds, index_col=0, parse_dates=True )\n",
    "RR1_2_RE = pd.read_excel( InFiler, sheet_name=\"RE_2\", header=0, names=RdHds, index_col=0, parse_dates=True )\n",
    "RR1_3_RE = pd.read_excel( InFiler, sheet_name=\"RE_3\", header=0, names=RdHds, index_col=0, parse_dates=True )\n",
    "RR1_4_RE = pd.read_excel( InFiler, sheet_name=\"RE_4\", header=0, names=RdHds, index_col=0, parse_dates=True )"
   ]
  },
  {
   "cell_type": "markdown",
   "metadata": {},
   "source": [
    "RR 2"
   ]
  },
  {
   "cell_type": "code",
   "execution_count": 15,
   "metadata": {},
   "outputs": [],
   "source": [
    "InFiler = os.path.normpath( os.path.join( IN_DIR, XLSX_ROOT % ( BAS_SIM_ROOT % RRs[1] ) ) )\n",
    "RR2_2_AET = pd.read_excel( InFiler, sheet_name=\"AET_2\", header=0, names=RdHds, index_col=0, parse_dates=True )\n",
    "RR2_3_AET = pd.read_excel( InFiler, sheet_name=\"AET_3\", header=0, names=RdHds, index_col=0, parse_dates=True )\n",
    "RR2_4_AET = pd.read_excel( InFiler, sheet_name=\"AET_4\", header=0, names=RdHds, index_col=0, parse_dates=True )\n",
    "RR2_2_RO = pd.read_excel( InFiler, sheet_name=\"RO_2\", header=0, names=RdHds, index_col=0, parse_dates=True )\n",
    "RR2_3_RO = pd.read_excel( InFiler, sheet_name=\"RO_3\", header=0, names=RdHds, index_col=0, parse_dates=True )\n",
    "RR2_4_RO = pd.read_excel( InFiler, sheet_name=\"RO_4\", header=0, names=RdHds, index_col=0, parse_dates=True )\n",
    "RR2_2_RE = pd.read_excel( InFiler, sheet_name=\"RE_2\", header=0, names=RdHds, index_col=0, parse_dates=True )\n",
    "RR2_3_RE = pd.read_excel( InFiler, sheet_name=\"RE_3\", header=0, names=RdHds, index_col=0, parse_dates=True )\n",
    "RR2_4_RE = pd.read_excel( InFiler, sheet_name=\"RE_4\", header=0, names=RdHds, index_col=0, parse_dates=True )"
   ]
  },
  {
   "cell_type": "markdown",
   "metadata": {},
   "source": [
    "RR 3"
   ]
  },
  {
   "cell_type": "code",
   "execution_count": 16,
   "metadata": {},
   "outputs": [],
   "source": [
    "InFiler = os.path.normpath( os.path.join( IN_DIR, XLSX_ROOT % ( BAS_SIM_ROOT % RRs[2] ) ) )\n",
    "RR3_2_AET = pd.read_excel( InFiler, sheet_name=\"AET_2\", header=0, names=RdHds, index_col=0, parse_dates=True )\n",
    "RR3_3_AET = pd.read_excel( InFiler, sheet_name=\"AET_3\", header=0, names=RdHds, index_col=0, parse_dates=True )\n",
    "RR3_4_AET = pd.read_excel( InFiler, sheet_name=\"AET_4\", header=0, names=RdHds, index_col=0, parse_dates=True )\n",
    "RR3_2_RO = pd.read_excel( InFiler, sheet_name=\"RO_2\", header=0, names=RdHds, index_col=0, parse_dates=True )\n",
    "RR3_3_RO = pd.read_excel( InFiler, sheet_name=\"RO_3\", header=0, names=RdHds, index_col=0, parse_dates=True )\n",
    "RR3_4_RO = pd.read_excel( InFiler, sheet_name=\"RO_4\", header=0, names=RdHds, index_col=0, parse_dates=True )\n",
    "RR3_2_RE = pd.read_excel( InFiler, sheet_name=\"RE_2\", header=0, names=RdHds, index_col=0, parse_dates=True )\n",
    "RR3_3_RE = pd.read_excel( InFiler, sheet_name=\"RE_3\", header=0, names=RdHds, index_col=0, parse_dates=True )\n",
    "RR3_4_RE = pd.read_excel( InFiler, sheet_name=\"RE_4\", header=0, names=RdHds, index_col=0, parse_dates=True )"
   ]
  },
  {
   "cell_type": "markdown",
   "metadata": {},
   "source": [
    "RR 4"
   ]
  },
  {
   "cell_type": "code",
   "execution_count": 17,
   "metadata": {},
   "outputs": [],
   "source": [
    "InFiler = os.path.normpath( os.path.join( IN_DIR, XLSX_ROOT % ( BAS_SIM_ROOT % RRs[3] ) ) )\n",
    "RR4_2_AET = pd.read_excel( InFiler, sheet_name=\"AET_2\", header=0, names=RdHds, index_col=0, parse_dates=True )\n",
    "RR4_3_AET = pd.read_excel( InFiler, sheet_name=\"AET_3\", header=0, names=RdHds, index_col=0, parse_dates=True )\n",
    "RR4_4_AET = pd.read_excel( InFiler, sheet_name=\"AET_4\", header=0, names=RdHds, index_col=0, parse_dates=True )\n",
    "RR4_2_RO = pd.read_excel( InFiler, sheet_name=\"RO_2\", header=0, names=RdHds, index_col=0, parse_dates=True )\n",
    "RR4_3_RO = pd.read_excel( InFiler, sheet_name=\"RO_3\", header=0, names=RdHds, index_col=0, parse_dates=True )\n",
    "RR4_4_RO = pd.read_excel( InFiler, sheet_name=\"RO_4\", header=0, names=RdHds, index_col=0, parse_dates=True )\n",
    "RR4_2_RE = pd.read_excel( InFiler, sheet_name=\"RE_2\", header=0, names=RdHds, index_col=0, parse_dates=True )\n",
    "RR4_3_RE = pd.read_excel( InFiler, sheet_name=\"RE_3\", header=0, names=RdHds, index_col=0, parse_dates=True )\n",
    "RR4_4_RE = pd.read_excel( InFiler, sheet_name=\"RE_4\", header=0, names=RdHds, index_col=0, parse_dates=True )"
   ]
  },
  {
   "cell_type": "markdown",
   "metadata": {},
   "source": [
    "RR 5"
   ]
  },
  {
   "cell_type": "code",
   "execution_count": 18,
   "metadata": {},
   "outputs": [],
   "source": [
    "InFiler = os.path.normpath( os.path.join( IN_DIR, XLSX_ROOT % ( BAS_SIM_ROOT % RRs[4] ) ) )\n",
    "RR5_2_AET = pd.read_excel( InFiler, sheet_name=\"AET_2\", header=0, names=RdHds, index_col=0, parse_dates=True )\n",
    "RR5_3_AET = pd.read_excel( InFiler, sheet_name=\"AET_3\", header=0, names=RdHds, index_col=0, parse_dates=True )\n",
    "RR5_4_AET = pd.read_excel( InFiler, sheet_name=\"AET_4\", header=0, names=RdHds, index_col=0, parse_dates=True )\n",
    "RR5_2_RO = pd.read_excel( InFiler, sheet_name=\"RO_2\", header=0, names=RdHds, index_col=0, parse_dates=True )\n",
    "RR5_3_RO = pd.read_excel( InFiler, sheet_name=\"RO_3\", header=0, names=RdHds, index_col=0, parse_dates=True )\n",
    "RR5_4_RO = pd.read_excel( InFiler, sheet_name=\"RO_4\", header=0, names=RdHds, index_col=0, parse_dates=True )"
   ]
  },
  {
   "cell_type": "markdown",
   "metadata": {},
   "source": [
    "Make DateTime lists for filling"
   ]
  },
  {
   "cell_type": "code",
   "execution_count": 19,
   "metadata": {},
   "outputs": [],
   "source": [
    "DTTL_2 = list( HR1_2_AET.index.to_pydatetime() )\n",
    "DTTL_3 = list( HR1_3_AET.index.to_pydatetime() )\n",
    "DTTL_4 = list( HR1_4_AET.index.to_pydatetime() )\n",
    "BackDTList = deepcopy( DTTL_2 )\n",
    "BackDTTL_2 = BackDTList[::-1]\n",
    "BackDTList = deepcopy( DTTL_3 )\n",
    "BackDTTL_3 = BackDTList[::-1]\n",
    "BackDTList = deepcopy( DTTL_4 )\n",
    "BackDTTL_4 = BackDTList[::-1]\n",
    "DTTimeList = deepcopy( DTTL_2 )\n",
    "DTTimeList.extend( DTTL_3 )\n",
    "DTTimeList.extend( DTTL_4 )\n",
    "DTTimeList.extend( BackDTTL_4 )\n",
    "DTTimeList.extend( BackDTTL_3 )\n",
    "DTTimeList.extend( BackDTTL_2 )"
   ]
  },
  {
   "cell_type": "markdown",
   "metadata": {},
   "source": [
    "## Plots"
   ]
  },
  {
   "cell_type": "markdown",
   "metadata": {},
   "source": [
    "### HRU 1"
   ]
  },
  {
   "cell_type": "markdown",
   "metadata": {},
   "source": [
    "Fourier smoothing"
   ]
  },
  {
   "cell_type": "code",
   "execution_count": 20,
   "metadata": {},
   "outputs": [],
   "source": [
    "rft = np.fft.rfft( HR1_2_AET[StatsHdsList[95]].to_numpy() )\n",
    "rft[SM_NUM:] = 0.0\n",
    "FF_HR1_AET_2_95 = np.fft.irfft(rft)\n",
    "rft = np.fft.rfft( HR1_3_AET[StatsHdsList[95]].to_numpy() )\n",
    "rft[SM_NUM:] = 0.0\n",
    "FF_HR1_AET_3_95 = np.fft.irfft(rft)\n",
    "rft = np.fft.rfft( HR1_4_AET[StatsHdsList[95]].to_numpy() )\n",
    "rft[SM_NUM:] = 0.0\n",
    "FF_HR1_AET_4_95 = np.fft.irfft(rft)\n",
    "rft = np.fft.rfft( HR1_2_AET[StatsHdsList[5]].to_numpy() )\n",
    "rft[SM_NUM:] = 0.0\n",
    "FF_HR1_AET_2_05 = np.fft.irfft(rft)\n",
    "rft = np.fft.rfft( HR1_3_AET[StatsHdsList[5]].to_numpy() )\n",
    "rft[SM_NUM:] = 0.0\n",
    "FF_HR1_AET_3_05 = np.fft.irfft(rft)\n",
    "rft = np.fft.rfft( HR1_4_AET[StatsHdsList[5]].to_numpy() )\n",
    "rft[SM_NUM:] = 0.0\n",
    "FF_HR1_AET_4_05 = np.fft.irfft(rft)\n",
    "rft = np.fft.rfft( HR1_2_AET[StatsHdsList[50]].to_numpy() )\n",
    "rft[SM_NUM:] = 0.0\n",
    "FF_HR1_AET_2_50 = np.fft.irfft(rft)\n",
    "rft = np.fft.rfft( HR1_3_AET[StatsHdsList[50]].to_numpy() )\n",
    "rft[SM_NUM:] = 0.0\n",
    "FF_HR1_AET_3_50 = np.fft.irfft(rft)\n",
    "rft = np.fft.rfft( HR1_4_AET[StatsHdsList[50]].to_numpy() )\n",
    "rft[SM_NUM:] = 0.0\n",
    "FF_HR1_AET_4_50 = np.fft.irfft(rft)\n",
    "rft = np.fft.rfft( HR1_2_AET[StatsHdsList[101]].to_numpy() )\n",
    "rft[SM_NUM:] = 0.0\n",
    "FF_HR1_AET_2_ME = np.fft.irfft(rft)\n",
    "rft = np.fft.rfft( HR1_3_AET[StatsHdsList[101]].to_numpy() )\n",
    "rft[SM_NUM:] = 0.0\n",
    "FF_HR1_AET_3_ME = np.fft.irfft(rft)\n",
    "rft = np.fft.rfft( HR1_4_AET[StatsHdsList[101]].to_numpy() )\n",
    "rft[SM_NUM:] = 0.0\n",
    "FF_HR1_AET_4_ME = np.fft.irfft(rft)"
   ]
  },
  {
   "cell_type": "code",
   "execution_count": 21,
   "metadata": {},
   "outputs": [],
   "source": [
    "rft = np.fft.rfft( HR1_2_RE[StatsHdsList[95]].to_numpy() )\n",
    "rft[SM_NUM:] = 0.0\n",
    "FF_HR1_RE_2_95 = np.fft.irfft(rft)\n",
    "rft = np.fft.rfft( HR1_3_RE[StatsHdsList[95]].to_numpy() )\n",
    "rft[SM_NUM:] = 0.0\n",
    "FF_HR1_RE_3_95 = np.fft.irfft(rft)\n",
    "rft = np.fft.rfft( HR1_4_RE[StatsHdsList[95]].to_numpy() )\n",
    "rft[SM_NUM:] = 0.0\n",
    "FF_HR1_RE_4_95 = np.fft.irfft(rft)\n",
    "rft = np.fft.rfft( HR1_2_RE[StatsHdsList[5]].to_numpy() )\n",
    "rft[SM_NUM:] = 0.0\n",
    "FF_HR1_RE_2_05 = np.fft.irfft(rft)\n",
    "rft = np.fft.rfft( HR1_3_RE[StatsHdsList[5]].to_numpy() )\n",
    "rft[SM_NUM:] = 0.0\n",
    "FF_HR1_RE_3_05 = np.fft.irfft(rft)\n",
    "rft = np.fft.rfft( HR1_4_RE[StatsHdsList[5]].to_numpy() )\n",
    "rft[SM_NUM:] = 0.0\n",
    "FF_HR1_RE_4_05 = np.fft.irfft(rft)\n",
    "rft = np.fft.rfft( HR1_2_RE[StatsHdsList[50]].to_numpy() )\n",
    "rft[SM_NUM:] = 0.0\n",
    "FF_HR1_RE_2_50 = np.fft.irfft(rft)\n",
    "rft = np.fft.rfft( HR1_3_RE[StatsHdsList[50]].to_numpy() )\n",
    "rft[SM_NUM:] = 0.0\n",
    "FF_HR1_RE_3_50 = np.fft.irfft(rft)\n",
    "rft = np.fft.rfft( HR1_4_RE[StatsHdsList[50]].to_numpy() )\n",
    "rft[SM_NUM:] = 0.0\n",
    "FF_HR1_RE_4_50 = np.fft.irfft(rft)\n",
    "rft = np.fft.rfft( HR1_2_RE[StatsHdsList[101]].to_numpy() )\n",
    "rft[SM_NUM:] = 0.0\n",
    "FF_HR1_RE_2_ME = np.fft.irfft(rft)\n",
    "rft = np.fft.rfft( HR1_3_RE[StatsHdsList[101]].to_numpy() )\n",
    "rft[SM_NUM:] = 0.0\n",
    "FF_HR1_RE_3_ME = np.fft.irfft(rft)\n",
    "rft = np.fft.rfft( HR1_4_RE[StatsHdsList[101]].to_numpy() )\n",
    "rft[SM_NUM:] = 0.0\n",
    "FF_HR1_RE_4_ME = np.fft.irfft(rft)"
   ]
  },
  {
   "cell_type": "code",
   "execution_count": 22,
   "metadata": {},
   "outputs": [],
   "source": [
    "rft = np.fft.rfft( HR1_2_RO[StatsHdsList[95]].to_numpy() )\n",
    "rft[SM_NUM:] = 0.0\n",
    "FF_HR1_RO_2_95 = np.fft.irfft(rft)\n",
    "rft = np.fft.rfft( HR1_3_RO[StatsHdsList[95]].to_numpy() )\n",
    "rft[SM_NUM:] = 0.0\n",
    "FF_HR1_RO_3_95 = np.fft.irfft(rft)\n",
    "rft = np.fft.rfft( HR1_4_RO[StatsHdsList[95]].to_numpy() )\n",
    "rft[SM_NUM:] = 0.0\n",
    "FF_HR1_RO_4_95 = np.fft.irfft(rft)\n",
    "rft = np.fft.rfft( HR1_2_RO[StatsHdsList[5]].to_numpy() )\n",
    "rft[SM_NUM:] = 0.0\n",
    "FF_HR1_RO_2_05 = np.fft.irfft(rft)\n",
    "rft = np.fft.rfft( HR1_3_RO[StatsHdsList[5]].to_numpy() )\n",
    "rft[SM_NUM:] = 0.0\n",
    "FF_HR1_RO_3_05 = np.fft.irfft(rft)\n",
    "rft = np.fft.rfft( HR1_4_RO[StatsHdsList[5]].to_numpy() )\n",
    "rft[SM_NUM:] = 0.0\n",
    "FF_HR1_RO_4_05 = np.fft.irfft(rft)\n",
    "rft = np.fft.rfft( HR1_2_RO[StatsHdsList[50]].to_numpy() )\n",
    "rft[SM_NUM:] = 0.0\n",
    "FF_HR1_RO_2_50 = np.fft.irfft(rft)\n",
    "rft = np.fft.rfft( HR1_3_RO[StatsHdsList[50]].to_numpy() )\n",
    "rft[SM_NUM:] = 0.0\n",
    "FF_HR1_RO_3_50 = np.fft.irfft(rft)\n",
    "rft = np.fft.rfft( HR1_4_RO[StatsHdsList[50]].to_numpy() )\n",
    "rft[SM_NUM:] = 0.0\n",
    "FF_HR1_RO_4_50 = np.fft.irfft(rft)\n",
    "rft = np.fft.rfft( HR1_2_RO[StatsHdsList[101]].to_numpy() )\n",
    "rft[SM_NUM:] = 0.0\n",
    "FF_HR1_RO_2_ME = np.fft.irfft(rft)\n",
    "rft = np.fft.rfft( HR1_3_RO[StatsHdsList[101]].to_numpy() )\n",
    "rft[SM_NUM:] = 0.0\n",
    "FF_HR1_RO_3_ME = np.fft.irfft(rft)\n",
    "rft = np.fft.rfft( HR1_4_RO[StatsHdsList[101]].to_numpy() )\n",
    "rft[SM_NUM:] = 0.0\n",
    "FF_HR1_RO_4_ME = np.fft.irfft(rft)"
   ]
  },
  {
   "cell_type": "markdown",
   "metadata": {},
   "source": [
    "Filled confidence interval areas"
   ]
  },
  {
   "cell_type": "code",
   "execution_count": 23,
   "metadata": {},
   "outputs": [],
   "source": [
    "Fil_HR1_AET_2_5 = list( FF_HR1_AET_2_05 )\n",
    "Fil_HR1_AET_3_5 = list( FF_HR1_AET_3_05 )\n",
    "Fil_HR1_AET_4_5 = list( FF_HR1_AET_4_05 )\n",
    "BackDTList = list( FF_HR1_AET_4_95 )\n",
    "Back_AET_4_95 = BackDTList[::-1]\n",
    "BackDTList = list( FF_HR1_AET_3_95 )\n",
    "Back_AET_3_95 = BackDTList[::-1]\n",
    "BackDTList = list( FF_HR1_AET_2_95 )\n",
    "Back_AET_2_95 = BackDTList[::-1]\n",
    "Fil_HR1_AET = deepcopy( Fil_HR1_AET_2_5 )\n",
    "Fil_HR1_AET.extend( Fil_HR1_AET_3_5 )\n",
    "Fil_HR1_AET.extend( Fil_HR1_AET_4_5 )\n",
    "Fil_HR1_AET.extend( Back_AET_4_95 )\n",
    "Fil_HR1_AET.extend( Back_AET_3_95 )\n",
    "Fil_HR1_AET.extend( Back_AET_2_95 )"
   ]
  },
  {
   "cell_type": "code",
   "execution_count": 24,
   "metadata": {},
   "outputs": [],
   "source": [
    "Fil_HR1_RE_2_5 = list( FF_HR1_RE_2_05 )\n",
    "Fil_HR1_RE_3_5 = list( FF_HR1_RE_3_05 )\n",
    "Fil_HR1_RE_4_5 = list( FF_HR1_RE_4_05 )\n",
    "BackDTList = list( FF_HR1_RE_4_95 )\n",
    "Back_RE_4_95 = BackDTList[::-1]\n",
    "BackDTList = list( FF_HR1_RE_3_95 )\n",
    "Back_RE_3_95 = BackDTList[::-1]\n",
    "BackDTList = list( FF_HR1_RE_2_95 )\n",
    "Back_RE_2_95 = BackDTList[::-1]\n",
    "Fil_HR1_RE = deepcopy( Fil_HR1_RE_2_5 )\n",
    "Fil_HR1_RE.extend( Fil_HR1_RE_3_5 )\n",
    "Fil_HR1_RE.extend( Fil_HR1_RE_4_5 )\n",
    "Fil_HR1_RE.extend( Back_RE_4_95 )\n",
    "Fil_HR1_RE.extend( Back_RE_3_95 )\n",
    "Fil_HR1_RE.extend( Back_RE_2_95 )"
   ]
  },
  {
   "cell_type": "code",
   "execution_count": 25,
   "metadata": {},
   "outputs": [],
   "source": [
    "Fil_HR1_RO_2_5 = list( FF_HR1_RO_2_05 )\n",
    "Fil_HR1_RO_3_5 = list( FF_HR1_RO_3_05 )\n",
    "Fil_HR1_RO_4_5 = list( FF_HR1_RO_4_05 )\n",
    "BackDTList = list( FF_HR1_RO_4_95 )\n",
    "Back_RO_4_95 = BackDTList[::-1]\n",
    "BackDTList = list( FF_HR1_RO_3_95 )\n",
    "Back_RO_3_95 = BackDTList[::-1]\n",
    "BackDTList = list( FF_HR1_RO_2_95 )\n",
    "Back_RO_2_95 = BackDTList[::-1]\n",
    "Fil_HR1_RO = deepcopy( Fil_HR1_RO_2_5 )\n",
    "Fil_HR1_RO.extend( Fil_HR1_RO_3_5 )\n",
    "Fil_HR1_RO.extend( Fil_HR1_RO_4_5 )\n",
    "Fil_HR1_RO.extend( Back_RO_4_95 )\n",
    "Fil_HR1_RO.extend( Back_RO_3_95 )\n",
    "Fil_HR1_RO.extend( Back_RO_2_95 )"
   ]
  },
  {
   "cell_type": "markdown",
   "metadata": {},
   "source": [
    "Plot"
   ]
  },
  {
   "cell_type": "code",
   "execution_count": 26,
   "metadata": {},
   "outputs": [
    {
     "data": {
      "text/plain": [
       "'C:\\\\Users\\\\nmart\\\\OneDrive\\\\CC_IRD\\\\Process_Results\\\\Plots\\\\DelBas_HR1_FF3WB.svg'"
      ]
     },
     "execution_count": 26,
     "metadata": {},
     "output_type": "execute_result"
    }
   ],
   "source": [
    "OutSVG = os.path.normpath( os.path.join( OUT_DIR, \"Plots\", \"DelBas_HR1_FF3WB.svg\" ) )\n",
    "OutSVG"
   ]
  },
  {
   "cell_type": "code",
   "execution_count": 27,
   "metadata": {},
   "outputs": [
    {
     "data": {
      "text/plain": [
       "'C:\\\\Users\\\\nmart\\\\OneDrive\\\\CC_IRD\\\\Process_Results\\\\Plots\\\\DelBas_HR1_FF3WB.png'"
      ]
     },
     "execution_count": 27,
     "metadata": {},
     "output_type": "execute_result"
    }
   ],
   "source": [
    "OutPNG = os.path.normpath( os.path.join( OUT_DIR, \"Plots\", \"DelBas_HR1_FF3WB.png\" ) )\n",
    "OutPNG"
   ]
  },
  {
   "cell_type": "code",
   "execution_count": 28,
   "metadata": {},
   "outputs": [
    {
     "data": {
      "text/plain": [
       "'C:\\\\Users\\\\nmart\\\\OneDrive\\\\CC_IRD\\\\Process_Results\\\\Plots\\\\DelBas_HR1_FF3WB.pdf'"
      ]
     },
     "execution_count": 28,
     "metadata": {},
     "output_type": "execute_result"
    }
   ],
   "source": [
    "OutPDF = os.path.normpath( os.path.join( OUT_DIR, \"Plots\", \"DelBas_HR1_FF3WB.pdf\" ) )\n",
    "OutPDF"
   ]
  },
  {
   "cell_type": "code",
   "execution_count": 32,
   "metadata": {},
   "outputs": [],
   "source": [
    "fsTicks = [ -4000.0, -2000.0, 0.0, 2000.0, 4000.0 ]"
   ]
  },
  {
   "cell_type": "code",
   "execution_count": 33,
   "metadata": {},
   "outputs": [],
   "source": [
    "xTicks = [ dt.datetime( 2010, 1, 1 ), dt.datetime( 2040, 1, 1 ), dt.datetime( 2070, 1, 1), dt.datetime( 2100, 1, 1 ) ]"
   ]
  },
  {
   "cell_type": "code",
   "execution_count": 34,
   "metadata": {},
   "outputs": [
    {
     "data": {
      "image/png": "[encoded data removed]",
      "text/plain": [
       "<Figure size 576x756 with 3 Axes>"
      ]
     },
     "metadata": {
      "needs_background": "light"
     },
     "output_type": "display_data"
    }
   ],
   "source": [
    "Fig1 = plt.figure()\n",
    "Fig1.set_size_inches(8, 10.5)\n",
    "ax31 = Fig1.add_subplot(3,1,1)\n",
    "ax31.plot( [TP_DICT[2][0], TP_DICT[2][0]], [-4000.0, 4500.0], linestyle='-',\n",
    "           linewidth=2, color='xkcd:dark orange' )\n",
    "ax31.plot( [TP_DICT[3][0], TP_DICT[3][0]], [-4000.0, 4500.0], linestyle='-',\n",
    "           linewidth=2, color='xkcd:dark orange' )\n",
    "ax31.plot( [TP_DICT[4][0], TP_DICT[4][0]], [-4000.0, 4500.0], linestyle='-',\n",
    "           linewidth=2, color='xkcd:dark orange' )\n",
    "sfF = ax31.fill( DTTimeList, Fil_HR1_AET, color='xkcd:greyish purple', alpha=0.50, \n",
    "                 label=\"5th to 95th percentile range\" )\n",
    "ax31.plot( HR1_2_AET.index, FF_HR1_AET_2_ME, linestyle='-',\n",
    "           linewidth=3, color='xkcd:blurple', label='Mean' )\n",
    "ax31.plot( HR1_3_AET.index, FF_HR1_AET_3_ME, linestyle='-',\n",
    "           linewidth=3, color='xkcd:blurple' )\n",
    "ax31.plot( HR1_4_AET.index, FF_HR1_AET_4_ME, linestyle='-',\n",
    "           linewidth=3, color='xkcd:blurple' )\n",
    "ax31.plot( HR1_2_AET.index, FF_HR1_AET_2_50, linestyle='dashed',\n",
    "           linewidth=2, color='xkcd:dark lilac', label='Median' )\n",
    "ax31.plot( HR1_3_AET.index, FF_HR1_AET_3_50, linestyle='dashed',\n",
    "           linewidth=2, color='xkcd:dark lilac' )\n",
    "ax31.plot( HR1_4_AET.index, FF_HR1_AET_4_50, linestyle='dashed',\n",
    "           linewidth=2, color='xkcd:dark lilac' )\n",
    "ax31.set_xlim( (dt.datetime(2010, 1, 1), TP_DICT[4][1]))\n",
    "ax31.set_xticks( xTicks )\n",
    "ax31.set_yticks( fsTicks )\n",
    "ax31.set_ylim( (-4000.0, 4500.0) )\n",
    "ax31.grid(True, axis='y', which='both')\n",
    "ax31.set_ylabel('AET $\\Delta$ ($acre-ft$)', fontsize=12)\n",
    "ax31.legend( loc='lower center', fontsize=11.0, ncol=3 )\n",
    "ax31.tick_params(axis='both', which='major', labelsize=11)\n",
    "ax31.tick_params(axis='x', which='major', labelrotation=0.0)\n",
    "ax31.yaxis.set_major_formatter( mpl.ticker.StrMethodFormatter( \"{x:,.1f}\" ) )\n",
    "ax31.xaxis.set_major_formatter( mpl.dates.DateFormatter(\"%Y-%m-%d\") )\n",
    "ax31.annotate(\"A\", xy=(0.96,0.06), xycoords=\"axes fraction\", fontsize=11.0,\n",
    "              backgroundcolor=\"xkcd:light grey\")\n",
    "ax31.annotate(\"Projection Interval 1\", xy=(0.05, 0.90), xycoords=\"axes fraction\",\n",
    "              fontsize=11.0, color=\"xkcd:dark orange\", backgroundcolor=\"xkcd:light grey\" )\n",
    "ax31.annotate(\"Projection Interval 2\", xy=(0.38, 0.90), xycoords=\"axes fraction\",\n",
    "              fontsize=11.0, color=\"xkcd:dark orange\", backgroundcolor=\"xkcd:light grey\" )\n",
    "ax31.annotate(\"Projection Interval 3\", xy=(0.71, 0.90), xycoords=\"axes fraction\",\n",
    "              fontsize=11.0, color=\"xkcd:dark orange\", backgroundcolor=\"xkcd:light grey\" )\n",
    "ax41 = Fig1.add_subplot(3,1,2)\n",
    "ax41.plot( [TP_DICT[2][0], TP_DICT[2][0]], [-4000.0, 4500.0], linestyle='-',\n",
    "           linewidth=2, color='xkcd:dark orange' )\n",
    "ax41.plot( [TP_DICT[3][0], TP_DICT[3][0]], [-4000.0, 4500.0], linestyle='-',\n",
    "           linewidth=2, color='xkcd:dark orange' )\n",
    "ax41.plot( [TP_DICT[4][0], TP_DICT[4][0]], [-4000.0, 4500.0], linestyle='-',\n",
    "           linewidth=2, color='xkcd:dark orange' )\n",
    "sfF = ax41.fill( DTTimeList, Fil_HR1_RO, color='xkcd:dark sand', alpha=0.50, \n",
    "                 label=\"5th to 95th percentile range\")\n",
    "ax41.plot( HR1_2_RO.index, FF_HR1_RO_2_ME, linestyle='-',\n",
    "           linewidth=3, color='xkcd:warm brown', label='Mean' )\n",
    "ax41.plot( HR1_3_RO.index, FF_HR1_RO_3_ME, linestyle='-',\n",
    "           linewidth=3, color='xkcd:warm brown' )\n",
    "ax41.plot( HR1_4_RO.index, FF_HR1_RO_4_ME, linestyle='-',\n",
    "           linewidth=3, color='xkcd:warm brown' )\n",
    "ax41.plot( HR1_2_RO.index, FF_HR1_RO_2_50, linestyle='dashed',\n",
    "           linewidth=2, color='xkcd:mud brown', label='Median' )\n",
    "ax41.plot( HR1_3_RO.index, FF_HR1_RO_3_50, linestyle='dashed',\n",
    "           linewidth=2, color='xkcd:mud brown' )\n",
    "ax41.plot( HR1_4_RO.index, FF_HR1_RO_4_50, linestyle='dashed',\n",
    "           linewidth=2, color='xkcd:mud brown' )\n",
    "ax41.set_xlim( (dt.datetime(2010, 1, 1), TP_DICT[4][1]))\n",
    "ax41.set_xticks( xTicks )\n",
    "ax41.set_yticks( fsTicks )\n",
    "ax41.set_ylim( (-4000.0, 4500.0) )\n",
    "ax41.grid(True, axis='y', which='both')\n",
    "ax41.set_ylabel('Runoff $\\Delta$ ($acre-ft$)', fontsize=12)\n",
    "ax41.legend( loc='lower center', fontsize=11.0, ncol=3 )\n",
    "ax41.tick_params(axis='both', which='major', labelsize=11)\n",
    "ax41.tick_params(axis='x', which='major', labelrotation=0.0)\n",
    "ax41.yaxis.set_major_formatter( mpl.ticker.StrMethodFormatter( \"{x:,.1f}\" ) )\n",
    "ax41.xaxis.set_major_formatter( mpl.dates.DateFormatter(\"%Y-%m-%d\") )\n",
    "ax41.annotate(\"B\", xy=(0.96,0.06), xycoords=\"axes fraction\", fontsize=11.0,\n",
    "              backgroundcolor=\"xkcd:light grey\")\n",
    "ax41.annotate(\"Projection Interval 1\", xy=(0.05, 0.90), xycoords=\"axes fraction\",\n",
    "              fontsize=11.0, color=\"xkcd:dark orange\", backgroundcolor=\"xkcd:light grey\" )\n",
    "ax41.annotate(\"Projection Interval 2\", xy=(0.38, 0.90), xycoords=\"axes fraction\",\n",
    "              fontsize=11.0, color=\"xkcd:dark orange\", backgroundcolor=\"xkcd:light grey\" )\n",
    "ax41.annotate(\"Projection Interval 3\", xy=(0.71, 0.90), xycoords=\"axes fraction\",\n",
    "              fontsize=11.0, color=\"xkcd:dark orange\", backgroundcolor=\"xkcd:light grey\" )\n",
    "ax51 = Fig1.add_subplot(3,1,3)\n",
    "ax51.plot( [TP_DICT[2][0], TP_DICT[2][0]], [-4000.0, 4500.0], linestyle='-',\n",
    "           linewidth=2, color='xkcd:dark orange' )\n",
    "ax51.plot( [TP_DICT[3][0], TP_DICT[3][0]], [-4000.0, 4500.0], linestyle='-',\n",
    "           linewidth=2, color='xkcd:dark orange' )\n",
    "ax51.plot( [TP_DICT[4][0], TP_DICT[4][0]], [-4000.0, 4500.0], linestyle='-',\n",
    "           linewidth=2, color='xkcd:dark orange' )\n",
    "sfF = ax51.fill( DTTimeList, Fil_HR1_RE, color='xkcd:green grey', alpha=0.50, \n",
    "                 label=\"5th to 95th percentile range\")\n",
    "ax51.plot( HR1_2_RE.index, FF_HR1_RE_2_ME, linestyle='-',\n",
    "           linewidth=3, color='xkcd:pine', label='Mean' )\n",
    "ax51.plot( HR1_3_RE.index, FF_HR1_RE_3_ME, linestyle='-',\n",
    "           linewidth=3, color='xkcd:pine' )\n",
    "ax51.plot( HR1_4_RE.index, FF_HR1_RE_4_ME, linestyle='-',\n",
    "           linewidth=3, color='xkcd:pine' )\n",
    "ax51.plot( HR1_2_RE.index, FF_HR1_RE_2_50, linestyle='dashed',\n",
    "           linewidth=2, color='xkcd:kelley green', label='Median' )\n",
    "ax51.plot( HR1_3_RE.index, FF_HR1_RE_3_50, linestyle='dashed',\n",
    "           linewidth=2, color='xkcd:kelley green' )\n",
    "ax51.plot( HR1_4_RE.index, FF_HR1_RE_4_50, linestyle='dashed',\n",
    "           linewidth=2, color='xkcd:kelley green' )\n",
    "ax51.set_xlim( (dt.datetime(2010, 1, 1), TP_DICT[4][1]))\n",
    "ax51.set_xticks( xTicks )\n",
    "ax51.set_yticks( fsTicks )\n",
    "ax51.set_ylim( (-4000.0, 4500.0) )\n",
    "ax51.grid(True, axis='y', which='both')\n",
    "ax51.set_ylabel('Recharge $\\Delta$ ($acre-ft$)', fontsize=12)\n",
    "ax51.legend( loc='lower center', fontsize=11.0, ncol=3 )\n",
    "ax51.tick_params(axis='both', which='major', labelsize=11)\n",
    "ax51.tick_params(axis='x', which='major', labelrotation=0.0)\n",
    "ax51.yaxis.set_major_formatter( mpl.ticker.StrMethodFormatter( \"{x:,.1f}\" ) )\n",
    "ax51.xaxis.set_major_formatter( mpl.dates.DateFormatter(\"%Y-%m-%d\") )\n",
    "ax51.annotate(\"C\", xy=(0.96,0.06), xycoords=\"axes fraction\", fontsize=11.0,\n",
    "              backgroundcolor=\"xkcd:light grey\")\n",
    "ax51.annotate(\"Projection Interval 1\", xy=(0.05, 0.90), xycoords=\"axes fraction\",\n",
    "              fontsize=11.0, color=\"xkcd:dark orange\", backgroundcolor=\"xkcd:light grey\" )\n",
    "ax51.annotate(\"Projection Interval 2\", xy=(0.38, 0.90), xycoords=\"axes fraction\",\n",
    "              fontsize=11.0, color=\"xkcd:dark orange\", backgroundcolor=\"xkcd:light grey\" )\n",
    "ax51.annotate(\"Projection Interval 3\", xy=(0.71, 0.90), xycoords=\"axes fraction\",\n",
    "              fontsize=11.0, color=\"xkcd:dark orange\", backgroundcolor=\"xkcd:light grey\" )\n",
    "Fig1.savefig( OutSVG )\n",
    "Fig1.savefig( OutPNG )\n",
    "Fig1.savefig( OutPDF )"
   ]
  },
  {
   "cell_type": "markdown",
   "metadata": {},
   "source": [
    "### HRU 2"
   ]
  },
  {
   "cell_type": "markdown",
   "metadata": {},
   "source": [
    "Fourier smoothing"
   ]
  },
  {
   "cell_type": "code",
   "execution_count": 35,
   "metadata": {},
   "outputs": [],
   "source": [
    "rft = np.fft.rfft( HR2_2_AET[StatsHdsList[95]].to_numpy() )\n",
    "rft[SM_NUM:] = 0.0\n",
    "FF_HR2_AET_2_95 = np.fft.irfft(rft)\n",
    "rft = np.fft.rfft( HR2_3_AET[StatsHdsList[95]].to_numpy() )\n",
    "rft[SM_NUM:] = 0.0\n",
    "FF_HR2_AET_3_95 = np.fft.irfft(rft)\n",
    "rft = np.fft.rfft( HR2_4_AET[StatsHdsList[95]].to_numpy() )\n",
    "rft[SM_NUM:] = 0.0\n",
    "FF_HR2_AET_4_95 = np.fft.irfft(rft)\n",
    "rft = np.fft.rfft( HR2_2_AET[StatsHdsList[5]].to_numpy() )\n",
    "rft[SM_NUM:] = 0.0\n",
    "FF_HR2_AET_2_05 = np.fft.irfft(rft)\n",
    "rft = np.fft.rfft( HR2_3_AET[StatsHdsList[5]].to_numpy() )\n",
    "rft[SM_NUM:] = 0.0\n",
    "FF_HR2_AET_3_05 = np.fft.irfft(rft)\n",
    "rft = np.fft.rfft( HR2_4_AET[StatsHdsList[5]].to_numpy() )\n",
    "rft[SM_NUM:] = 0.0\n",
    "FF_HR2_AET_4_05 = np.fft.irfft(rft)\n",
    "rft = np.fft.rfft( HR2_2_AET[StatsHdsList[50]].to_numpy() )\n",
    "rft[SM_NUM:] = 0.0\n",
    "FF_HR2_AET_2_50 = np.fft.irfft(rft)\n",
    "rft = np.fft.rfft( HR2_3_AET[StatsHdsList[50]].to_numpy() )\n",
    "rft[SM_NUM:] = 0.0\n",
    "FF_HR2_AET_3_50 = np.fft.irfft(rft)\n",
    "rft = np.fft.rfft( HR2_4_AET[StatsHdsList[50]].to_numpy() )\n",
    "rft[SM_NUM:] = 0.0\n",
    "FF_HR2_AET_4_50 = np.fft.irfft(rft)\n",
    "rft = np.fft.rfft( HR2_2_AET[StatsHdsList[101]].to_numpy() )\n",
    "rft[SM_NUM:] = 0.0\n",
    "FF_HR2_AET_2_ME = np.fft.irfft(rft)\n",
    "rft = np.fft.rfft( HR2_3_AET[StatsHdsList[101]].to_numpy() )\n",
    "rft[SM_NUM:] = 0.0\n",
    "FF_HR2_AET_3_ME = np.fft.irfft(rft)\n",
    "rft = np.fft.rfft( HR2_4_AET[StatsHdsList[101]].to_numpy() )\n",
    "rft[SM_NUM:] = 0.0\n",
    "FF_HR2_AET_4_ME = np.fft.irfft(rft)"
   ]
  },
  {
   "cell_type": "code",
   "execution_count": 36,
   "metadata": {},
   "outputs": [],
   "source": [
    "rft = np.fft.rfft( HR2_2_RE[StatsHdsList[95]].to_numpy() )\n",
    "rft[SM_NUM:] = 0.0\n",
    "FF_HR2_RE_2_95 = np.fft.irfft(rft)\n",
    "rft = np.fft.rfft( HR2_3_RE[StatsHdsList[95]].to_numpy() )\n",
    "rft[SM_NUM:] = 0.0\n",
    "FF_HR2_RE_3_95 = np.fft.irfft(rft)\n",
    "rft = np.fft.rfft( HR2_4_RE[StatsHdsList[95]].to_numpy() )\n",
    "rft[SM_NUM:] = 0.0\n",
    "FF_HR2_RE_4_95 = np.fft.irfft(rft)\n",
    "rft = np.fft.rfft( HR2_2_RE[StatsHdsList[5]].to_numpy() )\n",
    "rft[SM_NUM:] = 0.0\n",
    "FF_HR2_RE_2_05 = np.fft.irfft(rft)\n",
    "rft = np.fft.rfft( HR2_3_RE[StatsHdsList[5]].to_numpy() )\n",
    "rft[SM_NUM:] = 0.0\n",
    "FF_HR2_RE_3_05 = np.fft.irfft(rft)\n",
    "rft = np.fft.rfft( HR2_4_RE[StatsHdsList[5]].to_numpy() )\n",
    "rft[SM_NUM:] = 0.0\n",
    "FF_HR2_RE_4_05 = np.fft.irfft(rft)\n",
    "rft = np.fft.rfft( HR2_2_RE[StatsHdsList[50]].to_numpy() )\n",
    "rft[SM_NUM:] = 0.0\n",
    "FF_HR2_RE_2_50 = np.fft.irfft(rft)\n",
    "rft = np.fft.rfft( HR2_3_RE[StatsHdsList[50]].to_numpy() )\n",
    "rft[SM_NUM:] = 0.0\n",
    "FF_HR2_RE_3_50 = np.fft.irfft(rft)\n",
    "rft = np.fft.rfft( HR2_4_RE[StatsHdsList[50]].to_numpy() )\n",
    "rft[SM_NUM:] = 0.0\n",
    "FF_HR2_RE_4_50 = np.fft.irfft(rft)\n",
    "rft = np.fft.rfft( HR2_2_RE[StatsHdsList[101]].to_numpy() )\n",
    "rft[SM_NUM:] = 0.0\n",
    "FF_HR2_RE_2_ME = np.fft.irfft(rft)\n",
    "rft = np.fft.rfft( HR2_3_RE[StatsHdsList[101]].to_numpy() )\n",
    "rft[SM_NUM:] = 0.0\n",
    "FF_HR2_RE_3_ME = np.fft.irfft(rft)\n",
    "rft = np.fft.rfft( HR2_4_RE[StatsHdsList[101]].to_numpy() )\n",
    "rft[SM_NUM:] = 0.0\n",
    "FF_HR2_RE_4_ME = np.fft.irfft(rft)"
   ]
  },
  {
   "cell_type": "code",
   "execution_count": 37,
   "metadata": {},
   "outputs": [],
   "source": [
    "rft = np.fft.rfft( HR2_2_RO[StatsHdsList[95]].to_numpy() )\n",
    "rft[SM_NUM:] = 0.0\n",
    "FF_HR2_RO_2_95 = np.fft.irfft(rft)\n",
    "rft = np.fft.rfft( HR2_3_RO[StatsHdsList[95]].to_numpy() )\n",
    "rft[SM_NUM:] = 0.0\n",
    "FF_HR2_RO_3_95 = np.fft.irfft(rft)\n",
    "rft = np.fft.rfft( HR2_4_RO[StatsHdsList[95]].to_numpy() )\n",
    "rft[SM_NUM:] = 0.0\n",
    "FF_HR2_RO_4_95 = np.fft.irfft(rft)\n",
    "rft = np.fft.rfft( HR2_2_RO[StatsHdsList[5]].to_numpy() )\n",
    "rft[SM_NUM:] = 0.0\n",
    "FF_HR2_RO_2_05 = np.fft.irfft(rft)\n",
    "rft = np.fft.rfft( HR2_3_RO[StatsHdsList[5]].to_numpy() )\n",
    "rft[SM_NUM:] = 0.0\n",
    "FF_HR2_RO_3_05 = np.fft.irfft(rft)\n",
    "rft = np.fft.rfft( HR2_4_RO[StatsHdsList[5]].to_numpy() )\n",
    "rft[SM_NUM:] = 0.0\n",
    "FF_HR2_RO_4_05 = np.fft.irfft(rft)\n",
    "rft = np.fft.rfft( HR2_2_RO[StatsHdsList[50]].to_numpy() )\n",
    "rft[SM_NUM:] = 0.0\n",
    "FF_HR2_RO_2_50 = np.fft.irfft(rft)\n",
    "rft = np.fft.rfft( HR2_3_RO[StatsHdsList[50]].to_numpy() )\n",
    "rft[SM_NUM:] = 0.0\n",
    "FF_HR2_RO_3_50 = np.fft.irfft(rft)\n",
    "rft = np.fft.rfft( HR2_4_RO[StatsHdsList[50]].to_numpy() )\n",
    "rft[SM_NUM:] = 0.0\n",
    "FF_HR2_RO_4_50 = np.fft.irfft(rft)\n",
    "rft = np.fft.rfft( HR2_2_RO[StatsHdsList[101]].to_numpy() )\n",
    "rft[SM_NUM:] = 0.0\n",
    "FF_HR2_RO_2_ME = np.fft.irfft(rft)\n",
    "rft = np.fft.rfft( HR2_3_RO[StatsHdsList[101]].to_numpy() )\n",
    "rft[SM_NUM:] = 0.0\n",
    "FF_HR2_RO_3_ME = np.fft.irfft(rft)\n",
    "rft = np.fft.rfft( HR2_4_RO[StatsHdsList[101]].to_numpy() )\n",
    "rft[SM_NUM:] = 0.0\n",
    "FF_HR2_RO_4_ME = np.fft.irfft(rft)"
   ]
  },
  {
   "cell_type": "markdown",
   "metadata": {},
   "source": [
    "Filled confidence interval areas"
   ]
  },
  {
   "cell_type": "code",
   "execution_count": 38,
   "metadata": {},
   "outputs": [],
   "source": [
    "Fil_HR2_AET_2_5 = list( FF_HR2_AET_2_05 )\n",
    "Fil_HR2_AET_3_5 = list( FF_HR2_AET_3_05 )\n",
    "Fil_HR2_AET_4_5 = list( FF_HR2_AET_4_05 )\n",
    "BackDTList = list( FF_HR2_AET_4_95 )\n",
    "Back_AET_4_95 = BackDTList[::-1]\n",
    "BackDTList = list( FF_HR2_AET_3_95 )\n",
    "Back_AET_3_95 = BackDTList[::-1]\n",
    "BackDTList = list( FF_HR2_AET_2_95 )\n",
    "Back_AET_2_95 = BackDTList[::-1]\n",
    "Fil_HR2_AET = deepcopy( Fil_HR2_AET_2_5 )\n",
    "Fil_HR2_AET.extend( Fil_HR2_AET_3_5 )\n",
    "Fil_HR2_AET.extend( Fil_HR2_AET_4_5 )\n",
    "Fil_HR2_AET.extend( Back_AET_4_95 )\n",
    "Fil_HR2_AET.extend( Back_AET_3_95 )\n",
    "Fil_HR2_AET.extend( Back_AET_2_95 )"
   ]
  },
  {
   "cell_type": "code",
   "execution_count": 39,
   "metadata": {},
   "outputs": [],
   "source": [
    "Fil_HR2_RE_2_5 = list( FF_HR2_RE_2_05 )\n",
    "Fil_HR2_RE_3_5 = list( FF_HR2_RE_3_05 )\n",
    "Fil_HR2_RE_4_5 = list( FF_HR2_RE_4_05 )\n",
    "BackDTList = list( FF_HR2_RE_4_95 )\n",
    "Back_RE_4_95 = BackDTList[::-1]\n",
    "BackDTList = list( FF_HR2_RE_3_95 )\n",
    "Back_RE_3_95 = BackDTList[::-1]\n",
    "BackDTList = list( FF_HR2_RE_2_95 )\n",
    "Back_RE_2_95 = BackDTList[::-1]\n",
    "Fil_HR2_RE = deepcopy( Fil_HR2_RE_2_5 )\n",
    "Fil_HR2_RE.extend( Fil_HR2_RE_3_5 )\n",
    "Fil_HR2_RE.extend( Fil_HR2_RE_4_5 )\n",
    "Fil_HR2_RE.extend( Back_RE_4_95 )\n",
    "Fil_HR2_RE.extend( Back_RE_3_95 )\n",
    "Fil_HR2_RE.extend( Back_RE_2_95 )"
   ]
  },
  {
   "cell_type": "code",
   "execution_count": 40,
   "metadata": {},
   "outputs": [],
   "source": [
    "Fil_HR2_RO_2_5 = list( FF_HR2_RO_2_05 )\n",
    "Fil_HR2_RO_3_5 = list( FF_HR2_RO_3_05 )\n",
    "Fil_HR2_RO_4_5 = list( FF_HR2_RO_4_05 )\n",
    "BackDTList = list( FF_HR2_RO_4_95 )\n",
    "Back_RO_4_95 = BackDTList[::-1]\n",
    "BackDTList = list( FF_HR2_RO_3_95 )\n",
    "Back_RO_3_95 = BackDTList[::-1]\n",
    "BackDTList = list( FF_HR2_RO_2_95 )\n",
    "Back_RO_2_95 = BackDTList[::-1]\n",
    "Fil_HR2_RO = deepcopy( Fil_HR2_RO_2_5 )\n",
    "Fil_HR2_RO.extend( Fil_HR2_RO_3_5 )\n",
    "Fil_HR2_RO.extend( Fil_HR2_RO_4_5 )\n",
    "Fil_HR2_RO.extend( Back_RO_4_95 )\n",
    "Fil_HR2_RO.extend( Back_RO_3_95 )\n",
    "Fil_HR2_RO.extend( Back_RO_2_95 )"
   ]
  },
  {
   "cell_type": "markdown",
   "metadata": {},
   "source": [
    "Plot"
   ]
  },
  {
   "cell_type": "code",
   "execution_count": 41,
   "metadata": {},
   "outputs": [
    {
     "data": {
      "text/plain": [
       "'C:\\\\Users\\\\nmart\\\\OneDrive\\\\CC_IRD\\\\Process_Results\\\\Plots\\\\DelBas_HR2_FF3WB.svg'"
      ]
     },
     "execution_count": 41,
     "metadata": {},
     "output_type": "execute_result"
    }
   ],
   "source": [
    "OutSVG = os.path.normpath( os.path.join( OUT_DIR, \"Plots\", \"DelBas_HR2_FF3WB.svg\" ) )\n",
    "OutSVG"
   ]
  },
  {
   "cell_type": "code",
   "execution_count": 42,
   "metadata": {},
   "outputs": [
    {
     "data": {
      "text/plain": [
       "'C:\\\\Users\\\\nmart\\\\OneDrive\\\\CC_IRD\\\\Process_Results\\\\Plots\\\\DelBas_HR2_FF3WB.png'"
      ]
     },
     "execution_count": 42,
     "metadata": {},
     "output_type": "execute_result"
    }
   ],
   "source": [
    "OutPNG = os.path.normpath( os.path.join( OUT_DIR, \"Plots\", \"DelBas_HR2_FF3WB.png\" ) )\n",
    "OutPNG"
   ]
  },
  {
   "cell_type": "code",
   "execution_count": 43,
   "metadata": {},
   "outputs": [
    {
     "data": {
      "text/plain": [
       "'C:\\\\Users\\\\nmart\\\\OneDrive\\\\CC_IRD\\\\Process_Results\\\\Plots\\\\DelBas_HR2_FF3WB.pdf'"
      ]
     },
     "execution_count": 43,
     "metadata": {},
     "output_type": "execute_result"
    }
   ],
   "source": [
    "OutPDF = os.path.normpath( os.path.join( OUT_DIR, \"Plots\", \"DelBas_HR2_FF3WB.pdf\" ) )\n",
    "OutPDF"
   ]
  },
  {
   "cell_type": "code",
   "execution_count": 44,
   "metadata": {},
   "outputs": [],
   "source": [
    "fsTicks = [ -4000.0, -2000.0, 0.0, 2000.0, 4000.0 ]"
   ]
  },
  {
   "cell_type": "code",
   "execution_count": 45,
   "metadata": {},
   "outputs": [
    {
     "data": {
      "image/png": "[encoded data removed]",
      "text/plain": [
       "<Figure size 576x756 with 3 Axes>"
      ]
     },
     "metadata": {
      "needs_background": "light"
     },
     "output_type": "display_data"
    }
   ],
   "source": [
    "Fig1 = plt.figure()\n",
    "Fig1.set_size_inches(8, 10.5)\n",
    "ax31 = Fig1.add_subplot(3,1,1)\n",
    "ax31.plot( [TP_DICT[2][0], TP_DICT[2][0]], [-4000.0, 4500.0], linestyle='-',\n",
    "           linewidth=2, color='xkcd:dark orange' )\n",
    "ax31.plot( [TP_DICT[3][0], TP_DICT[3][0]], [-4000.0, 4500.0], linestyle='-',\n",
    "           linewidth=2, color='xkcd:dark orange' )\n",
    "ax31.plot( [TP_DICT[4][0], TP_DICT[4][0]], [-4000.0, 4500.0], linestyle='-',\n",
    "           linewidth=2, color='xkcd:dark orange' )\n",
    "sfF = ax31.fill( DTTimeList, Fil_HR2_AET, color='xkcd:greyish purple', alpha=0.50, \n",
    "                 label=\"5th to 95th percentile range\" )\n",
    "ax31.plot( HR2_2_AET.index, FF_HR2_AET_2_ME, linestyle='-',\n",
    "           linewidth=3, color='xkcd:blurple', label='Mean' )\n",
    "ax31.plot( HR2_3_AET.index, FF_HR2_AET_3_ME, linestyle='-',\n",
    "           linewidth=3, color='xkcd:blurple' )\n",
    "ax31.plot( HR2_4_AET.index, FF_HR2_AET_4_ME, linestyle='-',\n",
    "           linewidth=3, color='xkcd:blurple' )\n",
    "ax31.plot( HR2_2_AET.index, FF_HR2_AET_2_50, linestyle='dashed',\n",
    "           linewidth=2, color='xkcd:dark lilac', label='Median' )\n",
    "ax31.plot( HR2_3_AET.index, FF_HR2_AET_3_50, linestyle='dashed',\n",
    "           linewidth=2, color='xkcd:dark lilac' )\n",
    "ax31.plot( HR2_4_AET.index, FF_HR2_AET_4_50, linestyle='dashed',\n",
    "           linewidth=2, color='xkcd:dark lilac' )\n",
    "ax31.set_xlim( (dt.datetime(2010, 1, 1), TP_DICT[4][1]))\n",
    "ax31.set_xticks( xTicks )\n",
    "ax31.set_yticks( fsTicks )\n",
    "ax31.set_ylim( (-4000.0, 4500.0) )\n",
    "ax31.grid(True, axis='y', which='both')\n",
    "ax31.set_ylabel('AET $\\Delta$ ($acre-feet$)', fontsize=12)\n",
    "ax31.legend( loc='lower center', fontsize=11.0, ncol=3 )\n",
    "ax31.tick_params(axis='both', which='major', labelsize=11)\n",
    "ax31.tick_params(axis='x', which='major', labelrotation=0.0)\n",
    "ax31.yaxis.set_major_formatter( mpl.ticker.StrMethodFormatter( \"{x:,.1f}\" ) )\n",
    "ax31.xaxis.set_major_formatter( mpl.dates.DateFormatter(\"%Y-%m-%d\") )\n",
    "ax31.annotate(\"A\", xy=(0.96,0.06), xycoords=\"axes fraction\", fontsize=11.0,\n",
    "              backgroundcolor=\"xkcd:light grey\")\n",
    "ax31.annotate(\"Projection Interval 1\", xy=(0.05, 0.90), xycoords=\"axes fraction\",\n",
    "              fontsize=11.0, color=\"xkcd:dark orange\", backgroundcolor=\"xkcd:light grey\" )\n",
    "ax31.annotate(\"Projection Interval 2\", xy=(0.38, 0.90), xycoords=\"axes fraction\",\n",
    "              fontsize=11.0, color=\"xkcd:dark orange\", backgroundcolor=\"xkcd:light grey\" )\n",
    "ax31.annotate(\"Projection Interval 3\", xy=(0.71, 0.90), xycoords=\"axes fraction\",\n",
    "              fontsize=11.0, color=\"xkcd:dark orange\", backgroundcolor=\"xkcd:light grey\" )\n",
    "ax41 = Fig1.add_subplot(3,1,2)\n",
    "ax41.plot( [TP_DICT[2][0], TP_DICT[2][0]], [-4000.0, 4500.0], linestyle='-',\n",
    "           linewidth=2, color='xkcd:dark orange' )\n",
    "ax41.plot( [TP_DICT[3][0], TP_DICT[3][0]], [-4000.0, 4500.0], linestyle='-',\n",
    "           linewidth=2, color='xkcd:dark orange' )\n",
    "ax41.plot( [TP_DICT[4][0], TP_DICT[4][0]], [-4000.0, 4500.0], linestyle='-',\n",
    "           linewidth=2, color='xkcd:dark orange' )\n",
    "sfF = ax41.fill( DTTimeList, Fil_HR2_RO, color='xkcd:dark sand', alpha=0.50, \n",
    "                 label=\"5th to 95th percentile range\")\n",
    "ax41.plot( HR2_2_RO.index, FF_HR2_RO_2_ME, linestyle='-',\n",
    "           linewidth=3, color='xkcd:warm brown', label='Mean' )\n",
    "ax41.plot( HR2_3_RO.index, FF_HR2_RO_3_ME, linestyle='-',\n",
    "           linewidth=3, color='xkcd:warm brown' )\n",
    "ax41.plot( HR2_4_RO.index, FF_HR2_RO_4_ME, linestyle='-',\n",
    "           linewidth=3, color='xkcd:warm brown' )\n",
    "ax41.plot( HR2_2_RO.index, FF_HR2_RO_2_50, linestyle='dashed',\n",
    "           linewidth=2, color='xkcd:mud brown', label='Median' )\n",
    "ax41.plot( HR2_3_RO.index, FF_HR2_RO_3_50, linestyle='dashed',\n",
    "           linewidth=2, color='xkcd:mud brown' )\n",
    "ax41.plot( HR2_4_RO.index, FF_HR2_RO_4_50, linestyle='dashed',\n",
    "           linewidth=2, color='xkcd:mud brown' )\n",
    "ax41.set_xlim( (dt.datetime(2010, 1, 1), TP_DICT[4][1]))\n",
    "ax41.set_xticks( xTicks )\n",
    "ax41.set_yticks( fsTicks )\n",
    "ax41.set_ylim( (-4000.0, 4500.0) )\n",
    "ax41.grid(True, axis='y', which='both')\n",
    "ax41.set_ylabel('Runoff $\\Delta$ ($acre-feet$)', fontsize=12)\n",
    "ax41.legend( loc='lower center', fontsize=11.0, ncol=3 )\n",
    "ax41.tick_params(axis='both', which='major', labelsize=11)\n",
    "ax41.tick_params(axis='x', which='major', labelrotation=0.0)\n",
    "ax41.yaxis.set_major_formatter( mpl.ticker.StrMethodFormatter( \"{x:,.1f}\" ) )\n",
    "ax41.xaxis.set_major_formatter( mpl.dates.DateFormatter(\"%Y-%m-%d\") )\n",
    "ax41.annotate(\"B\", xy=(0.96,0.06), xycoords=\"axes fraction\", fontsize=11.0,\n",
    "              backgroundcolor=\"xkcd:light grey\")\n",
    "ax41.annotate(\"Projection Interval 1\", xy=(0.05, 0.90), xycoords=\"axes fraction\",\n",
    "              fontsize=11.0, color=\"xkcd:dark orange\", backgroundcolor=\"xkcd:light grey\" )\n",
    "ax41.annotate(\"Projection Interval 2\", xy=(0.38, 0.90), xycoords=\"axes fraction\",\n",
    "              fontsize=11.0, color=\"xkcd:dark orange\", backgroundcolor=\"xkcd:light grey\" )\n",
    "ax41.annotate(\"Projection Interval 3\", xy=(0.71, 0.90), xycoords=\"axes fraction\",\n",
    "              fontsize=11.0, color=\"xkcd:dark orange\", backgroundcolor=\"xkcd:light grey\" )\n",
    "ax51 = Fig1.add_subplot(3,1,3)\n",
    "ax51.plot( [TP_DICT[2][0], TP_DICT[2][0]], [-4000.0, 4500.0], linestyle='-',\n",
    "           linewidth=2, color='xkcd:dark orange' )\n",
    "ax51.plot( [TP_DICT[3][0], TP_DICT[3][0]], [-4000.0, 4500.0], linestyle='-',\n",
    "           linewidth=2, color='xkcd:dark orange' )\n",
    "ax51.plot( [TP_DICT[4][0], TP_DICT[4][0]], [-4000.0, 4500.0], linestyle='-',\n",
    "           linewidth=2, color='xkcd:dark orange' )\n",
    "sfF = ax51.fill( DTTimeList, Fil_HR2_RE, color='xkcd:green grey', alpha=0.50, \n",
    "                 label=\"5th to 95th percentile range\")\n",
    "ax51.plot( HR2_2_RE.index, FF_HR2_RE_2_ME, linestyle='-',\n",
    "           linewidth=3, color='xkcd:pine', label='Mean' )\n",
    "ax51.plot( HR2_3_RE.index, FF_HR2_RE_3_ME, linestyle='-',\n",
    "           linewidth=3, color='xkcd:pine' )\n",
    "ax51.plot( HR2_4_RE.index, FF_HR2_RE_4_ME, linestyle='-',\n",
    "           linewidth=3, color='xkcd:pine' )\n",
    "ax51.plot( HR2_2_RE.index, FF_HR2_RE_2_50, linestyle='dashed',\n",
    "           linewidth=2, color='xkcd:kelley green', label='Median' )\n",
    "ax51.plot( HR2_3_RE.index, FF_HR2_RE_3_50, linestyle='dashed',\n",
    "           linewidth=2, color='xkcd:kelley green' )\n",
    "ax51.plot( HR2_4_RE.index, FF_HR2_RE_4_50, linestyle='dashed',\n",
    "           linewidth=2, color='xkcd:kelley green' )\n",
    "ax51.set_xlim( (dt.datetime(2010, 1, 1), TP_DICT[4][1]))\n",
    "ax51.set_xticks( xTicks )\n",
    "ax51.set_yticks( fsTicks )\n",
    "ax51.set_ylim( (-4000.0, 4500.0) )\n",
    "ax51.grid(True, axis='y', which='both')\n",
    "ax51.set_ylabel('Recharge $\\Delta$ ($acre-feet$)', fontsize=12)\n",
    "ax51.legend( loc='lower center', fontsize=11.0, ncol=3 )\n",
    "ax51.tick_params(axis='both', which='major', labelsize=11)\n",
    "ax51.tick_params(axis='x', which='major', labelrotation=0.0)\n",
    "ax51.yaxis.set_major_formatter( mpl.ticker.StrMethodFormatter( \"{x:,.1f}\" ) )\n",
    "ax51.xaxis.set_major_formatter( mpl.dates.DateFormatter(\"%Y-%m-%d\") )\n",
    "ax51.annotate(\"C\", xy=(0.96,0.06), xycoords=\"axes fraction\", fontsize=11.0,\n",
    "              backgroundcolor=\"xkcd:light grey\")\n",
    "ax51.annotate(\"Projection Interval 1\", xy=(0.05, 0.90), xycoords=\"axes fraction\",\n",
    "              fontsize=11.0, color=\"xkcd:dark orange\", backgroundcolor=\"xkcd:light grey\" )\n",
    "ax51.annotate(\"Projection Interval 2\", xy=(0.38, 0.90), xycoords=\"axes fraction\",\n",
    "              fontsize=11.0, color=\"xkcd:dark orange\", backgroundcolor=\"xkcd:light grey\" )\n",
    "ax51.annotate(\"Projection Interval 3\", xy=(0.71, 0.90), xycoords=\"axes fraction\",\n",
    "              fontsize=11.0, color=\"xkcd:dark orange\", backgroundcolor=\"xkcd:light grey\" )\n",
    "Fig1.savefig( OutSVG )\n",
    "Fig1.savefig( OutPNG )\n",
    "Fig1.savefig( OutPDF )"
   ]
  },
  {
   "cell_type": "markdown",
   "metadata": {},
   "source": [
    "### Reach 1"
   ]
  },
  {
   "cell_type": "markdown",
   "metadata": {},
   "source": [
    "Fourier smoothing"
   ]
  },
  {
   "cell_type": "code",
   "execution_count": 108,
   "metadata": {},
   "outputs": [],
   "source": [
    "rft = np.fft.rfft( RR1_2_AET[StatsHdsList[95]].to_numpy() )\n",
    "rft[SM_NUM:] = 0.0\n",
    "FF_RR1_AET_2_95 = np.fft.irfft(rft)\n",
    "rft = np.fft.rfft( RR1_3_AET[StatsHdsList[95]].to_numpy() )\n",
    "rft[SM_NUM:] = 0.0\n",
    "FF_RR1_AET_3_95 = np.fft.irfft(rft)\n",
    "rft = np.fft.rfft( RR1_4_AET[StatsHdsList[95]].to_numpy() )\n",
    "rft[SM_NUM:] = 0.0\n",
    "FF_RR1_AET_4_95 = np.fft.irfft(rft)\n",
    "rft = np.fft.rfft( RR1_2_AET[StatsHdsList[5]].to_numpy() )\n",
    "rft[SM_NUM:] = 0.0\n",
    "FF_RR1_AET_2_05 = np.fft.irfft(rft)\n",
    "rft = np.fft.rfft( RR1_3_AET[StatsHdsList[5]].to_numpy() )\n",
    "rft[SM_NUM:] = 0.0\n",
    "FF_RR1_AET_3_05 = np.fft.irfft(rft)\n",
    "rft = np.fft.rfft( RR1_4_AET[StatsHdsList[5]].to_numpy() )\n",
    "rft[SM_NUM:] = 0.0\n",
    "FF_RR1_AET_4_05 = np.fft.irfft(rft)\n",
    "rft = np.fft.rfft( RR1_2_AET[StatsHdsList[50]].to_numpy() )\n",
    "rft[SM_NUM:] = 0.0\n",
    "FF_RR1_AET_2_50 = np.fft.irfft(rft)\n",
    "rft = np.fft.rfft( RR1_3_AET[StatsHdsList[50]].to_numpy() )\n",
    "rft[SM_NUM:] = 0.0\n",
    "FF_RR1_AET_3_50 = np.fft.irfft(rft)\n",
    "rft = np.fft.rfft( RR1_4_AET[StatsHdsList[50]].to_numpy() )\n",
    "rft[SM_NUM:] = 0.0\n",
    "FF_RR1_AET_4_50 = np.fft.irfft(rft)\n",
    "rft = np.fft.rfft( RR1_2_AET[StatsHdsList[101]].to_numpy() )\n",
    "rft[SM_NUM:] = 0.0\n",
    "FF_RR1_AET_2_ME = np.fft.irfft(rft)\n",
    "rft = np.fft.rfft( RR1_3_AET[StatsHdsList[101]].to_numpy() )\n",
    "rft[SM_NUM:] = 0.0\n",
    "FF_RR1_AET_3_ME = np.fft.irfft(rft)\n",
    "rft = np.fft.rfft( RR1_4_AET[StatsHdsList[101]].to_numpy() )\n",
    "rft[SM_NUM:] = 0.0\n",
    "FF_RR1_AET_4_ME = np.fft.irfft(rft)"
   ]
  },
  {
   "cell_type": "code",
   "execution_count": 109,
   "metadata": {},
   "outputs": [],
   "source": [
    "rft = np.fft.rfft( RR1_2_RE[StatsHdsList[95]].to_numpy() )\n",
    "rft[SM_NUM:] = 0.0\n",
    "FF_RR1_RE_2_95 = np.fft.irfft(rft)\n",
    "rft = np.fft.rfft( RR1_3_RE[StatsHdsList[95]].to_numpy() )\n",
    "rft[SM_NUM:] = 0.0\n",
    "FF_RR1_RE_3_95 = np.fft.irfft(rft)\n",
    "rft = np.fft.rfft( RR1_4_RE[StatsHdsList[95]].to_numpy() )\n",
    "rft[SM_NUM:] = 0.0\n",
    "FF_RR1_RE_4_95 = np.fft.irfft(rft)\n",
    "rft = np.fft.rfft( RR1_2_RE[StatsHdsList[5]].to_numpy() )\n",
    "rft[SM_NUM:] = 0.0\n",
    "FF_RR1_RE_2_05 = np.fft.irfft(rft)\n",
    "rft = np.fft.rfft( RR1_3_RE[StatsHdsList[5]].to_numpy() )\n",
    "rft[SM_NUM:] = 0.0\n",
    "FF_RR1_RE_3_05 = np.fft.irfft(rft)\n",
    "rft = np.fft.rfft( RR1_4_RE[StatsHdsList[5]].to_numpy() )\n",
    "rft[SM_NUM:] = 0.0\n",
    "FF_RR1_RE_4_05 = np.fft.irfft(rft)\n",
    "rft = np.fft.rfft( RR1_2_RE[StatsHdsList[50]].to_numpy() )\n",
    "rft[SM_NUM:] = 0.0\n",
    "FF_RR1_RE_2_50 = np.fft.irfft(rft)\n",
    "rft = np.fft.rfft( RR1_3_RE[StatsHdsList[50]].to_numpy() )\n",
    "rft[SM_NUM:] = 0.0\n",
    "FF_RR1_RE_3_50 = np.fft.irfft(rft)\n",
    "rft = np.fft.rfft( RR1_4_RE[StatsHdsList[50]].to_numpy() )\n",
    "rft[SM_NUM:] = 0.0\n",
    "FF_RR1_RE_4_50 = np.fft.irfft(rft)\n",
    "rft = np.fft.rfft( RR1_2_RE[StatsHdsList[101]].to_numpy() )\n",
    "rft[SM_NUM:] = 0.0\n",
    "FF_RR1_RE_2_ME = np.fft.irfft(rft)\n",
    "rft = np.fft.rfft( RR1_3_RE[StatsHdsList[101]].to_numpy() )\n",
    "rft[SM_NUM:] = 0.0\n",
    "FF_RR1_RE_3_ME = np.fft.irfft(rft)\n",
    "rft = np.fft.rfft( RR1_4_RE[StatsHdsList[101]].to_numpy() )\n",
    "rft[SM_NUM:] = 0.0\n",
    "FF_RR1_RE_4_ME = np.fft.irfft(rft)"
   ]
  },
  {
   "cell_type": "code",
   "execution_count": 110,
   "metadata": {},
   "outputs": [],
   "source": [
    "rft = np.fft.rfft( RR1_2_RO[StatsHdsList[95]].to_numpy() )\n",
    "rft[SM_NUM:] = 0.0\n",
    "FF_RR1_RO_2_95 = np.fft.irfft(rft)\n",
    "rft = np.fft.rfft( RR1_3_RO[StatsHdsList[95]].to_numpy() )\n",
    "rft[SM_NUM:] = 0.0\n",
    "FF_RR1_RO_3_95 = np.fft.irfft(rft)\n",
    "rft = np.fft.rfft( RR1_4_RO[StatsHdsList[95]].to_numpy() )\n",
    "rft[SM_NUM:] = 0.0\n",
    "FF_RR1_RO_4_95 = np.fft.irfft(rft)\n",
    "rft = np.fft.rfft( RR1_2_RO[StatsHdsList[5]].to_numpy() )\n",
    "rft[SM_NUM:] = 0.0\n",
    "FF_RR1_RO_2_05 = np.fft.irfft(rft)\n",
    "rft = np.fft.rfft( RR1_3_RO[StatsHdsList[5]].to_numpy() )\n",
    "rft[SM_NUM:] = 0.0\n",
    "FF_RR1_RO_3_05 = np.fft.irfft(rft)\n",
    "rft = np.fft.rfft( RR1_4_RO[StatsHdsList[5]].to_numpy() )\n",
    "rft[SM_NUM:] = 0.0\n",
    "FF_RR1_RO_4_05 = np.fft.irfft(rft)\n",
    "rft = np.fft.rfft( RR1_2_RO[StatsHdsList[50]].to_numpy() )\n",
    "rft[SM_NUM:] = 0.0\n",
    "FF_RR1_RO_2_50 = np.fft.irfft(rft)\n",
    "rft = np.fft.rfft( RR1_3_RO[StatsHdsList[50]].to_numpy() )\n",
    "rft[SM_NUM:] = 0.0\n",
    "FF_RR1_RO_3_50 = np.fft.irfft(rft)\n",
    "rft = np.fft.rfft( RR1_4_RO[StatsHdsList[50]].to_numpy() )\n",
    "rft[SM_NUM:] = 0.0\n",
    "FF_RR1_RO_4_50 = np.fft.irfft(rft)\n",
    "rft = np.fft.rfft( RR1_2_RO[StatsHdsList[101]].to_numpy() )\n",
    "rft[SM_NUM:] = 0.0\n",
    "FF_RR1_RO_2_ME = np.fft.irfft(rft)\n",
    "rft = np.fft.rfft( RR1_3_RO[StatsHdsList[101]].to_numpy() )\n",
    "rft[SM_NUM:] = 0.0\n",
    "FF_RR1_RO_3_ME = np.fft.irfft(rft)\n",
    "rft = np.fft.rfft( RR1_4_RO[StatsHdsList[101]].to_numpy() )\n",
    "rft[SM_NUM:] = 0.0\n",
    "FF_RR1_RO_4_ME = np.fft.irfft(rft)"
   ]
  },
  {
   "cell_type": "markdown",
   "metadata": {},
   "source": [
    "Filled confidence interval areas"
   ]
  },
  {
   "cell_type": "code",
   "execution_count": 111,
   "metadata": {},
   "outputs": [],
   "source": [
    "Fil_RR1_AET_2_5 = list( FF_RR1_AET_2_05 )\n",
    "Fil_RR1_AET_3_5 = list( FF_RR1_AET_3_05 )\n",
    "Fil_RR1_AET_4_5 = list( FF_RR1_AET_4_05 )\n",
    "BackDTList = list( FF_RR1_AET_4_95 )\n",
    "Back_AET_4_95 = BackDTList[::-1]\n",
    "BackDTList = list( FF_RR1_AET_3_95 )\n",
    "Back_AET_3_95 = BackDTList[::-1]\n",
    "BackDTList = list( FF_RR1_AET_2_95 )\n",
    "Back_AET_2_95 = BackDTList[::-1]\n",
    "Fil_RR1_AET = deepcopy( Fil_RR1_AET_2_5 )\n",
    "Fil_RR1_AET.extend( Fil_RR1_AET_3_5 )\n",
    "Fil_RR1_AET.extend( Fil_RR1_AET_4_5 )\n",
    "Fil_RR1_AET.extend( Back_AET_4_95 )\n",
    "Fil_RR1_AET.extend( Back_AET_3_95 )\n",
    "Fil_RR1_AET.extend( Back_AET_2_95 )"
   ]
  },
  {
   "cell_type": "code",
   "execution_count": 112,
   "metadata": {},
   "outputs": [],
   "source": [
    "Fil_RR1_RE_2_5 = list( FF_RR1_RE_2_05 )\n",
    "Fil_RR1_RE_3_5 = list( FF_RR1_RE_3_05 )\n",
    "Fil_RR1_RE_4_5 = list( FF_RR1_RE_4_05 )\n",
    "BackDTList = list( FF_RR1_RE_4_95 )\n",
    "Back_RE_4_95 = BackDTList[::-1]\n",
    "BackDTList = list( FF_RR1_RE_3_95 )\n",
    "Back_RE_3_95 = BackDTList[::-1]\n",
    "BackDTList = list( FF_RR1_RE_2_95 )\n",
    "Back_RE_2_95 = BackDTList[::-1]\n",
    "Fil_RR1_RE = deepcopy( Fil_RR1_RE_2_5 )\n",
    "Fil_RR1_RE.extend( Fil_RR1_RE_3_5 )\n",
    "Fil_RR1_RE.extend( Fil_RR1_RE_4_5 )\n",
    "Fil_RR1_RE.extend( Back_RE_4_95 )\n",
    "Fil_RR1_RE.extend( Back_RE_3_95 )\n",
    "Fil_RR1_RE.extend( Back_RE_2_95 )"
   ]
  },
  {
   "cell_type": "code",
   "execution_count": 113,
   "metadata": {},
   "outputs": [],
   "source": [
    "Fil_RR1_RO_2_5 = list( FF_RR1_RO_2_05 )\n",
    "Fil_RR1_RO_3_5 = list( FF_RR1_RO_3_05 )\n",
    "Fil_RR1_RO_4_5 = list( FF_RR1_RO_4_05 )\n",
    "BackDTList = list( FF_RR1_RO_4_95 )\n",
    "Back_RO_4_95 = BackDTList[::-1]\n",
    "BackDTList = list( FF_RR1_RO_3_95 )\n",
    "Back_RO_3_95 = BackDTList[::-1]\n",
    "BackDTList = list( FF_RR1_RO_2_95 )\n",
    "Back_RO_2_95 = BackDTList[::-1]\n",
    "Fil_RR1_RO = deepcopy( Fil_RR1_RO_2_5 )\n",
    "Fil_RR1_RO.extend( Fil_RR1_RO_3_5 )\n",
    "Fil_RR1_RO.extend( Fil_RR1_RO_4_5 )\n",
    "Fil_RR1_RO.extend( Back_RO_4_95 )\n",
    "Fil_RR1_RO.extend( Back_RO_3_95 )\n",
    "Fil_RR1_RO.extend( Back_RO_2_95 )"
   ]
  },
  {
   "cell_type": "markdown",
   "metadata": {},
   "source": [
    "Plot"
   ]
  },
  {
   "cell_type": "code",
   "execution_count": 114,
   "metadata": {},
   "outputs": [
    {
     "data": {
      "text/plain": [
       "'C:\\\\Users\\\\nmart\\\\OneDrive\\\\CC_IRD\\\\Process_Results\\\\Plots\\\\DelBas_RR1_FF3WB.svg'"
      ]
     },
     "execution_count": 114,
     "metadata": {},
     "output_type": "execute_result"
    }
   ],
   "source": [
    "OutSVG = os.path.normpath( os.path.join( OUT_DIR, \"Plots\", \"DelBas_RR1_FF3WB.svg\" ) )\n",
    "OutSVG"
   ]
  },
  {
   "cell_type": "code",
   "execution_count": 115,
   "metadata": {},
   "outputs": [
    {
     "data": {
      "text/plain": [
       "'C:\\\\Users\\\\nmart\\\\OneDrive\\\\CC_IRD\\\\Process_Results\\\\Plots\\\\DelBas_RR1_FF3WB.png'"
      ]
     },
     "execution_count": 115,
     "metadata": {},
     "output_type": "execute_result"
    }
   ],
   "source": [
    "OutPNG = os.path.normpath( os.path.join( OUT_DIR, \"Plots\", \"DelBas_RR1_FF3WB.png\" ) )\n",
    "OutPNG"
   ]
  },
  {
   "cell_type": "code",
   "execution_count": 116,
   "metadata": {},
   "outputs": [
    {
     "data": {
      "text/plain": [
       "'C:\\\\Users\\\\nmart\\\\OneDrive\\\\CC_IRD\\\\Process_Results\\\\Plots\\\\DelBas_RR1_FF3WB.pdf'"
      ]
     },
     "execution_count": 116,
     "metadata": {},
     "output_type": "execute_result"
    }
   ],
   "source": [
    "OutPDF = os.path.normpath( os.path.join( OUT_DIR, \"Plots\", \"DelBas_RR1_FF3WB.pdf\" ) )\n",
    "OutPDF"
   ]
  },
  {
   "cell_type": "code",
   "execution_count": 117,
   "metadata": {},
   "outputs": [],
   "source": [
    "fsTicks = [ -2000.0, 0.0, 2000.0, 4000.0, 6000.0, 8000.0 ]"
   ]
  },
  {
   "cell_type": "code",
   "execution_count": 118,
   "metadata": {},
   "outputs": [
    {
     "data": {
      "image/png": "[encoded data removed]",
      "text/plain": [
       "<Figure size 576x756 with 3 Axes>"
      ]
     },
     "metadata": {
      "needs_background": "light"
     },
     "output_type": "display_data"
    }
   ],
   "source": [
    "Fig1 = plt.figure()\n",
    "Fig1.set_size_inches(8, 10.5)\n",
    "ax31 = Fig1.add_subplot(3,1,1)\n",
    "ax31.plot( [TP_DICT[2][0], TP_DICT[2][0]], [-2000.0, 8000.0], linestyle='-',\n",
    "           linewidth=2, color='xkcd:dark orange' )\n",
    "ax31.plot( [TP_DICT[3][0], TP_DICT[3][0]], [-2000.0, 8000.0], linestyle='-',\n",
    "           linewidth=2, color='xkcd:dark orange' )\n",
    "ax31.plot( [TP_DICT[4][0], TP_DICT[4][0]], [-2000.0, 8000.0], linestyle='-',\n",
    "           linewidth=2, color='xkcd:dark orange' )\n",
    "sfF = ax31.fill( DTTimeList, Fil_RR1_AET, color='xkcd:greyish purple', alpha=0.50, \n",
    "                 label=\"5th to 95th percentile range\" )\n",
    "ax31.plot( RR1_2_AET.index, FF_RR1_AET_2_ME, linestyle='-',\n",
    "           linewidth=3, color='xkcd:blurple', label='Mean' )\n",
    "ax31.plot( RR1_3_AET.index, FF_RR1_AET_3_ME, linestyle='-',\n",
    "           linewidth=3, color='xkcd:blurple' )\n",
    "ax31.plot( RR1_4_AET.index, FF_RR1_AET_4_ME, linestyle='-',\n",
    "           linewidth=3, color='xkcd:blurple' )\n",
    "ax31.plot( RR1_2_AET.index, FF_RR1_AET_2_50, linestyle='dashed',\n",
    "           linewidth=2, color='xkcd:dark lilac', label='Median' )\n",
    "ax31.plot( RR1_3_AET.index, FF_RR1_AET_3_50, linestyle='dashed',\n",
    "           linewidth=2, color='xkcd:dark lilac' )\n",
    "ax31.plot( RR1_4_AET.index, FF_RR1_AET_4_50, linestyle='dashed',\n",
    "           linewidth=2, color='xkcd:dark lilac' )\n",
    "ax31.set_xlim( (dt.datetime(2010, 1, 1), TP_DICT[4][1]))\n",
    "ax31.set_xticks( xTicks )\n",
    "ax31.set_yticks( fsTicks )\n",
    "ax31.set_ylim( (-2000.0, 8000.0) )\n",
    "ax31.grid(True, axis='y', which='both')\n",
    "ax31.set_ylabel('AET $\\Delta$ ($acre-feet$)', fontsize=12)\n",
    "ax31.legend( loc='lower center', fontsize=11.0, ncol=3 )\n",
    "ax31.tick_params(axis='both', which='major', labelsize=11)\n",
    "ax31.tick_params(axis='x', which='major', labelrotation=0.0)\n",
    "ax31.yaxis.set_major_formatter( mpl.ticker.StrMethodFormatter( \"{x:,.1f}\" ) )\n",
    "ax31.xaxis.set_major_formatter( mpl.dates.DateFormatter(\"%Y-%m-%d\") )\n",
    "ax31.annotate(\"A\", xy=(0.96,0.06), xycoords=\"axes fraction\", fontsize=11.0,\n",
    "              backgroundcolor=\"xkcd:light grey\")\n",
    "ax31.annotate(\"Projection Interval 1\", xy=(0.05, 0.90), xycoords=\"axes fraction\",\n",
    "              fontsize=11.0, color=\"xkcd:dark orange\", backgroundcolor=\"xkcd:light grey\" )\n",
    "ax31.annotate(\"Projection Interval 2\", xy=(0.38, 0.90), xycoords=\"axes fraction\",\n",
    "              fontsize=11.0, color=\"xkcd:dark orange\", backgroundcolor=\"xkcd:light grey\" )\n",
    "ax31.annotate(\"Projection Interval 3\", xy=(0.71, 0.90), xycoords=\"axes fraction\",\n",
    "              fontsize=11.0, color=\"xkcd:dark orange\", backgroundcolor=\"xkcd:light grey\" )\n",
    "ax41 = Fig1.add_subplot(3,1,2)\n",
    "ax41.plot( [TP_DICT[2][0], TP_DICT[2][0]], [-2000.0, 8000.0], linestyle='-',\n",
    "           linewidth=2, color='xkcd:dark orange' )\n",
    "ax41.plot( [TP_DICT[3][0], TP_DICT[3][0]], [-2000.0, 8000.0], linestyle='-',\n",
    "           linewidth=2, color='xkcd:dark orange' )\n",
    "ax41.plot( [TP_DICT[4][0], TP_DICT[4][0]], [-2000.0, 8000.0], linestyle='-',\n",
    "           linewidth=2, color='xkcd:dark orange' )\n",
    "sfF = ax41.fill( DTTimeList, Fil_RR1_RO, color='xkcd:dark sand', alpha=0.50, \n",
    "                 label=\"5th to 95th percentile range\")\n",
    "ax41.plot( RR1_2_RO.index, FF_RR1_RO_2_ME, linestyle='-',\n",
    "           linewidth=3, color='xkcd:warm brown', label='Mean' )\n",
    "ax41.plot( RR1_3_RO.index, FF_RR1_RO_3_ME, linestyle='-',\n",
    "           linewidth=3, color='xkcd:warm brown' )\n",
    "ax41.plot( RR1_4_RO.index, FF_RR1_RO_4_ME, linestyle='-',\n",
    "           linewidth=3, color='xkcd:warm brown' )\n",
    "ax41.plot( RR1_2_RO.index, FF_RR1_RO_2_50, linestyle='dashed',\n",
    "           linewidth=2, color='xkcd:mud brown', label='Median' )\n",
    "ax41.plot( RR1_3_RO.index, FF_RR1_RO_3_50, linestyle='dashed',\n",
    "           linewidth=2, color='xkcd:mud brown' )\n",
    "ax41.plot( RR1_4_RO.index, FF_RR1_RO_4_50, linestyle='dashed',\n",
    "           linewidth=2, color='xkcd:mud brown' )\n",
    "ax41.set_xlim( (dt.datetime(2010, 1, 1), TP_DICT[4][1]))\n",
    "ax41.set_xticks( xTicks )\n",
    "ax41.set_yticks( fsTicks )\n",
    "ax41.set_ylim( (-2000.0, 8000.0) )\n",
    "ax41.grid(True, axis='y', which='both')\n",
    "ax41.set_ylabel('Runoff $\\Delta$ ($acre-feet$)', fontsize=12)\n",
    "ax41.legend( loc='lower center', fontsize=11.0, ncol=3 )\n",
    "ax41.tick_params(axis='both', which='major', labelsize=11)\n",
    "ax41.tick_params(axis='x', which='major', labelrotation=0.0)\n",
    "ax41.yaxis.set_major_formatter( mpl.ticker.StrMethodFormatter( \"{x:,.1f}\" ) )\n",
    "ax41.xaxis.set_major_formatter( mpl.dates.DateFormatter(\"%Y-%m-%d\") )\n",
    "ax41.annotate(\"B\", xy=(0.96,0.06), xycoords=\"axes fraction\", fontsize=11.0,\n",
    "              backgroundcolor=\"xkcd:light grey\")\n",
    "ax41.annotate(\"Projection Interval 1\", xy=(0.05, 0.90), xycoords=\"axes fraction\",\n",
    "              fontsize=11.0, color=\"xkcd:dark orange\", backgroundcolor=\"xkcd:light grey\" )\n",
    "ax41.annotate(\"Projection Interval 2\", xy=(0.38, 0.90), xycoords=\"axes fraction\",\n",
    "              fontsize=11.0, color=\"xkcd:dark orange\", backgroundcolor=\"xkcd:light grey\" )\n",
    "ax41.annotate(\"Projection Interval 3\", xy=(0.71, 0.90), xycoords=\"axes fraction\",\n",
    "              fontsize=11.0, color=\"xkcd:dark orange\", backgroundcolor=\"xkcd:light grey\" )\n",
    "ax51 = Fig1.add_subplot(3,1,3)\n",
    "ax51.plot( [TP_DICT[2][0], TP_DICT[2][0]], [-2000.0, 8000.0], linestyle='-',\n",
    "           linewidth=2, color='xkcd:dark orange' )\n",
    "ax51.plot( [TP_DICT[3][0], TP_DICT[3][0]], [-2000.0, 8000.0], linestyle='-',\n",
    "           linewidth=2, color='xkcd:dark orange' )\n",
    "ax51.plot( [TP_DICT[4][0], TP_DICT[4][0]], [-2000.0, 8000.0], linestyle='-',\n",
    "           linewidth=2, color='xkcd:dark orange' )\n",
    "sfF = ax51.fill( DTTimeList, Fil_RR1_RE, color='xkcd:green grey', alpha=0.50, \n",
    "                 label=\"5th to 95th percentile range\")\n",
    "ax51.plot( RR1_2_RE.index, FF_RR1_RE_2_ME, linestyle='-',\n",
    "           linewidth=3, color='xkcd:pine', label='Mean' )\n",
    "ax51.plot( RR1_3_RE.index, FF_RR1_RE_3_ME, linestyle='-',\n",
    "           linewidth=3, color='xkcd:pine' )\n",
    "ax51.plot( RR1_4_RE.index, FF_RR1_RE_4_ME, linestyle='-',\n",
    "           linewidth=3, color='xkcd:pine' )\n",
    "ax51.plot( RR1_2_RE.index, FF_RR1_RE_2_50, linestyle='dashed',\n",
    "           linewidth=2, color='xkcd:kelley green', label='Median' )\n",
    "ax51.plot( RR1_3_RE.index, FF_RR1_RE_3_50, linestyle='dashed',\n",
    "           linewidth=2, color='xkcd:kelley green' )\n",
    "ax51.plot( RR1_4_RE.index, FF_RR1_RE_4_50, linestyle='dashed',\n",
    "           linewidth=2, color='xkcd:kelley green' )\n",
    "ax51.set_xlim( (dt.datetime(2010, 1, 1), TP_DICT[4][1]))\n",
    "ax51.set_xticks( xTicks )\n",
    "ax51.set_yticks( fsTicks )\n",
    "ax51.set_ylim( (-2000.0, 8000.0) )\n",
    "ax51.grid(True, axis='y', which='both')\n",
    "ax51.set_ylabel('Recharge $\\Delta$ ($acre-feet$)', fontsize=12)\n",
    "ax51.legend( loc='lower center', fontsize=11.0, ncol=3 )\n",
    "ax51.tick_params(axis='both', which='major', labelsize=11)\n",
    "ax51.tick_params(axis='x', which='major', labelrotation=0.0)\n",
    "ax51.yaxis.set_major_formatter( mpl.ticker.StrMethodFormatter( \"{x:,.1f}\" ) )\n",
    "ax51.xaxis.set_major_formatter( mpl.dates.DateFormatter(\"%Y-%m-%d\") )\n",
    "ax51.annotate(\"C\", xy=(0.96,0.06), xycoords=\"axes fraction\", fontsize=11.0,\n",
    "              backgroundcolor=\"xkcd:light grey\")\n",
    "ax51.annotate(\"Projection Interval 1\", xy=(0.05, 0.90), xycoords=\"axes fraction\",\n",
    "              fontsize=11.0, color=\"xkcd:dark orange\", backgroundcolor=\"xkcd:light grey\" )\n",
    "ax51.annotate(\"Projection Interval 2\", xy=(0.38, 0.90), xycoords=\"axes fraction\",\n",
    "              fontsize=11.0, color=\"xkcd:dark orange\", backgroundcolor=\"xkcd:light grey\" )\n",
    "ax51.annotate(\"Projection Interval 3\", xy=(0.71, 0.90), xycoords=\"axes fraction\",\n",
    "              fontsize=11.0, color=\"xkcd:dark orange\", backgroundcolor=\"xkcd:light grey\" )\n",
    "Fig1.savefig( OutSVG )\n",
    "Fig1.savefig( OutPNG )\n",
    "Fig1.savefig( OutPDF )"
   ]
  },
  {
   "cell_type": "markdown",
   "metadata": {},
   "source": [
    "### Reach 2"
   ]
  },
  {
   "cell_type": "markdown",
   "metadata": {},
   "source": [
    "Fourier smoothing"
   ]
  },
  {
   "cell_type": "code",
   "execution_count": 119,
   "metadata": {},
   "outputs": [],
   "source": [
    "rft = np.fft.rfft( RR2_2_AET[StatsHdsList[95]].to_numpy() )\n",
    "rft[SM_NUM:] = 0.0\n",
    "FF_RR2_AET_2_95 = np.fft.irfft(rft)\n",
    "rft = np.fft.rfft( RR2_3_AET[StatsHdsList[95]].to_numpy() )\n",
    "rft[SM_NUM:] = 0.0\n",
    "FF_RR2_AET_3_95 = np.fft.irfft(rft)\n",
    "rft = np.fft.rfft( RR2_4_AET[StatsHdsList[95]].to_numpy() )\n",
    "rft[SM_NUM:] = 0.0\n",
    "FF_RR2_AET_4_95 = np.fft.irfft(rft)\n",
    "rft = np.fft.rfft( RR2_2_AET[StatsHdsList[5]].to_numpy() )\n",
    "rft[SM_NUM:] = 0.0\n",
    "FF_RR2_AET_2_05 = np.fft.irfft(rft)\n",
    "rft = np.fft.rfft( RR2_3_AET[StatsHdsList[5]].to_numpy() )\n",
    "rft[SM_NUM:] = 0.0\n",
    "FF_RR2_AET_3_05 = np.fft.irfft(rft)\n",
    "rft = np.fft.rfft( RR2_4_AET[StatsHdsList[5]].to_numpy() )\n",
    "rft[SM_NUM:] = 0.0\n",
    "FF_RR2_AET_4_05 = np.fft.irfft(rft)\n",
    "rft = np.fft.rfft( RR2_2_AET[StatsHdsList[50]].to_numpy() )\n",
    "rft[SM_NUM:] = 0.0\n",
    "FF_RR2_AET_2_50 = np.fft.irfft(rft)\n",
    "rft = np.fft.rfft( RR2_3_AET[StatsHdsList[50]].to_numpy() )\n",
    "rft[SM_NUM:] = 0.0\n",
    "FF_RR2_AET_3_50 = np.fft.irfft(rft)\n",
    "rft = np.fft.rfft( RR2_4_AET[StatsHdsList[50]].to_numpy() )\n",
    "rft[SM_NUM:] = 0.0\n",
    "FF_RR2_AET_4_50 = np.fft.irfft(rft)\n",
    "rft = np.fft.rfft( RR2_2_AET[StatsHdsList[101]].to_numpy() )\n",
    "rft[SM_NUM:] = 0.0\n",
    "FF_RR2_AET_2_ME = np.fft.irfft(rft)\n",
    "rft = np.fft.rfft( RR2_3_AET[StatsHdsList[101]].to_numpy() )\n",
    "rft[SM_NUM:] = 0.0\n",
    "FF_RR2_AET_3_ME = np.fft.irfft(rft)\n",
    "rft = np.fft.rfft( RR2_4_AET[StatsHdsList[101]].to_numpy() )\n",
    "rft[SM_NUM:] = 0.0\n",
    "FF_RR2_AET_4_ME = np.fft.irfft(rft)"
   ]
  },
  {
   "cell_type": "code",
   "execution_count": 120,
   "metadata": {},
   "outputs": [],
   "source": [
    "rft = np.fft.rfft( RR2_2_RE[StatsHdsList[95]].to_numpy() )\n",
    "rft[SM_NUM:] = 0.0\n",
    "FF_RR2_RE_2_95 = np.fft.irfft(rft)\n",
    "rft = np.fft.rfft( RR2_3_RE[StatsHdsList[95]].to_numpy() )\n",
    "rft[SM_NUM:] = 0.0\n",
    "FF_RR2_RE_3_95 = np.fft.irfft(rft)\n",
    "rft = np.fft.rfft( RR2_4_RE[StatsHdsList[95]].to_numpy() )\n",
    "rft[SM_NUM:] = 0.0\n",
    "FF_RR2_RE_4_95 = np.fft.irfft(rft)\n",
    "rft = np.fft.rfft( RR2_2_RE[StatsHdsList[5]].to_numpy() )\n",
    "rft[SM_NUM:] = 0.0\n",
    "FF_RR2_RE_2_05 = np.fft.irfft(rft)\n",
    "rft = np.fft.rfft( RR2_3_RE[StatsHdsList[5]].to_numpy() )\n",
    "rft[SM_NUM:] = 0.0\n",
    "FF_RR2_RE_3_05 = np.fft.irfft(rft)\n",
    "rft = np.fft.rfft( RR2_4_RE[StatsHdsList[5]].to_numpy() )\n",
    "rft[SM_NUM:] = 0.0\n",
    "FF_RR2_RE_4_05 = np.fft.irfft(rft)\n",
    "rft = np.fft.rfft( RR2_2_RE[StatsHdsList[50]].to_numpy() )\n",
    "rft[SM_NUM:] = 0.0\n",
    "FF_RR2_RE_2_50 = np.fft.irfft(rft)\n",
    "rft = np.fft.rfft( RR2_3_RE[StatsHdsList[50]].to_numpy() )\n",
    "rft[SM_NUM:] = 0.0\n",
    "FF_RR2_RE_3_50 = np.fft.irfft(rft)\n",
    "rft = np.fft.rfft( RR2_4_RE[StatsHdsList[50]].to_numpy() )\n",
    "rft[SM_NUM:] = 0.0\n",
    "FF_RR2_RE_4_50 = np.fft.irfft(rft)\n",
    "rft = np.fft.rfft( RR2_2_RE[StatsHdsList[101]].to_numpy() )\n",
    "rft[SM_NUM:] = 0.0\n",
    "FF_RR2_RE_2_ME = np.fft.irfft(rft)\n",
    "rft = np.fft.rfft( RR2_3_RE[StatsHdsList[101]].to_numpy() )\n",
    "rft[SM_NUM:] = 0.0\n",
    "FF_RR2_RE_3_ME = np.fft.irfft(rft)\n",
    "rft = np.fft.rfft( RR2_4_RE[StatsHdsList[101]].to_numpy() )\n",
    "rft[SM_NUM:] = 0.0\n",
    "FF_RR2_RE_4_ME = np.fft.irfft(rft)"
   ]
  },
  {
   "cell_type": "code",
   "execution_count": 121,
   "metadata": {},
   "outputs": [],
   "source": [
    "rft = np.fft.rfft( RR2_2_RO[StatsHdsList[95]].to_numpy() )\n",
    "rft[SM_NUM:] = 0.0\n",
    "FF_RR2_RO_2_95 = np.fft.irfft(rft)\n",
    "rft = np.fft.rfft( RR2_3_RO[StatsHdsList[95]].to_numpy() )\n",
    "rft[SM_NUM:] = 0.0\n",
    "FF_RR2_RO_3_95 = np.fft.irfft(rft)\n",
    "rft = np.fft.rfft( RR2_4_RO[StatsHdsList[95]].to_numpy() )\n",
    "rft[SM_NUM:] = 0.0\n",
    "FF_RR2_RO_4_95 = np.fft.irfft(rft)\n",
    "rft = np.fft.rfft( RR2_2_RO[StatsHdsList[5]].to_numpy() )\n",
    "rft[SM_NUM:] = 0.0\n",
    "FF_RR2_RO_2_05 = np.fft.irfft(rft)\n",
    "rft = np.fft.rfft( RR2_3_RO[StatsHdsList[5]].to_numpy() )\n",
    "rft[SM_NUM:] = 0.0\n",
    "FF_RR2_RO_3_05 = np.fft.irfft(rft)\n",
    "rft = np.fft.rfft( RR2_4_RO[StatsHdsList[5]].to_numpy() )\n",
    "rft[SM_NUM:] = 0.0\n",
    "FF_RR2_RO_4_05 = np.fft.irfft(rft)\n",
    "rft = np.fft.rfft( RR2_2_RO[StatsHdsList[50]].to_numpy() )\n",
    "rft[SM_NUM:] = 0.0\n",
    "FF_RR2_RO_2_50 = np.fft.irfft(rft)\n",
    "rft = np.fft.rfft( RR2_3_RO[StatsHdsList[50]].to_numpy() )\n",
    "rft[SM_NUM:] = 0.0\n",
    "FF_RR2_RO_3_50 = np.fft.irfft(rft)\n",
    "rft = np.fft.rfft( RR2_4_RO[StatsHdsList[50]].to_numpy() )\n",
    "rft[SM_NUM:] = 0.0\n",
    "FF_RR2_RO_4_50 = np.fft.irfft(rft)\n",
    "rft = np.fft.rfft( RR2_2_RO[StatsHdsList[101]].to_numpy() )\n",
    "rft[SM_NUM:] = 0.0\n",
    "FF_RR2_RO_2_ME = np.fft.irfft(rft)\n",
    "rft = np.fft.rfft( RR2_3_RO[StatsHdsList[101]].to_numpy() )\n",
    "rft[SM_NUM:] = 0.0\n",
    "FF_RR2_RO_3_ME = np.fft.irfft(rft)\n",
    "rft = np.fft.rfft( RR2_4_RO[StatsHdsList[101]].to_numpy() )\n",
    "rft[SM_NUM:] = 0.0\n",
    "FF_RR2_RO_4_ME = np.fft.irfft(rft)"
   ]
  },
  {
   "cell_type": "markdown",
   "metadata": {},
   "source": [
    "Filled confidence interval areas"
   ]
  },
  {
   "cell_type": "code",
   "execution_count": 122,
   "metadata": {},
   "outputs": [],
   "source": [
    "Fil_RR2_AET_2_5 = list( FF_RR2_AET_2_05 )\n",
    "Fil_RR2_AET_3_5 = list( FF_RR2_AET_3_05 )\n",
    "Fil_RR2_AET_4_5 = list( FF_RR2_AET_4_05 )\n",
    "BackDTList = list( FF_RR2_AET_4_95 )\n",
    "Back_AET_4_95 = BackDTList[::-1]\n",
    "BackDTList = list( FF_RR2_AET_3_95 )\n",
    "Back_AET_3_95 = BackDTList[::-1]\n",
    "BackDTList = list( FF_RR2_AET_2_95 )\n",
    "Back_AET_2_95 = BackDTList[::-1]\n",
    "Fil_RR2_AET = deepcopy( Fil_RR2_AET_2_5 )\n",
    "Fil_RR2_AET.extend( Fil_RR2_AET_3_5 )\n",
    "Fil_RR2_AET.extend( Fil_RR2_AET_4_5 )\n",
    "Fil_RR2_AET.extend( Back_AET_4_95 )\n",
    "Fil_RR2_AET.extend( Back_AET_3_95 )\n",
    "Fil_RR2_AET.extend( Back_AET_2_95 )"
   ]
  },
  {
   "cell_type": "code",
   "execution_count": 123,
   "metadata": {},
   "outputs": [],
   "source": [
    "Fil_RR2_RE_2_5 = list( FF_RR2_RE_2_05 )\n",
    "Fil_RR2_RE_3_5 = list( FF_RR2_RE_3_05 )\n",
    "Fil_RR2_RE_4_5 = list( FF_RR2_RE_4_05 )\n",
    "BackDTList = list( FF_RR2_RE_4_95 )\n",
    "Back_RE_4_95 = BackDTList[::-1]\n",
    "BackDTList = list( FF_RR2_RE_3_95 )\n",
    "Back_RE_3_95 = BackDTList[::-1]\n",
    "BackDTList = list( FF_RR2_RE_2_95 )\n",
    "Back_RE_2_95 = BackDTList[::-1]\n",
    "Fil_RR2_RE = deepcopy( Fil_RR2_RE_2_5 )\n",
    "Fil_RR2_RE.extend( Fil_RR2_RE_3_5 )\n",
    "Fil_RR2_RE.extend( Fil_RR2_RE_4_5 )\n",
    "Fil_RR2_RE.extend( Back_RE_4_95 )\n",
    "Fil_RR2_RE.extend( Back_RE_3_95 )\n",
    "Fil_RR2_RE.extend( Back_RE_2_95 )"
   ]
  },
  {
   "cell_type": "code",
   "execution_count": 124,
   "metadata": {},
   "outputs": [],
   "source": [
    "Fil_RR2_RO_2_5 = list( FF_RR2_RO_2_05 )\n",
    "Fil_RR2_RO_3_5 = list( FF_RR2_RO_3_05 )\n",
    "Fil_RR2_RO_4_5 = list( FF_RR2_RO_4_05 )\n",
    "BackDTList = list( FF_RR2_RO_4_95 )\n",
    "Back_RO_4_95 = BackDTList[::-1]\n",
    "BackDTList = list( FF_RR2_RO_3_95 )\n",
    "Back_RO_3_95 = BackDTList[::-1]\n",
    "BackDTList = list( FF_RR2_RO_2_95 )\n",
    "Back_RO_2_95 = BackDTList[::-1]\n",
    "Fil_RR2_RO = deepcopy( Fil_RR2_RO_2_5 )\n",
    "Fil_RR2_RO.extend( Fil_RR2_RO_3_5 )\n",
    "Fil_RR2_RO.extend( Fil_RR2_RO_4_5 )\n",
    "Fil_RR2_RO.extend( Back_RO_4_95 )\n",
    "Fil_RR2_RO.extend( Back_RO_3_95 )\n",
    "Fil_RR2_RO.extend( Back_RO_2_95 )"
   ]
  },
  {
   "cell_type": "markdown",
   "metadata": {},
   "source": [
    "Plot"
   ]
  },
  {
   "cell_type": "code",
   "execution_count": 125,
   "metadata": {},
   "outputs": [
    {
     "data": {
      "text/plain": [
       "'C:\\\\Users\\\\nmart\\\\OneDrive\\\\CC_IRD\\\\Process_Results\\\\Plots\\\\DelBas_RR2_FF3WB.svg'"
      ]
     },
     "execution_count": 125,
     "metadata": {},
     "output_type": "execute_result"
    }
   ],
   "source": [
    "OutSVG = os.path.normpath( os.path.join( OUT_DIR, \"Plots\", \"DelBas_RR2_FF3WB.svg\" ) )\n",
    "OutSVG"
   ]
  },
  {
   "cell_type": "code",
   "execution_count": 126,
   "metadata": {},
   "outputs": [
    {
     "data": {
      "text/plain": [
       "'C:\\\\Users\\\\nmart\\\\OneDrive\\\\CC_IRD\\\\Process_Results\\\\Plots\\\\DelBas_RR2_FF3WB.png'"
      ]
     },
     "execution_count": 126,
     "metadata": {},
     "output_type": "execute_result"
    }
   ],
   "source": [
    "OutPNG = os.path.normpath( os.path.join( OUT_DIR, \"Plots\", \"DelBas_RR2_FF3WB.png\" ) )\n",
    "OutPNG"
   ]
  },
  {
   "cell_type": "code",
   "execution_count": 127,
   "metadata": {},
   "outputs": [
    {
     "data": {
      "text/plain": [
       "'C:\\\\Users\\\\nmart\\\\OneDrive\\\\CC_IRD\\\\Process_Results\\\\Plots\\\\DelBas_RR2_FF3WB.pdf'"
      ]
     },
     "execution_count": 127,
     "metadata": {},
     "output_type": "execute_result"
    }
   ],
   "source": [
    "OutPDF = os.path.normpath( os.path.join( OUT_DIR, \"Plots\", \"DelBas_RR2_FF3WB.pdf\" ) )\n",
    "OutPDF"
   ]
  },
  {
   "cell_type": "code",
   "execution_count": 128,
   "metadata": {},
   "outputs": [],
   "source": [
    "fsTicks = [ -2000.0, 0.0, 2000.0, 4000.0, 6000.0, 8000.0 ]"
   ]
  },
  {
   "cell_type": "code",
   "execution_count": 129,
   "metadata": {},
   "outputs": [
    {
     "data": {
      "image/png": "[encoded data removed]",
      "text/plain": [
       "<Figure size 576x756 with 3 Axes>"
      ]
     },
     "metadata": {
      "needs_background": "light"
     },
     "output_type": "display_data"
    }
   ],
   "source": [
    "Fig1 = plt.figure()\n",
    "Fig1.set_size_inches(8, 10.5)\n",
    "ax31 = Fig1.add_subplot(3,1,1)\n",
    "ax31.plot( [TP_DICT[2][0], TP_DICT[2][0]], [-2000.0, 8000.0], linestyle='-',\n",
    "           linewidth=2, color='xkcd:dark orange' )\n",
    "ax31.plot( [TP_DICT[3][0], TP_DICT[3][0]], [-2000.0, 8000.0], linestyle='-',\n",
    "           linewidth=2, color='xkcd:dark orange' )\n",
    "ax31.plot( [TP_DICT[4][0], TP_DICT[4][0]], [-2000.0, 8000.0], linestyle='-',\n",
    "           linewidth=2, color='xkcd:dark orange' )\n",
    "sfF = ax31.fill( DTTimeList, Fil_RR2_AET, color='xkcd:greyish purple', alpha=0.50, \n",
    "                 label=\"5th to 95th percentile range\" )\n",
    "ax31.plot( RR2_2_AET.index, FF_RR2_AET_2_ME, linestyle='-',\n",
    "           linewidth=3, color='xkcd:blurple', label='Mean' )\n",
    "ax31.plot( RR2_3_AET.index, FF_RR2_AET_3_ME, linestyle='-',\n",
    "           linewidth=3, color='xkcd:blurple' )\n",
    "ax31.plot( RR2_4_AET.index, FF_RR2_AET_4_ME, linestyle='-',\n",
    "           linewidth=3, color='xkcd:blurple' )\n",
    "ax31.plot( RR2_2_AET.index, FF_RR2_AET_2_50, linestyle='dashed',\n",
    "           linewidth=2, color='xkcd:dark lilac', label='Median' )\n",
    "ax31.plot( RR2_3_AET.index, FF_RR2_AET_3_50, linestyle='dashed',\n",
    "           linewidth=2, color='xkcd:dark lilac' )\n",
    "ax31.plot( RR2_4_AET.index, FF_RR2_AET_4_50, linestyle='dashed',\n",
    "           linewidth=2, color='xkcd:dark lilac' )\n",
    "ax31.set_xlim( (dt.datetime(2010, 1, 1), TP_DICT[4][1]))\n",
    "ax31.set_xticks( xTicks )\n",
    "ax31.set_yticks( fsTicks )\n",
    "ax31.set_ylim( (-2000.0, 8000.0) )\n",
    "ax31.grid(True, axis='y', which='both')\n",
    "ax31.set_ylabel('AET $\\Delta$ ($acre-feet$)', fontsize=12)\n",
    "ax31.legend( loc='lower center', fontsize=11.0, ncol=3 )\n",
    "ax31.tick_params(axis='both', which='major', labelsize=11)\n",
    "ax31.tick_params(axis='x', which='major', labelrotation=0.0)\n",
    "ax31.yaxis.set_major_formatter( mpl.ticker.StrMethodFormatter( \"{x:,.1f}\" ) )\n",
    "ax31.xaxis.set_major_formatter( mpl.dates.DateFormatter(\"%Y-%m-%d\") )\n",
    "ax31.annotate(\"A\", xy=(0.96,0.06), xycoords=\"axes fraction\", fontsize=11.0,\n",
    "              backgroundcolor=\"xkcd:light grey\")\n",
    "ax31.annotate(\"Projection Interval 1\", xy=(0.05, 0.90), xycoords=\"axes fraction\",\n",
    "              fontsize=11.0, color=\"xkcd:dark orange\", backgroundcolor=\"xkcd:light grey\" )\n",
    "ax31.annotate(\"Projection Interval 2\", xy=(0.38, 0.90), xycoords=\"axes fraction\",\n",
    "              fontsize=11.0, color=\"xkcd:dark orange\", backgroundcolor=\"xkcd:light grey\" )\n",
    "ax31.annotate(\"Projection Interval 3\", xy=(0.71, 0.90), xycoords=\"axes fraction\",\n",
    "              fontsize=11.0, color=\"xkcd:dark orange\", backgroundcolor=\"xkcd:light grey\" )\n",
    "ax41 = Fig1.add_subplot(3,1,2)\n",
    "ax41.plot( [TP_DICT[2][0], TP_DICT[2][0]], [-2000.0, 8000.0], linestyle='-',\n",
    "           linewidth=2, color='xkcd:dark orange' )\n",
    "ax41.plot( [TP_DICT[3][0], TP_DICT[3][0]], [-2000.0, 8000.0], linestyle='-',\n",
    "           linewidth=2, color='xkcd:dark orange' )\n",
    "ax41.plot( [TP_DICT[4][0], TP_DICT[4][0]], [-2000.0, 8000.0], linestyle='-',\n",
    "           linewidth=2, color='xkcd:dark orange' )\n",
    "sfF = ax41.fill( DTTimeList, Fil_RR2_RO, color='xkcd:dark sand', alpha=0.50, \n",
    "                 label=\"5th to 95th percentile range\")\n",
    "ax41.plot( RR2_2_RO.index, FF_RR2_RO_2_ME, linestyle='-',\n",
    "           linewidth=3, color='xkcd:warm brown', label='Mean' )\n",
    "ax41.plot( RR2_3_RO.index, FF_RR2_RO_3_ME, linestyle='-',\n",
    "           linewidth=3, color='xkcd:warm brown' )\n",
    "ax41.plot( RR2_4_RO.index, FF_RR2_RO_4_ME, linestyle='-',\n",
    "           linewidth=3, color='xkcd:warm brown' )\n",
    "ax41.plot( RR2_2_RO.index, FF_RR2_RO_2_50, linestyle='dashed',\n",
    "           linewidth=2, color='xkcd:mud brown', label='Median' )\n",
    "ax41.plot( RR2_3_RO.index, FF_RR2_RO_3_50, linestyle='dashed',\n",
    "           linewidth=2, color='xkcd:mud brown' )\n",
    "ax41.plot( RR2_4_RO.index, FF_RR2_RO_4_50, linestyle='dashed',\n",
    "           linewidth=2, color='xkcd:mud brown' )\n",
    "ax41.set_xlim( (dt.datetime(2010, 1, 1), TP_DICT[4][1]))\n",
    "ax41.set_xticks( xTicks )\n",
    "ax41.set_yticks( fsTicks )\n",
    "ax41.set_ylim( (-2000.0, 8000.0) )\n",
    "ax41.grid(True, axis='y', which='both')\n",
    "ax41.set_ylabel('Runoff $\\Delta$ ($acre-feet$)', fontsize=12)\n",
    "ax41.legend( loc='lower center', fontsize=11.0, ncol=3 )\n",
    "ax41.tick_params(axis='both', which='major', labelsize=11)\n",
    "ax41.tick_params(axis='x', which='major', labelrotation=0.0)\n",
    "ax41.yaxis.set_major_formatter( mpl.ticker.StrMethodFormatter( \"{x:,.1f}\" ) )\n",
    "ax41.xaxis.set_major_formatter( mpl.dates.DateFormatter(\"%Y-%m-%d\") )\n",
    "ax41.annotate(\"B\", xy=(0.96,0.06), xycoords=\"axes fraction\", fontsize=11.0,\n",
    "              backgroundcolor=\"xkcd:light grey\")\n",
    "ax41.annotate(\"Projection Interval 1\", xy=(0.05, 0.90), xycoords=\"axes fraction\",\n",
    "              fontsize=11.0, color=\"xkcd:dark orange\", backgroundcolor=\"xkcd:light grey\" )\n",
    "ax41.annotate(\"Projection Interval 2\", xy=(0.38, 0.90), xycoords=\"axes fraction\",\n",
    "              fontsize=11.0, color=\"xkcd:dark orange\", backgroundcolor=\"xkcd:light grey\" )\n",
    "ax41.annotate(\"Projection Interval 3\", xy=(0.71, 0.90), xycoords=\"axes fraction\",\n",
    "              fontsize=11.0, color=\"xkcd:dark orange\", backgroundcolor=\"xkcd:light grey\" )\n",
    "ax51 = Fig1.add_subplot(3,1,3)\n",
    "ax51.plot( [TP_DICT[2][0], TP_DICT[2][0]], [-2000.0, 8000.0], linestyle='-',\n",
    "           linewidth=2, color='xkcd:dark orange' )\n",
    "ax51.plot( [TP_DICT[3][0], TP_DICT[3][0]], [-2000.0, 8000.0], linestyle='-',\n",
    "           linewidth=2, color='xkcd:dark orange' )\n",
    "ax51.plot( [TP_DICT[4][0], TP_DICT[4][0]], [-2000.0, 8000.0], linestyle='-',\n",
    "           linewidth=2, color='xkcd:dark orange' )\n",
    "sfF = ax51.fill( DTTimeList, Fil_RR2_RE, color='xkcd:green grey', alpha=0.50, \n",
    "                 label=\"5th to 95th percentile range\")\n",
    "ax51.plot( RR2_2_RE.index, FF_RR2_RE_2_ME, linestyle='-',\n",
    "           linewidth=3, color='xkcd:pine', label='Mean' )\n",
    "ax51.plot( RR2_3_RE.index, FF_RR2_RE_3_ME, linestyle='-',\n",
    "           linewidth=3, color='xkcd:pine' )\n",
    "ax51.plot( RR2_4_RE.index, FF_RR2_RE_4_ME, linestyle='-',\n",
    "           linewidth=3, color='xkcd:pine' )\n",
    "ax51.plot( RR2_2_RE.index, FF_RR2_RE_2_50, linestyle='dashed',\n",
    "           linewidth=2, color='xkcd:kelley green', label='Median' )\n",
    "ax51.plot( RR2_3_RE.index, FF_RR2_RE_3_50, linestyle='dashed',\n",
    "           linewidth=2, color='xkcd:kelley green' )\n",
    "ax51.plot( RR2_4_RE.index, FF_RR2_RE_4_50, linestyle='dashed',\n",
    "           linewidth=2, color='xkcd:kelley green' )\n",
    "ax51.set_xlim( (dt.datetime(2010, 1, 1), TP_DICT[4][1]))\n",
    "ax51.set_xticks( xTicks )\n",
    "ax51.set_yticks( fsTicks )\n",
    "ax51.set_ylim( (-2000.0, 8000.0) )\n",
    "ax51.grid(True, axis='y', which='both')\n",
    "ax51.set_ylabel('Recharge $\\Delta$ ($acre-feet$)', fontsize=12)\n",
    "ax51.legend( loc='lower center', fontsize=11.0, ncol=3 )\n",
    "ax51.tick_params(axis='both', which='major', labelsize=11)\n",
    "ax51.tick_params(axis='x', which='major', labelrotation=0.0)\n",
    "ax51.yaxis.set_major_formatter( mpl.ticker.StrMethodFormatter( \"{x:,.1f}\" ) )\n",
    "ax51.xaxis.set_major_formatter( mpl.dates.DateFormatter(\"%Y-%m-%d\") )\n",
    "ax51.annotate(\"C\", xy=(0.96,0.06), xycoords=\"axes fraction\", fontsize=11.0,\n",
    "              backgroundcolor=\"xkcd:light grey\")\n",
    "ax51.annotate(\"Projection Interval 1\", xy=(0.05, 0.90), xycoords=\"axes fraction\",\n",
    "              fontsize=11.0, color=\"xkcd:dark orange\", backgroundcolor=\"xkcd:light grey\" )\n",
    "ax51.annotate(\"Projection Interval 2\", xy=(0.38, 0.90), xycoords=\"axes fraction\",\n",
    "              fontsize=11.0, color=\"xkcd:dark orange\", backgroundcolor=\"xkcd:light grey\" )\n",
    "ax51.annotate(\"Projection Interval 3\", xy=(0.71, 0.90), xycoords=\"axes fraction\",\n",
    "              fontsize=11.0, color=\"xkcd:dark orange\", backgroundcolor=\"xkcd:light grey\" )\n",
    "Fig1.savefig( OutSVG )\n",
    "Fig1.savefig( OutPNG )\n",
    "Fig1.savefig( OutPDF )"
   ]
  },
  {
   "cell_type": "markdown",
   "metadata": {},
   "source": [
    "### Reach 3"
   ]
  },
  {
   "cell_type": "markdown",
   "metadata": {},
   "source": [
    "Fourier smoothing"
   ]
  },
  {
   "cell_type": "code",
   "execution_count": 130,
   "metadata": {},
   "outputs": [],
   "source": [
    "rft = np.fft.rfft( RR3_2_AET[StatsHdsList[95]].to_numpy() )\n",
    "rft[SM_NUM:] = 0.0\n",
    "FF_RR3_AET_2_95 = np.fft.irfft(rft)\n",
    "rft = np.fft.rfft( RR3_3_AET[StatsHdsList[95]].to_numpy() )\n",
    "rft[SM_NUM:] = 0.0\n",
    "FF_RR3_AET_3_95 = np.fft.irfft(rft)\n",
    "rft = np.fft.rfft( RR3_4_AET[StatsHdsList[95]].to_numpy() )\n",
    "rft[SM_NUM:] = 0.0\n",
    "FF_RR3_AET_4_95 = np.fft.irfft(rft)\n",
    "rft = np.fft.rfft( RR3_2_AET[StatsHdsList[5]].to_numpy() )\n",
    "rft[SM_NUM:] = 0.0\n",
    "FF_RR3_AET_2_05 = np.fft.irfft(rft)\n",
    "rft = np.fft.rfft( RR3_3_AET[StatsHdsList[5]].to_numpy() )\n",
    "rft[SM_NUM:] = 0.0\n",
    "FF_RR3_AET_3_05 = np.fft.irfft(rft)\n",
    "rft = np.fft.rfft( RR3_4_AET[StatsHdsList[5]].to_numpy() )\n",
    "rft[SM_NUM:] = 0.0\n",
    "FF_RR3_AET_4_05 = np.fft.irfft(rft)\n",
    "rft = np.fft.rfft( RR3_2_AET[StatsHdsList[50]].to_numpy() )\n",
    "rft[SM_NUM:] = 0.0\n",
    "FF_RR3_AET_2_50 = np.fft.irfft(rft)\n",
    "rft = np.fft.rfft( RR3_3_AET[StatsHdsList[50]].to_numpy() )\n",
    "rft[SM_NUM:] = 0.0\n",
    "FF_RR3_AET_3_50 = np.fft.irfft(rft)\n",
    "rft = np.fft.rfft( RR3_4_AET[StatsHdsList[50]].to_numpy() )\n",
    "rft[SM_NUM:] = 0.0\n",
    "FF_RR3_AET_4_50 = np.fft.irfft(rft)\n",
    "rft = np.fft.rfft( RR3_2_AET[StatsHdsList[101]].to_numpy() )\n",
    "rft[SM_NUM:] = 0.0\n",
    "FF_RR3_AET_2_ME = np.fft.irfft(rft)\n",
    "rft = np.fft.rfft( RR3_3_AET[StatsHdsList[101]].to_numpy() )\n",
    "rft[SM_NUM:] = 0.0\n",
    "FF_RR3_AET_3_ME = np.fft.irfft(rft)\n",
    "rft = np.fft.rfft( RR3_4_AET[StatsHdsList[101]].to_numpy() )\n",
    "rft[SM_NUM:] = 0.0\n",
    "FF_RR3_AET_4_ME = np.fft.irfft(rft)"
   ]
  },
  {
   "cell_type": "code",
   "execution_count": 131,
   "metadata": {},
   "outputs": [],
   "source": [
    "rft = np.fft.rfft( RR3_2_RE[StatsHdsList[95]].to_numpy() )\n",
    "rft[SM_NUM:] = 0.0\n",
    "FF_RR3_RE_2_95 = np.fft.irfft(rft)\n",
    "rft = np.fft.rfft( RR3_3_RE[StatsHdsList[95]].to_numpy() )\n",
    "rft[SM_NUM:] = 0.0\n",
    "FF_RR3_RE_3_95 = np.fft.irfft(rft)\n",
    "rft = np.fft.rfft( RR3_4_RE[StatsHdsList[95]].to_numpy() )\n",
    "rft[SM_NUM:] = 0.0\n",
    "FF_RR3_RE_4_95 = np.fft.irfft(rft)\n",
    "rft = np.fft.rfft( RR3_2_RE[StatsHdsList[5]].to_numpy() )\n",
    "rft[SM_NUM:] = 0.0\n",
    "FF_RR3_RE_2_05 = np.fft.irfft(rft)\n",
    "rft = np.fft.rfft( RR3_3_RE[StatsHdsList[5]].to_numpy() )\n",
    "rft[SM_NUM:] = 0.0\n",
    "FF_RR3_RE_3_05 = np.fft.irfft(rft)\n",
    "rft = np.fft.rfft( RR3_4_RE[StatsHdsList[5]].to_numpy() )\n",
    "rft[SM_NUM:] = 0.0\n",
    "FF_RR3_RE_4_05 = np.fft.irfft(rft)\n",
    "rft = np.fft.rfft( RR3_2_RE[StatsHdsList[50]].to_numpy() )\n",
    "rft[SM_NUM:] = 0.0\n",
    "FF_RR3_RE_2_50 = np.fft.irfft(rft)\n",
    "rft = np.fft.rfft( RR3_3_RE[StatsHdsList[50]].to_numpy() )\n",
    "rft[SM_NUM:] = 0.0\n",
    "FF_RR3_RE_3_50 = np.fft.irfft(rft)\n",
    "rft = np.fft.rfft( RR3_4_RE[StatsHdsList[50]].to_numpy() )\n",
    "rft[SM_NUM:] = 0.0\n",
    "FF_RR3_RE_4_50 = np.fft.irfft(rft)\n",
    "rft = np.fft.rfft( RR3_2_RE[StatsHdsList[101]].to_numpy() )\n",
    "rft[SM_NUM:] = 0.0\n",
    "FF_RR3_RE_2_ME = np.fft.irfft(rft)\n",
    "rft = np.fft.rfft( RR3_3_RE[StatsHdsList[101]].to_numpy() )\n",
    "rft[SM_NUM:] = 0.0\n",
    "FF_RR3_RE_3_ME = np.fft.irfft(rft)\n",
    "rft = np.fft.rfft( RR3_4_RE[StatsHdsList[101]].to_numpy() )\n",
    "rft[SM_NUM:] = 0.0\n",
    "FF_RR3_RE_4_ME = np.fft.irfft(rft)"
   ]
  },
  {
   "cell_type": "code",
   "execution_count": 132,
   "metadata": {},
   "outputs": [],
   "source": [
    "rft = np.fft.rfft( RR3_2_RO[StatsHdsList[95]].to_numpy() )\n",
    "rft[SM_NUM:] = 0.0\n",
    "FF_RR3_RO_2_95 = np.fft.irfft(rft)\n",
    "rft = np.fft.rfft( RR3_3_RO[StatsHdsList[95]].to_numpy() )\n",
    "rft[SM_NUM:] = 0.0\n",
    "FF_RR3_RO_3_95 = np.fft.irfft(rft)\n",
    "rft = np.fft.rfft( RR3_4_RO[StatsHdsList[95]].to_numpy() )\n",
    "rft[SM_NUM:] = 0.0\n",
    "FF_RR3_RO_4_95 = np.fft.irfft(rft)\n",
    "rft = np.fft.rfft( RR3_2_RO[StatsHdsList[5]].to_numpy() )\n",
    "rft[SM_NUM:] = 0.0\n",
    "FF_RR3_RO_2_05 = np.fft.irfft(rft)\n",
    "rft = np.fft.rfft( RR3_3_RO[StatsHdsList[5]].to_numpy() )\n",
    "rft[SM_NUM:] = 0.0\n",
    "FF_RR3_RO_3_05 = np.fft.irfft(rft)\n",
    "rft = np.fft.rfft( RR3_4_RO[StatsHdsList[5]].to_numpy() )\n",
    "rft[SM_NUM:] = 0.0\n",
    "FF_RR3_RO_4_05 = np.fft.irfft(rft)\n",
    "rft = np.fft.rfft( RR3_2_RO[StatsHdsList[50]].to_numpy() )\n",
    "rft[SM_NUM:] = 0.0\n",
    "FF_RR3_RO_2_50 = np.fft.irfft(rft)\n",
    "rft = np.fft.rfft( RR3_3_RO[StatsHdsList[50]].to_numpy() )\n",
    "rft[SM_NUM:] = 0.0\n",
    "FF_RR3_RO_3_50 = np.fft.irfft(rft)\n",
    "rft = np.fft.rfft( RR3_4_RO[StatsHdsList[50]].to_numpy() )\n",
    "rft[SM_NUM:] = 0.0\n",
    "FF_RR3_RO_4_50 = np.fft.irfft(rft)\n",
    "rft = np.fft.rfft( RR3_2_RO[StatsHdsList[101]].to_numpy() )\n",
    "rft[SM_NUM:] = 0.0\n",
    "FF_RR3_RO_2_ME = np.fft.irfft(rft)\n",
    "rft = np.fft.rfft( RR3_3_RO[StatsHdsList[101]].to_numpy() )\n",
    "rft[SM_NUM:] = 0.0\n",
    "FF_RR3_RO_3_ME = np.fft.irfft(rft)\n",
    "rft = np.fft.rfft( RR3_4_RO[StatsHdsList[101]].to_numpy() )\n",
    "rft[SM_NUM:] = 0.0\n",
    "FF_RR3_RO_4_ME = np.fft.irfft(rft)"
   ]
  },
  {
   "cell_type": "markdown",
   "metadata": {},
   "source": [
    "Filled confidence interval areas"
   ]
  },
  {
   "cell_type": "code",
   "execution_count": 133,
   "metadata": {},
   "outputs": [],
   "source": [
    "Fil_RR3_AET_2_5 = list( FF_RR3_AET_2_05 )\n",
    "Fil_RR3_AET_3_5 = list( FF_RR3_AET_3_05 )\n",
    "Fil_RR3_AET_4_5 = list( FF_RR3_AET_4_05 )\n",
    "BackDTList = list( FF_RR3_AET_4_95 )\n",
    "Back_AET_4_95 = BackDTList[::-1]\n",
    "BackDTList = list( FF_RR3_AET_3_95 )\n",
    "Back_AET_3_95 = BackDTList[::-1]\n",
    "BackDTList = list( FF_RR3_AET_2_95 )\n",
    "Back_AET_2_95 = BackDTList[::-1]\n",
    "Fil_RR3_AET = deepcopy( Fil_RR3_AET_2_5 )\n",
    "Fil_RR3_AET.extend( Fil_RR3_AET_3_5 )\n",
    "Fil_RR3_AET.extend( Fil_RR3_AET_4_5 )\n",
    "Fil_RR3_AET.extend( Back_AET_4_95 )\n",
    "Fil_RR3_AET.extend( Back_AET_3_95 )\n",
    "Fil_RR3_AET.extend( Back_AET_2_95 )"
   ]
  },
  {
   "cell_type": "code",
   "execution_count": 134,
   "metadata": {},
   "outputs": [],
   "source": [
    "Fil_RR3_RE_2_5 = list( FF_RR3_RE_2_05 )\n",
    "Fil_RR3_RE_3_5 = list( FF_RR3_RE_3_05 )\n",
    "Fil_RR3_RE_4_5 = list( FF_RR3_RE_4_05 )\n",
    "BackDTList = list( FF_RR3_RE_4_95 )\n",
    "Back_RE_4_95 = BackDTList[::-1]\n",
    "BackDTList = list( FF_RR3_RE_3_95 )\n",
    "Back_RE_3_95 = BackDTList[::-1]\n",
    "BackDTList = list( FF_RR3_RE_2_95 )\n",
    "Back_RE_2_95 = BackDTList[::-1]\n",
    "Fil_RR3_RE = deepcopy( Fil_RR3_RE_2_5 )\n",
    "Fil_RR3_RE.extend( Fil_RR3_RE_3_5 )\n",
    "Fil_RR3_RE.extend( Fil_RR3_RE_4_5 )\n",
    "Fil_RR3_RE.extend( Back_RE_4_95 )\n",
    "Fil_RR3_RE.extend( Back_RE_3_95 )\n",
    "Fil_RR3_RE.extend( Back_RE_2_95 )"
   ]
  },
  {
   "cell_type": "code",
   "execution_count": 135,
   "metadata": {},
   "outputs": [],
   "source": [
    "Fil_RR3_RO_2_5 = list( FF_RR3_RO_2_05 )\n",
    "Fil_RR3_RO_3_5 = list( FF_RR3_RO_3_05 )\n",
    "Fil_RR3_RO_4_5 = list( FF_RR3_RO_4_05 )\n",
    "BackDTList = list( FF_RR3_RO_4_95 )\n",
    "Back_RO_4_95 = BackDTList[::-1]\n",
    "BackDTList = list( FF_RR3_RO_3_95 )\n",
    "Back_RO_3_95 = BackDTList[::-1]\n",
    "BackDTList = list( FF_RR3_RO_2_95 )\n",
    "Back_RO_2_95 = BackDTList[::-1]\n",
    "Fil_RR3_RO = deepcopy( Fil_RR3_RO_2_5 )\n",
    "Fil_RR3_RO.extend( Fil_RR3_RO_3_5 )\n",
    "Fil_RR3_RO.extend( Fil_RR3_RO_4_5 )\n",
    "Fil_RR3_RO.extend( Back_RO_4_95 )\n",
    "Fil_RR3_RO.extend( Back_RO_3_95 )\n",
    "Fil_RR3_RO.extend( Back_RO_2_95 )"
   ]
  },
  {
   "cell_type": "markdown",
   "metadata": {},
   "source": [
    "Plot"
   ]
  },
  {
   "cell_type": "code",
   "execution_count": 136,
   "metadata": {},
   "outputs": [
    {
     "data": {
      "text/plain": [
       "'C:\\\\Users\\\\nmart\\\\OneDrive\\\\CC_IRD\\\\Process_Results\\\\Plots\\\\DelBas_RR3_FF3WB.svg'"
      ]
     },
     "execution_count": 136,
     "metadata": {},
     "output_type": "execute_result"
    }
   ],
   "source": [
    "OutSVG = os.path.normpath( os.path.join( OUT_DIR, \"Plots\", \"DelBas_RR3_FF3WB.svg\" ) )\n",
    "OutSVG"
   ]
  },
  {
   "cell_type": "code",
   "execution_count": 137,
   "metadata": {},
   "outputs": [
    {
     "data": {
      "text/plain": [
       "'C:\\\\Users\\\\nmart\\\\OneDrive\\\\CC_IRD\\\\Process_Results\\\\Plots\\\\DelBas_RR3_FF3WB.png'"
      ]
     },
     "execution_count": 137,
     "metadata": {},
     "output_type": "execute_result"
    }
   ],
   "source": [
    "OutPNG = os.path.normpath( os.path.join( OUT_DIR, \"Plots\", \"DelBas_RR3_FF3WB.png\" ) )\n",
    "OutPNG"
   ]
  },
  {
   "cell_type": "code",
   "execution_count": 138,
   "metadata": {},
   "outputs": [
    {
     "data": {
      "text/plain": [
       "'C:\\\\Users\\\\nmart\\\\OneDrive\\\\CC_IRD\\\\Process_Results\\\\Plots\\\\DelBas_RR3_FF3WB.pdf'"
      ]
     },
     "execution_count": 138,
     "metadata": {},
     "output_type": "execute_result"
    }
   ],
   "source": [
    "OutPDF = os.path.normpath( os.path.join( OUT_DIR, \"Plots\", \"DelBas_RR3_FF3WB.pdf\" ) )\n",
    "OutPDF"
   ]
  },
  {
   "cell_type": "code",
   "execution_count": 139,
   "metadata": {},
   "outputs": [],
   "source": [
    "fsTicks = [ -2000.0, 0.0, 2000.0, 4000.0, 6000.0, 8000.0 ]"
   ]
  },
  {
   "cell_type": "code",
   "execution_count": 140,
   "metadata": {},
   "outputs": [
    {
     "data": {
      "image/png": "[encoded data removed]",
      "text/plain": [
       "<Figure size 576x756 with 3 Axes>"
      ]
     },
     "metadata": {
      "needs_background": "light"
     },
     "output_type": "display_data"
    }
   ],
   "source": [
    "Fig1 = plt.figure()\n",
    "Fig1.set_size_inches(8, 10.5)\n",
    "ax31 = Fig1.add_subplot(3,1,1)\n",
    "ax31.plot( [TP_DICT[2][0], TP_DICT[2][0]], [-2000.0, 8000.0], linestyle='-',\n",
    "           linewidth=2, color='xkcd:dark orange' )\n",
    "ax31.plot( [TP_DICT[3][0], TP_DICT[3][0]], [-2000.0, 8000.0], linestyle='-',\n",
    "           linewidth=2, color='xkcd:dark orange' )\n",
    "ax31.plot( [TP_DICT[4][0], TP_DICT[4][0]], [-2000.0, 8000.0], linestyle='-',\n",
    "           linewidth=2, color='xkcd:dark orange' )\n",
    "sfF = ax31.fill( DTTimeList, Fil_RR3_AET, color='xkcd:greyish purple', alpha=0.50, \n",
    "                 label=\"5th to 95th percentile range\" )\n",
    "ax31.plot( RR3_2_AET.index, FF_RR3_AET_2_ME, linestyle='-',\n",
    "           linewidth=3, color='xkcd:blurple', label='Mean' )\n",
    "ax31.plot( RR3_3_AET.index, FF_RR3_AET_3_ME, linestyle='-',\n",
    "           linewidth=3, color='xkcd:blurple' )\n",
    "ax31.plot( RR3_4_AET.index, FF_RR3_AET_4_ME, linestyle='-',\n",
    "           linewidth=3, color='xkcd:blurple' )\n",
    "ax31.plot( RR3_2_AET.index, FF_RR3_AET_2_50, linestyle='dashed',\n",
    "           linewidth=2, color='xkcd:dark lilac', label='Median' )\n",
    "ax31.plot( RR3_3_AET.index, FF_RR3_AET_3_50, linestyle='dashed',\n",
    "           linewidth=2, color='xkcd:dark lilac' )\n",
    "ax31.plot( RR3_4_AET.index, FF_RR3_AET_4_50, linestyle='dashed',\n",
    "           linewidth=2, color='xkcd:dark lilac' )\n",
    "ax31.set_xlim( (dt.datetime(2010, 1, 1), TP_DICT[4][1]))\n",
    "ax31.set_xticks( xTicks )\n",
    "ax31.set_yticks( fsTicks )\n",
    "ax31.set_ylim( (-2000.0, 8000.0) )\n",
    "ax31.grid(True, axis='y', which='both')\n",
    "ax31.set_ylabel('AET $\\Delta$ ($acre-feet$)', fontsize=12)\n",
    "ax31.legend( loc='lower center', fontsize=11.0, ncol=3 )\n",
    "ax31.tick_params(axis='both', which='major', labelsize=11)\n",
    "ax31.tick_params(axis='x', which='major', labelrotation=0.0)\n",
    "ax31.yaxis.set_major_formatter( mpl.ticker.StrMethodFormatter( \"{x:,.1f}\" ) )\n",
    "ax31.xaxis.set_major_formatter( mpl.dates.DateFormatter(\"%Y-%m-%d\") )\n",
    "ax31.annotate(\"A\", xy=(0.96,0.06), xycoords=\"axes fraction\", fontsize=11.0,\n",
    "              backgroundcolor=\"xkcd:light grey\")\n",
    "ax31.annotate(\"Projection Interval 1\", xy=(0.05, 0.90), xycoords=\"axes fraction\",\n",
    "              fontsize=11.0, color=\"xkcd:dark orange\", backgroundcolor=\"xkcd:light grey\" )\n",
    "ax31.annotate(\"Projection Interval 2\", xy=(0.38, 0.90), xycoords=\"axes fraction\",\n",
    "              fontsize=11.0, color=\"xkcd:dark orange\", backgroundcolor=\"xkcd:light grey\" )\n",
    "ax31.annotate(\"Projection Interval 3\", xy=(0.71, 0.90), xycoords=\"axes fraction\",\n",
    "              fontsize=11.0, color=\"xkcd:dark orange\", backgroundcolor=\"xkcd:light grey\" )\n",
    "ax41 = Fig1.add_subplot(3,1,2)\n",
    "ax41.plot( [TP_DICT[2][0], TP_DICT[2][0]], [-2000.0, 8000.0], linestyle='-',\n",
    "           linewidth=2, color='xkcd:dark orange' )\n",
    "ax41.plot( [TP_DICT[3][0], TP_DICT[3][0]], [-2000.0, 8000.0], linestyle='-',\n",
    "           linewidth=2, color='xkcd:dark orange' )\n",
    "ax41.plot( [TP_DICT[4][0], TP_DICT[4][0]], [-2000.0, 8000.0], linestyle='-',\n",
    "           linewidth=2, color='xkcd:dark orange' )\n",
    "sfF = ax41.fill( DTTimeList, Fil_RR3_RO, color='xkcd:dark sand', alpha=0.50, \n",
    "                 label=\"5th to 95th percentile range\")\n",
    "ax41.plot( RR3_2_RO.index, FF_RR3_RO_2_ME, linestyle='-',\n",
    "           linewidth=3, color='xkcd:warm brown', label='Mean' )\n",
    "ax41.plot( RR3_3_RO.index, FF_RR3_RO_3_ME, linestyle='-',\n",
    "           linewidth=3, color='xkcd:warm brown' )\n",
    "ax41.plot( RR3_4_RO.index, FF_RR3_RO_4_ME, linestyle='-',\n",
    "           linewidth=3, color='xkcd:warm brown' )\n",
    "ax41.plot( RR3_2_RO.index, FF_RR3_RO_2_50, linestyle='dashed',\n",
    "           linewidth=2, color='xkcd:mud brown', label='Median' )\n",
    "ax41.plot( RR3_3_RO.index, FF_RR3_RO_3_50, linestyle='dashed',\n",
    "           linewidth=2, color='xkcd:mud brown' )\n",
    "ax41.plot( RR3_4_RO.index, FF_RR3_RO_4_50, linestyle='dashed',\n",
    "           linewidth=2, color='xkcd:mud brown' )\n",
    "ax41.set_xlim( (dt.datetime(2010, 1, 1), TP_DICT[4][1]))\n",
    "ax41.set_xticks( xTicks )\n",
    "ax41.set_yticks( fsTicks )\n",
    "ax41.set_ylim( (-2000.0, 8000.0) )\n",
    "ax41.grid(True, axis='y', which='both')\n",
    "ax41.set_ylabel('Runoff $\\Delta$ ($acre-feet$)', fontsize=12)\n",
    "ax41.legend( loc='lower center', fontsize=11.0, ncol=3 )\n",
    "ax41.tick_params(axis='both', which='major', labelsize=11)\n",
    "ax41.tick_params(axis='x', which='major', labelrotation=0.0)\n",
    "ax41.yaxis.set_major_formatter( mpl.ticker.StrMethodFormatter( \"{x:,.1f}\" ) )\n",
    "ax41.xaxis.set_major_formatter( mpl.dates.DateFormatter(\"%Y-%m-%d\") )\n",
    "ax41.annotate(\"B\", xy=(0.96,0.06), xycoords=\"axes fraction\", fontsize=11.0,\n",
    "              backgroundcolor=\"xkcd:light grey\")\n",
    "ax41.annotate(\"Projection Interval 1\", xy=(0.05, 0.90), xycoords=\"axes fraction\",\n",
    "              fontsize=11.0, color=\"xkcd:dark orange\", backgroundcolor=\"xkcd:light grey\" )\n",
    "ax41.annotate(\"Projection Interval 2\", xy=(0.38, 0.90), xycoords=\"axes fraction\",\n",
    "              fontsize=11.0, color=\"xkcd:dark orange\", backgroundcolor=\"xkcd:light grey\" )\n",
    "ax41.annotate(\"Projection Interval 3\", xy=(0.71, 0.90), xycoords=\"axes fraction\",\n",
    "              fontsize=11.0, color=\"xkcd:dark orange\", backgroundcolor=\"xkcd:light grey\" )\n",
    "ax51 = Fig1.add_subplot(3,1,3)\n",
    "ax51.plot( [TP_DICT[2][0], TP_DICT[2][0]], [-2000.0, 8000.0], linestyle='-',\n",
    "           linewidth=2, color='xkcd:dark orange' )\n",
    "ax51.plot( [TP_DICT[3][0], TP_DICT[3][0]], [-2000.0, 8000.0], linestyle='-',\n",
    "           linewidth=2, color='xkcd:dark orange' )\n",
    "ax51.plot( [TP_DICT[4][0], TP_DICT[4][0]], [-2000.0, 8000.0], linestyle='-',\n",
    "           linewidth=2, color='xkcd:dark orange' )\n",
    "sfF = ax51.fill( DTTimeList, Fil_RR3_RE, color='xkcd:green grey', alpha=0.50, \n",
    "                 label=\"5th to 95th percentile range\")\n",
    "ax51.plot( RR3_2_RE.index, FF_RR3_RE_2_ME, linestyle='-',\n",
    "           linewidth=3, color='xkcd:pine', label='Mean' )\n",
    "ax51.plot( RR3_3_RE.index, FF_RR3_RE_3_ME, linestyle='-',\n",
    "           linewidth=3, color='xkcd:pine' )\n",
    "ax51.plot( RR3_4_RE.index, FF_RR3_RE_4_ME, linestyle='-',\n",
    "           linewidth=3, color='xkcd:pine' )\n",
    "ax51.plot( RR3_2_RE.index, FF_RR3_RE_2_50, linestyle='dashed',\n",
    "           linewidth=2, color='xkcd:kelley green', label='Median' )\n",
    "ax51.plot( RR3_3_RE.index, FF_RR3_RE_3_50, linestyle='dashed',\n",
    "           linewidth=2, color='xkcd:kelley green' )\n",
    "ax51.plot( RR3_4_RE.index, FF_RR3_RE_4_50, linestyle='dashed',\n",
    "           linewidth=2, color='xkcd:kelley green' )\n",
    "ax51.set_xlim( (dt.datetime(2010, 1, 1), TP_DICT[4][1]))\n",
    "ax51.set_xticks( xTicks )\n",
    "ax51.set_yticks( fsTicks )\n",
    "ax51.set_ylim( (-2000.0, 8000.0) )\n",
    "ax51.grid(True, axis='y', which='both')\n",
    "ax51.set_ylabel('Recharge $\\Delta$ ($acre-feet$)', fontsize=12)\n",
    "ax51.legend( loc='lower center', fontsize=11.0, ncol=3 )\n",
    "ax51.tick_params(axis='both', which='major', labelsize=11)\n",
    "ax51.tick_params(axis='x', which='major', labelrotation=0.0)\n",
    "ax51.yaxis.set_major_formatter( mpl.ticker.StrMethodFormatter( \"{x:,.1f}\" ) )\n",
    "ax51.xaxis.set_major_formatter( mpl.dates.DateFormatter(\"%Y-%m-%d\") )\n",
    "ax51.annotate(\"C\", xy=(0.96,0.06), xycoords=\"axes fraction\", fontsize=11.0,\n",
    "              backgroundcolor=\"xkcd:light grey\")\n",
    "ax51.annotate(\"Projection Interval 1\", xy=(0.05, 0.90), xycoords=\"axes fraction\",\n",
    "              fontsize=11.0, color=\"xkcd:dark orange\", backgroundcolor=\"xkcd:light grey\" )\n",
    "ax51.annotate(\"Projection Interval 2\", xy=(0.38, 0.90), xycoords=\"axes fraction\",\n",
    "              fontsize=11.0, color=\"xkcd:dark orange\", backgroundcolor=\"xkcd:light grey\" )\n",
    "ax51.annotate(\"Projection Interval 3\", xy=(0.71, 0.90), xycoords=\"axes fraction\",\n",
    "              fontsize=11.0, color=\"xkcd:dark orange\", backgroundcolor=\"xkcd:light grey\" )\n",
    "Fig1.savefig( OutSVG )\n",
    "Fig1.savefig( OutPNG )\n",
    "Fig1.savefig( OutPDF )"
   ]
  },
  {
   "cell_type": "markdown",
   "metadata": {},
   "source": [
    "### Reach 4"
   ]
  },
  {
   "cell_type": "markdown",
   "metadata": {},
   "source": [
    "Fourier smoothing"
   ]
  },
  {
   "cell_type": "code",
   "execution_count": 141,
   "metadata": {},
   "outputs": [],
   "source": [
    "rft = np.fft.rfft( RR4_2_AET[StatsHdsList[95]].to_numpy() )\n",
    "rft[SM_NUM:] = 0.0\n",
    "FF_RR4_AET_2_95 = np.fft.irfft(rft)\n",
    "rft = np.fft.rfft( RR4_3_AET[StatsHdsList[95]].to_numpy() )\n",
    "rft[SM_NUM:] = 0.0\n",
    "FF_RR4_AET_3_95 = np.fft.irfft(rft)\n",
    "rft = np.fft.rfft( RR4_4_AET[StatsHdsList[95]].to_numpy() )\n",
    "rft[SM_NUM:] = 0.0\n",
    "FF_RR4_AET_4_95 = np.fft.irfft(rft)\n",
    "rft = np.fft.rfft( RR4_2_AET[StatsHdsList[5]].to_numpy() )\n",
    "rft[SM_NUM:] = 0.0\n",
    "FF_RR4_AET_2_05 = np.fft.irfft(rft)\n",
    "rft = np.fft.rfft( RR4_3_AET[StatsHdsList[5]].to_numpy() )\n",
    "rft[SM_NUM:] = 0.0\n",
    "FF_RR4_AET_3_05 = np.fft.irfft(rft)\n",
    "rft = np.fft.rfft( RR4_4_AET[StatsHdsList[5]].to_numpy() )\n",
    "rft[SM_NUM:] = 0.0\n",
    "FF_RR4_AET_4_05 = np.fft.irfft(rft)\n",
    "rft = np.fft.rfft( RR4_2_AET[StatsHdsList[50]].to_numpy() )\n",
    "rft[SM_NUM:] = 0.0\n",
    "FF_RR4_AET_2_50 = np.fft.irfft(rft)\n",
    "rft = np.fft.rfft( RR4_3_AET[StatsHdsList[50]].to_numpy() )\n",
    "rft[SM_NUM:] = 0.0\n",
    "FF_RR4_AET_3_50 = np.fft.irfft(rft)\n",
    "rft = np.fft.rfft( RR4_4_AET[StatsHdsList[50]].to_numpy() )\n",
    "rft[SM_NUM:] = 0.0\n",
    "FF_RR4_AET_4_50 = np.fft.irfft(rft)\n",
    "rft = np.fft.rfft( RR4_2_AET[StatsHdsList[101]].to_numpy() )\n",
    "rft[SM_NUM:] = 0.0\n",
    "FF_RR4_AET_2_ME = np.fft.irfft(rft)\n",
    "rft = np.fft.rfft( RR4_3_AET[StatsHdsList[101]].to_numpy() )\n",
    "rft[SM_NUM:] = 0.0\n",
    "FF_RR4_AET_3_ME = np.fft.irfft(rft)\n",
    "rft = np.fft.rfft( RR4_4_AET[StatsHdsList[101]].to_numpy() )\n",
    "rft[SM_NUM:] = 0.0\n",
    "FF_RR4_AET_4_ME = np.fft.irfft(rft)"
   ]
  },
  {
   "cell_type": "code",
   "execution_count": 142,
   "metadata": {},
   "outputs": [],
   "source": [
    "rft = np.fft.rfft( RR4_2_RE[StatsHdsList[95]].to_numpy() )\n",
    "rft[SM_NUM:] = 0.0\n",
    "FF_RR4_RE_2_95 = np.fft.irfft(rft)\n",
    "rft = np.fft.rfft( RR4_3_RE[StatsHdsList[95]].to_numpy() )\n",
    "rft[SM_NUM:] = 0.0\n",
    "FF_RR4_RE_3_95 = np.fft.irfft(rft)\n",
    "rft = np.fft.rfft( RR4_4_RE[StatsHdsList[95]].to_numpy() )\n",
    "rft[SM_NUM:] = 0.0\n",
    "FF_RR4_RE_4_95 = np.fft.irfft(rft)\n",
    "rft = np.fft.rfft( RR4_2_RE[StatsHdsList[5]].to_numpy() )\n",
    "rft[SM_NUM:] = 0.0\n",
    "FF_RR4_RE_2_05 = np.fft.irfft(rft)\n",
    "rft = np.fft.rfft( RR4_3_RE[StatsHdsList[5]].to_numpy() )\n",
    "rft[SM_NUM:] = 0.0\n",
    "FF_RR4_RE_3_05 = np.fft.irfft(rft)\n",
    "rft = np.fft.rfft( RR4_4_RE[StatsHdsList[5]].to_numpy() )\n",
    "rft[SM_NUM:] = 0.0\n",
    "FF_RR4_RE_4_05 = np.fft.irfft(rft)\n",
    "rft = np.fft.rfft( RR4_2_RE[StatsHdsList[50]].to_numpy() )\n",
    "rft[SM_NUM:] = 0.0\n",
    "FF_RR4_RE_2_50 = np.fft.irfft(rft)\n",
    "rft = np.fft.rfft( RR4_3_RE[StatsHdsList[50]].to_numpy() )\n",
    "rft[SM_NUM:] = 0.0\n",
    "FF_RR4_RE_3_50 = np.fft.irfft(rft)\n",
    "rft = np.fft.rfft( RR4_4_RE[StatsHdsList[50]].to_numpy() )\n",
    "rft[SM_NUM:] = 0.0\n",
    "FF_RR4_RE_4_50 = np.fft.irfft(rft)\n",
    "rft = np.fft.rfft( RR4_2_RE[StatsHdsList[101]].to_numpy() )\n",
    "rft[SM_NUM:] = 0.0\n",
    "FF_RR4_RE_2_ME = np.fft.irfft(rft)\n",
    "rft = np.fft.rfft( RR4_3_RE[StatsHdsList[101]].to_numpy() )\n",
    "rft[SM_NUM:] = 0.0\n",
    "FF_RR4_RE_3_ME = np.fft.irfft(rft)\n",
    "rft = np.fft.rfft( RR4_4_RE[StatsHdsList[101]].to_numpy() )\n",
    "rft[SM_NUM:] = 0.0\n",
    "FF_RR4_RE_4_ME = np.fft.irfft(rft)"
   ]
  },
  {
   "cell_type": "code",
   "execution_count": 143,
   "metadata": {},
   "outputs": [],
   "source": [
    "rft = np.fft.rfft( RR4_2_RO[StatsHdsList[95]].to_numpy() )\n",
    "rft[SM_NUM:] = 0.0\n",
    "FF_RR4_RO_2_95 = np.fft.irfft(rft)\n",
    "rft = np.fft.rfft( RR4_3_RO[StatsHdsList[95]].to_numpy() )\n",
    "rft[SM_NUM:] = 0.0\n",
    "FF_RR4_RO_3_95 = np.fft.irfft(rft)\n",
    "rft = np.fft.rfft( RR4_4_RO[StatsHdsList[95]].to_numpy() )\n",
    "rft[SM_NUM:] = 0.0\n",
    "FF_RR4_RO_4_95 = np.fft.irfft(rft)\n",
    "rft = np.fft.rfft( RR4_2_RO[StatsHdsList[5]].to_numpy() )\n",
    "rft[SM_NUM:] = 0.0\n",
    "FF_RR4_RO_2_05 = np.fft.irfft(rft)\n",
    "rft = np.fft.rfft( RR4_3_RO[StatsHdsList[5]].to_numpy() )\n",
    "rft[SM_NUM:] = 0.0\n",
    "FF_RR4_RO_3_05 = np.fft.irfft(rft)\n",
    "rft = np.fft.rfft( RR4_4_RO[StatsHdsList[5]].to_numpy() )\n",
    "rft[SM_NUM:] = 0.0\n",
    "FF_RR4_RO_4_05 = np.fft.irfft(rft)\n",
    "rft = np.fft.rfft( RR4_2_RO[StatsHdsList[50]].to_numpy() )\n",
    "rft[SM_NUM:] = 0.0\n",
    "FF_RR4_RO_2_50 = np.fft.irfft(rft)\n",
    "rft = np.fft.rfft( RR4_3_RO[StatsHdsList[50]].to_numpy() )\n",
    "rft[SM_NUM:] = 0.0\n",
    "FF_RR4_RO_3_50 = np.fft.irfft(rft)\n",
    "rft = np.fft.rfft( RR4_4_RO[StatsHdsList[50]].to_numpy() )\n",
    "rft[SM_NUM:] = 0.0\n",
    "FF_RR4_RO_4_50 = np.fft.irfft(rft)\n",
    "rft = np.fft.rfft( RR4_2_RO[StatsHdsList[101]].to_numpy() )\n",
    "rft[SM_NUM:] = 0.0\n",
    "FF_RR4_RO_2_ME = np.fft.irfft(rft)\n",
    "rft = np.fft.rfft( RR4_3_RO[StatsHdsList[101]].to_numpy() )\n",
    "rft[SM_NUM:] = 0.0\n",
    "FF_RR4_RO_3_ME = np.fft.irfft(rft)\n",
    "rft = np.fft.rfft( RR4_4_RO[StatsHdsList[101]].to_numpy() )\n",
    "rft[SM_NUM:] = 0.0\n",
    "FF_RR4_RO_4_ME = np.fft.irfft(rft)"
   ]
  },
  {
   "cell_type": "markdown",
   "metadata": {},
   "source": [
    "Filled confidence interval areas"
   ]
  },
  {
   "cell_type": "code",
   "execution_count": 144,
   "metadata": {},
   "outputs": [],
   "source": [
    "Fil_RR4_AET_2_5 = list( FF_RR4_AET_2_05 )\n",
    "Fil_RR4_AET_3_5 = list( FF_RR4_AET_3_05 )\n",
    "Fil_RR4_AET_4_5 = list( FF_RR4_AET_4_05 )\n",
    "BackDTList = list( FF_RR4_AET_4_95 )\n",
    "Back_AET_4_95 = BackDTList[::-1]\n",
    "BackDTList = list( FF_RR4_AET_3_95 )\n",
    "Back_AET_3_95 = BackDTList[::-1]\n",
    "BackDTList = list( FF_RR4_AET_2_95 )\n",
    "Back_AET_2_95 = BackDTList[::-1]\n",
    "Fil_RR4_AET = deepcopy( Fil_RR4_AET_2_5 )\n",
    "Fil_RR4_AET.extend( Fil_RR4_AET_3_5 )\n",
    "Fil_RR4_AET.extend( Fil_RR4_AET_4_5 )\n",
    "Fil_RR4_AET.extend( Back_AET_4_95 )\n",
    "Fil_RR4_AET.extend( Back_AET_3_95 )\n",
    "Fil_RR4_AET.extend( Back_AET_2_95 )"
   ]
  },
  {
   "cell_type": "code",
   "execution_count": 145,
   "metadata": {},
   "outputs": [],
   "source": [
    "Fil_RR4_RE_2_5 = list( FF_RR4_RE_2_05 )\n",
    "Fil_RR4_RE_3_5 = list( FF_RR4_RE_3_05 )\n",
    "Fil_RR4_RE_4_5 = list( FF_RR4_RE_4_05 )\n",
    "BackDTList = list( FF_RR4_RE_4_95 )\n",
    "Back_RE_4_95 = BackDTList[::-1]\n",
    "BackDTList = list( FF_RR4_RE_3_95 )\n",
    "Back_RE_3_95 = BackDTList[::-1]\n",
    "BackDTList = list( FF_RR4_RE_2_95 )\n",
    "Back_RE_2_95 = BackDTList[::-1]\n",
    "Fil_RR4_RE = deepcopy( Fil_RR4_RE_2_5 )\n",
    "Fil_RR4_RE.extend( Fil_RR4_RE_3_5 )\n",
    "Fil_RR4_RE.extend( Fil_RR4_RE_4_5 )\n",
    "Fil_RR4_RE.extend( Back_RE_4_95 )\n",
    "Fil_RR4_RE.extend( Back_RE_3_95 )\n",
    "Fil_RR4_RE.extend( Back_RE_2_95 )"
   ]
  },
  {
   "cell_type": "code",
   "execution_count": 146,
   "metadata": {},
   "outputs": [],
   "source": [
    "Fil_RR4_RO_2_5 = list( FF_RR4_RO_2_05 )\n",
    "Fil_RR4_RO_3_5 = list( FF_RR4_RO_3_05 )\n",
    "Fil_RR4_RO_4_5 = list( FF_RR4_RO_4_05 )\n",
    "BackDTList = list( FF_RR4_RO_4_95 )\n",
    "Back_RO_4_95 = BackDTList[::-1]\n",
    "BackDTList = list( FF_RR4_RO_3_95 )\n",
    "Back_RO_3_95 = BackDTList[::-1]\n",
    "BackDTList = list( FF_RR4_RO_2_95 )\n",
    "Back_RO_2_95 = BackDTList[::-1]\n",
    "Fil_RR4_RO = deepcopy( Fil_RR4_RO_2_5 )\n",
    "Fil_RR4_RO.extend( Fil_RR4_RO_3_5 )\n",
    "Fil_RR4_RO.extend( Fil_RR4_RO_4_5 )\n",
    "Fil_RR4_RO.extend( Back_RO_4_95 )\n",
    "Fil_RR4_RO.extend( Back_RO_3_95 )\n",
    "Fil_RR4_RO.extend( Back_RO_2_95 )"
   ]
  },
  {
   "cell_type": "markdown",
   "metadata": {},
   "source": [
    "Plot"
   ]
  },
  {
   "cell_type": "code",
   "execution_count": 147,
   "metadata": {},
   "outputs": [
    {
     "data": {
      "text/plain": [
       "'C:\\\\Users\\\\nmart\\\\OneDrive\\\\CC_IRD\\\\Process_Results\\\\Plots\\\\DelBas_RR4_FF3WB.svg'"
      ]
     },
     "execution_count": 147,
     "metadata": {},
     "output_type": "execute_result"
    }
   ],
   "source": [
    "OutSVG = os.path.normpath( os.path.join( OUT_DIR, \"Plots\", \"DelBas_RR4_FF3WB.svg\" ) )\n",
    "OutSVG"
   ]
  },
  {
   "cell_type": "code",
   "execution_count": 148,
   "metadata": {},
   "outputs": [
    {
     "data": {
      "text/plain": [
       "'C:\\\\Users\\\\nmart\\\\OneDrive\\\\CC_IRD\\\\Process_Results\\\\Plots\\\\DelBas_RR4_FF3WB.png'"
      ]
     },
     "execution_count": 148,
     "metadata": {},
     "output_type": "execute_result"
    }
   ],
   "source": [
    "OutPNG = os.path.normpath( os.path.join( OUT_DIR, \"Plots\", \"DelBas_RR4_FF3WB.png\" ) )\n",
    "OutPNG"
   ]
  },
  {
   "cell_type": "code",
   "execution_count": 149,
   "metadata": {},
   "outputs": [
    {
     "data": {
      "text/plain": [
       "'C:\\\\Users\\\\nmart\\\\OneDrive\\\\CC_IRD\\\\Process_Results\\\\Plots\\\\DelBas_RR4_FF3WB.pdf'"
      ]
     },
     "execution_count": 149,
     "metadata": {},
     "output_type": "execute_result"
    }
   ],
   "source": [
    "OutPDF = os.path.normpath( os.path.join( OUT_DIR, \"Plots\", \"DelBas_RR4_FF3WB.pdf\" ) )\n",
    "OutPDF"
   ]
  },
  {
   "cell_type": "code",
   "execution_count": 150,
   "metadata": {},
   "outputs": [],
   "source": [
    "fsTicks = [ -2000.0, 0.0, 2000.0, 4000.0, 6000.0, 8000.0 ]"
   ]
  },
  {
   "cell_type": "code",
   "execution_count": 151,
   "metadata": {},
   "outputs": [
    {
     "data": {
      "image/png": "[encoded data removed]",
      "text/plain": [
       "<Figure size 576x756 with 3 Axes>"
      ]
     },
     "metadata": {
      "needs_background": "light"
     },
     "output_type": "display_data"
    }
   ],
   "source": [
    "Fig1 = plt.figure()\n",
    "Fig1.set_size_inches(8, 10.5)\n",
    "ax31 = Fig1.add_subplot(3,1,1)\n",
    "ax31.plot( [TP_DICT[2][0], TP_DICT[2][0]], [-2000.0, 8000.0], linestyle='-',\n",
    "           linewidth=2, color='xkcd:dark orange' )\n",
    "ax31.plot( [TP_DICT[3][0], TP_DICT[3][0]], [-2000.0, 8000.0], linestyle='-',\n",
    "           linewidth=2, color='xkcd:dark orange' )\n",
    "ax31.plot( [TP_DICT[4][0], TP_DICT[4][0]], [-2000.0, 8000.0], linestyle='-',\n",
    "           linewidth=2, color='xkcd:dark orange' )\n",
    "sfF = ax31.fill( DTTimeList, Fil_RR4_AET, color='xkcd:greyish purple', alpha=0.50, \n",
    "                 label=\"5th to 95th percentile range\" )\n",
    "ax31.plot( RR4_2_AET.index, FF_RR4_AET_2_ME, linestyle='-',\n",
    "           linewidth=3, color='xkcd:blurple', label='Mean' )\n",
    "ax31.plot( RR4_3_AET.index, FF_RR4_AET_3_ME, linestyle='-',\n",
    "           linewidth=3, color='xkcd:blurple' )\n",
    "ax31.plot( RR4_4_AET.index, FF_RR4_AET_4_ME, linestyle='-',\n",
    "           linewidth=3, color='xkcd:blurple' )\n",
    "ax31.plot( RR4_2_AET.index, FF_RR4_AET_2_50, linestyle='dashed',\n",
    "           linewidth=2, color='xkcd:dark lilac', label='Median' )\n",
    "ax31.plot( RR4_3_AET.index, FF_RR4_AET_3_50, linestyle='dashed',\n",
    "           linewidth=2, color='xkcd:dark lilac' )\n",
    "ax31.plot( RR4_4_AET.index, FF_RR4_AET_4_50, linestyle='dashed',\n",
    "           linewidth=2, color='xkcd:dark lilac' )\n",
    "ax31.set_xlim( (dt.datetime(2010, 1, 1), TP_DICT[4][1]))\n",
    "ax31.set_xticks( xTicks )\n",
    "ax31.set_yticks( fsTicks )\n",
    "ax31.set_ylim( (-2000.0, 8000.0) )\n",
    "ax31.grid(True, axis='y', which='both')\n",
    "ax31.set_ylabel('AET $\\Delta$ ($acre-feet$)', fontsize=12)\n",
    "ax31.legend( loc='lower center', fontsize=11.0, ncol=3 )\n",
    "ax31.tick_params(axis='both', which='major', labelsize=11)\n",
    "ax31.tick_params(axis='x', which='major', labelrotation=0.0)\n",
    "ax31.yaxis.set_major_formatter( mpl.ticker.StrMethodFormatter( \"{x:,.1f}\" ) )\n",
    "ax31.xaxis.set_major_formatter( mpl.dates.DateFormatter(\"%Y-%m-%d\") )\n",
    "ax31.annotate(\"A\", xy=(0.96,0.06), xycoords=\"axes fraction\", fontsize=11.0,\n",
    "              backgroundcolor=\"xkcd:light grey\")\n",
    "ax31.annotate(\"Projection Interval 1\", xy=(0.05, 0.90), xycoords=\"axes fraction\",\n",
    "              fontsize=11.0, color=\"xkcd:dark orange\", backgroundcolor=\"xkcd:light grey\" )\n",
    "ax31.annotate(\"Projection Interval 2\", xy=(0.38, 0.90), xycoords=\"axes fraction\",\n",
    "              fontsize=11.0, color=\"xkcd:dark orange\", backgroundcolor=\"xkcd:light grey\" )\n",
    "ax31.annotate(\"Projection Interval 3\", xy=(0.71, 0.90), xycoords=\"axes fraction\",\n",
    "              fontsize=11.0, color=\"xkcd:dark orange\", backgroundcolor=\"xkcd:light grey\" )\n",
    "ax41 = Fig1.add_subplot(3,1,2)\n",
    "ax41.plot( [TP_DICT[2][0], TP_DICT[2][0]], [-2000.0, 8000.0], linestyle='-',\n",
    "           linewidth=2, color='xkcd:dark orange' )\n",
    "ax41.plot( [TP_DICT[3][0], TP_DICT[3][0]], [-2000.0, 8000.0], linestyle='-',\n",
    "           linewidth=2, color='xkcd:dark orange' )\n",
    "ax41.plot( [TP_DICT[4][0], TP_DICT[4][0]], [-2000.0, 8000.0], linestyle='-',\n",
    "           linewidth=2, color='xkcd:dark orange' )\n",
    "sfF = ax41.fill( DTTimeList, Fil_RR4_RO, color='xkcd:dark sand', alpha=0.50, \n",
    "                 label=\"5th to 95th percentile range\")\n",
    "ax41.plot( RR4_2_RO.index, FF_RR4_RO_2_ME, linestyle='-',\n",
    "           linewidth=3, color='xkcd:warm brown', label='Mean' )\n",
    "ax41.plot( RR4_3_RO.index, FF_RR4_RO_3_ME, linestyle='-',\n",
    "           linewidth=3, color='xkcd:warm brown' )\n",
    "ax41.plot( RR4_4_RO.index, FF_RR4_RO_4_ME, linestyle='-',\n",
    "           linewidth=3, color='xkcd:warm brown' )\n",
    "ax41.plot( RR4_2_RO.index, FF_RR4_RO_2_50, linestyle='dashed',\n",
    "           linewidth=2, color='xkcd:mud brown', label='Median' )\n",
    "ax41.plot( RR4_3_RO.index, FF_RR4_RO_3_50, linestyle='dashed',\n",
    "           linewidth=2, color='xkcd:mud brown' )\n",
    "ax41.plot( RR4_4_RO.index, FF_RR4_RO_4_50, linestyle='dashed',\n",
    "           linewidth=2, color='xkcd:mud brown' )\n",
    "ax41.set_xlim( (dt.datetime(2010, 1, 1), TP_DICT[4][1]))\n",
    "ax41.set_xticks( xTicks )\n",
    "ax41.set_yticks( fsTicks )\n",
    "ax41.set_ylim( (-2000.0, 8000.0) )\n",
    "ax41.grid(True, axis='y', which='both')\n",
    "ax41.set_ylabel('Runoff $\\Delta$ ($acre-feet$)', fontsize=12)\n",
    "ax41.legend( loc='lower center', fontsize=11.0, ncol=3 )\n",
    "ax41.tick_params(axis='both', which='major', labelsize=11)\n",
    "ax41.tick_params(axis='x', which='major', labelrotation=0.0)\n",
    "ax41.yaxis.set_major_formatter( mpl.ticker.StrMethodFormatter( \"{x:,.1f}\" ) )\n",
    "ax41.xaxis.set_major_formatter( mpl.dates.DateFormatter(\"%Y-%m-%d\") )\n",
    "ax41.annotate(\"B\", xy=(0.96,0.06), xycoords=\"axes fraction\", fontsize=11.0,\n",
    "              backgroundcolor=\"xkcd:light grey\")\n",
    "ax41.annotate(\"Projection Interval 1\", xy=(0.05, 0.90), xycoords=\"axes fraction\",\n",
    "              fontsize=11.0, color=\"xkcd:dark orange\", backgroundcolor=\"xkcd:light grey\" )\n",
    "ax41.annotate(\"Projection Interval 2\", xy=(0.38, 0.90), xycoords=\"axes fraction\",\n",
    "              fontsize=11.0, color=\"xkcd:dark orange\", backgroundcolor=\"xkcd:light grey\" )\n",
    "ax41.annotate(\"Projection Interval 3\", xy=(0.71, 0.90), xycoords=\"axes fraction\",\n",
    "              fontsize=11.0, color=\"xkcd:dark orange\", backgroundcolor=\"xkcd:light grey\" )\n",
    "ax51 = Fig1.add_subplot(3,1,3)\n",
    "ax51.plot( [TP_DICT[2][0], TP_DICT[2][0]], [-2000.0, 8000.0], linestyle='-',\n",
    "           linewidth=2, color='xkcd:dark orange' )\n",
    "ax51.plot( [TP_DICT[3][0], TP_DICT[3][0]], [-2000.0, 8000.0], linestyle='-',\n",
    "           linewidth=2, color='xkcd:dark orange' )\n",
    "ax51.plot( [TP_DICT[4][0], TP_DICT[4][0]], [-2000.0, 8000.0], linestyle='-',\n",
    "           linewidth=2, color='xkcd:dark orange' )\n",
    "sfF = ax51.fill( DTTimeList, Fil_RR4_RE, color='xkcd:green grey', alpha=0.50, \n",
    "                 label=\"5th to 95th percentile range\")\n",
    "ax51.plot( RR4_2_RE.index, FF_RR4_RE_2_ME, linestyle='-',\n",
    "           linewidth=3, color='xkcd:pine', label='Mean' )\n",
    "ax51.plot( RR4_3_RE.index, FF_RR4_RE_3_ME, linestyle='-',\n",
    "           linewidth=3, color='xkcd:pine' )\n",
    "ax51.plot( RR4_4_RE.index, FF_RR4_RE_4_ME, linestyle='-',\n",
    "           linewidth=3, color='xkcd:pine' )\n",
    "ax51.plot( RR4_2_RE.index, FF_RR4_RE_2_50, linestyle='dashed',\n",
    "           linewidth=2, color='xkcd:kelley green', label='Median' )\n",
    "ax51.plot( RR4_3_RE.index, FF_RR4_RE_3_50, linestyle='dashed',\n",
    "           linewidth=2, color='xkcd:kelley green' )\n",
    "ax51.plot( RR4_4_RE.index, FF_RR4_RE_4_50, linestyle='dashed',\n",
    "           linewidth=2, color='xkcd:kelley green' )\n",
    "ax51.set_xlim( (dt.datetime(2010, 1, 1), TP_DICT[4][1]))\n",
    "ax51.set_xticks( xTicks )\n",
    "ax51.set_yticks( fsTicks )\n",
    "ax51.set_ylim( (-2000.0, 8000.0) )\n",
    "ax51.grid(True, axis='y', which='both')\n",
    "ax51.set_ylabel('Recharge $\\Delta$ ($acre-feet$)', fontsize=12)\n",
    "ax51.legend( loc='lower center', fontsize=11.0, ncol=3 )\n",
    "ax51.tick_params(axis='both', which='major', labelsize=11)\n",
    "ax51.tick_params(axis='x', which='major', labelrotation=0.0)\n",
    "ax51.yaxis.set_major_formatter( mpl.ticker.StrMethodFormatter( \"{x:,.1f}\" ) )\n",
    "ax51.xaxis.set_major_formatter( mpl.dates.DateFormatter(\"%Y-%m-%d\") )\n",
    "ax51.annotate(\"C\", xy=(0.96,0.06), xycoords=\"axes fraction\", fontsize=11.0,\n",
    "              backgroundcolor=\"xkcd:light grey\")\n",
    "ax51.annotate(\"Projection Interval 1\", xy=(0.05, 0.90), xycoords=\"axes fraction\",\n",
    "              fontsize=11.0, color=\"xkcd:dark orange\", backgroundcolor=\"xkcd:light grey\" )\n",
    "ax51.annotate(\"Projection Interval 2\", xy=(0.38, 0.90), xycoords=\"axes fraction\",\n",
    "              fontsize=11.0, color=\"xkcd:dark orange\", backgroundcolor=\"xkcd:light grey\" )\n",
    "ax51.annotate(\"Projection Interval 3\", xy=(0.71, 0.90), xycoords=\"axes fraction\",\n",
    "              fontsize=11.0, color=\"xkcd:dark orange\", backgroundcolor=\"xkcd:light grey\" )\n",
    "Fig1.savefig( OutSVG )\n",
    "Fig1.savefig( OutPNG )\n",
    "Fig1.savefig( OutPDF )"
   ]
  },
  {
   "cell_type": "markdown",
   "metadata": {},
   "source": [
    "### Reach 5"
   ]
  },
  {
   "cell_type": "markdown",
   "metadata": {},
   "source": [
    "Fourier smoothing"
   ]
  },
  {
   "cell_type": "code",
   "execution_count": 152,
   "metadata": {},
   "outputs": [],
   "source": [
    "rft = np.fft.rfft( RR5_2_AET[StatsHdsList[95]].to_numpy() )\n",
    "rft[SM_NUM:] = 0.0\n",
    "FF_RR5_AET_2_95 = np.fft.irfft(rft)\n",
    "rft = np.fft.rfft( RR5_3_AET[StatsHdsList[95]].to_numpy() )\n",
    "rft[SM_NUM:] = 0.0\n",
    "FF_RR5_AET_3_95 = np.fft.irfft(rft)\n",
    "rft = np.fft.rfft( RR5_4_AET[StatsHdsList[95]].to_numpy() )\n",
    "rft[SM_NUM:] = 0.0\n",
    "FF_RR5_AET_4_95 = np.fft.irfft(rft)\n",
    "rft = np.fft.rfft( RR5_2_AET[StatsHdsList[5]].to_numpy() )\n",
    "rft[SM_NUM:] = 0.0\n",
    "FF_RR5_AET_2_05 = np.fft.irfft(rft)\n",
    "rft = np.fft.rfft( RR5_3_AET[StatsHdsList[5]].to_numpy() )\n",
    "rft[SM_NUM:] = 0.0\n",
    "FF_RR5_AET_3_05 = np.fft.irfft(rft)\n",
    "rft = np.fft.rfft( RR5_4_AET[StatsHdsList[5]].to_numpy() )\n",
    "rft[SM_NUM:] = 0.0\n",
    "FF_RR5_AET_4_05 = np.fft.irfft(rft)\n",
    "rft = np.fft.rfft( RR5_2_AET[StatsHdsList[50]].to_numpy() )\n",
    "rft[SM_NUM:] = 0.0\n",
    "FF_RR5_AET_2_50 = np.fft.irfft(rft)\n",
    "rft = np.fft.rfft( RR5_3_AET[StatsHdsList[50]].to_numpy() )\n",
    "rft[SM_NUM:] = 0.0\n",
    "FF_RR5_AET_3_50 = np.fft.irfft(rft)\n",
    "rft = np.fft.rfft( RR5_4_AET[StatsHdsList[50]].to_numpy() )\n",
    "rft[SM_NUM:] = 0.0\n",
    "FF_RR5_AET_4_50 = np.fft.irfft(rft)\n",
    "rft = np.fft.rfft( RR5_2_AET[StatsHdsList[101]].to_numpy() )\n",
    "rft[SM_NUM:] = 0.0\n",
    "FF_RR5_AET_2_ME = np.fft.irfft(rft)\n",
    "rft = np.fft.rfft( RR5_3_AET[StatsHdsList[101]].to_numpy() )\n",
    "rft[SM_NUM:] = 0.0\n",
    "FF_RR5_AET_3_ME = np.fft.irfft(rft)\n",
    "rft = np.fft.rfft( RR5_4_AET[StatsHdsList[101]].to_numpy() )\n",
    "rft[SM_NUM:] = 0.0\n",
    "FF_RR5_AET_4_ME = np.fft.irfft(rft)"
   ]
  },
  {
   "cell_type": "code",
   "execution_count": 153,
   "metadata": {},
   "outputs": [],
   "source": [
    "rft = np.fft.rfft( RR5_2_RO[StatsHdsList[95]].to_numpy() )\n",
    "rft[SM_NUM:] = 0.0\n",
    "FF_RR5_RO_2_95 = np.fft.irfft(rft)\n",
    "rft = np.fft.rfft( RR5_3_RO[StatsHdsList[95]].to_numpy() )\n",
    "rft[SM_NUM:] = 0.0\n",
    "FF_RR5_RO_3_95 = np.fft.irfft(rft)\n",
    "rft = np.fft.rfft( RR5_4_RO[StatsHdsList[95]].to_numpy() )\n",
    "rft[SM_NUM:] = 0.0\n",
    "FF_RR5_RO_4_95 = np.fft.irfft(rft)\n",
    "rft = np.fft.rfft( RR5_2_RO[StatsHdsList[5]].to_numpy() )\n",
    "rft[SM_NUM:] = 0.0\n",
    "FF_RR5_RO_2_05 = np.fft.irfft(rft)\n",
    "rft = np.fft.rfft( RR5_3_RO[StatsHdsList[5]].to_numpy() )\n",
    "rft[SM_NUM:] = 0.0\n",
    "FF_RR5_RO_3_05 = np.fft.irfft(rft)\n",
    "rft = np.fft.rfft( RR5_4_RO[StatsHdsList[5]].to_numpy() )\n",
    "rft[SM_NUM:] = 0.0\n",
    "FF_RR5_RO_4_05 = np.fft.irfft(rft)\n",
    "rft = np.fft.rfft( RR5_2_RO[StatsHdsList[50]].to_numpy() )\n",
    "rft[SM_NUM:] = 0.0\n",
    "FF_RR5_RO_2_50 = np.fft.irfft(rft)\n",
    "rft = np.fft.rfft( RR5_3_RO[StatsHdsList[50]].to_numpy() )\n",
    "rft[SM_NUM:] = 0.0\n",
    "FF_RR5_RO_3_50 = np.fft.irfft(rft)\n",
    "rft = np.fft.rfft( RR5_4_RO[StatsHdsList[50]].to_numpy() )\n",
    "rft[SM_NUM:] = 0.0\n",
    "FF_RR5_RO_4_50 = np.fft.irfft(rft)\n",
    "rft = np.fft.rfft( RR5_2_RO[StatsHdsList[101]].to_numpy() )\n",
    "rft[SM_NUM:] = 0.0\n",
    "FF_RR5_RO_2_ME = np.fft.irfft(rft)\n",
    "rft = np.fft.rfft( RR5_3_RO[StatsHdsList[101]].to_numpy() )\n",
    "rft[SM_NUM:] = 0.0\n",
    "FF_RR5_RO_3_ME = np.fft.irfft(rft)\n",
    "rft = np.fft.rfft( RR5_4_RO[StatsHdsList[101]].to_numpy() )\n",
    "rft[SM_NUM:] = 0.0\n",
    "FF_RR5_RO_4_ME = np.fft.irfft(rft)"
   ]
  },
  {
   "cell_type": "markdown",
   "metadata": {},
   "source": [
    "Filled confidence interval areas"
   ]
  },
  {
   "cell_type": "code",
   "execution_count": 154,
   "metadata": {},
   "outputs": [],
   "source": [
    "Fil_RR5_AET_2_5 = list( FF_RR5_AET_2_05 )\n",
    "Fil_RR5_AET_3_5 = list( FF_RR5_AET_3_05 )\n",
    "Fil_RR5_AET_4_5 = list( FF_RR5_AET_4_05 )\n",
    "BackDTList = list( FF_RR5_AET_4_95 )\n",
    "Back_AET_4_95 = BackDTList[::-1]\n",
    "BackDTList = list( FF_RR5_AET_3_95 )\n",
    "Back_AET_3_95 = BackDTList[::-1]\n",
    "BackDTList = list( FF_RR5_AET_2_95 )\n",
    "Back_AET_2_95 = BackDTList[::-1]\n",
    "Fil_RR5_AET = deepcopy( Fil_RR5_AET_2_5 )\n",
    "Fil_RR5_AET.extend( Fil_RR5_AET_3_5 )\n",
    "Fil_RR5_AET.extend( Fil_RR5_AET_4_5 )\n",
    "Fil_RR5_AET.extend( Back_AET_4_95 )\n",
    "Fil_RR5_AET.extend( Back_AET_3_95 )\n",
    "Fil_RR5_AET.extend( Back_AET_2_95 )"
   ]
  },
  {
   "cell_type": "code",
   "execution_count": 155,
   "metadata": {},
   "outputs": [],
   "source": [
    "Fil_RR5_RO_2_5 = list( FF_RR5_RO_2_05 )\n",
    "Fil_RR5_RO_3_5 = list( FF_RR5_RO_3_05 )\n",
    "Fil_RR5_RO_4_5 = list( FF_RR5_RO_4_05 )\n",
    "BackDTList = list( FF_RR5_RO_4_95 )\n",
    "Back_RO_4_95 = BackDTList[::-1]\n",
    "BackDTList = list( FF_RR5_RO_3_95 )\n",
    "Back_RO_3_95 = BackDTList[::-1]\n",
    "BackDTList = list( FF_RR5_RO_2_95 )\n",
    "Back_RO_2_95 = BackDTList[::-1]\n",
    "Fil_RR5_RO = deepcopy( Fil_RR5_RO_2_5 )\n",
    "Fil_RR5_RO.extend( Fil_RR5_RO_3_5 )\n",
    "Fil_RR5_RO.extend( Fil_RR5_RO_4_5 )\n",
    "Fil_RR5_RO.extend( Back_RO_4_95 )\n",
    "Fil_RR5_RO.extend( Back_RO_3_95 )\n",
    "Fil_RR5_RO.extend( Back_RO_2_95 )"
   ]
  },
  {
   "cell_type": "markdown",
   "metadata": {},
   "source": [
    "Plot"
   ]
  },
  {
   "cell_type": "code",
   "execution_count": 156,
   "metadata": {},
   "outputs": [
    {
     "data": {
      "text/plain": [
       "'C:\\\\Users\\\\nmart\\\\OneDrive\\\\CC_IRD\\\\Process_Results\\\\Plots\\\\DelBas_RR5_FF3WB.svg'"
      ]
     },
     "execution_count": 156,
     "metadata": {},
     "output_type": "execute_result"
    }
   ],
   "source": [
    "OutSVG = os.path.normpath( os.path.join( OUT_DIR, \"Plots\", \"DelBas_RR5_FF3WB.svg\" ) )\n",
    "OutSVG"
   ]
  },
  {
   "cell_type": "code",
   "execution_count": 157,
   "metadata": {},
   "outputs": [
    {
     "data": {
      "text/plain": [
       "'C:\\\\Users\\\\nmart\\\\OneDrive\\\\CC_IRD\\\\Process_Results\\\\Plots\\\\DelBas_RR5_FF3WB.png'"
      ]
     },
     "execution_count": 157,
     "metadata": {},
     "output_type": "execute_result"
    }
   ],
   "source": [
    "OutPNG = os.path.normpath( os.path.join( OUT_DIR, \"Plots\", \"DelBas_RR5_FF3WB.png\" ) )\n",
    "OutPNG"
   ]
  },
  {
   "cell_type": "code",
   "execution_count": 158,
   "metadata": {},
   "outputs": [
    {
     "data": {
      "text/plain": [
       "'C:\\\\Users\\\\nmart\\\\OneDrive\\\\CC_IRD\\\\Process_Results\\\\Plots\\\\DelBas_RR5_FF3WB.pdf'"
      ]
     },
     "execution_count": 158,
     "metadata": {},
     "output_type": "execute_result"
    }
   ],
   "source": [
    "OutPDF = os.path.normpath( os.path.join( OUT_DIR, \"Plots\", \"DelBas_RR5_FF3WB.pdf\" ) )\n",
    "OutPDF"
   ]
  },
  {
   "cell_type": "code",
   "execution_count": 159,
   "metadata": {},
   "outputs": [],
   "source": [
    "fsTicks = [ -2000.0, 0.0, 2000.0, 4000.0, 6000.0, 8000.0 ]"
   ]
  },
  {
   "cell_type": "code",
   "execution_count": 160,
   "metadata": {},
   "outputs": [
    {
     "data": {
      "image/png": "[encoded data removed]",
      "text/plain": [
       "<Figure size 576x756 with 2 Axes>"
      ]
     },
     "metadata": {
      "needs_background": "light"
     },
     "output_type": "display_data"
    }
   ],
   "source": [
    "Fig1 = plt.figure()\n",
    "Fig1.set_size_inches(8, 10.5)\n",
    "ax31 = Fig1.add_subplot(3,1,1)\n",
    "ax31.plot( [TP_DICT[2][0], TP_DICT[2][0]], [-2000.0, 8000.0], linestyle='-',\n",
    "           linewidth=2, color='xkcd:dark orange' )\n",
    "ax31.plot( [TP_DICT[3][0], TP_DICT[3][0]], [-2000.0, 8000.0], linestyle='-',\n",
    "           linewidth=2, color='xkcd:dark orange' )\n",
    "ax31.plot( [TP_DICT[4][0], TP_DICT[4][0]], [-2000.0, 8000.0], linestyle='-',\n",
    "           linewidth=2, color='xkcd:dark orange' )\n",
    "sfF = ax31.fill( DTTimeList, Fil_RR5_AET, color='xkcd:greyish purple', alpha=0.50, \n",
    "                 label=\"5th to 95th percentile range\" )\n",
    "ax31.plot( RR5_2_AET.index, FF_RR5_AET_2_ME, linestyle='-',\n",
    "           linewidth=3, color='xkcd:blurple', label='Mean' )\n",
    "ax31.plot( RR5_3_AET.index, FF_RR5_AET_3_ME, linestyle='-',\n",
    "           linewidth=3, color='xkcd:blurple' )\n",
    "ax31.plot( RR5_4_AET.index, FF_RR5_AET_4_ME, linestyle='-',\n",
    "           linewidth=3, color='xkcd:blurple' )\n",
    "ax31.plot( RR5_2_AET.index, FF_RR5_AET_2_50, linestyle='dashed',\n",
    "           linewidth=2, color='xkcd:dark lilac', label='Median' )\n",
    "ax31.plot( RR5_3_AET.index, FF_RR5_AET_3_50, linestyle='dashed',\n",
    "           linewidth=2, color='xkcd:dark lilac' )\n",
    "ax31.plot( RR5_4_AET.index, FF_RR5_AET_4_50, linestyle='dashed',\n",
    "           linewidth=2, color='xkcd:dark lilac' )\n",
    "ax31.set_xlim( (dt.datetime(2010, 1, 1), TP_DICT[4][1]))\n",
    "ax31.set_xticks( xTicks )\n",
    "ax31.set_yticks( fsTicks )\n",
    "ax31.set_ylim( (-2000.0, 8000.0) )\n",
    "ax31.grid(True, axis='y', which='both')\n",
    "ax31.set_ylabel('AET $\\Delta$ ($acre-feet$)', fontsize=12)\n",
    "ax31.legend( loc='lower center', fontsize=11.0, ncol=3 )\n",
    "ax31.tick_params(axis='both', which='major', labelsize=11)\n",
    "ax31.tick_params(axis='x', which='major', labelrotation=0.0)\n",
    "ax31.yaxis.set_major_formatter( mpl.ticker.StrMethodFormatter( \"{x:,.1f}\" ) )\n",
    "ax31.xaxis.set_major_formatter( mpl.dates.DateFormatter(\"%Y-%m-%d\") )\n",
    "ax31.annotate(\"A\", xy=(0.96,0.06), xycoords=\"axes fraction\", fontsize=11.0,\n",
    "              backgroundcolor=\"xkcd:light grey\")\n",
    "ax31.annotate(\"Projection Interval 1\", xy=(0.05, 0.90), xycoords=\"axes fraction\",\n",
    "              fontsize=11.0, color=\"xkcd:dark orange\", backgroundcolor=\"xkcd:light grey\" )\n",
    "ax31.annotate(\"Projection Interval 2\", xy=(0.38, 0.90), xycoords=\"axes fraction\",\n",
    "              fontsize=11.0, color=\"xkcd:dark orange\", backgroundcolor=\"xkcd:light grey\" )\n",
    "ax31.annotate(\"Projection Interval 3\", xy=(0.71, 0.90), xycoords=\"axes fraction\",\n",
    "              fontsize=11.0, color=\"xkcd:dark orange\", backgroundcolor=\"xkcd:light grey\" )\n",
    "ax41 = Fig1.add_subplot(3,1,2)\n",
    "ax41.plot( [TP_DICT[2][0], TP_DICT[2][0]], [-2000.0, 8000.0], linestyle='-',\n",
    "           linewidth=2, color='xkcd:dark orange' )\n",
    "ax41.plot( [TP_DICT[3][0], TP_DICT[3][0]], [-2000.0, 8000.0], linestyle='-',\n",
    "           linewidth=2, color='xkcd:dark orange' )\n",
    "ax41.plot( [TP_DICT[4][0], TP_DICT[4][0]], [-2000.0, 8000.0], linestyle='-',\n",
    "           linewidth=2, color='xkcd:dark orange' )\n",
    "sfF = ax41.fill( DTTimeList, Fil_RR5_RO, color='xkcd:dark sand', alpha=0.50, \n",
    "                 label=\"5th to 95th percentile range\")\n",
    "ax41.plot( RR5_2_RO.index, FF_RR5_RO_2_ME, linestyle='-',\n",
    "           linewidth=3, color='xkcd:warm brown', label='Mean' )\n",
    "ax41.plot( RR5_3_RO.index, FF_RR5_RO_3_ME, linestyle='-',\n",
    "           linewidth=3, color='xkcd:warm brown' )\n",
    "ax41.plot( RR5_4_RO.index, FF_RR5_RO_4_ME, linestyle='-',\n",
    "           linewidth=3, color='xkcd:warm brown' )\n",
    "ax41.plot( RR5_2_RO.index, FF_RR5_RO_2_50, linestyle='dashed',\n",
    "           linewidth=2, color='xkcd:mud brown', label='Median' )\n",
    "ax41.plot( RR5_3_RO.index, FF_RR5_RO_3_50, linestyle='dashed',\n",
    "           linewidth=2, color='xkcd:mud brown' )\n",
    "ax41.plot( RR5_4_RO.index, FF_RR5_RO_4_50, linestyle='dashed',\n",
    "           linewidth=2, color='xkcd:mud brown' )\n",
    "ax41.set_xlim( (dt.datetime(2010, 1, 1), TP_DICT[4][1]))\n",
    "ax41.set_xticks( xTicks )\n",
    "ax41.set_yticks( fsTicks )\n",
    "ax41.set_ylim( (-2000.0, 8000.0) )\n",
    "ax41.grid(True, axis='y', which='both')\n",
    "ax41.set_ylabel('Runoff $\\Delta$ ($acre-feet$)', fontsize=12)\n",
    "ax41.legend( loc='lower center', fontsize=11.0, ncol=3 )\n",
    "ax41.tick_params(axis='both', which='major', labelsize=11)\n",
    "ax41.tick_params(axis='x', which='major', labelrotation=0.0)\n",
    "ax41.yaxis.set_major_formatter( mpl.ticker.StrMethodFormatter( \"{x:,.1f}\" ) )\n",
    "ax41.xaxis.set_major_formatter( mpl.dates.DateFormatter(\"%Y-%m-%d\") )\n",
    "ax41.annotate(\"B\", xy=(0.96,0.06), xycoords=\"axes fraction\", fontsize=11.0,\n",
    "              backgroundcolor=\"xkcd:light grey\")\n",
    "ax41.annotate(\"Projection Interval 1\", xy=(0.05, 0.90), xycoords=\"axes fraction\",\n",
    "              fontsize=11.0, color=\"xkcd:dark orange\", backgroundcolor=\"xkcd:light grey\" )\n",
    "ax41.annotate(\"Projection Interval 2\", xy=(0.38, 0.90), xycoords=\"axes fraction\",\n",
    "              fontsize=11.0, color=\"xkcd:dark orange\", backgroundcolor=\"xkcd:light grey\" )\n",
    "ax41.annotate(\"Projection Interval 3\", xy=(0.71, 0.90), xycoords=\"axes fraction\",\n",
    "              fontsize=11.0, color=\"xkcd:dark orange\", backgroundcolor=\"xkcd:light grey\" )\n",
    "Fig1.savefig( OutSVG )\n",
    "Fig1.savefig( OutPNG )\n",
    "Fig1.savefig( OutPDF )"
   ]
  },
  {
   "cell_type": "code",
   "execution_count": null,
   "metadata": {},
   "outputs": [],
   "source": []
  }
 ],
 "metadata": {
  "kernelspec": {
   "display_name": "Python 3",
   "language": "python",
   "name": "python3"
  },
  "language_info": {
   "codemirror_mode": {
    "name": "ipython",
    "version": 3
   },
   "file_extension": ".py",
   "mimetype": "text/x-python",
   "name": "python",
   "nbconvert_exporter": "python",
   "pygments_lexer": "ipython3",
   "version": "3.8.5"
  }
 },
 "nbformat": 4,
 "nbformat_minor": 4
}
