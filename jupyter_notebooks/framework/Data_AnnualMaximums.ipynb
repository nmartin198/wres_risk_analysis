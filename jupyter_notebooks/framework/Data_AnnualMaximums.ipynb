{
 "cells": [
  {
   "cell_type": "markdown",
   "metadata": {},
   "source": [
    "# Data: Process and Plot Annual Maximums"
   ]
  },
  {
   "cell_type": "markdown",
   "metadata": {},
   "source": [
    "The annual maximum, daily precipitation depth was extracted for each simulated year for weighted average daily values that represent the daily mean areal precipitation across the watershed. For PRISM there is only one watershed time series. For LOCA there are 64 models and so there are 64 area-averaged time series."
   ]
  },
  {
   "cell_type": "markdown",
   "metadata": {},
   "source": [
    "## Imports and Parameters"
   ]
  },
  {
   "cell_type": "code",
   "execution_count": 1,
   "metadata": {},
   "outputs": [],
   "source": [
    "%matplotlib inline"
   ]
  },
  {
   "cell_type": "code",
   "execution_count": 2,
   "metadata": {},
   "outputs": [],
   "source": [
    "from IPython.display import display, HTML\n",
    "import numpy as np\n",
    "import pandas as pd\n",
    "import datetime as dt\n",
    "import matplotlib as mpl\n",
    "import matplotlib.pyplot as plt\n",
    "import os\n",
    "import pickle\n",
    "import seaborn as sns\n",
    "from copy import deepcopy"
   ]
  },
  {
   "cell_type": "code",
   "execution_count": 3,
   "metadata": {},
   "outputs": [],
   "source": [
    "IN_DIR = r'C:\\Users\\nmartin\\Documents\\CC_IRD\\Process_Events'\n",
    "PRE_XLSX = \"PRISM_AnnMaxSummary.xlsx\"\n",
    "PRE_SHT = \"Export_WS\"\n",
    "LOCA_DP_ANN_STR = \"Annual_M%d_1981-2010.pickle\"\n",
    "LOCA_P1_ANN_STR = \"Annual_M%d_2011-2040.pickle\"\n",
    "LOCA_P2_ANN_STR = \"Annual_M%d_2041-2070.pickle\"\n",
    "LOCA_P3_ANN_STR = \"Annual_M%d_2071-2100.pickle\"\n",
    "NUM_MODEL = 64"
   ]
  },
  {
   "cell_type": "code",
   "execution_count": 4,
   "metadata": {},
   "outputs": [],
   "source": [
    "OUT_DIR = r'C:\\Users\\nmartin\\Documents\\CC_IRD\\Events'"
   ]
  },
  {
   "cell_type": "markdown",
   "metadata": {},
   "source": [
    "## Import PRISM"
   ]
  },
  {
   "cell_type": "code",
   "execution_count": 5,
   "metadata": {},
   "outputs": [],
   "source": [
    "InFiler = os.path.normpath( os.path.join( IN_DIR, PRE_XLSX ) )\n",
    "PRISM_DF = pd.read_excel( InFiler, sheet_name=PRE_SHT, header=0 )"
   ]
  },
  {
   "cell_type": "code",
   "execution_count": 6,
   "metadata": {},
   "outputs": [
    {
     "data": {
      "text/html": [
       "<table border=\"1\" class=\"dataframe\">\n",
       "  <thead>\n",
       "    <tr style=\"text-align: right;\">\n",
       "      <th></th>\n",
       "      <th>Year</th>\n",
       "      <th>WS_Val_mm</th>\n",
       "    </tr>\n",
       "  </thead>\n",
       "  <tbody>\n",
       "    <tr>\n",
       "      <th>0</th>\n",
       "      <td>1981</td>\n",
       "      <td>60.458145</td>\n",
       "    </tr>\n",
       "    <tr>\n",
       "      <th>1</th>\n",
       "      <td>1982</td>\n",
       "      <td>33.283760</td>\n",
       "    </tr>\n",
       "    <tr>\n",
       "      <th>2</th>\n",
       "      <td>1983</td>\n",
       "      <td>61.166462</td>\n",
       "    </tr>\n",
       "    <tr>\n",
       "      <th>3</th>\n",
       "      <td>1984</td>\n",
       "      <td>57.542528</td>\n",
       "    </tr>\n",
       "    <tr>\n",
       "      <th>4</th>\n",
       "      <td>1985</td>\n",
       "      <td>42.819610</td>\n",
       "    </tr>\n",
       "  </tbody>\n",
       "</table>"
      ],
      "text/plain": [
       "<IPython.core.display.HTML object>"
      ]
     },
     "metadata": {},
     "output_type": "display_data"
    }
   ],
   "source": [
    "display( HTML( PRISM_DF.head().to_html() ) )"
   ]
  },
  {
   "cell_type": "code",
   "execution_count": 7,
   "metadata": {},
   "outputs": [
    {
     "data": {
      "text/plain": [
       "(30,)"
      ]
     },
     "execution_count": 7,
     "metadata": {},
     "output_type": "execute_result"
    }
   ],
   "source": [
    "npPAnn = PRISM_DF['WS_Val_mm'].to_numpy()\n",
    "npPAnn.shape"
   ]
  },
  {
   "cell_type": "code",
   "execution_count": 8,
   "metadata": {},
   "outputs": [
    {
     "data": {
      "text/plain": [
       "(26.4203760068878, 85.4517607183314)"
      ]
     },
     "execution_count": 8,
     "metadata": {},
     "output_type": "execute_result"
    }
   ],
   "source": [
    "npPAnn.min(), npPAnn.max()"
   ]
  },
  {
   "cell_type": "code",
   "execution_count": 9,
   "metadata": {},
   "outputs": [],
   "source": [
    "PRISM_DF = pd.read_excel( InFiler, sheet_name=\"Export_Max\", header=0 )"
   ]
  },
  {
   "cell_type": "code",
   "execution_count": 10,
   "metadata": {},
   "outputs": [],
   "source": [
    "npPrMax = PRISM_DF['Daily_Max'].to_numpy()"
   ]
  },
  {
   "cell_type": "markdown",
   "metadata": {},
   "source": [
    "Output to a pickle in case that want to use it againa later"
   ]
  },
  {
   "cell_type": "code",
   "execution_count": 11,
   "metadata": {},
   "outputs": [],
   "source": [
    "OutFiler = os.path.normpath( os.path.join( OUT_DIR, \"PRISM_DP_AnnMaxDailyPrecip.pickle\" ) )\n",
    "with open( OutFiler, 'wb' ) as OP:\n",
    "    pickle.dump( npPAnn, OP, protocol=pickle.HIGHEST_PROTOCOL )\n",
    "# end with"
   ]
  },
  {
   "cell_type": "markdown",
   "metadata": {},
   "source": [
    "## Import and Process All LOCA Models"
   ]
  },
  {
   "cell_type": "code",
   "execution_count": 12,
   "metadata": {},
   "outputs": [
    {
     "data": {
      "text/plain": [
       "'Annual_M1_1981-2010.pickle'"
      ]
     },
     "execution_count": 12,
     "metadata": {},
     "output_type": "execute_result"
    }
   ],
   "source": [
    "iI = 1\n",
    "cAnnName = LOCA_DP_ANN_STR % iI\n",
    "cAnnName"
   ]
  },
  {
   "cell_type": "code",
   "execution_count": 13,
   "metadata": {},
   "outputs": [],
   "source": [
    "InPickle = os.path.normpath( os.path.join( IN_DIR, cAnnName ) )\n",
    "with open( InPickle, 'rb' ) as IP:\n",
    "    cLADF = pickle.load( IP )\n",
    "# end with"
   ]
  },
  {
   "cell_type": "code",
   "execution_count": 14,
   "metadata": {},
   "outputs": [
    {
     "data": {
      "text/html": [
       "<table border=\"1\" class=\"dataframe\">\n",
       "  <thead>\n",
       "    <tr style=\"text-align: right;\">\n",
       "      <th></th>\n",
       "      <th>62</th>\n",
       "      <th>63</th>\n",
       "      <th>64</th>\n",
       "      <th>76</th>\n",
       "      <th>77</th>\n",
       "      <th>78</th>\n",
       "      <th>79</th>\n",
       "      <th>90</th>\n",
       "      <th>91</th>\n",
       "      <th>92</th>\n",
       "      <th>93</th>\n",
       "      <th>94</th>\n",
       "      <th>104</th>\n",
       "      <th>105</th>\n",
       "      <th>106</th>\n",
       "      <th>107</th>\n",
       "      <th>108</th>\n",
       "      <th>120</th>\n",
       "      <th>121</th>\n",
       "      <th>122</th>\n",
       "      <th>123</th>\n",
       "      <th>137</th>\n",
       "      <th>Daily_Max</th>\n",
       "      <th>WS_Val_mm</th>\n",
       "    </tr>\n",
       "    <tr>\n",
       "      <th>Datetime_UTC</th>\n",
       "      <th></th>\n",
       "      <th></th>\n",
       "      <th></th>\n",
       "      <th></th>\n",
       "      <th></th>\n",
       "      <th></th>\n",
       "      <th></th>\n",
       "      <th></th>\n",
       "      <th></th>\n",
       "      <th></th>\n",
       "      <th></th>\n",
       "      <th></th>\n",
       "      <th></th>\n",
       "      <th></th>\n",
       "      <th></th>\n",
       "      <th></th>\n",
       "      <th></th>\n",
       "      <th></th>\n",
       "      <th></th>\n",
       "      <th></th>\n",
       "      <th></th>\n",
       "      <th></th>\n",
       "      <th></th>\n",
       "      <th></th>\n",
       "    </tr>\n",
       "  </thead>\n",
       "  <tbody>\n",
       "    <tr>\n",
       "      <th>1981-01-01</th>\n",
       "      <td>56.029732</td>\n",
       "      <td>45.762917</td>\n",
       "      <td>44.819126</td>\n",
       "      <td>57.287228</td>\n",
       "      <td>45.932697</td>\n",
       "      <td>46.204517</td>\n",
       "      <td>45.252647</td>\n",
       "      <td>58.381367</td>\n",
       "      <td>46.336330</td>\n",
       "      <td>46.506496</td>\n",
       "      <td>46.443146</td>\n",
       "      <td>46.632103</td>\n",
       "      <td>47.054081</td>\n",
       "      <td>45.274345</td>\n",
       "      <td>45.466148</td>\n",
       "      <td>46.679741</td>\n",
       "      <td>48.266293</td>\n",
       "      <td>45.687531</td>\n",
       "      <td>47.608398</td>\n",
       "      <td>49.828648</td>\n",
       "      <td>52.748913</td>\n",
       "      <td>45.772263</td>\n",
       "      <td>58.381367</td>\n",
       "      <td>47.709315</td>\n",
       "    </tr>\n",
       "    <tr>\n",
       "      <th>1982-01-01</th>\n",
       "      <td>46.288948</td>\n",
       "      <td>43.792271</td>\n",
       "      <td>42.787815</td>\n",
       "      <td>45.200928</td>\n",
       "      <td>43.960720</td>\n",
       "      <td>43.079731</td>\n",
       "      <td>41.207005</td>\n",
       "      <td>45.146664</td>\n",
       "      <td>43.655663</td>\n",
       "      <td>42.975060</td>\n",
       "      <td>42.431515</td>\n",
       "      <td>40.923103</td>\n",
       "      <td>42.705563</td>\n",
       "      <td>42.950039</td>\n",
       "      <td>42.604763</td>\n",
       "      <td>41.843414</td>\n",
       "      <td>40.956177</td>\n",
       "      <td>42.856121</td>\n",
       "      <td>42.155724</td>\n",
       "      <td>41.066048</td>\n",
       "      <td>38.862846</td>\n",
       "      <td>36.171185</td>\n",
       "      <td>46.288948</td>\n",
       "      <td>42.967055</td>\n",
       "    </tr>\n",
       "    <tr>\n",
       "      <th>1983-01-01</th>\n",
       "      <td>19.435532</td>\n",
       "      <td>17.202805</td>\n",
       "      <td>17.655617</td>\n",
       "      <td>22.492928</td>\n",
       "      <td>17.426556</td>\n",
       "      <td>18.066236</td>\n",
       "      <td>18.317924</td>\n",
       "      <td>25.041464</td>\n",
       "      <td>20.022865</td>\n",
       "      <td>19.329683</td>\n",
       "      <td>18.936663</td>\n",
       "      <td>19.370743</td>\n",
       "      <td>26.149403</td>\n",
       "      <td>24.932140</td>\n",
       "      <td>24.730625</td>\n",
       "      <td>24.601929</td>\n",
       "      <td>23.386972</td>\n",
       "      <td>26.641893</td>\n",
       "      <td>26.333366</td>\n",
       "      <td>24.277088</td>\n",
       "      <td>23.950079</td>\n",
       "      <td>29.417276</td>\n",
       "      <td>29.417276</td>\n",
       "      <td>19.946541</td>\n",
       "    </tr>\n",
       "    <tr>\n",
       "      <th>1984-01-01</th>\n",
       "      <td>55.651733</td>\n",
       "      <td>56.606571</td>\n",
       "      <td>61.370392</td>\n",
       "      <td>54.818130</td>\n",
       "      <td>57.330784</td>\n",
       "      <td>60.266537</td>\n",
       "      <td>64.379532</td>\n",
       "      <td>53.984985</td>\n",
       "      <td>57.039959</td>\n",
       "      <td>58.806244</td>\n",
       "      <td>61.766735</td>\n",
       "      <td>54.597145</td>\n",
       "      <td>51.583954</td>\n",
       "      <td>54.212898</td>\n",
       "      <td>56.334713</td>\n",
       "      <td>58.727215</td>\n",
       "      <td>49.862484</td>\n",
       "      <td>51.267567</td>\n",
       "      <td>53.266598</td>\n",
       "      <td>45.801567</td>\n",
       "      <td>37.029312</td>\n",
       "      <td>35.250408</td>\n",
       "      <td>64.379532</td>\n",
       "      <td>56.369007</td>\n",
       "    </tr>\n",
       "    <tr>\n",
       "      <th>1985-01-01</th>\n",
       "      <td>16.177612</td>\n",
       "      <td>17.567995</td>\n",
       "      <td>20.948128</td>\n",
       "      <td>17.442831</td>\n",
       "      <td>17.660505</td>\n",
       "      <td>21.273380</td>\n",
       "      <td>27.104874</td>\n",
       "      <td>17.571556</td>\n",
       "      <td>17.776461</td>\n",
       "      <td>20.392803</td>\n",
       "      <td>26.953533</td>\n",
       "      <td>28.675360</td>\n",
       "      <td>15.142617</td>\n",
       "      <td>15.621329</td>\n",
       "      <td>18.738331</td>\n",
       "      <td>25.547361</td>\n",
       "      <td>27.461937</td>\n",
       "      <td>14.909570</td>\n",
       "      <td>21.470385</td>\n",
       "      <td>24.800037</td>\n",
       "      <td>26.057756</td>\n",
       "      <td>24.568703</td>\n",
       "      <td>28.675360</td>\n",
       "      <td>19.445644</td>\n",
       "    </tr>\n",
       "  </tbody>\n",
       "</table>"
      ],
      "text/plain": [
       "<IPython.core.display.HTML object>"
      ]
     },
     "metadata": {},
     "output_type": "display_data"
    }
   ],
   "source": [
    "display( HTML( cLADF.head().to_html() ) )"
   ]
  },
  {
   "cell_type": "code",
   "execution_count": 15,
   "metadata": {},
   "outputs": [],
   "source": [
    "ExHeader = \"WS_Val_mm\""
   ]
  },
  {
   "cell_type": "code",
   "execution_count": 16,
   "metadata": {},
   "outputs": [],
   "source": [
    "MaxHeader = \"Daily_Max\""
   ]
  },
  {
   "cell_type": "code",
   "execution_count": 17,
   "metadata": {},
   "outputs": [
    {
     "data": {
      "text/plain": [
       "(30,)"
      ]
     },
     "execution_count": 17,
     "metadata": {},
     "output_type": "execute_result"
    }
   ],
   "source": [
    "tstArray = cLADF[ExHeader].to_numpy()\n",
    "tstArray.shape"
   ]
  },
  {
   "cell_type": "code",
   "execution_count": 18,
   "metadata": {},
   "outputs": [
    {
     "data": {
      "text/plain": [
       "(19.169329808352167, 76.61664896671772)"
      ]
     },
     "execution_count": 18,
     "metadata": {},
     "output_type": "execute_result"
    }
   ],
   "source": [
    "tstArray.min(), tstArray.max()"
   ]
  },
  {
   "cell_type": "code",
   "execution_count": 19,
   "metadata": {},
   "outputs": [
    {
     "data": {
      "text/plain": [
       "(60,)"
      ]
     },
     "execution_count": 19,
     "metadata": {},
     "output_type": "execute_result"
    }
   ],
   "source": [
    "tst2 = np.concatenate( [tstArray, tstArray], axis=0 )\n",
    "tst2.shape"
   ]
  },
  {
   "cell_type": "code",
   "execution_count": 20,
   "metadata": {},
   "outputs": [
    {
     "data": {
      "text/plain": [
       "(19.169329808352167, 76.61664896671772)"
      ]
     },
     "execution_count": 20,
     "metadata": {},
     "output_type": "execute_result"
    }
   ],
   "source": [
    "tst2.min(), tst2.max()"
   ]
  },
  {
   "cell_type": "markdown",
   "metadata": {},
   "source": [
    "### Data Period"
   ]
  },
  {
   "cell_type": "code",
   "execution_count": 21,
   "metadata": {},
   "outputs": [],
   "source": [
    "LOCAArrayList = list()"
   ]
  },
  {
   "cell_type": "code",
   "execution_count": 22,
   "metadata": {},
   "outputs": [],
   "source": [
    "LOCAMaxList = list()"
   ]
  },
  {
   "cell_type": "code",
   "execution_count": 23,
   "metadata": {},
   "outputs": [],
   "source": [
    "for iI in range( NUM_MODEL ):\n",
    "    cAnnName = LOCA_DP_ANN_STR % ( iI + 1 )\n",
    "    InPickle = os.path.normpath( os.path.join( IN_DIR, cAnnName ) )\n",
    "    with open( InPickle, 'rb' ) as IP:\n",
    "        cLADF = pickle.load( IP )\n",
    "    # end with\n",
    "    cAnnArray = cLADF[ExHeader].to_numpy()\n",
    "    cAnnMax = cLADF[MaxHeader].to_numpy()\n",
    "    LOCAArrayList.append( cAnnArray )\n",
    "    LOCAMaxList.append( cAnnMax )\n",
    "# end for"
   ]
  },
  {
   "cell_type": "code",
   "execution_count": 24,
   "metadata": {},
   "outputs": [],
   "source": [
    "LOCA_DP = np.concatenate( LOCAArrayList, axis=0 )"
   ]
  },
  {
   "cell_type": "code",
   "execution_count": 25,
   "metadata": {},
   "outputs": [
    {
     "data": {
      "text/plain": [
       "(10.872987979692468, 113.17085077621086)"
      ]
     },
     "execution_count": 25,
     "metadata": {},
     "output_type": "execute_result"
    }
   ],
   "source": [
    "LOCA_DP.min(), LOCA_DP.max()"
   ]
  },
  {
   "cell_type": "code",
   "execution_count": 26,
   "metadata": {},
   "outputs": [],
   "source": [
    "LOMax_DP = np.concatenate( LOCAMaxList, axis=0 )"
   ]
  },
  {
   "cell_type": "code",
   "execution_count": 27,
   "metadata": {},
   "outputs": [
    {
     "data": {
      "text/plain": [
       "(13.994807243347168, 141.0176544189453)"
      ]
     },
     "execution_count": 27,
     "metadata": {},
     "output_type": "execute_result"
    }
   ],
   "source": [
    "LOMax_DP.min(), LOMax_DP.max()"
   ]
  },
  {
   "cell_type": "markdown",
   "metadata": {},
   "source": [
    "Output in case want to use it again"
   ]
  },
  {
   "cell_type": "code",
   "execution_count": 28,
   "metadata": {},
   "outputs": [],
   "source": [
    "OutFiler = os.path.normpath( os.path.join( OUT_DIR, \"LOCA_DP_AnnMaxDailyPrecip.pickle\" ) )\n",
    "with open( OutFiler, 'wb' ) as OP:\n",
    "    pickle.dump( LOCA_DP, OP, protocol=pickle.HIGHEST_PROTOCOL )\n",
    "# end with"
   ]
  },
  {
   "cell_type": "markdown",
   "metadata": {},
   "source": [
    "### Project Period 1"
   ]
  },
  {
   "cell_type": "code",
   "execution_count": 29,
   "metadata": {},
   "outputs": [],
   "source": [
    "LOCAArrayList = list()\n",
    "LOCAMaxList = list()"
   ]
  },
  {
   "cell_type": "code",
   "execution_count": 30,
   "metadata": {},
   "outputs": [],
   "source": [
    "for iI in range( NUM_MODEL ):\n",
    "    cAnnName = LOCA_P1_ANN_STR % ( iI + 1 )\n",
    "    InPickle = os.path.normpath( os.path.join( IN_DIR, cAnnName ) )\n",
    "    with open( InPickle, 'rb' ) as IP:\n",
    "        cLADF = pickle.load( IP )\n",
    "    # end with\n",
    "    cAnnArray = cLADF[ExHeader].to_numpy()\n",
    "    cAnnMax = cLADF[MaxHeader].to_numpy()\n",
    "    LOCAArrayList.append( cAnnArray )\n",
    "    LOCAMaxList.append( cAnnMax )\n",
    "# end for"
   ]
  },
  {
   "cell_type": "code",
   "execution_count": 31,
   "metadata": {},
   "outputs": [],
   "source": [
    "LOCA_P1 = np.concatenate( LOCAArrayList, axis=0 )"
   ]
  },
  {
   "cell_type": "code",
   "execution_count": 32,
   "metadata": {},
   "outputs": [
    {
     "data": {
      "text/plain": [
       "(10.654603048162121, 131.5483300437349)"
      ]
     },
     "execution_count": 32,
     "metadata": {},
     "output_type": "execute_result"
    }
   ],
   "source": [
    "LOCA_P1.min(), LOCA_P1.max()"
   ]
  },
  {
   "cell_type": "code",
   "execution_count": 33,
   "metadata": {},
   "outputs": [],
   "source": [
    "LOMax_P1 = np.concatenate( LOCAMaxList, axis=0 )"
   ]
  },
  {
   "cell_type": "code",
   "execution_count": 34,
   "metadata": {},
   "outputs": [
    {
     "data": {
      "text/plain": [
       "(11.798772811889648, 199.18130493164062)"
      ]
     },
     "execution_count": 34,
     "metadata": {},
     "output_type": "execute_result"
    }
   ],
   "source": [
    "LOMax_P1.min(), LOMax_P1.max()"
   ]
  },
  {
   "cell_type": "markdown",
   "metadata": {},
   "source": [
    "Output in case want to use it again"
   ]
  },
  {
   "cell_type": "code",
   "execution_count": 35,
   "metadata": {},
   "outputs": [],
   "source": [
    "OutFiler = os.path.normpath( os.path.join( OUT_DIR, \"LOCA_P1_AnnMaxDailyPrecip.pickle\" ) )\n",
    "with open( OutFiler, 'wb' ) as OP:\n",
    "    pickle.dump( LOCA_P1, OP, protocol=pickle.HIGHEST_PROTOCOL )\n",
    "# end with"
   ]
  },
  {
   "cell_type": "markdown",
   "metadata": {},
   "source": [
    "### Project Period 2"
   ]
  },
  {
   "cell_type": "code",
   "execution_count": 36,
   "metadata": {},
   "outputs": [],
   "source": [
    "LOCAArrayList = list()\n",
    "LOCAMaxList = list()"
   ]
  },
  {
   "cell_type": "code",
   "execution_count": 37,
   "metadata": {},
   "outputs": [],
   "source": [
    "for iI in range( NUM_MODEL ):\n",
    "    cAnnName = LOCA_P2_ANN_STR % ( iI + 1 )\n",
    "    InPickle = os.path.normpath( os.path.join( IN_DIR, cAnnName ) )\n",
    "    with open( InPickle, 'rb' ) as IP:\n",
    "        cLADF = pickle.load( IP )\n",
    "    # end with\n",
    "    cAnnArray = cLADF[ExHeader].to_numpy()\n",
    "    cAnnMax = cLADF[MaxHeader].to_numpy()\n",
    "    LOCAArrayList.append( cAnnArray )\n",
    "    LOCAMaxList.append( cAnnMax )\n",
    "# end for"
   ]
  },
  {
   "cell_type": "code",
   "execution_count": 38,
   "metadata": {},
   "outputs": [],
   "source": [
    "LOCA_P2 = np.concatenate( LOCAArrayList, axis=0 )"
   ]
  },
  {
   "cell_type": "code",
   "execution_count": 39,
   "metadata": {},
   "outputs": [
    {
     "data": {
      "text/plain": [
       "(7.680177166252065, 143.28409825331778)"
      ]
     },
     "execution_count": 39,
     "metadata": {},
     "output_type": "execute_result"
    }
   ],
   "source": [
    "LOCA_P2.min(), LOCA_P2.max()"
   ]
  },
  {
   "cell_type": "code",
   "execution_count": 40,
   "metadata": {},
   "outputs": [],
   "source": [
    "LOMax_P2 = np.concatenate( LOCAMaxList, axis=0 )"
   ]
  },
  {
   "cell_type": "code",
   "execution_count": 41,
   "metadata": {},
   "outputs": [
    {
     "data": {
      "text/plain": [
       "(9.59360408782959, 191.60682678222656)"
      ]
     },
     "execution_count": 41,
     "metadata": {},
     "output_type": "execute_result"
    }
   ],
   "source": [
    "LOMax_P2.min(), LOMax_P2.max()"
   ]
  },
  {
   "cell_type": "markdown",
   "metadata": {},
   "source": [
    "Output in case want to use it again"
   ]
  },
  {
   "cell_type": "code",
   "execution_count": 42,
   "metadata": {},
   "outputs": [],
   "source": [
    "OutFiler = os.path.normpath( os.path.join( OUT_DIR, \"LOCA_P2_AnnMaxDailyPrecip.pickle\" ) )\n",
    "with open( OutFiler, 'wb' ) as OP:\n",
    "    pickle.dump( LOCA_P2, OP, protocol=pickle.HIGHEST_PROTOCOL )\n",
    "# end with"
   ]
  },
  {
   "cell_type": "markdown",
   "metadata": {},
   "source": [
    "### Project Period 3"
   ]
  },
  {
   "cell_type": "code",
   "execution_count": 43,
   "metadata": {},
   "outputs": [],
   "source": [
    "LOCAArrayList = list()\n",
    "LOCAMaxList = list()"
   ]
  },
  {
   "cell_type": "code",
   "execution_count": 44,
   "metadata": {},
   "outputs": [],
   "source": [
    "for iI in range( NUM_MODEL ):\n",
    "    cAnnName = LOCA_P3_ANN_STR % ( iI + 1 )\n",
    "    InPickle = os.path.normpath( os.path.join( IN_DIR, cAnnName ) )\n",
    "    with open( InPickle, 'rb' ) as IP:\n",
    "        cLADF = pickle.load( IP )\n",
    "    # end with\n",
    "    cAnnArray = cLADF[ExHeader].to_numpy()\n",
    "    cAnnMax = cLADF[MaxHeader].to_numpy()\n",
    "    LOCAArrayList.append( cAnnArray )\n",
    "    LOCAMaxList.append( cAnnMax )\n",
    "# end for"
   ]
  },
  {
   "cell_type": "code",
   "execution_count": 45,
   "metadata": {},
   "outputs": [],
   "source": [
    "LOCA_P3 = np.concatenate( LOCAArrayList, axis=0 )"
   ]
  },
  {
   "cell_type": "code",
   "execution_count": 46,
   "metadata": {},
   "outputs": [
    {
     "data": {
      "text/plain": [
       "(8.240325806391745, 157.31418039071772)"
      ]
     },
     "execution_count": 46,
     "metadata": {},
     "output_type": "execute_result"
    }
   ],
   "source": [
    "LOCA_P3.min(), LOCA_P3.max()"
   ]
  },
  {
   "cell_type": "code",
   "execution_count": 47,
   "metadata": {},
   "outputs": [],
   "source": [
    "LOMax_P3 = np.concatenate( LOCAMaxList, axis=0 )"
   ]
  },
  {
   "cell_type": "code",
   "execution_count": 48,
   "metadata": {},
   "outputs": [
    {
     "data": {
      "text/plain": [
       "(12.089567184448242, 204.9809112548828)"
      ]
     },
     "execution_count": 48,
     "metadata": {},
     "output_type": "execute_result"
    }
   ],
   "source": [
    "LOMax_P3.min(), LOMax_P3.max()"
   ]
  },
  {
   "cell_type": "markdown",
   "metadata": {},
   "source": [
    "Output in case want to use it again"
   ]
  },
  {
   "cell_type": "code",
   "execution_count": 49,
   "metadata": {},
   "outputs": [],
   "source": [
    "OutFiler = os.path.normpath( os.path.join( OUT_DIR, \"LOCA_P3_AnnMaxDailyPrecip.pickle\" ) )\n",
    "with open( OutFiler, 'wb' ) as OP:\n",
    "    pickle.dump( LOCA_P3, OP, protocol=pickle.HIGHEST_PROTOCOL )\n",
    "# end with"
   ]
  },
  {
   "cell_type": "markdown",
   "metadata": {},
   "source": [
    "## Plots"
   ]
  },
  {
   "cell_type": "markdown",
   "metadata": {},
   "source": [
    "Use the next four lines if just want to load exiting dataframes for plotting"
   ]
  },
  {
   "cell_type": "code",
   "execution_count": 50,
   "metadata": {},
   "outputs": [],
   "source": [
    "InFiler = os.path.normpath( os.path.join( OUT_DIR, \"PRISM_DP_AnnMaxDailyPrecip.pickle\" ) )\n",
    "npPAnn = pd.read_pickle( InFiler )"
   ]
  },
  {
   "cell_type": "code",
   "execution_count": 51,
   "metadata": {},
   "outputs": [],
   "source": [
    "InFiler = os.path.normpath( os.path.join( OUT_DIR, \"LOCA_DP_AnnMaxDailyPrecip.pickle\" ) )\n",
    "LOCA_DP = pd.read_pickle( InFiler )"
   ]
  },
  {
   "cell_type": "code",
   "execution_count": 52,
   "metadata": {},
   "outputs": [],
   "source": [
    "InFiler = os.path.normpath( os.path.join( OUT_DIR, \"LOCA_P1_AnnMaxDailyPrecip.pickle\" ) )\n",
    "LOCA_P1 = pd.read_pickle( InFiler )"
   ]
  },
  {
   "cell_type": "code",
   "execution_count": 53,
   "metadata": {},
   "outputs": [],
   "source": [
    "InFiler = os.path.normpath( os.path.join( OUT_DIR, \"LOCA_P2_AnnMaxDailyPrecip.pickle\" ) )\n",
    "LOCA_P2 = pd.read_pickle( InFiler )"
   ]
  },
  {
   "cell_type": "code",
   "execution_count": 54,
   "metadata": {},
   "outputs": [],
   "source": [
    "InFiler = os.path.normpath( os.path.join( OUT_DIR, \"LOCA_P3_AnnMaxDailyPrecip.pickle\" ) )\n",
    "LOCA_P3 = pd.read_pickle( InFiler )"
   ]
  },
  {
   "cell_type": "markdown",
   "metadata": {},
   "source": [
    "For this example, use one plot with 4 split violins. Each violin corresponds to one analysis interval."
   ]
  },
  {
   "cell_type": "code",
   "execution_count": 55,
   "metadata": {},
   "outputs": [],
   "source": [
    "sns.set(style=\"whitegrid\", palette=\"pastel\", color_codes=True)"
   ]
  },
  {
   "cell_type": "markdown",
   "metadata": {},
   "source": [
    "#### Make DataFrame for Split Violin"
   ]
  },
  {
   "cell_type": "code",
   "execution_count": 56,
   "metadata": {},
   "outputs": [
    {
     "data": {
      "text/plain": [
       "30"
      ]
     },
     "execution_count": 56,
     "metadata": {},
     "output_type": "execute_result"
    }
   ],
   "source": [
    "NumPRISM = npPAnn.shape[0]\n",
    "NumPRISM"
   ]
  },
  {
   "cell_type": "code",
   "execution_count": 57,
   "metadata": {},
   "outputs": [
    {
     "data": {
      "text/plain": [
       "1920"
      ]
     },
     "execution_count": 57,
     "metadata": {},
     "output_type": "execute_result"
    }
   ],
   "source": [
    "NumDP_LOCA = LOCA_DP.shape[0]\n",
    "NumDP_LOCA"
   ]
  },
  {
   "cell_type": "code",
   "execution_count": 58,
   "metadata": {},
   "outputs": [
    {
     "data": {
      "text/plain": [
       "1920"
      ]
     },
     "execution_count": 58,
     "metadata": {},
     "output_type": "execute_result"
    }
   ],
   "source": [
    "NumP1_LOCA = LOCA_P1.shape[0]\n",
    "NumP1_LOCA"
   ]
  },
  {
   "cell_type": "code",
   "execution_count": 59,
   "metadata": {},
   "outputs": [
    {
     "data": {
      "text/plain": [
       "1920"
      ]
     },
     "execution_count": 59,
     "metadata": {},
     "output_type": "execute_result"
    }
   ],
   "source": [
    "NumP2_LOCA = LOCA_P2.shape[0]\n",
    "NumP2_LOCA"
   ]
  },
  {
   "cell_type": "code",
   "execution_count": 60,
   "metadata": {},
   "outputs": [
    {
     "data": {
      "text/plain": [
       "1856"
      ]
     },
     "execution_count": 60,
     "metadata": {},
     "output_type": "execute_result"
    }
   ],
   "source": [
    "NumP3_LOCA = LOCA_P3.shape[0]\n",
    "NumP3_LOCA"
   ]
  },
  {
   "cell_type": "code",
   "execution_count": 61,
   "metadata": {},
   "outputs": [],
   "source": [
    "PRISM_Labels = [ \"PRISM 1981-2010\" for x in range( NumPRISM ) ]\n",
    "LOCA_DP_Labels = [ \"LOCA\" for x in range( NumDP_LOCA ) ]\n",
    "LOCA_P1_Labels = [ \"LOCA\" for x in range( NumP1_LOCA ) ]\n",
    "LOCA_P2_Labels = [ \"LOCA\" for x in range( NumP2_LOCA ) ]\n",
    "LOCA_P3_Labels = [ \"LOCA\" for x in range( NumP3_LOCA ) ]"
   ]
  },
  {
   "cell_type": "code",
   "execution_count": 62,
   "metadata": {},
   "outputs": [
    {
     "data": {
      "text/plain": [
       "7736"
      ]
     },
     "execution_count": 62,
     "metadata": {},
     "output_type": "execute_result"
    }
   ],
   "source": [
    "AllLabels = deepcopy( PRISM_Labels )\n",
    "AllLabels.extend( LOCA_DP_Labels )\n",
    "AllLabels.extend( PRISM_Labels )\n",
    "AllLabels.extend( LOCA_P1_Labels )\n",
    "AllLabels.extend( PRISM_Labels )\n",
    "AllLabels.extend( LOCA_P2_Labels )\n",
    "AllLabels.extend( PRISM_Labels )\n",
    "AllLabels.extend( LOCA_P3_Labels )\n",
    "DPTotLen = len( AllLabels )\n",
    "DPTotLen"
   ]
  },
  {
   "cell_type": "code",
   "execution_count": 63,
   "metadata": {},
   "outputs": [],
   "source": [
    "Interval_PRISM_DP = [ \"1981-2010\" for x in range( NumPRISM ) ]\n",
    "Interval_PRISM_P1 = [ \"2011-2040\" for x in range( NumPRISM ) ] \n",
    "Interval_PRISM_P2 = [ \"2041-2070\" for x in range( NumPRISM ) ] \n",
    "Interval_PRISM_P3 = [ \"2071-2099\" for x in range( NumPRISM ) ]\n",
    "Interval_LOCA_DP = [ \"1981-2010\" for x in range( NumDP_LOCA ) ]\n",
    "Interval_LOCA_P1 = [ \"2011-2040\" for x in range( NumP1_LOCA ) ] \n",
    "Interval_LOCA_P2 = [ \"2041-2070\" for x in range( NumP2_LOCA ) ] \n",
    "Interval_LOCA_P3 = [ \"2071-2099\" for x in range( NumP3_LOCA ) ] "
   ]
  },
  {
   "cell_type": "code",
   "execution_count": 64,
   "metadata": {},
   "outputs": [],
   "source": [
    "AllIntervals = deepcopy( Interval_PRISM_DP )\n",
    "AllIntervals.extend( Interval_LOCA_DP )\n",
    "AllIntervals.extend( Interval_PRISM_P1 )\n",
    "AllIntervals.extend( Interval_LOCA_P1 )\n",
    "AllIntervals.extend( Interval_PRISM_P2 )\n",
    "AllIntervals.extend( Interval_LOCA_P2 )\n",
    "AllIntervals.extend( Interval_PRISM_P3 )\n",
    "AllIntervals.extend( Interval_LOCA_P3 )"
   ]
  },
  {
   "cell_type": "code",
   "execution_count": 65,
   "metadata": {},
   "outputs": [
    {
     "data": {
      "text/plain": [
       "(7736,)"
      ]
     },
     "execution_count": 65,
     "metadata": {},
     "output_type": "execute_result"
    }
   ],
   "source": [
    "AllValues = np.concatenate( [ npPAnn, LOCA_DP, npPAnn, LOCA_P1, npPAnn, LOCA_P2, npPAnn, LOCA_P3 ], axis=0 )\n",
    "AllValues.shape"
   ]
  },
  {
   "cell_type": "code",
   "execution_count": 66,
   "metadata": {},
   "outputs": [
    {
     "data": {
      "text/plain": [
       "(7736,)"
      ]
     },
     "execution_count": 66,
     "metadata": {},
     "output_type": "execute_result"
    }
   ],
   "source": [
    "AllMaxes = np.concatenate( [ npPrMax, LOMax_DP, npPrMax, LOMax_P1, npPrMax, LOMax_P2, npPrMax, LOMax_P3 ], axis=0 )\n",
    "AllMaxes.shape"
   ]
  },
  {
   "cell_type": "code",
   "execution_count": 67,
   "metadata": {},
   "outputs": [],
   "source": [
    "DataDict = { \"Interval\" :AllIntervals,\n",
    "             \"DLabel\" : AllLabels,\n",
    "             \"AnnMax\" : AllValues, }\n",
    "DPDF = pd.DataFrame( data=DataDict )"
   ]
  },
  {
   "cell_type": "code",
   "execution_count": 68,
   "metadata": {},
   "outputs": [],
   "source": [
    "DataDict = { \"Interval\" :AllIntervals,\n",
    "             \"DLabel\" : AllLabels,\n",
    "             \"AnnMax\" : AllMaxes, }\n",
    "DPMaxDF = pd.DataFrame( data=DataDict )"
   ]
  },
  {
   "cell_type": "code",
   "execution_count": 69,
   "metadata": {},
   "outputs": [],
   "source": [
    "preTicks = [ 10.0, 50.0, 100.0, 200.0, 300.0 ]"
   ]
  },
  {
   "cell_type": "code",
   "execution_count": 70,
   "metadata": {},
   "outputs": [],
   "source": [
    "NOAA_24hr_2y = 76.0\n",
    "NOAA_24hr_10y = 127.4\n",
    "NOAA_24hr_25y = 167.3\n",
    "NOAA_24hr_50y = 202.3\n",
    "NOAA_24hr_100y = 242.7"
   ]
  },
  {
   "cell_type": "code",
   "execution_count": 71,
   "metadata": {},
   "outputs": [
    {
     "data": {
      "text/plain": [
       "(76.0, 127.4, 167.3, 202.3, 242.7)"
      ]
     },
     "execution_count": 71,
     "metadata": {},
     "output_type": "execute_result"
    }
   ],
   "source": [
    "NOAA_24hr_2y, NOAA_24hr_10y, NOAA_24hr_25y, NOAA_24hr_50y, NOAA_24hr_100y"
   ]
  },
  {
   "cell_type": "markdown",
   "metadata": {},
   "source": [
    "#### Violin Plot"
   ]
  },
  {
   "cell_type": "code",
   "execution_count": 72,
   "metadata": {},
   "outputs": [
    {
     "data": {
      "text/plain": [
       "'C:\\\\Users\\\\nmartin\\\\Documents\\\\CC_IRD\\\\Events\\\\Plots\\\\AnnMax_DailyPrecipTot_1981-2010.svg'"
      ]
     },
     "execution_count": 72,
     "metadata": {},
     "output_type": "execute_result"
    }
   ],
   "source": [
    "OutSVG = os.path.normpath( os.path.join( OUT_DIR, \"Plots\", \"AnnMax_DailyPrecipTot_1981-2010.svg\") )\n",
    "OutSVG"
   ]
  },
  {
   "cell_type": "code",
   "execution_count": 73,
   "metadata": {},
   "outputs": [
    {
     "data": {
      "text/plain": [
       "'C:\\\\Users\\\\nmartin\\\\Documents\\\\CC_IRD\\\\Events\\\\Plots\\\\AnnMax_DailyPrecipTot_1981-2010.png'"
      ]
     },
     "execution_count": 73,
     "metadata": {},
     "output_type": "execute_result"
    }
   ],
   "source": [
    "OutPNG = os.path.normpath( os.path.join( OUT_DIR, \"Plots\", \"AnnMax_DailyPrecipTot_1981-2010.png\") )\n",
    "OutPNG"
   ]
  },
  {
   "cell_type": "code",
   "execution_count": 74,
   "metadata": {},
   "outputs": [
    {
     "data": {
      "image/png": "[encoded data removed]",
      "text/plain": [
       "<Figure size 720x432 with 1 Axes>"
      ]
     },
     "metadata": {},
     "output_type": "display_data"
    }
   ],
   "source": [
    "Fig1 = plt.figure()\n",
    "Fig1.set_size_inches(10.0, 6.0)\n",
    "ax11 = Fig1.add_subplot(111)\n",
    "g = sns.violinplot( x=\"Interval\", y=\"AnnMax\", hue=\"DLabel\", split=True,\n",
    "                inner=\"quart\", cut=0, linewidth=1.2,\n",
    "                palette={ \"PRISM 1981-2010\" : \"xkcd:sky blue\", \n",
    "                          \"LOCA\" : \"xkcd:tangerine\" },\n",
    "                data=DPDF, ax=ax11, legend_out=True )\n",
    "xAxTup = g.get_xlim( )\n",
    "y100, = g.plot( [xAxTup[0], xAxTup[1]], [ NOAA_24hr_100y, NOAA_24hr_100y ], linewidth=2.0,\n",
    "                 linestyle='solid', color='xkcd:black', label=\"100-year, daily\" )\n",
    "y50, = g.plot( [xAxTup[0], xAxTup[1]], [ NOAA_24hr_50y, NOAA_24hr_50y ], linewidth=2.0,\n",
    "                linestyle='dashed', color='xkcd:steel', label=\"50-year, daily\" )\n",
    "y10, = g.plot( [xAxTup[0], xAxTup[1]], [ NOAA_24hr_25y, NOAA_24hr_25y ], linewidth=2.0,\n",
    "                linestyle='dotted', color='xkcd:steel', label=\"25-year, daily\" )\n",
    "y2, = g.plot( [xAxTup[0], xAxTup[1]], [ NOAA_24hr_2y, NOAA_24hr_2y ], linewidth=2.0,\n",
    "                linestyle='solid', color='xkcd:steel', label=\"2-year, daily\" )\n",
    "g.legend(loc=\"lower left\", ncol=2, fontsize=11)\n",
    "g.set_yscale('log')\n",
    "g.grid(b=True, which=\"both\", axis='y')\n",
    "g.set_yticks( preTicks )\n",
    "g.set_xlabel('', fontsize=12 )\n",
    "g.set_ylabel('Annual Maximum Daily Precipitation Depth ($mm$)', fontsize=12)\n",
    "g.set_ylim( ( 5.0, 300.0 ))\n",
    "g.tick_params(axis='both', which='major', labelsize=11)\n",
    "g.yaxis.set_major_formatter( mpl.ticker.StrMethodFormatter( \"{x:,.1f}\" ) )\n",
    "Fig1.savefig( OutSVG )\n",
    "Fig1.savefig( OutPNG )"
   ]
  },
  {
   "cell_type": "code",
   "execution_count": 75,
   "metadata": {},
   "outputs": [
    {
     "data": {
      "text/plain": [
       "'C:\\\\Users\\\\nmartin\\\\Documents\\\\CC_IRD\\\\Events\\\\Plots\\\\AnnGMax_DailyPrecipTot.svg'"
      ]
     },
     "execution_count": 75,
     "metadata": {},
     "output_type": "execute_result"
    }
   ],
   "source": [
    "OutSVG = os.path.normpath( os.path.join( OUT_DIR, \"Plots\", \"AnnGMax_DailyPrecipTot.svg\") )\n",
    "OutSVG"
   ]
  },
  {
   "cell_type": "code",
   "execution_count": 76,
   "metadata": {},
   "outputs": [
    {
     "data": {
      "text/plain": [
       "'C:\\\\Users\\\\nmartin\\\\Documents\\\\CC_IRD\\\\Events\\\\Plots\\\\AnnGMax_DailyPrecipTot.png'"
      ]
     },
     "execution_count": 76,
     "metadata": {},
     "output_type": "execute_result"
    }
   ],
   "source": [
    "OutPNG = os.path.normpath( os.path.join( OUT_DIR, \"Plots\", \"AnnGMax_DailyPrecipTot.png\") )\n",
    "OutPNG"
   ]
  },
  {
   "cell_type": "code",
   "execution_count": 77,
   "metadata": {},
   "outputs": [
    {
     "data": {
      "image/png": "[encoded data removed]",
      "text/plain": [
       "<Figure size 720x432 with 1 Axes>"
      ]
     },
     "metadata": {},
     "output_type": "display_data"
    }
   ],
   "source": [
    "Fig1 = plt.figure()\n",
    "Fig1.set_size_inches(10.0, 6.0)\n",
    "ax11 = Fig1.add_subplot(111)\n",
    "g = sns.violinplot( x=\"Interval\", y=\"AnnMax\", hue=\"DLabel\", split=True,\n",
    "                inner=\"quart\", cut=0, linewidth=1.2,\n",
    "                palette={ \"PRISM 1981-2010\" : \"xkcd:sky blue\", \n",
    "                          \"LOCA\" : \"xkcd:tangerine\" },\n",
    "                data=DPMaxDF, ax=ax11, legend_out=True )\n",
    "xAxTup = g.get_xlim( )\n",
    "y100, = g.plot( [xAxTup[0], xAxTup[1]], [ NOAA_24hr_100y, NOAA_24hr_100y ], linewidth=2.0,\n",
    "                 linestyle='solid', color='xkcd:black', label=\"100-year, daily\" )\n",
    "y50, = g.plot( [xAxTup[0], xAxTup[1]], [ NOAA_24hr_50y, NOAA_24hr_50y ], linewidth=2.0,\n",
    "                linestyle='dashed', color='xkcd:steel', label=\"50-year, daily\" )\n",
    "y10, = g.plot( [xAxTup[0], xAxTup[1]], [ NOAA_24hr_25y, NOAA_24hr_25y ], linewidth=2.0,\n",
    "                linestyle='dotted', color='xkcd:steel', label=\"25-year, daily\" )\n",
    "y2, = g.plot( [xAxTup[0], xAxTup[1]], [ NOAA_24hr_2y, NOAA_24hr_2y ], linewidth=2.0,\n",
    "                linestyle='solid', color='xkcd:steel', label=\"2-year, daily\" )\n",
    "g.legend(loc=\"lower left\", ncol=2, fontsize=11)\n",
    "g.set_yscale('log')\n",
    "g.grid(b=True, which=\"both\", axis='y')\n",
    "g.set_yticks( preTicks )\n",
    "g.set_xlabel('', fontsize=12 )\n",
    "g.set_ylabel('Annual Maximum Daily Precipitation Depth ($mm$)', fontsize=12)\n",
    "g.set_ylim( ( 5.0, 300.0 ))\n",
    "g.tick_params(axis='both', which='major', labelsize=11)\n",
    "g.yaxis.set_major_formatter( mpl.ticker.StrMethodFormatter( \"{x:,.1f}\" ) )\n",
    "Fig1.savefig( OutSVG )\n",
    "Fig1.savefig( OutPNG )"
   ]
  },
  {
   "cell_type": "markdown",
   "metadata": {},
   "source": [
    "#### Box and Whisker"
   ]
  },
  {
   "cell_type": "code",
   "execution_count": null,
   "metadata": {},
   "outputs": [],
   "source": [
    "OutSVG = os.path.normpath( os.path.join( OUT_DIR, \"Plots\", \"AnnMax_DailyPrecipTot_BW_1981-2010.svg\") )\n",
    "OutSVG"
   ]
  },
  {
   "cell_type": "code",
   "execution_count": null,
   "metadata": {},
   "outputs": [],
   "source": [
    "OutPNG = os.path.normpath( os.path.join( OUT_DIR, \"Plots\", \"AnnMax_DailyPrecipTot_BW_1981-2010.png\") )\n",
    "OutPNG"
   ]
  },
  {
   "cell_type": "code",
   "execution_count": null,
   "metadata": {},
   "outputs": [],
   "source": [
    "Fig1 = plt.figure()\n",
    "Fig1.set_size_inches(10.0, 6.0)\n",
    "ax11 = Fig1.add_subplot(111)\n",
    "g = sns.boxplot( x=\"Interval\", y=\"AnnMax\", hue=\"DLabel\",\n",
    "                 dodge=True, linewidth=1.2, orient=\"v\", showmeans=True,\n",
    "                palette={ \"PRISM 1981-2010\" : \"xkcd:sky blue\", \n",
    "                          \"LOCA\" : \"xkcd:tangerine\" },\n",
    "                data=DPDF, ax=ax11 )\n",
    "xAxTup = g.get_xlim( )\n",
    "y100, = g.plot( [xAxTup[0], xAxTup[1]], [ NOAA_24hr_100y, NOAA_24hr_100y ], linewidth=2.0,\n",
    "                 linestyle='solid', color='xkcd:black', label=\"100-year, daily\" )\n",
    "y50, = g.plot( [xAxTup[0], xAxTup[1]], [ NOAA_24hr_50y, NOAA_24hr_50y ], linewidth=2.0,\n",
    "                linestyle='dashed', color='xkcd:steel', label=\"50-year, daily\" )\n",
    "y25, = g.plot( [xAxTup[0], xAxTup[1]], [ NOAA_24hr_25y, NOAA_24hr_25y ], linewidth=2.0,\n",
    "                linestyle='dotted', color='xkcd:steel', label=\"25-year, daily\" )\n",
    "y2, = g.plot( [xAxTup[0], xAxTup[1]], [ NOAA_24hr_2y, NOAA_24hr_2y ], linewidth=2.0,\n",
    "                linestyle='solid', color='xkcd:steel', label=\"2-year, daily\" )\n",
    "g.legend(loc=\"lower left\", ncol=2, fontsize=11)\n",
    "g.set_yscale('log')\n",
    "g.grid(b=True, which=\"both\", axis='y')\n",
    "g.set_yticks( preTicks )\n",
    "g.set_xlabel('', fontsize=12 )\n",
    "g.set_ylabel('Annual Maximum Daily Precipitation Depth ($mm$)', fontsize=12)\n",
    "g.set_ylim( ( 5.0, 300.0 ))\n",
    "g.tick_params(axis='both', which='major', labelsize=11)\n",
    "g.yaxis.set_major_formatter( mpl.ticker.StrMethodFormatter( \"{x:,.1f}\" ) )\n",
    "Fig1.savefig( OutSVG )\n",
    "Fig1.savefig( OutPNG )"
   ]
  },
  {
   "cell_type": "markdown",
   "metadata": {},
   "source": [
    "#### Boxen "
   ]
  },
  {
   "cell_type": "code",
   "execution_count": null,
   "metadata": {},
   "outputs": [],
   "source": [
    "OutSVG = os.path.normpath( os.path.join( OUT_DIR, \"Plots\", \"AnnMax_DailyPrecipTot_BXN_1981-2010.svg\") )\n",
    "OutSVG"
   ]
  },
  {
   "cell_type": "code",
   "execution_count": null,
   "metadata": {},
   "outputs": [],
   "source": [
    "OutPNG = os.path.normpath( os.path.join( OUT_DIR, \"Plots\", \"AnnMax_DailyPrecipTot_BXN_1981-2010.png\") )\n",
    "OutPNG"
   ]
  },
  {
   "cell_type": "code",
   "execution_count": null,
   "metadata": {},
   "outputs": [],
   "source": [
    "Fig1 = plt.figure()\n",
    "Fig1.set_size_inches(10.0, 6.0)\n",
    "ax11 = Fig1.add_subplot(111)\n",
    "g = sns.boxenplot( x=\"Interval\", y=\"AnnMax\", hue=\"DLabel\",\n",
    "                   dodge=True, linewidth=1.2, orient=\"v\",\n",
    "                   palette={ \"PRISM 1981-2010\" : \"xkcd:sky blue\", \n",
    "                             \"LOCA\" : \"xkcd:tangerine\" },\n",
    "                   data=DPDF, ax=ax11 )\n",
    "xAxTup = g.get_xlim( )\n",
    "y100, = g.plot( [xAxTup[0], xAxTup[1]], [ NOAA_24hr_100y, NOAA_24hr_100y ], linewidth=2.0,\n",
    "                 linestyle='solid', color='xkcd:black', label=\"100-year, daily\" )\n",
    "y50, = g.plot( [xAxTup[0], xAxTup[1]], [ NOAA_24hr_50y, NOAA_24hr_50y ], linewidth=2.0,\n",
    "                linestyle='dashed', color='xkcd:steel', label=\"50-year, daily\" )\n",
    "y25, = g.plot( [xAxTup[0], xAxTup[1]], [ NOAA_24hr_25y, NOAA_24hr_25y ], linewidth=2.0,\n",
    "                linestyle='dotted', color='xkcd:steel', label=\"25-year, daily\" )\n",
    "y2, = g.plot( [xAxTup[0], xAxTup[1]], [ NOAA_24hr_2y, NOAA_24hr_2y ], linewidth=2.0,\n",
    "                linestyle='solid', color='xkcd:steel', label=\"2-year, daily\" )\n",
    "g.legend(loc=\"lower left\", ncol=2, fontsize=11)\n",
    "g.set_yscale('log')\n",
    "g.grid(b=True, which=\"both\", axis='y')\n",
    "g.set_yticks( preTicks )\n",
    "g.set_xlabel('', fontsize=12 )\n",
    "g.set_ylabel('Annual Maximum Daily Precipitation Depth ($mm$)', fontsize=12)\n",
    "g.set_ylim( ( 5.0, 300.0 ))\n",
    "g.tick_params(axis='both', which='major', labelsize=11)\n",
    "g.yaxis.set_major_formatter( mpl.ticker.StrMethodFormatter( \"{x:,.1f}\" ) )\n",
    "Fig1.savefig( OutSVG )\n",
    "Fig1.savefig( OutPNG )"
   ]
  },
  {
   "cell_type": "code",
   "execution_count": null,
   "metadata": {},
   "outputs": [],
   "source": []
  }
 ],
 "metadata": {
  "kernelspec": {
   "display_name": "Python 3",
   "language": "python",
   "name": "python3"
  },
  "language_info": {
   "codemirror_mode": {
    "name": "ipython",
    "version": 3
   },
   "file_extension": ".py",
   "mimetype": "text/x-python",
   "name": "python",
   "nbconvert_exporter": "python",
   "pygments_lexer": "ipython3",
   "version": "3.8.5"
  }
 },
 "nbformat": 4,
 "nbformat_minor": 4
}
